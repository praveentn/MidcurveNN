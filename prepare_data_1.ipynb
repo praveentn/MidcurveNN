{
  "nbformat": 4,
  "nbformat_minor": 0,
  "metadata": {
    "kernelspec": {
      "display_name": "Python 3",
      "language": "python",
      "name": "python3"
    },
    "language_info": {
      "codemirror_mode": {
        "name": "ipython",
        "version": 3
      },
      "file_extension": ".py",
      "mimetype": "text/x-python",
      "name": "python",
      "nbconvert_exporter": "python",
      "pygments_lexer": "ipython3",
      "version": "3.7.4"
    },
    "colab": {
      "name": "prepare_data_1.ipynb",
      "version": "0.3.2",
      "provenance": [],
      "include_colab_link": true
    }
  },
  "cells": [
    {
      "cell_type": "markdown",
      "metadata": {
        "id": "view-in-github",
        "colab_type": "text"
      },
      "source": [
        "<a href=\"https://colab.research.google.com/github/praveentn/MidcurveNN/blob/master/prepare_data_1.ipynb\" target=\"_parent\"><img src=\"https://colab.research.google.com/assets/colab-badge.svg\" alt=\"Open In Colab\"/></a>"
      ]
    },
    {
      "cell_type": "markdown",
      "metadata": {
        "id": "QyGh4_-HETAK",
        "colab_type": "text"
      },
      "source": [
        "## Prepare data"
      ]
    },
    {
      "cell_type": "code",
      "metadata": {
        "id": "wn4r1dSuEl-a",
        "colab_type": "code",
        "colab": {
          "base_uri": "https://localhost:8080/",
          "height": 156
        },
        "outputId": "ca0e2f38-77a1-482b-aba6-df315a5196b0"
      },
      "source": [
        "# mount google drive & set working directory\n",
        "# requires auth (click on url & copy token into text box when prompted)\n",
        "from google.colab import drive\n",
        "drive.mount(\"/content/gdrive\")\n",
        "\n",
        "import os\n",
        "print(os.getcwd())\n",
        "\n",
        "os.chdir('/content/gdrive/My Drive/Colab Notebooks/MidcurveNN')\n",
        "!pwd"
      ],
      "execution_count": 3,
      "outputs": [
        {
          "output_type": "stream",
          "text": [
            "Go to this URL in a browser: https://accounts.google.com/o/oauth2/auth?client_id=947318989803-6bn6qk8qdgf4n4g3pfee6491hc0brc4i.apps.googleusercontent.com&redirect_uri=urn%3Aietf%3Awg%3Aoauth%3A2.0%3Aoob&scope=email%20https%3A%2F%2Fwww.googleapis.com%2Fauth%2Fdocs.test%20https%3A%2F%2Fwww.googleapis.com%2Fauth%2Fdrive%20https%3A%2F%2Fwww.googleapis.com%2Fauth%2Fdrive.photos.readonly%20https%3A%2F%2Fwww.googleapis.com%2Fauth%2Fpeopleapi.readonly&response_type=code\n",
            "\n",
            "Enter your authorization code:\n",
            "··········\n",
            "Mounted at /content/gdrive\n",
            "/content\n",
            "/content/gdrive/My Drive/Colab Notebooks/MidcurveNN\n"
          ],
          "name": "stdout"
        }
      ]
    },
    {
      "cell_type": "code",
      "metadata": {
        "id": "4rrTU9uTFSEM",
        "colab_type": "code",
        "colab": {
          "base_uri": "https://localhost:8080/",
          "height": 561
        },
        "outputId": "1cd52c0b-e727-40de-dedd-5507f7823867"
      },
      "source": [
        "!pip install drawSVG"
      ],
      "execution_count": 11,
      "outputs": [
        {
          "output_type": "stream",
          "text": [
            "Collecting drawSVG\n",
            "  Downloading https://files.pythonhosted.org/packages/ee/a1/ea85ba2b4fff65055bbd7e896dbaea1a636518ececda76492eedfecc653a/drawSvg-1.2.2.tar.gz\n",
            "Collecting cairoSVG (from drawSVG)\n",
            "\u001b[?25l  Downloading https://files.pythonhosted.org/packages/fd/97/d0f51b1022aecdc3b77385daea0292f3978ec26fee31e65e8a1592ebeff1/CairoSVG-2.4.0-py3-none-any.whl (50kB)\n",
            "\u001b[K     |████████████████████████████████| 51kB 6.9MB/s \n",
            "\u001b[?25hRequirement already satisfied: numpy in /usr/local/lib/python3.6/dist-packages (from drawSVG) (1.16.4)\n",
            "Requirement already satisfied: imageio in /usr/local/lib/python3.6/dist-packages (from drawSVG) (2.4.1)\n",
            "Requirement already satisfied: defusedxml in /usr/local/lib/python3.6/dist-packages (from cairoSVG->drawSVG) (0.6.0)\n",
            "Requirement already satisfied: pillow in /usr/local/lib/python3.6/dist-packages (from cairoSVG->drawSVG) (4.3.0)\n",
            "Collecting tinycss2 (from cairoSVG->drawSVG)\n",
            "\u001b[?25l  Downloading https://files.pythonhosted.org/packages/94/2c/4e501f9c351343c8ba10d70b5a7ca97cdab2690af043a6e52ada65b85b6b/tinycss2-1.0.2-py3-none-any.whl (61kB)\n",
            "\u001b[K     |████████████████████████████████| 71kB 27.2MB/s \n",
            "\u001b[?25hCollecting cairocffi (from cairoSVG->drawSVG)\n",
            "\u001b[?25l  Downloading https://files.pythonhosted.org/packages/0f/0f/7e21b5ddd31b610e46a879c0d21e222dd0fef428c1fc86bbd2bd57fed8a7/cairocffi-1.0.2.tar.gz (68kB)\n",
            "\u001b[K     |████████████████████████████████| 71kB 10.0MB/s \n",
            "\u001b[?25hCollecting cssselect2 (from cairoSVG->drawSVG)\n",
            "  Downloading https://files.pythonhosted.org/packages/12/e2/91fcd4cd32545beec6e11628d64d3e20f11b5a95dd1ccf3216fd69f176b7/cssselect2-0.2.1-py2.py3-none-any.whl\n",
            "Requirement already satisfied: olefile in /usr/local/lib/python3.6/dist-packages (from pillow->cairoSVG->drawSVG) (0.46)\n",
            "Requirement already satisfied: setuptools>=39.2.0 in /usr/local/lib/python3.6/dist-packages (from tinycss2->cairoSVG->drawSVG) (41.0.1)\n",
            "Requirement already satisfied: webencodings>=0.4 in /usr/local/lib/python3.6/dist-packages (from tinycss2->cairoSVG->drawSVG) (0.5.1)\n",
            "Requirement already satisfied: cffi>=1.1.0 in /usr/local/lib/python3.6/dist-packages (from cairocffi->cairoSVG->drawSVG) (1.12.3)\n",
            "Requirement already satisfied: pycparser in /usr/local/lib/python3.6/dist-packages (from cffi>=1.1.0->cairocffi->cairoSVG->drawSVG) (2.19)\n",
            "Building wheels for collected packages: drawSVG, cairocffi\n",
            "  Building wheel for drawSVG (setup.py) ... \u001b[?25l\u001b[?25hdone\n",
            "  Created wheel for drawSVG: filename=drawSvg-1.2.2-cp36-none-any.whl size=19889 sha256=541b175a4e5e0a273c5667b4b9044ec08ea203d6832be54c38f804351cb4a47f\n",
            "  Stored in directory: /root/.cache/pip/wheels/f7/d7/bc/abef999ecd24a56605fe1dcad487857a08fb2fcc90a1ca60ec\n",
            "  Building wheel for cairocffi (setup.py) ... \u001b[?25l\u001b[?25hdone\n",
            "  Created wheel for cairocffi: filename=cairocffi-1.0.2-cp36-none-any.whl size=88348 sha256=8bb712c81fa05c2b3602013ebd01add7fbc029cdd924632197a1c3145b981db2\n",
            "  Stored in directory: /root/.cache/pip/wheels/e7/5d/6f/fc3c2364dfd3c4cfd15d786b156077c52209d9af45496fdf12\n",
            "Successfully built drawSVG cairocffi\n",
            "Installing collected packages: tinycss2, cairocffi, cssselect2, cairoSVG, drawSVG\n",
            "Successfully installed cairoSVG-2.4.0 cairocffi-1.0.2 cssselect2-0.2.1 drawSVG-1.2.2 tinycss2-1.0.2\n"
          ],
          "name": "stdout"
        }
      ]
    },
    {
      "cell_type": "code",
      "metadata": {
        "id": "zneuTeGMETAM",
        "colab_type": "code",
        "colab": {
          "base_uri": "https://localhost:8080/",
          "height": 34
        },
        "outputId": "0304ec9b-f171-43c9-a965-3379e930f181"
      },
      "source": [
        "\"\"\"\n",
        "    Prepare Data: populating input images from raw profile data\n",
        "    Takes raw data from \"data/raw/*\" files for both, profile shape (shape.dat) as well as midcurve shape (shape.mid)\n",
        "    Generates raster image files from svg (simple vector graphics)\n",
        "    Multiple variations are populated using image transformations.\n",
        "    These images become input for further modeling (stored in \"data/input/*\")\n",
        "\"\"\"\n",
        "from keras.preprocessing.image import img_to_array, load_img, array_to_img\n",
        "from random import shuffle\n",
        "import PIL\n",
        "import PIL.ImageOps\n",
        "import json\n",
        "import numpy as np\n",
        "import os\n",
        "import shutil\n",
        "import sys\n",
        "np.set_printoptions(threshold=sys.maxsize)\n",
        "\n",
        "\n"
      ],
      "execution_count": 1,
      "outputs": [
        {
          "output_type": "stream",
          "text": [
            "Using TensorFlow backend.\n"
          ],
          "name": "stderr"
        }
      ]
    },
    {
      "cell_type": "code",
      "metadata": {
        "id": "H_hCGU8mETAR",
        "colab_type": "code",
        "colab": {
          "base_uri": "https://localhost:8080/",
          "height": 34
        },
        "outputId": "36faceb9-e960-4f17-90b6-1879f471e344"
      },
      "source": [
        "# working directory\n",
        "wdir = os.getcwd()\n",
        "wdir"
      ],
      "execution_count": 15,
      "outputs": [
        {
          "output_type": "execute_result",
          "data": {
            "text/plain": [
              "'/content/gdrive/My Drive/Colab Notebooks/MidcurveNN'"
            ]
          },
          "metadata": {
            "tags": []
          },
          "execution_count": 15
        }
      ]
    },
    {
      "cell_type": "code",
      "metadata": {
        "id": "zy5Ibw4HFGO9",
        "colab_type": "code",
        "colab": {}
      },
      "source": [
        "imdim = 256"
      ],
      "execution_count": 0,
      "outputs": []
    },
    {
      "cell_type": "code",
      "metadata": {
        "id": "ZNSrS3gYETAW",
        "colab_type": "code",
        "colab": {
          "base_uri": "https://localhost:8080/",
          "height": 34
        },
        "outputId": "5772936d-c9fd-4f49-b23d-11810329c0f3"
      },
      "source": [
        "input_data_folder = wdir + \"\\\\data\\\\sample\"\n",
        "input_data_folder = wdir + \"/data/newinput\"\n",
        "print(\"input data dir: \", input_data_folder)"
      ],
      "execution_count": 17,
      "outputs": [
        {
          "output_type": "stream",
          "text": [
            "input data dir:  /content/gdrive/My Drive/Colab Notebooks/MidcurveNN/data/newinput\n"
          ],
          "name": "stdout"
        }
      ]
    },
    {
      "cell_type": "code",
      "metadata": {
        "id": "RQ8gTk4TETAb",
        "colab_type": "code",
        "colab": {}
      },
      "source": [
        "#raw_data_folder = \"data/raw\"\n",
        "#input_data_folder = \"data/input\"\n",
        "pix2pix_data_folder = \"/data/pix2pix/datasets/pix2pix\"\n",
        "\n",
        "raw_data_folder = wdir + \"/data/newraw\"\n",
        "\n",
        "def combine_images(imga, imgb):\n",
        "    \"\"\"\n",
        "    Combines two color image ndarrays side-by-side.\n",
        "    Ref: https://stackoverflow.com/questions/30227466/combine-several-images-horizontally-with-python\n",
        "    \"\"\"\n",
        "    ha,wa = imga.shape[:2]\n",
        "    hb,wb = imgb.shape[:2]\n",
        "    max_height = np.max([ha, hb])\n",
        "    total_width = wa+wb\n",
        "    new_img = np.zeros(shape=(max_height, total_width))\n",
        "    new_img[:ha,:wa]=imga\n",
        "    new_img[:hb,wa:wa+wb]=imgb\n",
        "    return new_img    \n",
        "#     images = map(Image.open, [imga,imgb])\n",
        "#     widths, heights = zip(*(i.size for i in images))\n",
        "#     total_width = sum(widths)\n",
        "#     max_height = max(heights)\n",
        "# \n",
        "#     new_im = Image.new('RGB', (total_width, max_height))\n",
        "# \n",
        "#     x_offset = 0\n",
        "#     for im in images:\n",
        "#         new_im.paste(im, (x_offset,0))\n",
        "#         x_offset += im.size[0]    \n",
        "#     return new_im\n",
        "    \n"
      ],
      "execution_count": 0,
      "outputs": []
    },
    {
      "cell_type": "code",
      "metadata": {
        "id": "tlgRwV16ETAg",
        "colab_type": "code",
        "colab": {}
      },
      "source": [
        "def generate_pix2pix_dataset(inputdatafolder = input_data_folder, pix2pixdatafolder=pix2pix_data_folder):\n",
        "\n",
        "    profile_pngs,midcurve_pngs = read_input_image_pairs(inputdatafolder)\n",
        "\n",
        "    profile_pngs_objs = [img_to_array(load_img(f, color_mode='rgba', target_size=(256, 256))) for f in profile_pngs ]\n",
        "    midcurve_pngs_objs = [img_to_array(load_img(f, color_mode='rgba', target_size=(256, 256))) for f in midcurve_pngs ]\n",
        "    \n",
        "#     combo_pngs_objs = np.array([x.reshape((1,) + x.shape) for x in combo_pngs_objs])\n",
        "    profile_pngs_gray_objs = [x[:,:,3] for x in profile_pngs_objs]\n",
        "    midcurve_pngs_gray_objs = [x[:,:,3] for x in midcurve_pngs_objs]\n",
        "    \n",
        "#     combo_pngs_gray_objs = [np.where(x>128, 0, 1) for x in combo_pngs_gray_objs]\n",
        "        \n",
        "    combo_pngs = [combine_images(p,m) for p,m in zip(profile_pngs_gray_objs,midcurve_pngs_gray_objs)]\n",
        "\n",
        "    # shufle them\n",
        "    shuffle(combo_pngs)\n",
        "    train_size = int(len(combo_pngs)*0.6)\n",
        "    val_size = int(len(combo_pngs)*0.2)\n",
        "    \n",
        "    train_combo_files = combo_pngs[:train_size]\n",
        "    val_combo_files = combo_pngs[train_size:train_size+val_size]\n",
        "    test_combo_files = combo_pngs[train_size+val_size:]\n",
        "\n",
        "    if os.path.exists(pix2pixdatafolder):\n",
        "        shutil.rmtree(pix2pixdatafolder,ignore_errors=True)\n",
        "        \n",
        "    os.makedirs(pix2pixdatafolder)\n",
        "    os.makedirs(pix2pixdatafolder+\"/train\")\n",
        "    os.makedirs(pix2pixdatafolder+\"/val\")\n",
        "    os.makedirs(pix2pixdatafolder+\"/test\")\n",
        "\n",
        "    # SAVE into 3 dirs\n",
        "    for i, arr in enumerate(train_combo_files):\n",
        "        img = PIL.Image.fromarray(arr.astype('uint8'))\n",
        "        img = PIL.ImageOps.invert(img)\n",
        "        filename = pix2pixdatafolder+\"/train/\" + str(i) + \".jpg\"\n",
        "        img.save(filename)\n",
        "        \n",
        "    for i, arr in enumerate(val_combo_files):\n",
        "        img = PIL.Image.fromarray(arr.astype('uint8'))\n",
        "        img = PIL.ImageOps.invert(img)\n",
        "        filename = pix2pixdatafolder+\"/val/\" + str(i) + \".jpg\"\n",
        "        img.save(filename)\n",
        "\n",
        "    for i, arr in enumerate(test_combo_files):\n",
        "        img = PIL.Image.fromarray(arr.astype('uint8'))\n",
        "        img = PIL.ImageOps.invert(img)\n",
        "        filename = pix2pixdatafolder+\"/test/\" + str(i) + \".jpg\"\n",
        "        img.save(filename)\n",
        "            \n",
        "    return train_combo_files, val_combo_files,test_combo_files \n",
        "    \n"
      ],
      "execution_count": 0,
      "outputs": []
    },
    {
      "cell_type": "code",
      "metadata": {
        "id": "QClObdRxETAm",
        "colab_type": "code",
        "colab": {}
      },
      "source": [
        "def get_training_data(datafolder = input_data_folder, size=(100, 100)):\n",
        "    profile_pngs,midcurve_pngs = read_input_image_pairs(datafolder)\n",
        "    \n",
        "    profile_pngs_objs = [img_to_array(load_img(f, color_mode='rgba', target_size=size)) for f in profile_pngs ]\n",
        "    midcurve_pngs_objs = [img_to_array(load_img(f, color_mode='rgba', target_size=size)) for f in midcurve_pngs]\n",
        "\n",
        "#     profile_pngs_objs = np.array([x.reshape((1,) + x.shape) for x in profile_pngs_objs])\n",
        "#     midcurve_pngs_objs = np.array([x.reshape((1,) + x.shape) for x in midcurve_pngs_objs])\n",
        "\n",
        "    profile_pngs_gray_objs = [x[:,:,3] for x in profile_pngs_objs]\n",
        "    midcurve_pngs_gray_objs =[x[:,:,3] for x in midcurve_pngs_objs]\n",
        "    \n",
        "#     profile_pngs_gray_objs = [np.where(x>128, 0, 1) for x in profile_pngs_gray_objs]\n",
        "#     midcurve_pngs_gray_objs =[np.where(x>128, 0, 1) for x in midcurve_pngs_gray_objs]\n",
        "        \n",
        "    # shufle them\n",
        "    zipped_profiles_midcurves = [(p,m) for p,m in zip(profile_pngs_gray_objs,midcurve_pngs_gray_objs)]\n",
        "    shuffle(zipped_profiles_midcurves)\n",
        "    profile_pngs_gray_objs, midcurve_pngs_gray_objs = zip(*zipped_profiles_midcurves)\n",
        "    \n",
        "    return profile_pngs_gray_objs, midcurve_pngs_gray_objs\n",
        "\n",
        "def get_profile_dict(shapename,profiles_dict_list):\n",
        "    for i in profiles_dict_list:\n",
        "        if i['ShapeName'] == shapename:\n",
        "            return i\n",
        "    profile_dict = {}\n",
        "    profile_dict['ShapeName'] = shapename\n",
        "    return profile_dict\n",
        "\n",
        "def read_dat_files(datafolder=raw_data_folder):\n",
        "    profiles_dict_list = []\n",
        "    for file in os.listdir(datafolder):\n",
        "        if os.path.isdir(os.path.join(datafolder, file)):\n",
        "            continue\n",
        "        filename = file.split(\".\")[0]\n",
        "        profile_dict = get_profile_dict(filename,profiles_dict_list)        \n",
        "        if file.endswith(\".dat\"):\n",
        "            with open(os.path.join(datafolder, file)) as f:\n",
        "                profile_dict['Profile'] = [tuple(map(float, i.split('\\t'))) for i in f]  \n",
        "        if file.endswith(\".mid\"):\n",
        "            with open(os.path.join(datafolder, file)) as f:\n",
        "                profile_dict['Midcurve'] = [tuple(map(float, i.split('\\t'))) for i in f]\n",
        "                                \n",
        "        profiles_dict_list.append(profile_dict)\n",
        "    return profiles_dict_list\n",
        "\n",
        "import drawSvg as draw\n",
        "def create_image_file(fieldname,profile_dict,datafolder=input_data_folder,imgsize=100, isOpenClose=True):\n",
        "    d = draw.Drawing(imgsize, imgsize, origin='center')\n",
        "    profilepoints = []\n",
        "    for tpl in profile_dict[fieldname]:\n",
        "        profilepoints.append(tpl[0])\n",
        "        profilepoints.append(tpl[1])\n",
        "    d.append(draw.Lines(profilepoints[0],profilepoints[1],*profilepoints,close=isOpenClose,fill='none',stroke='black'))\n",
        "    \n",
        "    shape = profile_dict['ShapeName']\n",
        "#     d.saveSvg(datafolder+\"/\"+shape+'.svg')\n",
        "#    d.savePng(datafolder+\"/\"+shape+'_'+fieldname+'.png')\n",
        "    d.savePng(datafolder+\"/\"+shape+'_'+fieldname+'.png')\n",
        "\n",
        "\n",
        "def get_original_png_files(datafolder=input_data_folder):\n",
        "    pngfilenames = []\n",
        "    for file in os.listdir(datafolder):\n",
        "        fullpath = os.path.join(datafolder, file)\n",
        "        if os.path.isdir(fullpath):\n",
        "            continue\n",
        "        if file.endswith(\".png\") and file.find(\"_rotated_\") == -1 and file.find(\"_translated_\")==-1 and file.find(\"_mirrored_\")==-1:\n",
        "            pngfilenames.append(fullpath)\n",
        "    return pngfilenames\n",
        "\n"
      ],
      "execution_count": 0,
      "outputs": []
    },
    {
      "cell_type": "code",
      "metadata": {
        "id": "taQMuPYoETAv",
        "colab_type": "code",
        "colab": {}
      },
      "source": [
        "from PIL import Image\n",
        "\n",
        "\n",
        "def rotate_images(pngfilenames, angle=90):\n",
        "    for fullpath in pngfilenames:\n",
        "        picture= Image.open(fullpath)\n",
        "        newfilename = fullpath.replace(\".png\", \"_rotated_\"+str(angle)+\".png\")\n",
        "        picture.rotate(angle).save(newfilename)\n",
        "\n",
        "def mirror_images(pngfilenames, mode=PIL.Image.TRANSPOSE):\n",
        "    mirrored_filenames = []\n",
        "    for fullpath in pngfilenames:\n",
        "        picture= Image.open(fullpath)\n",
        "        newfilename = fullpath.replace(\".png\", \"_mirrored_\"+str(mode)+\".png\")\n",
        "        picture.transpose(mode).save(newfilename)\n",
        "        mirrored_filenames.append(newfilename)\n",
        "    return mirrored_filenames\n",
        "        \n",
        "def translate_images(pngfilenames, dx=1,dy=1):\n",
        "    for fullpath in pngfilenames:\n",
        "        picture= Image.open(fullpath)\n",
        "        x_shift = dx\n",
        "        y_shift = dy\n",
        "        a = 1\n",
        "        b = 0\n",
        "        c = x_shift #left/right (i.e. 5/-5)\n",
        "        d = 0\n",
        "        e = 1\n",
        "        f = y_shift #up/down (i.e. 5/-5)\n",
        "        translate = picture.transform(picture.size, Image.AFFINE, (a, b, c, d, e, f))\n",
        "#         # Calculate the size after cropping\n",
        "#         size = (translate.size[0] - x_shift, translate.size[1] - y_shift)\n",
        "#         # Crop to the desired size\n",
        "#         translate = translate.transform(size, Image.EXTENT, (0, 0, size[0], size[1]))\n",
        "        newfilename = fullpath.replace(\".png\", \"_translated_\"+str(dx)+\"_\"+str(dy)+\".png\")\n",
        "        translate.save(newfilename)\n",
        "        \n",
        "def read_input_image_pairs(datafolder=input_data_folder):\n",
        "    profile_pngs = []\n",
        "    midcurve_pngs = []\n",
        "    for file in os.listdir(datafolder):\n",
        "        fullpath = os.path.join(datafolder, file)\n",
        "        if os.path.isdir(fullpath):\n",
        "            continue\n",
        "        if file.endswith(\".png\"):\n",
        "            if file.find(\"Profile\") != -1:\n",
        "                profile_pngs.append(fullpath)\n",
        "            if file.find(\"Midcurve\") != -1:\n",
        "                midcurve_pngs.append(fullpath)\n",
        "    profile_pngs = sorted(profile_pngs)\n",
        "    midcurve_pngs = sorted(midcurve_pngs)\n",
        "    return profile_pngs,midcurve_pngs\n",
        "    \n",
        "def generate_images(datafolder = input_data_folder):\n",
        "    \n",
        "    if not os.path.exists(datafolder):\n",
        "        os.makedirs(datafolder)    \n",
        "    else:    \n",
        "        for file in os.listdir(datafolder):\n",
        "            if file.endswith(\".png\") and (file.find(\"_rotated_\") != -1 or file.find(\"_translated_\") !=-1):\n",
        "                print(\"files already present, not generating...\")\n",
        "                return\n",
        "                \n",
        "    print(\"transformed files not present, generating...\")\n",
        "    profiles_dict_list = read_dat_files()\n",
        "        \n",
        "    for profile_dict in profiles_dict_list:\n",
        "        create_image_file('Profile',profile_dict,datafolder,100,True)\n",
        "        create_image_file('Midcurve',profile_dict,datafolder,100,False)\n",
        "        \n",
        "    pngfilenames = get_original_png_files(datafolder)\n",
        "    mirrored_filenames_left_right = mirror_images(pngfilenames, PIL.Image.FLIP_LEFT_RIGHT)\n",
        "    mirrored_filenames_top_bottom = mirror_images(pngfilenames, PIL.Image.FLIP_TOP_BOTTOM)\n",
        "    mirrored_filenames_transpose = mirror_images(pngfilenames, PIL.Image.TRANSPOSE)\n",
        "    \n",
        "    files_list_list = [pngfilenames,mirrored_filenames_left_right,mirrored_filenames_top_bottom,mirrored_filenames_transpose]\n",
        "    for filelist in files_list_list:\n",
        "        for angle in range(30,360,30):\n",
        "            rotate_images(filelist,angle)\n",
        "            \n",
        "        for dx in range(5,21,5):\n",
        "            for dy in range(5,21,5):\n",
        "                translate_images(filelist,dx,-dy)\n",
        "            \n",
        "        \n"
      ],
      "execution_count": 0,
      "outputs": []
    },
    {
      "cell_type": "code",
      "metadata": {
        "id": "c0yDmjhxETAy",
        "colab_type": "code",
        "colab": {
          "base_uri": "https://localhost:8080/",
          "height": 34
        },
        "outputId": "e91a9b98-98d0-4ab6-fd43-72108b758e99"
      },
      "source": [
        "generate_images()"
      ],
      "execution_count": 23,
      "outputs": [
        {
          "output_type": "stream",
          "text": [
            "transformed files not present, generating...\n"
          ],
          "name": "stdout"
        }
      ]
    },
    {
      "cell_type": "code",
      "metadata": {
        "id": "GIYBnL9fETA4",
        "colab_type": "code",
        "colab": {}
      },
      "source": [
        ""
      ],
      "execution_count": 0,
      "outputs": []
    },
    {
      "cell_type": "code",
      "metadata": {
        "id": "z7r3dDquETA7",
        "colab_type": "code",
        "colab": {}
      },
      "source": [
        ""
      ],
      "execution_count": 0,
      "outputs": []
    },
    {
      "cell_type": "code",
      "metadata": {
        "id": "T8rWQpgMETA_",
        "colab_type": "code",
        "colab": {}
      },
      "source": [
        ""
      ],
      "execution_count": 0,
      "outputs": []
    },
    {
      "cell_type": "code",
      "metadata": {
        "id": "vkHCDAHHETBC",
        "colab_type": "code",
        "colab": {}
      },
      "source": [
        "if __name__ == \"__main__\":\n",
        "    # generate_images()\n",
        "    # profile_pngs,midcurve_pngs = read_input_image_pairs()\n",
        "    generate_pix2pix_dataset()\n",
        "\n",
        "    \n"
      ],
      "execution_count": 0,
      "outputs": []
    }
  ]
}