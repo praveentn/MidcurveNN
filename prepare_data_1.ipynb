{
  "nbformat": 4,
  "nbformat_minor": 0,
  "metadata": {
    "kernelspec": {
      "display_name": "Python 3",
      "language": "python",
      "name": "python3"
    },
    "language_info": {
      "codemirror_mode": {
        "name": "ipython",
        "version": 3
      },
      "file_extension": ".py",
      "mimetype": "text/x-python",
      "name": "python",
      "nbconvert_exporter": "python",
      "pygments_lexer": "ipython3",
      "version": "3.7.4"
    },
    "colab": {
      "name": "prepare_data_1.ipynb",
      "version": "0.3.2",
      "provenance": [],
      "collapsed_sections": [],
      "include_colab_link": true
    }
  },
  "cells": [
    {
      "cell_type": "markdown",
      "metadata": {
        "id": "view-in-github",
        "colab_type": "text"
      },
      "source": [
        "<a href=\"https://colab.research.google.com/github/praveentn/MidcurveNN/blob/master/prepare_data_1.ipynb\" target=\"_parent\"><img src=\"https://colab.research.google.com/assets/colab-badge.svg\" alt=\"Open In Colab\"/></a>"
      ]
    },
    {
      "cell_type": "markdown",
      "metadata": {
        "id": "QyGh4_-HETAK",
        "colab_type": "text"
      },
      "source": [
        "## Prepare data"
      ]
    },
    {
      "cell_type": "code",
      "metadata": {
        "id": "wn4r1dSuEl-a",
        "colab_type": "code",
        "outputId": "bdfdeb1d-fd15-40c5-b997-5be2d71f58e9",
        "colab": {
          "base_uri": "https://localhost:8080/",
          "height": 68
        }
      },
      "source": [
        "# mount google drive & set working directory\n",
        "# requires auth (click on url & copy token into text box when prompted)\n",
        "from google.colab import drive\n",
        "drive.mount(\"/content/gdrive\")\n",
        "\n",
        "import os\n",
        "print(os.getcwd())\n",
        "\n",
        "os.chdir('/content/gdrive/My Drive/Colab Notebooks/MidcurveNN')\n",
        "!pwd"
      ],
      "execution_count": 44,
      "outputs": [
        {
          "output_type": "stream",
          "text": [
            "Drive already mounted at /content/gdrive; to attempt to forcibly remount, call drive.mount(\"/content/gdrive\", force_remount=True).\n",
            "/content/gdrive/My Drive/Colab Notebooks/MidcurveNN\n",
            "/content/gdrive/My Drive/Colab Notebooks/MidcurveNN\n"
          ],
          "name": "stdout"
        }
      ]
    },
    {
      "cell_type": "code",
      "metadata": {
        "id": "4rrTU9uTFSEM",
        "colab_type": "code",
        "outputId": "f16c263a-f202-4ca1-f8b5-2ea80f331d63",
        "colab": {
          "base_uri": "https://localhost:8080/",
          "height": 255
        }
      },
      "source": [
        "!pip install drawSVG"
      ],
      "execution_count": 45,
      "outputs": [
        {
          "output_type": "stream",
          "text": [
            "Requirement already satisfied: drawSVG in /usr/local/lib/python3.6/dist-packages (1.2.2)\n",
            "Requirement already satisfied: imageio in /usr/local/lib/python3.6/dist-packages (from drawSVG) (2.4.1)\n",
            "Requirement already satisfied: numpy in /usr/local/lib/python3.6/dist-packages (from drawSVG) (1.16.4)\n",
            "Requirement already satisfied: cairoSVG in /usr/local/lib/python3.6/dist-packages (from drawSVG) (2.4.0)\n",
            "Requirement already satisfied: pillow in /usr/local/lib/python3.6/dist-packages (from imageio->drawSVG) (4.3.0)\n",
            "Requirement already satisfied: defusedxml in /usr/local/lib/python3.6/dist-packages (from cairoSVG->drawSVG) (0.6.0)\n",
            "Requirement already satisfied: cairocffi in /usr/local/lib/python3.6/dist-packages (from cairoSVG->drawSVG) (1.0.2)\n",
            "Requirement already satisfied: cssselect2 in /usr/local/lib/python3.6/dist-packages (from cairoSVG->drawSVG) (0.2.1)\n",
            "Requirement already satisfied: tinycss2 in /usr/local/lib/python3.6/dist-packages (from cairoSVG->drawSVG) (1.0.2)\n",
            "Requirement already satisfied: olefile in /usr/local/lib/python3.6/dist-packages (from pillow->imageio->drawSVG) (0.46)\n",
            "Requirement already satisfied: setuptools>=39.2.0 in /usr/local/lib/python3.6/dist-packages (from cairocffi->cairoSVG->drawSVG) (41.0.1)\n",
            "Requirement already satisfied: cffi>=1.1.0 in /usr/local/lib/python3.6/dist-packages (from cairocffi->cairoSVG->drawSVG) (1.12.3)\n",
            "Requirement already satisfied: webencodings>=0.4 in /usr/local/lib/python3.6/dist-packages (from tinycss2->cairoSVG->drawSVG) (0.5.1)\n",
            "Requirement already satisfied: pycparser in /usr/local/lib/python3.6/dist-packages (from cffi>=1.1.0->cairocffi->cairoSVG->drawSVG) (2.19)\n"
          ],
          "name": "stdout"
        }
      ]
    },
    {
      "cell_type": "code",
      "metadata": {
        "id": "zneuTeGMETAM",
        "colab_type": "code",
        "colab": {}
      },
      "source": [
        "\"\"\"\n",
        "    Prepare Data: populating input images from raw profile data\n",
        "    Takes raw data from \"data/raw/*\" files for both, profile shape (shape.dat) as well as midcurve shape (shape.mid)\n",
        "    Generates raster image files from svg (simple vector graphics)\n",
        "    Multiple variations are populated using image transformations.\n",
        "    These images become input for further modeling (stored in \"data/input/*\")\n",
        "\"\"\"\n",
        "from keras.preprocessing.image import img_to_array, load_img, array_to_img\n",
        "from random import shuffle\n",
        "import PIL\n",
        "import PIL.ImageOps\n",
        "import json\n",
        "import numpy as np\n",
        "import os\n",
        "import shutil\n",
        "import sys\n",
        "np.set_printoptions(threshold=sys.maxsize)\n",
        "\n",
        "\n",
        "from PIL import Image\n"
      ],
      "execution_count": 0,
      "outputs": []
    },
    {
      "cell_type": "code",
      "metadata": {
        "id": "H_hCGU8mETAR",
        "colab_type": "code",
        "outputId": "7e21c2bb-6788-4e12-fa03-232f83593ba3",
        "colab": {
          "base_uri": "https://localhost:8080/",
          "height": 34
        }
      },
      "source": [
        "# working directory\n",
        "wdir = os.getcwd()\n",
        "wdir"
      ],
      "execution_count": 47,
      "outputs": [
        {
          "output_type": "execute_result",
          "data": {
            "text/plain": [
              "'/content/gdrive/My Drive/Colab Notebooks/MidcurveNN'"
            ]
          },
          "metadata": {
            "tags": []
          },
          "execution_count": 47
        }
      ]
    },
    {
      "cell_type": "code",
      "metadata": {
        "id": "zy5Ibw4HFGO9",
        "colab_type": "code",
        "colab": {}
      },
      "source": [
        "imdim = 100"
      ],
      "execution_count": 0,
      "outputs": []
    },
    {
      "cell_type": "code",
      "metadata": {
        "id": "ZNSrS3gYETAW",
        "colab_type": "code",
        "colab": {}
      },
      "source": [
        "#input_data_folder = wdir + \"\\\\data\\\\sample\"\n",
        "#input_data_folder = wdir + \"/data/newinput\"\n",
        "#print(\"input data dir: \", input_data_folder)"
      ],
      "execution_count": 0,
      "outputs": []
    },
    {
      "cell_type": "code",
      "metadata": {
        "id": "RQ8gTk4TETAb",
        "colab_type": "code",
        "colab": {}
      },
      "source": [
        "raw_data_folder = \"data/newraw\"\n",
        "input_data_folder = \"data/8shapes\"\n",
        "pix2pix_data_folder = \"/data/pix2pix/datasets/pix2pix\"\n",
        "\n",
        "#raw_data_folder = wdir + \"/data/newraw\"\n"
      ],
      "execution_count": 0,
      "outputs": []
    },
    {
      "cell_type": "code",
      "metadata": {
        "id": "wWmcgMpHZAON",
        "colab_type": "code",
        "colab": {}
      },
      "source": [
        "def read_dat_files(datafolder=raw_data_folder):\n",
        "    profiles_dict_list = []\n",
        "    for file in os.listdir(datafolder):\n",
        "        if os.path.isdir(os.path.join(datafolder, file)):\n",
        "            continue\n",
        "        filename = file.split(\".\")[0]\n",
        "        profile_dict = get_profile_dict(filename,profiles_dict_list)        \n",
        "        if file.endswith(\".dat\"):\n",
        "            with open(os.path.join(datafolder, file)) as f:\n",
        "                profile_dict['Profile'] = [tuple(map(float, i.split('\\t'))) for i in f]  \n",
        "        if file.endswith(\".mid\"):\n",
        "            with open(os.path.join(datafolder, file)) as f:\n",
        "                profile_dict['Midcurve'] = [tuple(map(float, i.split('\\t'))) for i in f]\n",
        "                                \n",
        "        profiles_dict_list.append(profile_dict)\n",
        "    return profiles_dict_list\n",
        "  \n",
        "\n",
        "def get_profile_dict(shapename,profiles_dict_list):\n",
        "    for i in profiles_dict_list:\n",
        "        if i['ShapeName'] == shapename:\n",
        "            return i\n",
        "    profile_dict = {}\n",
        "    profile_dict['ShapeName'] = shapename\n",
        "    return profile_dict\n",
        "\n",
        "\n",
        "import drawSvg as draw\n",
        "\n",
        "def create_image_file(fieldname,profile_dict,datafolder=input_data_folder,imgsize=imdim, isOpenClose=True):\n",
        "    d = draw.Drawing(imgsize, imgsize, origin='center')\n",
        "    profilepoints = []\n",
        "    for tpl in profile_dict[fieldname]:\n",
        "        profilepoints.append(tpl[0])\n",
        "        profilepoints.append(tpl[1])\n",
        "    d.append(draw.Lines(profilepoints[0],profilepoints[1],*profilepoints,close=isOpenClose,fill='none',stroke='black'))\n",
        "    \n",
        "    shape = profile_dict['ShapeName']\n",
        "#     d.saveSvg(datafolder+\"/\"+shape+'.svg')\n",
        "#    d.savePng(datafolder+\"/\"+shape+'_'+fieldname+'.png')\n",
        "    d.savePng(datafolder+\"/\"+shape+'_'+fieldname+'.png')\n",
        "\n",
        "\n",
        "def get_original_png_files(datafolder=input_data_folder):\n",
        "    pngfilenames = []\n",
        "    for file in os.listdir(datafolder):\n",
        "        fullpath = os.path.join(datafolder, file)\n",
        "        if os.path.isdir(fullpath):\n",
        "            continue\n",
        "        if file.endswith(\".png\") and file.find(\"_rotated_\") == -1 and file.find(\"_translated_\")==-1 and file.find(\"_mirrored_\")==-1:\n",
        "            pngfilenames.append(fullpath)\n",
        "    return pngfilenames\n",
        "\n",
        "\n",
        "def mirror_images(pngfilenames, mode=PIL.Image.TRANSPOSE):\n",
        "    mirrored_filenames = []\n",
        "    for fullpath in pngfilenames:\n",
        "        picture= Image.open(fullpath)\n",
        "        newfilename = fullpath.replace(\".png\", \"_mirrored_\"+str(mode)+\".png\")\n",
        "        picture.transpose(mode).save(newfilename)\n",
        "        mirrored_filenames.append(newfilename)\n",
        "    return mirrored_filenames\n",
        "\n",
        "\n",
        "def rotate_images(pngfilenames, angle=90):\n",
        "    for fullpath in pngfilenames:\n",
        "        picture= Image.open(fullpath)\n",
        "        newfilename = fullpath.replace(\".png\", \"_rotated_\"+str(angle)+\".png\")\n",
        "        picture.rotate(angle).save(newfilename)\n",
        "\n",
        "\n",
        "def translate_images(pngfilenames, dx=1,dy=1):\n",
        "    for fullpath in pngfilenames:\n",
        "        picture= Image.open(fullpath)\n",
        "        x_shift = dx\n",
        "        y_shift = dy\n",
        "        a = 1\n",
        "        b = 0\n",
        "        c = x_shift #left/right (i.e. 5/-5)\n",
        "        d = 0\n",
        "        e = 1\n",
        "        f = y_shift #up/down (i.e. 5/-5)\n",
        "        translate = picture.transform(picture.size, Image.AFFINE, (a, b, c, d, e, f))\n",
        "#         # Calculate the size after cropping\n",
        "#         size = (translate.size[0] - x_shift, translate.size[1] - y_shift)\n",
        "#         # Crop to the desired size\n",
        "#         translate = translate.transform(size, Image.EXTENT, (0, 0, size[0], size[1]))\n",
        "        newfilename = fullpath.replace(\".png\", \"_translated_\"+str(dx)+\"_\"+str(dy)+\".png\")\n",
        "        translate.save(newfilename)\n"
      ],
      "execution_count": 0,
      "outputs": []
    },
    {
      "cell_type": "code",
      "metadata": {
        "id": "w5EnY0l6ZRgI",
        "colab_type": "code",
        "colab": {}
      },
      "source": [
        "def generate_images(datafolder = input_data_folder):\n",
        "    \n",
        "    if not os.path.exists(datafolder):\n",
        "        os.makedirs(datafolder)    \n",
        "    else:    \n",
        "        for file in os.listdir(datafolder):\n",
        "            if file.endswith(\".png\") and (file.find(\"_rotated_\") != -1 or file.find(\"_translated_\") !=-1):\n",
        "                print(\"files already present, not generating...\")\n",
        "                return\n",
        "                \n",
        "    print(\"transformed files not present, generating...\")\n",
        "    profiles_dict_list = read_dat_files()\n",
        "    \n",
        "    print(profiles_dict_list)\n",
        "    \n",
        "    for profile_dict in profiles_dict_list:\n",
        "        create_image_file('Profile',profile_dict,datafolder,imdim,True)\n",
        "        create_image_file('Midcurve',profile_dict,datafolder,imdim,False)\n",
        "        \n",
        "    pngfilenames = get_original_png_files(datafolder)\n",
        "    mirrored_filenames_left_right = mirror_images(pngfilenames, PIL.Image.FLIP_LEFT_RIGHT)\n",
        "    mirrored_filenames_top_bottom = mirror_images(pngfilenames, PIL.Image.FLIP_TOP_BOTTOM)\n",
        "    mirrored_filenames_transpose = mirror_images(pngfilenames, PIL.Image.TRANSPOSE)\n",
        "    \n",
        "    files_list_list = [pngfilenames,mirrored_filenames_left_right,mirrored_filenames_top_bottom,mirrored_filenames_transpose]\n",
        "    for filelist in files_list_list:\n",
        "        for angle in range(30,360,30):\n",
        "            rotate_images(filelist,angle)\n",
        "            \n",
        "        for dx in range(5,21,5):\n",
        "            for dy in range(5,21,5):\n",
        "                translate_images(filelist,dx,-dy)"
      ],
      "execution_count": 0,
      "outputs": []
    },
    {
      "cell_type": "code",
      "metadata": {
        "id": "c0yDmjhxETAy",
        "colab_type": "code",
        "outputId": "dc825a55-6869-44a2-8239-b362cd484f83",
        "colab": {
          "base_uri": "https://localhost:8080/",
          "height": 71
        }
      },
      "source": [
        "generate_images()\n",
        "    \n",
        "    "
      ],
      "execution_count": 53,
      "outputs": [
        {
          "output_type": "stream",
          "text": [
            "transformed files not present, generating...\n",
            "[{'ShapeName': 'Luvw', 'Profile': [(5.0, 5.0), (10.0, 5.0), (10.0, 30.0), (35.0, 30.0), (35.0, 35.0), (5.0, 35.0)], 'Midcurve': [(7.5, 5.0), (7.5, 32.5), (35.0, 32.5), (7.5, 32.5)]}, {'ShapeName': 'Iuvw', 'Profile': [(5.0, 5.0), (10.0, 5.0), (10.0, 20.0), (5.0, 20.0)], 'Midcurve': [(7.5, 5.0), (7.5, 20.0)]}, {'ShapeName': 'CapI', 'Profile': [(0.0, 25.0), (25.0, 25.0), (25.0, 20.0), (15.0, 20.0), (15.0, 5.0), (25.0, 5.0), (25.0, 0.0), (0.0, 0.0), (0.0, 5.0), (10.0, 5.0), (10.0, 20.0), (0.0, 20.0)], 'Midcurve': [(0.0, 2.5), (12.5, 2.5), (22.5, 2.5), (12.5, 2.5), (12.5, 22.5), (0.0, 22.5), (22.5, 22.5)]}, {'ShapeName': 'CapI', 'Profile': [(0.0, 25.0), (25.0, 25.0), (25.0, 20.0), (15.0, 20.0), (15.0, 5.0), (25.0, 5.0), (25.0, 0.0), (0.0, 0.0), (0.0, 5.0), (10.0, 5.0), (10.0, 20.0), (0.0, 20.0)], 'Midcurve': [(0.0, 2.5), (12.5, 2.5), (22.5, 2.5), (12.5, 2.5), (12.5, 22.5), (0.0, 22.5), (22.5, 22.5)]}, {'ShapeName': 'Iuvw', 'Profile': [(5.0, 5.0), (10.0, 5.0), (10.0, 20.0), (5.0, 20.0)], 'Midcurve': [(7.5, 5.0), (7.5, 20.0)]}, {'ShapeName': 'Luvw', 'Profile': [(5.0, 5.0), (10.0, 5.0), (10.0, 30.0), (35.0, 30.0), (35.0, 35.0), (5.0, 35.0)], 'Midcurve': [(7.5, 5.0), (7.5, 32.5), (35.0, 32.5), (7.5, 32.5)]}, {'ShapeName': 'SqLu', 'Profile': [(0.0, 30.0), (20.0, 30.0), (20.0, 20.0), (30.0, 20.0), (30.0, 0.0), (0.0, 0.0)], 'Midcurve': [(10.0, 10.0), (10.0, 30.0), (10.0, 10.0), (30.0, 10.0)]}, {'ShapeName': 'Plus', 'Midcurve': [(12.5, 0.0), (12.5, 22.5), (12.5, 45.0), (12.5, 22.5), (0.0, 22.5), (25.0, 22.5)], 'Profile': [(0.0, 25.0), (10.0, 25.0), (10.0, 45.0), (15.0, 45.0), (15.0, 25.0), (25.0, 25.0), (25.0, 20.0), (15.0, 20.0), (15.0, 0.0), (10.0, 0.0), (10.0, 20.0), (0.0, 20.0)]}, {'ShapeName': 'Plus', 'Midcurve': [(12.5, 0.0), (12.5, 22.5), (12.5, 45.0), (12.5, 22.5), (0.0, 22.5), (25.0, 22.5)], 'Profile': [(0.0, 25.0), (10.0, 25.0), (10.0, 45.0), (15.0, 45.0), (15.0, 25.0), (25.0, 25.0), (25.0, 20.0), (15.0, 20.0), (15.0, 0.0), (10.0, 0.0), (10.0, 20.0), (0.0, 20.0)]}, {'ShapeName': 'SqLu', 'Profile': [(0.0, 30.0), (20.0, 30.0), (20.0, 20.0), (30.0, 20.0), (30.0, 0.0), (0.0, 0.0)], 'Midcurve': [(10.0, 10.0), (10.0, 30.0), (10.0, 10.0), (30.0, 10.0)]}, {'ShapeName': 'Vuvw', 'Profile': [(10.0, 15.0), (20.0, 25.0), (30.0, 15.0), (25.0, 15.0), (20.0, 20.0), (15.0, 15.0)], 'Midcurve': [(12.5, 15.0), (22.5, 22.5), (27.5, 15.0), (22.5, 22.5)]}, {'ShapeName': 'Tuvw', 'Midcurve': [(12.5, 0.0), (12.5, 22.5), (25.0, 22.5), (0.0, 22.5)], 'Profile': [(0.0, 25.0), (25.0, 25.0), (25.0, 20.0), (15.0, 20.0), (15.0, 0.0), (10.0, 0.0), (10.0, 20.0), (0.0, 20.0)]}, {'ShapeName': 'Tuvw', 'Midcurve': [(12.5, 0.0), (12.5, 22.5), (25.0, 22.5), (0.0, 22.5)], 'Profile': [(0.0, 25.0), (25.0, 25.0), (25.0, 20.0), (15.0, 20.0), (15.0, 0.0), (10.0, 0.0), (10.0, 20.0), (0.0, 20.0)]}, {'ShapeName': 'Vuvw', 'Profile': [(10.0, 15.0), (20.0, 25.0), (30.0, 15.0), (25.0, 15.0), (20.0, 20.0), (15.0, 15.0)], 'Midcurve': [(12.5, 15.0), (22.5, 22.5), (27.5, 15.0), (22.5, 22.5)]}, {'ShapeName': 'Sm_n', 'Profile': [(6.0, 22.0), (26.0, 22.0), (26.0, 6.0), (18.0, 6.0), (18.0, 14.0), (14.0, 14.0), (14.0, 6.0), (6.0, 6.0)], 'Midcurve': [(10.0, 6.0), (10.0, 18.0), (22.0, 18.0), (22.0, 6.0)]}, {'ShapeName': 'Sm_n', 'Profile': [(6.0, 22.0), (26.0, 22.0), (26.0, 6.0), (18.0, 6.0), (18.0, 14.0), (14.0, 14.0), (14.0, 6.0), (6.0, 6.0)], 'Midcurve': [(10.0, 6.0), (10.0, 18.0), (22.0, 18.0), (22.0, 6.0)]}]\n"
          ],
          "name": "stdout"
        }
      ]
    },
    {
      "cell_type": "code",
      "metadata": {
        "id": "DQmUA-4RCVNH",
        "colab_type": "code",
        "colab": {}
      },
      "source": [
        "# wait till all images are generated before executing the next cell\n",
        "break"
      ],
      "execution_count": 0,
      "outputs": []
    },
    {
      "cell_type": "code",
      "metadata": {
        "id": "2meLh26EiK6G",
        "colab_type": "code",
        "colab": {}
      },
      "source": [
        "# move images to appropriate directories\n",
        "# directory names follows the shape name\n",
        "\n",
        "import os\n",
        "import shutil\n",
        "\n",
        "srcpath = input_data_folder\n",
        "destpath = input_data_folder\n",
        "\n",
        "for root, subFolders, files in os.walk(srcpath):\n",
        "    for file in files:\n",
        "        #print(file)\n",
        "        subFolder = os.path.join(destpath, file[:4])\n",
        "        if not os.path.isdir(subFolder):\n",
        "            os.makedirs(subFolder)\n",
        "        try:\n",
        "            shutil.move(os.path.join(root, file), subFolder)\n",
        "        except:\n",
        "            pass"
      ],
      "execution_count": 0,
      "outputs": []
    },
    {
      "cell_type": "code",
      "metadata": {
        "id": "3EquDOuOlp9X",
        "colab_type": "code",
        "colab": {}
      },
      "source": [
        ""
      ],
      "execution_count": 0,
      "outputs": []
    }
  ]
}