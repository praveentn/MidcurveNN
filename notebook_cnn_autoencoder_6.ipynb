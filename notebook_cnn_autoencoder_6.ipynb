{
  "nbformat": 4,
  "nbformat_minor": 0,
  "metadata": {
    "kernelspec": {
      "name": "python3",
      "display_name": "Python 3"
    },
    "language_info": {
      "codemirror_mode": {
        "name": "ipython",
        "version": 3
      },
      "file_extension": ".py",
      "mimetype": "text/x-python",
      "name": "python",
      "nbconvert_exporter": "python",
      "pygments_lexer": "ipython3",
      "version": "3.7.4"
    },
    "colab": {
      "name": "notebook_cnn_autoencoder_6.ipynb",
      "version": "0.3.2",
      "provenance": [],
      "collapsed_sections": [],
      "toc_visible": true,
      "include_colab_link": true
    },
    "accelerator": "GPU"
  },
  "cells": [
    {
      "cell_type": "markdown",
      "metadata": {
        "id": "view-in-github",
        "colab_type": "text"
      },
      "source": [
        "<a href=\"https://colab.research.google.com/github/praveentn/MidcurveNN/blob/master/notebook_cnn_autoencoder_6.ipynb\" target=\"_parent\"><img src=\"https://colab.research.google.com/assets/colab-badge.svg\" alt=\"Open In Colab\"/></a>"
      ]
    },
    {
      "cell_type": "markdown",
      "metadata": {
        "id": "IQVJL5mHwPrl",
        "colab_type": "text"
      },
      "source": [
        "# CNN ENC-DEC"
      ]
    },
    {
      "cell_type": "code",
      "metadata": {
        "id": "Ob9aBehW-wcd",
        "colab_type": "code",
        "colab": {}
      },
      "source": [
        ""
      ],
      "execution_count": 0,
      "outputs": []
    },
    {
      "cell_type": "code",
      "metadata": {
        "id": "AxYRQhxBxAbv",
        "colab_type": "code",
        "outputId": "0450dc88-29fa-4526-be49-219d964baa44",
        "colab": {
          "base_uri": "https://localhost:8080/",
          "height": 156
        }
      },
      "source": [
        "# mount google drive & set working directory\n",
        "# requires auth (click on url & copy token into text box when prompted)\n",
        "from google.colab import drive\n",
        "drive.mount(\"/content/gdrive\")\n",
        "\n",
        "import os\n",
        "print(os.getcwd())\n",
        "\n",
        "os.chdir('/content/gdrive/My Drive/Colab Notebooks/MidcurveNN')\n",
        "!pwd"
      ],
      "execution_count": 1,
      "outputs": [
        {
          "output_type": "stream",
          "text": [
            "Go to this URL in a browser: https://accounts.google.com/o/oauth2/auth?client_id=947318989803-6bn6qk8qdgf4n4g3pfee6491hc0brc4i.apps.googleusercontent.com&redirect_uri=urn%3Aietf%3Awg%3Aoauth%3A2.0%3Aoob&scope=email%20https%3A%2F%2Fwww.googleapis.com%2Fauth%2Fdocs.test%20https%3A%2F%2Fwww.googleapis.com%2Fauth%2Fdrive%20https%3A%2F%2Fwww.googleapis.com%2Fauth%2Fdrive.photos.readonly%20https%3A%2F%2Fwww.googleapis.com%2Fauth%2Fpeopleapi.readonly&response_type=code\n",
            "\n",
            "Enter your authorization code:\n",
            "··········\n",
            "Mounted at /content/gdrive\n",
            "/content\n",
            "/content/gdrive/My Drive/Colab Notebooks/MidcurveNN\n"
          ],
          "name": "stdout"
        }
      ]
    },
    {
      "cell_type": "code",
      "metadata": {
        "id": "rDHgEuJBwPrm",
        "colab_type": "code",
        "colab": {
          "base_uri": "https://localhost:8080/",
          "height": 34
        },
        "outputId": "92b94d46-872e-439d-f967-f7ef4e94bbc0"
      },
      "source": [
        "from __future__ import absolute_import, division, print_function, unicode_literals\n",
        "\n",
        "# !pip install tensorflow-gpu==2.0.0-alpha0\n",
        "import tensorflow as tf\n",
        "\n",
        "import os\n",
        "import time\n",
        "import matplotlib.pyplot as plt\n",
        "from IPython.display import clear_output\n",
        "import os\n",
        "\n",
        "from keras.layers import Input, Dense\n",
        "from keras.models import Model\n",
        "from keras import regularizers, optimizers\n",
        "from keras.optimizers import Adam, SGD\n",
        "from keras.callbacks import EarlyStopping\n",
        "from keras.optimizers import Adam,RMSprop,SGD\n",
        "from keras.models import Model, Sequential\n",
        "from keras.layers import Input, Dense, Conv2D, MaxPooling2D, UpSampling2D, Flatten, Reshape\n",
        "from keras import regularizers\n",
        "from keras.layers.normalization import BatchNormalization\n",
        "from keras.layers import Conv2D, MaxPooling2D, Dense, Dropout, Input, Flatten,AveragePooling2D,UpSampling2D\n",
        "from keras.preprocessing.image import img_to_array, load_img\n",
        "from sklearn.model_selection import train_test_split\n",
        "from random import shuffle\n",
        "import PIL\n",
        "import json\n",
        "import numpy as np\n",
        "import sys\n",
        "np.set_printoptions(threshold=sys.maxsize)\n",
        "import matplotlib.pyplot as plt\n",
        "import matplotlib\n",
        "# matplotlib.use('TKAgg')\n",
        "%matplotlib inline"
      ],
      "execution_count": 2,
      "outputs": [
        {
          "output_type": "stream",
          "text": [
            "Using TensorFlow backend.\n"
          ],
          "name": "stderr"
        }
      ]
    },
    {
      "cell_type": "code",
      "metadata": {
        "id": "evVd6EPUwPrs",
        "colab_type": "code",
        "outputId": "a64e865a-4816-4e20-dc11-b67f144a5e00",
        "colab": {
          "base_uri": "https://localhost:8080/",
          "height": 34
        }
      },
      "source": [
        "# working directory\n",
        "wdir = os.getcwd()\n",
        "wdir"
      ],
      "execution_count": 3,
      "outputs": [
        {
          "output_type": "execute_result",
          "data": {
            "text/plain": [
              "'/content/gdrive/My Drive/Colab Notebooks/MidcurveNN'"
            ]
          },
          "metadata": {
            "tags": []
          },
          "execution_count": 3
        }
      ]
    },
    {
      "cell_type": "code",
      "metadata": {
        "id": "UxFdYYywwPrx",
        "colab_type": "code",
        "outputId": "9ba6f3b2-ee8c-49f5-e6fd-6108fecb6193",
        "colab": {
          "base_uri": "https://localhost:8080/",
          "height": 34
        }
      },
      "source": [
        "# _URL = 'https://drive.google.com/uc?export=download&id=16rqDFLO__WySSQGlAht0FEj2uJZg4M9M'\n",
        "\n",
        "# path_to_zip = tf.keras.utils.get_file('input.zip',\n",
        "#                                       origin=_URL,\n",
        "#                                       extract=True)\n",
        "\n",
        "# input_data_folder = os.path.join(os.path.dirname(path_to_zip), 'input')\n",
        "input_data_folder = wdir + \"/data/input\"\n",
        "input_data_folder = wdir + \"/data/9shapes\"\n",
        "print(\"input data dir: \", input_data_folder)"
      ],
      "execution_count": 212,
      "outputs": [
        {
          "output_type": "stream",
          "text": [
            "input data dir:  /content/gdrive/My Drive/Colab Notebooks/MidcurveNN/data/9shapes\n"
          ],
          "name": "stdout"
        }
      ]
    },
    {
      "cell_type": "code",
      "metadata": {
        "id": "geTVDZfzPY-u",
        "colab_type": "code",
        "outputId": "d4f93821-fc82-4784-998f-723279d2ef02",
        "colab": {
          "base_uri": "https://localhost:8080/",
          "height": 51
        }
      },
      "source": [
        "import glob\n",
        "\n",
        "image_paths = glob.glob(input_data_folder + '/**/*.png', recursive=True)\n",
        "images = [os.path.basename(img_path) for img_path in image_paths]\n",
        "\n",
        "print(len(images))\n",
        "\n",
        "#images = os.listdir(input_data_folder)\n",
        "images[99]"
      ],
      "execution_count": 215,
      "outputs": [
        {
          "output_type": "stream",
          "text": [
            "2016\n"
          ],
          "name": "stdout"
        },
        {
          "output_type": "execute_result",
          "data": {
            "text/plain": [
              "'Iuvw_Midcurve_mirrored_1_rotated_30.png'"
            ]
          },
          "metadata": {
            "tags": []
          },
          "execution_count": 215
        }
      ]
    },
    {
      "cell_type": "code",
      "metadata": {
        "id": "oNZW79Q1URmJ",
        "colab_type": "code",
        "colab": {}
      },
      "source": [
        "# image dimension\n",
        "imdim = 100"
      ],
      "execution_count": 0,
      "outputs": []
    },
    {
      "cell_type": "code",
      "metadata": {
        "id": "RjdmJfpRwPr0",
        "colab_type": "code",
        "colab": {}
      },
      "source": [
        "def read_input_image_pairs(datafolder=input_data_folder):\n",
        "    profile_pngs = []\n",
        "    midcurve_pngs = []\n",
        "    for file in os.listdir(datafolder):\n",
        "        fullpath = os.path.join(datafolder, file)\n",
        "        if os.path.isdir(fullpath):\n",
        "            continue\n",
        "        if file.endswith(\".png\"):\n",
        "            if file.find(\"Profile\") != -1:\n",
        "                profile_pngs.append(fullpath)\n",
        "            if file.find(\"Midcurve\") != -1:\n",
        "                midcurve_pngs.append(fullpath)\n",
        "    profile_pngs = sorted(profile_pngs)\n",
        "    midcurve_pngs = sorted(midcurve_pngs)\n",
        "    return profile_pngs,midcurve_pngs"
      ],
      "execution_count": 0,
      "outputs": []
    },
    {
      "cell_type": "code",
      "metadata": {
        "id": "Rim24hWkwPr3",
        "colab_type": "code",
        "colab": {}
      },
      "source": [
        "def get_training_data(datafolder=input_data_folder):\n",
        "    profile_pngs,midcurve_pngs = read_input_image_pairs(datafolder)\n",
        "    \n",
        "    profile_pngs_objs = [img_to_array(load_img(f, color_mode='rgba', target_size=(imdim, imdim))) for f in profile_pngs ]\n",
        "    midcurve_pngs_objs = [img_to_array(load_img(f, color_mode='rgba', target_size=(imdim, imdim))) for f in midcurve_pngs]\n",
        "\n",
        "#     profile_pngs_objs = np.array([x.reshape((1,) + x.shape) for x in profile_pngs_objs])\n",
        "#     midcurve_pngs_objs = np.array([x.reshape((1,) + x.shape) for x in midcurve_pngs_objs])\n",
        "\n",
        "    profile_pngs_gray_objs = [x[:,:,3] for x in profile_pngs_objs]\n",
        "    midcurve_pngs_gray_objs =[x[:,:,3] for x in midcurve_pngs_objs]\n",
        "    \n",
        "#     profile_pngs_gray_objs = [np.where(x>128, 0, 1) for x in profile_pngs_gray_objs]\n",
        "#     midcurve_pngs_gray_objs =[np.where(x>128, 0, 1) for x in midcurve_pngs_gray_objs]\n",
        "        \n",
        "    # shufle them\n",
        "    zipped_profiles_midcurves = [(p,m) for p,m in zip(profile_pngs_gray_objs,midcurve_pngs_gray_objs)]\n",
        "    shuffle(zipped_profiles_midcurves)\n",
        "    profile_pngs_gray_objs, midcurve_pngs_gray_objs = zip(*zipped_profiles_midcurves)\n",
        "    \n",
        "    return profile_pngs_gray_objs, midcurve_pngs_gray_objs"
      ],
      "execution_count": 0,
      "outputs": []
    },
    {
      "cell_type": "code",
      "metadata": {
        "id": "GP3POQEVtlck",
        "colab_type": "code",
        "colab": {
          "base_uri": "https://localhost:8080/",
          "height": 323
        },
        "outputId": "f32290b9-9929-46d8-9c05-0c43144b50a7"
      },
      "source": [
        "profile_pngs_objs = ()\n",
        "midcurve_pngs_objs = ()\n",
        "shapes = [\"CapI\", \"InvV\", \"Iuvw\", \"Luvw\", \"Plus\", \"Sm_n\", \"SqLu\", \"Tuvw\", \"Vuvw\", ]\n",
        "\n",
        "for shape in shapes:\n",
        "    print(shape)\n",
        "    tp, tm = get_training_data(os.path.join(input_data_folder, shape))\n",
        "    profile_pngs_objs += tp\n",
        "    midcurve_pngs_objs += tm\n",
        "    print(len(profile_pngs_objs), len(midcurve_pngs_objs))"
      ],
      "execution_count": 227,
      "outputs": [
        {
          "output_type": "stream",
          "text": [
            "CapI\n",
            "112 112\n",
            "InvV\n",
            "224 224\n",
            "Iuvw\n",
            "336 336\n",
            "Luvw\n",
            "448 448\n",
            "Plus\n",
            "560 560\n",
            "Sm_n\n",
            "672 672\n",
            "SqLu\n",
            "784 784\n",
            "Tuvw\n",
            "896 896\n",
            "Vuvw\n",
            "1008 1008\n"
          ],
          "name": "stdout"
        }
      ]
    },
    {
      "cell_type": "code",
      "metadata": {
        "id": "lea0l6OoSS9X",
        "colab_type": "code",
        "outputId": "dbfca40c-6032-4306-f1d4-3685079d0345",
        "colab": {
          "base_uri": "https://localhost:8080/",
          "height": 34
        }
      },
      "source": [
        "len(profile_pngs_objs)"
      ],
      "execution_count": 228,
      "outputs": [
        {
          "output_type": "execute_result",
          "data": {
            "text/plain": [
              "1008"
            ]
          },
          "metadata": {
            "tags": []
          },
          "execution_count": 228
        }
      ]
    },
    {
      "cell_type": "code",
      "metadata": {
        "id": "9f9N734PSXGH",
        "colab_type": "code",
        "outputId": "b6f38b30-ee08-4d3e-9195-bc8dece060d8",
        "colab": {
          "base_uri": "https://localhost:8080/",
          "height": 34
        }
      },
      "source": [
        "profile_pngs_objs[0].shape"
      ],
      "execution_count": 229,
      "outputs": [
        {
          "output_type": "execute_result",
          "data": {
            "text/plain": [
              "(100, 100)"
            ]
          },
          "metadata": {
            "tags": []
          },
          "execution_count": 229
        }
      ]
    },
    {
      "cell_type": "code",
      "metadata": {
        "id": "3CON1HkAtWxn",
        "colab_type": "code",
        "colab": {
          "base_uri": "https://localhost:8080/",
          "height": 34
        },
        "outputId": "b048db01-c333-4021-97cc-41c6fc95ab22"
      },
      "source": [
        "type(midcurve_pngs_objs)"
      ],
      "execution_count": 230,
      "outputs": [
        {
          "output_type": "execute_result",
          "data": {
            "text/plain": [
              "tuple"
            ]
          },
          "metadata": {
            "tags": []
          },
          "execution_count": 230
        }
      ]
    },
    {
      "cell_type": "code",
      "metadata": {
        "id": "IGcijScSwPr8",
        "colab_type": "code",
        "colab": {}
      },
      "source": [
        "def plot_results(original_imgs,computed_imgs,n=10):\n",
        "    # n = 10  # how many digits we will display\n",
        "    plt.figure(figsize=(20, 4))\n",
        "    for i in range(n):\n",
        "        # display original\n",
        "        ax = plt.subplot(2, n, i + 1)\n",
        "        plt.imshow(original_imgs[i].reshape(imdim, imdim),cmap='gray_r')\n",
        "#         plt.gray()\n",
        "        ax.get_xaxis().set_visible(False)\n",
        "        ax.get_yaxis().set_visible(False)\n",
        "    \n",
        "        # display reconstruction\n",
        "        ax = plt.subplot(2, n, i + 1 + n)\n",
        "        plt.imshow(computed_imgs[i].reshape(imdim, imdim),cmap='gray_r')\n",
        "#         plt.gray()\n",
        "        ax.get_xaxis().set_visible(False)\n",
        "        ax.get_yaxis().set_visible(False)\n",
        "    plt.show()"
      ],
      "execution_count": 0,
      "outputs": []
    },
    {
      "cell_type": "code",
      "metadata": {
        "id": "YkMvqA_swPr_",
        "colab_type": "code",
        "outputId": "d7b62dc9-33f1-44fc-89db-1bcd31ab4c0f",
        "colab": {
          "base_uri": "https://localhost:8080/",
          "height": 244
        }
      },
      "source": [
        "plot_results(profile_pngs_objs[830:850],midcurve_pngs_objs[830:850])"
      ],
      "execution_count": 232,
      "outputs": [
        {
          "output_type": "display_data",
          "data": {
            "image/png": "[encoded data removed]",
            "text/plain": [
              "<Figure size 1440x288 with 20 Axes>"
            ]
          },
          "metadata": {
            "tags": []
          }
        }
      ]
    },
    {
      "cell_type": "code",
      "metadata": {
        "id": "KeLJMAIbwPsD",
        "colab_type": "code",
        "colab": {}
      },
      "source": [
        "def get_train_test_split(profile_pngs_gray_objs, midcurve_pngs_gray_objs, encoding_dim=imdim, input_dim=imdim):\n",
        "\n",
        "    # Training\n",
        "    profile_pngs_flat_objs = [x.reshape(input_dim,input_dim,1) for x in profile_pngs_gray_objs]\n",
        "    midcurve_pngs_flat_objs = [x.reshape(input_dim,input_dim,1) for x in midcurve_pngs_gray_objs]\n",
        "    \n",
        "    profile_pngs_objs = np.array(profile_pngs_flat_objs)\n",
        "    midcurve_pngs_objs= np.array(midcurve_pngs_flat_objs)\n",
        "    \n",
        "    '''\n",
        "    train_size = int(len(profile_pngs_objs)*0.7)\n",
        "    x_train = profile_pngs_objs[:train_size]\n",
        "    y_train = midcurve_pngs_objs[:train_size]\n",
        "    x_test = profile_pngs_objs[train_size:]\n",
        "    y_test = midcurve_pngs_objs[train_size:]\n",
        "    '''\n",
        "    x_train, x_test, y_train, y_test = train_test_split(profile_pngs_objs, midcurve_pngs_objs, \n",
        "                                                        test_size=0.2, random_state=37)\n",
        "    return x_train, x_test, y_train, y_test"
      ],
      "execution_count": 0,
      "outputs": []
    },
    {
      "cell_type": "code",
      "metadata": {
        "id": "CsHrNT43wPsG",
        "colab_type": "code",
        "outputId": "d777c573-84ba-4a25-b3f1-891f304ba67f",
        "colab": {
          "base_uri": "https://localhost:8080/",
          "height": 34
        }
      },
      "source": [
        "x_train, x_test, y_train, y_test = get_train_test_split(profile_pngs_objs, midcurve_pngs_objs)\n",
        "\n",
        "print((len(x_train), len(y_train)), (len(x_test), len(y_test)))"
      ],
      "execution_count": 234,
      "outputs": [
        {
          "output_type": "stream",
          "text": [
            "(806, 806) (202, 202)\n"
          ],
          "name": "stdout"
        }
      ]
    },
    {
      "cell_type": "markdown",
      "metadata": {
        "id": "cMg0OhMXwPsJ",
        "colab_type": "text"
      },
      "source": [
        "### Auto-encoder"
      ]
    },
    {
      "cell_type": "code",
      "metadata": {
        "id": "FnGlEsrp5G9_",
        "colab_type": "code",
        "colab": {}
      },
      "source": [
        "class Autoencoder():\n",
        "    def __init__(self):\n",
        "        self.img_rows = imdim\n",
        "        self.img_cols = imdim\n",
        "        self.channels = 1\n",
        "        self.img_shape = (self.img_rows, self.img_cols, self.channels)\n",
        "        \n",
        "        optimizer = Adam(lr=0.0005)\n",
        "        optimizer = SGD(lr=0.0007, nesterov=False)\n",
        "        \n",
        "        self.autoencoder_model = self.build_model()\n",
        "        self.autoencoder_model.compile(loss='binary_crossentropy', optimizer=optimizer)\n",
        "        self.autoencoder_model.summary()\n",
        "    \n",
        "    def build_model(self):\n",
        "        input_layer = Input(shape=self.img_shape)\n",
        "        \n",
        "        # encoder\n",
        "        h = Conv2D(64, (3, 3), activation='relu', padding='same')(input_layer)\n",
        "        h = MaxPooling2D((2, 2), padding='same')(h)\n",
        "        h = Conv2D(32, (3, 3), activation='relu', padding='same')(h)\n",
        "        h = MaxPooling2D((2, 2), padding='same')(h)\n",
        "        \n",
        "        # decoder\n",
        "        h = Conv2D(32, (3, 3), activation='relu', padding='same')(h)\n",
        "        h = UpSampling2D((2, 2))(h)\n",
        "        h = Conv2D(64, (3, 3), activation='relu', padding='same')(h)\n",
        "        h = UpSampling2D((2, 2))(h)\n",
        "        output_layer = Conv2D(1, (3, 3), activation='sigmoid', padding='same')(h)\n",
        "        \n",
        "        return Model(input_layer, output_layer)\n",
        "    \n",
        "    def train_model(self, x_train, y_train, x_val, y_val, epochs, batch_size=20):\n",
        "        early_stopping = EarlyStopping(monitor='val_loss',\n",
        "                                       min_delta=0,\n",
        "                                       patience=5,\n",
        "                                       verbose=1, \n",
        "                                       mode='auto')\n",
        "        history = self.autoencoder_model.fit(x_train, y_train,\n",
        "                                             batch_size=batch_size,\n",
        "                                             epochs=epochs,\n",
        "                                             validation_data=(x_val, y_val),\n",
        "                                             callbacks=[early_stopping])\n",
        "        plt.plot(history.history['loss'])\n",
        "        plt.plot(history.history['val_loss'])\n",
        "        plt.title('Model loss')\n",
        "        plt.ylabel('Loss')\n",
        "        plt.xlabel('Epoch')\n",
        "        plt.legend(['Train', 'Test'], loc='upper left')\n",
        "        plt.show()\n",
        "    \n",
        "    def eval_model(self, x_test):\n",
        "        preds = self.autoencoder_model.predict(x_test)\n",
        "        return preds"
      ],
      "execution_count": 0,
      "outputs": []
    },
    {
      "cell_type": "code",
      "metadata": {
        "id": "AS9oXJ9e5KrT",
        "colab_type": "code",
        "outputId": "022aef1c-35eb-4e80-ad0f-a0a417f0aac6",
        "colab": {
          "base_uri": "https://localhost:8080/",
          "height": 1000
        }
      },
      "source": [
        "ae = Autoencoder()\n",
        "ae.train_model(x_train, y_train, x_test, y_test, epochs=200, batch_size=5)\n",
        "\n",
        "encoded_imgs = ae.eval_model(x_test)\n",
        "decoded_imgs = ae.eval_model(encoded_imgs)\n",
        "\n",
        "plot_results(x_test, decoded_imgs)"
      ],
      "execution_count": 242,
      "outputs": [
        {
          "output_type": "stream",
          "text": [
            "_________________________________________________________________\n",
            "Layer (type)                 Output Shape              Param #   \n",
            "=================================================================\n",
            "input_37 (InputLayer)        (None, 100, 100, 1)       0         \n",
            "_________________________________________________________________\n",
            "conv2d_185 (Conv2D)          (None, 100, 100, 64)      640       \n",
            "_________________________________________________________________\n",
            "max_pooling2d_74 (MaxPooling (None, 50, 50, 64)        0         \n",
            "_________________________________________________________________\n",
            "conv2d_186 (Conv2D)          (None, 50, 50, 32)        18464     \n",
            "_________________________________________________________________\n",
            "max_pooling2d_75 (MaxPooling (None, 25, 25, 32)        0         \n",
            "_________________________________________________________________\n",
            "conv2d_187 (Conv2D)          (None, 25, 25, 32)        9248      \n",
            "_________________________________________________________________\n",
            "up_sampling2d_74 (UpSampling (None, 50, 50, 32)        0         \n",
            "_________________________________________________________________\n",
            "conv2d_188 (Conv2D)          (None, 50, 50, 64)        18496     \n",
            "_________________________________________________________________\n",
            "up_sampling2d_75 (UpSampling (None, 100, 100, 64)      0         \n",
            "_________________________________________________________________\n",
            "conv2d_189 (Conv2D)          (None, 100, 100, 1)       577       \n",
            "=================================================================\n",
            "Total params: 47,425\n",
            "Trainable params: 47,425\n",
            "Non-trainable params: 0\n",
            "_________________________________________________________________\n",
            "Train on 806 samples, validate on 202 samples\n",
            "Epoch 1/200\n",
            "806/806 [==============================] - 4s 5ms/step - loss: -13.8956 - val_loss: -15.3960\n",
            "Epoch 2/200\n",
            "806/806 [==============================] - 1s 1ms/step - loss: -14.5972 - val_loss: -15.9773\n",
            "Epoch 3/200\n",
            "806/806 [==============================] - 1s 1ms/step - loss: -15.0248 - val_loss: -16.2994\n",
            "Epoch 4/200\n",
            "806/806 [==============================] - 1s 1ms/step - loss: -15.2780 - val_loss: -16.4854\n",
            "Epoch 5/200\n",
            "806/806 [==============================] - 1s 1ms/step - loss: -15.4904 - val_loss: -16.1565\n",
            "Epoch 6/200\n",
            "806/806 [==============================] - 1s 1ms/step - loss: -15.5907 - val_loss: -16.8220\n",
            "Epoch 7/200\n",
            "806/806 [==============================] - 1s 1ms/step - loss: -15.7470 - val_loss: -17.0345\n",
            "Epoch 8/200\n",
            "806/806 [==============================] - 1s 1ms/step - loss: -15.8636 - val_loss: -17.0964\n",
            "Epoch 9/200\n",
            "806/806 [==============================] - 1s 1ms/step - loss: -15.9490 - val_loss: -17.1926\n",
            "Epoch 10/200\n",
            "806/806 [==============================] - 1s 1ms/step - loss: -16.0117 - val_loss: -17.1322\n",
            "Epoch 11/200\n",
            "806/806 [==============================] - 1s 1ms/step - loss: -16.0185 - val_loss: -17.3006\n",
            "Epoch 12/200\n",
            "806/806 [==============================] - 1s 1ms/step - loss: -16.0733 - val_loss: -17.0499\n",
            "Epoch 13/200\n",
            "806/806 [==============================] - 1s 1ms/step - loss: -16.1136 - val_loss: -17.3538\n",
            "Epoch 14/200\n",
            "806/806 [==============================] - 1s 1ms/step - loss: -16.1589 - val_loss: -17.4113\n",
            "Epoch 15/200\n",
            "806/806 [==============================] - 1s 1ms/step - loss: -16.1650 - val_loss: -17.4233\n",
            "Epoch 16/200\n",
            "806/806 [==============================] - 1s 1ms/step - loss: -16.1731 - val_loss: -17.4460\n",
            "Epoch 17/200\n",
            "806/806 [==============================] - 1s 1ms/step - loss: -16.2081 - val_loss: -16.6465\n",
            "Epoch 18/200\n",
            "806/806 [==============================] - 1s 1ms/step - loss: -16.1840 - val_loss: -17.2412\n",
            "Epoch 19/200\n",
            "806/806 [==============================] - 1s 1ms/step - loss: -16.2139 - val_loss: -17.4067\n",
            "Epoch 20/200\n",
            "806/806 [==============================] - 1s 1ms/step - loss: -16.2432 - val_loss: -17.3918\n",
            "Epoch 21/200\n",
            "806/806 [==============================] - 1s 1ms/step - loss: -16.2432 - val_loss: -17.4012\n",
            "Epoch 00021: early stopping\n"
          ],
          "name": "stdout"
        },
        {
          "output_type": "display_data",
          "data": {
            "image/png": "[encoded data removed]",
            "text/plain": [
              "<Figure size 432x288 with 1 Axes>"
            ]
          },
          "metadata": {
            "tags": []
          }
        },
        {
          "output_type": "display_data",
          "data": {
            "image/png": "[encoded data removed]",
            "text/plain": [
              "<Figure size 1440x288 with 20 Axes>"
            ]
          },
          "metadata": {
            "tags": []
          }
        }
      ]
    },
    {
      "cell_type": "code",
      "metadata": {
        "id": "qX_NauPVYMaD",
        "colab_type": "code",
        "colab": {}
      },
      "source": [
        ""
      ],
      "execution_count": 0,
      "outputs": []
    }
  ]
}