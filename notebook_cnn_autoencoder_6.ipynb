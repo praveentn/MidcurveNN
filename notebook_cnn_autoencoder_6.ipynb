{
  "nbformat": 4,
  "nbformat_minor": 0,
  "metadata": {
    "kernelspec": {
      "name": "python3",
      "display_name": "Python 3"
    },
    "language_info": {
      "codemirror_mode": {
        "name": "ipython",
        "version": 3
      },
      "file_extension": ".py",
      "mimetype": "text/x-python",
      "name": "python",
      "nbconvert_exporter": "python",
      "pygments_lexer": "ipython3",
      "version": "3.7.4"
    },
    "colab": {
      "name": "notebook_cnn_autoencoder_6.ipynb",
      "version": "0.3.2",
      "provenance": [],
      "collapsed_sections": [],
      "toc_visible": true,
      "include_colab_link": true
    },
    "accelerator": "GPU"
  },
  "cells": [
    {
      "cell_type": "markdown",
      "metadata": {
        "id": "view-in-github",
        "colab_type": "text"
      },
      "source": [
        "<a href=\"https://colab.research.google.com/github/praveentn/MidcurveNN/blob/master/notebook_cnn_autoencoder_6.ipynb\" target=\"_parent\"><img src=\"https://colab.research.google.com/assets/colab-badge.svg\" alt=\"Open In Colab\"/></a>"
      ]
    },
    {
      "cell_type": "markdown",
      "metadata": {
        "id": "IQVJL5mHwPrl",
        "colab_type": "text"
      },
      "source": [
        "# CNN ENC-DEC"
      ]
    },
    {
      "cell_type": "code",
      "metadata": {
        "id": "Ob9aBehW-wcd",
        "colab_type": "code",
        "colab": {}
      },
      "source": [
        ""
      ],
      "execution_count": 0,
      "outputs": []
    },
    {
      "cell_type": "code",
      "metadata": {
        "id": "AxYRQhxBxAbv",
        "colab_type": "code",
        "outputId": "0450dc88-29fa-4526-be49-219d964baa44",
        "colab": {
          "base_uri": "https://localhost:8080/",
          "height": 156
        }
      },
      "source": [
        "# mount google drive & set working directory\n",
        "# requires auth (click on url & copy token into text box when prompted)\n",
        "from google.colab import drive\n",
        "drive.mount(\"/content/gdrive\")\n",
        "\n",
        "import os\n",
        "print(os.getcwd())\n",
        "\n",
        "os.chdir('/content/gdrive/My Drive/Colab Notebooks/MidcurveNN')\n",
        "!pwd"
      ],
      "execution_count": 1,
      "outputs": [
        {
          "output_type": "stream",
          "text": [
            "Go to this URL in a browser: https://accounts.google.com/o/oauth2/auth?client_id=947318989803-6bn6qk8qdgf4n4g3pfee6491hc0brc4i.apps.googleusercontent.com&redirect_uri=urn%3Aietf%3Awg%3Aoauth%3A2.0%3Aoob&scope=email%20https%3A%2F%2Fwww.googleapis.com%2Fauth%2Fdocs.test%20https%3A%2F%2Fwww.googleapis.com%2Fauth%2Fdrive%20https%3A%2F%2Fwww.googleapis.com%2Fauth%2Fdrive.photos.readonly%20https%3A%2F%2Fwww.googleapis.com%2Fauth%2Fpeopleapi.readonly&response_type=code\n",
            "\n",
            "Enter your authorization code:\n",
            "··········\n",
            "Mounted at /content/gdrive\n",
            "/content\n",
            "/content/gdrive/My Drive/Colab Notebooks/MidcurveNN\n"
          ],
          "name": "stdout"
        }
      ]
    },
    {
      "cell_type": "code",
      "metadata": {
        "id": "rDHgEuJBwPrm",
        "colab_type": "code",
        "colab": {
          "base_uri": "https://localhost:8080/",
          "height": 34
        },
        "outputId": "92b94d46-872e-439d-f967-f7ef4e94bbc0"
      },
      "source": [
        "from __future__ import absolute_import, division, print_function, unicode_literals\n",
        "\n",
        "# !pip install tensorflow-gpu==2.0.0-alpha0\n",
        "import tensorflow as tf\n",
        "\n",
        "import os\n",
        "import time\n",
        "import matplotlib.pyplot as plt\n",
        "from IPython.display import clear_output\n",
        "import os\n",
        "\n",
        "from keras.layers import Input, Dense\n",
        "from keras.models import Model\n",
        "from keras import regularizers, optimizers\n",
        "from keras.optimizers import Adam, SGD\n",
        "from keras.callbacks import EarlyStopping\n",
        "from keras.optimizers import Adam,RMSprop,SGD\n",
        "from keras.models import Model, Sequential\n",
        "from keras.layers import Input, Dense, Conv2D, MaxPooling2D, UpSampling2D, Flatten, Reshape\n",
        "from keras import regularizers\n",
        "from keras.layers.normalization import BatchNormalization\n",
        "from keras.layers import Conv2D, MaxPooling2D, Dense, Dropout, Input, Flatten,AveragePooling2D,UpSampling2D\n",
        "from keras.preprocessing.image import img_to_array, load_img\n",
        "from sklearn.model_selection import train_test_split\n",
        "from random import shuffle\n",
        "import PIL\n",
        "import json\n",
        "import numpy as np\n",
        "import sys\n",
        "np.set_printoptions(threshold=sys.maxsize)\n",
        "import matplotlib.pyplot as plt\n",
        "import matplotlib\n",
        "# matplotlib.use('TKAgg')\n",
        "%matplotlib inline"
      ],
      "execution_count": 2,
      "outputs": [
        {
          "output_type": "stream",
          "text": [
            "Using TensorFlow backend.\n"
          ],
          "name": "stderr"
        }
      ]
    },
    {
      "cell_type": "code",
      "metadata": {
        "id": "evVd6EPUwPrs",
        "colab_type": "code",
        "outputId": "a64e865a-4816-4e20-dc11-b67f144a5e00",
        "colab": {
          "base_uri": "https://localhost:8080/",
          "height": 34
        }
      },
      "source": [
        "# working directory\n",
        "wdir = os.getcwd()\n",
        "wdir"
      ],
      "execution_count": 3,
      "outputs": [
        {
          "output_type": "execute_result",
          "data": {
            "text/plain": [
              "'/content/gdrive/My Drive/Colab Notebooks/MidcurveNN'"
            ]
          },
          "metadata": {
            "tags": []
          },
          "execution_count": 3
        }
      ]
    },
    {
      "cell_type": "code",
      "metadata": {
        "id": "UxFdYYywwPrx",
        "colab_type": "code",
        "outputId": "9ba6f3b2-ee8c-49f5-e6fd-6108fecb6193",
        "colab": {
          "base_uri": "https://localhost:8080/",
          "height": 34
        }
      },
      "source": [
        "# _URL = 'https://drive.google.com/uc?export=download&id=16rqDFLO__WySSQGlAht0FEj2uJZg4M9M'\n",
        "\n",
        "# path_to_zip = tf.keras.utils.get_file('input.zip',\n",
        "#                                       origin=_URL,\n",
        "#                                       extract=True)\n",
        "\n",
        "# input_data_folder = os.path.join(os.path.dirname(path_to_zip), 'input')\n",
        "input_data_folder = wdir + \"/data/input\"\n",
        "input_data_folder = wdir + \"/data/9shapes\"\n",
        "print(\"input data dir: \", input_data_folder)"
      ],
      "execution_count": 212,
      "outputs": [
        {
          "output_type": "stream",
          "text": [
            "input data dir:  /content/gdrive/My Drive/Colab Notebooks/MidcurveNN/data/9shapes\n"
          ],
          "name": "stdout"
        }
      ]
    },
    {
      "cell_type": "code",
      "metadata": {
        "id": "geTVDZfzPY-u",
        "colab_type": "code",
        "outputId": "d4f93821-fc82-4784-998f-723279d2ef02",
        "colab": {
          "base_uri": "https://localhost:8080/",
          "height": 51
        }
      },
      "source": [
        "import glob\n",
        "\n",
        "image_paths = glob.glob(input_data_folder + '/**/*.png', recursive=True)\n",
        "images = [os.path.basename(img_path) for img_path in image_paths]\n",
        "\n",
        "print(len(images))\n",
        "\n",
        "#images = os.listdir(input_data_folder)\n",
        "images[99]"
      ],
      "execution_count": 215,
      "outputs": [
        {
          "output_type": "stream",
          "text": [
            "2016\n"
          ],
          "name": "stdout"
        },
        {
          "output_type": "execute_result",
          "data": {
            "text/plain": [
              "'Iuvw_Midcurve_mirrored_1_rotated_30.png'"
            ]
          },
          "metadata": {
            "tags": []
          },
          "execution_count": 215
        }
      ]
    },
    {
      "cell_type": "code",
      "metadata": {
        "id": "oNZW79Q1URmJ",
        "colab_type": "code",
        "colab": {}
      },
      "source": [
        "# image dimension\n",
        "imdim = 100"
      ],
      "execution_count": 0,
      "outputs": []
    },
    {
      "cell_type": "code",
      "metadata": {
        "id": "RjdmJfpRwPr0",
        "colab_type": "code",
        "colab": {}
      },
      "source": [
        "def read_input_image_pairs(datafolder=input_data_folder):\n",
        "    profile_pngs = []\n",
        "    midcurve_pngs = []\n",
        "    for file in os.listdir(datafolder):\n",
        "        fullpath = os.path.join(datafolder, file)\n",
        "        if os.path.isdir(fullpath):\n",
        "            continue\n",
        "        if file.endswith(\".png\"):\n",
        "            if file.find(\"Profile\") != -1:\n",
        "                profile_pngs.append(fullpath)\n",
        "            if file.find(\"Midcurve\") != -1:\n",
        "                midcurve_pngs.append(fullpath)\n",
        "    profile_pngs = sorted(profile_pngs)\n",
        "    midcurve_pngs = sorted(midcurve_pngs)\n",
        "    return profile_pngs,midcurve_pngs"
      ],
      "execution_count": 0,
      "outputs": []
    },
    {
      "cell_type": "code",
      "metadata": {
        "id": "Rim24hWkwPr3",
        "colab_type": "code",
        "colab": {}
      },
      "source": [
        "def get_training_data(datafolder=input_data_folder):\n",
        "    profile_pngs,midcurve_pngs = read_input_image_pairs(datafolder)\n",
        "    \n",
        "    profile_pngs_objs = [img_to_array(load_img(f, color_mode='rgba', target_size=(imdim, imdim))) for f in profile_pngs ]\n",
        "    midcurve_pngs_objs = [img_to_array(load_img(f, color_mode='rgba', target_size=(imdim, imdim))) for f in midcurve_pngs]\n",
        "\n",
        "#     profile_pngs_objs = np.array([x.reshape((1,) + x.shape) for x in profile_pngs_objs])\n",
        "#     midcurve_pngs_objs = np.array([x.reshape((1,) + x.shape) for x in midcurve_pngs_objs])\n",
        "\n",
        "    profile_pngs_gray_objs = [x[:,:,3] for x in profile_pngs_objs]\n",
        "    midcurve_pngs_gray_objs =[x[:,:,3] for x in midcurve_pngs_objs]\n",
        "    \n",
        "#     profile_pngs_gray_objs = [np.where(x>128, 0, 1) for x in profile_pngs_gray_objs]\n",
        "#     midcurve_pngs_gray_objs =[np.where(x>128, 0, 1) for x in midcurve_pngs_gray_objs]\n",
        "        \n",
        "    # shufle them\n",
        "    zipped_profiles_midcurves = [(p,m) for p,m in zip(profile_pngs_gray_objs,midcurve_pngs_gray_objs)]\n",
        "    shuffle(zipped_profiles_midcurves)\n",
        "    profile_pngs_gray_objs, midcurve_pngs_gray_objs = zip(*zipped_profiles_midcurves)\n",
        "    \n",
        "    return profile_pngs_gray_objs, midcurve_pngs_gray_objs"
      ],
      "execution_count": 0,
      "outputs": []
    },
    {
      "cell_type": "code",
      "metadata": {
        "id": "GP3POQEVtlck",
        "colab_type": "code",
        "colab": {
          "base_uri": "https://localhost:8080/",
          "height": 323
        },
        "outputId": "f32290b9-9929-46d8-9c05-0c43144b50a7"
      },
      "source": [
        "profile_pngs_objs = ()\n",
        "midcurve_pngs_objs = ()\n",
        "shapes = [\"CapI\", \"InvV\", \"Iuvw\", \"Luvw\", \"Plus\", \"Sm_n\", \"SqLu\", \"Tuvw\", \"Vuvw\", ]\n",
        "\n",
        "for shape in shapes:\n",
        "    print(shape)\n",
        "    tp, tm = get_training_data(os.path.join(input_data_folder, shape))\n",
        "    profile_pngs_objs += tp\n",
        "    midcurve_pngs_objs += tm\n",
        "    print(len(profile_pngs_objs), len(midcurve_pngs_objs))"
      ],
      "execution_count": 227,
      "outputs": [
        {
          "output_type": "stream",
          "text": [
            "CapI\n",
            "112 112\n",
            "InvV\n",
            "224 224\n",
            "Iuvw\n",
            "336 336\n",
            "Luvw\n",
            "448 448\n",
            "Plus\n",
            "560 560\n",
            "Sm_n\n",
            "672 672\n",
            "SqLu\n",
            "784 784\n",
            "Tuvw\n",
            "896 896\n",
            "Vuvw\n",
            "1008 1008\n"
          ],
          "name": "stdout"
        }
      ]
    },
    {
      "cell_type": "code",
      "metadata": {
        "id": "lea0l6OoSS9X",
        "colab_type": "code",
        "outputId": "dbfca40c-6032-4306-f1d4-3685079d0345",
        "colab": {
          "base_uri": "https://localhost:8080/",
          "height": 34
        }
      },
      "source": [
        "len(profile_pngs_objs)"
      ],
      "execution_count": 228,
      "outputs": [
        {
          "output_type": "execute_result",
          "data": {
            "text/plain": [
              "1008"
            ]
          },
          "metadata": {
            "tags": []
          },
          "execution_count": 228
        }
      ]
    },
    {
      "cell_type": "code",
      "metadata": {
        "id": "9f9N734PSXGH",
        "colab_type": "code",
        "outputId": "b6f38b30-ee08-4d3e-9195-bc8dece060d8",
        "colab": {
          "base_uri": "https://localhost:8080/",
          "height": 34
        }
      },
      "source": [
        "profile_pngs_objs[0].shape"
      ],
      "execution_count": 229,
      "outputs": [
        {
          "output_type": "execute_result",
          "data": {
            "text/plain": [
              "(100, 100)"
            ]
          },
          "metadata": {
            "tags": []
          },
          "execution_count": 229
        }
      ]
    },
    {
      "cell_type": "code",
      "metadata": {
        "id": "3CON1HkAtWxn",
        "colab_type": "code",
        "colab": {
          "base_uri": "https://localhost:8080/",
          "height": 34
        },
        "outputId": "b048db01-c333-4021-97cc-41c6fc95ab22"
      },
      "source": [
        "type(midcurve_pngs_objs)"
      ],
      "execution_count": 230,
      "outputs": [
        {
          "output_type": "execute_result",
          "data": {
            "text/plain": [
              "tuple"
            ]
          },
          "metadata": {
            "tags": []
          },
          "execution_count": 230
        }
      ]
    },
    {
      "cell_type": "code",
      "metadata": {
        "id": "IGcijScSwPr8",
        "colab_type": "code",
        "colab": {}
      },
      "source": [
        "def plot_results(original_imgs,computed_imgs,n=10):\n",
        "    # n = 10  # how many digits we will display\n",
        "    plt.figure(figsize=(20, 4))\n",
        "    for i in range(n):\n",
        "        # display original\n",
        "        ax = plt.subplot(2, n, i + 1)\n",
        "        plt.imshow(original_imgs[i].reshape(imdim, imdim),cmap='gray_r')\n",
        "#         plt.gray()\n",
        "        ax.get_xaxis().set_visible(False)\n",
        "        ax.get_yaxis().set_visible(False)\n",
        "    \n",
        "        # display reconstruction\n",
        "        ax = plt.subplot(2, n, i + 1 + n)\n",
        "        plt.imshow(computed_imgs[i].reshape(imdim, imdim),cmap='gray_r')\n",
        "#         plt.gray()\n",
        "        ax.get_xaxis().set_visible(False)\n",
        "        ax.get_yaxis().set_visible(False)\n",
        "    plt.show()"
      ],
      "execution_count": 0,
      "outputs": []
    },
    {
      "cell_type": "code",
      "metadata": {
        "id": "YkMvqA_swPr_",
        "colab_type": "code",
        "outputId": "d7b62dc9-33f1-44fc-89db-1bcd31ab4c0f",
        "colab": {
          "base_uri": "https://localhost:8080/",
          "height": 244
        }
      },
      "source": [
        "plot_results(profile_pngs_objs[830:850],midcurve_pngs_objs[830:850])"
      ],
      "execution_count": 232,
      "outputs": [
        {
          "output_type": "display_data",
          "data": {
            "image/png": "[encoded data removed]",
            "text/plain": [
              "<Figure size 1440x288 with 20 Axes>"
            ]
          },
          "metadata": {
            "tags": []
          }
        }
      ]
    },
    {
      "cell_type": "code",
      "metadata": {
        "id": "KeLJMAIbwPsD",
        "colab_type": "code",
        "colab": {}
      },
      "source": [
        "def get_train_test_split(profile_pngs_gray_objs, midcurve_pngs_gray_objs, encoding_dim=imdim, input_dim=imdim):\n",
        "\n",
        "    # Training\n",
        "    profile_pngs_flat_objs = [x.reshape(input_dim,input_dim,1) for x in profile_pngs_gray_objs]\n",
        "    midcurve_pngs_flat_objs = [x.reshape(input_dim,input_dim,1) for x in midcurve_pngs_gray_objs]\n",
        "    \n",
        "    profile_pngs_objs = np.array(profile_pngs_flat_objs)\n",
        "    midcurve_pngs_objs= np.array(midcurve_pngs_flat_objs)\n",
        "    \n",
        "    '''\n",
        "    train_size = int(len(profile_pngs_objs)*0.7)\n",
        "    x_train = profile_pngs_objs[:train_size]\n",
        "    y_train = midcurve_pngs_objs[:train_size]\n",
        "    x_test = profile_pngs_objs[train_size:]\n",
        "    y_test = midcurve_pngs_objs[train_size:]\n",
        "    '''\n",
        "    x_train, x_test, y_train, y_test = train_test_split(profile_pngs_objs, midcurve_pngs_objs, \n",
        "                                                        test_size=0.2, random_state=37)\n",
        "    return x_train, x_test, y_train, y_test"
      ],
      "execution_count": 0,
      "outputs": []
    },
    {
      "cell_type": "code",
      "metadata": {
        "id": "CsHrNT43wPsG",
        "colab_type": "code",
        "outputId": "d777c573-84ba-4a25-b3f1-891f304ba67f",
        "colab": {
          "base_uri": "https://localhost:8080/",
          "height": 34
        }
      },
      "source": [
        "x_train, x_test, y_train, y_test = get_train_test_split(profile_pngs_objs, midcurve_pngs_objs)\n",
        "\n",
        "print((len(x_train), len(y_train)), (len(x_test), len(y_test)))"
      ],
      "execution_count": 234,
      "outputs": [
        {
          "output_type": "stream",
          "text": [
            "(806, 806) (202, 202)\n"
          ],
          "name": "stdout"
        }
      ]
    },
    {
      "cell_type": "markdown",
      "metadata": {
        "id": "cMg0OhMXwPsJ",
        "colab_type": "text"
      },
      "source": [
        "### Auto-encoder"
      ]
    },
    {
      "cell_type": "code",
      "metadata": {
        "id": "FnGlEsrp5G9_",
        "colab_type": "code",
        "colab": {}
      },
      "source": [
        "class Autoencoder():\n",
        "    def __init__(self):\n",
        "        self.img_rows = imdim\n",
        "        self.img_cols = imdim\n",
        "        self.channels = 1\n",
        "        self.img_shape = (self.img_rows, self.img_cols, self.channels)\n",
        "        \n",
        "        optimizer = Adam(lr=0.0005)\n",
        "        optimizer = SGD(lr=0.00005, nesterov=False)\n",
        "        \n",
        "        self.autoencoder_model = self.build_model()\n",
        "        self.autoencoder_model.compile(loss='binary_crossentropy', optimizer=optimizer)\n",
        "        self.autoencoder_model.summary()\n",
        "    \n",
        "    def build_model(self):\n",
        "        input_layer = Input(shape=self.img_shape)\n",
        "        \n",
        "        # encoder\n",
        "        h = Conv2D(64, (3, 3), activation='relu', padding='same')(input_layer)\n",
        "        h = MaxPooling2D((2, 2), padding='same')(h)\n",
        "        h = Conv2D(32, (3, 3), activation='relu', padding='same')(h)\n",
        "        h = MaxPooling2D((2, 2), padding='same')(h)\n",
        "        \n",
        "        # decoder\n",
        "        h = Conv2D(32, (3, 3), activation='relu', padding='same')(h)\n",
        "        h = UpSampling2D((2, 2))(h)\n",
        "        h = Conv2D(64, (3, 3), activation='relu', padding='same')(h)\n",
        "        h = UpSampling2D((2, 2))(h)\n",
        "        output_layer = Conv2D(1, (3, 3), activation='sigmoid', padding='same')(h)\n",
        "        \n",
        "        return Model(input_layer, output_layer)\n",
        "    \n",
        "    def train_model(self, x_train, y_train, x_val, y_val, epochs, batch_size=20):\n",
        "        early_stopping = EarlyStopping(monitor='val_loss',\n",
        "                                       min_delta=0,\n",
        "                                       patience=5,\n",
        "                                       verbose=1, \n",
        "                                       mode='auto')\n",
        "        history = self.autoencoder_model.fit(x_train, y_train,\n",
        "                                             batch_size=batch_size,\n",
        "                                             epochs=epochs,\n",
        "                                             validation_data=(x_val, y_val),\n",
        "                                             callbacks=[early_stopping])\n",
        "        plt.plot(history.history['loss'])\n",
        "        plt.plot(history.history['val_loss'])\n",
        "        plt.title('Model loss')\n",
        "        plt.ylabel('Loss')\n",
        "        plt.xlabel('Epoch')\n",
        "        plt.legend(['Train', 'Test'], loc='upper left')\n",
        "        plt.show()\n",
        "    \n",
        "    def eval_model(self, x_test):\n",
        "        preds = self.autoencoder_model.predict(x_test)\n",
        "        return preds"
      ],
      "execution_count": 0,
      "outputs": []
    },
    {
      "cell_type": "code",
      "metadata": {
        "id": "AS9oXJ9e5KrT",
        "colab_type": "code",
        "outputId": "6b1b9f7f-1afc-4723-affb-26283c39e357",
        "colab": {
          "base_uri": "https://localhost:8080/",
          "height": 1000
        }
      },
      "source": [
        "ae = Autoencoder()\n",
        "ae.train_model(x_train, y_train, x_test, y_test, epochs=200, batch_size=5)\n",
        "\n",
        "encoded_imgs = ae.eval_model(x_test)\n",
        "decoded_imgs = ae.eval_model(encoded_imgs)\n",
        "\n",
        "plot_results(x_test, decoded_imgs)"
      ],
      "execution_count": 236,
      "outputs": [
        {
          "output_type": "stream",
          "text": [
            "_________________________________________________________________\n",
            "Layer (type)                 Output Shape              Param #   \n",
            "=================================================================\n",
            "input_34 (InputLayer)        (None, 100, 100, 1)       0         \n",
            "_________________________________________________________________\n",
            "conv2d_170 (Conv2D)          (None, 100, 100, 64)      640       \n",
            "_________________________________________________________________\n",
            "max_pooling2d_68 (MaxPooling (None, 50, 50, 64)        0         \n",
            "_________________________________________________________________\n",
            "conv2d_171 (Conv2D)          (None, 50, 50, 32)        18464     \n",
            "_________________________________________________________________\n",
            "max_pooling2d_69 (MaxPooling (None, 25, 25, 32)        0         \n",
            "_________________________________________________________________\n",
            "conv2d_172 (Conv2D)          (None, 25, 25, 32)        9248      \n",
            "_________________________________________________________________\n",
            "up_sampling2d_68 (UpSampling (None, 50, 50, 32)        0         \n",
            "_________________________________________________________________\n",
            "conv2d_173 (Conv2D)          (None, 50, 50, 64)        18496     \n",
            "_________________________________________________________________\n",
            "up_sampling2d_69 (UpSampling (None, 100, 100, 64)      0         \n",
            "_________________________________________________________________\n",
            "conv2d_174 (Conv2D)          (None, 100, 100, 1)       577       \n",
            "=================================================================\n",
            "Total params: 47,425\n",
            "Trainable params: 47,425\n",
            "Non-trainable params: 0\n",
            "_________________________________________________________________\n",
            "Train on 806 samples, validate on 202 samples\n",
            "Epoch 1/200\n",
            "806/806 [==============================] - 5s 6ms/step - loss: -12.4836 - val_loss: -14.7516\n",
            "Epoch 2/200\n",
            "806/806 [==============================] - 1s 2ms/step - loss: -13.7587 - val_loss: -14.8009\n",
            "Epoch 3/200\n",
            "806/806 [==============================] - 1s 2ms/step - loss: -13.8014 - val_loss: -14.8489\n",
            "Epoch 4/200\n",
            "806/806 [==============================] - 1s 2ms/step - loss: -13.8446 - val_loss: -14.8976\n",
            "Epoch 5/200\n",
            "806/806 [==============================] - 1s 2ms/step - loss: -13.8883 - val_loss: -14.9462\n",
            "Epoch 6/200\n",
            "806/806 [==============================] - 1s 2ms/step - loss: -13.9319 - val_loss: -14.9946\n",
            "Epoch 7/200\n",
            "806/806 [==============================] - 1s 2ms/step - loss: -13.9772 - val_loss: -15.0429\n",
            "Epoch 8/200\n",
            "806/806 [==============================] - 1s 2ms/step - loss: -14.0202 - val_loss: -15.0911\n",
            "Epoch 9/200\n",
            "806/806 [==============================] - 1s 2ms/step - loss: -14.0634 - val_loss: -15.1369\n",
            "Epoch 10/200\n",
            "806/806 [==============================] - 1s 2ms/step - loss: -14.1068 - val_loss: -15.1828\n",
            "Epoch 11/200\n",
            "806/806 [==============================] - 1s 2ms/step - loss: -14.1482 - val_loss: -15.2288\n",
            "Epoch 12/200\n",
            "806/806 [==============================] - 1s 2ms/step - loss: -14.1900 - val_loss: -15.2751\n",
            "Epoch 13/200\n",
            "806/806 [==============================] - 1s 2ms/step - loss: -14.2318 - val_loss: -15.3225\n",
            "Epoch 14/200\n",
            "806/806 [==============================] - 1s 2ms/step - loss: -14.2759 - val_loss: -15.3708\n",
            "Epoch 15/200\n",
            "806/806 [==============================] - 1s 2ms/step - loss: -14.3202 - val_loss: -15.4170\n",
            "Epoch 16/200\n",
            "806/806 [==============================] - 1s 2ms/step - loss: -14.3645 - val_loss: -15.4630\n",
            "Epoch 17/200\n",
            "806/806 [==============================] - 1s 2ms/step - loss: -14.4088 - val_loss: -15.5178\n",
            "Epoch 18/200\n",
            "806/806 [==============================] - 1s 2ms/step - loss: -14.4567 - val_loss: -15.5637\n",
            "Epoch 19/200\n",
            "806/806 [==============================] - 1s 2ms/step - loss: -14.5033 - val_loss: -15.6206\n",
            "Epoch 20/200\n",
            "806/806 [==============================] - 1s 1ms/step - loss: -14.5525 - val_loss: -15.6657\n",
            "Epoch 21/200\n",
            "806/806 [==============================] - 1s 2ms/step - loss: -14.6003 - val_loss: -15.7205\n",
            "Epoch 22/200\n",
            "806/806 [==============================] - 1s 2ms/step - loss: -14.6490 - val_loss: -15.7730\n",
            "Epoch 23/200\n",
            "806/806 [==============================] - 1s 2ms/step - loss: -14.6963 - val_loss: -15.8204\n",
            "Epoch 24/200\n",
            "806/806 [==============================] - 1s 2ms/step - loss: -14.7418 - val_loss: -15.8649\n",
            "Epoch 25/200\n",
            "806/806 [==============================] - 1s 2ms/step - loss: -14.7832 - val_loss: -15.8995\n",
            "Epoch 26/200\n",
            "806/806 [==============================] - 1s 2ms/step - loss: -14.8209 - val_loss: -15.9454\n",
            "Epoch 27/200\n",
            "806/806 [==============================] - 1s 2ms/step - loss: -14.8591 - val_loss: -15.9832\n",
            "Epoch 28/200\n",
            "806/806 [==============================] - 1s 2ms/step - loss: -14.8942 - val_loss: -16.0179\n",
            "Epoch 29/200\n",
            "806/806 [==============================] - 1s 2ms/step - loss: -14.9265 - val_loss: -16.0515\n",
            "Epoch 30/200\n",
            "806/806 [==============================] - 1s 2ms/step - loss: -14.9568 - val_loss: -16.0844\n",
            "Epoch 31/200\n",
            "806/806 [==============================] - 1s 2ms/step - loss: -14.9866 - val_loss: -16.1081\n",
            "Epoch 32/200\n",
            "806/806 [==============================] - 1s 2ms/step - loss: -15.0128 - val_loss: -16.1430\n",
            "Epoch 33/200\n",
            "806/806 [==============================] - 1s 2ms/step - loss: -15.0403 - val_loss: -16.1712\n",
            "Epoch 34/200\n",
            "806/806 [==============================] - 1s 2ms/step - loss: -15.0638 - val_loss: -16.1945\n",
            "Epoch 35/200\n",
            "806/806 [==============================] - 1s 2ms/step - loss: -15.0879 - val_loss: -16.2201\n",
            "Epoch 36/200\n",
            "806/806 [==============================] - 1s 2ms/step - loss: -15.1105 - val_loss: -16.2423\n",
            "Epoch 37/200\n",
            "806/806 [==============================] - 1s 2ms/step - loss: -15.1327 - val_loss: -16.2678\n",
            "Epoch 38/200\n",
            "806/806 [==============================] - 1s 2ms/step - loss: -15.1543 - val_loss: -16.2920\n",
            "Epoch 39/200\n",
            "806/806 [==============================] - 1s 2ms/step - loss: -15.1749 - val_loss: -16.3120\n",
            "Epoch 40/200\n",
            "806/806 [==============================] - 1s 2ms/step - loss: -15.1975 - val_loss: -16.3341\n",
            "Epoch 41/200\n",
            "806/806 [==============================] - 1s 2ms/step - loss: -15.2160 - val_loss: -16.3575\n",
            "Epoch 42/200\n",
            "806/806 [==============================] - 1s 2ms/step - loss: -15.2354 - val_loss: -16.3743\n",
            "Epoch 43/200\n",
            "806/806 [==============================] - 1s 2ms/step - loss: -15.2548 - val_loss: -16.3992\n",
            "Epoch 44/200\n",
            "806/806 [==============================] - 1s 2ms/step - loss: -15.2740 - val_loss: -16.4184\n",
            "Epoch 45/200\n",
            "806/806 [==============================] - 1s 2ms/step - loss: -15.2917 - val_loss: -16.4388\n",
            "Epoch 46/200\n",
            "806/806 [==============================] - 1s 2ms/step - loss: -15.3110 - val_loss: -16.4529\n",
            "Epoch 47/200\n",
            "806/806 [==============================] - 1s 2ms/step - loss: -15.3277 - val_loss: -16.4743\n",
            "Epoch 48/200\n",
            "806/806 [==============================] - 1s 1ms/step - loss: -15.3458 - val_loss: -16.4955\n",
            "Epoch 49/200\n",
            "806/806 [==============================] - 1s 2ms/step - loss: -15.3620 - val_loss: -16.5116\n",
            "Epoch 50/200\n",
            "806/806 [==============================] - 1s 2ms/step - loss: -15.3817 - val_loss: -16.5318\n",
            "Epoch 51/200\n",
            "806/806 [==============================] - 1s 2ms/step - loss: -15.3967 - val_loss: -16.5417\n",
            "Epoch 52/200\n",
            "806/806 [==============================] - 1s 2ms/step - loss: -15.4142 - val_loss: -16.5663\n",
            "Epoch 53/200\n",
            "806/806 [==============================] - 1s 2ms/step - loss: -15.4311 - val_loss: -16.5860\n",
            "Epoch 54/200\n",
            "806/806 [==============================] - 1s 1ms/step - loss: -15.4471 - val_loss: -16.5990\n",
            "Epoch 55/200\n",
            "806/806 [==============================] - 1s 2ms/step - loss: -15.4646 - val_loss: -16.6198\n",
            "Epoch 56/200\n",
            "806/806 [==============================] - 1s 2ms/step - loss: -15.4790 - val_loss: -16.6367\n",
            "Epoch 57/200\n",
            "806/806 [==============================] - 1s 2ms/step - loss: -15.4949 - val_loss: -16.6521\n",
            "Epoch 58/200\n",
            "806/806 [==============================] - 1s 2ms/step - loss: -15.5110 - val_loss: -16.6667\n",
            "Epoch 59/200\n",
            "806/806 [==============================] - 1s 2ms/step - loss: -15.5268 - val_loss: -16.6860\n",
            "Epoch 60/200\n",
            "806/806 [==============================] - 1s 2ms/step - loss: -15.5418 - val_loss: -16.6982\n",
            "Epoch 61/200\n",
            "806/806 [==============================] - 1s 2ms/step - loss: -15.5571 - val_loss: -16.7020\n",
            "Epoch 62/200\n",
            "806/806 [==============================] - 1s 2ms/step - loss: -15.5720 - val_loss: -16.7332\n",
            "Epoch 63/200\n",
            "806/806 [==============================] - 1s 2ms/step - loss: -15.5872 - val_loss: -16.7279\n",
            "Epoch 64/200\n",
            "806/806 [==============================] - 1s 2ms/step - loss: -15.6002 - val_loss: -16.7627\n",
            "Epoch 65/200\n",
            "806/806 [==============================] - 1s 2ms/step - loss: -15.6146 - val_loss: -16.7761\n",
            "Epoch 66/200\n",
            "806/806 [==============================] - 1s 2ms/step - loss: -15.6298 - val_loss: -16.7745\n",
            "Epoch 67/200\n",
            "806/806 [==============================] - 1s 1ms/step - loss: -15.6432 - val_loss: -16.8063\n",
            "Epoch 68/200\n",
            "806/806 [==============================] - 1s 2ms/step - loss: -15.6576 - val_loss: -16.8129\n",
            "Epoch 69/200\n",
            "806/806 [==============================] - 1s 2ms/step - loss: -15.6715 - val_loss: -16.8355\n",
            "Epoch 70/200\n",
            "806/806 [==============================] - 1s 2ms/step - loss: -15.6829 - val_loss: -16.8459\n",
            "Epoch 71/200\n",
            "806/806 [==============================] - 1s 2ms/step - loss: -15.6965 - val_loss: -16.8634\n",
            "Epoch 72/200\n",
            "806/806 [==============================] - 1s 2ms/step - loss: -15.7106 - val_loss: -16.8575\n",
            "Epoch 73/200\n",
            "806/806 [==============================] - 1s 2ms/step - loss: -15.7224 - val_loss: -16.8651\n",
            "Epoch 74/200\n",
            "806/806 [==============================] - 1s 2ms/step - loss: -15.7353 - val_loss: -16.8988\n",
            "Epoch 75/200\n",
            "806/806 [==============================] - 1s 2ms/step - loss: -15.7473 - val_loss: -16.9133\n",
            "Epoch 76/200\n",
            "806/806 [==============================] - 1s 2ms/step - loss: -15.7588 - val_loss: -16.9261\n",
            "Epoch 77/200\n",
            "806/806 [==============================] - 1s 1ms/step - loss: -15.7712 - val_loss: -16.9352\n",
            "Epoch 78/200\n",
            "806/806 [==============================] - 1s 2ms/step - loss: -15.7806 - val_loss: -16.9518\n",
            "Epoch 79/200\n",
            "806/806 [==============================] - 1s 2ms/step - loss: -15.7941 - val_loss: -16.9275\n",
            "Epoch 80/200\n",
            "806/806 [==============================] - 1s 2ms/step - loss: -15.8013 - val_loss: -16.9678\n",
            "Epoch 81/200\n",
            "806/806 [==============================] - 1s 2ms/step - loss: -15.8135 - val_loss: -16.9859\n",
            "Epoch 82/200\n",
            "806/806 [==============================] - 1s 2ms/step - loss: -15.8234 - val_loss: -16.9908\n",
            "Epoch 83/200\n",
            "806/806 [==============================] - 1s 1ms/step - loss: -15.8330 - val_loss: -16.9853\n",
            "Epoch 84/200\n",
            "806/806 [==============================] - 1s 2ms/step - loss: -15.8455 - val_loss: -17.0088\n",
            "Epoch 85/200\n",
            "806/806 [==============================] - 1s 2ms/step - loss: -15.8528 - val_loss: -17.0282\n",
            "Epoch 86/200\n",
            "806/806 [==============================] - 1s 2ms/step - loss: -15.8620 - val_loss: -17.0341\n",
            "Epoch 87/200\n",
            "806/806 [==============================] - 1s 2ms/step - loss: -15.8716 - val_loss: -17.0445\n",
            "Epoch 88/200\n",
            "806/806 [==============================] - 1s 2ms/step - loss: -15.8814 - val_loss: -17.0498\n",
            "Epoch 89/200\n",
            "806/806 [==============================] - 1s 2ms/step - loss: -15.8891 - val_loss: -17.0651\n",
            "Epoch 90/200\n",
            "806/806 [==============================] - 1s 1ms/step - loss: -15.8976 - val_loss: -17.0754\n",
            "Epoch 91/200\n",
            "806/806 [==============================] - 1s 2ms/step - loss: -15.9058 - val_loss: -17.0831\n",
            "Epoch 92/200\n",
            "806/806 [==============================] - 1s 2ms/step - loss: -15.9139 - val_loss: -17.0887\n",
            "Epoch 93/200\n",
            "806/806 [==============================] - 1s 2ms/step - loss: -15.9219 - val_loss: -17.0992\n",
            "Epoch 94/200\n",
            "806/806 [==============================] - 1s 2ms/step - loss: -15.9280 - val_loss: -17.1091\n",
            "Epoch 95/200\n",
            "806/806 [==============================] - 1s 2ms/step - loss: -15.9378 - val_loss: -17.1167\n",
            "Epoch 96/200\n",
            "806/806 [==============================] - 1s 1ms/step - loss: -15.9457 - val_loss: -17.1267\n",
            "Epoch 97/200\n",
            "806/806 [==============================] - 1s 1ms/step - loss: -15.9521 - val_loss: -17.1308\n",
            "Epoch 98/200\n",
            "806/806 [==============================] - 1s 2ms/step - loss: -15.9584 - val_loss: -17.1397\n",
            "Epoch 99/200\n",
            "806/806 [==============================] - 1s 2ms/step - loss: -15.9655 - val_loss: -17.1471\n",
            "Epoch 100/200\n",
            "806/806 [==============================] - 1s 2ms/step - loss: -15.9724 - val_loss: -17.1547\n",
            "Epoch 101/200\n",
            "806/806 [==============================] - 1s 1ms/step - loss: -15.9783 - val_loss: -17.1619\n",
            "Epoch 102/200\n",
            "806/806 [==============================] - 1s 2ms/step - loss: -15.9853 - val_loss: -17.1659\n",
            "Epoch 103/200\n",
            "806/806 [==============================] - 1s 2ms/step - loss: -15.9915 - val_loss: -17.1202\n",
            "Epoch 104/200\n",
            "806/806 [==============================] - 1s 1ms/step - loss: -15.9954 - val_loss: -17.1537\n",
            "Epoch 105/200\n",
            "806/806 [==============================] - 1s 2ms/step - loss: -16.0002 - val_loss: -17.1879\n",
            "Epoch 106/200\n",
            "806/806 [==============================] - 1s 2ms/step - loss: -16.0064 - val_loss: -17.1883\n",
            "Epoch 107/200\n",
            "806/806 [==============================] - 1s 2ms/step - loss: -16.0154 - val_loss: -17.2008\n",
            "Epoch 108/200\n",
            "806/806 [==============================] - 1s 2ms/step - loss: -16.0177 - val_loss: -17.2049\n",
            "Epoch 109/200\n",
            "806/806 [==============================] - 1s 2ms/step - loss: -16.0231 - val_loss: -17.2121\n",
            "Epoch 110/200\n",
            "806/806 [==============================] - 1s 2ms/step - loss: -16.0285 - val_loss: -17.1999\n",
            "Epoch 111/200\n",
            "806/806 [==============================] - 1s 2ms/step - loss: -16.0339 - val_loss: -17.2183\n",
            "Epoch 112/200\n",
            "806/806 [==============================] - 1s 1ms/step - loss: -16.0387 - val_loss: -17.2264\n",
            "Epoch 113/200\n",
            "806/806 [==============================] - 1s 2ms/step - loss: -16.0424 - val_loss: -17.2296\n",
            "Epoch 114/200\n",
            "806/806 [==============================] - 1s 2ms/step - loss: -16.0488 - val_loss: -17.2283\n",
            "Epoch 115/200\n",
            "806/806 [==============================] - 1s 2ms/step - loss: -16.0543 - val_loss: -17.2426\n",
            "Epoch 116/200\n",
            "806/806 [==============================] - 1s 2ms/step - loss: -16.0566 - val_loss: -17.2490\n",
            "Epoch 117/200\n",
            "806/806 [==============================] - 1s 2ms/step - loss: -16.0616 - val_loss: -17.2534\n",
            "Epoch 118/200\n",
            "806/806 [==============================] - 1s 2ms/step - loss: -16.0656 - val_loss: -17.2562\n",
            "Epoch 119/200\n",
            "806/806 [==============================] - 1s 2ms/step - loss: -16.0699 - val_loss: -17.2589\n",
            "Epoch 120/200\n",
            "806/806 [==============================] - 1s 2ms/step - loss: -16.0732 - val_loss: -17.2581\n",
            "Epoch 121/200\n",
            "806/806 [==============================] - 1s 2ms/step - loss: -16.0792 - val_loss: -17.2081\n",
            "Epoch 122/200\n",
            "806/806 [==============================] - 1s 2ms/step - loss: -16.0811 - val_loss: -17.2757\n",
            "Epoch 123/200\n",
            "806/806 [==============================] - 1s 1ms/step - loss: -16.0861 - val_loss: -17.2806\n",
            "Epoch 124/200\n",
            "806/806 [==============================] - 1s 1ms/step - loss: -16.0899 - val_loss: -17.2778\n",
            "Epoch 125/200\n",
            "806/806 [==============================] - 1s 2ms/step - loss: -16.0931 - val_loss: -17.2810\n",
            "Epoch 126/200\n",
            "806/806 [==============================] - 1s 2ms/step - loss: -16.0953 - val_loss: -17.2902\n",
            "Epoch 127/200\n",
            "806/806 [==============================] - 1s 2ms/step - loss: -16.1007 - val_loss: -17.2948\n",
            "Epoch 128/200\n",
            "806/806 [==============================] - 1s 1ms/step - loss: -16.1040 - val_loss: -17.2664\n",
            "Epoch 129/200\n",
            "806/806 [==============================] - 1s 1ms/step - loss: -16.1076 - val_loss: -17.2696\n",
            "Epoch 130/200\n",
            "806/806 [==============================] - 1s 2ms/step - loss: -16.1116 - val_loss: -17.2646\n",
            "Epoch 131/200\n",
            "806/806 [==============================] - 1s 2ms/step - loss: -16.1097 - val_loss: -17.3054\n",
            "Epoch 132/200\n",
            "806/806 [==============================] - 1s 2ms/step - loss: -16.1165 - val_loss: -17.3068\n",
            "Epoch 133/200\n",
            "806/806 [==============================] - 1s 2ms/step - loss: -16.1205 - val_loss: -17.3106\n",
            "Epoch 134/200\n",
            "806/806 [==============================] - 1s 2ms/step - loss: -16.1206 - val_loss: -17.3204\n",
            "Epoch 135/200\n",
            "806/806 [==============================] - 1s 2ms/step - loss: -16.1238 - val_loss: -17.3103\n",
            "Epoch 136/200\n",
            "806/806 [==============================] - 1s 2ms/step - loss: -16.1264 - val_loss: -17.3253\n",
            "Epoch 137/200\n",
            "806/806 [==============================] - 1s 1ms/step - loss: -16.1311 - val_loss: -17.3261\n",
            "Epoch 138/200\n",
            "806/806 [==============================] - 1s 2ms/step - loss: -16.1346 - val_loss: -17.2897\n",
            "Epoch 139/200\n",
            "806/806 [==============================] - 1s 2ms/step - loss: -16.1366 - val_loss: -17.3246\n",
            "Epoch 140/200\n",
            "806/806 [==============================] - 1s 2ms/step - loss: -16.1385 - val_loss: -17.3365\n",
            "Epoch 141/200\n",
            "806/806 [==============================] - 1s 2ms/step - loss: -16.1424 - val_loss: -17.3395\n",
            "Epoch 142/200\n",
            "806/806 [==============================] - 1s 2ms/step - loss: -16.1470 - val_loss: -17.3230\n",
            "Epoch 143/200\n",
            "806/806 [==============================] - 1s 2ms/step - loss: -16.1466 - val_loss: -17.2530\n",
            "Epoch 144/200\n",
            "806/806 [==============================] - 1s 2ms/step - loss: -16.1465 - val_loss: -17.3417\n",
            "Epoch 145/200\n",
            "806/806 [==============================] - 1s 2ms/step - loss: -16.1525 - val_loss: -17.3509\n",
            "Epoch 146/200\n",
            "806/806 [==============================] - 1s 2ms/step - loss: -16.1549 - val_loss: -17.3446\n",
            "Epoch 147/200\n",
            "806/806 [==============================] - 1s 2ms/step - loss: -16.1555 - val_loss: -17.3248\n",
            "Epoch 148/200\n",
            "806/806 [==============================] - 1s 2ms/step - loss: -16.1585 - val_loss: -17.3534\n",
            "Epoch 149/200\n",
            "806/806 [==============================] - 1s 2ms/step - loss: -16.1609 - val_loss: -17.3509\n",
            "Epoch 150/200\n",
            "806/806 [==============================] - 1s 2ms/step - loss: -16.1613 - val_loss: -17.3602\n",
            "Epoch 151/200\n",
            "806/806 [==============================] - 1s 1ms/step - loss: -16.1660 - val_loss: -17.3581\n",
            "Epoch 152/200\n",
            "806/806 [==============================] - 1s 2ms/step - loss: -16.1696 - val_loss: -17.3652\n",
            "Epoch 153/200\n",
            "806/806 [==============================] - 1s 2ms/step - loss: -16.1711 - val_loss: -17.3580\n",
            "Epoch 154/200\n",
            "806/806 [==============================] - 1s 2ms/step - loss: -16.1724 - val_loss: -17.3644\n",
            "Epoch 155/200\n",
            "806/806 [==============================] - 1s 2ms/step - loss: -16.1756 - val_loss: -17.3732\n",
            "Epoch 156/200\n",
            "806/806 [==============================] - 1s 2ms/step - loss: -16.1753 - val_loss: -17.3735\n",
            "Epoch 157/200\n",
            "806/806 [==============================] - 1s 2ms/step - loss: -16.1792 - val_loss: -17.3103\n",
            "Epoch 158/200\n",
            "806/806 [==============================] - 1s 2ms/step - loss: -16.1807 - val_loss: -17.3762\n",
            "Epoch 159/200\n",
            "806/806 [==============================] - 1s 2ms/step - loss: -16.1825 - val_loss: -17.3791\n",
            "Epoch 160/200\n",
            "806/806 [==============================] - 1s 2ms/step - loss: -16.1842 - val_loss: -17.3678\n",
            "Epoch 161/200\n",
            "806/806 [==============================] - 1s 2ms/step - loss: -16.1874 - val_loss: -17.3779\n",
            "Epoch 162/200\n",
            "806/806 [==============================] - 1s 2ms/step - loss: -16.1877 - val_loss: -17.3766\n",
            "Epoch 163/200\n",
            "806/806 [==============================] - 1s 2ms/step - loss: -16.1912 - val_loss: -17.3902\n",
            "Epoch 164/200\n",
            "806/806 [==============================] - 1s 2ms/step - loss: -16.1924 - val_loss: -17.3341\n",
            "Epoch 165/200\n",
            "806/806 [==============================] - 1s 2ms/step - loss: -16.1921 - val_loss: -17.3949\n",
            "Epoch 166/200\n",
            "806/806 [==============================] - 1s 1ms/step - loss: -16.1963 - val_loss: -17.3666\n",
            "Epoch 167/200\n",
            "806/806 [==============================] - 1s 2ms/step - loss: -16.1952 - val_loss: -17.3984\n",
            "Epoch 168/200\n",
            "806/806 [==============================] - 1s 2ms/step - loss: -16.2001 - val_loss: -17.3927\n",
            "Epoch 169/200\n",
            "806/806 [==============================] - 1s 2ms/step - loss: -16.2012 - val_loss: -17.4022\n",
            "Epoch 170/200\n",
            "806/806 [==============================] - 1s 2ms/step - loss: -16.2019 - val_loss: -17.4042\n",
            "Epoch 171/200\n",
            "806/806 [==============================] - 1s 2ms/step - loss: -16.2028 - val_loss: -17.4067\n",
            "Epoch 172/200\n",
            "806/806 [==============================] - 1s 2ms/step - loss: -16.2066 - val_loss: -17.3982\n",
            "Epoch 173/200\n",
            "806/806 [==============================] - 1s 2ms/step - loss: -16.2074 - val_loss: -17.4076\n",
            "Epoch 174/200\n",
            "806/806 [==============================] - 1s 2ms/step - loss: -16.2087 - val_loss: -17.4059\n",
            "Epoch 175/200\n",
            "806/806 [==============================] - 1s 2ms/step - loss: -16.2118 - val_loss: -17.3904\n",
            "Epoch 176/200\n",
            "806/806 [==============================] - 1s 2ms/step - loss: -16.2141 - val_loss: -17.2521\n",
            "Epoch 177/200\n",
            "806/806 [==============================] - 1s 2ms/step - loss: -16.2109 - val_loss: -17.3706\n",
            "Epoch 178/200\n",
            "806/806 [==============================] - 1s 2ms/step - loss: -16.2143 - val_loss: -17.4046\n",
            "Epoch 00178: early stopping\n"
          ],
          "name": "stdout"
        },
        {
          "output_type": "display_data",
          "data": {
            "image/png": "[encoded data removed]",
            "text/plain": [
              "<Figure size 432x288 with 1 Axes>"
            ]
          },
          "metadata": {
            "tags": []
          }
        },
        {
          "output_type": "display_data",
          "data": {
            "image/png": "[encoded data removed]",
            "text/plain": [
              "<Figure size 1440x288 with 20 Axes>"
            ]
          },
          "metadata": {
            "tags": []
          }
        }
      ]
    },
    {
      "cell_type": "code",
      "metadata": {
        "id": "qX_NauPVYMaD",
        "colab_type": "code",
        "colab": {}
      },
      "source": [
        ""
      ],
      "execution_count": 0,
      "outputs": []
    }
  ]
}