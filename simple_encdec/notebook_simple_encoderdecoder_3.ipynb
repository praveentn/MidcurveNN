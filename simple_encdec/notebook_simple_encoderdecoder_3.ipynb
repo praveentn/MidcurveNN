{
  "nbformat": 4,
  "nbformat_minor": 0,
  "metadata": {
    "accelerator": "GPU",
    "colab": {
      "name": "notebook_simple_encoderdecoder_3.ipynb",
      "version": "0.3.2",
      "provenance": [],
      "collapsed_sections": [],
      "toc_visible": true,
      "include_colab_link": true
    },
    "kernelspec": {
      "name": "python3",
      "display_name": "Python 3"
    }
  },
  "cells": [
    {
      "cell_type": "markdown",
      "metadata": {
        "id": "view-in-github",
        "colab_type": "text"
      },
      "source": [
        "<a href=\"https://colab.research.google.com/github/praveentn/MidcurveNN/blob/master/simple_encdec/notebook_simple_encoderdecoder_3.ipynb\" target=\"_parent\"><img src=\"https://colab.research.google.com/assets/colab-badge.svg\" alt=\"Open In Colab\"/></a>"
      ]
    },
    {
      "cell_type": "code",
      "metadata": {
        "cellView": "form",
        "colab_type": "code",
        "id": "qmkj-80IHxnd",
        "colab": {}
      },
      "source": [
        "#@title Licensed under the Apache License, Version 2.0 (the \"License\");\n",
        "# you may not use this file except in compliance with the License.\n",
        "# You may obtain a copy of the License at\n",
        "#\n",
        "# https://www.apache.org/licenses/LICENSE-2.0\n",
        "#\n",
        "# Unless required by applicable law or agreed to in writing, software\n",
        "# distributed under the License is distributed on an \"AS IS\" BASIS,\n",
        "# WITHOUT WARRANTIES OR CONDITIONS OF ANY KIND, either express or implied.\n",
        "# See the License for the specific language governing permissions and\n",
        "# limitations under the License."
      ],
      "execution_count": 0,
      "outputs": []
    },
    {
      "cell_type": "markdown",
      "metadata": {
        "colab_type": "text",
        "id": "_xnMOsbqHz61"
      },
      "source": [
        "# Simple EncoderDecoder"
      ]
    },
    {
      "cell_type": "code",
      "metadata": {
        "id": "nwHkho30-ytC",
        "colab_type": "code",
        "outputId": "df4e3ffe-6430-45d9-b4c4-ca60625443d2",
        "colab": {
          "base_uri": "https://localhost:8080/",
          "height": 72
        }
      },
      "source": [
        "# mount google drive & set working directory\n",
        "# requires auth (click on url & copy token into text box when prompted)\n",
        "from google.colab import drive\n",
        "drive.mount(\"/content/gdrive\")\n",
        "\n",
        "import os\n",
        "print(os.getcwd())\n",
        "\n",
        "os.chdir('/content/gdrive/My Drive/Colab Notebooks/MidcurveNN')\n",
        "!pwd"
      ],
      "execution_count": 1,
      "outputs": [
        {
          "output_type": "stream",
          "text": [
            "Drive already mounted at /content/gdrive; to attempt to forcibly remount, call drive.mount(\"/content/gdrive\", force_remount=True).\n",
            "/content\n",
            "/content/gdrive/My Drive/Colab Notebooks/MidcurveNN\n"
          ],
          "name": "stdout"
        }
      ]
    },
    {
      "cell_type": "markdown",
      "metadata": {
        "id": "Uz7Wpotd-oFf",
        "colab_type": "text"
      },
      "source": [
        "## Installations"
      ]
    },
    {
      "cell_type": "code",
      "metadata": {
        "id": "YeapgX0p-oFg",
        "colab_type": "code",
        "colab": {}
      },
      "source": [
        "# requirements = \"\"\"\n",
        "# keras\n",
        "# git+https://www.github.com/keras-team/keras-contrib.git\n",
        "# matplotlib\n",
        "# numpy\n",
        "# scipy\n",
        "# pillow\n",
        "# #urllib\n",
        "# #skimage\n",
        "# scikit-image\n",
        "# #gzip\n",
        "# #pickle\n",
        "# \"\"\"\n",
        "# %store requirements > requirements.txt"
      ],
      "execution_count": 0,
      "outputs": []
    },
    {
      "cell_type": "code",
      "metadata": {
        "id": "IoRU4Ake-oFj",
        "colab_type": "code",
        "outputId": "e9975fd1-8866-4568-d740-c38268e7e020",
        "colab": {
          "base_uri": "https://localhost:8080/",
          "height": 272
        }
      },
      "source": [
        "# !pip install -r requirements.txt\n",
        "!pip install drawSvg"
      ],
      "execution_count": 3,
      "outputs": [
        {
          "output_type": "stream",
          "text": [
            "Requirement already satisfied: drawSvg in /usr/local/lib/python3.6/dist-packages (1.2.2)\n",
            "Requirement already satisfied: cairoSVG in /usr/local/lib/python3.6/dist-packages (from drawSvg) (2.4.1)\n",
            "Requirement already satisfied: imageio in /usr/local/lib/python3.6/dist-packages (from drawSvg) (2.4.1)\n",
            "Requirement already satisfied: numpy in /usr/local/lib/python3.6/dist-packages (from drawSvg) (1.16.4)\n",
            "Requirement already satisfied: cairocffi in /usr/local/lib/python3.6/dist-packages (from cairoSVG->drawSvg) (1.0.2)\n",
            "Requirement already satisfied: defusedxml in /usr/local/lib/python3.6/dist-packages (from cairoSVG->drawSvg) (0.6.0)\n",
            "Requirement already satisfied: cssselect2 in /usr/local/lib/python3.6/dist-packages (from cairoSVG->drawSvg) (0.2.1)\n",
            "Requirement already satisfied: tinycss2 in /usr/local/lib/python3.6/dist-packages (from cairoSVG->drawSvg) (1.0.2)\n",
            "Requirement already satisfied: pillow in /usr/local/lib/python3.6/dist-packages (from cairoSVG->drawSvg) (4.3.0)\n",
            "Requirement already satisfied: cffi>=1.1.0 in /usr/local/lib/python3.6/dist-packages (from cairocffi->cairoSVG->drawSvg) (1.12.3)\n",
            "Requirement already satisfied: setuptools>=39.2.0 in /usr/local/lib/python3.6/dist-packages (from cairocffi->cairoSVG->drawSvg) (41.0.1)\n",
            "Requirement already satisfied: webencodings>=0.4 in /usr/local/lib/python3.6/dist-packages (from tinycss2->cairoSVG->drawSvg) (0.5.1)\n",
            "Requirement already satisfied: olefile in /usr/local/lib/python3.6/dist-packages (from pillow->cairoSVG->drawSvg) (0.46)\n",
            "Requirement already satisfied: pycparser in /usr/local/lib/python3.6/dist-packages (from cffi>=1.1.0->cairocffi->cairoSVG->drawSvg) (2.19)\n"
          ],
          "name": "stdout"
        }
      ]
    },
    {
      "cell_type": "markdown",
      "metadata": {
        "colab_type": "text",
        "id": "e1_Y75QXJS6h"
      },
      "source": [
        "## Import TensorFlow and other libraries"
      ]
    },
    {
      "cell_type": "code",
      "metadata": {
        "colab_type": "code",
        "id": "YfIk2es3hJEd",
        "colab": {
          "base_uri": "https://localhost:8080/",
          "height": 35
        },
        "outputId": "dd723fe9-2872-4ac1-b472-0f4e553a33c0"
      },
      "source": [
        "from __future__ import absolute_import, division, print_function, unicode_literals\n",
        "\n",
        "# !pip install tensorflow-gpu==2.0.0-alpha0\n",
        "import tensorflow as tf\n",
        "\n",
        "import os\n",
        "import time\n",
        "import matplotlib.pyplot as plt\n",
        "from IPython.display import clear_output\n",
        "from keras.preprocessing.image import img_to_array, load_img\n",
        "from random import shuffle\n",
        "\n",
        "from keras.layers import Input, Dense\n",
        "from keras.models import Model\n",
        "from keras import regularizers, optimizers\n",
        "from keras.optimizers import Adam\n",
        "from keras.callbacks import EarlyStopping\n",
        "from keras.optimizers import Adam,RMSprop,SGD\n",
        "from keras.models import Model, Sequential\n",
        "from keras.layers import Input, Dense, Conv1D, MaxPooling1D, UpSampling1D\n",
        "from keras.layers import Conv2D, MaxPooling2D, UpSampling2D, Flatten, Reshape\n",
        "from keras import regularizers\n",
        "from keras.layers.normalization import BatchNormalization\n",
        "from keras.layers import Conv2D, MaxPooling2D, Dense, Dropout, Input, Flatten,AveragePooling2D,UpSampling2D\n",
        "from keras.preprocessing.image import img_to_array, load_img\n",
        "from sklearn.model_selection import train_test_split\n",
        "from random import shuffle\n",
        "\n",
        "from keras.models import Model, load_model\n",
        "#from prepare_data import get_training_data\n",
        "#from prepare_plots import plot_results\n",
        "import random\n",
        "\n",
        "import PIL\n",
        "import json\n",
        "import numpy as np\n",
        "import sys\n",
        "np.set_printoptions(threshold=sys.maxsize)\n",
        "import matplotlib.pyplot as plt\n",
        "import matplotlib\n",
        "# matplotlib.use('TKAgg')\n",
        "%matplotlib inline"
      ],
      "execution_count": 4,
      "outputs": [
        {
          "output_type": "stream",
          "text": [
            "Using TensorFlow backend.\n"
          ],
          "name": "stderr"
        }
      ]
    },
    {
      "cell_type": "markdown",
      "metadata": {
        "colab_type": "text",
        "id": "iYn4MdZnKCey"
      },
      "source": [
        "## Load the dataset\n",
        "\n",
        "Steps to generate URL used below:\n",
        "- Say, your data files are in the directory called 'input'\n",
        "- Manually create a zip file, 'input.zip'\n",
        "- Sync it to gDrive\n",
        "- In gDrive, Share it with Public model, copy its share-able link\n",
        "- Use https://sites.google.com/site/gdocs2direct/ to generate corresponding Direct link\n",
        "- Paste it below"
      ]
    },
    {
      "cell_type": "code",
      "metadata": {
        "id": "_GMP7R7V-oFq",
        "colab_type": "code",
        "outputId": "8c55c526-5eec-43ca-a220-65ac979a50b3",
        "colab": {
          "base_uri": "https://localhost:8080/",
          "height": 54
        }
      },
      "source": [
        "# test PIL installation\n",
        "import sys\n",
        "from PIL import Image\n",
        "sys.modules['Image'] = Image\n",
        "\n",
        "# both should point to same dir\n",
        "from PIL import Image\n",
        "print(Image.__file__)\n",
        "\n",
        "import Image\n",
        "print(Image.__file__)"
      ],
      "execution_count": 5,
      "outputs": [
        {
          "output_type": "stream",
          "text": [
            "/usr/local/lib/python3.6/dist-packages/PIL/Image.py\n",
            "/usr/local/lib/python3.6/dist-packages/PIL/Image.py\n"
          ],
          "name": "stdout"
        }
      ]
    },
    {
      "cell_type": "code",
      "metadata": {
        "id": "bcMdAhHH3TcT",
        "colab_type": "code",
        "outputId": "7f02585d-95df-4223-9456-699070604abe",
        "colab": {
          "base_uri": "https://localhost:8080/",
          "height": 54
        }
      },
      "source": [
        "# _URL = 'https://drive.google.com/uc?export=download&id=16rqDFLO__WySSQGlAht0FEj2uJZg4M9M'\n",
        "\n",
        "# path_to_zip = tf.keras.utils.get_file('input.zip',\n",
        "#                                       origin=_URL,\n",
        "#                                       extract=True)\n",
        "\n",
        "# working directory\n",
        "wdir = os.getcwd()\n",
        "print(\"Working directory: \", wdir)\n",
        "\n",
        "# input_data_folder = os.path.join(os.path.dirname(path_to_zip), 'input')\n",
        "input_data_folder = wdir + \"/data/input\"\n",
        "input_data_folder = wdir + \"/data/images\"\n",
        "print(\"input data dir: \", input_data_folder)"
      ],
      "execution_count": 6,
      "outputs": [
        {
          "output_type": "stream",
          "text": [
            "Working directory:  /content/gdrive/My Drive/Colab Notebooks/MidcurveNN\n",
            "input data dir:  /content/gdrive/My Drive/Colab Notebooks/MidcurveNN/data/images\n"
          ],
          "name": "stdout"
        }
      ]
    },
    {
      "cell_type": "code",
      "metadata": {
        "id": "k1iMlSMN3UeK",
        "colab_type": "code",
        "outputId": "a8139182-8576-4701-a2c4-5afe88c423ba",
        "colab": {
          "base_uri": "https://localhost:8080/",
          "height": 54
        }
      },
      "source": [
        "import glob\n",
        "\n",
        "image_paths = glob.glob(input_data_folder + '/**/*.png', recursive=True)\n",
        "images = [os.path.basename(img_path) for img_path in image_paths]\n",
        "\n",
        "print(len(images))\n",
        "\n",
        "#images = os.listdir(input_data_folder)\n",
        "images[99]"
      ],
      "execution_count": 8,
      "outputs": [
        {
          "output_type": "stream",
          "text": [
            "6048\n"
          ],
          "name": "stdout"
        },
        {
          "output_type": "execute_result",
          "data": {
            "text/plain": [
              "'CapI_Midcurve_mirrored_0_translated_10_-20.png'"
            ]
          },
          "metadata": {
            "tags": []
          },
          "execution_count": 8
        }
      ]
    },
    {
      "cell_type": "code",
      "metadata": {
        "id": "MGmCaN2vFWyx",
        "colab_type": "code",
        "colab": {}
      },
      "source": [
        "imdim = 100"
      ],
      "execution_count": 0,
      "outputs": []
    },
    {
      "cell_type": "code",
      "metadata": {
        "id": "CO04QsT-3faS",
        "colab_type": "code",
        "outputId": "d4591b1b-1572-43bf-86c4-f0840ab61706",
        "colab": {
          "base_uri": "https://localhost:8080/",
          "height": 508
        }
      },
      "source": [
        "shapes = os.listdir('/content/gdrive/My Drive/Colab Notebooks/MidcurveNN/data/images')\n",
        "shapes"
      ],
      "execution_count": 10,
      "outputs": [
        {
          "output_type": "execute_result",
          "data": {
            "text/plain": [
              "['CapI',\n",
              " 'Iuvw',\n",
              " 'Tuvw',\n",
              " 'Vuvw',\n",
              " 'Sm_n',\n",
              " 'InvV',\n",
              " 'Parl',\n",
              " 'Trap',\n",
              " 'Stik',\n",
              " 'Usla',\n",
              " 'LapT',\n",
              " 'RelY',\n",
              " 'T002',\n",
              " 'T003',\n",
              " 'T004',\n",
              " 'T005',\n",
              " 'Plus',\n",
              " 'SqLu',\n",
              " 'Luvw',\n",
              " 'L001',\n",
              " 'L002',\n",
              " 'L003',\n",
              " 'T006',\n",
              " 'X001',\n",
              " 'L004',\n",
              " 'Y001',\n",
              " 'L100']"
            ]
          },
          "metadata": {
            "tags": []
          },
          "execution_count": 10
        }
      ]
    },
    {
      "cell_type": "code",
      "metadata": {
        "id": "MrYBelpQ-oFy",
        "colab_type": "code",
        "colab": {}
      },
      "source": [
        "def read_input_image_pairs(datafolder=input_data_folder):\n",
        "    profile_pngs = []\n",
        "    midcurve_pngs = []\n",
        "    for file in os.listdir(datafolder):\n",
        "        fullpath = os.path.join(datafolder, file)\n",
        "        if os.path.isdir(fullpath):\n",
        "            continue\n",
        "        if file.endswith(\".png\"):\n",
        "            if file.find(\"Profile\") != -1:\n",
        "                profile_pngs.append(fullpath)\n",
        "            if file.find(\"Midcurve\") != -1:\n",
        "                midcurve_pngs.append(fullpath)\n",
        "    profile_pngs = sorted(profile_pngs)\n",
        "    midcurve_pngs = sorted(midcurve_pngs)\n",
        "    return profile_pngs,midcurve_pngs"
      ],
      "execution_count": 0,
      "outputs": []
    },
    {
      "cell_type": "code",
      "metadata": {
        "colab_type": "code",
        "id": "2CbTEt448b4R",
        "colab": {}
      },
      "source": [
        "def get_training_data(datafolder=input_data_folder):\n",
        "    profile_pngs,midcurve_pngs = read_input_image_pairs(datafolder)\n",
        "    \n",
        "    profile_pngs_objs = [img_to_array(load_img(f, color_mode='rgba', target_size=(imdim, imdim))) for f in profile_pngs ]\n",
        "    midcurve_pngs_objs = [img_to_array(load_img(f, color_mode='rgba', target_size=(imdim, imdim))) for f in midcurve_pngs]\n",
        "\n",
        "#     profile_pngs_objs = np.array([x.reshape((1,) + x.shape) for x in profile_pngs_objs])\n",
        "#     midcurve_pngs_objs = np.array([x.reshape((1,) + x.shape) for x in midcurve_pngs_objs])\n",
        "\n",
        "    profile_pngs_gray_objs = [x[:,:,3] for x in profile_pngs_objs]\n",
        "    midcurve_pngs_gray_objs =[x[:,:,3] for x in midcurve_pngs_objs]\n",
        "    \n",
        "#     profile_pngs_gray_objs = [np.where(x>128, 0, 1) for x in profile_pngs_gray_objs]\n",
        "#     midcurve_pngs_gray_objs =[np.where(x>128, 0, 1) for x in midcurve_pngs_gray_objs]\n",
        "        \n",
        "    # shufle them\n",
        "    zipped_profiles_midcurves = [(p,m) for p,m in zip(profile_pngs_gray_objs,midcurve_pngs_gray_objs)]\n",
        "    shuffle(zipped_profiles_midcurves)\n",
        "    profile_pngs_gray_objs, midcurve_pngs_gray_objs = zip(*zipped_profiles_midcurves)\n",
        "    \n",
        "    return profile_pngs_gray_objs, midcurve_pngs_gray_objs"
      ],
      "execution_count": 0,
      "outputs": []
    },
    {
      "cell_type": "code",
      "metadata": {
        "id": "UgR0H_-d4Mvq",
        "colab_type": "code",
        "outputId": "ea5ba3af-e9f8-48f6-f229-8a141cb50764",
        "colab": {
          "base_uri": "https://localhost:8080/",
          "height": 999
        }
      },
      "source": [
        "profile_pngs_objs = ()\n",
        "midcurve_pngs_objs = ()\n",
        "\n",
        "for shape in shapes:\n",
        "    print(shape)\n",
        "    tp, tm = get_training_data(os.path.join(input_data_folder, shape))\n",
        "    profile_pngs_objs += tp\n",
        "    midcurve_pngs_objs += tm\n",
        "    print(len(profile_pngs_objs), len(midcurve_pngs_objs))"
      ],
      "execution_count": 13,
      "outputs": [
        {
          "output_type": "stream",
          "text": [
            "CapI\n",
            "112 112\n",
            "Iuvw\n",
            "224 224\n",
            "Tuvw\n",
            "336 336\n",
            "Vuvw\n",
            "448 448\n",
            "Sm_n\n",
            "560 560\n",
            "InvV\n",
            "672 672\n",
            "Parl\n",
            "784 784\n",
            "Trap\n",
            "896 896\n",
            "Stik\n",
            "1008 1008\n",
            "Usla\n",
            "1120 1120\n",
            "LapT\n",
            "1232 1232\n",
            "RelY\n",
            "1344 1344\n",
            "T002\n",
            "1456 1456\n",
            "T003\n",
            "1568 1568\n",
            "T004\n",
            "1680 1680\n",
            "T005\n",
            "1792 1792\n",
            "Plus\n",
            "1904 1904\n",
            "SqLu\n",
            "2016 2016\n",
            "Luvw\n",
            "2128 2128\n",
            "L001\n",
            "2240 2240\n",
            "L002\n",
            "2352 2352\n",
            "L003\n",
            "2464 2464\n",
            "T006\n",
            "2576 2576\n",
            "X001\n",
            "2688 2688\n",
            "L004\n",
            "2800 2800\n",
            "Y001\n",
            "2912 2912\n",
            "L100\n",
            "3024 3024\n"
          ],
          "name": "stdout"
        }
      ]
    },
    {
      "cell_type": "code",
      "metadata": {
        "colab_type": "code",
        "id": "4OLHMpsQ5aOv",
        "colab": {}
      },
      "source": [
        "#profile_pngs_objs, midcurve_pngs_objs = get_training_data()"
      ],
      "execution_count": 0,
      "outputs": []
    },
    {
      "cell_type": "code",
      "metadata": {
        "id": "gogvpFi9-oF5",
        "colab_type": "code",
        "colab": {}
      },
      "source": [
        "def plot_results(original_imgs,computed_imgs):\n",
        "    n = 10  # how many digits we will display\n",
        "    plt.figure(figsize=(20, 4))\n",
        "    for i in range(n):\n",
        "        # display original\n",
        "        ax = plt.subplot(2, n, i + 1)\n",
        "        plt.imshow(original_imgs[i].reshape(100, 100),cmap='gray_r')\n",
        "#         plt.gray()\n",
        "        ax.get_xaxis().set_visible(False)\n",
        "        ax.get_yaxis().set_visible(False)\n",
        "    \n",
        "        # display reconstruction\n",
        "        ax = plt.subplot(2, n, i + 1 + n)\n",
        "        plt.imshow(computed_imgs[i].reshape(100, 100),cmap='gray_r')\n",
        "#         plt.gray()\n",
        "        ax.get_xaxis().set_visible(False)\n",
        "        ax.get_yaxis().set_visible(False)\n",
        "    plt.show()"
      ],
      "execution_count": 0,
      "outputs": []
    },
    {
      "cell_type": "code",
      "metadata": {
        "id": "YT489k6k-oF8",
        "colab_type": "code",
        "outputId": "4ace7400-bca0-4a05-feed-9a19db5ac12b",
        "colab": {
          "base_uri": "https://localhost:8080/",
          "height": 245
        }
      },
      "source": [
        "plot_results(profile_pngs_objs, midcurve_pngs_objs)"
      ],
      "execution_count": 16,
      "outputs": [
        {
          "output_type": "display_data",
          "data": {
            "image/png": "[encoded data removed]",
            "text/plain": [
              "<Figure size 1440x288 with 20 Axes>"
            ]
          },
          "metadata": {
            "tags": []
          }
        }
      ]
    },
    {
      "cell_type": "code",
      "metadata": {
        "id": "EEgxZ1WD-oGD",
        "colab_type": "code",
        "colab": {}
      },
      "source": [
        "class simple_encoderdecoder:\n",
        "    def __init__(self):\n",
        "        self.encoding_dim = 100\n",
        "        self.input_dim = 10000\n",
        "        self.epochs = 200\n",
        "        self.autoencoder_model_pkl = \"models/autoencoder_model.pkl\"\n",
        "        self.encoder_model_pkl = \"models/encoder_model.pkl\"\n",
        "        self.decoder_model_pkl = \"models/decoder_model.pkl\"\n",
        "                \n",
        "    def process_images(self,grayobjs):\n",
        "        flat_objs = [x.reshape(self.input_dim) for x in grayobjs]\n",
        "        pngs_objs = np.array(flat_objs)\n",
        "        return pngs_objs\n",
        "\n",
        "    def train(self,\n",
        "            profile_pngs_gray_objs, \n",
        "            midcurve_pngs_gray_objs):\n",
        "        \n",
        "        if not os.path.exists(self.autoencoder_model_pkl):\n",
        "            # this is our input placeholder\n",
        "            input_img = Input(shape=(self.input_dim,))\n",
        "            \n",
        "            # \"encoded\" is the encoded representation of the input\n",
        "            encoded = Dense(self.encoding_dim, activation='relu',activity_regularizer=regularizers.l1(10e-5))(input_img)\n",
        "            # \"decoded\" is the lossy reconstruction of the input\n",
        "            decoded = Dense(self.input_dim, activation='sigmoid')(encoded) \n",
        "            \n",
        "            # Model 1: Full AutoEncoder, includes both encoder single dense layer and decoder single dense layer. \n",
        "            # This model maps an input to its reconstruction\n",
        "            self.autoencoder = Model(input_img, decoded)\n",
        "                    \n",
        "            # Model 2: a separate encoder model: -------------------\n",
        "            # this model maps an input to its encoded representation\n",
        "            self.encoder = Model(input_img, encoded)\n",
        "            \n",
        "            # Model 3: a separate encoder model: -------------------\n",
        "            # create a placeholder for an encoded (32-dimensional) input\n",
        "            encoded_input = Input(shape=(self.encoding_dim,))\n",
        "            # retrieve the last layer of the autoencoder model\n",
        "            decoder_layer = self.autoencoder.layers[-1]\n",
        "            # create the decoder model\n",
        "            self.decoder = Model(encoded_input, decoder_layer(encoded_input))\n",
        "            \n",
        "            # Compilation of Autoencoder (only)\n",
        "            self.autoencoder.compile(optimizer='adadelta', loss='binary_crossentropy')\n",
        "            \n",
        "            profile_pngs_objs = self.process_images(profile_pngs_gray_objs)\n",
        "            midcurve_pngs_objs = self.process_images(midcurve_pngs_gray_objs)\n",
        "                \n",
        "            self.x = profile_pngs_objs\n",
        "            self.y = midcurve_pngs_objs\n",
        "            self.autoencoder.fit(self.x, self.y,\n",
        "                        epochs=self.epochs,\n",
        "                        batch_size=5,\n",
        "                        shuffle=True)                \n",
        "            # Save models\n",
        "            #self.autoencoder.save(self.autoencoder_model_pkl)\n",
        "            #self.encoder.save(self.encoder_model_pkl)\n",
        "            #self.decoder.save(self.decoder_model_pkl)  \n",
        "        else:\n",
        "            # Save models\n",
        "            #self.autoencoder = load_model(self.autoencoder_model_pkl)\n",
        "            #self.encoder= load_model(self.encoder_model_pkl)\n",
        "            #self.decoder = load_model(self.decoder_model_pkl)\n",
        "            print(\"pass...\")\n",
        "    \n",
        "    def predict(self, test_profile_images):\n",
        "        png_profile_images = self.process_images(test_profile_images)\n",
        "        encoded_imgs = self.encoder.predict(png_profile_images)\n",
        "        decoded_imgs = self.decoder.predict(encoded_imgs)    \n",
        "        return test_profile_images,decoded_imgs"
      ],
      "execution_count": 0,
      "outputs": []
    },
    {
      "cell_type": "code",
      "metadata": {
        "id": "Rp_A3YTfCWAJ",
        "colab_type": "code",
        "outputId": "cb44a983-8d1b-4a8c-cf10-0c956b02c222",
        "colab": {
          "base_uri": "https://localhost:8080/",
          "height": 1000
        }
      },
      "source": [
        "endec = simple_encoderdecoder()\n",
        "endec.train(profile_pngs_objs, midcurve_pngs_objs)"
      ],
      "execution_count": 18,
      "outputs": [
        {
          "output_type": "stream",
          "text": [
            "WARNING: Logging before flag parsing goes to stderr.\n",
            "W0821 16:25:06.238008 140569930655616 deprecation_wrapper.py:119] From /usr/local/lib/python3.6/dist-packages/keras/backend/tensorflow_backend.py:74: The name tf.get_default_graph is deprecated. Please use tf.compat.v1.get_default_graph instead.\n",
            "\n",
            "W0821 16:25:06.263838 140569930655616 deprecation_wrapper.py:119] From /usr/local/lib/python3.6/dist-packages/keras/backend/tensorflow_backend.py:517: The name tf.placeholder is deprecated. Please use tf.compat.v1.placeholder instead.\n",
            "\n",
            "W0821 16:25:06.268094 140569930655616 deprecation_wrapper.py:119] From /usr/local/lib/python3.6/dist-packages/keras/backend/tensorflow_backend.py:4138: The name tf.random_uniform is deprecated. Please use tf.random.uniform instead.\n",
            "\n",
            "W0821 16:25:06.306884 140569930655616 deprecation_wrapper.py:119] From /usr/local/lib/python3.6/dist-packages/keras/optimizers.py:790: The name tf.train.Optimizer is deprecated. Please use tf.compat.v1.train.Optimizer instead.\n",
            "\n",
            "W0821 16:25:06.326117 140569930655616 deprecation_wrapper.py:119] From /usr/local/lib/python3.6/dist-packages/keras/backend/tensorflow_backend.py:3376: The name tf.log is deprecated. Please use tf.math.log instead.\n",
            "\n",
            "W0821 16:25:06.335657 140569930655616 deprecation.py:323] From /usr/local/lib/python3.6/dist-packages/tensorflow/python/ops/nn_impl.py:180: add_dispatch_support.<locals>.wrapper (from tensorflow.python.ops.array_ops) is deprecated and will be removed in a future version.\n",
            "Instructions for updating:\n",
            "Use tf.where in 2.0, which has the same broadcast rule as np.where\n",
            "W0821 16:25:06.803360 140569930655616 deprecation_wrapper.py:119] From /usr/local/lib/python3.6/dist-packages/keras/backend/tensorflow_backend.py:986: The name tf.assign_add is deprecated. Please use tf.compat.v1.assign_add instead.\n",
            "\n"
          ],
          "name": "stderr"
        },
        {
          "output_type": "stream",
          "text": [
            "Epoch 1/200\n",
            "3024/3024 [==============================] - 5s 2ms/step - loss: -3.6501\n",
            "Epoch 2/200\n",
            "3024/3024 [==============================] - 4s 1ms/step - loss: -6.7512\n",
            "Epoch 3/200\n",
            "3024/3024 [==============================] - 4s 1ms/step - loss: -6.8920\n",
            "Epoch 4/200\n",
            "3024/3024 [==============================] - 4s 1ms/step - loss: -6.8127\n",
            "Epoch 5/200\n",
            "3024/3024 [==============================] - 4s 1ms/step - loss: -6.7826\n",
            "Epoch 6/200\n",
            "3024/3024 [==============================] - 4s 1ms/step - loss: -6.7303\n",
            "Epoch 7/200\n",
            "3024/3024 [==============================] - 4s 1ms/step - loss: -6.7399\n",
            "Epoch 8/200\n",
            "3024/3024 [==============================] - 4s 1ms/step - loss: -6.6812\n",
            "Epoch 9/200\n",
            "3024/3024 [==============================] - 4s 1ms/step - loss: -6.6993\n",
            "Epoch 10/200\n",
            "3024/3024 [==============================] - 4s 1ms/step - loss: -6.6777\n",
            "Epoch 11/200\n",
            "3024/3024 [==============================] - 4s 1ms/step - loss: -6.6282\n",
            "Epoch 12/200\n",
            "3024/3024 [==============================] - 4s 1ms/step - loss: -6.6296\n",
            "Epoch 13/200\n",
            "3024/3024 [==============================] - 4s 1ms/step - loss: -6.6059\n",
            "Epoch 14/200\n",
            "3024/3024 [==============================] - 4s 1ms/step - loss: -6.6212\n",
            "Epoch 15/200\n",
            "3024/3024 [==============================] - 4s 1ms/step - loss: -6.6187\n",
            "Epoch 16/200\n",
            "3024/3024 [==============================] - 4s 1ms/step - loss: -6.6117\n",
            "Epoch 17/200\n",
            "3024/3024 [==============================] - 4s 1ms/step - loss: -6.5925\n",
            "Epoch 18/200\n",
            "3024/3024 [==============================] - 4s 1ms/step - loss: -6.6012\n",
            "Epoch 19/200\n",
            "3024/3024 [==============================] - 4s 1ms/step - loss: -6.6017\n",
            "Epoch 20/200\n",
            "3024/3024 [==============================] - 4s 1ms/step - loss: -6.5786\n",
            "Epoch 21/200\n",
            "3024/3024 [==============================] - 4s 1ms/step - loss: -6.5777\n",
            "Epoch 22/200\n",
            "3024/3024 [==============================] - 4s 1ms/step - loss: -6.6069\n",
            "Epoch 23/200\n",
            "3024/3024 [==============================] - 4s 1ms/step - loss: -6.5918\n",
            "Epoch 24/200\n",
            "3024/3024 [==============================] - 4s 1ms/step - loss: -6.5839\n",
            "Epoch 25/200\n",
            "3024/3024 [==============================] - 4s 1ms/step - loss: -6.5900\n",
            "Epoch 26/200\n",
            "3024/3024 [==============================] - 4s 1ms/step - loss: -6.5806\n",
            "Epoch 27/200\n",
            "3024/3024 [==============================] - 4s 1ms/step - loss: -6.5868\n",
            "Epoch 28/200\n",
            "3024/3024 [==============================] - 4s 1ms/step - loss: -6.5852\n",
            "Epoch 29/200\n",
            "3024/3024 [==============================] - 4s 1ms/step - loss: -6.5713\n",
            "Epoch 30/200\n",
            "3024/3024 [==============================] - 4s 1ms/step - loss: -6.5950\n",
            "Epoch 31/200\n",
            "3024/3024 [==============================] - 4s 1ms/step - loss: -6.5773\n",
            "Epoch 32/200\n",
            "3024/3024 [==============================] - 4s 1ms/step - loss: -6.5973\n",
            "Epoch 33/200\n",
            "3024/3024 [==============================] - 4s 1ms/step - loss: -6.5880\n",
            "Epoch 34/200\n",
            "3024/3024 [==============================] - 4s 1ms/step - loss: -6.5984\n",
            "Epoch 35/200\n",
            "3024/3024 [==============================] - 4s 1ms/step - loss: -6.5965\n",
            "Epoch 36/200\n",
            "3024/3024 [==============================] - 4s 1ms/step - loss: -6.5935\n",
            "Epoch 37/200\n",
            "3024/3024 [==============================] - 4s 1ms/step - loss: -6.6105\n",
            "Epoch 38/200\n",
            "3024/3024 [==============================] - 4s 1ms/step - loss: -6.6123\n",
            "Epoch 39/200\n",
            "3024/3024 [==============================] - 4s 1ms/step - loss: -6.5932\n",
            "Epoch 40/200\n",
            "3024/3024 [==============================] - 4s 1ms/step - loss: -6.6108\n",
            "Epoch 41/200\n",
            "3024/3024 [==============================] - 4s 1ms/step - loss: -6.6046\n",
            "Epoch 42/200\n",
            "3024/3024 [==============================] - 4s 1ms/step - loss: -6.6219\n",
            "Epoch 43/200\n",
            "3024/3024 [==============================] - 4s 1ms/step - loss: -6.6075\n",
            "Epoch 44/200\n",
            "3024/3024 [==============================] - 4s 1ms/step - loss: -6.6051\n",
            "Epoch 45/200\n",
            "3024/3024 [==============================] - 4s 1ms/step - loss: -6.6219\n",
            "Epoch 46/200\n",
            "3024/3024 [==============================] - 4s 1ms/step - loss: -6.6160\n",
            "Epoch 47/200\n",
            "3024/3024 [==============================] - 4s 1ms/step - loss: -6.6380\n",
            "Epoch 48/200\n",
            "3024/3024 [==============================] - 4s 1ms/step - loss: -6.6123\n",
            "Epoch 49/200\n",
            "3024/3024 [==============================] - 4s 1ms/step - loss: -6.6179\n",
            "Epoch 50/200\n",
            "3024/3024 [==============================] - 4s 1ms/step - loss: -6.6305\n",
            "Epoch 51/200\n",
            "3024/3024 [==============================] - 4s 1ms/step - loss: -6.6156\n",
            "Epoch 52/200\n",
            "3024/3024 [==============================] - 4s 1ms/step - loss: -6.6214\n",
            "Epoch 53/200\n",
            "3024/3024 [==============================] - 4s 1ms/step - loss: -6.6144\n",
            "Epoch 54/200\n",
            "3024/3024 [==============================] - 4s 1ms/step - loss: -6.6316\n",
            "Epoch 55/200\n",
            "3024/3024 [==============================] - 4s 1ms/step - loss: -6.6184\n",
            "Epoch 56/200\n",
            "3024/3024 [==============================] - 4s 1ms/step - loss: -6.6167\n",
            "Epoch 57/200\n",
            "3024/3024 [==============================] - 4s 1ms/step - loss: -6.6272\n",
            "Epoch 58/200\n",
            "3024/3024 [==============================] - 4s 1ms/step - loss: -6.6426\n",
            "Epoch 59/200\n",
            "3024/3024 [==============================] - 4s 1ms/step - loss: -6.6340\n",
            "Epoch 60/200\n",
            "3024/3024 [==============================] - 4s 1ms/step - loss: -6.6267\n",
            "Epoch 61/200\n",
            "3024/3024 [==============================] - 4s 1ms/step - loss: -6.6401\n",
            "Epoch 62/200\n",
            "3024/3024 [==============================] - 4s 1ms/step - loss: -6.6307\n",
            "Epoch 63/200\n",
            "3024/3024 [==============================] - 4s 1ms/step - loss: -6.6228\n",
            "Epoch 64/200\n",
            "3024/3024 [==============================] - 4s 1ms/step - loss: -6.6281\n",
            "Epoch 65/200\n",
            "3024/3024 [==============================] - 4s 1ms/step - loss: -6.6481\n",
            "Epoch 66/200\n",
            "3024/3024 [==============================] - 4s 1ms/step - loss: -6.6456\n",
            "Epoch 67/200\n",
            "3024/3024 [==============================] - 4s 1ms/step - loss: -6.6541\n",
            "Epoch 68/200\n",
            "3024/3024 [==============================] - 4s 1ms/step - loss: -6.6300\n",
            "Epoch 69/200\n",
            "3024/3024 [==============================] - 4s 1ms/step - loss: -6.6292\n",
            "Epoch 70/200\n",
            "3024/3024 [==============================] - 4s 1ms/step - loss: -6.6295\n",
            "Epoch 71/200\n",
            "3024/3024 [==============================] - 4s 1ms/step - loss: -6.6294\n",
            "Epoch 72/200\n",
            "3024/3024 [==============================] - 4s 1ms/step - loss: -6.6415\n",
            "Epoch 73/200\n",
            "3024/3024 [==============================] - 4s 1ms/step - loss: -6.6201\n",
            "Epoch 74/200\n",
            "3024/3024 [==============================] - 4s 1ms/step - loss: -6.6354\n",
            "Epoch 75/200\n",
            "3024/3024 [==============================] - 4s 1ms/step - loss: -6.6449\n",
            "Epoch 76/200\n",
            "3024/3024 [==============================] - 4s 1ms/step - loss: -6.6123\n",
            "Epoch 77/200\n",
            "3024/3024 [==============================] - 4s 1ms/step - loss: -6.6354\n",
            "Epoch 78/200\n",
            "3024/3024 [==============================] - 4s 1ms/step - loss: -6.6574\n",
            "Epoch 79/200\n",
            "3024/3024 [==============================] - 4s 1ms/step - loss: -6.6308\n",
            "Epoch 80/200\n",
            "3024/3024 [==============================] - 4s 1ms/step - loss: -6.6504\n",
            "Epoch 81/200\n",
            "3024/3024 [==============================] - 4s 1ms/step - loss: -6.6328\n",
            "Epoch 82/200\n",
            "3024/3024 [==============================] - 4s 1ms/step - loss: -6.6202\n",
            "Epoch 83/200\n",
            "3024/3024 [==============================] - 4s 1ms/step - loss: -6.6547\n",
            "Epoch 84/200\n",
            "3024/3024 [==============================] - 4s 1ms/step - loss: -6.6484\n",
            "Epoch 85/200\n",
            "3024/3024 [==============================] - 4s 1ms/step - loss: -6.6302\n",
            "Epoch 86/200\n",
            "3024/3024 [==============================] - 4s 1ms/step - loss: -6.6389\n",
            "Epoch 87/200\n",
            "3024/3024 [==============================] - 4s 1ms/step - loss: -6.6524\n",
            "Epoch 88/200\n",
            "3024/3024 [==============================] - 4s 1ms/step - loss: -6.6381\n",
            "Epoch 89/200\n",
            "3024/3024 [==============================] - 4s 1ms/step - loss: -6.6442\n",
            "Epoch 90/200\n",
            "3024/3024 [==============================] - 4s 1ms/step - loss: -6.6423\n",
            "Epoch 91/200\n",
            "3024/3024 [==============================] - 4s 1ms/step - loss: -6.6382\n",
            "Epoch 92/200\n",
            "3024/3024 [==============================] - 4s 1ms/step - loss: -6.6347\n",
            "Epoch 93/200\n",
            "3024/3024 [==============================] - 4s 1ms/step - loss: -6.6293\n",
            "Epoch 94/200\n",
            "3024/3024 [==============================] - 4s 1ms/step - loss: -6.6369\n",
            "Epoch 95/200\n",
            "3024/3024 [==============================] - 4s 1ms/step - loss: -6.6288\n",
            "Epoch 96/200\n",
            "3024/3024 [==============================] - 4s 1ms/step - loss: -6.6324\n",
            "Epoch 97/200\n",
            "3024/3024 [==============================] - 4s 1ms/step - loss: -6.6465\n",
            "Epoch 98/200\n",
            "3024/3024 [==============================] - 4s 1ms/step - loss: -6.6350\n",
            "Epoch 99/200\n",
            "3024/3024 [==============================] - 4s 1ms/step - loss: -6.6413\n",
            "Epoch 100/200\n",
            "3024/3024 [==============================] - 4s 1ms/step - loss: -6.6340\n",
            "Epoch 101/200\n",
            "3024/3024 [==============================] - 4s 1ms/step - loss: -6.6532\n",
            "Epoch 102/200\n",
            "3024/3024 [==============================] - 4s 1ms/step - loss: -6.6374\n",
            "Epoch 103/200\n",
            "3024/3024 [==============================] - 4s 1ms/step - loss: -6.6324\n",
            "Epoch 104/200\n",
            "3024/3024 [==============================] - 4s 1ms/step - loss: -6.6522\n",
            "Epoch 105/200\n",
            "3024/3024 [==============================] - 4s 1ms/step - loss: -6.6607\n",
            "Epoch 106/200\n",
            "3024/3024 [==============================] - 4s 1ms/step - loss: -6.6382\n",
            "Epoch 107/200\n",
            "3024/3024 [==============================] - 4s 1ms/step - loss: -6.6526\n",
            "Epoch 108/200\n",
            "3024/3024 [==============================] - 4s 1ms/step - loss: -6.6451\n",
            "Epoch 109/200\n",
            "3024/3024 [==============================] - 4s 1ms/step - loss: -6.6593\n",
            "Epoch 110/200\n",
            "3024/3024 [==============================] - 4s 1ms/step - loss: -6.6459\n",
            "Epoch 111/200\n",
            "3024/3024 [==============================] - 4s 1ms/step - loss: -6.6462\n",
            "Epoch 112/200\n",
            "3024/3024 [==============================] - 4s 1ms/step - loss: -6.6570\n",
            "Epoch 113/200\n",
            "3024/3024 [==============================] - 4s 1ms/step - loss: -6.6612\n",
            "Epoch 114/200\n",
            "3024/3024 [==============================] - 4s 1ms/step - loss: -6.6400\n",
            "Epoch 115/200\n",
            "3024/3024 [==============================] - 4s 1ms/step - loss: -6.6583\n",
            "Epoch 116/200\n",
            "3024/3024 [==============================] - 4s 1ms/step - loss: -6.6656\n",
            "Epoch 117/200\n",
            "3024/3024 [==============================] - 4s 1ms/step - loss: -6.6464\n",
            "Epoch 118/200\n",
            "3024/3024 [==============================] - 4s 1ms/step - loss: -6.6465\n",
            "Epoch 119/200\n",
            "3024/3024 [==============================] - 4s 1ms/step - loss: -6.6515\n",
            "Epoch 120/200\n",
            "3024/3024 [==============================] - 4s 1ms/step - loss: -6.6502\n",
            "Epoch 121/200\n",
            "3024/3024 [==============================] - 4s 1ms/step - loss: -6.6577\n",
            "Epoch 122/200\n",
            "3024/3024 [==============================] - 4s 1ms/step - loss: -6.6571\n",
            "Epoch 123/200\n",
            "3024/3024 [==============================] - 4s 1ms/step - loss: -6.6771\n",
            "Epoch 124/200\n",
            "3024/3024 [==============================] - 4s 1ms/step - loss: -6.6452\n",
            "Epoch 125/200\n",
            "3024/3024 [==============================] - 4s 1ms/step - loss: -6.6762\n",
            "Epoch 126/200\n",
            "3024/3024 [==============================] - 4s 1ms/step - loss: -6.6446\n",
            "Epoch 127/200\n",
            "3024/3024 [==============================] - 4s 1ms/step - loss: -6.6635\n",
            "Epoch 128/200\n",
            "3024/3024 [==============================] - 4s 1ms/step - loss: -6.6392\n",
            "Epoch 129/200\n",
            "3024/3024 [==============================] - 4s 1ms/step - loss: -6.6695\n",
            "Epoch 130/200\n",
            "3024/3024 [==============================] - 4s 1ms/step - loss: -6.6605\n",
            "Epoch 131/200\n",
            "3024/3024 [==============================] - 4s 1ms/step - loss: -6.6705\n",
            "Epoch 132/200\n",
            "3024/3024 [==============================] - 4s 1ms/step - loss: -6.6788\n",
            "Epoch 133/200\n",
            "3024/3024 [==============================] - 4s 1ms/step - loss: -6.6570\n",
            "Epoch 134/200\n",
            "3024/3024 [==============================] - 4s 1ms/step - loss: -6.6562\n",
            "Epoch 135/200\n",
            "3024/3024 [==============================] - 4s 1ms/step - loss: -6.6698\n",
            "Epoch 136/200\n",
            "3024/3024 [==============================] - 4s 1ms/step - loss: -6.6812\n",
            "Epoch 137/200\n",
            "3024/3024 [==============================] - 4s 1ms/step - loss: -6.6684\n",
            "Epoch 138/200\n",
            "3024/3024 [==============================] - 4s 1ms/step - loss: -6.6805\n",
            "Epoch 139/200\n",
            "3024/3024 [==============================] - 4s 1ms/step - loss: -6.6589\n",
            "Epoch 140/200\n",
            "3024/3024 [==============================] - 4s 1ms/step - loss: -6.6643\n",
            "Epoch 141/200\n",
            "3024/3024 [==============================] - 4s 1ms/step - loss: -6.6662\n",
            "Epoch 142/200\n",
            "3024/3024 [==============================] - 4s 1ms/step - loss: -6.6689\n",
            "Epoch 143/200\n",
            "3024/3024 [==============================] - 4s 1ms/step - loss: -6.6694\n",
            "Epoch 144/200\n",
            "3024/3024 [==============================] - 4s 1ms/step - loss: -6.6999\n",
            "Epoch 145/200\n",
            "3024/3024 [==============================] - 4s 1ms/step - loss: -6.6694\n",
            "Epoch 146/200\n",
            "3024/3024 [==============================] - 4s 1ms/step - loss: -6.6776\n",
            "Epoch 147/200\n",
            "3024/3024 [==============================] - 4s 1ms/step - loss: -6.6803\n",
            "Epoch 148/200\n",
            "3024/3024 [==============================] - 4s 1ms/step - loss: -6.6834\n",
            "Epoch 149/200\n",
            "3024/3024 [==============================] - 4s 1ms/step - loss: -6.6792\n",
            "Epoch 150/200\n",
            "3024/3024 [==============================] - 4s 1ms/step - loss: -6.6731\n",
            "Epoch 151/200\n",
            "3024/3024 [==============================] - 4s 1ms/step - loss: -6.6728\n",
            "Epoch 152/200\n",
            "3024/3024 [==============================] - 4s 1ms/step - loss: -6.6888\n",
            "Epoch 153/200\n",
            "3024/3024 [==============================] - 4s 1ms/step - loss: -6.6770\n",
            "Epoch 154/200\n",
            "3024/3024 [==============================] - 4s 1ms/step - loss: -6.6777\n",
            "Epoch 155/200\n",
            "3024/3024 [==============================] - 4s 1ms/step - loss: -6.6619\n",
            "Epoch 156/200\n",
            "3024/3024 [==============================] - 4s 1ms/step - loss: -6.6789\n",
            "Epoch 157/200\n",
            "3024/3024 [==============================] - 4s 1ms/step - loss: -6.6798\n",
            "Epoch 158/200\n",
            "3024/3024 [==============================] - 4s 1ms/step - loss: -6.6823\n",
            "Epoch 159/200\n",
            "3024/3024 [==============================] - 4s 1ms/step - loss: -6.6796\n",
            "Epoch 160/200\n",
            "3024/3024 [==============================] - 4s 1ms/step - loss: -6.6721\n",
            "Epoch 161/200\n",
            "3024/3024 [==============================] - 4s 1ms/step - loss: -6.6673\n",
            "Epoch 162/200\n",
            "3024/3024 [==============================] - 4s 1ms/step - loss: -6.6649\n",
            "Epoch 163/200\n",
            "3024/3024 [==============================] - 4s 1ms/step - loss: -6.6735\n",
            "Epoch 164/200\n",
            "3024/3024 [==============================] - 4s 1ms/step - loss: -6.6914\n",
            "Epoch 165/200\n",
            "3024/3024 [==============================] - 4s 1ms/step - loss: -6.6546\n",
            "Epoch 166/200\n",
            "3024/3024 [==============================] - 4s 1ms/step - loss: -6.6747\n",
            "Epoch 167/200\n",
            "3024/3024 [==============================] - 4s 1ms/step - loss: -6.6706\n",
            "Epoch 168/200\n",
            "3024/3024 [==============================] - 4s 1ms/step - loss: -6.6814\n",
            "Epoch 169/200\n",
            "3024/3024 [==============================] - 4s 1ms/step - loss: -6.6787\n",
            "Epoch 170/200\n",
            "3024/3024 [==============================] - 4s 1ms/step - loss: -6.6787\n",
            "Epoch 171/200\n",
            "3024/3024 [==============================] - 4s 1ms/step - loss: -6.6789\n",
            "Epoch 172/200\n",
            "3024/3024 [==============================] - 4s 1ms/step - loss: -6.6886\n",
            "Epoch 173/200\n",
            "3024/3024 [==============================] - 4s 1ms/step - loss: -6.6846\n",
            "Epoch 174/200\n",
            "3024/3024 [==============================] - 4s 1ms/step - loss: -6.6842\n",
            "Epoch 175/200\n",
            "3024/3024 [==============================] - 4s 1ms/step - loss: -6.6784\n",
            "Epoch 176/200\n",
            "3024/3024 [==============================] - 4s 1ms/step - loss: -6.6712\n",
            "Epoch 177/200\n",
            "3024/3024 [==============================] - 4s 1ms/step - loss: -6.6868\n",
            "Epoch 178/200\n",
            "3024/3024 [==============================] - 4s 1ms/step - loss: -6.6817\n",
            "Epoch 179/200\n",
            "3024/3024 [==============================] - 4s 1ms/step - loss: -6.6704\n",
            "Epoch 180/200\n",
            "3024/3024 [==============================] - 4s 1ms/step - loss: -6.6708\n",
            "Epoch 181/200\n",
            "3024/3024 [==============================] - 4s 1ms/step - loss: -6.7026\n",
            "Epoch 182/200\n",
            "3024/3024 [==============================] - 4s 1ms/step - loss: -6.6630\n",
            "Epoch 183/200\n",
            "3024/3024 [==============================] - 4s 1ms/step - loss: -6.6931\n",
            "Epoch 184/200\n",
            "3024/3024 [==============================] - 4s 1ms/step - loss: -6.6594\n",
            "Epoch 185/200\n",
            "3024/3024 [==============================] - 4s 1ms/step - loss: -6.6870\n",
            "Epoch 186/200\n",
            "3024/3024 [==============================] - 5s 2ms/step - loss: -6.6531\n",
            "Epoch 187/200\n",
            "3024/3024 [==============================] - 4s 1ms/step - loss: -6.6940\n",
            "Epoch 188/200\n",
            "3024/3024 [==============================] - 4s 1ms/step - loss: -6.6774\n",
            "Epoch 189/200\n",
            "3024/3024 [==============================] - 4s 1ms/step - loss: -6.6784\n",
            "Epoch 190/200\n",
            "3024/3024 [==============================] - 4s 1ms/step - loss: -6.6770\n",
            "Epoch 191/200\n",
            "3024/3024 [==============================] - 4s 1ms/step - loss: -6.6860\n",
            "Epoch 192/200\n",
            "3024/3024 [==============================] - 4s 1ms/step - loss: -6.6603\n",
            "Epoch 193/200\n",
            "3024/3024 [==============================] - 4s 1ms/step - loss: -6.6767\n",
            "Epoch 194/200\n",
            "3024/3024 [==============================] - 4s 1ms/step - loss: -6.6806\n",
            "Epoch 195/200\n",
            "3024/3024 [==============================] - 4s 1ms/step - loss: -6.6759\n",
            "Epoch 196/200\n",
            "3024/3024 [==============================] - 4s 1ms/step - loss: -6.6767\n",
            "Epoch 197/200\n",
            "3024/3024 [==============================] - 4s 1ms/step - loss: -6.6819\n",
            "Epoch 198/200\n",
            "3024/3024 [==============================] - 4s 1ms/step - loss: -6.6861\n",
            "Epoch 199/200\n",
            "3024/3024 [==============================] - 4s 1ms/step - loss: -6.6892\n",
            "Epoch 200/200\n",
            "3024/3024 [==============================] - 4s 1ms/step - loss: -6.6444\n"
          ],
          "name": "stdout"
        }
      ]
    },
    {
      "cell_type": "code",
      "metadata": {
        "id": "6RxkuCP_EXkE",
        "colab_type": "code",
        "outputId": "e43a7238-e54c-4acf-9eee-78c2b341f126",
        "colab": {
          "base_uri": "https://localhost:8080/",
          "height": 245
        }
      },
      "source": [
        "test_gray_images = random.sample(profile_pngs_objs, 10)\n",
        "original_profile_imgs, predicted_midcurve_imgs = endec.predict(test_gray_images)\n",
        "\n",
        "plot_results(original_profile_imgs, predicted_midcurve_imgs)"
      ],
      "execution_count": 19,
      "outputs": [
        {
          "output_type": "display_data",
          "data": {
            "image/png": "[encoded data removed]",
            "text/plain": [
              "<Figure size 1440x288 with 20 Axes>"
            ]
          },
          "metadata": {
            "tags": []
          }
        }
      ]
    },
    {
      "cell_type": "code",
      "metadata": {
        "id": "JMjHxZiKCyu5",
        "colab_type": "code",
        "outputId": "a031f485-a015-4eb5-c06f-3f8e522cebc8",
        "colab": {
          "base_uri": "https://localhost:8080/",
          "height": 245
        }
      },
      "source": [
        "test_gray_images = random.sample(profile_pngs_objs, 10)\n",
        "original_profile_imgs, predicted_midcurve_imgs = endec.predict(test_gray_images)\n",
        "\n",
        "plot_results(original_profile_imgs, predicted_midcurve_imgs)"
      ],
      "execution_count": 20,
      "outputs": [
        {
          "output_type": "display_data",
          "data": {
            "image/png": "[encoded data removed]",
            "text/plain": [
              "<Figure size 1440x288 with 20 Axes>"
            ]
          },
          "metadata": {
            "tags": []
          }
        }
      ]
    },
    {
      "cell_type": "code",
      "metadata": {
        "id": "WSOLluSvK1Jd",
        "colab_type": "code",
        "outputId": "589e36aa-9553-40c9-8d42-0bc0c0df7a84",
        "colab": {
          "base_uri": "https://localhost:8080/",
          "height": 245
        }
      },
      "source": [
        "test_gray_images = random.sample(profile_pngs_objs, 10)\n",
        "original_profile_imgs, predicted_midcurve_imgs = endec.predict(test_gray_images)\n",
        "\n",
        "plot_results(original_profile_imgs, predicted_midcurve_imgs)"
      ],
      "execution_count": 21,
      "outputs": [
        {
          "output_type": "display_data",
          "data": {
            "image/png": "[encoded data removed]",
            "text/plain": [
              "<Figure size 1440x288 with 20 Axes>"
            ]
          },
          "metadata": {
            "tags": []
          }
        }
      ]
    },
    {
      "cell_type": "code",
      "metadata": {
        "id": "mFmV1UXjAfaO",
        "colab_type": "code",
        "colab": {}
      },
      "source": [
        ""
      ],
      "execution_count": 0,
      "outputs": []
    }
  ]
}