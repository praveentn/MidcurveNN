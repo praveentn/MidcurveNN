{
  "nbformat": 4,
  "nbformat_minor": 0,
  "metadata": {
    "accelerator": "GPU",
    "colab": {
      "name": "notebook_simple_encoderdecoder_3.ipynb",
      "version": "0.3.2",
      "provenance": [],
      "collapsed_sections": [],
      "toc_visible": true,
      "include_colab_link": true
    },
    "kernelspec": {
      "display_name": "Python 3",
      "language": "python",
      "name": "python3"
    }
  },
  "cells": [
    {
      "cell_type": "markdown",
      "metadata": {
        "id": "view-in-github",
        "colab_type": "text"
      },
      "source": [
        "<a href=\"https://colab.research.google.com/github/praveentn/MidcurveNN/blob/master/simple_encdec/notebook_simple_encoderdecoder_3.ipynb\" target=\"_parent\"><img src=\"https://colab.research.google.com/assets/colab-badge.svg\" alt=\"Open In Colab\"/></a>"
      ]
    },
    {
      "cell_type": "code",
      "metadata": {
        "cellView": "form",
        "colab_type": "code",
        "id": "qmkj-80IHxnd",
        "colab": {}
      },
      "source": [
        "#@title Licensed under the Apache License, Version 2.0 (the \"License\");\n",
        "# you may not use this file except in compliance with the License.\n",
        "# You may obtain a copy of the License at\n",
        "#\n",
        "# https://www.apache.org/licenses/LICENSE-2.0\n",
        "#\n",
        "# Unless required by applicable law or agreed to in writing, software\n",
        "# distributed under the License is distributed on an \"AS IS\" BASIS,\n",
        "# WITHOUT WARRANTIES OR CONDITIONS OF ANY KIND, either express or implied.\n",
        "# See the License for the specific language governing permissions and\n",
        "# limitations under the License."
      ],
      "execution_count": 0,
      "outputs": []
    },
    {
      "cell_type": "markdown",
      "metadata": {
        "colab_type": "text",
        "id": "_xnMOsbqHz61"
      },
      "source": [
        "# Simple EncoderDecoder"
      ]
    },
    {
      "cell_type": "code",
      "metadata": {
        "id": "nwHkho30-ytC",
        "colab_type": "code",
        "outputId": "dfbf49ae-5be6-4cc8-9cdc-6a6d392cb5b5",
        "colab": {
          "base_uri": "https://localhost:8080/",
          "height": 68
        }
      },
      "source": [
        "# mount google drive & set working directory\n",
        "# requires auth (click on url & copy token into text box when prompted)\n",
        "from google.colab import drive\n",
        "drive.mount(\"/content/gdrive\")\n",
        "\n",
        "import os\n",
        "print(os.getcwd())\n",
        "\n",
        "os.chdir('/content/gdrive/My Drive/Colab Notebooks/MidcurveNN')\n",
        "!pwd"
      ],
      "execution_count": 1,
      "outputs": [
        {
          "output_type": "stream",
          "text": [
            "Drive already mounted at /content/gdrive; to attempt to forcibly remount, call drive.mount(\"/content/gdrive\", force_remount=True).\n",
            "/content\n",
            "/content/gdrive/My Drive/Colab Notebooks/MidcurveNN\n"
          ],
          "name": "stdout"
        }
      ]
    },
    {
      "cell_type": "markdown",
      "metadata": {
        "id": "Uz7Wpotd-oFf",
        "colab_type": "text"
      },
      "source": [
        "## Installations"
      ]
    },
    {
      "cell_type": "code",
      "metadata": {
        "id": "YeapgX0p-oFg",
        "colab_type": "code",
        "colab": {}
      },
      "source": [
        "# requirements = \"\"\"\n",
        "# keras\n",
        "# git+https://www.github.com/keras-team/keras-contrib.git\n",
        "# matplotlib\n",
        "# numpy\n",
        "# scipy\n",
        "# pillow\n",
        "# #urllib\n",
        "# #skimage\n",
        "# scikit-image\n",
        "# #gzip\n",
        "# #pickle\n",
        "# \"\"\"\n",
        "# %store requirements > requirements.txt"
      ],
      "execution_count": 0,
      "outputs": []
    },
    {
      "cell_type": "code",
      "metadata": {
        "id": "IoRU4Ake-oFj",
        "colab_type": "code",
        "outputId": "c6b350f3-7f26-4961-f315-2a574642894c",
        "colab": {
          "base_uri": "https://localhost:8080/",
          "height": 561
        }
      },
      "source": [
        "# !pip install -r requirements.txt\n",
        "!pip install drawSvg"
      ],
      "execution_count": 3,
      "outputs": [
        {
          "output_type": "stream",
          "text": [
            "Collecting drawSvg\n",
            "  Downloading https://files.pythonhosted.org/packages/ee/a1/ea85ba2b4fff65055bbd7e896dbaea1a636518ececda76492eedfecc653a/drawSvg-1.2.2.tar.gz\n",
            "Collecting cairoSVG (from drawSvg)\n",
            "\u001b[?25l  Downloading https://files.pythonhosted.org/packages/fd/97/d0f51b1022aecdc3b77385daea0292f3978ec26fee31e65e8a1592ebeff1/CairoSVG-2.4.0-py3-none-any.whl (50kB)\n",
            "\u001b[K     |████████████████████████████████| 51kB 9.0MB/s \n",
            "\u001b[?25hRequirement already satisfied: numpy in /usr/local/lib/python3.6/dist-packages (from drawSvg) (1.16.4)\n",
            "Requirement already satisfied: imageio in /usr/local/lib/python3.6/dist-packages (from drawSvg) (2.4.1)\n",
            "Collecting tinycss2 (from cairoSVG->drawSvg)\n",
            "\u001b[?25l  Downloading https://files.pythonhosted.org/packages/94/2c/4e501f9c351343c8ba10d70b5a7ca97cdab2690af043a6e52ada65b85b6b/tinycss2-1.0.2-py3-none-any.whl (61kB)\n",
            "\u001b[K     |████████████████████████████████| 71kB 23.4MB/s \n",
            "\u001b[?25hCollecting cssselect2 (from cairoSVG->drawSvg)\n",
            "  Downloading https://files.pythonhosted.org/packages/12/e2/91fcd4cd32545beec6e11628d64d3e20f11b5a95dd1ccf3216fd69f176b7/cssselect2-0.2.1-py2.py3-none-any.whl\n",
            "Collecting cairocffi (from cairoSVG->drawSvg)\n",
            "\u001b[?25l  Downloading https://files.pythonhosted.org/packages/0f/0f/7e21b5ddd31b610e46a879c0d21e222dd0fef428c1fc86bbd2bd57fed8a7/cairocffi-1.0.2.tar.gz (68kB)\n",
            "\u001b[K     |████████████████████████████████| 71kB 11.6MB/s \n",
            "\u001b[?25hRequirement already satisfied: defusedxml in /usr/local/lib/python3.6/dist-packages (from cairoSVG->drawSvg) (0.6.0)\n",
            "Requirement already satisfied: pillow in /usr/local/lib/python3.6/dist-packages (from cairoSVG->drawSvg) (4.3.0)\n",
            "Requirement already satisfied: setuptools>=39.2.0 in /usr/local/lib/python3.6/dist-packages (from tinycss2->cairoSVG->drawSvg) (41.0.1)\n",
            "Requirement already satisfied: webencodings>=0.4 in /usr/local/lib/python3.6/dist-packages (from tinycss2->cairoSVG->drawSvg) (0.5.1)\n",
            "Requirement already satisfied: cffi>=1.1.0 in /usr/local/lib/python3.6/dist-packages (from cairocffi->cairoSVG->drawSvg) (1.12.3)\n",
            "Requirement already satisfied: olefile in /usr/local/lib/python3.6/dist-packages (from pillow->cairoSVG->drawSvg) (0.46)\n",
            "Requirement already satisfied: pycparser in /usr/local/lib/python3.6/dist-packages (from cffi>=1.1.0->cairocffi->cairoSVG->drawSvg) (2.19)\n",
            "Building wheels for collected packages: drawSvg, cairocffi\n",
            "  Building wheel for drawSvg (setup.py) ... \u001b[?25l\u001b[?25hdone\n",
            "  Created wheel for drawSvg: filename=drawSvg-1.2.2-cp36-none-any.whl size=19889 sha256=11db133ecc90b8083655314e2f7139125563a7a4ff7297503f4894a1b18122ea\n",
            "  Stored in directory: /root/.cache/pip/wheels/f7/d7/bc/abef999ecd24a56605fe1dcad487857a08fb2fcc90a1ca60ec\n",
            "  Building wheel for cairocffi (setup.py) ... \u001b[?25l\u001b[?25hdone\n",
            "  Created wheel for cairocffi: filename=cairocffi-1.0.2-cp36-none-any.whl size=88348 sha256=8846a75771f1ffd2d1cf0e5d099e23a12be28ff7d2183c093cb949292056cc7d\n",
            "  Stored in directory: /root/.cache/pip/wheels/e7/5d/6f/fc3c2364dfd3c4cfd15d786b156077c52209d9af45496fdf12\n",
            "Successfully built drawSvg cairocffi\n",
            "Installing collected packages: tinycss2, cssselect2, cairocffi, cairoSVG, drawSvg\n",
            "Successfully installed cairoSVG-2.4.0 cairocffi-1.0.2 cssselect2-0.2.1 drawSvg-1.2.2 tinycss2-1.0.2\n"
          ],
          "name": "stdout"
        }
      ]
    },
    {
      "cell_type": "markdown",
      "metadata": {
        "colab_type": "text",
        "id": "e1_Y75QXJS6h"
      },
      "source": [
        "## Import TensorFlow and other libraries"
      ]
    },
    {
      "cell_type": "code",
      "metadata": {
        "colab_type": "code",
        "id": "YfIk2es3hJEd",
        "colab": {
          "base_uri": "https://localhost:8080/",
          "height": 34
        },
        "outputId": "938752b1-3d9c-44dd-c245-0801e280040b"
      },
      "source": [
        "from __future__ import absolute_import, division, print_function, unicode_literals\n",
        "\n",
        "# !pip install tensorflow-gpu==2.0.0-alpha0\n",
        "import tensorflow as tf\n",
        "\n",
        "import os\n",
        "import time\n",
        "import matplotlib.pyplot as plt\n",
        "from IPython.display import clear_output\n",
        "from keras.preprocessing.image import img_to_array, load_img\n",
        "from random import shuffle\n",
        "\n",
        "from keras.layers import Input, Dense\n",
        "from keras.models import Model\n",
        "from keras import regularizers, optimizers\n",
        "from keras.optimizers import Adam\n",
        "from keras.callbacks import EarlyStopping\n",
        "from keras.optimizers import Adam,RMSprop,SGD\n",
        "from keras.models import Model, Sequential\n",
        "from keras.layers import Input, Dense, Conv2D, MaxPooling2D, UpSampling2D, Flatten, Reshape\n",
        "from keras import regularizers\n",
        "from keras.layers.normalization import BatchNormalization\n",
        "from keras.layers import Conv2D, MaxPooling2D, Dense, Dropout, Input, Flatten,AveragePooling2D,UpSampling2D\n",
        "from keras.preprocessing.image import img_to_array, load_img\n",
        "from sklearn.model_selection import train_test_split\n",
        "from random import shuffle\n",
        "\n",
        "from keras.models import Model, load_model\n",
        "#from prepare_data import get_training_data\n",
        "#from prepare_plots import plot_results\n",
        "import random\n",
        "\n",
        "import PIL\n",
        "import json\n",
        "import numpy as np\n",
        "import sys\n",
        "np.set_printoptions(threshold=sys.maxsize)\n",
        "import matplotlib.pyplot as plt\n",
        "import matplotlib\n",
        "# matplotlib.use('TKAgg')\n",
        "%matplotlib inline"
      ],
      "execution_count": 4,
      "outputs": [
        {
          "output_type": "stream",
          "text": [
            "Using TensorFlow backend.\n"
          ],
          "name": "stderr"
        }
      ]
    },
    {
      "cell_type": "markdown",
      "metadata": {
        "colab_type": "text",
        "id": "iYn4MdZnKCey"
      },
      "source": [
        "## Load the dataset\n",
        "\n",
        "Steps to generate URL used below:\n",
        "- Say, your data files are in the directory called 'input'\n",
        "- Manually create a zip file, 'input.zip'\n",
        "- Sync it to gDrive\n",
        "- In gDrive, Share it with Public model, copy its share-able link\n",
        "- Use https://sites.google.com/site/gdocs2direct/ to generate corresponding Direct link\n",
        "- Paste it below"
      ]
    },
    {
      "cell_type": "code",
      "metadata": {
        "id": "_GMP7R7V-oFq",
        "colab_type": "code",
        "outputId": "9b1f4f78-d98c-4bb1-cabb-c1dc1891e021",
        "colab": {
          "base_uri": "https://localhost:8080/",
          "height": 51
        }
      },
      "source": [
        "# test PIL installation\n",
        "import sys\n",
        "from PIL import Image\n",
        "sys.modules['Image'] = Image\n",
        "\n",
        "# both should point to same dir\n",
        "from PIL import Image\n",
        "print(Image.__file__)\n",
        "\n",
        "import Image\n",
        "print(Image.__file__)"
      ],
      "execution_count": 5,
      "outputs": [
        {
          "output_type": "stream",
          "text": [
            "/usr/local/lib/python3.6/dist-packages/PIL/Image.py\n",
            "/usr/local/lib/python3.6/dist-packages/PIL/Image.py\n"
          ],
          "name": "stdout"
        }
      ]
    },
    {
      "cell_type": "code",
      "metadata": {
        "id": "bcMdAhHH3TcT",
        "colab_type": "code",
        "outputId": "2b993d7d-a970-4c7f-8d02-ef80ec3778b0",
        "colab": {
          "base_uri": "https://localhost:8080/",
          "height": 51
        }
      },
      "source": [
        "# _URL = 'https://drive.google.com/uc?export=download&id=16rqDFLO__WySSQGlAht0FEj2uJZg4M9M'\n",
        "\n",
        "# path_to_zip = tf.keras.utils.get_file('input.zip',\n",
        "#                                       origin=_URL,\n",
        "#                                       extract=True)\n",
        "\n",
        "# working directory\n",
        "wdir = os.getcwd()\n",
        "print(\"Working directory: \", wdir)\n",
        "\n",
        "# input_data_folder = os.path.join(os.path.dirname(path_to_zip), 'input')\n",
        "input_data_folder = wdir + \"/data/input\"\n",
        "input_data_folder = wdir + \"/data/images\"\n",
        "print(\"input data dir: \", input_data_folder)"
      ],
      "execution_count": 6,
      "outputs": [
        {
          "output_type": "stream",
          "text": [
            "Working directory:  /content/gdrive/My Drive/Colab Notebooks/MidcurveNN\n",
            "input data dir:  /content/gdrive/My Drive/Colab Notebooks/MidcurveNN/data/images\n"
          ],
          "name": "stdout"
        }
      ]
    },
    {
      "cell_type": "code",
      "metadata": {
        "id": "k1iMlSMN3UeK",
        "colab_type": "code",
        "outputId": "ab889f3a-d7c5-441b-87fe-79d8219f68fe",
        "colab": {
          "base_uri": "https://localhost:8080/",
          "height": 51
        }
      },
      "source": [
        "import glob\n",
        "\n",
        "image_paths = glob.glob(input_data_folder + '/**/*.png', recursive=True)\n",
        "images = [os.path.basename(img_path) for img_path in image_paths]\n",
        "\n",
        "print(len(images))\n",
        "\n",
        "#images = os.listdir(input_data_folder)\n",
        "images[99]"
      ],
      "execution_count": 7,
      "outputs": [
        {
          "output_type": "stream",
          "text": [
            "4256\n"
          ],
          "name": "stdout"
        },
        {
          "output_type": "execute_result",
          "data": {
            "text/plain": [
              "'CapI_Midcurve_mirrored_0_translated_10_-20.png'"
            ]
          },
          "metadata": {
            "tags": []
          },
          "execution_count": 7
        }
      ]
    },
    {
      "cell_type": "code",
      "metadata": {
        "id": "MGmCaN2vFWyx",
        "colab_type": "code",
        "colab": {}
      },
      "source": [
        "imdim = 100"
      ],
      "execution_count": 0,
      "outputs": []
    },
    {
      "cell_type": "code",
      "metadata": {
        "id": "CO04QsT-3faS",
        "colab_type": "code",
        "outputId": "ececd70c-4595-4eb8-8085-525b4b7552f0",
        "colab": {
          "base_uri": "https://localhost:8080/",
          "height": 340
        }
      },
      "source": [
        "shapes = os.listdir('/content/gdrive/My Drive/Colab Notebooks/MidcurveNN/data/images')\n",
        "shapes"
      ],
      "execution_count": 9,
      "outputs": [
        {
          "output_type": "execute_result",
          "data": {
            "text/plain": [
              "['CapI',\n",
              " 'Iuvw',\n",
              " 'Tuvw',\n",
              " 'Vuvw',\n",
              " 'Sm_n',\n",
              " 'InvV',\n",
              " 'Parl',\n",
              " 'Trap',\n",
              " 'Stik',\n",
              " 'Usla',\n",
              " 'LapT',\n",
              " 'RelY',\n",
              " 'T002',\n",
              " 'T003',\n",
              " 'T004',\n",
              " 'T005',\n",
              " 'Plus',\n",
              " 'SqLu',\n",
              " 'Luvw']"
            ]
          },
          "metadata": {
            "tags": []
          },
          "execution_count": 9
        }
      ]
    },
    {
      "cell_type": "code",
      "metadata": {
        "id": "MrYBelpQ-oFy",
        "colab_type": "code",
        "colab": {}
      },
      "source": [
        "def read_input_image_pairs(datafolder=input_data_folder):\n",
        "    profile_pngs = []\n",
        "    midcurve_pngs = []\n",
        "    for file in os.listdir(datafolder):\n",
        "        fullpath = os.path.join(datafolder, file)\n",
        "        if os.path.isdir(fullpath):\n",
        "            continue\n",
        "        if file.endswith(\".png\"):\n",
        "            if file.find(\"Profile\") != -1:\n",
        "                profile_pngs.append(fullpath)\n",
        "            if file.find(\"Midcurve\") != -1:\n",
        "                midcurve_pngs.append(fullpath)\n",
        "    profile_pngs = sorted(profile_pngs)\n",
        "    midcurve_pngs = sorted(midcurve_pngs)\n",
        "    return profile_pngs,midcurve_pngs"
      ],
      "execution_count": 0,
      "outputs": []
    },
    {
      "cell_type": "code",
      "metadata": {
        "colab_type": "code",
        "id": "2CbTEt448b4R",
        "colab": {}
      },
      "source": [
        "def get_training_data(datafolder=input_data_folder):\n",
        "    profile_pngs,midcurve_pngs = read_input_image_pairs(datafolder)\n",
        "    \n",
        "    profile_pngs_objs = [img_to_array(load_img(f, color_mode='rgba', target_size=(imdim, imdim))) for f in profile_pngs ]\n",
        "    midcurve_pngs_objs = [img_to_array(load_img(f, color_mode='rgba', target_size=(imdim, imdim))) for f in midcurve_pngs]\n",
        "\n",
        "#     profile_pngs_objs = np.array([x.reshape((1,) + x.shape) for x in profile_pngs_objs])\n",
        "#     midcurve_pngs_objs = np.array([x.reshape((1,) + x.shape) for x in midcurve_pngs_objs])\n",
        "\n",
        "    profile_pngs_gray_objs = [x[:,:,3] for x in profile_pngs_objs]\n",
        "    midcurve_pngs_gray_objs =[x[:,:,3] for x in midcurve_pngs_objs]\n",
        "    \n",
        "#     profile_pngs_gray_objs = [np.where(x>128, 0, 1) for x in profile_pngs_gray_objs]\n",
        "#     midcurve_pngs_gray_objs =[np.where(x>128, 0, 1) for x in midcurve_pngs_gray_objs]\n",
        "        \n",
        "    # shufle them\n",
        "    zipped_profiles_midcurves = [(p,m) for p,m in zip(profile_pngs_gray_objs,midcurve_pngs_gray_objs)]\n",
        "    shuffle(zipped_profiles_midcurves)\n",
        "    profile_pngs_gray_objs, midcurve_pngs_gray_objs = zip(*zipped_profiles_midcurves)\n",
        "    \n",
        "    return profile_pngs_gray_objs, midcurve_pngs_gray_objs"
      ],
      "execution_count": 0,
      "outputs": []
    },
    {
      "cell_type": "code",
      "metadata": {
        "id": "UgR0H_-d4Mvq",
        "colab_type": "code",
        "outputId": "b18490b9-09f5-422a-83b2-97c38c1762c6",
        "colab": {
          "base_uri": "https://localhost:8080/",
          "height": 663
        }
      },
      "source": [
        "profile_pngs_objs = ()\n",
        "midcurve_pngs_objs = ()\n",
        "\n",
        "for shape in shapes:\n",
        "    print(shape)\n",
        "    tp, tm = get_training_data(os.path.join(input_data_folder, shape))\n",
        "    profile_pngs_objs += tp\n",
        "    midcurve_pngs_objs += tm\n",
        "    print(len(profile_pngs_objs), len(midcurve_pngs_objs))"
      ],
      "execution_count": 12,
      "outputs": [
        {
          "output_type": "stream",
          "text": [
            "CapI\n",
            "112 112\n",
            "Iuvw\n",
            "224 224\n",
            "Tuvw\n",
            "336 336\n",
            "Vuvw\n",
            "448 448\n",
            "Sm_n\n",
            "560 560\n",
            "InvV\n",
            "672 672\n",
            "Parl\n",
            "784 784\n",
            "Trap\n",
            "896 896\n",
            "Stik\n",
            "1008 1008\n",
            "Usla\n",
            "1120 1120\n",
            "LapT\n",
            "1232 1232\n",
            "RelY\n",
            "1344 1344\n",
            "T002\n",
            "1456 1456\n",
            "T003\n",
            "1568 1568\n",
            "T004\n",
            "1680 1680\n",
            "T005\n",
            "1792 1792\n",
            "Plus\n",
            "1904 1904\n",
            "SqLu\n",
            "2016 2016\n",
            "Luvw\n",
            "2128 2128\n"
          ],
          "name": "stdout"
        }
      ]
    },
    {
      "cell_type": "code",
      "metadata": {
        "colab_type": "code",
        "id": "4OLHMpsQ5aOv",
        "colab": {}
      },
      "source": [
        "#profile_pngs_objs, midcurve_pngs_objs = get_training_data()"
      ],
      "execution_count": 0,
      "outputs": []
    },
    {
      "cell_type": "code",
      "metadata": {
        "id": "gogvpFi9-oF5",
        "colab_type": "code",
        "colab": {}
      },
      "source": [
        "def plot_results(original_imgs,computed_imgs):\n",
        "    n = 10  # how many digits we will display\n",
        "    plt.figure(figsize=(20, 4))\n",
        "    for i in range(n):\n",
        "        # display original\n",
        "        ax = plt.subplot(2, n, i + 1)\n",
        "        plt.imshow(original_imgs[i].reshape(100, 100),cmap='gray_r')\n",
        "#         plt.gray()\n",
        "        ax.get_xaxis().set_visible(False)\n",
        "        ax.get_yaxis().set_visible(False)\n",
        "    \n",
        "        # display reconstruction\n",
        "        ax = plt.subplot(2, n, i + 1 + n)\n",
        "        plt.imshow(computed_imgs[i].reshape(100, 100),cmap='gray_r')\n",
        "#         plt.gray()\n",
        "        ax.get_xaxis().set_visible(False)\n",
        "        ax.get_yaxis().set_visible(False)\n",
        "    plt.show()"
      ],
      "execution_count": 0,
      "outputs": []
    },
    {
      "cell_type": "code",
      "metadata": {
        "id": "YT489k6k-oF8",
        "colab_type": "code",
        "outputId": "0b94b93a-985f-4bbb-8971-31d7259217d6",
        "colab": {
          "base_uri": "https://localhost:8080/",
          "height": 244
        }
      },
      "source": [
        "plot_results(profile_pngs_objs, midcurve_pngs_objs)"
      ],
      "execution_count": 15,
      "outputs": [
        {
          "output_type": "display_data",
          "data": {
            "image/png": "[encoded data removed]",
            "text/plain": [
              "<Figure size 1440x288 with 20 Axes>"
            ]
          },
          "metadata": {
            "tags": []
          }
        }
      ]
    },
    {
      "cell_type": "code",
      "metadata": {
        "id": "EEgxZ1WD-oGD",
        "colab_type": "code",
        "colab": {}
      },
      "source": [
        "class simple_encoderdecoder:\n",
        "    def __init__(self):\n",
        "        self.encoding_dim = 100\n",
        "        self.input_dim = 10000\n",
        "        self.epochs = 200\n",
        "        self.autoencoder_model_pkl = \"models/autoencoder_model.pkl\"\n",
        "        self.encoder_model_pkl = \"models/encoder_model.pkl\"\n",
        "        self.decoder_model_pkl = \"models/decoder_model.pkl\"\n",
        "                \n",
        "    def process_images(self,grayobjs):\n",
        "        flat_objs = [x.reshape(self.input_dim) for x in grayobjs]\n",
        "        pngs_objs = np.array(flat_objs)\n",
        "        return pngs_objs\n",
        "\n",
        "    def train(self,\n",
        "            profile_pngs_gray_objs, \n",
        "            midcurve_pngs_gray_objs):\n",
        "        \n",
        "        if not os.path.exists(self.autoencoder_model_pkl):\n",
        "            # this is our input placeholder\n",
        "            input_img = Input(shape=(self.input_dim,))\n",
        "            \n",
        "            # \"encoded\" is the encoded representation of the input\n",
        "            encoded = Dense(self.encoding_dim, activation='relu',activity_regularizer=regularizers.l1(10e-5))(input_img)\n",
        "            # \"decoded\" is the lossy reconstruction of the input\n",
        "            decoded = Dense(self.input_dim, activation='sigmoid')(encoded) \n",
        "            \n",
        "            # Model 1: Full AutoEncoder, includes both encoder single dense layer and decoder single dense layer. \n",
        "            # This model maps an input to its reconstruction\n",
        "            self.autoencoder = Model(input_img, decoded)\n",
        "                    \n",
        "            # Model 2: a separate encoder model: -------------------\n",
        "            # this model maps an input to its encoded representation\n",
        "            self.encoder = Model(input_img, encoded)\n",
        "            \n",
        "            # Model 3: a separate encoder model: -------------------\n",
        "            # create a placeholder for an encoded (32-dimensional) input\n",
        "            encoded_input = Input(shape=(self.encoding_dim,))\n",
        "            # retrieve the last layer of the autoencoder model\n",
        "            decoder_layer = self.autoencoder.layers[-1]\n",
        "            # create the decoder model\n",
        "            self.decoder = Model(encoded_input, decoder_layer(encoded_input))\n",
        "            \n",
        "            # Compilation of Autoencoder (only)\n",
        "            self.autoencoder.compile(optimizer='adadelta', loss='binary_crossentropy')\n",
        "            \n",
        "            profile_pngs_objs = self.process_images(profile_pngs_gray_objs)\n",
        "            midcurve_pngs_objs = self.process_images(midcurve_pngs_gray_objs)\n",
        "                \n",
        "            self.x = profile_pngs_objs\n",
        "            self.y = midcurve_pngs_objs\n",
        "            self.autoencoder.fit(self.x, self.y,\n",
        "                        epochs=self.epochs,\n",
        "                        batch_size=5,\n",
        "                        shuffle=True)                \n",
        "            # Save models\n",
        "            #self.autoencoder.save(self.autoencoder_model_pkl)\n",
        "            #self.encoder.save(self.encoder_model_pkl)\n",
        "            #self.decoder.save(self.decoder_model_pkl)  \n",
        "        else:\n",
        "            # Save models\n",
        "            #self.autoencoder = load_model(self.autoencoder_model_pkl)\n",
        "            #self.encoder= load_model(self.encoder_model_pkl)\n",
        "            #self.decoder = load_model(self.decoder_model_pkl)\n",
        "            print(\"pass...\")\n",
        "    \n",
        "    def predict(self, test_profile_images):\n",
        "        png_profile_images = self.process_images(test_profile_images)\n",
        "        encoded_imgs = self.encoder.predict(png_profile_images)\n",
        "        decoded_imgs = self.decoder.predict(encoded_imgs)    \n",
        "        return test_profile_images,decoded_imgs"
      ],
      "execution_count": 0,
      "outputs": []
    },
    {
      "cell_type": "code",
      "metadata": {
        "id": "Rp_A3YTfCWAJ",
        "colab_type": "code",
        "outputId": "93da66c3-08b7-4a2f-9e8c-e3ccb1e6c293",
        "colab": {
          "base_uri": "https://localhost:8080/",
          "height": 1000
        }
      },
      "source": [
        "endec = simple_encoderdecoder()\n",
        "endec.train(profile_pngs_objs, midcurve_pngs_objs)"
      ],
      "execution_count": 17,
      "outputs": [
        {
          "output_type": "stream",
          "text": [
            "WARNING: Logging before flag parsing goes to stderr.\n",
            "W0820 08:00:53.516017 139891597449088 deprecation_wrapper.py:119] From /usr/local/lib/python3.6/dist-packages/keras/backend/tensorflow_backend.py:74: The name tf.get_default_graph is deprecated. Please use tf.compat.v1.get_default_graph instead.\n",
            "\n",
            "W0820 08:00:53.573006 139891597449088 deprecation_wrapper.py:119] From /usr/local/lib/python3.6/dist-packages/keras/backend/tensorflow_backend.py:517: The name tf.placeholder is deprecated. Please use tf.compat.v1.placeholder instead.\n",
            "\n",
            "W0820 08:00:53.589200 139891597449088 deprecation_wrapper.py:119] From /usr/local/lib/python3.6/dist-packages/keras/backend/tensorflow_backend.py:4138: The name tf.random_uniform is deprecated. Please use tf.random.uniform instead.\n",
            "\n",
            "W0820 08:00:53.667090 139891597449088 deprecation_wrapper.py:119] From /usr/local/lib/python3.6/dist-packages/keras/optimizers.py:790: The name tf.train.Optimizer is deprecated. Please use tf.compat.v1.train.Optimizer instead.\n",
            "\n",
            "W0820 08:00:53.705031 139891597449088 deprecation_wrapper.py:119] From /usr/local/lib/python3.6/dist-packages/keras/backend/tensorflow_backend.py:3376: The name tf.log is deprecated. Please use tf.math.log instead.\n",
            "\n",
            "W0820 08:00:53.714030 139891597449088 deprecation.py:323] From /usr/local/lib/python3.6/dist-packages/tensorflow/python/ops/nn_impl.py:180: add_dispatch_support.<locals>.wrapper (from tensorflow.python.ops.array_ops) is deprecated and will be removed in a future version.\n",
            "Instructions for updating:\n",
            "Use tf.where in 2.0, which has the same broadcast rule as np.where\n",
            "W0820 08:00:54.657127 139891597449088 deprecation_wrapper.py:119] From /usr/local/lib/python3.6/dist-packages/keras/backend/tensorflow_backend.py:986: The name tf.assign_add is deprecated. Please use tf.compat.v1.assign_add instead.\n",
            "\n"
          ],
          "name": "stderr"
        },
        {
          "output_type": "stream",
          "text": [
            "Epoch 1/200\n",
            "2128/2128 [==============================] - 12s 6ms/step - loss: -2.5852\n",
            "Epoch 2/200\n",
            "2128/2128 [==============================] - 9s 4ms/step - loss: -6.4108\n",
            "Epoch 3/200\n",
            "2128/2128 [==============================] - 9s 4ms/step - loss: -6.8640\n",
            "Epoch 4/200\n",
            "2128/2128 [==============================] - 9s 4ms/step - loss: -7.0003\n",
            "Epoch 5/200\n",
            "2128/2128 [==============================] - 9s 4ms/step - loss: -7.0496\n",
            "Epoch 6/200\n",
            "2128/2128 [==============================] - 9s 4ms/step - loss: -7.0850\n",
            "Epoch 7/200\n",
            "2128/2128 [==============================] - 9s 4ms/step - loss: -7.0953\n",
            "Epoch 8/200\n",
            "2128/2128 [==============================] - 10s 5ms/step - loss: -7.1452\n",
            "Epoch 9/200\n",
            "2128/2128 [==============================] - 12s 6ms/step - loss: -7.1229\n",
            "Epoch 10/200\n",
            "2128/2128 [==============================] - 12s 6ms/step - loss: -7.1581\n",
            "Epoch 11/200\n",
            "2128/2128 [==============================] - 11s 5ms/step - loss: -7.1804\n",
            "Epoch 12/200\n",
            "2128/2128 [==============================] - 12s 5ms/step - loss: -7.1189\n",
            "Epoch 13/200\n",
            "2128/2128 [==============================] - 12s 5ms/step - loss: -7.1847\n",
            "Epoch 14/200\n",
            "2128/2128 [==============================] - 12s 5ms/step - loss: -7.1716\n",
            "Epoch 15/200\n",
            "2128/2128 [==============================] - 12s 5ms/step - loss: -7.1432\n",
            "Epoch 16/200\n",
            "2128/2128 [==============================] - 12s 5ms/step - loss: -7.1227\n",
            "Epoch 17/200\n",
            "2128/2128 [==============================] - 12s 5ms/step - loss: -7.1651\n",
            "Epoch 18/200\n",
            "2128/2128 [==============================] - 12s 6ms/step - loss: -7.1328\n",
            "Epoch 19/200\n",
            "2128/2128 [==============================] - 12s 6ms/step - loss: -7.1591\n",
            "Epoch 20/200\n",
            "2128/2128 [==============================] - 12s 6ms/step - loss: -7.1494\n",
            "Epoch 21/200\n",
            "2128/2128 [==============================] - 11s 5ms/step - loss: -7.1632\n",
            "Epoch 22/200\n",
            "2128/2128 [==============================] - 10s 5ms/step - loss: -7.1655\n",
            "Epoch 23/200\n",
            "2128/2128 [==============================] - 12s 5ms/step - loss: -7.1583\n",
            "Epoch 24/200\n",
            "2128/2128 [==============================] - 12s 6ms/step - loss: -7.1483\n",
            "Epoch 25/200\n",
            "2128/2128 [==============================] - 10s 5ms/step - loss: -7.1468\n",
            "Epoch 26/200\n",
            "2128/2128 [==============================] - 7s 4ms/step - loss: -7.1714\n",
            "Epoch 27/200\n",
            "2128/2128 [==============================] - 12s 6ms/step - loss: -7.1654\n",
            "Epoch 28/200\n",
            "2128/2128 [==============================] - 13s 6ms/step - loss: -7.1685\n",
            "Epoch 29/200\n",
            "2128/2128 [==============================] - 12s 6ms/step - loss: -7.1806\n",
            "Epoch 30/200\n",
            "2128/2128 [==============================] - 13s 6ms/step - loss: -7.1761\n",
            "Epoch 31/200\n",
            "2128/2128 [==============================] - 12s 6ms/step - loss: -7.1633\n",
            "Epoch 32/200\n",
            "2128/2128 [==============================] - 13s 6ms/step - loss: -7.1850\n",
            "Epoch 33/200\n",
            "2128/2128 [==============================] - 13s 6ms/step - loss: -7.1705\n",
            "Epoch 34/200\n",
            "2128/2128 [==============================] - 13s 6ms/step - loss: -7.1870\n",
            "Epoch 35/200\n",
            "2128/2128 [==============================] - 13s 6ms/step - loss: -7.1939\n",
            "Epoch 36/200\n",
            "2128/2128 [==============================] - 12s 6ms/step - loss: -7.2071\n",
            "Epoch 37/200\n",
            "2128/2128 [==============================] - 11s 5ms/step - loss: -7.1952\n",
            "Epoch 38/200\n",
            "2128/2128 [==============================] - 13s 6ms/step - loss: -7.2053\n",
            "Epoch 39/200\n",
            "2128/2128 [==============================] - 13s 6ms/step - loss: -7.2214\n",
            "Epoch 40/200\n",
            "2128/2128 [==============================] - 13s 6ms/step - loss: -7.2155\n",
            "Epoch 41/200\n",
            "2128/2128 [==============================] - 13s 6ms/step - loss: -7.2241\n",
            "Epoch 42/200\n",
            "2128/2128 [==============================] - 13s 6ms/step - loss: -7.2134\n",
            "Epoch 43/200\n",
            "2128/2128 [==============================] - 13s 6ms/step - loss: -7.2065\n",
            "Epoch 44/200\n",
            "2128/2128 [==============================] - 12s 6ms/step - loss: -7.2265\n",
            "Epoch 45/200\n",
            "2128/2128 [==============================] - 13s 6ms/step - loss: -7.2509\n",
            "Epoch 46/200\n",
            "2128/2128 [==============================] - 13s 6ms/step - loss: -7.2513\n",
            "Epoch 47/200\n",
            "2128/2128 [==============================] - 12s 6ms/step - loss: -7.2250\n",
            "Epoch 48/200\n",
            "2128/2128 [==============================] - 13s 6ms/step - loss: -7.2456\n",
            "Epoch 49/200\n",
            "2128/2128 [==============================] - 13s 6ms/step - loss: -7.2446\n",
            "Epoch 50/200\n",
            "2128/2128 [==============================] - 13s 6ms/step - loss: -7.2390\n",
            "Epoch 51/200\n",
            "2128/2128 [==============================] - 12s 6ms/step - loss: -7.2577\n",
            "Epoch 52/200\n",
            "2128/2128 [==============================] - 11s 5ms/step - loss: -7.2707\n",
            "Epoch 53/200\n",
            "2128/2128 [==============================] - 12s 6ms/step - loss: -7.2669\n",
            "Epoch 54/200\n",
            "2128/2128 [==============================] - 13s 6ms/step - loss: -7.2654\n",
            "Epoch 55/200\n",
            "2128/2128 [==============================] - 13s 6ms/step - loss: -7.2739\n",
            "Epoch 56/200\n",
            "2128/2128 [==============================] - 13s 6ms/step - loss: -7.2651\n",
            "Epoch 57/200\n",
            "2128/2128 [==============================] - 13s 6ms/step - loss: -7.2661\n",
            "Epoch 58/200\n",
            "2128/2128 [==============================] - 13s 6ms/step - loss: -7.2528\n",
            "Epoch 59/200\n",
            "2128/2128 [==============================] - 13s 6ms/step - loss: -7.2773\n",
            "Epoch 60/200\n",
            "2128/2128 [==============================] - 13s 6ms/step - loss: -7.2529\n",
            "Epoch 61/200\n",
            "2128/2128 [==============================] - 12s 6ms/step - loss: -7.2820\n",
            "Epoch 62/200\n",
            "2128/2128 [==============================] - 13s 6ms/step - loss: -7.2795\n",
            "Epoch 63/200\n",
            "2128/2128 [==============================] - 12s 6ms/step - loss: -7.2783\n",
            "Epoch 64/200\n",
            "2128/2128 [==============================] - 13s 6ms/step - loss: -7.2934\n",
            "Epoch 65/200\n",
            "2128/2128 [==============================] - 13s 6ms/step - loss: -7.2875\n",
            "Epoch 66/200\n",
            "2128/2128 [==============================] - 13s 6ms/step - loss: -7.2852\n",
            "Epoch 67/200\n",
            "2128/2128 [==============================] - 11s 5ms/step - loss: -7.2905\n",
            "Epoch 68/200\n",
            "2128/2128 [==============================] - 13s 6ms/step - loss: -7.2948\n",
            "Epoch 69/200\n",
            "2128/2128 [==============================] - 9s 4ms/step - loss: -7.2895\n",
            "Epoch 70/200\n",
            "2128/2128 [==============================] - 6s 3ms/step - loss: -7.2851\n",
            "Epoch 71/200\n",
            "2128/2128 [==============================] - 6s 3ms/step - loss: -7.3145\n",
            "Epoch 72/200\n",
            "2128/2128 [==============================] - 6s 3ms/step - loss: -7.3021\n",
            "Epoch 73/200\n",
            "2128/2128 [==============================] - 6s 3ms/step - loss: -7.3088\n",
            "Epoch 74/200\n",
            "2128/2128 [==============================] - 6s 3ms/step - loss: -7.3043\n",
            "Epoch 75/200\n",
            "2128/2128 [==============================] - 6s 3ms/step - loss: -7.3220\n",
            "Epoch 76/200\n",
            "2128/2128 [==============================] - 6s 3ms/step - loss: -7.3259\n",
            "Epoch 77/200\n",
            "2128/2128 [==============================] - 6s 3ms/step - loss: -7.3166\n",
            "Epoch 78/200\n",
            "2128/2128 [==============================] - 6s 3ms/step - loss: -7.3123\n",
            "Epoch 79/200\n",
            "2128/2128 [==============================] - 6s 3ms/step - loss: -7.3274\n",
            "Epoch 80/200\n",
            "2128/2128 [==============================] - 6s 3ms/step - loss: -7.3165\n",
            "Epoch 81/200\n",
            "2128/2128 [==============================] - 4s 2ms/step - loss: -7.3180\n",
            "Epoch 82/200\n",
            "2128/2128 [==============================] - 5s 2ms/step - loss: -7.3401\n",
            "Epoch 83/200\n",
            "2128/2128 [==============================] - 5s 2ms/step - loss: -7.3247\n",
            "Epoch 84/200\n",
            "2128/2128 [==============================] - 4s 2ms/step - loss: -7.3256\n",
            "Epoch 85/200\n",
            "2128/2128 [==============================] - 4s 2ms/step - loss: -7.3268\n",
            "Epoch 86/200\n",
            "2128/2128 [==============================] - 4s 2ms/step - loss: -7.3367\n",
            "Epoch 87/200\n",
            "2128/2128 [==============================] - 4s 2ms/step - loss: -7.3317\n",
            "Epoch 88/200\n",
            "2128/2128 [==============================] - 4s 2ms/step - loss: -7.3407\n",
            "Epoch 89/200\n",
            "2128/2128 [==============================] - 4s 2ms/step - loss: -7.3282\n",
            "Epoch 90/200\n",
            "2128/2128 [==============================] - 4s 2ms/step - loss: -7.3364\n",
            "Epoch 91/200\n",
            "2128/2128 [==============================] - 4s 2ms/step - loss: -7.3392\n",
            "Epoch 92/200\n",
            "2128/2128 [==============================] - 3s 2ms/step - loss: -7.3249\n",
            "Epoch 93/200\n",
            "2128/2128 [==============================] - 4s 2ms/step - loss: -7.3591\n",
            "Epoch 94/200\n",
            "2128/2128 [==============================] - 4s 2ms/step - loss: -7.3341\n",
            "Epoch 95/200\n",
            "2128/2128 [==============================] - 3s 2ms/step - loss: -7.3466\n",
            "Epoch 96/200\n",
            "2128/2128 [==============================] - 3s 2ms/step - loss: -7.3408\n",
            "Epoch 97/200\n",
            "2128/2128 [==============================] - 4s 2ms/step - loss: -7.3450\n",
            "Epoch 98/200\n",
            "2128/2128 [==============================] - 4s 2ms/step - loss: -7.3257\n",
            "Epoch 99/200\n",
            "2128/2128 [==============================] - 6s 3ms/step - loss: -7.3314\n",
            "Epoch 100/200\n",
            "2128/2128 [==============================] - 6s 3ms/step - loss: -7.3481\n",
            "Epoch 101/200\n",
            "2128/2128 [==============================] - 6s 3ms/step - loss: -7.3408\n",
            "Epoch 102/200\n",
            "2128/2128 [==============================] - 6s 3ms/step - loss: -7.3403\n",
            "Epoch 103/200\n",
            "2128/2128 [==============================] - 6s 3ms/step - loss: -7.3433\n",
            "Epoch 104/200\n",
            "2128/2128 [==============================] - 6s 3ms/step - loss: -7.3510\n",
            "Epoch 105/200\n",
            "2128/2128 [==============================] - 6s 3ms/step - loss: -7.3273\n",
            "Epoch 106/200\n",
            "2128/2128 [==============================] - 6s 3ms/step - loss: -7.3455\n",
            "Epoch 107/200\n",
            "2128/2128 [==============================] - 6s 3ms/step - loss: -7.3320\n",
            "Epoch 108/200\n",
            "2128/2128 [==============================] - 6s 3ms/step - loss: -7.3388\n",
            "Epoch 109/200\n",
            "2128/2128 [==============================] - 6s 3ms/step - loss: -7.3316\n",
            "Epoch 110/200\n",
            "2128/2128 [==============================] - 6s 3ms/step - loss: -7.3408\n",
            "Epoch 111/200\n",
            "2128/2128 [==============================] - 5s 2ms/step - loss: -7.3341\n",
            "Epoch 112/200\n",
            "2128/2128 [==============================] - 4s 2ms/step - loss: -7.3525\n",
            "Epoch 113/200\n",
            "2128/2128 [==============================] - 3s 2ms/step - loss: -7.3405\n",
            "Epoch 114/200\n",
            "2128/2128 [==============================] - 3s 2ms/step - loss: -7.3542\n",
            "Epoch 115/200\n",
            "2128/2128 [==============================] - 3s 2ms/step - loss: -7.3595\n",
            "Epoch 116/200\n",
            "2128/2128 [==============================] - 3s 2ms/step - loss: -7.3390\n",
            "Epoch 117/200\n",
            "2128/2128 [==============================] - 3s 2ms/step - loss: -7.3453\n",
            "Epoch 118/200\n",
            "2128/2128 [==============================] - 3s 2ms/step - loss: -7.3566\n",
            "Epoch 119/200\n",
            "2128/2128 [==============================] - 3s 2ms/step - loss: -7.3356\n",
            "Epoch 120/200\n",
            "2128/2128 [==============================] - 3s 2ms/step - loss: -7.3434\n",
            "Epoch 121/200\n",
            "2128/2128 [==============================] - 3s 2ms/step - loss: -7.3475\n",
            "Epoch 122/200\n",
            "2128/2128 [==============================] - 3s 2ms/step - loss: -7.3516\n",
            "Epoch 123/200\n",
            "2128/2128 [==============================] - 3s 2ms/step - loss: -7.3563\n",
            "Epoch 124/200\n",
            "2128/2128 [==============================] - 3s 2ms/step - loss: -7.3404\n",
            "Epoch 125/200\n",
            "2128/2128 [==============================] - 3s 2ms/step - loss: -7.3396\n",
            "Epoch 126/200\n",
            "2128/2128 [==============================] - 3s 2ms/step - loss: -7.3579\n",
            "Epoch 127/200\n",
            "2128/2128 [==============================] - 3s 2ms/step - loss: -7.3587\n",
            "Epoch 128/200\n",
            "2128/2128 [==============================] - 3s 2ms/step - loss: -7.3550\n",
            "Epoch 129/200\n",
            "2128/2128 [==============================] - 3s 2ms/step - loss: -7.3584\n",
            "Epoch 130/200\n",
            "2128/2128 [==============================] - 3s 2ms/step - loss: -7.3651\n",
            "Epoch 131/200\n",
            "2128/2128 [==============================] - 3s 2ms/step - loss: -7.3647\n",
            "Epoch 132/200\n",
            "2128/2128 [==============================] - 3s 2ms/step - loss: -7.3667\n",
            "Epoch 133/200\n",
            "2128/2128 [==============================] - 3s 2ms/step - loss: -7.3487\n",
            "Epoch 134/200\n",
            "2128/2128 [==============================] - 4s 2ms/step - loss: -7.3539\n",
            "Epoch 135/200\n",
            "2128/2128 [==============================] - 3s 2ms/step - loss: -7.3423\n",
            "Epoch 136/200\n",
            "2128/2128 [==============================] - 3s 2ms/step - loss: -7.3425\n",
            "Epoch 137/200\n",
            "2128/2128 [==============================] - 6s 3ms/step - loss: -7.3662\n",
            "Epoch 138/200\n",
            "2128/2128 [==============================] - 6s 3ms/step - loss: -7.3512\n",
            "Epoch 139/200\n",
            "2128/2128 [==============================] - 6s 3ms/step - loss: -7.3618\n",
            "Epoch 140/200\n",
            "2128/2128 [==============================] - 6s 3ms/step - loss: -7.3599\n",
            "Epoch 141/200\n",
            "2128/2128 [==============================] - 6s 3ms/step - loss: -7.3651\n",
            "Epoch 142/200\n",
            "2128/2128 [==============================] - 6s 3ms/step - loss: -7.3550\n",
            "Epoch 143/200\n",
            "2128/2128 [==============================] - 6s 3ms/step - loss: -7.3719\n",
            "Epoch 144/200\n",
            "2128/2128 [==============================] - 6s 3ms/step - loss: -7.3709\n",
            "Epoch 145/200\n",
            "2128/2128 [==============================] - 6s 3ms/step - loss: -7.3514\n",
            "Epoch 146/200\n",
            "2128/2128 [==============================] - 6s 3ms/step - loss: -7.3722\n",
            "Epoch 147/200\n",
            "2128/2128 [==============================] - 6s 3ms/step - loss: -7.3407\n",
            "Epoch 148/200\n",
            "2128/2128 [==============================] - 6s 3ms/step - loss: -7.3578\n",
            "Epoch 149/200\n",
            "2128/2128 [==============================] - 6s 3ms/step - loss: -7.3575\n",
            "Epoch 150/200\n",
            "2128/2128 [==============================] - 5s 2ms/step - loss: -7.3508\n",
            "Epoch 151/200\n",
            "2128/2128 [==============================] - 6s 3ms/step - loss: -7.3820\n",
            "Epoch 152/200\n",
            "2128/2128 [==============================] - 6s 3ms/step - loss: -7.3577\n",
            "Epoch 153/200\n",
            "2128/2128 [==============================] - 6s 3ms/step - loss: -7.3720\n",
            "Epoch 154/200\n",
            "2128/2128 [==============================] - 6s 3ms/step - loss: -7.3580\n",
            "Epoch 155/200\n",
            "2128/2128 [==============================] - 6s 3ms/step - loss: -7.3830\n",
            "Epoch 156/200\n",
            "2128/2128 [==============================] - 6s 3ms/step - loss: -7.3529\n",
            "Epoch 157/200\n",
            "2128/2128 [==============================] - 6s 3ms/step - loss: -7.3653\n",
            "Epoch 158/200\n",
            "2128/2128 [==============================] - 6s 3ms/step - loss: -7.3521\n",
            "Epoch 159/200\n",
            "2128/2128 [==============================] - 6s 3ms/step - loss: -7.3713\n",
            "Epoch 160/200\n",
            "2128/2128 [==============================] - 6s 3ms/step - loss: -7.3704\n",
            "Epoch 161/200\n",
            "2128/2128 [==============================] - 6s 3ms/step - loss: -7.3879\n",
            "Epoch 162/200\n",
            "2128/2128 [==============================] - 6s 3ms/step - loss: -7.3728\n",
            "Epoch 163/200\n",
            "2128/2128 [==============================] - 5s 3ms/step - loss: -7.3626\n",
            "Epoch 164/200\n",
            "2128/2128 [==============================] - 5s 2ms/step - loss: -7.3677\n",
            "Epoch 165/200\n",
            "2128/2128 [==============================] - 6s 3ms/step - loss: -7.3780\n",
            "Epoch 166/200\n",
            "2128/2128 [==============================] - 6s 3ms/step - loss: -7.3578\n",
            "Epoch 167/200\n",
            "2128/2128 [==============================] - 6s 3ms/step - loss: -7.3751\n",
            "Epoch 168/200\n",
            "2128/2128 [==============================] - 6s 3ms/step - loss: -7.3642\n",
            "Epoch 169/200\n",
            "2128/2128 [==============================] - 6s 3ms/step - loss: -7.3738\n",
            "Epoch 170/200\n",
            "2128/2128 [==============================] - 6s 3ms/step - loss: -7.3603\n",
            "Epoch 171/200\n",
            "2128/2128 [==============================] - 6s 3ms/step - loss: -7.3701\n",
            "Epoch 172/200\n",
            "2128/2128 [==============================] - 6s 3ms/step - loss: -7.3572\n",
            "Epoch 173/200\n",
            "2128/2128 [==============================] - 6s 3ms/step - loss: -7.3582\n",
            "Epoch 174/200\n",
            "2128/2128 [==============================] - 6s 3ms/step - loss: -7.3692\n",
            "Epoch 175/200\n",
            "2128/2128 [==============================] - 6s 3ms/step - loss: -7.3726\n",
            "Epoch 176/200\n",
            "2128/2128 [==============================] - 6s 3ms/step - loss: -7.3622\n",
            "Epoch 177/200\n",
            "2128/2128 [==============================] - 5s 3ms/step - loss: -7.3433\n",
            "Epoch 178/200\n",
            "2128/2128 [==============================] - 5s 3ms/step - loss: -7.3672\n",
            "Epoch 179/200\n",
            "2128/2128 [==============================] - 6s 3ms/step - loss: -7.3599\n",
            "Epoch 180/200\n",
            "2128/2128 [==============================] - 6s 3ms/step - loss: -7.3626\n",
            "Epoch 181/200\n",
            "2128/2128 [==============================] - 6s 3ms/step - loss: -7.3694\n",
            "Epoch 182/200\n",
            "2128/2128 [==============================] - 6s 3ms/step - loss: -7.3742\n",
            "Epoch 183/200\n",
            "2128/2128 [==============================] - 6s 3ms/step - loss: -7.3394\n",
            "Epoch 184/200\n",
            "2128/2128 [==============================] - 6s 3ms/step - loss: -7.3642\n",
            "Epoch 185/200\n",
            "2128/2128 [==============================] - 6s 3ms/step - loss: -7.3691\n",
            "Epoch 186/200\n",
            "2128/2128 [==============================] - 6s 3ms/step - loss: -7.3629\n",
            "Epoch 187/200\n",
            "2128/2128 [==============================] - 6s 3ms/step - loss: -7.3509\n",
            "Epoch 188/200\n",
            "2128/2128 [==============================] - 6s 3ms/step - loss: -7.3675\n",
            "Epoch 189/200\n",
            "2128/2128 [==============================] - 6s 3ms/step - loss: -7.3494\n",
            "Epoch 190/200\n",
            "2128/2128 [==============================] - 6s 3ms/step - loss: -7.3625\n",
            "Epoch 191/200\n",
            "2128/2128 [==============================] - 5s 2ms/step - loss: -7.3474\n",
            "Epoch 192/200\n",
            "2128/2128 [==============================] - 5s 2ms/step - loss: -7.3537\n",
            "Epoch 193/200\n",
            "2128/2128 [==============================] - 6s 3ms/step - loss: -7.3623\n",
            "Epoch 194/200\n",
            "2128/2128 [==============================] - 6s 3ms/step - loss: -7.3608\n",
            "Epoch 195/200\n",
            "2128/2128 [==============================] - 6s 3ms/step - loss: -7.3671\n",
            "Epoch 196/200\n",
            "2128/2128 [==============================] - 6s 3ms/step - loss: -7.3403\n",
            "Epoch 197/200\n",
            "2128/2128 [==============================] - 6s 3ms/step - loss: -7.3621\n",
            "Epoch 198/200\n",
            "2128/2128 [==============================] - 6s 3ms/step - loss: -7.3724\n",
            "Epoch 199/200\n",
            "2128/2128 [==============================] - 6s 3ms/step - loss: -7.3486\n",
            "Epoch 200/200\n",
            "2128/2128 [==============================] - 6s 3ms/step - loss: -7.3649\n"
          ],
          "name": "stdout"
        }
      ]
    },
    {
      "cell_type": "code",
      "metadata": {
        "id": "6RxkuCP_EXkE",
        "colab_type": "code",
        "outputId": "ffb1b680-d2c9-4c9b-8f4e-f6edf83d406f",
        "colab": {
          "base_uri": "https://localhost:8080/",
          "height": 244
        }
      },
      "source": [
        "test_gray_images = random.sample(profile_pngs_objs, 10)\n",
        "original_profile_imgs, predicted_midcurve_imgs = endec.predict(test_gray_images)\n",
        "\n",
        "plot_results(original_profile_imgs, predicted_midcurve_imgs)"
      ],
      "execution_count": 18,
      "outputs": [
        {
          "output_type": "display_data",
          "data": {
            "image/png": "[encoded data removed]",
            "text/plain": [
              "<Figure size 1440x288 with 20 Axes>"
            ]
          },
          "metadata": {
            "tags": []
          }
        }
      ]
    },
    {
      "cell_type": "code",
      "metadata": {
        "id": "JMjHxZiKCyu5",
        "colab_type": "code",
        "outputId": "a5142a6f-0d7a-4ff1-c0fb-7c3f70c2c093",
        "colab": {
          "base_uri": "https://localhost:8080/",
          "height": 244
        }
      },
      "source": [
        "test_gray_images = random.sample(profile_pngs_objs, 10)\n",
        "original_profile_imgs, predicted_midcurve_imgs = endec.predict(test_gray_images)\n",
        "\n",
        "plot_results(original_profile_imgs, predicted_midcurve_imgs)"
      ],
      "execution_count": 19,
      "outputs": [
        {
          "output_type": "display_data",
          "data": {
            "image/png": "[encoded data removed]",
            "text/plain": [
              "<Figure size 1440x288 with 20 Axes>"
            ]
          },
          "metadata": {
            "tags": []
          }
        }
      ]
    },
    {
      "cell_type": "code",
      "metadata": {
        "id": "WSOLluSvK1Jd",
        "colab_type": "code",
        "colab": {
          "base_uri": "https://localhost:8080/",
          "height": 244
        },
        "outputId": "b11edc67-c886-4b7e-fb2a-f7fb9751dbe3"
      },
      "source": [
        "test_gray_images = random.sample(profile_pngs_objs, 10)\n",
        "original_profile_imgs, predicted_midcurve_imgs = endec.predict(test_gray_images)\n",
        "\n",
        "plot_results(original_profile_imgs, predicted_midcurve_imgs)"
      ],
      "execution_count": 20,
      "outputs": [
        {
          "output_type": "display_data",
          "data": {
            "image/png": "[encoded data removed]",
            "text/plain": [
              "<Figure size 1440x288 with 20 Axes>"
            ]
          },
          "metadata": {
            "tags": []
          }
        }
      ]
    },
    {
      "cell_type": "code",
      "metadata": {
        "id": "iDwkgbMaPKqJ",
        "colab_type": "code",
        "colab": {}
      },
      "source": [
        ""
      ],
      "execution_count": 0,
      "outputs": []
    }
  ]
}