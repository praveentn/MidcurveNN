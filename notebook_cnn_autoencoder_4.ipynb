{
  "nbformat": 4,
  "nbformat_minor": 0,
  "metadata": {
    "kernelspec": {
      "name": "python3",
      "display_name": "Python 3"
    },
    "language_info": {
      "codemirror_mode": {
        "name": "ipython",
        "version": 3
      },
      "file_extension": ".py",
      "mimetype": "text/x-python",
      "name": "python",
      "nbconvert_exporter": "python",
      "pygments_lexer": "ipython3",
      "version": "3.7.4"
    },
    "colab": {
      "name": "notebook_cnn_autoencoder_3.ipynb",
      "version": "0.3.2",
      "provenance": [],
      "collapsed_sections": [],
      "toc_visible": true,
      "include_colab_link": true
    },
    "accelerator": "GPU"
  },
  "cells": [
    {
      "cell_type": "markdown",
      "metadata": {
        "id": "view-in-github",
        "colab_type": "text"
      },
      "source": [
        "<a href=\"https://colab.research.google.com/github/praveentn/MidcurveNN/blob/master/notebook_cnn_autoencoder_4.ipynb\" target=\"_parent\"><img src=\"https://colab.research.google.com/assets/colab-badge.svg\" alt=\"Open In Colab\"/></a>"
      ]
    },
    {
      "cell_type": "markdown",
      "metadata": {
        "id": "IQVJL5mHwPrl",
        "colab_type": "text"
      },
      "source": [
        "# CNN ENC-DEC"
      ]
    },
    {
      "cell_type": "code",
      "metadata": {
        "id": "AxYRQhxBxAbv",
        "colab_type": "code",
        "outputId": "0854164e-2470-4678-c83e-75005a5eb2d1",
        "colab": {
          "base_uri": "https://localhost:8080/",
          "height": 68
        }
      },
      "source": [
        "# mount google drive & set working directory\n",
        "# requires auth (click on url & copy token into text box when prompted)\n",
        "from google.colab import drive\n",
        "drive.mount(\"/content/gdrive\")\n",
        "\n",
        "import os\n",
        "print(os.getcwd())\n",
        "\n",
        "os.chdir('/content/gdrive/My Drive/Colab Notebooks/MidcurveNN')\n",
        "!pwd"
      ],
      "execution_count": 90,
      "outputs": [
        {
          "output_type": "stream",
          "text": [
            "Drive already mounted at /content/gdrive; to attempt to forcibly remount, call drive.mount(\"/content/gdrive\", force_remount=True).\n",
            "/content/gdrive/My Drive/Colab Notebooks/MidcurveNN\n",
            "/content/gdrive/My Drive/Colab Notebooks/MidcurveNN\n"
          ],
          "name": "stdout"
        }
      ]
    },
    {
      "cell_type": "code",
      "metadata": {
        "id": "rDHgEuJBwPrm",
        "colab_type": "code",
        "colab": {}
      },
      "source": [
        "from __future__ import absolute_import, division, print_function, unicode_literals\n",
        "\n",
        "# !pip install tensorflow-gpu==2.0.0-alpha0\n",
        "import tensorflow as tf\n",
        "\n",
        "import os\n",
        "import time\n",
        "import matplotlib.pyplot as plt\n",
        "from IPython.display import clear_output\n",
        "import os\n",
        "\n",
        "from keras.layers import Input, Dense\n",
        "from keras.models import Model\n",
        "from keras import regularizers, optimizers\n",
        "from keras.optimizers import Adam\n",
        "from keras.callbacks import EarlyStopping\n",
        "from keras.optimizers import Adam,RMSprop,SGD\n",
        "from keras.models import Model, Sequential\n",
        "from keras.layers import Input, Dense, Conv2D, MaxPooling2D, UpSampling2D, Flatten, Reshape\n",
        "from keras import regularizers\n",
        "from keras.layers.normalization import BatchNormalization\n",
        "from keras.layers import Conv2D, MaxPooling2D, Dense, Dropout, Input, Flatten,AveragePooling2D,UpSampling2D\n",
        "from keras.preprocessing.image import img_to_array, load_img\n",
        "from sklearn.model_selection import train_test_split\n",
        "from random import shuffle\n",
        "import PIL\n",
        "import json\n",
        "import numpy as np\n",
        "import sys\n",
        "np.set_printoptions(threshold=sys.maxsize)\n",
        "import matplotlib.pyplot as plt\n",
        "import matplotlib\n",
        "# matplotlib.use('TKAgg')\n",
        "%matplotlib inline"
      ],
      "execution_count": 0,
      "outputs": []
    },
    {
      "cell_type": "code",
      "metadata": {
        "id": "evVd6EPUwPrs",
        "colab_type": "code",
        "outputId": "274ae145-ca1b-4d0d-8a4d-c7e8c74e22ff",
        "colab": {
          "base_uri": "https://localhost:8080/",
          "height": 34
        }
      },
      "source": [
        "# working directory\n",
        "wdir = os.getcwd()\n",
        "wdir"
      ],
      "execution_count": 92,
      "outputs": [
        {
          "output_type": "execute_result",
          "data": {
            "text/plain": [
              "'/content/gdrive/My Drive/Colab Notebooks/MidcurveNN'"
            ]
          },
          "metadata": {
            "tags": []
          },
          "execution_count": 92
        }
      ]
    },
    {
      "cell_type": "code",
      "metadata": {
        "id": "UxFdYYywwPrx",
        "colab_type": "code",
        "outputId": "645edf2a-3587-4d6b-bef2-2b9ff0ef825b",
        "colab": {
          "base_uri": "https://localhost:8080/",
          "height": 34
        }
      },
      "source": [
        "# _URL = 'https://drive.google.com/uc?export=download&id=16rqDFLO__WySSQGlAht0FEj2uJZg4M9M'\n",
        "\n",
        "# path_to_zip = tf.keras.utils.get_file('input.zip',\n",
        "#                                       origin=_URL,\n",
        "#                                       extract=True)\n",
        "\n",
        "# input_data_folder = os.path.join(os.path.dirname(path_to_zip), 'input')\n",
        "input_data_folder = wdir + \"/data/input\"\n",
        "print(\"input data dir: \", input_data_folder)"
      ],
      "execution_count": 214,
      "outputs": [
        {
          "output_type": "stream",
          "text": [
            "input data dir:  /content/gdrive/My Drive/Colab Notebooks/MidcurveNN/data/input\n"
          ],
          "name": "stdout"
        }
      ]
    },
    {
      "cell_type": "code",
      "metadata": {
        "id": "geTVDZfzPY-u",
        "colab_type": "code",
        "colab": {
          "base_uri": "https://localhost:8080/",
          "height": 102
        },
        "outputId": "aeda1a7b-193b-442f-b38f-943523fbebce"
      },
      "source": [
        "images = os.listdir(input_data_folder)\n",
        "images[:5]"
      ],
      "execution_count": 215,
      "outputs": [
        {
          "output_type": "execute_result",
          "data": {
            "text/plain": [
              "['I_Midcurve_mirrored_0.png',\n",
              " 'I_Midcurve_mirrored_0_rotated_150.png',\n",
              " 'I_Midcurve_mirrored_0_rotated_180.png',\n",
              " 'I_Midcurve_mirrored_0_rotated_240.png',\n",
              " 'I_Midcurve_mirrored_0_rotated_120.png']"
            ]
          },
          "metadata": {
            "tags": []
          },
          "execution_count": 215
        }
      ]
    },
    {
      "cell_type": "code",
      "metadata": {
        "id": "oNZW79Q1URmJ",
        "colab_type": "code",
        "colab": {}
      },
      "source": [
        "# image dimension\n",
        "imdim = 256"
      ],
      "execution_count": 0,
      "outputs": []
    },
    {
      "cell_type": "code",
      "metadata": {
        "id": "ZLF_QYATOv8o",
        "colab_type": "code",
        "colab": {}
      },
      "source": [
        "### Resize images\n",
        "\n",
        "import cv2\n",
        "from google.colab.patches import cv2_imshow\n",
        "\n",
        "width = 28\n",
        "height = 28\n",
        "dim = (width, height)\n",
        "\n",
        "for image in images:\n",
        "    img = cv2.imread(input_data_folder + '/' + image, cv2.IMREAD_UNCHANGED)\n",
        "\n",
        "    #print('Original Dimensions : ',img.shape)\n",
        "    # resize image\n",
        "    resized = cv2.resize(img, dim, interpolation = cv2.INTER_AREA)\n",
        "\n",
        "    #print('Resized Dimensions : ',resized.shape)\n",
        "    #cv2_imshow(resized)\n",
        "    cv2.imwrite((wdir + '/data/input28/' + image), resized)\n",
        "\n",
        "\n",
        "cv2.waitKey(0)\n",
        "cv2.destroyAllWindows()"
      ],
      "execution_count": 0,
      "outputs": []
    },
    {
      "cell_type": "code",
      "metadata": {
        "id": "2ww0AwuPQ_1v",
        "colab_type": "code",
        "colab": {
          "base_uri": "https://localhost:8080/",
          "height": 34
        },
        "outputId": "bb95cb71-abfe-457a-a404-f39e88808200"
      },
      "source": [
        "input_data_folder = wdir + \"/data/input\"\n",
        "print(\"input data dir: \", input_data_folder)"
      ],
      "execution_count": 176,
      "outputs": [
        {
          "output_type": "stream",
          "text": [
            "input data dir:  /content/gdrive/My Drive/Colab Notebooks/MidcurveNN/data/input28\n"
          ],
          "name": "stdout"
        }
      ]
    },
    {
      "cell_type": "code",
      "metadata": {
        "id": "RjdmJfpRwPr0",
        "colab_type": "code",
        "colab": {}
      },
      "source": [
        "def read_input_image_pairs(datafolder=input_data_folder):\n",
        "    profile_pngs = []\n",
        "    midcurve_pngs = []\n",
        "    for file in os.listdir(datafolder):\n",
        "        fullpath = os.path.join(datafolder, file)\n",
        "        if os.path.isdir(fullpath):\n",
        "            continue\n",
        "        if file.endswith(\".png\"):\n",
        "            if file.find(\"Profile\") != -1:\n",
        "                profile_pngs.append(fullpath)\n",
        "            if file.find(\"Midcurve\") != -1:\n",
        "                midcurve_pngs.append(fullpath)\n",
        "    profile_pngs = sorted(profile_pngs)\n",
        "    midcurve_pngs = sorted(midcurve_pngs)\n",
        "    return profile_pngs,midcurve_pngs"
      ],
      "execution_count": 0,
      "outputs": []
    },
    {
      "cell_type": "code",
      "metadata": {
        "id": "Rim24hWkwPr3",
        "colab_type": "code",
        "colab": {}
      },
      "source": [
        "def get_training_data(datafolder = input_data_folder):\n",
        "    profile_pngs,midcurve_pngs = read_input_image_pairs(datafolder)\n",
        "    \n",
        "    profile_pngs_objs = [img_to_array(load_img(f, color_mode='rgba', target_size=(imdim, imdim))) for f in profile_pngs ]\n",
        "    midcurve_pngs_objs = [img_to_array(load_img(f, color_mode='rgba', target_size=(imdim, imdim))) for f in midcurve_pngs]\n",
        "\n",
        "#     profile_pngs_objs = np.array([x.reshape((1,) + x.shape) for x in profile_pngs_objs])\n",
        "#     midcurve_pngs_objs = np.array([x.reshape((1,) + x.shape) for x in midcurve_pngs_objs])\n",
        "\n",
        "    profile_pngs_gray_objs = [x[:,:,3] for x in profile_pngs_objs]\n",
        "    midcurve_pngs_gray_objs =[x[:,:,3] for x in midcurve_pngs_objs]\n",
        "    \n",
        "#     profile_pngs_gray_objs = [np.where(x>128, 0, 1) for x in profile_pngs_gray_objs]\n",
        "#     midcurve_pngs_gray_objs =[np.where(x>128, 0, 1) for x in midcurve_pngs_gray_objs]\n",
        "        \n",
        "    # shufle them\n",
        "    zipped_profiles_midcurves = [(p,m) for p,m in zip(profile_pngs_gray_objs,midcurve_pngs_gray_objs)]\n",
        "    shuffle(zipped_profiles_midcurves)\n",
        "    profile_pngs_gray_objs, midcurve_pngs_gray_objs = zip(*zipped_profiles_midcurves)\n",
        "    \n",
        "    return profile_pngs_gray_objs, midcurve_pngs_gray_objs"
      ],
      "execution_count": 0,
      "outputs": []
    },
    {
      "cell_type": "code",
      "metadata": {
        "id": "I6-g_XLcwPr5",
        "colab_type": "code",
        "colab": {}
      },
      "source": [
        "profile_pngs_objs, midcurve_pngs_objs = get_training_data()"
      ],
      "execution_count": 0,
      "outputs": []
    },
    {
      "cell_type": "code",
      "metadata": {
        "id": "lea0l6OoSS9X",
        "colab_type": "code",
        "colab": {
          "base_uri": "https://localhost:8080/",
          "height": 34
        },
        "outputId": "47b11636-ca11-48a0-8e55-bab7d243a9fc"
      },
      "source": [
        "len(profile_pngs_objs)"
      ],
      "execution_count": 226,
      "outputs": [
        {
          "output_type": "execute_result",
          "data": {
            "text/plain": [
              "448"
            ]
          },
          "metadata": {
            "tags": []
          },
          "execution_count": 226
        }
      ]
    },
    {
      "cell_type": "code",
      "metadata": {
        "id": "9f9N734PSXGH",
        "colab_type": "code",
        "colab": {
          "base_uri": "https://localhost:8080/",
          "height": 34
        },
        "outputId": "db19ebf5-d4f7-450e-8a67-f29f1bf4b626"
      },
      "source": [
        "profile_pngs_objs[0].shape"
      ],
      "execution_count": 227,
      "outputs": [
        {
          "output_type": "execute_result",
          "data": {
            "text/plain": [
              "(256, 256)"
            ]
          },
          "metadata": {
            "tags": []
          },
          "execution_count": 227
        }
      ]
    },
    {
      "cell_type": "code",
      "metadata": {
        "id": "IGcijScSwPr8",
        "colab_type": "code",
        "colab": {}
      },
      "source": [
        "def plot_results(original_imgs,computed_imgs,n=10):\n",
        "    # n = 10  # how many digits we will display\n",
        "    plt.figure(figsize=(20, 4))\n",
        "    for i in range(n):\n",
        "        # display original\n",
        "        ax = plt.subplot(2, n, i + 1)\n",
        "        plt.imshow(original_imgs[i].reshape(imdim, imdim),cmap='gray_r')\n",
        "#         plt.gray()\n",
        "        ax.get_xaxis().set_visible(False)\n",
        "        ax.get_yaxis().set_visible(False)\n",
        "    \n",
        "        # display reconstruction\n",
        "        ax = plt.subplot(2, n, i + 1 + n)\n",
        "        plt.imshow(computed_imgs[i].reshape(imdim, imdim),cmap='gray_r')\n",
        "#         plt.gray()\n",
        "        ax.get_xaxis().set_visible(False)\n",
        "        ax.get_yaxis().set_visible(False)\n",
        "    plt.show()"
      ],
      "execution_count": 0,
      "outputs": []
    },
    {
      "cell_type": "code",
      "metadata": {
        "id": "YkMvqA_swPr_",
        "colab_type": "code",
        "outputId": "84584717-3323-4ec4-b7f5-ef4e0bd69761",
        "colab": {
          "base_uri": "https://localhost:8080/",
          "height": 244
        }
      },
      "source": [
        "plot_results(profile_pngs_objs,midcurve_pngs_objs)"
      ],
      "execution_count": 229,
      "outputs": [
        {
          "output_type": "display_data",
          "data": {
            "image/png": "[encoded data removed]",
            "text/plain": [
              "<Figure size 1440x288 with 20 Axes>"
            ]
          },
          "metadata": {
            "tags": []
          }
        }
      ]
    },
    {
      "cell_type": "code",
      "metadata": {
        "id": "KeLJMAIbwPsD",
        "colab_type": "code",
        "colab": {}
      },
      "source": [
        "def get_train_test_split(profile_pngs_gray_objs, midcurve_pngs_gray_objs, encoding_dim=imdim, input_dim=imdim):\n",
        "\n",
        "    # Training\n",
        "    profile_pngs_flat_objs = [x.reshape(input_dim,input_dim,1) for x in profile_pngs_gray_objs]\n",
        "    midcurve_pngs_flat_objs = [x.reshape(input_dim,input_dim,1) for x in midcurve_pngs_gray_objs]\n",
        "    \n",
        "    profile_pngs_objs = np.array(profile_pngs_flat_objs)\n",
        "    midcurve_pngs_objs= np.array(midcurve_pngs_flat_objs)\n",
        "    \n",
        "    '''\n",
        "    train_size = int(len(profile_pngs_objs)*0.7)\n",
        "    x_train = profile_pngs_objs[:train_size]\n",
        "    y_train = midcurve_pngs_objs[:train_size]\n",
        "    x_test = profile_pngs_objs[train_size:]\n",
        "    y_test = midcurve_pngs_objs[train_size:]\n",
        "    '''\n",
        "    x_train, x_test, y_train, y_test = train_test_split(profile_pngs_objs, midcurve_pngs_objs, \n",
        "                                                        test_size=0.3, random_state=42)\n",
        "    return x_train, x_test, y_train, y_test"
      ],
      "execution_count": 0,
      "outputs": []
    },
    {
      "cell_type": "code",
      "metadata": {
        "id": "CsHrNT43wPsG",
        "colab_type": "code",
        "outputId": "b69924e7-a4d0-49ee-cea0-8b7e5062a7d5",
        "colab": {
          "base_uri": "https://localhost:8080/",
          "height": 34
        }
      },
      "source": [
        "x_train, x_test, y_train, y_test = get_train_test_split(profile_pngs_objs, midcurve_pngs_objs)\n",
        "\n",
        "print((len(x_train), len(y_train)), (len(x_test), len(y_test)))"
      ],
      "execution_count": 231,
      "outputs": [
        {
          "output_type": "stream",
          "text": [
            "(313, 313) (135, 135)\n"
          ],
          "name": "stdout"
        }
      ]
    },
    {
      "cell_type": "markdown",
      "metadata": {
        "id": "cMg0OhMXwPsJ",
        "colab_type": "text"
      },
      "source": [
        "### Auto-encoder"
      ]
    },
    {
      "cell_type": "code",
      "metadata": {
        "id": "FnGlEsrp5G9_",
        "colab_type": "code",
        "colab": {}
      },
      "source": [
        "class Autoencoder():\n",
        "    def __init__(self):\n",
        "        self.img_rows = imdim\n",
        "        self.img_cols = imdim\n",
        "        self.channels = 1\n",
        "        self.img_shape = (self.img_rows, self.img_cols, self.channels)\n",
        "        \n",
        "        optimizer = Adam(lr=0.001)\n",
        "        \n",
        "        self.autoencoder_model = self.build_model()\n",
        "        self.autoencoder_model.compile(loss='binary_crossentropy', optimizer=optimizer)\n",
        "        self.autoencoder_model.summary()\n",
        "    \n",
        "    def build_model(self):\n",
        "        input_layer = Input(shape=self.img_shape)\n",
        "        \n",
        "        # encoder\n",
        "        h = Conv2D(64, (3, 3), activation='relu', padding='same')(input_layer)\n",
        "        h = MaxPooling2D((2, 2), padding='same')(h)\n",
        "        \n",
        "        # decoder\n",
        "        h = Conv2D(64, (3, 3), activation='relu', padding='same')(h)\n",
        "        h = UpSampling2D((2, 2))(h)\n",
        "        output_layer = Conv2D(1, (3, 3), activation='sigmoid', padding='same')(h)\n",
        "        \n",
        "        return Model(input_layer, output_layer)\n",
        "    \n",
        "    def train_model(self, x_train, y_train, x_val, y_val, epochs, batch_size=20):\n",
        "        early_stopping = EarlyStopping(monitor='val_loss',\n",
        "                                       min_delta=0,\n",
        "                                       patience=5,\n",
        "                                       verbose=1, \n",
        "                                       mode='auto')\n",
        "        history = self.autoencoder_model.fit(x_train, y_train,\n",
        "                                             batch_size=batch_size,\n",
        "                                             epochs=epochs,\n",
        "                                             validation_data=(x_val, y_val),\n",
        "                                             callbacks=[early_stopping])\n",
        "        plt.plot(history.history['loss'])\n",
        "        plt.plot(history.history['val_loss'])\n",
        "        plt.title('Model loss')\n",
        "        plt.ylabel('Loss')\n",
        "        plt.xlabel('Epoch')\n",
        "        plt.legend(['Train', 'Test'], loc='upper left')\n",
        "        plt.show()\n",
        "    \n",
        "    def eval_model(self, x_test):\n",
        "        preds = self.autoencoder_model.predict(x_test)\n",
        "        return preds"
      ],
      "execution_count": 0,
      "outputs": []
    },
    {
      "cell_type": "code",
      "metadata": {
        "id": "AS9oXJ9e5KrT",
        "colab_type": "code",
        "colab": {
          "base_uri": "https://localhost:8080/",
          "height": 1000
        },
        "outputId": "99f76628-580d-4b6c-d16b-48f5f6819ebb"
      },
      "source": [
        "ae = Autoencoder()\n",
        "ae.train_model(x_train, y_train, x_test, y_test, epochs=200, batch_size=5)"
      ],
      "execution_count": 233,
      "outputs": [
        {
          "output_type": "stream",
          "text": [
            "_________________________________________________________________\n",
            "Layer (type)                 Output Shape              Param #   \n",
            "=================================================================\n",
            "input_54 (InputLayer)        (None, 256, 256, 1)       0         \n",
            "_________________________________________________________________\n",
            "conv2d_241 (Conv2D)          (None, 256, 256, 64)      640       \n",
            "_________________________________________________________________\n",
            "max_pooling2d_86 (MaxPooling (None, 128, 128, 64)      0         \n",
            "_________________________________________________________________\n",
            "conv2d_242 (Conv2D)          (None, 128, 128, 64)      36928     \n",
            "_________________________________________________________________\n",
            "up_sampling2d_94 (UpSampling (None, 256, 256, 64)      0         \n",
            "_________________________________________________________________\n",
            "conv2d_243 (Conv2D)          (None, 256, 256, 1)       577       \n",
            "=================================================================\n",
            "Total params: 38,145\n",
            "Trainable params: 38,145\n",
            "Non-trainable params: 0\n",
            "_________________________________________________________________\n",
            "Train on 313 samples, validate on 135 samples\n",
            "Epoch 1/200\n",
            "313/313 [==============================] - 6s 20ms/step - loss: -15.4713 - val_loss: -15.8429\n",
            "Epoch 2/200\n",
            "313/313 [==============================] - 2s 5ms/step - loss: -16.1166 - val_loss: -15.8960\n",
            "Epoch 3/200\n",
            "313/313 [==============================] - 2s 5ms/step - loss: -16.1777 - val_loss: -15.9826\n",
            "Epoch 4/200\n",
            "313/313 [==============================] - 2s 5ms/step - loss: -16.4499 - val_loss: -16.4494\n",
            "Epoch 5/200\n",
            "313/313 [==============================] - 2s 5ms/step - loss: -16.7287 - val_loss: -16.4919\n",
            "Epoch 6/200\n",
            "313/313 [==============================] - 2s 5ms/step - loss: -16.7400 - val_loss: -16.4943\n",
            "Epoch 7/200\n",
            "313/313 [==============================] - 2s 5ms/step - loss: -16.7412 - val_loss: -16.4949\n",
            "Epoch 8/200\n",
            "313/313 [==============================] - 2s 5ms/step - loss: -16.7416 - val_loss: -16.4952\n",
            "Epoch 9/200\n",
            "313/313 [==============================] - 2s 5ms/step - loss: -16.7418 - val_loss: -16.4955\n",
            "Epoch 10/200\n",
            "313/313 [==============================] - 2s 6ms/step - loss: -16.7419 - val_loss: -16.4957\n",
            "Epoch 11/200\n",
            "313/313 [==============================] - 2s 6ms/step - loss: -16.7421 - val_loss: -16.4959\n",
            "Epoch 12/200\n",
            "313/313 [==============================] - 2s 6ms/step - loss: -16.7423 - val_loss: -16.4961\n",
            "Epoch 13/200\n",
            "313/313 [==============================] - 2s 6ms/step - loss: -16.7425 - val_loss: -16.4962\n",
            "Epoch 14/200\n",
            "313/313 [==============================] - 2s 6ms/step - loss: -16.7426 - val_loss: -16.4964\n",
            "Epoch 15/200\n",
            "313/313 [==============================] - 2s 5ms/step - loss: -16.7427 - val_loss: -16.4966\n",
            "Epoch 16/200\n",
            "313/313 [==============================] - 2s 5ms/step - loss: -16.7429 - val_loss: -16.4968\n",
            "Epoch 17/200\n",
            "313/313 [==============================] - 2s 6ms/step - loss: -16.7430 - val_loss: -16.4969\n",
            "Epoch 18/200\n",
            "313/313 [==============================] - 2s 5ms/step - loss: -16.7432 - val_loss: -16.4972\n",
            "Epoch 19/200\n",
            "313/313 [==============================] - 2s 5ms/step - loss: -16.7434 - val_loss: -16.4973\n",
            "Epoch 20/200\n",
            "313/313 [==============================] - 2s 5ms/step - loss: -16.7436 - val_loss: -16.4977\n",
            "Epoch 21/200\n",
            "313/313 [==============================] - 2s 5ms/step - loss: -16.7437 - val_loss: -16.4978\n",
            "Epoch 22/200\n",
            "313/313 [==============================] - 2s 5ms/step - loss: -16.7439 - val_loss: -16.4978\n",
            "Epoch 23/200\n",
            "313/313 [==============================] - 2s 6ms/step - loss: -16.7440 - val_loss: -16.4979\n",
            "Epoch 24/200\n",
            "313/313 [==============================] - 2s 5ms/step - loss: -16.7442 - val_loss: -16.4980\n",
            "Epoch 25/200\n",
            "313/313 [==============================] - 2s 5ms/step - loss: -16.7443 - val_loss: -16.4981\n",
            "Epoch 26/200\n",
            "313/313 [==============================] - 2s 5ms/step - loss: -16.7444 - val_loss: -16.4981\n",
            "Epoch 27/200\n",
            "313/313 [==============================] - 2s 5ms/step - loss: -16.7445 - val_loss: -16.4984\n",
            "Epoch 28/200\n",
            "313/313 [==============================] - 2s 5ms/step - loss: -16.7446 - val_loss: -16.4985\n",
            "Epoch 29/200\n",
            "313/313 [==============================] - 2s 6ms/step - loss: -16.7446 - val_loss: -16.4984\n",
            "Epoch 30/200\n",
            "313/313 [==============================] - 2s 5ms/step - loss: -16.7447 - val_loss: -16.4984\n",
            "Epoch 31/200\n",
            "313/313 [==============================] - 2s 5ms/step - loss: -16.7448 - val_loss: -16.4985\n",
            "Epoch 32/200\n",
            "313/313 [==============================] - 2s 5ms/step - loss: -16.7449 - val_loss: -16.4986\n",
            "Epoch 33/200\n",
            "313/313 [==============================] - 2s 5ms/step - loss: -16.7450 - val_loss: -16.4984\n",
            "Epoch 34/200\n",
            "313/313 [==============================] - 2s 5ms/step - loss: -16.7450 - val_loss: -16.4984\n",
            "Epoch 35/200\n",
            "313/313 [==============================] - 2s 5ms/step - loss: -16.7451 - val_loss: -16.4986\n",
            "Epoch 36/200\n",
            "313/313 [==============================] - 2s 5ms/step - loss: -16.7451 - val_loss: -16.4987\n",
            "Epoch 37/200\n",
            "313/313 [==============================] - 2s 5ms/step - loss: -16.7451 - val_loss: -16.4985\n",
            "Epoch 38/200\n",
            "313/313 [==============================] - 2s 5ms/step - loss: -16.7453 - val_loss: -16.4988\n",
            "Epoch 39/200\n",
            "313/313 [==============================] - 2s 5ms/step - loss: -16.7453 - val_loss: -16.4988\n",
            "Epoch 40/200\n",
            "313/313 [==============================] - 2s 5ms/step - loss: -16.7454 - val_loss: -16.4989\n",
            "Epoch 41/200\n",
            "313/313 [==============================] - 2s 5ms/step - loss: -16.7455 - val_loss: -16.4987\n",
            "Epoch 42/200\n",
            "313/313 [==============================] - 2s 5ms/step - loss: -16.7455 - val_loss: -16.4988\n",
            "Epoch 43/200\n",
            "313/313 [==============================] - 2s 5ms/step - loss: -16.7456 - val_loss: -16.4989\n",
            "Epoch 44/200\n",
            "313/313 [==============================] - 2s 5ms/step - loss: -16.7456 - val_loss: -16.4991\n",
            "Epoch 45/200\n",
            "313/313 [==============================] - 2s 5ms/step - loss: -16.7457 - val_loss: -16.4991\n",
            "Epoch 46/200\n",
            "313/313 [==============================] - 2s 5ms/step - loss: -16.7458 - val_loss: -16.4992\n",
            "Epoch 47/200\n",
            "313/313 [==============================] - 2s 6ms/step - loss: -16.7459 - val_loss: -16.4993\n",
            "Epoch 48/200\n",
            "313/313 [==============================] - 2s 5ms/step - loss: -16.7460 - val_loss: -16.4993\n",
            "Epoch 49/200\n",
            "313/313 [==============================] - 2s 5ms/step - loss: -16.7462 - val_loss: -16.4991\n",
            "Epoch 50/200\n",
            "313/313 [==============================] - 2s 5ms/step - loss: -16.7461 - val_loss: -16.4993\n",
            "Epoch 51/200\n",
            "313/313 [==============================] - 2s 5ms/step - loss: -16.7462 - val_loss: -16.4994\n",
            "Epoch 52/200\n",
            "313/313 [==============================] - 2s 5ms/step - loss: -16.7464 - val_loss: -16.4991\n",
            "Epoch 53/200\n",
            "313/313 [==============================] - 2s 5ms/step - loss: -16.7464 - val_loss: -16.4993\n",
            "Epoch 54/200\n",
            "313/313 [==============================] - 2s 5ms/step - loss: -16.7465 - val_loss: -16.4992\n",
            "Epoch 55/200\n",
            "313/313 [==============================] - 2s 5ms/step - loss: -16.7465 - val_loss: -16.4990\n",
            "Epoch 56/200\n",
            "313/313 [==============================] - 2s 5ms/step - loss: -16.7466 - val_loss: -16.4993\n",
            "Epoch 00056: early stopping\n"
          ],
          "name": "stdout"
        },
        {
          "output_type": "display_data",
          "data": {
            "image/png": "[encoded data removed]",
            "text/plain": [
              "<Figure size 432x288 with 1 Axes>"
            ]
          },
          "metadata": {
            "tags": []
          }
        }
      ]
    },
    {
      "cell_type": "code",
      "metadata": {
        "id": "zmWCbMsV5KzS",
        "colab_type": "code",
        "colab": {}
      },
      "source": [
        "encoded_imgs = ae.eval_model(x_test)\n",
        "decoded_imgs = ae.eval_model(encoded_imgs)"
      ],
      "execution_count": 0,
      "outputs": []
    },
    {
      "cell_type": "code",
      "metadata": {
        "id": "9bklnbNT5K3F",
        "colab_type": "code",
        "colab": {
          "base_uri": "https://localhost:8080/",
          "height": 244
        },
        "outputId": "01dfa5b6-73dc-442f-fff3-2dbd3d122124"
      },
      "source": [
        "plot_results(x_test, decoded_imgs)"
      ],
      "execution_count": 235,
      "outputs": [
        {
          "output_type": "display_data",
          "data": {
            "image/png": "[encoded data removed]",
            "text/plain": [
              "<Figure size 1440x288 with 20 Axes>"
            ]
          },
          "metadata": {
            "tags": []
          }
        }
      ]
    },
    {
      "cell_type": "code",
      "metadata": {
        "id": "TIquddmGF30V",
        "colab_type": "code",
        "colab": {
          "base_uri": "https://localhost:8080/",
          "height": 34
        },
        "outputId": "84e444fd-2dd3-4c6d-f8bd-e89638ea4aff"
      },
      "source": [
        "x_train.shape[1:]"
      ],
      "execution_count": 236,
      "outputs": [
        {
          "output_type": "execute_result",
          "data": {
            "text/plain": [
              "(256, 256, 1)"
            ]
          },
          "metadata": {
            "tags": []
          },
          "execution_count": 236
        }
      ]
    },
    {
      "cell_type": "code",
      "metadata": {
        "id": "UzW7HG5e5K6U",
        "colab_type": "code",
        "colab": {}
      },
      "source": [
        "class DeepAutoencoder():\n",
        "    def __init__(self):\n",
        "        self.img_rows = imdim\n",
        "        self.img_cols = imdim\n",
        "        self.channels = 1\n",
        "        self.img_shape = (self.img_rows, self.img_cols, self.channels)\n",
        "        \n",
        "        optimizer = Adam(lr=0.0001)\n",
        "        \n",
        "        self.autoencoder_model = self.build_model()\n",
        "        self.autoencoder_model.compile(loss='binary_crossentropy', optimizer=optimizer)\n",
        "        self.autoencoder_model.summary()\n",
        "    \n",
        "    def build_model(self):\n",
        "        input_img = Input(shape=(imdim,imdim,1))\n",
        "        \n",
        "        # encoder\n",
        "        x = Conv2D(128,(3,3), activation='relu', padding='same')(input_img)\n",
        "        x = MaxPooling2D((2,2), padding='same')(x)\n",
        "        x = Conv2D(64,(3,3), activation='relu', padding='same')(x)\n",
        "        x = MaxPooling2D((2,2), padding='same')(x)\n",
        "        x = Conv2D(32,(3,3), activation='relu', padding='same')(x)\n",
        "        x = MaxPooling2D((2,2), padding='same')(x)\n",
        "        x = Conv2D(16,(3,3), activation='relu', padding='same')(x)\n",
        "        x = MaxPooling2D((2,2), padding='same')(x)\n",
        "        x = Conv2D(8,(3,3), activation='relu', padding='same')(x)\n",
        "        x = MaxPooling2D((2,2), padding='same')(x)\n",
        "        x = Conv2D(8,(3,3), activation='relu', padding='same')(x)\n",
        "        encoded = MaxPooling2D((2,2), padding='same', name='encoder')(x)\n",
        "\n",
        "        # decoder\n",
        "        x = Conv2D(8, (3, 3), activation='relu', padding='same')(encoded)\n",
        "        x = UpSampling2D((2, 2))(x)\n",
        "        x = Conv2D(8, (3, 3), activation='relu', padding='same')(x)\n",
        "        x = UpSampling2D((2, 2))(x)\n",
        "        x = Conv2D(16, (3, 3), activation='relu', padding='same')(x)\n",
        "        x = UpSampling2D((2, 2))(x)\n",
        "        x = Conv2D(32, (3, 3), activation='relu', padding='same')(x)\n",
        "        x = UpSampling2D((2, 2))(x)\n",
        "        x = Conv2D(64, (3, 3), activation='relu', padding='same')(x)\n",
        "        x = UpSampling2D((2, 2))(x)\n",
        "        x = Conv2D(128, (3, 3), activation='relu', padding='same')(x)\n",
        "        x = UpSampling2D((2, 2))(x)\n",
        "        decoded = Conv2D(1, (3, 3), activation='sigmoid', padding='same')(x)\n",
        "\n",
        "        autoencoder = Model(input_img, decoded)\n",
        "        \n",
        "        return autoencoder\n",
        "    \n",
        "    def train_model(self, x_train, y_train, x_val, y_val, epochs, batch_size=20):\n",
        "        early_stopping = EarlyStopping(monitor='val_loss',\n",
        "                                       min_delta=0,\n",
        "                                       patience=5,\n",
        "                                       verbose=1, \n",
        "                                       mode='auto')\n",
        "        history = self.autoencoder_model.fit(x_train, y_train,\n",
        "                                             batch_size=batch_size,\n",
        "                                             epochs=epochs,\n",
        "                                             validation_data=(x_val, y_val),\n",
        "                                             callbacks=[early_stopping])\n",
        "        plt.plot(history.history['loss'])\n",
        "        plt.plot(history.history['val_loss'])\n",
        "        plt.title('Model loss')\n",
        "        plt.ylabel('Loss')\n",
        "        plt.xlabel('Epoch')\n",
        "        plt.legend(['Train', 'Test'], loc='upper left')\n",
        "        plt.show()\n",
        "    \n",
        "    def eval_model(self, x_test):\n",
        "        preds = self.autoencoder_model.predict(x_test)\n",
        "        return preds"
      ],
      "execution_count": 0,
      "outputs": []
    },
    {
      "cell_type": "code",
      "metadata": {
        "id": "P2bOJGNlC0nN",
        "colab_type": "code",
        "colab": {
          "base_uri": "https://localhost:8080/",
          "height": 1000
        },
        "outputId": "6d64d497-6984-45ad-f8bf-46dfeb56eb35"
      },
      "source": [
        "dae = DeepAutoencoder()\n",
        "dae.train_model(x_train, y_train, x_test, y_test, epochs=200, batch_size=5)"
      ],
      "execution_count": 264,
      "outputs": [
        {
          "output_type": "stream",
          "text": [
            "_________________________________________________________________\n",
            "Layer (type)                 Output Shape              Param #   \n",
            "=================================================================\n",
            "input_62 (InputLayer)        (None, 256, 256, 1)       0         \n",
            "_________________________________________________________________\n",
            "conv2d_301 (Conv2D)          (None, 256, 256, 128)     1280      \n",
            "_________________________________________________________________\n",
            "max_pooling2d_105 (MaxPoolin (None, 128, 128, 128)     0         \n",
            "_________________________________________________________________\n",
            "conv2d_302 (Conv2D)          (None, 128, 128, 64)      73792     \n",
            "_________________________________________________________________\n",
            "max_pooling2d_106 (MaxPoolin (None, 64, 64, 64)        0         \n",
            "_________________________________________________________________\n",
            "conv2d_303 (Conv2D)          (None, 64, 64, 32)        18464     \n",
            "_________________________________________________________________\n",
            "max_pooling2d_107 (MaxPoolin (None, 32, 32, 32)        0         \n",
            "_________________________________________________________________\n",
            "conv2d_304 (Conv2D)          (None, 32, 32, 16)        4624      \n",
            "_________________________________________________________________\n",
            "max_pooling2d_108 (MaxPoolin (None, 16, 16, 16)        0         \n",
            "_________________________________________________________________\n",
            "conv2d_305 (Conv2D)          (None, 16, 16, 8)         1160      \n",
            "_________________________________________________________________\n",
            "max_pooling2d_109 (MaxPoolin (None, 8, 8, 8)           0         \n",
            "_________________________________________________________________\n",
            "conv2d_306 (Conv2D)          (None, 8, 8, 8)           584       \n",
            "_________________________________________________________________\n",
            "encoder (MaxPooling2D)       (None, 4, 4, 8)           0         \n",
            "_________________________________________________________________\n",
            "conv2d_307 (Conv2D)          (None, 4, 4, 8)           584       \n",
            "_________________________________________________________________\n",
            "up_sampling2d_120 (UpSamplin (None, 8, 8, 8)           0         \n",
            "_________________________________________________________________\n",
            "conv2d_308 (Conv2D)          (None, 8, 8, 8)           584       \n",
            "_________________________________________________________________\n",
            "up_sampling2d_121 (UpSamplin (None, 16, 16, 8)         0         \n",
            "_________________________________________________________________\n",
            "conv2d_309 (Conv2D)          (None, 16, 16, 16)        1168      \n",
            "_________________________________________________________________\n",
            "up_sampling2d_122 (UpSamplin (None, 32, 32, 16)        0         \n",
            "_________________________________________________________________\n",
            "conv2d_310 (Conv2D)          (None, 32, 32, 32)        4640      \n",
            "_________________________________________________________________\n",
            "up_sampling2d_123 (UpSamplin (None, 64, 64, 32)        0         \n",
            "_________________________________________________________________\n",
            "conv2d_311 (Conv2D)          (None, 64, 64, 64)        18496     \n",
            "_________________________________________________________________\n",
            "up_sampling2d_124 (UpSamplin (None, 128, 128, 64)      0         \n",
            "_________________________________________________________________\n",
            "conv2d_312 (Conv2D)          (None, 128, 128, 128)     73856     \n",
            "_________________________________________________________________\n",
            "up_sampling2d_125 (UpSamplin (None, 256, 256, 128)     0         \n",
            "_________________________________________________________________\n",
            "conv2d_313 (Conv2D)          (None, 256, 256, 1)       1153      \n",
            "=================================================================\n",
            "Total params: 200,385\n",
            "Trainable params: 200,385\n",
            "Non-trainable params: 0\n",
            "_________________________________________________________________\n",
            "Train on 313 samples, validate on 135 samples\n",
            "Epoch 1/200\n",
            "313/313 [==============================] - 11s 35ms/step - loss: -7.3184 - val_loss: -11.4095\n",
            "Epoch 2/200\n",
            "313/313 [==============================] - 4s 13ms/step - loss: -13.0818 - val_loss: -13.2098\n",
            "Epoch 3/200\n",
            "313/313 [==============================] - 4s 13ms/step - loss: -14.0897 - val_loss: -13.8358\n",
            "Epoch 4/200\n",
            "313/313 [==============================] - 4s 13ms/step - loss: -14.5737 - val_loss: -14.2169\n",
            "Epoch 5/200\n",
            "313/313 [==============================] - 4s 13ms/step - loss: -14.8198 - val_loss: -14.3891\n",
            "Epoch 6/200\n",
            "313/313 [==============================] - 4s 13ms/step - loss: -15.0572 - val_loss: -14.6791\n",
            "Epoch 7/200\n",
            "313/313 [==============================] - 4s 13ms/step - loss: -15.1843 - val_loss: -14.7453\n",
            "Epoch 8/200\n",
            "313/313 [==============================] - 4s 13ms/step - loss: -15.3522 - val_loss: -14.8475\n",
            "Epoch 9/200\n",
            "313/313 [==============================] - 4s 13ms/step - loss: -15.5119 - val_loss: -15.0070\n",
            "Epoch 10/200\n",
            "313/313 [==============================] - 4s 13ms/step - loss: -15.6217 - val_loss: -15.1103\n",
            "Epoch 11/200\n",
            "313/313 [==============================] - 4s 13ms/step - loss: -15.6354 - val_loss: -15.0189\n",
            "Epoch 12/200\n",
            "313/313 [==============================] - 4s 13ms/step - loss: -15.7102 - val_loss: -14.8684\n",
            "Epoch 13/200\n",
            "313/313 [==============================] - 4s 13ms/step - loss: -15.6928 - val_loss: -15.1061\n",
            "Epoch 14/200\n",
            "313/313 [==============================] - 4s 13ms/step - loss: -15.7275 - val_loss: -15.2694\n",
            "Epoch 15/200\n",
            "313/313 [==============================] - 4s 13ms/step - loss: -15.9016 - val_loss: -15.3578\n",
            "Epoch 16/200\n",
            "313/313 [==============================] - 4s 13ms/step - loss: -15.9412 - val_loss: -15.3282\n",
            "Epoch 17/200\n",
            "313/313 [==============================] - 4s 13ms/step - loss: -15.9748 - val_loss: -15.3570\n",
            "Epoch 18/200\n",
            "313/313 [==============================] - 4s 13ms/step - loss: -16.0308 - val_loss: -15.4357\n",
            "Epoch 19/200\n",
            "313/313 [==============================] - 4s 13ms/step - loss: -16.0771 - val_loss: -15.2542\n",
            "Epoch 20/200\n",
            "313/313 [==============================] - 4s 13ms/step - loss: -16.0314 - val_loss: -15.2302\n",
            "Epoch 21/200\n",
            "313/313 [==============================] - 4s 13ms/step - loss: -15.9314 - val_loss: -15.4287\n",
            "Epoch 22/200\n",
            "313/313 [==============================] - 4s 13ms/step - loss: -16.1047 - val_loss: -15.2639\n",
            "Epoch 23/200\n",
            "313/313 [==============================] - 4s 13ms/step - loss: -16.1200 - val_loss: -15.4964\n",
            "Epoch 24/200\n",
            "313/313 [==============================] - 4s 13ms/step - loss: -16.1506 - val_loss: -15.5461\n",
            "Epoch 25/200\n",
            "313/313 [==============================] - 4s 13ms/step - loss: -16.2077 - val_loss: -15.3401\n",
            "Epoch 26/200\n",
            "313/313 [==============================] - 4s 13ms/step - loss: -16.2251 - val_loss: -15.3951\n",
            "Epoch 27/200\n",
            "313/313 [==============================] - 4s 13ms/step - loss: -16.2217 - val_loss: -15.3469\n",
            "Epoch 28/200\n",
            "313/313 [==============================] - 4s 13ms/step - loss: -16.2076 - val_loss: -15.5301\n",
            "Epoch 29/200\n",
            "313/313 [==============================] - 4s 13ms/step - loss: -16.2693 - val_loss: -15.5786\n",
            "Epoch 30/200\n",
            "313/313 [==============================] - 4s 13ms/step - loss: -16.2408 - val_loss: -15.4929\n",
            "Epoch 31/200\n",
            "313/313 [==============================] - 4s 13ms/step - loss: -16.2985 - val_loss: -15.3900\n",
            "Epoch 32/200\n",
            "313/313 [==============================] - 4s 13ms/step - loss: -16.2521 - val_loss: -15.5196\n",
            "Epoch 33/200\n",
            "313/313 [==============================] - 4s 13ms/step - loss: -16.2729 - val_loss: -15.5500\n",
            "Epoch 34/200\n",
            "313/313 [==============================] - 4s 13ms/step - loss: -16.3199 - val_loss: -15.5880\n",
            "Epoch 35/200\n",
            "313/313 [==============================] - 4s 13ms/step - loss: -16.2626 - val_loss: -15.2906\n",
            "Epoch 36/200\n",
            "313/313 [==============================] - 4s 13ms/step - loss: -16.3570 - val_loss: -15.6500\n",
            "Epoch 37/200\n",
            "313/313 [==============================] - 4s 13ms/step - loss: -16.3905 - val_loss: -15.4081\n",
            "Epoch 38/200\n",
            "313/313 [==============================] - 4s 13ms/step - loss: -16.2770 - val_loss: -15.5362\n",
            "Epoch 39/200\n",
            "313/313 [==============================] - 4s 13ms/step - loss: -16.3050 - val_loss: -15.2999\n",
            "Epoch 40/200\n",
            "313/313 [==============================] - 4s 13ms/step - loss: -16.3472 - val_loss: -15.4938\n",
            "Epoch 41/200\n",
            "313/313 [==============================] - 4s 13ms/step - loss: -16.3793 - val_loss: -15.5810\n",
            "Epoch 00041: early stopping\n"
          ],
          "name": "stdout"
        },
        {
          "output_type": "display_data",
          "data": {
            "image/png": "[encoded data removed]",
            "text/plain": [
              "<Figure size 432x288 with 1 Axes>"
            ]
          },
          "metadata": {
            "tags": []
          }
        }
      ]
    },
    {
      "cell_type": "code",
      "metadata": {
        "id": "xYLf1gtDC3Ea",
        "colab_type": "code",
        "colab": {}
      },
      "source": [
        "encoded_imgs = dae.eval_model(x_test)\n",
        "decoded_imgs = dae.eval_model(encoded_imgs)"
      ],
      "execution_count": 0,
      "outputs": []
    },
    {
      "cell_type": "code",
      "metadata": {
        "id": "mjMVYAaLDDUD",
        "colab_type": "code",
        "colab": {
          "base_uri": "https://localhost:8080/",
          "height": 244
        },
        "outputId": "1184a65b-a3be-4537-8229-816a92575340"
      },
      "source": [
        "plot_results(x_test, decoded_imgs)"
      ],
      "execution_count": 266,
      "outputs": [
        {
          "output_type": "display_data",
          "data": {
            "image/png": "[encoded data removed]",
            "text/plain": [
              "<Figure size 1440x288 with 20 Axes>"
            ]
          },
          "metadata": {
            "tags": []
          }
        }
      ]
    },
    {
      "cell_type": "code",
      "metadata": {
        "id": "lb9DfTdFDIq1",
        "colab_type": "code",
        "colab": {}
      },
      "source": [
        ""
      ],
      "execution_count": 0,
      "outputs": []
    }
  ]
}