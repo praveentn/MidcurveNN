{
  "nbformat": 4,
  "nbformat_minor": 0,
  "metadata": {
    "colab": {
      "name": "sgd_callback_1.ipynb",
      "version": "0.3.2",
      "provenance": [],
      "collapsed_sections": [],
      "include_colab_link": true
    },
    "kernelspec": {
      "name": "python3",
      "display_name": "Python 3"
    },
    "accelerator": "GPU"
  },
  "cells": [
    {
      "cell_type": "markdown",
      "metadata": {
        "id": "view-in-github",
        "colab_type": "text"
      },
      "source": [
        "<a href=\"https://colab.research.google.com/github/praveentn/MidcurveNN/blob/master/sgd_callback_1.ipynb\" target=\"_parent\"><img src=\"https://colab.research.google.com/assets/colab-badge.svg\" alt=\"Open In Colab\"/></a>"
      ]
    },
    {
      "cell_type": "markdown",
      "metadata": {
        "id": "yROWoJp_1Van",
        "colab_type": "text"
      },
      "source": [
        "# SGD Callback\n",
        "\n",
        "Source: https://www.kaggle.com/ahsongchen/stochastic-gradient-descent-with-restarts-test\n"
      ]
    },
    {
      "cell_type": "code",
      "metadata": {
        "id": "C2sQIPYy1U_n",
        "colab_type": "code",
        "colab": {
          "base_uri": "https://localhost:8080/",
          "height": 68
        },
        "outputId": "d435a1ff-e5b0-4163-ae62-9acfd1541673"
      },
      "source": [
        "# mount google drive & set working directory\n",
        "# requires auth (click on url & copy token into text box when prompted)\n",
        "from google.colab import drive\n",
        "drive.mount(\"/content/gdrive\")\n",
        "\n",
        "import os\n",
        "print(os.getcwd())\n",
        "\n",
        "os.chdir('/content/gdrive/My Drive/Colab Notebooks/MidcurveNN')\n",
        "!pwd"
      ],
      "execution_count": 1,
      "outputs": [
        {
          "output_type": "stream",
          "text": [
            "Drive already mounted at /content/gdrive; to attempt to forcibly remount, call drive.mount(\"/content/gdrive\", force_remount=True).\n",
            "/content\n",
            "/content/gdrive/My Drive/Colab Notebooks/MidcurveNN\n"
          ],
          "name": "stdout"
        }
      ]
    },
    {
      "cell_type": "code",
      "metadata": {
        "id": "ogz8mrOU1emk",
        "colab_type": "code",
        "colab": {
          "base_uri": "https://localhost:8080/",
          "height": 34
        },
        "outputId": "105a187d-8c80-44ed-f173-a94d4f53dc23"
      },
      "source": [
        "import numpy as np # linear algebra\n",
        "import pandas as pd # data processing, CSV file I/O (e.g. pd.read_csv)\n",
        "\n",
        "from __future__ import absolute_import, division, print_function, unicode_literals\n",
        "\n",
        "# !pip install tensorflow-gpu==2.0.0-alpha0\n",
        "import tensorflow as tf\n",
        "\n",
        "import time\n",
        "from IPython.display import clear_output\n",
        "\n",
        "from keras.layers import Input, Dense\n",
        "from keras.models import Model\n",
        "from keras import regularizers, optimizers\n",
        "from keras.optimizers import Adam, SGD\n",
        "from keras.callbacks import EarlyStopping\n",
        "from keras.optimizers import Adam,RMSprop,SGD\n",
        "from keras.models import Model, Sequential\n",
        "from keras.layers import Input, Dense, Conv2D, MaxPooling2D, UpSampling2D, Flatten, Reshape\n",
        "from keras import regularizers\n",
        "from keras.layers.normalization import BatchNormalization\n",
        "from keras.layers import Conv2D, MaxPooling2D, Dense, Dropout, Input, Flatten,AveragePooling2D,UpSampling2D\n",
        "from keras.preprocessing.image import img_to_array, load_img\n",
        "from sklearn.model_selection import train_test_split\n",
        "from random import shuffle\n",
        "import PIL\n",
        "import json\n",
        "import sys\n",
        "np.set_printoptions(threshold=sys.maxsize)\n",
        "import matplotlib.pyplot as plt\n",
        "import matplotlib\n",
        "# matplotlib.use('TKAgg')\n",
        "%matplotlib inline"
      ],
      "execution_count": 2,
      "outputs": [
        {
          "output_type": "stream",
          "text": [
            "Using TensorFlow backend.\n"
          ],
          "name": "stderr"
        }
      ]
    },
    {
      "cell_type": "code",
      "metadata": {
        "id": "ryKeEtil1n3e",
        "colab_type": "code",
        "colab": {
          "base_uri": "https://localhost:8080/",
          "height": 34
        },
        "outputId": "9f69ef8d-1b4f-4848-d5c3-a8f3cf23c03d"
      },
      "source": [
        "# working directory\n",
        "wdir = os.getcwd()\n",
        "wdir"
      ],
      "execution_count": 3,
      "outputs": [
        {
          "output_type": "execute_result",
          "data": {
            "text/plain": [
              "'/content/gdrive/My Drive/Colab Notebooks/MidcurveNN'"
            ]
          },
          "metadata": {
            "tags": []
          },
          "execution_count": 3
        }
      ]
    },
    {
      "cell_type": "code",
      "metadata": {
        "id": "SWCzKojU168f",
        "colab_type": "code",
        "colab": {
          "base_uri": "https://localhost:8080/",
          "height": 34
        },
        "outputId": "0c041d9c-d62b-4a75-e5b4-b26b5ca5354e"
      },
      "source": [
        "# _URL = 'https://drive.google.com/uc?export=download&id=16rqDFLO__WySSQGlAht0FEj2uJZg4M9M'\n",
        "\n",
        "# path_to_zip = tf.keras.utils.get_file('input.zip',\n",
        "#                                       origin=_URL,\n",
        "#                                       extract=True)\n",
        "\n",
        "# input_data_folder = os.path.join(os.path.dirname(path_to_zip), 'input')\n",
        "input_data_folder = wdir + \"/data/input\"\n",
        "input_data_folder = wdir + \"/data/uvwinput\"\n",
        "print(\"input data dir: \", input_data_folder)"
      ],
      "execution_count": 4,
      "outputs": [
        {
          "output_type": "stream",
          "text": [
            "input data dir:  /content/gdrive/My Drive/Colab Notebooks/MidcurveNN/data/uvwinput\n"
          ],
          "name": "stdout"
        }
      ]
    },
    {
      "cell_type": "code",
      "metadata": {
        "id": "cQ5E8lWo19WM",
        "colab_type": "code",
        "colab": {
          "base_uri": "https://localhost:8080/",
          "height": 51
        },
        "outputId": "3b049b5a-583a-43c8-fed2-360276716cb0"
      },
      "source": [
        "import glob\n",
        "\n",
        "image_paths = glob.glob(input_data_folder + '/**/*.png', recursive=True)\n",
        "images = [os.path.basename(img_path) for img_path in image_paths]\n",
        "\n",
        "print(len(images))\n",
        "\n",
        "#images = os.listdir(input_data_folder)\n",
        "images[99]"
      ],
      "execution_count": 5,
      "outputs": [
        {
          "output_type": "stream",
          "text": [
            "1568\n"
          ],
          "name": "stdout"
        },
        {
          "output_type": "execute_result",
          "data": {
            "text/plain": [
              "'Luvw_Profile_translated_20_-10.png'"
            ]
          },
          "metadata": {
            "tags": []
          },
          "execution_count": 5
        }
      ]
    },
    {
      "cell_type": "code",
      "metadata": {
        "id": "E7fstbHH1_yh",
        "colab_type": "code",
        "colab": {}
      },
      "source": [
        "# image dimension\n",
        "imdim = 101"
      ],
      "execution_count": 0,
      "outputs": []
    },
    {
      "cell_type": "code",
      "metadata": {
        "id": "yF48Rch_2B7o",
        "colab_type": "code",
        "colab": {}
      },
      "source": [
        "def read_input_image_pairs(datafolder=input_data_folder):\n",
        "    profile_pngs = []\n",
        "    midcurve_pngs = []\n",
        "    for file in os.listdir(datafolder):\n",
        "        fullpath = os.path.join(datafolder, file)\n",
        "        if os.path.isdir(fullpath):\n",
        "            continue\n",
        "        if file.endswith(\".png\"):\n",
        "            if file.find(\"Profile\") != -1:\n",
        "                profile_pngs.append(fullpath)\n",
        "            if file.find(\"Midcurve\") != -1:\n",
        "                midcurve_pngs.append(fullpath)\n",
        "    profile_pngs = sorted(profile_pngs)\n",
        "    midcurve_pngs = sorted(midcurve_pngs)\n",
        "    return profile_pngs,midcurve_pngs\n",
        "\n",
        "\n",
        "def get_training_data(datafolder=input_data_folder):\n",
        "    profile_pngs,midcurve_pngs = read_input_image_pairs(datafolder)\n",
        "    \n",
        "    profile_pngs_objs = [img_to_array(load_img(f, color_mode='rgba', target_size=(imdim, imdim))) for f in profile_pngs ]\n",
        "    midcurve_pngs_objs = [img_to_array(load_img(f, color_mode='rgba', target_size=(imdim, imdim))) for f in midcurve_pngs]\n",
        "\n",
        "#     profile_pngs_objs = np.array([x.reshape((1,) + x.shape) for x in profile_pngs_objs])\n",
        "#     midcurve_pngs_objs = np.array([x.reshape((1,) + x.shape) for x in midcurve_pngs_objs])\n",
        "\n",
        "    profile_pngs_gray_objs = [x[:,:,3] for x in profile_pngs_objs]\n",
        "    midcurve_pngs_gray_objs =[x[:,:,3] for x in midcurve_pngs_objs]\n",
        "    \n",
        "#     profile_pngs_gray_objs = [np.where(x>128, 0, 1) for x in profile_pngs_gray_objs]\n",
        "#     midcurve_pngs_gray_objs =[np.where(x>128, 0, 1) for x in midcurve_pngs_gray_objs]\n",
        "        \n",
        "    # shufle them\n",
        "    zipped_profiles_midcurves = [(p,m) for p,m in zip(profile_pngs_gray_objs,midcurve_pngs_gray_objs)]\n",
        "    shuffle(zipped_profiles_midcurves)\n",
        "    profile_pngs_gray_objs, midcurve_pngs_gray_objs = zip(*zipped_profiles_midcurves)\n",
        "    \n",
        "    return profile_pngs_gray_objs, midcurve_pngs_gray_objs\n"
      ],
      "execution_count": 0,
      "outputs": []
    },
    {
      "cell_type": "code",
      "metadata": {
        "id": "BlUeBCA22HWP",
        "colab_type": "code",
        "colab": {
          "base_uri": "https://localhost:8080/",
          "height": 255
        },
        "outputId": "3d394911-bd58-4171-9215-29c60d3222c2"
      },
      "source": [
        "profile_pngs_objs = ()\n",
        "midcurve_pngs_objs = ()\n",
        "shapes = [\"CapI\", \"Iuvw\", \"Luvw\", \"Plus\", \"SqLu\", \"Tuvw\", \"Vuvw\"]\n",
        "\n",
        "for shape in shapes:\n",
        "    print(shape)\n",
        "    tp, tm = get_training_data(os.path.join(input_data_folder, shape))\n",
        "    profile_pngs_objs += tp\n",
        "    midcurve_pngs_objs += tm\n",
        "    print(len(profile_pngs_objs), len(midcurve_pngs_objs))"
      ],
      "execution_count": 8,
      "outputs": [
        {
          "output_type": "stream",
          "text": [
            "CapI\n",
            "112 112\n",
            "Iuvw\n",
            "224 224\n",
            "Luvw\n",
            "336 336\n",
            "Plus\n",
            "448 448\n",
            "SqLu\n",
            "560 560\n",
            "Tuvw\n",
            "672 672\n",
            "Vuvw\n",
            "784 784\n"
          ],
          "name": "stdout"
        }
      ]
    },
    {
      "cell_type": "code",
      "metadata": {
        "id": "qYes63bE2J0P",
        "colab_type": "code",
        "colab": {}
      },
      "source": [
        "def plot_results(original_imgs,computed_imgs,n=10):\n",
        "    # n = 10  # how many digits we will display\n",
        "    plt.figure(figsize=(20, 4))\n",
        "    for i in range(n):\n",
        "        # display original\n",
        "        ax = plt.subplot(2, n, i + 1)\n",
        "        plt.imshow(original_imgs[i].reshape(imdim, imdim),cmap='gray_r')\n",
        "#         plt.gray()\n",
        "        ax.get_xaxis().set_visible(False)\n",
        "        ax.get_yaxis().set_visible(False)\n",
        "    \n",
        "        # display reconstruction\n",
        "        ax = plt.subplot(2, n, i + 1 + n)\n",
        "        plt.imshow(computed_imgs[i].reshape(imdim, imdim),cmap='gray_r')\n",
        "#         plt.gray()\n",
        "        ax.get_xaxis().set_visible(False)\n",
        "        ax.get_yaxis().set_visible(False)\n",
        "    plt.show()"
      ],
      "execution_count": 0,
      "outputs": []
    },
    {
      "cell_type": "code",
      "metadata": {
        "id": "Ok3T-uOZ2Mv9",
        "colab_type": "code",
        "colab": {
          "base_uri": "https://localhost:8080/",
          "height": 244
        },
        "outputId": "7b94a6e6-cb57-4017-992e-1729a6f28533"
      },
      "source": [
        "plot_results(profile_pngs_objs[710:720],midcurve_pngs_objs[710:720])"
      ],
      "execution_count": 10,
      "outputs": [
        {
          "output_type": "display_data",
          "data": {
            "image/png": "[encoded data removed]",
            "text/plain": [
              "<Figure size 1440x288 with 20 Axes>"
            ]
          },
          "metadata": {
            "tags": []
          }
        }
      ]
    },
    {
      "cell_type": "code",
      "metadata": {
        "id": "GqEaSKQj2SZo",
        "colab_type": "code",
        "colab": {}
      },
      "source": [
        "def get_train_test_split(profile_pngs_gray_objs, midcurve_pngs_gray_objs, encoding_dim=imdim, input_dim=imdim):\n",
        "\n",
        "    # Training\n",
        "    profile_pngs_flat_objs = [x.reshape(input_dim,input_dim,1) for x in profile_pngs_gray_objs]\n",
        "    midcurve_pngs_flat_objs = [x.reshape(input_dim,input_dim,1) for x in midcurve_pngs_gray_objs]\n",
        "    \n",
        "    profile_pngs_objs = np.array(profile_pngs_flat_objs)\n",
        "    midcurve_pngs_objs= np.array(midcurve_pngs_flat_objs)\n",
        "    \n",
        "    '''\n",
        "    train_size = int(len(profile_pngs_objs)*0.7)\n",
        "    x_train = profile_pngs_objs[:train_size]\n",
        "    y_train = midcurve_pngs_objs[:train_size]\n",
        "    x_test = profile_pngs_objs[train_size:]\n",
        "    y_test = midcurve_pngs_objs[train_size:]\n",
        "    '''\n",
        "    x_train, x_test, y_train, y_test = train_test_split(profile_pngs_objs, midcurve_pngs_objs, \n",
        "                                                        test_size=0.2, random_state=37)\n",
        "    return x_train, x_test, y_train, y_test"
      ],
      "execution_count": 0,
      "outputs": []
    },
    {
      "cell_type": "code",
      "metadata": {
        "id": "a95r7UWF2VSG",
        "colab_type": "code",
        "colab": {
          "base_uri": "https://localhost:8080/",
          "height": 34
        },
        "outputId": "17657ca3-fe6a-41f9-de8a-33b40e58875b"
      },
      "source": [
        "x_train, x_test, y_train, y_test = get_train_test_split(profile_pngs_objs, midcurve_pngs_objs)\n",
        "\n",
        "print((len(x_train), len(y_train)), (len(x_test), len(y_test)))"
      ],
      "execution_count": 12,
      "outputs": [
        {
          "output_type": "stream",
          "text": [
            "(627, 627) (157, 157)\n"
          ],
          "name": "stdout"
        }
      ]
    },
    {
      "cell_type": "code",
      "metadata": {
        "id": "RSQGxxH-2XYP",
        "colab_type": "code",
        "colab": {}
      },
      "source": [
        "import sys\n",
        "import random\n",
        "import matplotlib.pyplot as plt\n",
        "plt.style.use('seaborn-white')\n",
        "import seaborn as sns\n",
        "sns.set_style(\"white\")\n",
        "import time\n",
        "t_start = time.time()\n",
        "%matplotlib inline\n",
        "\n",
        "# import cv2\n",
        "from sklearn.model_selection import train_test_split\n",
        "\n",
        "from tqdm import tqdm_notebook #, tnrange\n",
        "#from itertools import chain\n",
        "from skimage.io import imread, imshow #, concatenate_images\n",
        "from skimage.transform import resize\n",
        "from skimage.morphology import label\n",
        "from keras.models import Model, load_model, save_model\n",
        "from keras.layers import Input,Dropout,BatchNormalization,Activation,Add, Flatten, Dense\n",
        "from keras.layers.core import Lambda\n",
        "from keras.layers.convolutional import Conv2D, Conv2DTranspose\n",
        "from keras.layers.pooling import MaxPooling2D\n",
        "from keras.layers.merge import concatenate\n",
        "from keras.callbacks import EarlyStopping, ModelCheckpoint, ReduceLROnPlateau\n",
        "from keras.optimizers import Adam, SGD\n",
        "from keras import backend as K\n",
        "from keras import optimizers\n",
        "import tensorflow as tf\n",
        "from keras.preprocessing.image import array_to_img, img_to_array, load_img,save_img"
      ],
      "execution_count": 0,
      "outputs": []
    },
    {
      "cell_type": "code",
      "metadata": {
        "id": "fYZ3U2TN2geO",
        "colab_type": "code",
        "colab": {}
      },
      "source": [
        "img_size_ori = 101\n",
        "img_size_target = 101\n",
        "\n",
        "def upsample(img):\n",
        "    if img_size_ori == img_size_target:\n",
        "        return img\n",
        "    return resize(img, (img_size_target, img_size_target), mode='constant', preserve_range=True)\n",
        "    \n",
        "def downsample(img):\n",
        "    if img_size_ori == img_size_target:\n",
        "        return img\n",
        "    return resize(img, (img_size_ori, img_size_ori), mode='constant', preserve_range=True)"
      ],
      "execution_count": 0,
      "outputs": []
    },
    {
      "cell_type": "code",
      "metadata": {
        "id": "_D645GX52pm7",
        "colab_type": "code",
        "colab": {
          "base_uri": "https://localhost:8080/",
          "height": 102
        },
        "outputId": "dd9eef01-f348-4607-ce3b-58e9cdfc1e6f"
      },
      "source": [
        "x_valid = x_test\n",
        "y_valid = y_test\n",
        "\n",
        "print(x_train.shape,y_train.shape,x_valid.shape,y_valid.shape)\n",
        "print(np.mean(x_train),np.mean(y_train),np.std(x_train),np.std(y_train))\n",
        "print(np.mean(x_valid),np.mean(y_valid),np.std(x_valid),np.std(y_valid))\n",
        "print(np.max(x_train),np.max(y_train),np.max(x_valid),np.max(y_valid))\n",
        "print(np.min(x_train),np.min(y_train),np.min(x_valid),np.min(y_valid))\n"
      ],
      "execution_count": 15,
      "outputs": [
        {
          "output_type": "stream",
          "text": [
            "(627, 101, 101, 1) (627, 101, 101, 1) (157, 101, 101, 1) (157, 101, 101, 1)\n",
            "2.6333876 1.1230435 18.53926 16.077538\n",
            "2.6753047 1.1410803 18.687204 16.267097\n",
            "245.0 255.0 245.0 255.0\n",
            "0.0 0.0 0.0 0.0\n"
          ],
          "name": "stdout"
        }
      ]
    },
    {
      "cell_type": "code",
      "metadata": {
        "id": "oRUC9Xve2zbw",
        "colab_type": "code",
        "colab": {}
      },
      "source": [
        "def BatchActivate(x):\n",
        "    x = BatchNormalization()(x)\n",
        "    x = Activation('relu')(x)\n",
        "    return x\n",
        "\n",
        "def convolution_block(x, filters, size, strides=(1,1), padding='same', activation=True):\n",
        "    x = Conv2D(filters, size, strides=strides, padding=padding)(x)\n",
        "    if activation == True:\n",
        "        x = BatchActivate(x)\n",
        "    return x\n",
        "\n",
        "def residual_block(blockInput, num_filters=16, batch_activate = False):\n",
        "    x = BatchActivate(blockInput)\n",
        "    x = convolution_block(x, num_filters, (3,3) )\n",
        "    x = convolution_block(x, num_filters, (3,3), activation=False)\n",
        "    x = Add()([x, blockInput])\n",
        "    if batch_activate:\n",
        "        x = BatchActivate(x)\n",
        "    return x"
      ],
      "execution_count": 0,
      "outputs": []
    },
    {
      "cell_type": "code",
      "metadata": {
        "id": "BqTjsiKV3BUL",
        "colab_type": "code",
        "colab": {}
      },
      "source": [
        "# Build model\n",
        "def build_model(input_layer, start_neurons, DropoutRatio = 0.05):\n",
        "    # 101 -> 50\n",
        "    conv1 = Conv2D(start_neurons * 1, (3, 3), activation=\"relu\", padding=\"same\")(input_layer)\n",
        "    conv1 = residual_block(conv1,start_neurons * 1)\n",
        "    conv1 = residual_block(conv1,start_neurons * 1, True)\n",
        "    pool1 = MaxPooling2D((2, 2))(conv1)\n",
        "    pool1 = Dropout(DropoutRatio/2)(pool1)\n",
        "\n",
        "    # 50 -> 25\n",
        "    conv2 = Conv2D(start_neurons * 2, (3, 3), activation=\"relu\", padding=\"same\")(pool1)\n",
        "    conv2 = residual_block(conv2,start_neurons * 2)\n",
        "    conv2 = residual_block(conv2,start_neurons * 2, True)\n",
        "    pool2 = MaxPooling2D((2, 2))(conv2)\n",
        "    pool2 = Dropout(DropoutRatio)(pool2)\n",
        "\n",
        "    # 25 -> 12\n",
        "    conv3 = Conv2D(start_neurons * 4, (3, 3), activation=\"relu\", padding=\"same\")(pool2)\n",
        "    conv3 = residual_block(conv3,start_neurons * 4)\n",
        "    conv3 = residual_block(conv3,start_neurons * 4, True)\n",
        "    pool3 = MaxPooling2D((2, 2))(conv3)\n",
        "    pool3 = Dropout(DropoutRatio)(pool3)\n",
        "\n",
        "    # 12 -> 6\n",
        "    conv4 = Conv2D(start_neurons * 8, (3, 3), activation=\"relu\", padding=\"same\")(pool3)\n",
        "    conv4 = residual_block(conv4,start_neurons * 8)\n",
        "    conv4 = residual_block(conv4,start_neurons * 8, True)\n",
        "    pool4 = MaxPooling2D((2, 2))(conv4)\n",
        "    pool4 = Dropout(DropoutRatio)(pool4)\n",
        "\n",
        "    # Middle\n",
        "    convm = Conv2D(start_neurons * 16, (3, 3), activation=\"relu\", padding=\"same\")(pool4)\n",
        "    convm = residual_block(convm,start_neurons * 16)\n",
        "    convm = residual_block(convm,start_neurons * 16, True)\n",
        "    \n",
        "    # 6 -> 12\n",
        "    deconv4 = Conv2DTranspose(start_neurons * 8, (3, 3), strides=(2, 2), padding=\"same\")(convm)\n",
        "    uconv4 = concatenate([deconv4, conv4])\n",
        "    uconv4 = Dropout(DropoutRatio)(uconv4)\n",
        "    \n",
        "    uconv4 = Conv2D(start_neurons * 8, (3, 3), activation=\"relu\", padding=\"same\")(uconv4)\n",
        "    uconv4 = residual_block(uconv4,start_neurons * 8)\n",
        "    uconv4 = residual_block(uconv4,start_neurons * 8, True)\n",
        "    \n",
        "    # 12 -> 25\n",
        "    #deconv3 = Conv2DTranspose(start_neurons * 4, (3, 3), strides=(2, 2), padding=\"same\")(uconv4)\n",
        "    deconv3 = Conv2DTranspose(start_neurons * 4, (3, 3), strides=(2, 2), padding=\"valid\")(uconv4)\n",
        "    uconv3 = concatenate([deconv3, conv3])    \n",
        "    uconv3 = Dropout(DropoutRatio)(uconv3)\n",
        "    \n",
        "    uconv3 = Conv2D(start_neurons * 4, (3, 3), activation=\"relu\", padding=\"same\")(uconv3)\n",
        "    uconv3 = residual_block(uconv3,start_neurons * 4)\n",
        "    uconv3 = residual_block(uconv3,start_neurons * 4, True)\n",
        "\n",
        "    # 25 -> 50\n",
        "    deconv2 = Conv2DTranspose(start_neurons * 2, (3, 3), strides=(2, 2), padding=\"same\")(uconv3)\n",
        "    uconv2 = concatenate([deconv2, conv2])\n",
        "        \n",
        "    uconv2 = Dropout(DropoutRatio)(uconv2)\n",
        "    uconv2 = Conv2D(start_neurons * 2, (3, 3), activation=\"relu\", padding=\"same\")(uconv2)\n",
        "    uconv2 = residual_block(uconv2,start_neurons * 2)\n",
        "    uconv2 = residual_block(uconv2,start_neurons * 2, True)\n",
        "\n",
        "    # 50 -> 101\n",
        "    #deconv1 = Conv2DTranspose(start_neurons * 1, (3, 3), strides=(2, 2), padding=\"same\")(uconv2)\n",
        "    deconv1 = Conv2DTranspose(start_neurons * 1, (3, 3), strides=(2, 2), padding=\"valid\")(uconv2)\n",
        "    uconv1 = concatenate([deconv1, conv1])\n",
        "    \n",
        "    uconv1 = Dropout(DropoutRatio)(uconv1)\n",
        "    uconv1 = Conv2D(start_neurons * 1, (3, 3), activation=\"relu\", padding=\"same\")(uconv1)\n",
        "    uconv1 = residual_block(uconv1,start_neurons * 1)\n",
        "    uconv2 = residual_block(uconv1,start_neurons * 1, True)\n",
        "\n",
        "    output_layer_noActi = Conv2D(1, (1,1), padding=\"same\", activation=\"relu\")(uconv2)\n",
        "    output_layer =  Activation('sigmoid')(output_layer_noActi)\n",
        "    \n",
        "    return output_layer"
      ],
      "execution_count": 0,
      "outputs": []
    },
    {
      "cell_type": "code",
      "metadata": {
        "id": "wQCCH-oKK7o9",
        "colab_type": "code",
        "colab": {}
      },
      "source": [
        "def build_model(self):\n",
        "    input_layer = Input(shape=self.img_shape)\n",
        "\n",
        "    # encoder\n",
        "    h = Conv2D(64, (3, 3), activation='relu', padding='same')(input_layer)\n",
        "    h = MaxPooling2D((2, 2), padding='same')(h)\n",
        "    h = Conv2D(16, (3, 3), activation='relu', padding='same')(h)\n",
        "    h = MaxPooling2D((2, 2), padding='same')(h)\n",
        "\n",
        "    # decoder\n",
        "    h = Conv2D(16, (3, 3), activation='relu', padding='same')(h)\n",
        "    h = UpSampling2D((2, 2))(h)\n",
        "    h = Conv2D(64, (3, 3), activation='relu', padding='same')(h)\n",
        "    h = UpSampling2D((2, 2))(h)\n",
        "    output_layer = Conv2D(1, (3, 3), activation='sigmoid', padding='same')(h)\n",
        "\n",
        "    return output_layer\n",
        "\n",
        "#    return Model(input_layer, output_layer)"
      ],
      "execution_count": 0,
      "outputs": []
    },
    {
      "cell_type": "code",
      "metadata": {
        "id": "VL7e3a6n3FzW",
        "colab_type": "code",
        "colab": {}
      },
      "source": [
        "def get_iou_vector(A, B):\n",
        "    batch_size = A.shape[0]\n",
        "    metric = []\n",
        "    for batch in range(batch_size):\n",
        "        t, p = A[batch]>0, B[batch]>0\n",
        "#         if np.count_nonzero(t) == 0 and np.count_nonzero(p) > 0:\n",
        "#             metric.append(0)\n",
        "#             continue\n",
        "#         if np.count_nonzero(t) >= 1 and np.count_nonzero(p) == 0:\n",
        "#             metric.append(0)\n",
        "#             continue\n",
        "#         if np.count_nonzero(t) == 0 and np.count_nonzero(p) == 0:\n",
        "#             metric.append(1)\n",
        "#             continue\n",
        "        \n",
        "        intersection = np.logical_and(t, p)\n",
        "        union = np.logical_or(t, p)\n",
        "        iou = (np.sum(intersection > 0) + 1e-10 )/ (np.sum(union > 0) + 1e-10)\n",
        "        thresholds = np.arange(0.5, 1, 0.05)\n",
        "        s = []\n",
        "        for thresh in thresholds:\n",
        "            s.append(iou > thresh)\n",
        "        metric.append(np.mean(s))\n",
        "\n",
        "    return np.mean(metric)\n",
        "\n",
        "def my_iou_metric(label, pred):\n",
        "    return tf.py_func(get_iou_vector, [label, pred>0.5], tf.float64)\n",
        "\n",
        "def my_iou_metric_2(label, pred):\n",
        "    return tf.py_func(get_iou_vector, [label, pred >0], tf.float64)\n"
      ],
      "execution_count": 0,
      "outputs": []
    },
    {
      "cell_type": "code",
      "metadata": {
        "id": "RJ5nk_jS3IpZ",
        "colab_type": "code",
        "colab": {}
      },
      "source": [
        "# code download from: https://github.com/bermanmaxim/LovaszSoftmax\n",
        "def lovasz_grad(gt_sorted):\n",
        "    \"\"\"\n",
        "    Computes gradient of the Lovasz extension w.r.t sorted errors\n",
        "    See Alg. 1 in paper\n",
        "    \"\"\"\n",
        "    gts = tf.reduce_sum(gt_sorted)\n",
        "    intersection = gts - tf.cumsum(gt_sorted)\n",
        "    union = gts + tf.cumsum(1. - gt_sorted)\n",
        "    jaccard = 1. - intersection / union\n",
        "    jaccard = tf.concat((jaccard[0:1], jaccard[1:] - jaccard[:-1]), 0)\n",
        "    return jaccard\n",
        "\n",
        "def lovasz_hinge(logits, labels, per_image=True, ignore=None):\n",
        "    \"\"\"\n",
        "    Binary Lovasz hinge loss\n",
        "      logits: [B, H, W] Variable, logits at each pixel (between -\\infty and +\\infty)\n",
        "      labels: [B, H, W] Tensor, binary ground truth masks (0 or 1)\n",
        "      per_image: compute the loss per image instead of per batch\n",
        "      ignore: void class id\n",
        "    \"\"\"\n",
        "    if per_image:\n",
        "        def treat_image(log_lab):\n",
        "            log, lab = log_lab\n",
        "            log, lab = tf.expand_dims(log, 0), tf.expand_dims(lab, 0)\n",
        "            log, lab = flatten_binary_scores(log, lab, ignore)\n",
        "            return lovasz_hinge_flat(log, lab)\n",
        "        losses = tf.map_fn(treat_image, (logits, labels), dtype=tf.float32)\n",
        "        loss = tf.reduce_mean(losses)\n",
        "    else:\n",
        "        loss = lovasz_hinge_flat(*flatten_binary_scores(logits, labels, ignore))\n",
        "    return loss\n",
        "\n",
        "def lovasz_hinge_flat(logits, labels):\n",
        "    \"\"\"\n",
        "    Binary Lovasz hinge loss\n",
        "      logits: [P] Variable, logits at each prediction (between -\\infty and +\\infty)\n",
        "      labels: [P] Tensor, binary ground truth labels (0 or 1)\n",
        "      ignore: label to ignore\n",
        "    \"\"\"\n",
        "    def compute_loss():\n",
        "        labelsf = tf.cast(labels, logits.dtype)\n",
        "        signs = 2. * labelsf - 1.\n",
        "        errors = 1. - logits * tf.stop_gradient(signs)\n",
        "        errors_sorted, perm = tf.nn.top_k(errors, k=tf.shape(errors)[0], name=\"descending_sort\")\n",
        "        gt_sorted = tf.gather(labelsf, perm)\n",
        "        grad = lovasz_grad(gt_sorted)\n",
        "        loss = tf.tensordot(tf.nn.relu(errors_sorted), tf.stop_gradient(grad), 1, name=\"loss_non_void\")\n",
        "        return loss\n",
        "\n",
        "    # deal with the void prediction case (only void pixels)\n",
        "    loss = tf.cond(tf.equal(tf.shape(logits)[0], 0),\n",
        "                   lambda: tf.reduce_sum(logits) * 0.,\n",
        "                   compute_loss,\n",
        "                   strict=True,\n",
        "                   name=\"loss\"\n",
        "                   )\n",
        "    return loss\n",
        "\n",
        "def flatten_binary_scores(scores, labels, ignore=None):\n",
        "    \"\"\"\n",
        "    Flattens predictions in the batch (binary case)\n",
        "    Remove labels equal to 'ignore'\n",
        "    \"\"\"\n",
        "    scores = tf.reshape(scores, (-1,))\n",
        "    labels = tf.reshape(labels, (-1,))\n",
        "    if ignore is None:\n",
        "        return scores, labels\n",
        "    valid = tf.not_equal(labels, ignore)\n",
        "    vscores = tf.boolean_mask(scores, valid, name='valid_scores')\n",
        "    vlabels = tf.boolean_mask(labels, valid, name='valid_labels')\n",
        "    return vscores, vlabels\n",
        "\n",
        "def lovasz_loss(y_true, y_pred):\n",
        "    y_true, y_pred = K.cast(K.squeeze(y_true, -1), 'int32'), K.cast(K.squeeze(y_pred, -1), 'float32')\n",
        "    #logits = K.log(y_pred / (1. - y_pred))\n",
        "    logits = y_pred #Jiaxin\n",
        "    loss = lovasz_hinge(logits, y_true, per_image = True, ignore = None)\n",
        "    return loss"
      ],
      "execution_count": 0,
      "outputs": []
    },
    {
      "cell_type": "code",
      "metadata": {
        "id": "3ILuIsX13NL4",
        "colab_type": "code",
        "colab": {}
      },
      "source": [
        "#Implementation\n",
        "#Both finding the optimal range of learning rates and assigning a learning rate schedule can be implemented quite trivially using Keras Callbacks.\n",
        "#Finding the optimal learning rate range\n",
        "#We can write a Keras Callback which tracks the loss associated with a learning rate varied linearly over a defined range.\n",
        "from keras.callbacks import Callback\n",
        "import matplotlib.pyplot as plt\n",
        "\n",
        "class LRFinder(Callback):\n",
        "    \n",
        "    '''\n",
        "    A simple callback for finding the optimal learning rate range for your model + dataset. \n",
        "    \n",
        "    # Usage\n",
        "        ```python\n",
        "            lr_finder = LRFinder(min_lr=1e-5, \n",
        "                                 max_lr=1e-2, \n",
        "                                 steps_per_epoch=np.ceil(epoch_size/batch_size), \n",
        "                                 epochs=3)\n",
        "            model.fit(X_train, Y_train, callbacks=[lr_finder])\n",
        "            \n",
        "            lr_finder.plot_loss()\n",
        "        ```\n",
        "    \n",
        "    # Arguments\n",
        "        min_lr: The lower bound of the learning rate range for the experiment.\n",
        "        max_lr: The upper bound of the learning rate range for the experiment.\n",
        "        steps_per_epoch: Number of mini-batches in the dataset. Calculated as `np.ceil(epoch_size/batch_size)`. \n",
        "        epochs: Number of epochs to run experiment. Usually between 2 and 4 epochs is sufficient. \n",
        "        \n",
        "    # References\n",
        "        Blog post: jeremyjordan.me/nn-learning-rate\n",
        "        Original paper: https://arxiv.org/abs/1506.01186\n",
        "    '''\n",
        "\n",
        "    def __init__(self, min_lr=1e-5, max_lr=1e-2, steps_per_epoch=None, epochs=None):\n",
        "        super().__init__()\n",
        "        \n",
        "        self.min_lr = min_lr\n",
        "        self.max_lr = max_lr\n",
        "        self.total_iterations = steps_per_epoch * epochs\n",
        "        self.iteration = 0\n",
        "        self.history = {}\n",
        "        \n",
        "    def clr(self):\n",
        "        '''Calculate the learning rate.'''\n",
        "        x = self.iteration / self.total_iterations \n",
        "        return self.min_lr + (self.max_lr-self.min_lr) * x\n",
        "        \n",
        "    def on_train_begin(self, logs=None):\n",
        "        '''Initialize the learning rate to the minimum value at the start of training.'''\n",
        "        logs = logs or {}\n",
        "        K.set_value(self.model.optimizer.lr, self.min_lr)\n",
        "        \n",
        "    def on_batch_end(self, epoch, logs=None):\n",
        "        '''Record previous batch statistics and update the learning rate.'''\n",
        "        logs = logs or {}\n",
        "        self.iteration += 1\n",
        "\n",
        "        self.history.setdefault('lr', []).append(K.get_value(self.model.optimizer.lr))\n",
        "        self.history.setdefault('iterations', []).append(self.iteration)\n",
        "\n",
        "        for k, v in logs.items():\n",
        "            self.history.setdefault(k, []).append(v)\n",
        "            \n",
        "        K.set_value(self.model.optimizer.lr, self.clr())\n",
        "    \n",
        "    def plot_lr(self):\n",
        "        '''Helper function to quickly inspect the learning rate schedule.'''\n",
        "        plt.plot(self.history['iterations'], self.history['lr'])\n",
        "        plt.yscale('log')\n",
        "        plt.xlabel('Iteration')\n",
        "        plt.ylabel('Learning rate')\n",
        "        \n",
        "    def plot_loss(self):\n",
        "        '''Helper function to quickly observe the learning rate experiment results.'''\n",
        "        plt.plot(self.history['lr'], self.history['loss'])\n",
        "        plt.xscale('log')\n",
        "        plt.xlabel('Learning rate')\n",
        "        plt.ylabel('Loss')"
      ],
      "execution_count": 0,
      "outputs": []
    },
    {
      "cell_type": "code",
      "metadata": {
        "id": "DCYfkVu73Sk2",
        "colab_type": "code",
        "colab": {}
      },
      "source": [
        "from keras.callbacks import Callback\n",
        "import keras.backend as K\n",
        "import numpy as np\n",
        "\n",
        "class SGDRScheduler(Callback):\n",
        "    '''Cosine annealing learning rate scheduler with periodic restarts.\n",
        "    # Usage\n",
        "        ```python\n",
        "            schedule = SGDRScheduler(min_lr=1e-5,\n",
        "                                     max_lr=1e-2,\n",
        "                                     steps_per_epoch=np.ceil(epoch_size/batch_size),\n",
        "                                     lr_decay=0.9,\n",
        "                                     cycle_length=5,\n",
        "                                     mult_factor=1.5)\n",
        "            model.fit(X_train, Y_train, epochs=100, callbacks=[schedule])\n",
        "        ```\n",
        "    # Arguments\n",
        "        min_lr: The lower bound of the learning rate range for the experiment.\n",
        "        max_lr: The upper bound of the learning rate range for the experiment.\n",
        "        steps_per_epoch: Number of mini-batches in the dataset. Calculated as `np.ceil(epoch_size/batch_size)`. \n",
        "        lr_decay: Reduce the max_lr after the completion of each cycle.\n",
        "                  Ex. To reduce the max_lr by 20% after each cycle, set this value to 0.8.\n",
        "        cycle_length: Initial number of epochs in a cycle.\n",
        "        mult_factor: Scale epochs_to_restart after each full cycle completion.\n",
        "    # References\n",
        "        Blog post: jeremyjordan.me/nn-learning-rate\n",
        "        Original paper: http://arxiv.org/abs/1608.03983\n",
        "    '''\n",
        "    def __init__(self,\n",
        "                 min_lr,\n",
        "                 max_lr,\n",
        "                 steps_per_epoch,\n",
        "                 lr_decay=1,\n",
        "                 cycle_length=10,\n",
        "                 mult_factor=2):\n",
        "\n",
        "        self.min_lr = min_lr\n",
        "        self.max_lr = max_lr\n",
        "        self.lr_decay = lr_decay\n",
        "        self.batch_since_restart = 0\n",
        "        self.next_restart = cycle_length\n",
        "        self.steps_per_epoch = steps_per_epoch\n",
        "        self.cycle_length = cycle_length\n",
        "        self.mult_factor = mult_factor\n",
        "        self.history = {}\n",
        "        \n",
        "    def clr(self):\n",
        "        '''Calculate the learning rate.'''\n",
        "        fraction_to_restart = self.batch_since_restart / (self.steps_per_epoch * self.cycle_length)\n",
        "        lr = self.min_lr + 0.5 * (self.max_lr - self.min_lr) * (1 + np.cos(fraction_to_restart * np.pi))\n",
        "        return lr\n",
        "\n",
        "    def on_train_begin(self, logs={}):\n",
        "        '''Initialize the learning rate to the minimum value at the start of training.'''\n",
        "        logs = logs or {}\n",
        "        K.set_value(self.model.optimizer.lr, self.max_lr)\n",
        "\n",
        "    def on_batch_end(self, batch, logs={}):\n",
        "        '''Record previous batch statistics and update the learning rate.'''\n",
        "        logs = logs or {}\n",
        "        self.history.setdefault('lr', []).append(K.get_value(self.model.optimizer.lr))\n",
        "        for k, v in logs.items():\n",
        "            self.history.setdefault(k, []).append(v)\n",
        "        self.batch_since_restart += 1\n",
        "        K.set_value(self.model.optimizer.lr, self.clr())\n",
        "\n",
        "    def on_epoch_end(self, epoch, logs={}):\n",
        "        '''Check for end of current cycle, apply restarts when necessary.'''\n",
        "        if epoch + 1 == self.next_restart:\n",
        "            self.batch_since_restart = 0\n",
        "            self.cycle_length = np.ceil(self.cycle_length * self.mult_factor)\n",
        "            self.next_restart += self.cycle_length\n",
        "            self.max_lr *= self.lr_decay\n",
        "            self.best_weights = self.model.get_weights()\n",
        "            \n",
        "    def on_train_end(self, logs={}):\n",
        "        '''Set weights to the values from the end of the most recent cycle for best performance.'''\n",
        "        self.model.set_weights(self.best_weights)"
      ],
      "execution_count": 0,
      "outputs": []
    },
    {
      "cell_type": "code",
      "metadata": {
        "id": "XftbeKu23Xdv",
        "colab_type": "code",
        "colab": {
          "base_uri": "https://localhost:8080/",
          "height": 51
        },
        "outputId": "2b2c1a0b-860c-4736-eff6-cd73e0637c9b"
      },
      "source": [
        "x_trn, x_val, y_trn, y_val = train_test_split(x_train, y_train, test_size=0.2, random_state=79)\n",
        "print(x_trn.shape,y_trn.shape,x_val.shape,y_val.shape)\n",
        "print(x_train.shape,y_train.shape,x_valid.shape,y_valid.shape)"
      ],
      "execution_count": 48,
      "outputs": [
        {
          "output_type": "stream",
          "text": [
            "(501, 101, 101, 1) (501, 101, 101, 1) (126, 101, 101, 1) (126, 101, 101, 1)\n",
            "(627, 101, 101, 1) (627, 101, 101, 1) (157, 101, 101, 1) (157, 101, 101, 1)\n"
          ],
          "name": "stdout"
        }
      ]
    },
    {
      "cell_type": "code",
      "metadata": {
        "id": "9ODkJB6i3cDI",
        "colab_type": "code",
        "colab": {
          "base_uri": "https://localhost:8080/",
          "height": 535
        },
        "outputId": "e6bf2b70-e0a8-4279-e606-64a9d75ad0e7"
      },
      "source": [
        "# LR Search -- ResUnet with binary_crossentropy loss\n",
        "mt1 = time.time()\n",
        "input_layer = Input((img_size_target, img_size_target, 1))\n",
        "output_layer = build_model(input_layer, 16,0.5)\n",
        "model = Model(input_layer, output_layer)\n",
        "\n",
        "reduce_lr = ReduceLROnPlateau(monitor='my_iou_metric', mode = 'max',factor=0.5, patience=3, min_lr=0.00001, verbose=1)\n",
        "\n",
        "epochs = 5\n",
        "batch_size = 32\n",
        "epoch_size = len(x_trn)\n",
        "lr=0.01\n",
        "lr_finder = LRFinder(min_lr=1e-5, \n",
        "                    max_lr=1e-2, \n",
        "                    steps_per_epoch=np.ceil(epoch_size/batch_size), \n",
        "                    epochs=epochs)\n",
        "\n",
        "#optimizer = SGD(lr=lr, momentum=0.8, decay=0.001, nesterov=False)\n",
        "optimizer = optimizers.adam(lr = lr)\n",
        "model.compile(loss=\"binary_crossentropy\", optimizer=optimizer, metrics=[my_iou_metric])\n",
        "\n",
        "history = model.fit(x_trn, y_trn,\n",
        "                    validation_data=[x_val, y_val], \n",
        "                    epochs=epochs,\n",
        "                    batch_size=batch_size,\n",
        "                    callbacks=[lr_finder,reduce_lr], \n",
        "                    verbose=2)\n",
        "lr_finder.plot_loss()\n",
        "mt2 = time.time()"
      ],
      "execution_count": 49,
      "outputs": [
        {
          "output_type": "stream",
          "text": [
            "Train on 501 samples, validate on 126 samples\n",
            "Epoch 1/5\n"
          ],
          "name": "stdout"
        },
        {
          "output_type": "stream",
          "text": [
            "/usr/local/lib/python3.6/dist-packages/keras/callbacks.py:122: UserWarning: Method on_batch_end() is slow compared to the batch update (0.918816). Check your callbacks.\n",
            "  % delta_t_median)\n"
          ],
          "name": "stderr"
        },
        {
          "output_type": "stream",
          "text": [
            " - 15s - loss: -4.6531e+00 - my_iou_metric: 0.0000e+00 - val_loss: -1.3969e+01 - val_my_iou_metric: 0.0000e+00\n",
            "Epoch 2/5\n",
            " - 3s - loss: -1.4106e+01 - my_iou_metric: 0.0000e+00 - val_loss: -5.1656e+00 - val_my_iou_metric: 0.0000e+00\n",
            "Epoch 3/5\n",
            " - 3s - loss: -1.4472e+01 - my_iou_metric: 0.0000e+00 - val_loss: -3.5101e+00 - val_my_iou_metric: 0.0000e+00\n",
            "Epoch 4/5\n",
            " - 3s - loss: -1.4651e+01 - my_iou_metric: 0.0000e+00 - val_loss: 0.2906 - val_my_iou_metric: 0.0000e+00\n",
            "\n",
            "Epoch 00004: ReduceLROnPlateau reducing learning rate to 0.004000999964773655.\n",
            "Epoch 5/5\n",
            " - 3s - loss: -1.6136e+01 - my_iou_metric: 0.0000e+00 - val_loss: 0.9243 - val_my_iou_metric: 0.0000e+00\n"
          ],
          "name": "stdout"
        },
        {
          "output_type": "display_data",
          "data": {
            "image/png": "[encoded data removed]",
            "text/plain": [
              "<Figure size 432x288 with 1 Axes>"
            ]
          },
          "metadata": {
            "tags": []
          }
        }
      ]
    },
    {
      "cell_type": "code",
      "metadata": {
        "id": "W6mNNrB65bZN",
        "colab_type": "code",
        "colab": {
          "base_uri": "https://localhost:8080/",
          "height": 244
        },
        "outputId": "c5554475-604b-4665-ac4a-0861ff349045"
      },
      "source": [
        "encoded_imgs = model.predict(x_val)\n",
        "decoded_imgs = model.predict(encoded_imgs)\n",
        "\n",
        "plot_results(x_test, decoded_imgs)"
      ],
      "execution_count": 50,
      "outputs": [
        {
          "output_type": "display_data",
          "data": {
            "image/png": "[encoded data removed]",
            "text/plain": [
              "<Figure size 1440x288 with 20 Axes>"
            ]
          },
          "metadata": {
            "tags": []
          }
        }
      ]
    },
    {
      "cell_type": "code",
      "metadata": {
        "id": "ayKmgGUn64Cr",
        "colab_type": "code",
        "colab": {
          "base_uri": "https://localhost:8080/",
          "height": 51
        },
        "outputId": "5baf1ade-a298-427d-bf1f-abe54fc25f59"
      },
      "source": [
        "version = 1\n",
        "basic_name = f'LR_midsurface_v{version}'\n",
        "save_model_name = basic_name + '.model'\n",
        "submission_file = basic_name + '.csv'\n",
        "\n",
        "print(save_model_name)\n",
        "print(submission_file)"
      ],
      "execution_count": 51,
      "outputs": [
        {
          "output_type": "stream",
          "text": [
            "LR_midsurface_v1.model\n",
            "LR_midsurface_v1.csv\n"
          ],
          "name": "stdout"
        }
      ]
    },
    {
      "cell_type": "code",
      "metadata": {
        "id": "LgzZVUtD3gSm",
        "colab_type": "code",
        "colab": {
          "base_uri": "https://localhost:8080/",
          "height": 1000
        },
        "outputId": "7840447b-78ce-4785-9fc3-5d07d6b1889e"
      },
      "source": [
        "# Test1-1 -- ResUnet with binary_crossentropy loss\n",
        "# With cosine annealing learning rate scheduler with periodic restarts\n",
        "\n",
        "mt1 = time.time()\n",
        "save_model_name = basic_name + '.model1'\n",
        "input_layer = Input((img_size_target, img_size_target, 1))\n",
        "output_layer = build_model(input_layer, 16,0.25)\n",
        "model = Model(input_layer, output_layer)\n",
        "\n",
        "model_checkpoint = ModelCheckpoint(save_model_name,monitor='my_iou_metric', \n",
        "                                   mode = 'max', save_best_only=True, verbose=1)\n",
        "reduce_lr = ReduceLROnPlateau(monitor='my_iou_metric', mode = 'max',factor=0.5, patience=3, min_lr=0.0001, verbose=1)\n",
        "\n",
        "epochs = 30\n",
        "batch_size = 32\n",
        "epoch_size = len(x_trn)\n",
        "lr=0.01\n",
        "schedule = SGDRScheduler(min_lr=1e-4,\n",
        "                        max_lr=1e-2,\n",
        "                        steps_per_epoch=np.ceil(epoch_size/batch_size),\n",
        "                        lr_decay=0.9,\n",
        "                        cycle_length=5,\n",
        "                        mult_factor=1.5)\n",
        "\n",
        "#optimizer = SGD(lr=lr, momentum=0.8, decay=0.001, nesterov=False)\n",
        "optimizer = optimizers.adam(lr = lr)\n",
        "model.compile(loss=\"binary_crossentropy\", optimizer=optimizer, metrics=[my_iou_metric])\n",
        "\n",
        "history = model.fit(x_trn, y_trn,\n",
        "                    validation_data=[x_val, y_val], \n",
        "                    epochs=epochs,\n",
        "                    batch_size=batch_size,\n",
        "                    callbacks=[schedule,reduce_lr, model_checkpoint], \n",
        "                    verbose=2)\n",
        "mt2 = time.time()\n",
        "print(f\"Test1-1 {epochs,batch_size} runtime = {(mt2-mt1)/60} mins\")\n",
        "print(\"Evaluation on X_valid:\", model.evaluate(x_valid, y_valid))"
      ],
      "execution_count": 52,
      "outputs": [
        {
          "output_type": "stream",
          "text": [
            "Train on 501 samples, validate on 126 samples\n",
            "Epoch 1/30\n"
          ],
          "name": "stdout"
        },
        {
          "output_type": "stream",
          "text": [
            "/usr/local/lib/python3.6/dist-packages/keras/callbacks.py:122: UserWarning: Method on_batch_end() is slow compared to the batch update (0.999277). Check your callbacks.\n",
            "  % delta_t_median)\n"
          ],
          "name": "stderr"
        },
        {
          "output_type": "stream",
          "text": [
            " - 15s - loss: -1.4238e+01 - my_iou_metric: 0.0000e+00 - val_loss: -2.6377e+00 - val_my_iou_metric: 0.0000e+00\n",
            "\n",
            "Epoch 00001: my_iou_metric improved from -inf to 0.00000, saving model to LR_midsurface_v1.model1\n",
            "Epoch 2/30\n",
            " - 3s - loss: -1.6395e+01 - my_iou_metric: 0.0000e+00 - val_loss: -1.4876e+01 - val_my_iou_metric: 0.0000e+00\n",
            "\n",
            "Epoch 00002: my_iou_metric did not improve from 0.00000\n",
            "Epoch 3/30\n",
            " - 3s - loss: -1.6556e+01 - my_iou_metric: 0.0000e+00 - val_loss: -1.6214e+01 - val_my_iou_metric: 0.0000e+00\n",
            "\n",
            "Epoch 00003: my_iou_metric did not improve from 0.00000\n",
            "Epoch 4/30\n",
            " - 3s - loss: -1.6639e+01 - my_iou_metric: 0.0000e+00 - val_loss: -1.6326e+01 - val_my_iou_metric: 0.0000e+00\n",
            "\n",
            "Epoch 00004: ReduceLROnPlateau reducing learning rate to 0.0005226829671300948.\n",
            "\n",
            "Epoch 00004: my_iou_metric did not improve from 0.00000\n",
            "Epoch 5/30\n",
            " - 3s - loss: -1.6688e+01 - my_iou_metric: 0.0000e+00 - val_loss: -1.6447e+01 - val_my_iou_metric: 0.0000e+00\n",
            "\n",
            "Epoch 00005: my_iou_metric did not improve from 0.00000\n",
            "Epoch 6/30\n",
            " - 3s - loss: -1.6717e+01 - my_iou_metric: 0.0000e+00 - val_loss: -6.2692e+00 - val_my_iou_metric: 0.0000e+00\n",
            "\n",
            "Epoch 00006: my_iou_metric did not improve from 0.00000\n",
            "Epoch 7/30\n",
            " - 3s - loss: -1.6757e+01 - my_iou_metric: 0.0000e+00 - val_loss: -1.6131e+01 - val_my_iou_metric: 0.0000e+00\n",
            "\n",
            "Epoch 00007: ReduceLROnPlateau reducing learning rate to 0.0038483126554638147.\n",
            "\n",
            "Epoch 00007: my_iou_metric did not improve from 0.00000\n",
            "Epoch 8/30\n",
            " - 3s - loss: -1.6806e+01 - my_iou_metric: 0.0076 - val_loss: -1.5342e+01 - val_my_iou_metric: 7.9365e-04\n",
            "\n",
            "Epoch 00008: my_iou_metric improved from 0.00000 to 0.00758, saving model to LR_midsurface_v1.model1\n",
            "Epoch 9/30\n",
            " - 3s - loss: -1.6712e+01 - my_iou_metric: 0.0000e+00 - val_loss: -1.6530e+01 - val_my_iou_metric: 0.0000e+00\n",
            "\n",
            "Epoch 00009: my_iou_metric did not improve from 0.00758\n",
            "Epoch 10/30\n",
            " - 3s - loss: -1.6824e+01 - my_iou_metric: 0.0166 - val_loss: -1.5928e+01 - val_my_iou_metric: 0.4056\n",
            "\n",
            "Epoch 00010: my_iou_metric improved from 0.00758 to 0.01657, saving model to LR_midsurface_v1.model1\n",
            "Epoch 11/30\n",
            " - 3s - loss: -1.6873e+01 - my_iou_metric: 0.0407 - val_loss: -1.5744e+01 - val_my_iou_metric: 0.4040\n",
            "\n",
            "Epoch 00011: my_iou_metric improved from 0.01657 to 0.04072, saving model to LR_midsurface_v1.model1\n",
            "Epoch 12/30\n",
            " - 3s - loss: -1.6889e+01 - my_iou_metric: 0.0613 - val_loss: -1.6026e+01 - val_my_iou_metric: 0.3881\n",
            "\n",
            "Epoch 00012: my_iou_metric improved from 0.04072 to 0.06128, saving model to LR_midsurface_v1.model1\n",
            "Epoch 13/30\n",
            " - 3s - loss: -1.6915e+01 - my_iou_metric: 0.0659 - val_loss: -1.5909e+01 - val_my_iou_metric: 0.3849\n",
            "\n",
            "Epoch 00013: my_iou_metric improved from 0.06128 to 0.06587, saving model to LR_midsurface_v1.model1\n",
            "Epoch 14/30\n",
            " - 3s - loss: -1.6880e+01 - my_iou_metric: 0.0212 - val_loss: -1.6114e+01 - val_my_iou_metric: 0.4000\n",
            "\n",
            "Epoch 00014: my_iou_metric did not improve from 0.06587\n",
            "Epoch 15/30\n",
            " - 3s - loss: -1.6891e+01 - my_iou_metric: 0.1004 - val_loss: -1.6142e+01 - val_my_iou_metric: 0.2056\n",
            "\n",
            "Epoch 00015: my_iou_metric improved from 0.06587 to 0.10040, saving model to LR_midsurface_v1.model1\n",
            "Epoch 16/30\n",
            " - 3s - loss: -1.6928e+01 - my_iou_metric: 0.1128 - val_loss: -1.5700e+01 - val_my_iou_metric: 0.1873\n",
            "\n",
            "Epoch 00016: my_iou_metric improved from 0.10040 to 0.11277, saving model to LR_midsurface_v1.model1\n",
            "Epoch 17/30\n",
            " - 3s - loss: -1.6914e+01 - my_iou_metric: 0.0870 - val_loss: -1.5484e+01 - val_my_iou_metric: 0.3278\n",
            "\n",
            "Epoch 00017: my_iou_metric did not improve from 0.11277\n",
            "Epoch 18/30\n",
            " - 3s - loss: -1.6877e+01 - my_iou_metric: 0.1754 - val_loss: -1.6464e+01 - val_my_iou_metric: 0.0833\n",
            "\n",
            "Epoch 00018: my_iou_metric improved from 0.11277 to 0.17545, saving model to LR_midsurface_v1.model1\n",
            "Epoch 19/30\n",
            " - 3s - loss: -1.6916e+01 - my_iou_metric: 0.1457 - val_loss: -1.6655e+01 - val_my_iou_metric: 0.2952\n",
            "\n",
            "Epoch 00019: my_iou_metric did not improve from 0.17545\n",
            "Epoch 20/30\n",
            " - 3s - loss: -1.6959e+01 - my_iou_metric: 0.1762 - val_loss: -1.6772e+01 - val_my_iou_metric: 0.3341\n",
            "\n",
            "Epoch 00020: my_iou_metric improved from 0.17545 to 0.17625, saving model to LR_midsurface_v1.model1\n",
            "Epoch 21/30\n",
            " - 3s - loss: -1.6975e+01 - my_iou_metric: 0.0984 - val_loss: -1.6746e+01 - val_my_iou_metric: 0.3921\n",
            "\n",
            "Epoch 00021: my_iou_metric did not improve from 0.17625\n",
            "Epoch 22/30\n",
            " - 3s - loss: -1.7006e+01 - my_iou_metric: 0.1333 - val_loss: -1.6618e+01 - val_my_iou_metric: 0.4063\n",
            "\n",
            "Epoch 00022: my_iou_metric did not improve from 0.17625\n",
            "Epoch 23/30\n",
            " - 3s - loss: -1.7024e+01 - my_iou_metric: 0.1449 - val_loss: -1.6248e+01 - val_my_iou_metric: 0.4143\n",
            "\n",
            "Epoch 00023: ReduceLROnPlateau reducing learning rate to 0.0003179491905029863.\n",
            "\n",
            "Epoch 00023: my_iou_metric did not improve from 0.17625\n",
            "Epoch 24/30\n",
            " - 3s - loss: -1.7021e+01 - my_iou_metric: 0.0980 - val_loss: -1.6592e+01 - val_my_iou_metric: 0.4135\n",
            "\n",
            "Epoch 00024: my_iou_metric did not improve from 0.17625\n",
            "Epoch 25/30\n",
            " - 3s - loss: -1.7032e+01 - my_iou_metric: 0.1006 - val_loss: -1.6723e+01 - val_my_iou_metric: 0.4000\n",
            "\n",
            "Epoch 00025: my_iou_metric did not improve from 0.17625\n",
            "Epoch 26/30\n",
            " - 3s - loss: -1.6921e+01 - my_iou_metric: 0.1301 - val_loss: -1.4890e+01 - val_my_iou_metric: 0.0000e+00\n",
            "\n",
            "Epoch 00026: ReduceLROnPlateau reducing learning rate to 0.0036176920402795076.\n",
            "\n",
            "Epoch 00026: my_iou_metric did not improve from 0.17625\n",
            "Epoch 27/30\n",
            " - 3s - loss: -1.6757e+01 - my_iou_metric: 0.0000e+00 - val_loss: -1.5686e+01 - val_my_iou_metric: 0.0000e+00\n",
            "\n",
            "Epoch 00027: my_iou_metric did not improve from 0.17625\n",
            "Epoch 28/30\n",
            " - 3s - loss: -1.6896e+01 - my_iou_metric: 0.0361 - val_loss: -1.5029e+01 - val_my_iou_metric: 0.0000e+00\n",
            "\n",
            "Epoch 00028: my_iou_metric did not improve from 0.17625\n",
            "Epoch 29/30\n",
            " - 3s - loss: -1.6929e+01 - my_iou_metric: 0.1142 - val_loss: -1.6609e+01 - val_my_iou_metric: 0.0587\n",
            "\n",
            "Epoch 00029: ReduceLROnPlateau reducing learning rate to 0.0032244648318737745.\n",
            "\n",
            "Epoch 00029: my_iou_metric did not improve from 0.17625\n",
            "Epoch 30/30\n",
            " - 3s - loss: -1.6945e+01 - my_iou_metric: 0.1749 - val_loss: -1.6384e+01 - val_my_iou_metric: 0.0000e+00\n",
            "\n",
            "Epoch 00030: my_iou_metric did not improve from 0.17625\n",
            "Test1-1 (30, 32) runtime = 5.9081937352816265 mins\n",
            "157/157 [==============================] - 0s 3ms/step\n",
            "Evaluation on X_valid: [-17.208754168953867, 0.40318471337579626]\n"
          ],
          "name": "stdout"
        }
      ]
    },
    {
      "cell_type": "code",
      "metadata": {
        "id": "jcJg2Gxu7Y0B",
        "colab_type": "code",
        "colab": {
          "base_uri": "https://localhost:8080/",
          "height": 244
        },
        "outputId": "5f087255-6372-4f57-bd34-0afb70b1b6f5"
      },
      "source": [
        "encoded_imgs = model.predict(x_val)\n",
        "decoded_imgs = model.predict(encoded_imgs)\n",
        "\n",
        "plot_results(x_test, decoded_imgs)"
      ],
      "execution_count": 53,
      "outputs": [
        {
          "output_type": "display_data",
          "data": {
            "image/png": "[encoded data removed]",
            "text/plain": [
              "<Figure size 1440x288 with 20 Axes>"
            ]
          },
          "metadata": {
            "tags": []
          }
        }
      ]
    },
    {
      "cell_type": "code",
      "metadata": {
        "id": "0JIK0E-k4Xj4",
        "colab_type": "code",
        "colab": {
          "base_uri": "https://localhost:8080/",
          "height": 349
        },
        "outputId": "d4bd7b7f-cfe4-430d-f8f9-37a94c8f0aae"
      },
      "source": [
        "#Test1-1 Performance\n",
        "fig, (ax_loss, ax_score) = plt.subplots(1, 2, figsize=(15,5))\n",
        "ax_loss.plot(history.epoch, history.history[\"loss\"], label=\"Train loss\")\n",
        "ax_loss.plot(history.epoch, history.history[\"val_loss\"], label=\"Validation loss\")\n",
        "ax_loss.legend()\n",
        "plt.title('ResUNet: Binary Crossentropy Loss')\n",
        "ax_score.plot(history.epoch, history.history[\"my_iou_metric\"], label=\"Train score\")\n",
        "ax_score.plot(history.epoch, history.history[\"val_my_iou_metric\"], label=\"Validation score\")\n",
        "ax_score.legend()\n",
        "plt.title('Cosine annealing learning rate scheduler with periodic restarts')"
      ],
      "execution_count": 54,
      "outputs": [
        {
          "output_type": "execute_result",
          "data": {
            "text/plain": [
              "Text(0.5, 1.0, 'Cosine annealing learning rate scheduler with periodic restarts')"
            ]
          },
          "metadata": {
            "tags": []
          },
          "execution_count": 54
        },
        {
          "output_type": "display_data",
          "data": {
            "image/png": "[encoded data removed]",
            "text/plain": [
              "<Figure size 1080x360 with 2 Axes>"
            ]
          },
          "metadata": {
            "tags": []
          }
        }
      ]
    },
    {
      "cell_type": "code",
      "metadata": {
        "id": "u9GqIMDT4Xu4",
        "colab_type": "code",
        "colab": {}
      },
      "source": [
        "save_model_name = basic_name + '.model1'\n"
      ],
      "execution_count": 0,
      "outputs": []
    },
    {
      "cell_type": "code",
      "metadata": {
        "id": "dTphgyfV4Xzq",
        "colab_type": "code",
        "colab": {
          "base_uri": "https://localhost:8080/",
          "height": 1000
        },
        "outputId": "d0922383-975b-48cb-a348-17cda297c11d"
      },
      "source": [
        "# Test1-2: continue with Lovasz Loss, LR Search\n",
        "mt1 = time.time()\n",
        "model = load_model(save_model_name,custom_objects={'my_iou_metric': my_iou_metric})\n",
        "input_x = model.layers[0].input\n",
        "output_layer = model.layers[-1].input\n",
        "model = Model(input_x, output_layer)\n",
        "\n",
        "reduce_lr = ReduceLROnPlateau(monitor='val_my_iou_metric_2', mode = 'max',factor=0.5, patience=2, min_lr=0.00001, verbose=1)\n",
        "epochs = 30\n",
        "batch_size = 32\n",
        "epoch_size = len(x_trn)\n",
        "lr=0.001\n",
        "lr_finder = LRFinder(min_lr=1e-5, \n",
        "                    max_lr=1e-2, \n",
        "                    steps_per_epoch=np.ceil(epoch_size/batch_size), \n",
        "                    epochs=epochs)\n",
        "\n",
        "c = optimizers.adam(lr = lr)\n",
        "model.compile(loss=lovasz_loss, optimizer=c, metrics=[my_iou_metric_2])\n",
        "history = model.fit(x_trn, y_trn,\n",
        "                    validation_data=[x_val, y_val], \n",
        "                    epochs=epochs,\n",
        "                    batch_size=batch_size,\n",
        "                    callbacks=[lr_finder,reduce_lr], \n",
        "                    verbose=2)\n",
        "lr_finder.plot_loss()\n",
        "mt2 = time.time()"
      ],
      "execution_count": 56,
      "outputs": [
        {
          "output_type": "stream",
          "text": [
            "Train on 501 samples, validate on 126 samples\n",
            "Epoch 1/30\n"
          ],
          "name": "stdout"
        },
        {
          "output_type": "stream",
          "text": [
            "/usr/local/lib/python3.6/dist-packages/keras/callbacks.py:122: UserWarning: Method on_batch_end() is slow compared to the batch update (1.187365). Check your callbacks.\n",
            "  % delta_t_median)\n"
          ],
          "name": "stderr"
        },
        {
          "output_type": "stream",
          "text": [
            " - 17s - loss: 0.8836 - my_iou_metric_2: 0.1002 - val_loss: 0.6549 - val_my_iou_metric_2: 0.0000e+00\n",
            "Epoch 2/30\n",
            " - 4s - loss: 0.7236 - my_iou_metric_2: 3.9920e-04 - val_loss: 0.6070 - val_my_iou_metric_2: 0.4198\n",
            "Epoch 3/30\n",
            " - 4s - loss: 0.6298 - my_iou_metric_2: 0.0000e+00 - val_loss: 0.6594 - val_my_iou_metric_2: 0.2714\n",
            "Epoch 4/30\n",
            " - 4s - loss: 0.6068 - my_iou_metric_2: 0.0000e+00 - val_loss: 0.6804 - val_my_iou_metric_2: 0.4595\n",
            "Epoch 5/30\n",
            " - 4s - loss: 0.6056 - my_iou_metric_2: 0.0072 - val_loss: 0.6277 - val_my_iou_metric_2: 0.3071\n",
            "Epoch 6/30\n",
            " - 4s - loss: 0.5925 - my_iou_metric_2: 0.0000e+00 - val_loss: 0.5931 - val_my_iou_metric_2: 0.1595\n",
            "\n",
            "Epoch 00006: ReduceLROnPlateau reducing learning rate to 0.001003999961540103.\n",
            "Epoch 7/30\n",
            " - 4s - loss: 0.5636 - my_iou_metric_2: 0.0000e+00 - val_loss: 0.5843 - val_my_iou_metric_2: 0.1913\n",
            "Epoch 8/30\n",
            " - 4s - loss: 0.5611 - my_iou_metric_2: 0.0000e+00 - val_loss: 1.1070 - val_my_iou_metric_2: 0.0000e+00\n",
            "\n",
            "Epoch 00008: ReduceLROnPlateau reducing learning rate to 0.0013370000524446368.\n",
            "Epoch 9/30\n",
            " - 4s - loss: 0.5603 - my_iou_metric_2: 0.0000e+00 - val_loss: 0.5467 - val_my_iou_metric_2: 0.0000e+00\n",
            "Epoch 10/30\n",
            " - 4s - loss: 0.5560 - my_iou_metric_2: 0.0048 - val_loss: 0.5371 - val_my_iou_metric_2: 7.9365e-04\n",
            "\n",
            "Epoch 00010: ReduceLROnPlateau reducing learning rate to 0.0016700000269338489.\n",
            "Epoch 11/30\n",
            " - 4s - loss: 0.5373 - my_iou_metric_2: 0.0024 - val_loss: 0.5881 - val_my_iou_metric_2: 0.0000e+00\n",
            "Epoch 12/30\n",
            " - 4s - loss: 0.5348 - my_iou_metric_2: 0.0000e+00 - val_loss: 0.5391 - val_my_iou_metric_2: 0.0000e+00\n",
            "\n",
            "Epoch 00012: ReduceLROnPlateau reducing learning rate to 0.002002999885007739.\n",
            "Epoch 13/30\n",
            " - 3s - loss: 0.5206 - my_iou_metric_2: 0.0154 - val_loss: 0.5399 - val_my_iou_metric_2: 0.0000e+00\n",
            "Epoch 14/30\n",
            " - 4s - loss: 0.5194 - my_iou_metric_2: 0.0020 - val_loss: 0.5343 - val_my_iou_metric_2: 0.0000e+00\n",
            "\n",
            "Epoch 00014: ReduceLROnPlateau reducing learning rate to 0.0023360000923275948.\n",
            "Epoch 15/30\n",
            " - 4s - loss: 0.5229 - my_iou_metric_2: 0.0000e+00 - val_loss: 0.5148 - val_my_iou_metric_2: 0.0000e+00\n",
            "Epoch 16/30\n",
            " - 4s - loss: 0.5143 - my_iou_metric_2: 0.0000e+00 - val_loss: 0.5687 - val_my_iou_metric_2: 0.0000e+00\n",
            "\n",
            "Epoch 00016: ReduceLROnPlateau reducing learning rate to 0.002669000066816807.\n",
            "Epoch 17/30\n",
            " - 4s - loss: 0.5124 - my_iou_metric_2: 0.0012 - val_loss: 0.5176 - val_my_iou_metric_2: 0.0000e+00\n",
            "Epoch 18/30\n",
            " - 3s - loss: 0.5109 - my_iou_metric_2: 0.0052 - val_loss: 0.5238 - val_my_iou_metric_2: 0.0000e+00\n",
            "\n",
            "Epoch 00018: ReduceLROnPlateau reducing learning rate to 0.003002000041306019.\n",
            "Epoch 19/30\n",
            " - 3s - loss: 0.5078 - my_iou_metric_2: 0.0255 - val_loss: 0.5183 - val_my_iou_metric_2: 0.0000e+00\n",
            "Epoch 20/30\n",
            " - 3s - loss: 0.5078 - my_iou_metric_2: 0.1190 - val_loss: 0.5292 - val_my_iou_metric_2: 0.0000e+00\n",
            "\n",
            "Epoch 00020: ReduceLROnPlateau reducing learning rate to 0.003335000015795231.\n",
            "Epoch 21/30\n",
            " - 3s - loss: 0.5068 - my_iou_metric_2: 0.0395 - val_loss: 0.5500 - val_my_iou_metric_2: 0.0000e+00\n",
            "Epoch 22/30\n",
            " - 4s - loss: 0.5226 - my_iou_metric_2: 0.0082 - val_loss: 1.6916 - val_my_iou_metric_2: 0.0000e+00\n",
            "\n",
            "Epoch 00022: ReduceLROnPlateau reducing learning rate to 0.003667999990284443.\n",
            "Epoch 23/30\n",
            " - 3s - loss: 0.5093 - my_iou_metric_2: 0.0112 - val_loss: 1.0582 - val_my_iou_metric_2: 0.0000e+00\n",
            "Epoch 24/30\n",
            " - 3s - loss: 0.5167 - my_iou_metric_2: 0.0172 - val_loss: 0.5675 - val_my_iou_metric_2: 0.0000e+00\n",
            "\n",
            "Epoch 00024: ReduceLROnPlateau reducing learning rate to 0.004000999964773655.\n",
            "Epoch 25/30\n",
            " - 4s - loss: 0.5177 - my_iou_metric_2: 0.0770 - val_loss: 0.5442 - val_my_iou_metric_2: 0.0000e+00\n",
            "Epoch 26/30\n",
            " - 4s - loss: 0.5303 - my_iou_metric_2: 0.0242 - val_loss: 1.6046 - val_my_iou_metric_2: 0.0000e+00\n",
            "\n",
            "Epoch 00026: ReduceLROnPlateau reducing learning rate to 0.004333999939262867.\n",
            "Epoch 27/30\n",
            " - 4s - loss: 0.5112 - my_iou_metric_2: 0.0020 - val_loss: 0.8675 - val_my_iou_metric_2: 0.0000e+00\n",
            "Epoch 28/30\n",
            " - 4s - loss: 0.5056 - my_iou_metric_2: 0.0108 - val_loss: 0.5267 - val_my_iou_metric_2: 0.0032\n",
            "\n",
            "Epoch 00028: ReduceLROnPlateau reducing learning rate to 0.004666999913752079.\n",
            "Epoch 29/30\n",
            " - 4s - loss: 0.5052 - my_iou_metric_2: 0.0040 - val_loss: 0.5275 - val_my_iou_metric_2: 0.0000e+00\n",
            "Epoch 30/30\n",
            " - 4s - loss: 0.5030 - my_iou_metric_2: 0.0016 - val_loss: 0.5185 - val_my_iou_metric_2: 0.0000e+00\n",
            "\n",
            "Epoch 00030: ReduceLROnPlateau reducing learning rate to 0.004999999888241291.\n"
          ],
          "name": "stdout"
        },
        {
          "output_type": "display_data",
          "data": {
            "image/png": "[encoded data removed]",
            "text/plain": [
              "<Figure size 432x288 with 1 Axes>"
            ]
          },
          "metadata": {
            "tags": []
          }
        }
      ]
    },
    {
      "cell_type": "code",
      "metadata": {
        "id": "qX5l05W18aTn",
        "colab_type": "code",
        "colab": {
          "base_uri": "https://localhost:8080/",
          "height": 244
        },
        "outputId": "550369c4-efba-4391-bfd0-16b391f5c7c0"
      },
      "source": [
        "encoded_imgs = model.predict(x_val)\n",
        "decoded_imgs = model.predict(encoded_imgs)\n",
        "\n",
        "plot_results(x_test, decoded_imgs)"
      ],
      "execution_count": 57,
      "outputs": [
        {
          "output_type": "display_data",
          "data": {
            "image/png": "[encoded data removed]",
            "text/plain": [
              "<Figure size 1440x288 with 20 Axes>"
            ]
          },
          "metadata": {
            "tags": []
          }
        }
      ]
    },
    {
      "cell_type": "code",
      "metadata": {
        "id": "nZA-Fb194X3B",
        "colab_type": "code",
        "colab": {
          "base_uri": "https://localhost:8080/",
          "height": 1000
        },
        "outputId": "78b03826-3354-47cb-e8d2-c748dc80c6ab"
      },
      "source": [
        "# Test1-2: continue with Lovasz Loss\n",
        "mt1 = time.time()\n",
        "model = load_model(save_model_name,custom_objects={'my_iou_metric': my_iou_metric})\n",
        "input_x = model.layers[0].input\n",
        "output_layer = model.layers[-1].input\n",
        "model = Model(input_x, output_layer)\n",
        "\n",
        "save_model_name = basic_name + '.model2'\n",
        "early_stopping = EarlyStopping(monitor='val_my_iou_metric_2', mode = 'max',patience=20, verbose=1)\n",
        "model_checkpoint = ModelCheckpoint(save_model_name,monitor='val_my_iou_metric_2', \n",
        "                                   mode = 'max', save_best_only=True, verbose=1)\n",
        "reduce_lr = ReduceLROnPlateau(monitor='val_my_iou_metric_2', mode = 'max',factor=0.5, patience=2, min_lr=0.00001, verbose=1)\n",
        "epochs = 30\n",
        "batch_size = 32\n",
        "epoch_size = len(x_trn)\n",
        "lr=0.001\n",
        "schedule = SGDRScheduler(min_lr=1e-5,\n",
        "                        max_lr=1e-3,\n",
        "                        steps_per_epoch=np.ceil(epoch_size/batch_size),\n",
        "                        lr_decay=0.9,\n",
        "                        cycle_length=5,\n",
        "                        mult_factor=1.5)\n",
        "c = optimizers.adam(lr = lr)\n",
        "model.compile(loss=lovasz_loss, optimizer=c, metrics=[my_iou_metric_2])\n",
        "history = model.fit(x_trn, y_trn,\n",
        "                    validation_data=[x_val, y_val], \n",
        "                    epochs=epochs,\n",
        "                    batch_size=batch_size,\n",
        "                    callbacks=[schedule,reduce_lr,model_checkpoint], \n",
        "                    verbose=2)\n",
        "mt2 = time.time()\n",
        "print(f\"Test1-2 {epochs,batch_size} runtime = {(mt2-mt1)/60} mins\")\n",
        "print(\"Evaluation on X_valid:\", model.evaluate(x_valid, y_valid))"
      ],
      "execution_count": 58,
      "outputs": [
        {
          "output_type": "stream",
          "text": [
            "Train on 501 samples, validate on 126 samples\n",
            "Epoch 1/30\n"
          ],
          "name": "stdout"
        },
        {
          "output_type": "stream",
          "text": [
            "/usr/local/lib/python3.6/dist-packages/keras/callbacks.py:122: UserWarning: Method on_batch_end() is slow compared to the batch update (1.413728). Check your callbacks.\n",
            "  % delta_t_median)\n"
          ],
          "name": "stderr"
        },
        {
          "output_type": "stream",
          "text": [
            " - 19s - loss: 0.7244 - my_iou_metric_2: 0.0114 - val_loss: 0.6112 - val_my_iou_metric_2: 0.3087\n",
            "\n",
            "Epoch 00001: val_my_iou_metric_2 improved from -inf to 0.30873, saving model to LR_midsurface_v1.model2\n",
            "Epoch 2/30\n",
            " - 4s - loss: 0.6319 - my_iou_metric_2: 1.9960e-04 - val_loss: 0.5941 - val_my_iou_metric_2: 0.1127\n",
            "\n",
            "Epoch 00002: val_my_iou_metric_2 did not improve from 0.30873\n",
            "Epoch 3/30\n",
            " - 4s - loss: 0.6050 - my_iou_metric_2: 0.0000e+00 - val_loss: 0.5937 - val_my_iou_metric_2: 0.0127\n",
            "\n",
            "Epoch 00003: ReduceLROnPlateau reducing learning rate to 0.00017601829313207418.\n",
            "\n",
            "Epoch 00003: val_my_iou_metric_2 did not improve from 0.30873\n",
            "Epoch 4/30\n",
            " - 4s - loss: 0.5944 - my_iou_metric_2: 0.0000e+00 - val_loss: 0.5956 - val_my_iou_metric_2: 0.0095\n",
            "\n",
            "Epoch 00004: val_my_iou_metric_2 did not improve from 0.30873\n",
            "Epoch 5/30\n",
            " - 4s - loss: 0.5919 - my_iou_metric_2: 0.0000e+00 - val_loss: 0.5899 - val_my_iou_metric_2: 0.0000e+00\n",
            "\n",
            "Epoch 00005: val_my_iou_metric_2 did not improve from 0.30873\n",
            "Epoch 6/30\n",
            " - 4s - loss: 0.5765 - my_iou_metric_2: 0.0000e+00 - val_loss: 0.5731 - val_my_iou_metric_2: 0.1571\n",
            "\n",
            "Epoch 00006: ReduceLROnPlateau reducing learning rate to 0.0004330631927587092.\n",
            "\n",
            "Epoch 00006: val_my_iou_metric_2 did not improve from 0.30873\n",
            "Epoch 7/30\n",
            " - 4s - loss: 0.5817 - my_iou_metric_2: 0.0000e+00 - val_loss: 0.5800 - val_my_iou_metric_2: 0.1063\n",
            "\n",
            "Epoch 00007: val_my_iou_metric_2 did not improve from 0.30873\n",
            "Epoch 8/30\n",
            " - 4s - loss: 0.5759 - my_iou_metric_2: 0.0000e+00 - val_loss: 0.5712 - val_my_iou_metric_2: 0.2389\n",
            "\n",
            "Epoch 00008: ReduceLROnPlateau reducing learning rate to 0.00031264705467037857.\n",
            "\n",
            "Epoch 00008: val_my_iou_metric_2 did not improve from 0.30873\n",
            "Epoch 9/30\n",
            " - 4s - loss: 0.5728 - my_iou_metric_2: 0.0000e+00 - val_loss: 0.5666 - val_my_iou_metric_2: 0.2770\n",
            "\n",
            "Epoch 00009: val_my_iou_metric_2 did not improve from 0.30873\n",
            "Epoch 10/30\n",
            " - 4s - loss: 0.5642 - my_iou_metric_2: 5.9880e-04 - val_loss: 0.5598 - val_my_iou_metric_2: 0.3230\n",
            "\n",
            "Epoch 00010: val_my_iou_metric_2 improved from 0.30873 to 0.32302, saving model to LR_midsurface_v1.model2\n",
            "Epoch 11/30\n",
            " - 4s - loss: 0.5598 - my_iou_metric_2: 0.0012 - val_loss: 0.5610 - val_my_iou_metric_2: 0.3151\n",
            "\n",
            "Epoch 00011: val_my_iou_metric_2 did not improve from 0.32302\n",
            "Epoch 12/30\n",
            " - 4s - loss: 0.5605 - my_iou_metric_2: 0.0032 - val_loss: 0.5588 - val_my_iou_metric_2: 0.3016\n",
            "\n",
            "Epoch 00012: ReduceLROnPlateau reducing learning rate to 2.1936804841971025e-05.\n",
            "\n",
            "Epoch 00012: val_my_iou_metric_2 did not improve from 0.32302\n",
            "Epoch 13/30\n",
            " - 4s - loss: 0.5586 - my_iou_metric_2: 0.0030 - val_loss: 0.5577 - val_my_iou_metric_2: 0.2937\n",
            "\n",
            "Epoch 00013: val_my_iou_metric_2 did not improve from 0.32302\n",
            "Epoch 14/30\n",
            " - 4s - loss: 0.5567 - my_iou_metric_2: 0.0148 - val_loss: 0.5540 - val_my_iou_metric_2: 0.3619\n",
            "\n",
            "Epoch 00014: val_my_iou_metric_2 improved from 0.32302 to 0.36190, saving model to LR_midsurface_v1.model2\n",
            "Epoch 15/30\n",
            " - 4s - loss: 0.5520 - my_iou_metric_2: 0.0411 - val_loss: 0.5476 - val_my_iou_metric_2: 0.3968\n",
            "\n",
            "Epoch 00015: val_my_iou_metric_2 improved from 0.36190 to 0.39683, saving model to LR_midsurface_v1.model2\n",
            "Epoch 16/30\n",
            " - 4s - loss: 0.5488 - my_iou_metric_2: 0.0429 - val_loss: 0.5417 - val_my_iou_metric_2: 0.3937\n",
            "\n",
            "Epoch 00016: val_my_iou_metric_2 did not improve from 0.39683\n",
            "Epoch 17/30\n",
            " - 4s - loss: 0.5439 - my_iou_metric_2: 0.0507 - val_loss: 0.5432 - val_my_iou_metric_2: 0.3381\n",
            "\n",
            "Epoch 00017: ReduceLROnPlateau reducing learning rate to 0.00030499999411404133.\n",
            "\n",
            "Epoch 00017: val_my_iou_metric_2 did not improve from 0.39683\n",
            "Epoch 18/30\n",
            " - 4s - loss: 0.5429 - my_iou_metric_2: 0.0417 - val_loss: 0.5439 - val_my_iou_metric_2: 0.3841\n",
            "\n",
            "Epoch 00018: val_my_iou_metric_2 did not improve from 0.39683\n",
            "Epoch 19/30\n",
            " - 4s - loss: 0.5423 - my_iou_metric_2: 0.0818 - val_loss: 0.5410 - val_my_iou_metric_2: 0.3873\n",
            "\n",
            "Epoch 00019: ReduceLROnPlateau reducing learning rate to 0.00020500000391621143.\n",
            "\n",
            "Epoch 00019: val_my_iou_metric_2 did not improve from 0.39683\n",
            "Epoch 20/30\n",
            " - 4s - loss: 0.5423 - my_iou_metric_2: 0.0908 - val_loss: 0.5408 - val_my_iou_metric_2: 0.3540\n",
            "\n",
            "Epoch 00020: val_my_iou_metric_2 did not improve from 0.39683\n",
            "Epoch 21/30\n",
            " - 4s - loss: 0.5404 - my_iou_metric_2: 0.0946 - val_loss: 0.5382 - val_my_iou_metric_2: 0.3492\n",
            "\n",
            "Epoch 00021: ReduceLROnPlateau reducing learning rate to 0.0001049999991664663.\n",
            "\n",
            "Epoch 00021: val_my_iou_metric_2 did not improve from 0.39683\n",
            "Epoch 22/30\n",
            " - 4s - loss: 0.5405 - my_iou_metric_2: 0.0741 - val_loss: 0.5366 - val_my_iou_metric_2: 0.3619\n",
            "\n",
            "Epoch 00022: val_my_iou_metric_2 did not improve from 0.39683\n",
            "Epoch 23/30\n",
            " - 4s - loss: 0.5398 - my_iou_metric_2: 0.0725 - val_loss: 0.5364 - val_my_iou_metric_2: 0.3659\n",
            "\n",
            "Epoch 00023: ReduceLROnPlateau reducing learning rate to 3.179491977789439e-05.\n",
            "\n",
            "Epoch 00023: val_my_iou_metric_2 did not improve from 0.39683\n",
            "Epoch 24/30\n",
            " - 4s - loss: 0.5393 - my_iou_metric_2: 0.0866 - val_loss: 0.5363 - val_my_iou_metric_2: 0.3611\n",
            "\n",
            "Epoch 00024: val_my_iou_metric_2 did not improve from 0.39683\n",
            "Epoch 25/30\n",
            " - 4s - loss: 0.5397 - my_iou_metric_2: 0.0723 - val_loss: 0.5364 - val_my_iou_metric_2: 0.3460\n",
            "\n",
            "Epoch 00025: val_my_iou_metric_2 did not improve from 0.39683\n",
            "Epoch 26/30\n",
            " - 4s - loss: 0.5429 - my_iou_metric_2: 0.0317 - val_loss: 0.5468 - val_my_iou_metric_2: 0.0317\n",
            "\n",
            "Epoch 00026: ReduceLROnPlateau reducing learning rate to 0.00036176919820718467.\n",
            "\n",
            "Epoch 00026: val_my_iou_metric_2 did not improve from 0.39683\n",
            "Epoch 27/30\n",
            " - 4s - loss: 0.5469 - my_iou_metric_2: 1.9960e-04 - val_loss: 0.5469 - val_my_iou_metric_2: 0.0881\n",
            "\n",
            "Epoch 00027: val_my_iou_metric_2 did not improve from 0.39683\n",
            "Epoch 28/30\n",
            " - 4s - loss: 0.5412 - my_iou_metric_2: 0.0176 - val_loss: 0.5436 - val_my_iou_metric_2: 0.2000\n",
            "\n",
            "Epoch 00028: ReduceLROnPlateau reducing learning rate to 0.00034041807521134615.\n",
            "\n",
            "Epoch 00028: val_my_iou_metric_2 did not improve from 0.39683\n",
            "Epoch 29/30\n",
            " - 4s - loss: 0.5393 - my_iou_metric_2: 0.0457 - val_loss: 0.5436 - val_my_iou_metric_2: 0.3333\n",
            "\n",
            "Epoch 00029: val_my_iou_metric_2 did not improve from 0.39683\n",
            "Epoch 30/30\n",
            " - 4s - loss: 0.5371 - my_iou_metric_2: 0.0493 - val_loss: 0.5377 - val_my_iou_metric_2: 0.3024\n",
            "\n",
            "Epoch 00030: ReduceLROnPlateau reducing learning rate to 0.0003002910816576332.\n",
            "\n",
            "Epoch 00030: val_my_iou_metric_2 did not improve from 0.39683\n",
            "Test1-2 (30, 32) runtime = 8.624398557345073 mins\n",
            "157/157 [==============================] - 0s 2ms/step\n",
            "Evaluation on X_valid: [0.5325769937721787, 0.32420382165605094]\n"
          ],
          "name": "stdout"
        }
      ]
    },
    {
      "cell_type": "code",
      "metadata": {
        "id": "N3_-86T88gEu",
        "colab_type": "code",
        "colab": {
          "base_uri": "https://localhost:8080/",
          "height": 244
        },
        "outputId": "215078a5-9409-44bb-ebf3-27edf2623f12"
      },
      "source": [
        "encoded_imgs = model.predict(x_val)\n",
        "decoded_imgs = model.predict(encoded_imgs)\n",
        "\n",
        "plot_results(x_test, decoded_imgs)"
      ],
      "execution_count": 59,
      "outputs": [
        {
          "output_type": "display_data",
          "data": {
            "image/png": "[encoded data removed]",
            "text/plain": [
              "<Figure size 1440x288 with 20 Axes>"
            ]
          },
          "metadata": {
            "tags": []
          }
        }
      ]
    },
    {
      "cell_type": "code",
      "metadata": {
        "id": "OSUtN2bg4imy",
        "colab_type": "code",
        "colab": {
          "base_uri": "https://localhost:8080/",
          "height": 349
        },
        "outputId": "89524024-dcfe-4b1c-c51d-5154b1930248"
      },
      "source": [
        "#Test1-2 Performance\n",
        "fig, (ax_loss, ax_score) = plt.subplots(1, 2, figsize=(15,5))\n",
        "ax_loss.plot(history.epoch, history.history[\"loss\"], label=\"Train loss\")\n",
        "ax_loss.plot(history.epoch, history.history[\"val_loss\"], label=\"Validation loss\")\n",
        "ax_loss.legend()\n",
        "plt.title('ResUNet: Continue on Lovasz Loss')\n",
        "ax_score.plot(history.epoch, history.history[\"my_iou_metric_2\"], label=\"Train score\")\n",
        "ax_score.plot(history.epoch, history.history[\"val_my_iou_metric_2\"], label=\"Validation score\")\n",
        "ax_score.legend()\n",
        "plt.title('Cosine annealing learning rate scheduler with periodic restarts')"
      ],
      "execution_count": 60,
      "outputs": [
        {
          "output_type": "execute_result",
          "data": {
            "text/plain": [
              "Text(0.5, 1.0, 'Cosine annealing learning rate scheduler with periodic restarts')"
            ]
          },
          "metadata": {
            "tags": []
          },
          "execution_count": 60
        },
        {
          "output_type": "display_data",
          "data": {
            "image/png": "[encoded data removed]",
            "text/plain": [
              "<Figure size 1080x360 with 2 Axes>"
            ]
          },
          "metadata": {
            "tags": []
          }
        }
      ]
    },
    {
      "cell_type": "code",
      "metadata": {
        "id": "lTlFXnN34ir3",
        "colab_type": "code",
        "colab": {
          "base_uri": "https://localhost:8080/",
          "height": 1000
        },
        "outputId": "fbc58a23-29b6-4fd7-cfb4-7cd2dc30ac47"
      },
      "source": [
        "# Test2-1 -- ResUnet with binary_crossentropy loss\n",
        "# Without cosine annealing learning rate scheduler with periodic restarts\n",
        "\n",
        "mt1 = time.time()\n",
        "save_model_name = basic_name + '.model3'\n",
        "input_layer = Input((img_size_target, img_size_target, 1))\n",
        "output_layer = build_model(input_layer, 16,0.25)\n",
        "model = Model(input_layer, output_layer)\n",
        "\n",
        "model_checkpoint = ModelCheckpoint(save_model_name,monitor='my_iou_metric', \n",
        "                                   mode = 'max', save_best_only=True, verbose=1)\n",
        "reduce_lr = ReduceLROnPlateau(monitor='my_iou_metric', mode = 'max',factor=0.5, patience=3, min_lr=0.0001, verbose=1)\n",
        "\n",
        "epochs = 30\n",
        "batch_size = 32\n",
        "epoch_size = len(x_trn)\n",
        "lr=0.01\n",
        "\n",
        "optimizer = optimizers.adam(lr = lr)\n",
        "model.compile(loss=\"binary_crossentropy\", optimizer=optimizer, metrics=[my_iou_metric])\n",
        "\n",
        "history = model.fit(x_trn, y_trn,\n",
        "                    validation_data=[x_val, y_val], \n",
        "                    epochs=epochs,\n",
        "                    batch_size=batch_size,\n",
        "                    callbacks=[reduce_lr, model_checkpoint], \n",
        "                    verbose=2)\n",
        "mt2 = time.time()\n",
        "print(f\"Test2-1 {epochs,batch_size} runtime = {(mt2-mt1)/60} mins\")\n",
        "print(\"Evaluation on X_valid:\", model.evaluate(x_valid, y_valid))"
      ],
      "execution_count": 61,
      "outputs": [
        {
          "output_type": "stream",
          "text": [
            "Train on 501 samples, validate on 126 samples\n",
            "Epoch 1/30\n",
            " - 39s - loss: -1.4517e+01 - my_iou_metric: 0.0000e+00 - val_loss: -7.4319e+00 - val_my_iou_metric: 0.0000e+00\n",
            "\n",
            "Epoch 00001: my_iou_metric improved from -inf to 0.00000, saving model to LR_midsurface_v1.model3\n",
            "Epoch 2/30\n",
            " - 3s - loss: -1.6417e+01 - my_iou_metric: 0.0000e+00 - val_loss: -1.2577e+01 - val_my_iou_metric: 0.0000e+00\n",
            "\n",
            "Epoch 00002: my_iou_metric did not improve from 0.00000\n",
            "Epoch 3/30\n",
            " - 3s - loss: -1.6499e+01 - my_iou_metric: 0.0000e+00 - val_loss: -1.4404e+01 - val_my_iou_metric: 0.0000e+00\n",
            "\n",
            "Epoch 00003: my_iou_metric did not improve from 0.00000\n",
            "Epoch 4/30\n",
            " - 3s - loss: -1.6658e+01 - my_iou_metric: 0.0000e+00 - val_loss: -1.5806e+01 - val_my_iou_metric: 0.0000e+00\n",
            "\n",
            "Epoch 00004: ReduceLROnPlateau reducing learning rate to 0.004999999888241291.\n",
            "\n",
            "Epoch 00004: my_iou_metric did not improve from 0.00000\n",
            "Epoch 5/30\n",
            " - 3s - loss: -1.6727e+01 - my_iou_metric: 0.0000e+00 - val_loss: -1.6257e+01 - val_my_iou_metric: 0.0000e+00\n",
            "\n",
            "Epoch 00005: my_iou_metric did not improve from 0.00000\n",
            "Epoch 6/30\n",
            " - 3s - loss: -1.6787e+01 - my_iou_metric: 0.0000e+00 - val_loss: -1.6484e+01 - val_my_iou_metric: 0.0000e+00\n",
            "\n",
            "Epoch 00006: my_iou_metric did not improve from 0.00000\n",
            "Epoch 7/30\n",
            " - 3s - loss: -1.6814e+01 - my_iou_metric: 0.0000e+00 - val_loss: -1.6607e+01 - val_my_iou_metric: 0.0000e+00\n",
            "\n",
            "Epoch 00007: ReduceLROnPlateau reducing learning rate to 0.0024999999441206455.\n",
            "\n",
            "Epoch 00007: my_iou_metric did not improve from 0.00000\n",
            "Epoch 8/30\n",
            " - 3s - loss: -1.6844e+01 - my_iou_metric: 0.0000e+00 - val_loss: -1.6565e+01 - val_my_iou_metric: 0.0000e+00\n",
            "\n",
            "Epoch 00008: my_iou_metric did not improve from 0.00000\n",
            "Epoch 9/30\n",
            " - 3s - loss: -1.6828e+01 - my_iou_metric: 0.0000e+00 - val_loss: -1.6413e+01 - val_my_iou_metric: 7.9365e-04\n",
            "\n",
            "Epoch 00009: my_iou_metric did not improve from 0.00000\n",
            "Epoch 10/30\n",
            " - 3s - loss: -1.6855e+01 - my_iou_metric: 0.0000e+00 - val_loss: -1.4411e+01 - val_my_iou_metric: 0.0000e+00\n",
            "\n",
            "Epoch 00010: ReduceLROnPlateau reducing learning rate to 0.0012499999720603228.\n",
            "\n",
            "Epoch 00010: my_iou_metric did not improve from 0.00000\n",
            "Epoch 11/30\n",
            " - 3s - loss: -1.6879e+01 - my_iou_metric: 0.0000e+00 - val_loss: -1.4616e+01 - val_my_iou_metric: 0.0468\n",
            "\n",
            "Epoch 00011: my_iou_metric did not improve from 0.00000\n",
            "Epoch 12/30\n",
            " - 3s - loss: -1.6889e+01 - my_iou_metric: 0.0000e+00 - val_loss: -1.5583e+01 - val_my_iou_metric: 0.1421\n",
            "\n",
            "Epoch 00012: my_iou_metric did not improve from 0.00000\n",
            "Epoch 13/30\n",
            " - 3s - loss: -1.6908e+01 - my_iou_metric: 0.0000e+00 - val_loss: -1.6058e+01 - val_my_iou_metric: 0.0889\n",
            "\n",
            "Epoch 00013: ReduceLROnPlateau reducing learning rate to 0.0006249999860301614.\n",
            "\n",
            "Epoch 00013: my_iou_metric did not improve from 0.00000\n",
            "Epoch 14/30\n",
            " - 3s - loss: -1.6918e+01 - my_iou_metric: 0.0000e+00 - val_loss: -1.6135e+01 - val_my_iou_metric: 0.0032\n",
            "\n",
            "Epoch 00014: my_iou_metric did not improve from 0.00000\n",
            "Epoch 15/30\n",
            " - 3s - loss: -1.6920e+01 - my_iou_metric: 0.0000e+00 - val_loss: -1.5979e+01 - val_my_iou_metric: 0.0000e+00\n",
            "\n",
            "Epoch 00015: my_iou_metric did not improve from 0.00000\n",
            "Epoch 16/30\n",
            " - 3s - loss: -1.6943e+01 - my_iou_metric: 0.0000e+00 - val_loss: -1.5287e+01 - val_my_iou_metric: 0.0000e+00\n",
            "\n",
            "Epoch 00016: ReduceLROnPlateau reducing learning rate to 0.0003124999930150807.\n",
            "\n",
            "Epoch 00016: my_iou_metric did not improve from 0.00000\n",
            "Epoch 17/30\n",
            " - 3s - loss: -1.6932e+01 - my_iou_metric: 0.0000e+00 - val_loss: -1.5100e+01 - val_my_iou_metric: 0.0000e+00\n",
            "\n",
            "Epoch 00017: my_iou_metric did not improve from 0.00000\n",
            "Epoch 18/30\n",
            " - 3s - loss: -1.6950e+01 - my_iou_metric: 0.0000e+00 - val_loss: -1.5181e+01 - val_my_iou_metric: 0.0000e+00\n",
            "\n",
            "Epoch 00018: my_iou_metric did not improve from 0.00000\n",
            "Epoch 19/30\n",
            " - 3s - loss: -1.6947e+01 - my_iou_metric: 0.0000e+00 - val_loss: -1.5004e+01 - val_my_iou_metric: 0.0000e+00\n",
            "\n",
            "Epoch 00019: ReduceLROnPlateau reducing learning rate to 0.00015624999650754035.\n",
            "\n",
            "Epoch 00019: my_iou_metric did not improve from 0.00000\n",
            "Epoch 20/30\n",
            " - 3s - loss: -1.6946e+01 - my_iou_metric: 0.0000e+00 - val_loss: -1.4997e+01 - val_my_iou_metric: 0.0000e+00\n",
            "\n",
            "Epoch 00020: my_iou_metric did not improve from 0.00000\n",
            "Epoch 21/30\n",
            " - 3s - loss: -1.6952e+01 - my_iou_metric: 0.0000e+00 - val_loss: -1.5520e+01 - val_my_iou_metric: 0.0000e+00\n",
            "\n",
            "Epoch 00021: my_iou_metric did not improve from 0.00000\n",
            "Epoch 22/30\n",
            " - 3s - loss: -1.6962e+01 - my_iou_metric: 0.0000e+00 - val_loss: -1.5651e+01 - val_my_iou_metric: 0.0000e+00\n",
            "\n",
            "Epoch 00022: ReduceLROnPlateau reducing learning rate to 0.0001.\n",
            "\n",
            "Epoch 00022: my_iou_metric did not improve from 0.00000\n",
            "Epoch 23/30\n",
            " - 3s - loss: -1.6950e+01 - my_iou_metric: 0.0000e+00 - val_loss: -1.5745e+01 - val_my_iou_metric: 0.0000e+00\n",
            "\n",
            "Epoch 00023: my_iou_metric did not improve from 0.00000\n",
            "Epoch 24/30\n",
            " - 3s - loss: -1.6940e+01 - my_iou_metric: 0.0000e+00 - val_loss: -1.6239e+01 - val_my_iou_metric: 0.0000e+00\n",
            "\n",
            "Epoch 00024: my_iou_metric did not improve from 0.00000\n",
            "Epoch 25/30\n",
            " - 3s - loss: -1.6945e+01 - my_iou_metric: 0.0000e+00 - val_loss: -1.6485e+01 - val_my_iou_metric: 0.0000e+00\n",
            "\n",
            "Epoch 00025: my_iou_metric did not improve from 0.00000\n",
            "Epoch 26/30\n",
            " - 3s - loss: -1.6949e+01 - my_iou_metric: 0.0000e+00 - val_loss: -1.6603e+01 - val_my_iou_metric: 0.0000e+00\n",
            "\n",
            "Epoch 00026: my_iou_metric did not improve from 0.00000\n",
            "Epoch 27/30\n",
            " - 3s - loss: -1.6954e+01 - my_iou_metric: 0.0000e+00 - val_loss: -1.6644e+01 - val_my_iou_metric: 0.0000e+00\n",
            "\n",
            "Epoch 00027: my_iou_metric did not improve from 0.00000\n",
            "Epoch 28/30\n",
            " - 3s - loss: -1.6961e+01 - my_iou_metric: 0.0000e+00 - val_loss: -1.6622e+01 - val_my_iou_metric: 0.0000e+00\n",
            "\n",
            "Epoch 00028: my_iou_metric did not improve from 0.00000\n",
            "Epoch 29/30\n",
            " - 3s - loss: -1.6958e+01 - my_iou_metric: 0.0000e+00 - val_loss: -1.6657e+01 - val_my_iou_metric: 0.0000e+00\n",
            "\n",
            "Epoch 00029: my_iou_metric did not improve from 0.00000\n",
            "Epoch 30/30\n",
            " - 3s - loss: -1.6961e+01 - my_iou_metric: 0.0000e+00 - val_loss: -1.6651e+01 - val_my_iou_metric: 0.0000e+00\n",
            "\n",
            "Epoch 00030: my_iou_metric did not improve from 0.00000\n",
            "Test2-1 (30, 32) runtime = 7.45637080669403 mins\n",
            "157/157 [==============================] - 0s 2ms/step\n",
            "Evaluation on X_valid: [-17.136858557439915, 0.0]\n"
          ],
          "name": "stdout"
        }
      ]
    },
    {
      "cell_type": "code",
      "metadata": {
        "id": "mJSfYyns_LPo",
        "colab_type": "code",
        "colab": {
          "base_uri": "https://localhost:8080/",
          "height": 244
        },
        "outputId": "d363933b-60f4-452b-c787-eb576310d2f5"
      },
      "source": [
        "encoded_imgs = model.predict(x_val)\n",
        "decoded_imgs = model.predict(encoded_imgs)\n",
        "\n",
        "plot_results(x_test, decoded_imgs)"
      ],
      "execution_count": 62,
      "outputs": [
        {
          "output_type": "display_data",
          "data": {
            "image/png": "[encoded data removed]",
            "text/plain": [
              "<Figure size 1440x288 with 20 Axes>"
            ]
          },
          "metadata": {
            "tags": []
          }
        }
      ]
    },
    {
      "cell_type": "code",
      "metadata": {
        "id": "66VSgabz4tAk",
        "colab_type": "code",
        "colab": {
          "base_uri": "https://localhost:8080/",
          "height": 349
        },
        "outputId": "c914e88d-5c74-40e0-96f7-1e61d90a056d"
      },
      "source": [
        "#Test2-1 Performance\n",
        "fig, (ax_loss, ax_score) = plt.subplots(1, 2, figsize=(15,5))\n",
        "ax_loss.plot(history.epoch, history.history[\"loss\"], label=\"Train loss\")\n",
        "ax_loss.plot(history.epoch, history.history[\"val_loss\"], label=\"Validation loss\")\n",
        "ax_loss.legend()\n",
        "plt.title('ResUNet: Binary Crossentropy Loss')\n",
        "ax_score.plot(history.epoch, history.history[\"my_iou_metric\"], label=\"Train score\")\n",
        "ax_score.plot(history.epoch, history.history[\"val_my_iou_metric\"], label=\"Validation score\")\n",
        "ax_score.legend()\n",
        "plt.title('Without cosine annealing learning rate scheduler with periodic restarts')"
      ],
      "execution_count": 63,
      "outputs": [
        {
          "output_type": "execute_result",
          "data": {
            "text/plain": [
              "Text(0.5, 1.0, 'Without cosine annealing learning rate scheduler with periodic restarts')"
            ]
          },
          "metadata": {
            "tags": []
          },
          "execution_count": 63
        },
        {
          "output_type": "display_data",
          "data": {
            "image/png": "[encoded data removed]",
            "text/plain": [
              "<Figure size 1080x360 with 2 Axes>"
            ]
          },
          "metadata": {
            "tags": []
          }
        }
      ]
    },
    {
      "cell_type": "code",
      "metadata": {
        "id": "Rld9NPQI4tHr",
        "colab_type": "code",
        "colab": {
          "base_uri": "https://localhost:8080/",
          "height": 1000
        },
        "outputId": "6036aa36-b510-4ca6-a5ea-3ec5ca719d84"
      },
      "source": [
        "# Test2-2: continue with Lovasz Loss\n",
        "mt1 = time.time()\n",
        "model = load_model(save_model_name,custom_objects={'my_iou_metric': my_iou_metric})\n",
        "input_x = model.layers[0].input\n",
        "output_layer = model.layers[-1].input\n",
        "model = Model(input_x, output_layer)\n",
        "\n",
        "save_model_name = basic_name + '.model2'\n",
        "early_stopping = EarlyStopping(monitor='val_my_iou_metric_2', mode = 'max',patience=20, verbose=1)\n",
        "model_checkpoint = ModelCheckpoint(save_model_name,monitor='val_my_iou_metric_2', \n",
        "                                   mode = 'max', save_best_only=True, verbose=1)\n",
        "reduce_lr = ReduceLROnPlateau(monitor='val_my_iou_metric_2', mode = 'max',factor=0.5, patience=2, min_lr=0.00001, verbose=1)\n",
        "epochs = 30\n",
        "batch_size = 32\n",
        "epoch_size = len(x_trn)\n",
        "lr=0.001\n",
        "c = optimizers.adam(lr = lr)\n",
        "model.compile(loss=lovasz_loss, optimizer=c, metrics=[my_iou_metric_2])\n",
        "history = model.fit(x_trn, y_trn,\n",
        "                    validation_data=[x_val, y_val], \n",
        "                    epochs=epochs,\n",
        "                    batch_size=batch_size,\n",
        "                    callbacks=[reduce_lr,model_checkpoint], \n",
        "                    verbose=2)\n",
        "mt2 = time.time()\n",
        "print(f\"Test2-2 {epochs,batch_size} runtime = {(mt2-mt1)/60} mins\")\n",
        "print(\"Evaluation on X_valid:\", model.evaluate(x_valid, y_valid))"
      ],
      "execution_count": 64,
      "outputs": [
        {
          "output_type": "stream",
          "text": [
            "Train on 501 samples, validate on 126 samples\n",
            "Epoch 1/30\n",
            " - 42s - loss: 0.9151 - my_iou_metric_2: 0.0000e+00 - val_loss: 0.7568 - val_my_iou_metric_2: 0.0000e+00\n",
            "\n",
            "Epoch 00001: val_my_iou_metric_2 improved from -inf to 0.00000, saving model to LR_midsurface_v1.model2\n",
            "Epoch 2/30\n",
            " - 4s - loss: 0.6793 - my_iou_metric_2: 0.0000e+00 - val_loss: 1.0350 - val_my_iou_metric_2: 0.0000e+00\n",
            "\n",
            "Epoch 00002: val_my_iou_metric_2 did not improve from 0.00000\n",
            "Epoch 3/30\n",
            " - 3s - loss: 0.6128 - my_iou_metric_2: 0.0000e+00 - val_loss: 0.5570 - val_my_iou_metric_2: 7.9365e-04\n",
            "\n",
            "Epoch 00003: val_my_iou_metric_2 improved from 0.00000 to 0.00079, saving model to LR_midsurface_v1.model2\n",
            "Epoch 4/30\n",
            " - 4s - loss: 0.5866 - my_iou_metric_2: 0.0000e+00 - val_loss: 0.5672 - val_my_iou_metric_2: 0.0000e+00\n",
            "\n",
            "Epoch 00004: val_my_iou_metric_2 did not improve from 0.00079\n",
            "Epoch 5/30\n",
            " - 4s - loss: 0.6047 - my_iou_metric_2: 0.0000e+00 - val_loss: 21.7430 - val_my_iou_metric_2: 0.0000e+00\n",
            "\n",
            "Epoch 00005: ReduceLROnPlateau reducing learning rate to 0.0005000000237487257.\n",
            "\n",
            "Epoch 00005: val_my_iou_metric_2 did not improve from 0.00079\n",
            "Epoch 6/30\n",
            " - 6s - loss: 0.5669 - my_iou_metric_2: 0.0000e+00 - val_loss: 10.3371 - val_my_iou_metric_2: 0.0000e+00\n",
            "\n",
            "Epoch 00006: val_my_iou_metric_2 did not improve from 0.00079\n",
            "Epoch 7/30\n",
            " - 6s - loss: 0.5682 - my_iou_metric_2: 0.0000e+00 - val_loss: 17.6448 - val_my_iou_metric_2: 0.0000e+00\n",
            "\n",
            "Epoch 00007: ReduceLROnPlateau reducing learning rate to 0.0002500000118743628.\n",
            "\n",
            "Epoch 00007: val_my_iou_metric_2 did not improve from 0.00079\n",
            "Epoch 8/30\n",
            " - 6s - loss: 0.5704 - my_iou_metric_2: 0.0000e+00 - val_loss: 2.7194 - val_my_iou_metric_2: 0.0000e+00\n",
            "\n",
            "Epoch 00008: val_my_iou_metric_2 did not improve from 0.00079\n",
            "Epoch 9/30\n",
            " - 6s - loss: 0.5632 - my_iou_metric_2: 0.0000e+00 - val_loss: 0.7987 - val_my_iou_metric_2: 0.0000e+00\n",
            "\n",
            "Epoch 00009: ReduceLROnPlateau reducing learning rate to 0.0001250000059371814.\n",
            "\n",
            "Epoch 00009: val_my_iou_metric_2 did not improve from 0.00079\n",
            "Epoch 10/30\n",
            " - 6s - loss: 0.5559 - my_iou_metric_2: 0.0000e+00 - val_loss: 0.6090 - val_my_iou_metric_2: 0.0000e+00\n",
            "\n",
            "Epoch 00010: val_my_iou_metric_2 did not improve from 0.00079\n",
            "Epoch 11/30\n",
            " - 6s - loss: 0.5502 - my_iou_metric_2: 0.0000e+00 - val_loss: 0.5398 - val_my_iou_metric_2: 0.0000e+00\n",
            "\n",
            "Epoch 00011: ReduceLROnPlateau reducing learning rate to 6.25000029685907e-05.\n",
            "\n",
            "Epoch 00011: val_my_iou_metric_2 did not improve from 0.00079\n",
            "Epoch 12/30\n",
            " - 6s - loss: 0.5491 - my_iou_metric_2: 0.0000e+00 - val_loss: 0.5249 - val_my_iou_metric_2: 0.0000e+00\n",
            "\n",
            "Epoch 00012: val_my_iou_metric_2 did not improve from 0.00079\n",
            "Epoch 13/30\n",
            " - 6s - loss: 0.5465 - my_iou_metric_2: 0.0000e+00 - val_loss: 0.5186 - val_my_iou_metric_2: 0.0000e+00\n",
            "\n",
            "Epoch 00013: ReduceLROnPlateau reducing learning rate to 3.125000148429535e-05.\n",
            "\n",
            "Epoch 00013: val_my_iou_metric_2 did not improve from 0.00079\n",
            "Epoch 14/30\n",
            " - 6s - loss: 0.5474 - my_iou_metric_2: 0.0000e+00 - val_loss: 0.5162 - val_my_iou_metric_2: 0.0000e+00\n",
            "\n",
            "Epoch 00014: val_my_iou_metric_2 did not improve from 0.00079\n",
            "Epoch 15/30\n",
            " - 6s - loss: 0.5429 - my_iou_metric_2: 0.0000e+00 - val_loss: 0.5141 - val_my_iou_metric_2: 0.0000e+00\n",
            "\n",
            "Epoch 00015: ReduceLROnPlateau reducing learning rate to 1.5625000742147677e-05.\n",
            "\n",
            "Epoch 00015: val_my_iou_metric_2 did not improve from 0.00079\n",
            "Epoch 16/30\n",
            " - 6s - loss: 0.6042 - my_iou_metric_2: 0.0000e+00 - val_loss: 0.5162 - val_my_iou_metric_2: 0.0000e+00\n",
            "\n",
            "Epoch 00016: val_my_iou_metric_2 did not improve from 0.00079\n",
            "Epoch 17/30\n",
            " - 6s - loss: 0.5455 - my_iou_metric_2: 0.0000e+00 - val_loss: 0.5158 - val_my_iou_metric_2: 0.0000e+00\n",
            "\n",
            "Epoch 00017: ReduceLROnPlateau reducing learning rate to 1e-05.\n",
            "\n",
            "Epoch 00017: val_my_iou_metric_2 did not improve from 0.00079\n",
            "Epoch 18/30\n",
            " - 6s - loss: 0.5467 - my_iou_metric_2: 0.0000e+00 - val_loss: 0.5153 - val_my_iou_metric_2: 0.0000e+00\n",
            "\n",
            "Epoch 00018: val_my_iou_metric_2 did not improve from 0.00079\n",
            "Epoch 19/30\n",
            " - 6s - loss: 0.5447 - my_iou_metric_2: 0.0000e+00 - val_loss: 0.5147 - val_my_iou_metric_2: 0.0000e+00\n",
            "\n",
            "Epoch 00019: val_my_iou_metric_2 did not improve from 0.00079\n",
            "Epoch 20/30\n",
            " - 6s - loss: 0.5460 - my_iou_metric_2: 0.0000e+00 - val_loss: 0.5141 - val_my_iou_metric_2: 0.0000e+00\n",
            "\n",
            "Epoch 00020: val_my_iou_metric_2 did not improve from 0.00079\n",
            "Epoch 21/30\n",
            " - 6s - loss: 0.5435 - my_iou_metric_2: 0.0000e+00 - val_loss: 0.5137 - val_my_iou_metric_2: 0.0000e+00\n",
            "\n",
            "Epoch 00021: val_my_iou_metric_2 did not improve from 0.00079\n",
            "Epoch 22/30\n",
            " - 6s - loss: 0.5455 - my_iou_metric_2: 0.0000e+00 - val_loss: 0.5135 - val_my_iou_metric_2: 0.0000e+00\n",
            "\n",
            "Epoch 00022: val_my_iou_metric_2 did not improve from 0.00079\n",
            "Epoch 23/30\n",
            " - 6s - loss: 0.5450 - my_iou_metric_2: 0.0000e+00 - val_loss: 0.5138 - val_my_iou_metric_2: 0.0000e+00\n",
            "\n",
            "Epoch 00023: val_my_iou_metric_2 did not improve from 0.00079\n",
            "Epoch 24/30\n",
            " - 6s - loss: 0.5495 - my_iou_metric_2: 0.0000e+00 - val_loss: 0.5147 - val_my_iou_metric_2: 0.0000e+00\n",
            "\n",
            "Epoch 00024: val_my_iou_metric_2 did not improve from 0.00079\n",
            "Epoch 25/30\n",
            " - 6s - loss: 0.5431 - my_iou_metric_2: 0.0000e+00 - val_loss: 0.5145 - val_my_iou_metric_2: 0.0000e+00\n",
            "\n",
            "Epoch 00025: val_my_iou_metric_2 did not improve from 0.00079\n",
            "Epoch 26/30\n",
            " - 6s - loss: 0.5530 - my_iou_metric_2: 0.0000e+00 - val_loss: 0.5153 - val_my_iou_metric_2: 0.0000e+00\n",
            "\n",
            "Epoch 00026: val_my_iou_metric_2 did not improve from 0.00079\n",
            "Epoch 27/30\n",
            " - 6s - loss: 0.5436 - my_iou_metric_2: 0.0000e+00 - val_loss: 0.5155 - val_my_iou_metric_2: 0.0000e+00\n",
            "\n",
            "Epoch 00027: val_my_iou_metric_2 did not improve from 0.00079\n",
            "Epoch 28/30\n",
            " - 6s - loss: 0.5438 - my_iou_metric_2: 0.0000e+00 - val_loss: 0.5152 - val_my_iou_metric_2: 0.0000e+00\n",
            "\n",
            "Epoch 00028: val_my_iou_metric_2 did not improve from 0.00079\n",
            "Epoch 29/30\n",
            " - 6s - loss: 0.5410 - my_iou_metric_2: 0.0000e+00 - val_loss: 0.5146 - val_my_iou_metric_2: 0.0000e+00\n",
            "\n",
            "Epoch 00029: val_my_iou_metric_2 did not improve from 0.00079\n",
            "Epoch 30/30\n",
            " - 6s - loss: 0.5438 - my_iou_metric_2: 0.0000e+00 - val_loss: 0.5148 - val_my_iou_metric_2: 0.0000e+00\n",
            "\n",
            "Epoch 00030: val_my_iou_metric_2 did not improve from 0.00079\n",
            "Test2-2 (30, 32) runtime = 13.862859519322713 mins\n",
            "157/157 [==============================] - 1s 5ms/step\n",
            "Evaluation on X_valid: [0.5134227682071127, 0.0]\n"
          ],
          "name": "stdout"
        }
      ]
    },
    {
      "cell_type": "code",
      "metadata": {
        "id": "BrQpC7w1_SgF",
        "colab_type": "code",
        "colab": {
          "base_uri": "https://localhost:8080/",
          "height": 244
        },
        "outputId": "a25ec3cc-baaf-4644-ee26-879bdea8c982"
      },
      "source": [
        "encoded_imgs = model.predict(x_val)\n",
        "decoded_imgs = model.predict(encoded_imgs)\n",
        "\n",
        "plot_results(x_test, decoded_imgs)"
      ],
      "execution_count": 65,
      "outputs": [
        {
          "output_type": "display_data",
          "data": {
            "image/png": "[encoded data removed]",
            "text/plain": [
              "<Figure size 1440x288 with 20 Axes>"
            ]
          },
          "metadata": {
            "tags": []
          }
        }
      ]
    },
    {
      "cell_type": "code",
      "metadata": {
        "id": "87_va6xk4tKb",
        "colab_type": "code",
        "colab": {
          "base_uri": "https://localhost:8080/",
          "height": 349
        },
        "outputId": "8c1ce025-cf3f-4de7-a0c5-44ee80296f92"
      },
      "source": [
        "#Test2-2 Performance\n",
        "fig, (ax_loss, ax_score) = plt.subplots(1, 2, figsize=(15,5))\n",
        "ax_loss.plot(history.epoch, history.history[\"loss\"], label=\"Train loss\")\n",
        "ax_loss.plot(history.epoch, history.history[\"val_loss\"], label=\"Validation loss\")\n",
        "ax_loss.legend()\n",
        "plt.title('ResUNet: Lavasz Loss')\n",
        "ax_score.plot(history.epoch, history.history[\"my_iou_metric_2\"], label=\"Train score\")\n",
        "ax_score.plot(history.epoch, history.history[\"val_my_iou_metric_2\"], label=\"Validation score\")\n",
        "ax_score.legend()\n",
        "plt.title('Without cosine annealing learning rate scheduler with periodic restarts')"
      ],
      "execution_count": 66,
      "outputs": [
        {
          "output_type": "execute_result",
          "data": {
            "text/plain": [
              "Text(0.5, 1.0, 'Without cosine annealing learning rate scheduler with periodic restarts')"
            ]
          },
          "metadata": {
            "tags": []
          },
          "execution_count": 66
        },
        {
          "output_type": "display_data",
          "data": {
            "image/png": "[encoded data removed]",
            "text/plain": [
              "<Figure size 1080x360 with 2 Axes>"
            ]
          },
          "metadata": {
            "tags": []
          }
        }
      ]
    },
    {
      "cell_type": "code",
      "metadata": {
        "id": "QrEviXge_Ug6",
        "colab_type": "code",
        "colab": {}
      },
      "source": [
        ""
      ],
      "execution_count": 0,
      "outputs": []
    }
  ]
}