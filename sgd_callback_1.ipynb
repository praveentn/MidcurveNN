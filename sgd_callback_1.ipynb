{
  "nbformat": 4,
  "nbformat_minor": 0,
  "metadata": {
    "colab": {
      "name": "sgd_callback_1.ipynb",
      "version": "0.3.2",
      "provenance": [],
      "collapsed_sections": [],
      "include_colab_link": true
    },
    "kernelspec": {
      "name": "python3",
      "display_name": "Python 3"
    },
    "accelerator": "GPU"
  },
  "cells": [
    {
      "cell_type": "markdown",
      "metadata": {
        "id": "view-in-github",
        "colab_type": "text"
      },
      "source": [
        "<a href=\"https://colab.research.google.com/github/praveentn/MidcurveNN/blob/master/sgd_callback_1.ipynb\" target=\"_parent\"><img src=\"https://colab.research.google.com/assets/colab-badge.svg\" alt=\"Open In Colab\"/></a>"
      ]
    },
    {
      "cell_type": "markdown",
      "metadata": {
        "id": "yROWoJp_1Van",
        "colab_type": "text"
      },
      "source": [
        "# SGD Callback\n",
        "\n",
        "Source: https://www.kaggle.com/ahsongchen/stochastic-gradient-descent-with-restarts-test\n"
      ]
    },
    {
      "cell_type": "code",
      "metadata": {
        "id": "C2sQIPYy1U_n",
        "colab_type": "code",
        "colab": {
          "base_uri": "https://localhost:8080/",
          "height": 68
        },
        "outputId": "d435a1ff-e5b0-4163-ae62-9acfd1541673"
      },
      "source": [
        "# mount google drive & set working directory\n",
        "# requires auth (click on url & copy token into text box when prompted)\n",
        "from google.colab import drive\n",
        "drive.mount(\"/content/gdrive\")\n",
        "\n",
        "import os\n",
        "print(os.getcwd())\n",
        "\n",
        "os.chdir('/content/gdrive/My Drive/Colab Notebooks/MidcurveNN')\n",
        "!pwd"
      ],
      "execution_count": 1,
      "outputs": [
        {
          "output_type": "stream",
          "text": [
            "Drive already mounted at /content/gdrive; to attempt to forcibly remount, call drive.mount(\"/content/gdrive\", force_remount=True).\n",
            "/content\n",
            "/content/gdrive/My Drive/Colab Notebooks/MidcurveNN\n"
          ],
          "name": "stdout"
        }
      ]
    },
    {
      "cell_type": "code",
      "metadata": {
        "id": "ogz8mrOU1emk",
        "colab_type": "code",
        "colab": {
          "base_uri": "https://localhost:8080/",
          "height": 34
        },
        "outputId": "105a187d-8c80-44ed-f173-a94d4f53dc23"
      },
      "source": [
        "import numpy as np # linear algebra\n",
        "import pandas as pd # data processing, CSV file I/O (e.g. pd.read_csv)\n",
        "\n",
        "from __future__ import absolute_import, division, print_function, unicode_literals\n",
        "\n",
        "# !pip install tensorflow-gpu==2.0.0-alpha0\n",
        "import tensorflow as tf\n",
        "\n",
        "import time\n",
        "from IPython.display import clear_output\n",
        "\n",
        "from keras.layers import Input, Dense\n",
        "from keras.models import Model\n",
        "from keras import regularizers, optimizers\n",
        "from keras.optimizers import Adam, SGD\n",
        "from keras.callbacks import EarlyStopping\n",
        "from keras.optimizers import Adam,RMSprop,SGD\n",
        "from keras.models import Model, Sequential\n",
        "from keras.layers import Input, Dense, Conv2D, MaxPooling2D, UpSampling2D, Flatten, Reshape\n",
        "from keras import regularizers\n",
        "from keras.layers.normalization import BatchNormalization\n",
        "from keras.layers import Conv2D, MaxPooling2D, Dense, Dropout, Input, Flatten,AveragePooling2D,UpSampling2D\n",
        "from keras.preprocessing.image import img_to_array, load_img\n",
        "from sklearn.model_selection import train_test_split\n",
        "from random import shuffle\n",
        "import PIL\n",
        "import json\n",
        "import sys\n",
        "np.set_printoptions(threshold=sys.maxsize)\n",
        "import matplotlib.pyplot as plt\n",
        "import matplotlib\n",
        "# matplotlib.use('TKAgg')\n",
        "%matplotlib inline"
      ],
      "execution_count": 2,
      "outputs": [
        {
          "output_type": "stream",
          "text": [
            "Using TensorFlow backend.\n"
          ],
          "name": "stderr"
        }
      ]
    },
    {
      "cell_type": "code",
      "metadata": {
        "id": "ryKeEtil1n3e",
        "colab_type": "code",
        "colab": {
          "base_uri": "https://localhost:8080/",
          "height": 34
        },
        "outputId": "9f69ef8d-1b4f-4848-d5c3-a8f3cf23c03d"
      },
      "source": [
        "# working directory\n",
        "wdir = os.getcwd()\n",
        "wdir"
      ],
      "execution_count": 3,
      "outputs": [
        {
          "output_type": "execute_result",
          "data": {
            "text/plain": [
              "'/content/gdrive/My Drive/Colab Notebooks/MidcurveNN'"
            ]
          },
          "metadata": {
            "tags": []
          },
          "execution_count": 3
        }
      ]
    },
    {
      "cell_type": "code",
      "metadata": {
        "id": "SWCzKojU168f",
        "colab_type": "code",
        "colab": {
          "base_uri": "https://localhost:8080/",
          "height": 34
        },
        "outputId": "4a1cf792-497f-48e3-b081-50144e1e07cc"
      },
      "source": [
        "# _URL = 'https://drive.google.com/uc?export=download&id=16rqDFLO__WySSQGlAht0FEj2uJZg4M9M'\n",
        "\n",
        "# path_to_zip = tf.keras.utils.get_file('input.zip',\n",
        "#                                       origin=_URL,\n",
        "#                                       extract=True)\n",
        "\n",
        "# input_data_folder = os.path.join(os.path.dirname(path_to_zip), 'input')\n",
        "input_data_folder = wdir + \"/data/input\"\n",
        "input_data_folder = wdir + \"/data/9shapes\"\n",
        "print(\"input data dir: \", input_data_folder)"
      ],
      "execution_count": 105,
      "outputs": [
        {
          "output_type": "stream",
          "text": [
            "input data dir:  /content/gdrive/My Drive/Colab Notebooks/MidcurveNN/data/9shapes\n"
          ],
          "name": "stdout"
        }
      ]
    },
    {
      "cell_type": "code",
      "metadata": {
        "id": "cQ5E8lWo19WM",
        "colab_type": "code",
        "colab": {
          "base_uri": "https://localhost:8080/",
          "height": 51
        },
        "outputId": "ad0b2d24-e4c1-417b-9236-da8fea7e099f"
      },
      "source": [
        "import glob\n",
        "\n",
        "image_paths = glob.glob(input_data_folder + '/**/*.png', recursive=True)\n",
        "images = [os.path.basename(img_path) for img_path in image_paths]\n",
        "\n",
        "print(len(images))\n",
        "\n",
        "#images = os.listdir(input_data_folder)\n",
        "images[99]"
      ],
      "execution_count": 106,
      "outputs": [
        {
          "output_type": "stream",
          "text": [
            "2016\n"
          ],
          "name": "stdout"
        },
        {
          "output_type": "execute_result",
          "data": {
            "text/plain": [
              "'Iuvw_Midcurve_mirrored_1_rotated_30.png'"
            ]
          },
          "metadata": {
            "tags": []
          },
          "execution_count": 106
        }
      ]
    },
    {
      "cell_type": "code",
      "metadata": {
        "id": "E7fstbHH1_yh",
        "colab_type": "code",
        "colab": {}
      },
      "source": [
        "# image dimension\n",
        "imdim = 101"
      ],
      "execution_count": 0,
      "outputs": []
    },
    {
      "cell_type": "code",
      "metadata": {
        "id": "yF48Rch_2B7o",
        "colab_type": "code",
        "colab": {}
      },
      "source": [
        "def read_input_image_pairs(datafolder=input_data_folder):\n",
        "    profile_pngs = []\n",
        "    midcurve_pngs = []\n",
        "    for file in os.listdir(datafolder):\n",
        "        fullpath = os.path.join(datafolder, file)\n",
        "        if os.path.isdir(fullpath):\n",
        "            continue\n",
        "        if file.endswith(\".png\"):\n",
        "            if file.find(\"Profile\") != -1:\n",
        "                profile_pngs.append(fullpath)\n",
        "            if file.find(\"Midcurve\") != -1:\n",
        "                midcurve_pngs.append(fullpath)\n",
        "    profile_pngs = sorted(profile_pngs)\n",
        "    midcurve_pngs = sorted(midcurve_pngs)\n",
        "    return profile_pngs,midcurve_pngs\n",
        "\n",
        "\n",
        "def get_training_data(datafolder=input_data_folder):\n",
        "    profile_pngs,midcurve_pngs = read_input_image_pairs(datafolder)\n",
        "    \n",
        "    profile_pngs_objs = [img_to_array(load_img(f, color_mode='rgba', target_size=(imdim, imdim))) for f in profile_pngs ]\n",
        "    midcurve_pngs_objs = [img_to_array(load_img(f, color_mode='rgba', target_size=(imdim, imdim))) for f in midcurve_pngs]\n",
        "\n",
        "#     profile_pngs_objs = np.array([x.reshape((1,) + x.shape) for x in profile_pngs_objs])\n",
        "#     midcurve_pngs_objs = np.array([x.reshape((1,) + x.shape) for x in midcurve_pngs_objs])\n",
        "\n",
        "    profile_pngs_gray_objs = [x[:,:,3] for x in profile_pngs_objs]\n",
        "    midcurve_pngs_gray_objs =[x[:,:,3] for x in midcurve_pngs_objs]\n",
        "    \n",
        "#     profile_pngs_gray_objs = [np.where(x>128, 0, 1) for x in profile_pngs_gray_objs]\n",
        "#     midcurve_pngs_gray_objs =[np.where(x>128, 0, 1) for x in midcurve_pngs_gray_objs]\n",
        "        \n",
        "    # shufle them\n",
        "    zipped_profiles_midcurves = [(p,m) for p,m in zip(profile_pngs_gray_objs,midcurve_pngs_gray_objs)]\n",
        "    shuffle(zipped_profiles_midcurves)\n",
        "    profile_pngs_gray_objs, midcurve_pngs_gray_objs = zip(*zipped_profiles_midcurves)\n",
        "    \n",
        "    return profile_pngs_gray_objs, midcurve_pngs_gray_objs\n"
      ],
      "execution_count": 0,
      "outputs": []
    },
    {
      "cell_type": "code",
      "metadata": {
        "id": "BlUeBCA22HWP",
        "colab_type": "code",
        "colab": {
          "base_uri": "https://localhost:8080/",
          "height": 255
        },
        "outputId": "0f308b3d-9cbf-4815-dd03-862fd62d35fa"
      },
      "source": [
        "profile_pngs_objs = ()\n",
        "midcurve_pngs_objs = ()\n",
        "shapes = [\"CapI\", \"Iuvw\", \"Luvw\", \"Plus\", \"SqLu\", \"Tuvw\", \"Vuvw\"]\n",
        "\n",
        "for shape in shapes:\n",
        "    print(shape)\n",
        "    tp, tm = get_training_data(os.path.join(input_data_folder, shape))\n",
        "    profile_pngs_objs += tp\n",
        "    midcurve_pngs_objs += tm\n",
        "    print(len(profile_pngs_objs), len(midcurve_pngs_objs))"
      ],
      "execution_count": 109,
      "outputs": [
        {
          "output_type": "stream",
          "text": [
            "CapI\n",
            "112 112\n",
            "Iuvw\n",
            "224 224\n",
            "Luvw\n",
            "336 336\n",
            "Plus\n",
            "448 448\n",
            "SqLu\n",
            "560 560\n",
            "Tuvw\n",
            "672 672\n",
            "Vuvw\n",
            "784 784\n"
          ],
          "name": "stdout"
        }
      ]
    },
    {
      "cell_type": "code",
      "metadata": {
        "id": "qYes63bE2J0P",
        "colab_type": "code",
        "colab": {}
      },
      "source": [
        "def plot_results(original_imgs,computed_imgs,n=10):\n",
        "    # n = 10  # how many digits we will display\n",
        "    plt.figure(figsize=(20, 4))\n",
        "    for i in range(n):\n",
        "        # display original\n",
        "        ax = plt.subplot(2, n, i + 1)\n",
        "        plt.imshow(original_imgs[i].reshape(imdim, imdim),cmap='gray_r')\n",
        "#         plt.gray()\n",
        "        ax.get_xaxis().set_visible(False)\n",
        "        ax.get_yaxis().set_visible(False)\n",
        "    \n",
        "        # display reconstruction\n",
        "        ax = plt.subplot(2, n, i + 1 + n)\n",
        "        plt.imshow(computed_imgs[i].reshape(imdim, imdim),cmap='gray_r')\n",
        "#         plt.gray()\n",
        "        ax.get_xaxis().set_visible(False)\n",
        "        ax.get_yaxis().set_visible(False)\n",
        "    plt.show()"
      ],
      "execution_count": 0,
      "outputs": []
    },
    {
      "cell_type": "code",
      "metadata": {
        "id": "Ok3T-uOZ2Mv9",
        "colab_type": "code",
        "colab": {
          "base_uri": "https://localhost:8080/",
          "height": 244
        },
        "outputId": "7b94a6e6-cb57-4017-992e-1729a6f28533"
      },
      "source": [
        "plot_results(profile_pngs_objs[710:720],midcurve_pngs_objs[710:720])"
      ],
      "execution_count": 10,
      "outputs": [
        {
          "output_type": "display_data",
          "data": {
            "image/png": "[encoded data removed]",
            "text/plain": [
              "<Figure size 1440x288 with 20 Axes>"
            ]
          },
          "metadata": {
            "tags": []
          }
        }
      ]
    },
    {
      "cell_type": "code",
      "metadata": {
        "id": "GqEaSKQj2SZo",
        "colab_type": "code",
        "colab": {}
      },
      "source": [
        "def get_train_test_split(profile_pngs_gray_objs, midcurve_pngs_gray_objs, encoding_dim=imdim, input_dim=imdim):\n",
        "\n",
        "    # Training\n",
        "    profile_pngs_flat_objs = [x.reshape(input_dim,input_dim,1) for x in profile_pngs_gray_objs]\n",
        "    midcurve_pngs_flat_objs = [x.reshape(input_dim,input_dim,1) for x in midcurve_pngs_gray_objs]\n",
        "    \n",
        "    profile_pngs_objs = np.array(profile_pngs_flat_objs)\n",
        "    midcurve_pngs_objs= np.array(midcurve_pngs_flat_objs)\n",
        "    \n",
        "    '''\n",
        "    train_size = int(len(profile_pngs_objs)*0.7)\n",
        "    x_train = profile_pngs_objs[:train_size]\n",
        "    y_train = midcurve_pngs_objs[:train_size]\n",
        "    x_test = profile_pngs_objs[train_size:]\n",
        "    y_test = midcurve_pngs_objs[train_size:]\n",
        "    '''\n",
        "    x_train, x_test, y_train, y_test = train_test_split(profile_pngs_objs, midcurve_pngs_objs, \n",
        "                                                        test_size=0.2, random_state=37)\n",
        "    return x_train, x_test, y_train, y_test"
      ],
      "execution_count": 0,
      "outputs": []
    },
    {
      "cell_type": "code",
      "metadata": {
        "id": "a95r7UWF2VSG",
        "colab_type": "code",
        "colab": {
          "base_uri": "https://localhost:8080/",
          "height": 34
        },
        "outputId": "17657ca3-fe6a-41f9-de8a-33b40e58875b"
      },
      "source": [
        "x_train, x_test, y_train, y_test = get_train_test_split(profile_pngs_objs, midcurve_pngs_objs)\n",
        "\n",
        "print((len(x_train), len(y_train)), (len(x_test), len(y_test)))"
      ],
      "execution_count": 12,
      "outputs": [
        {
          "output_type": "stream",
          "text": [
            "(627, 627) (157, 157)\n"
          ],
          "name": "stdout"
        }
      ]
    },
    {
      "cell_type": "code",
      "metadata": {
        "id": "RSQGxxH-2XYP",
        "colab_type": "code",
        "colab": {}
      },
      "source": [
        "import sys\n",
        "import random\n",
        "import matplotlib.pyplot as plt\n",
        "plt.style.use('seaborn-white')\n",
        "import seaborn as sns\n",
        "sns.set_style(\"white\")\n",
        "import time\n",
        "t_start = time.time()\n",
        "%matplotlib inline\n",
        "\n",
        "# import cv2\n",
        "from sklearn.model_selection import train_test_split\n",
        "\n",
        "from tqdm import tqdm_notebook #, tnrange\n",
        "#from itertools import chain\n",
        "from skimage.io import imread, imshow #, concatenate_images\n",
        "from skimage.transform import resize\n",
        "from skimage.morphology import label\n",
        "from keras.models import Model, load_model, save_model\n",
        "from keras.layers import Input,Dropout,BatchNormalization,Activation,Add, Flatten, Dense\n",
        "from keras.layers.core import Lambda\n",
        "from keras.layers.convolutional import Conv2D, Conv2DTranspose\n",
        "from keras.layers.pooling import MaxPooling2D\n",
        "from keras.layers.merge import concatenate\n",
        "from keras.callbacks import EarlyStopping, ModelCheckpoint, ReduceLROnPlateau\n",
        "from keras.optimizers import Adam, SGD\n",
        "from keras import backend as K\n",
        "from keras import optimizers\n",
        "import tensorflow as tf\n",
        "from keras.preprocessing.image import array_to_img, img_to_array, load_img,save_img"
      ],
      "execution_count": 0,
      "outputs": []
    },
    {
      "cell_type": "code",
      "metadata": {
        "id": "fYZ3U2TN2geO",
        "colab_type": "code",
        "colab": {}
      },
      "source": [
        "img_size_ori = 101\n",
        "img_size_target = 101\n",
        "\n",
        "def upsample(img):\n",
        "    if img_size_ori == img_size_target:\n",
        "        return img\n",
        "    return resize(img, (img_size_target, img_size_target), mode='constant', preserve_range=True)\n",
        "    \n",
        "def downsample(img):\n",
        "    if img_size_ori == img_size_target:\n",
        "        return img\n",
        "    return resize(img, (img_size_ori, img_size_ori), mode='constant', preserve_range=True)"
      ],
      "execution_count": 0,
      "outputs": []
    },
    {
      "cell_type": "code",
      "metadata": {
        "id": "_D645GX52pm7",
        "colab_type": "code",
        "colab": {
          "base_uri": "https://localhost:8080/",
          "height": 102
        },
        "outputId": "dd9eef01-f348-4607-ce3b-58e9cdfc1e6f"
      },
      "source": [
        "x_valid = x_test\n",
        "y_valid = y_test\n",
        "\n",
        "print(x_train.shape,y_train.shape,x_valid.shape,y_valid.shape)\n",
        "print(np.mean(x_train),np.mean(y_train),np.std(x_train),np.std(y_train))\n",
        "print(np.mean(x_valid),np.mean(y_valid),np.std(x_valid),np.std(y_valid))\n",
        "print(np.max(x_train),np.max(y_train),np.max(x_valid),np.max(y_valid))\n",
        "print(np.min(x_train),np.min(y_train),np.min(x_valid),np.min(y_valid))\n"
      ],
      "execution_count": 15,
      "outputs": [
        {
          "output_type": "stream",
          "text": [
            "(627, 101, 101, 1) (627, 101, 101, 1) (157, 101, 101, 1) (157, 101, 101, 1)\n",
            "2.6333876 1.1230435 18.53926 16.077538\n",
            "2.6753047 1.1410803 18.687204 16.267097\n",
            "245.0 255.0 245.0 255.0\n",
            "0.0 0.0 0.0 0.0\n"
          ],
          "name": "stdout"
        }
      ]
    },
    {
      "cell_type": "code",
      "metadata": {
        "id": "oRUC9Xve2zbw",
        "colab_type": "code",
        "colab": {}
      },
      "source": [
        "def BatchActivate(x):\n",
        "    x = BatchNormalization()(x)\n",
        "    x = Activation('relu')(x)\n",
        "    return x\n",
        "\n",
        "def convolution_block(x, filters, size, strides=(1,1), padding='same', activation=True):\n",
        "    x = Conv2D(filters, size, strides=strides, padding=padding)(x)\n",
        "    if activation == True:\n",
        "        x = BatchActivate(x)\n",
        "    return x\n",
        "\n",
        "def residual_block(blockInput, num_filters=16, batch_activate = False):\n",
        "    x = BatchActivate(blockInput)\n",
        "    x = convolution_block(x, num_filters, (3,3) )\n",
        "    x = convolution_block(x, num_filters, (3,3), activation=False)\n",
        "    x = Add()([x, blockInput])\n",
        "    if batch_activate:\n",
        "        x = BatchActivate(x)\n",
        "    return x"
      ],
      "execution_count": 0,
      "outputs": []
    },
    {
      "cell_type": "code",
      "metadata": {
        "id": "BqTjsiKV3BUL",
        "colab_type": "code",
        "colab": {}
      },
      "source": [
        "# Build model\n",
        "def build_model(input_layer, start_neurons, DropoutRatio = 0.05):\n",
        "    # 101 -> 50\n",
        "    conv1 = Conv2D(start_neurons * 1, (3, 3), activation=\"relu\", padding=\"same\")(input_layer)\n",
        "    conv1 = residual_block(conv1,start_neurons * 1)\n",
        "    conv1 = residual_block(conv1,start_neurons * 1, True)\n",
        "    pool1 = MaxPooling2D((2, 2))(conv1)\n",
        "    pool1 = Dropout(DropoutRatio/2)(pool1)\n",
        "\n",
        "    # 50 -> 25\n",
        "    conv2 = Conv2D(start_neurons * 2, (3, 3), activation=\"relu\", padding=\"same\")(pool1)\n",
        "    conv2 = residual_block(conv2,start_neurons * 2)\n",
        "    conv2 = residual_block(conv2,start_neurons * 2, True)\n",
        "    pool2 = MaxPooling2D((2, 2))(conv2)\n",
        "    pool2 = Dropout(DropoutRatio)(pool2)\n",
        "\n",
        "    # 25 -> 12\n",
        "    conv3 = Conv2D(start_neurons * 4, (3, 3), activation=\"relu\", padding=\"same\")(pool2)\n",
        "    conv3 = residual_block(conv3,start_neurons * 4)\n",
        "    conv3 = residual_block(conv3,start_neurons * 4, True)\n",
        "    pool3 = MaxPooling2D((2, 2))(conv3)\n",
        "    pool3 = Dropout(DropoutRatio)(pool3)\n",
        "\n",
        "    # 12 -> 6\n",
        "    conv4 = Conv2D(start_neurons * 8, (3, 3), activation=\"relu\", padding=\"same\")(pool3)\n",
        "    conv4 = residual_block(conv4,start_neurons * 8)\n",
        "    conv4 = residual_block(conv4,start_neurons * 8, True)\n",
        "    pool4 = MaxPooling2D((2, 2))(conv4)\n",
        "    pool4 = Dropout(DropoutRatio)(pool4)\n",
        "\n",
        "    # Middle\n",
        "    convm = Conv2D(start_neurons * 16, (3, 3), activation=\"relu\", padding=\"same\")(pool4)\n",
        "    convm = residual_block(convm,start_neurons * 16)\n",
        "    convm = residual_block(convm,start_neurons * 16, True)\n",
        "    \n",
        "    # 6 -> 12\n",
        "    deconv4 = Conv2DTranspose(start_neurons * 8, (3, 3), strides=(2, 2), padding=\"same\")(convm)\n",
        "    uconv4 = concatenate([deconv4, conv4])\n",
        "    uconv4 = Dropout(DropoutRatio)(uconv4)\n",
        "    \n",
        "    uconv4 = Conv2D(start_neurons * 8, (3, 3), activation=\"relu\", padding=\"same\")(uconv4)\n",
        "    uconv4 = residual_block(uconv4,start_neurons * 8)\n",
        "    uconv4 = residual_block(uconv4,start_neurons * 8, True)\n",
        "    \n",
        "    # 12 -> 25\n",
        "    #deconv3 = Conv2DTranspose(start_neurons * 4, (3, 3), strides=(2, 2), padding=\"same\")(uconv4)\n",
        "    deconv3 = Conv2DTranspose(start_neurons * 4, (3, 3), strides=(2, 2), padding=\"valid\")(uconv4)\n",
        "    uconv3 = concatenate([deconv3, conv3])    \n",
        "    uconv3 = Dropout(DropoutRatio)(uconv3)\n",
        "    \n",
        "    uconv3 = Conv2D(start_neurons * 4, (3, 3), activation=\"relu\", padding=\"same\")(uconv3)\n",
        "    uconv3 = residual_block(uconv3,start_neurons * 4)\n",
        "    uconv3 = residual_block(uconv3,start_neurons * 4, True)\n",
        "\n",
        "    # 25 -> 50\n",
        "    deconv2 = Conv2DTranspose(start_neurons * 2, (3, 3), strides=(2, 2), padding=\"same\")(uconv3)\n",
        "    uconv2 = concatenate([deconv2, conv2])\n",
        "        \n",
        "    uconv2 = Dropout(DropoutRatio)(uconv2)\n",
        "    uconv2 = Conv2D(start_neurons * 2, (3, 3), activation=\"relu\", padding=\"same\")(uconv2)\n",
        "    uconv2 = residual_block(uconv2,start_neurons * 2)\n",
        "    uconv2 = residual_block(uconv2,start_neurons * 2, True)\n",
        "\n",
        "    # 50 -> 101\n",
        "    #deconv1 = Conv2DTranspose(start_neurons * 1, (3, 3), strides=(2, 2), padding=\"same\")(uconv2)\n",
        "    deconv1 = Conv2DTranspose(start_neurons * 1, (3, 3), strides=(2, 2), padding=\"valid\")(uconv2)\n",
        "    uconv1 = concatenate([deconv1, conv1])\n",
        "    \n",
        "    uconv1 = Dropout(DropoutRatio)(uconv1)\n",
        "    uconv1 = Conv2D(start_neurons * 1, (3, 3), activation=\"relu\", padding=\"same\")(uconv1)\n",
        "    uconv1 = residual_block(uconv1,start_neurons * 1)\n",
        "    uconv2 = residual_block(uconv1,start_neurons * 1, True)\n",
        "\n",
        "    output_layer_noActi = Conv2D(1, (1,1), padding=\"same\", activation=\"relu\")(uconv2)\n",
        "    output_layer =  Activation('sigmoid')(output_layer_noActi)\n",
        "    \n",
        "    return output_layer"
      ],
      "execution_count": 0,
      "outputs": []
    },
    {
      "cell_type": "code",
      "metadata": {
        "id": "wQCCH-oKK7o9",
        "colab_type": "code",
        "colab": {}
      },
      "source": [
        "def build_model(input_layer, start_neurons, DropoutRatio = 0.05):\n",
        "    #input_layer = Input(shape=self.img_shape)\n",
        "\n",
        "    # encoder\n",
        "    # 101 -> 50\n",
        "    conv1 = Conv2D(start_neurons * 1, (3, 3), activation=\"relu\", padding=\"same\")(input_layer)\n",
        "    conv1 = residual_block(conv1,start_neurons * 1)\n",
        "    conv1 = residual_block(conv1,start_neurons * 1, True)\n",
        "    pool1 = MaxPooling2D((2, 2))(conv1)\n",
        "    pool1 = Dropout(DropoutRatio/2)(pool1)\n",
        "\n",
        "    # 50 -> 25\n",
        "    conv2 = Conv2D(start_neurons * 2, (3, 3), activation=\"relu\", padding=\"same\")(pool1)\n",
        "    conv2 = residual_block(conv2,start_neurons * 2)\n",
        "    conv2 = residual_block(conv2,start_neurons * 2, True)\n",
        "    pool2 = MaxPooling2D((2, 2))(conv2)\n",
        "    pool2 = Dropout(DropoutRatio)(pool2)\n",
        "    \n",
        "    # Middle\n",
        "    convm = Conv2D(start_neurons * 16, (3, 3), activation=\"relu\", padding=\"same\")(pool2)\n",
        "    convm = residual_block(convm,start_neurons * 16)\n",
        "    convm = residual_block(convm,start_neurons * 16, True)\n",
        "    \n",
        "    \n",
        "    # decoder\n",
        "    # 25 -> 50\n",
        "    deconv2 = Conv2DTranspose(start_neurons * 2, (3, 3), strides=(2, 2), padding=\"same\")(convm)\n",
        "    uconv2 = concatenate([deconv2, conv2])\n",
        "        \n",
        "    uconv2 = Dropout(DropoutRatio)(uconv2)\n",
        "    uconv2 = Conv2D(start_neurons * 2, (3, 3), activation=\"relu\", padding=\"same\")(uconv2)\n",
        "    uconv2 = residual_block(uconv2,start_neurons * 2)\n",
        "    uconv2 = residual_block(uconv2,start_neurons * 2, True)\n",
        "\n",
        "    # 50 -> 101\n",
        "    #deconv1 = Conv2DTranspose(start_neurons * 1, (3, 3), strides=(2, 2), padding=\"same\")(uconv2)\n",
        "    deconv1 = Conv2DTranspose(start_neurons * 1, (3, 3), strides=(2, 2), padding=\"valid\")(uconv2)\n",
        "    uconv1 = concatenate([deconv1, conv1])\n",
        "    \n",
        "    uconv1 = Dropout(DropoutRatio)(uconv1)\n",
        "    uconv1 = Conv2D(start_neurons * 1, (3, 3), activation=\"relu\", padding=\"same\")(uconv1)\n",
        "    uconv1 = residual_block(uconv1,start_neurons * 1)\n",
        "    uconv2 = residual_block(uconv1,start_neurons * 1, True)\n",
        "\n",
        "    output_layer_noActi = Conv2D(1, (1,1), padding=\"same\", activation=\"relu\")(uconv2)\n",
        "    output_layer =  Activation('sigmoid')(output_layer_noActi)\n",
        "    \n",
        "    return output_layer\n",
        "\n",
        "#    return Model(input_layer, output_layer)"
      ],
      "execution_count": 0,
      "outputs": []
    },
    {
      "cell_type": "code",
      "metadata": {
        "id": "VL7e3a6n3FzW",
        "colab_type": "code",
        "colab": {}
      },
      "source": [
        "def get_iou_vector(A, B):\n",
        "    batch_size = A.shape[0]\n",
        "    metric = []\n",
        "    for batch in range(batch_size):\n",
        "        t, p = A[batch]>0, B[batch]>0\n",
        "#         if np.count_nonzero(t) == 0 and np.count_nonzero(p) > 0:\n",
        "#             metric.append(0)\n",
        "#             continue\n",
        "#         if np.count_nonzero(t) >= 1 and np.count_nonzero(p) == 0:\n",
        "#             metric.append(0)\n",
        "#             continue\n",
        "#         if np.count_nonzero(t) == 0 and np.count_nonzero(p) == 0:\n",
        "#             metric.append(1)\n",
        "#             continue\n",
        "        \n",
        "        intersection = np.logical_and(t, p)\n",
        "        union = np.logical_or(t, p)\n",
        "        iou = (np.sum(intersection > 0) + 1e-10 )/ (np.sum(union > 0) + 1e-10)\n",
        "        thresholds = np.arange(0.5, 1, 0.05)\n",
        "        s = []\n",
        "        for thresh in thresholds:\n",
        "            s.append(iou > thresh)\n",
        "        metric.append(np.mean(s))\n",
        "\n",
        "    return np.mean(metric)\n",
        "\n",
        "def my_iou_metric(label, pred):\n",
        "    return tf.py_func(get_iou_vector, [label, pred>0.5], tf.float64)\n",
        "\n",
        "def my_iou_metric_2(label, pred):\n",
        "    return tf.py_func(get_iou_vector, [label, pred >0], tf.float64)\n"
      ],
      "execution_count": 0,
      "outputs": []
    },
    {
      "cell_type": "code",
      "metadata": {
        "id": "RJ5nk_jS3IpZ",
        "colab_type": "code",
        "colab": {}
      },
      "source": [
        "# code download from: https://github.com/bermanmaxim/LovaszSoftmax\n",
        "def lovasz_grad(gt_sorted):\n",
        "    \"\"\"\n",
        "    Computes gradient of the Lovasz extension w.r.t sorted errors\n",
        "    See Alg. 1 in paper\n",
        "    \"\"\"\n",
        "    gts = tf.reduce_sum(gt_sorted)\n",
        "    intersection = gts - tf.cumsum(gt_sorted)\n",
        "    union = gts + tf.cumsum(1. - gt_sorted)\n",
        "    jaccard = 1. - intersection / union\n",
        "    jaccard = tf.concat((jaccard[0:1], jaccard[1:] - jaccard[:-1]), 0)\n",
        "    return jaccard\n",
        "\n",
        "def lovasz_hinge(logits, labels, per_image=True, ignore=None):\n",
        "    \"\"\"\n",
        "    Binary Lovasz hinge loss\n",
        "      logits: [B, H, W] Variable, logits at each pixel (between -\\infty and +\\infty)\n",
        "      labels: [B, H, W] Tensor, binary ground truth masks (0 or 1)\n",
        "      per_image: compute the loss per image instead of per batch\n",
        "      ignore: void class id\n",
        "    \"\"\"\n",
        "    if per_image:\n",
        "        def treat_image(log_lab):\n",
        "            log, lab = log_lab\n",
        "            log, lab = tf.expand_dims(log, 0), tf.expand_dims(lab, 0)\n",
        "            log, lab = flatten_binary_scores(log, lab, ignore)\n",
        "            return lovasz_hinge_flat(log, lab)\n",
        "        losses = tf.map_fn(treat_image, (logits, labels), dtype=tf.float32)\n",
        "        loss = tf.reduce_mean(losses)\n",
        "    else:\n",
        "        loss = lovasz_hinge_flat(*flatten_binary_scores(logits, labels, ignore))\n",
        "    return loss\n",
        "\n",
        "def lovasz_hinge_flat(logits, labels):\n",
        "    \"\"\"\n",
        "    Binary Lovasz hinge loss\n",
        "      logits: [P] Variable, logits at each prediction (between -\\infty and +\\infty)\n",
        "      labels: [P] Tensor, binary ground truth labels (0 or 1)\n",
        "      ignore: label to ignore\n",
        "    \"\"\"\n",
        "    def compute_loss():\n",
        "        labelsf = tf.cast(labels, logits.dtype)\n",
        "        signs = 2. * labelsf - 1.\n",
        "        errors = 1. - logits * tf.stop_gradient(signs)\n",
        "        errors_sorted, perm = tf.nn.top_k(errors, k=tf.shape(errors)[0], name=\"descending_sort\")\n",
        "        gt_sorted = tf.gather(labelsf, perm)\n",
        "        grad = lovasz_grad(gt_sorted)\n",
        "        loss = tf.tensordot(tf.nn.relu(errors_sorted), tf.stop_gradient(grad), 1, name=\"loss_non_void\")\n",
        "        return loss\n",
        "\n",
        "    # deal with the void prediction case (only void pixels)\n",
        "    loss = tf.cond(tf.equal(tf.shape(logits)[0], 0),\n",
        "                   lambda: tf.reduce_sum(logits) * 0.,\n",
        "                   compute_loss,\n",
        "                   strict=True,\n",
        "                   name=\"loss\"\n",
        "                   )\n",
        "    return loss\n",
        "\n",
        "def flatten_binary_scores(scores, labels, ignore=None):\n",
        "    \"\"\"\n",
        "    Flattens predictions in the batch (binary case)\n",
        "    Remove labels equal to 'ignore'\n",
        "    \"\"\"\n",
        "    scores = tf.reshape(scores, (-1,))\n",
        "    labels = tf.reshape(labels, (-1,))\n",
        "    if ignore is None:\n",
        "        return scores, labels\n",
        "    valid = tf.not_equal(labels, ignore)\n",
        "    vscores = tf.boolean_mask(scores, valid, name='valid_scores')\n",
        "    vlabels = tf.boolean_mask(labels, valid, name='valid_labels')\n",
        "    return vscores, vlabels\n",
        "\n",
        "def lovasz_loss(y_true, y_pred):\n",
        "    y_true, y_pred = K.cast(K.squeeze(y_true, -1), 'int32'), K.cast(K.squeeze(y_pred, -1), 'float32')\n",
        "    #logits = K.log(y_pred / (1. - y_pred))\n",
        "    logits = y_pred #Jiaxin\n",
        "    loss = lovasz_hinge(logits, y_true, per_image = True, ignore = None)\n",
        "    return loss"
      ],
      "execution_count": 0,
      "outputs": []
    },
    {
      "cell_type": "code",
      "metadata": {
        "id": "3ILuIsX13NL4",
        "colab_type": "code",
        "colab": {}
      },
      "source": [
        "#Implementation\n",
        "#Both finding the optimal range of learning rates and assigning a learning rate schedule can be implemented quite trivially using Keras Callbacks.\n",
        "#Finding the optimal learning rate range\n",
        "#We can write a Keras Callback which tracks the loss associated with a learning rate varied linearly over a defined range.\n",
        "from keras.callbacks import Callback\n",
        "import matplotlib.pyplot as plt\n",
        "\n",
        "class LRFinder(Callback):\n",
        "    \n",
        "    '''\n",
        "    A simple callback for finding the optimal learning rate range for your model + dataset. \n",
        "    \n",
        "    # Usage\n",
        "        ```python\n",
        "            lr_finder = LRFinder(min_lr=1e-5, \n",
        "                                 max_lr=1e-2, \n",
        "                                 steps_per_epoch=np.ceil(epoch_size/batch_size), \n",
        "                                 epochs=3)\n",
        "            model.fit(X_train, Y_train, callbacks=[lr_finder])\n",
        "            \n",
        "            lr_finder.plot_loss()\n",
        "        ```\n",
        "    \n",
        "    # Arguments\n",
        "        min_lr: The lower bound of the learning rate range for the experiment.\n",
        "        max_lr: The upper bound of the learning rate range for the experiment.\n",
        "        steps_per_epoch: Number of mini-batches in the dataset. Calculated as `np.ceil(epoch_size/batch_size)`. \n",
        "        epochs: Number of epochs to run experiment. Usually between 2 and 4 epochs is sufficient. \n",
        "        \n",
        "    # References\n",
        "        Blog post: jeremyjordan.me/nn-learning-rate\n",
        "        Original paper: https://arxiv.org/abs/1506.01186\n",
        "    '''\n",
        "\n",
        "    def __init__(self, min_lr=1e-5, max_lr=1e-2, steps_per_epoch=None, epochs=None):\n",
        "        super().__init__()\n",
        "        \n",
        "        self.min_lr = min_lr\n",
        "        self.max_lr = max_lr\n",
        "        self.total_iterations = steps_per_epoch * epochs\n",
        "        self.iteration = 0\n",
        "        self.history = {}\n",
        "        \n",
        "    def clr(self):\n",
        "        '''Calculate the learning rate.'''\n",
        "        x = self.iteration / self.total_iterations \n",
        "        return self.min_lr + (self.max_lr-self.min_lr) * x\n",
        "        \n",
        "    def on_train_begin(self, logs=None):\n",
        "        '''Initialize the learning rate to the minimum value at the start of training.'''\n",
        "        logs = logs or {}\n",
        "        K.set_value(self.model.optimizer.lr, self.min_lr)\n",
        "        \n",
        "    def on_batch_end(self, epoch, logs=None):\n",
        "        '''Record previous batch statistics and update the learning rate.'''\n",
        "        logs = logs or {}\n",
        "        self.iteration += 1\n",
        "\n",
        "        self.history.setdefault('lr', []).append(K.get_value(self.model.optimizer.lr))\n",
        "        self.history.setdefault('iterations', []).append(self.iteration)\n",
        "\n",
        "        for k, v in logs.items():\n",
        "            self.history.setdefault(k, []).append(v)\n",
        "            \n",
        "        K.set_value(self.model.optimizer.lr, self.clr())\n",
        "    \n",
        "    def plot_lr(self):\n",
        "        '''Helper function to quickly inspect the learning rate schedule.'''\n",
        "        plt.plot(self.history['iterations'], self.history['lr'])\n",
        "        plt.yscale('log')\n",
        "        plt.xlabel('Iteration')\n",
        "        plt.ylabel('Learning rate')\n",
        "        \n",
        "    def plot_loss(self):\n",
        "        '''Helper function to quickly observe the learning rate experiment results.'''\n",
        "        plt.plot(self.history['lr'], self.history['loss'])\n",
        "        plt.xscale('log')\n",
        "        plt.xlabel('Learning rate')\n",
        "        plt.ylabel('Loss')"
      ],
      "execution_count": 0,
      "outputs": []
    },
    {
      "cell_type": "code",
      "metadata": {
        "id": "DCYfkVu73Sk2",
        "colab_type": "code",
        "colab": {}
      },
      "source": [
        "from keras.callbacks import Callback\n",
        "import keras.backend as K\n",
        "import numpy as np\n",
        "\n",
        "class SGDRScheduler(Callback):\n",
        "    '''Cosine annealing learning rate scheduler with periodic restarts.\n",
        "    # Usage\n",
        "        ```python\n",
        "            schedule = SGDRScheduler(min_lr=1e-5,\n",
        "                                     max_lr=1e-2,\n",
        "                                     steps_per_epoch=np.ceil(epoch_size/batch_size),\n",
        "                                     lr_decay=0.9,\n",
        "                                     cycle_length=5,\n",
        "                                     mult_factor=1.5)\n",
        "            model.fit(X_train, Y_train, epochs=100, callbacks=[schedule])\n",
        "        ```\n",
        "    # Arguments\n",
        "        min_lr: The lower bound of the learning rate range for the experiment.\n",
        "        max_lr: The upper bound of the learning rate range for the experiment.\n",
        "        steps_per_epoch: Number of mini-batches in the dataset. Calculated as `np.ceil(epoch_size/batch_size)`. \n",
        "        lr_decay: Reduce the max_lr after the completion of each cycle.\n",
        "                  Ex. To reduce the max_lr by 20% after each cycle, set this value to 0.8.\n",
        "        cycle_length: Initial number of epochs in a cycle.\n",
        "        mult_factor: Scale epochs_to_restart after each full cycle completion.\n",
        "    # References\n",
        "        Blog post: jeremyjordan.me/nn-learning-rate\n",
        "        Original paper: http://arxiv.org/abs/1608.03983\n",
        "    '''\n",
        "    def __init__(self,\n",
        "                 min_lr,\n",
        "                 max_lr,\n",
        "                 steps_per_epoch,\n",
        "                 lr_decay=1,\n",
        "                 cycle_length=10,\n",
        "                 mult_factor=2):\n",
        "\n",
        "        self.min_lr = min_lr\n",
        "        self.max_lr = max_lr\n",
        "        self.lr_decay = lr_decay\n",
        "        self.batch_since_restart = 0\n",
        "        self.next_restart = cycle_length\n",
        "        self.steps_per_epoch = steps_per_epoch\n",
        "        self.cycle_length = cycle_length\n",
        "        self.mult_factor = mult_factor\n",
        "        self.history = {}\n",
        "        \n",
        "    def clr(self):\n",
        "        '''Calculate the learning rate.'''\n",
        "        fraction_to_restart = self.batch_since_restart / (self.steps_per_epoch * self.cycle_length)\n",
        "        lr = self.min_lr + 0.5 * (self.max_lr - self.min_lr) * (1 + np.cos(fraction_to_restart * np.pi))\n",
        "        return lr\n",
        "\n",
        "    def on_train_begin(self, logs={}):\n",
        "        '''Initialize the learning rate to the minimum value at the start of training.'''\n",
        "        logs = logs or {}\n",
        "        K.set_value(self.model.optimizer.lr, self.max_lr)\n",
        "\n",
        "    def on_batch_end(self, batch, logs={}):\n",
        "        '''Record previous batch statistics and update the learning rate.'''\n",
        "        logs = logs or {}\n",
        "        self.history.setdefault('lr', []).append(K.get_value(self.model.optimizer.lr))\n",
        "        for k, v in logs.items():\n",
        "            self.history.setdefault(k, []).append(v)\n",
        "        self.batch_since_restart += 1\n",
        "        K.set_value(self.model.optimizer.lr, self.clr())\n",
        "\n",
        "    def on_epoch_end(self, epoch, logs={}):\n",
        "        '''Check for end of current cycle, apply restarts when necessary.'''\n",
        "        if epoch + 1 == self.next_restart:\n",
        "            self.batch_since_restart = 0\n",
        "            self.cycle_length = np.ceil(self.cycle_length * self.mult_factor)\n",
        "            self.next_restart += self.cycle_length\n",
        "            self.max_lr *= self.lr_decay\n",
        "            self.best_weights = self.model.get_weights()\n",
        "            \n",
        "    def on_train_end(self, logs={}):\n",
        "        '''Set weights to the values from the end of the most recent cycle for best performance.'''\n",
        "        self.model.set_weights(self.best_weights)"
      ],
      "execution_count": 0,
      "outputs": []
    },
    {
      "cell_type": "code",
      "metadata": {
        "id": "XftbeKu23Xdv",
        "colab_type": "code",
        "colab": {
          "base_uri": "https://localhost:8080/",
          "height": 51
        },
        "outputId": "9cae6076-afb0-4a9d-9a8b-be09b48d339e"
      },
      "source": [
        "x_trn, x_val, y_trn, y_val = train_test_split(x_train, y_train, test_size=0.2, random_state=79)\n",
        "print(x_trn.shape,y_trn.shape,x_val.shape,y_val.shape)\n",
        "print(x_train.shape,y_train.shape,x_valid.shape,y_valid.shape)"
      ],
      "execution_count": 86,
      "outputs": [
        {
          "output_type": "stream",
          "text": [
            "(501, 101, 101, 1) (501, 101, 101, 1) (126, 101, 101, 1) (126, 101, 101, 1)\n",
            "(627, 101, 101, 1) (627, 101, 101, 1) (157, 101, 101, 1) (157, 101, 101, 1)\n"
          ],
          "name": "stdout"
        }
      ]
    },
    {
      "cell_type": "code",
      "metadata": {
        "id": "9ODkJB6i3cDI",
        "colab_type": "code",
        "colab": {
          "base_uri": "https://localhost:8080/",
          "height": 535
        },
        "outputId": "4bc6d789-2ac1-49df-be25-937c94097099"
      },
      "source": [
        "# LR Search -- ResUnet with binary_crossentropy loss\n",
        "mt1 = time.time()\n",
        "input_layer = Input((img_size_target, img_size_target, 1))\n",
        "output_layer = build_model(input_layer, 16,0.5)\n",
        "model = Model(input_layer, output_layer)\n",
        "\n",
        "reduce_lr = ReduceLROnPlateau(monitor='my_iou_metric', mode = 'max',factor=0.5, patience=3, min_lr=0.00001, verbose=1)\n",
        "\n",
        "epochs = 5\n",
        "batch_size = 32\n",
        "epoch_size = len(x_trn)\n",
        "lr=0.01\n",
        "lr_finder = LRFinder(min_lr=1e-5, \n",
        "                    max_lr=1e-2, \n",
        "                    steps_per_epoch=np.ceil(epoch_size/batch_size), \n",
        "                    epochs=epochs)\n",
        "\n",
        "#optimizer = SGD(lr=lr, momentum=0.8, decay=0.001, nesterov=False)\n",
        "optimizer = optimizers.adam(lr = lr)\n",
        "model.compile(loss=\"binary_crossentropy\", optimizer=optimizer, metrics=[my_iou_metric])\n",
        "\n",
        "history = model.fit(x_trn, y_trn,\n",
        "                    validation_data=[x_val, y_val], \n",
        "                    epochs=epochs,\n",
        "                    batch_size=batch_size,\n",
        "                    callbacks=[lr_finder,reduce_lr], \n",
        "                    verbose=2)\n",
        "lr_finder.plot_loss()\n",
        "mt2 = time.time()"
      ],
      "execution_count": 87,
      "outputs": [
        {
          "output_type": "stream",
          "text": [
            "Train on 501 samples, validate on 126 samples\n",
            "Epoch 1/5\n"
          ],
          "name": "stdout"
        },
        {
          "output_type": "stream",
          "text": [
            "/usr/local/lib/python3.6/dist-packages/keras/callbacks.py:122: UserWarning: Method on_batch_end() is slow compared to the batch update (1.768914). Check your callbacks.\n",
            "  % delta_t_median)\n"
          ],
          "name": "stderr"
        },
        {
          "output_type": "stream",
          "text": [
            " - 18s - loss: -5.0540e+00 - my_iou_metric: 0.0000e+00 - val_loss: -1.4140e+01 - val_my_iou_metric: 0.0000e+00\n",
            "Epoch 2/5\n",
            " - 3s - loss: -1.4010e+01 - my_iou_metric: 0.0000e+00 - val_loss: -1.1597e+01 - val_my_iou_metric: 0.0000e+00\n",
            "Epoch 3/5\n",
            " - 3s - loss: -1.5780e+01 - my_iou_metric: 0.0000e+00 - val_loss: -1.0631e+01 - val_my_iou_metric: 0.0000e+00\n",
            "Epoch 4/5\n",
            " - 3s - loss: -1.6369e+01 - my_iou_metric: 0.0000e+00 - val_loss: -9.6435e+00 - val_my_iou_metric: 0.0000e+00\n",
            "\n",
            "Epoch 00004: ReduceLROnPlateau reducing learning rate to 0.004000999964773655.\n",
            "Epoch 5/5\n",
            " - 3s - loss: -1.6466e+01 - my_iou_metric: 0.0000e+00 - val_loss: -1.3593e+01 - val_my_iou_metric: 0.0000e+00\n"
          ],
          "name": "stdout"
        },
        {
          "output_type": "display_data",
          "data": {
            "image/png": "[encoded data removed]",
            "text/plain": [
              "<Figure size 432x288 with 1 Axes>"
            ]
          },
          "metadata": {
            "tags": []
          }
        }
      ]
    },
    {
      "cell_type": "code",
      "metadata": {
        "id": "W6mNNrB65bZN",
        "colab_type": "code",
        "colab": {
          "base_uri": "https://localhost:8080/",
          "height": 244
        },
        "outputId": "329dab8e-a4a2-49b9-cad2-1596be8ad00d"
      },
      "source": [
        "encoded_imgs = model.predict(x_val)\n",
        "decoded_imgs = model.predict(encoded_imgs)\n",
        "\n",
        "plot_results(x_test, decoded_imgs)"
      ],
      "execution_count": 88,
      "outputs": [
        {
          "output_type": "display_data",
          "data": {
            "image/png": "[encoded data removed]",
            "text/plain": [
              "<Figure size 1440x288 with 20 Axes>"
            ]
          },
          "metadata": {
            "tags": []
          }
        }
      ]
    },
    {
      "cell_type": "code",
      "metadata": {
        "id": "ayKmgGUn64Cr",
        "colab_type": "code",
        "colab": {
          "base_uri": "https://localhost:8080/",
          "height": 51
        },
        "outputId": "ff55de13-e5af-47e9-8432-60f37a1cf806"
      },
      "source": [
        "version = 1.1\n",
        "basic_name = f'LR_midsurface_v{version}'\n",
        "save_model_name = basic_name + '.model'\n",
        "submission_file = basic_name + '.csv'\n",
        "\n",
        "print(save_model_name)\n",
        "print(submission_file)"
      ],
      "execution_count": 89,
      "outputs": [
        {
          "output_type": "stream",
          "text": [
            "LR_midsurface_v1.1.model\n",
            "LR_midsurface_v1.1.csv\n"
          ],
          "name": "stdout"
        }
      ]
    },
    {
      "cell_type": "code",
      "metadata": {
        "id": "LgzZVUtD3gSm",
        "colab_type": "code",
        "colab": {
          "base_uri": "https://localhost:8080/",
          "height": 1000
        },
        "outputId": "821a191b-3fad-44f3-8f24-eda828fd6f04"
      },
      "source": [
        "# Test1-1 -- ResUnet with binary_crossentropy loss\n",
        "# With cosine annealing learning rate scheduler with periodic restarts\n",
        "\n",
        "mt1 = time.time()\n",
        "save_model_name = basic_name + '.model1'\n",
        "input_layer = Input((img_size_target, img_size_target, 1))\n",
        "output_layer = build_model(input_layer, 16,0.25)\n",
        "model = Model(input_layer, output_layer)\n",
        "\n",
        "model_checkpoint = ModelCheckpoint(save_model_name,monitor='my_iou_metric', \n",
        "                                   mode = 'max', save_best_only=True, verbose=1)\n",
        "reduce_lr = ReduceLROnPlateau(monitor='my_iou_metric', mode = 'max',factor=0.5, patience=3, min_lr=0.0001, verbose=1)\n",
        "\n",
        "epochs = 30\n",
        "batch_size = 32\n",
        "epoch_size = len(x_trn)\n",
        "lr=0.01\n",
        "schedule = SGDRScheduler(min_lr=1e-4,\n",
        "                        max_lr=1e-2,\n",
        "                        steps_per_epoch=np.ceil(epoch_size/batch_size),\n",
        "                        lr_decay=0.9,\n",
        "                        cycle_length=5,\n",
        "                        mult_factor=1.5)\n",
        "\n",
        "#optimizer = SGD(lr=lr, momentum=0.8, decay=0.001, nesterov=False)\n",
        "optimizer = optimizers.adam(lr = lr)\n",
        "model.compile(loss=\"binary_crossentropy\", optimizer=optimizer, metrics=[my_iou_metric])\n",
        "\n",
        "history = model.fit(x_trn, y_trn,\n",
        "                    validation_data=[x_val, y_val], \n",
        "                    epochs=epochs,\n",
        "                    batch_size=batch_size,\n",
        "                    callbacks=[schedule,reduce_lr, model_checkpoint], \n",
        "                    verbose=2)\n",
        "mt2 = time.time()\n",
        "print(f\"Test1-1 {epochs,batch_size} runtime = {(mt2-mt1)/60} mins\")\n",
        "print(\"Evaluation on X_valid:\", model.evaluate(x_valid, y_valid))"
      ],
      "execution_count": 90,
      "outputs": [
        {
          "output_type": "stream",
          "text": [
            "Train on 501 samples, validate on 126 samples\n",
            "Epoch 1/30\n"
          ],
          "name": "stdout"
        },
        {
          "output_type": "stream",
          "text": [
            "/usr/local/lib/python3.6/dist-packages/keras/callbacks.py:122: UserWarning: Method on_batch_end() is slow compared to the batch update (1.774230). Check your callbacks.\n",
            "  % delta_t_median)\n"
          ],
          "name": "stderr"
        },
        {
          "output_type": "stream",
          "text": [
            " - 17s - loss: -1.2563e+01 - my_iou_metric: 0.0000e+00 - val_loss: -1.3765e+01 - val_my_iou_metric: 0.0000e+00\n",
            "\n",
            "Epoch 00001: my_iou_metric improved from -inf to 0.00000, saving model to LR_midsurface_v1.1.model1\n",
            "Epoch 2/30\n",
            " - 5s - loss: -1.4440e+01 - my_iou_metric: 0.0000e+00 - val_loss: -1.4025e+01 - val_my_iou_metric: 0.0000e+00\n",
            "\n",
            "Epoch 00002: my_iou_metric did not improve from 0.00000\n",
            "Epoch 3/30\n",
            " - 5s - loss: -1.5139e+01 - my_iou_metric: 0.0000e+00 - val_loss: -1.4116e+01 - val_my_iou_metric: 0.0000e+00\n",
            "\n",
            "Epoch 00003: my_iou_metric did not improve from 0.00000\n",
            "Epoch 4/30\n",
            " - 5s - loss: -1.6323e+01 - my_iou_metric: 0.0000e+00 - val_loss: -1.5686e+01 - val_my_iou_metric: 0.0000e+00\n",
            "\n",
            "Epoch 00004: ReduceLROnPlateau reducing learning rate to 0.0005226829671300948.\n",
            "\n",
            "Epoch 00004: my_iou_metric did not improve from 0.00000\n",
            "Epoch 5/30\n",
            " - 5s - loss: -1.6562e+01 - my_iou_metric: 0.0000e+00 - val_loss: -1.6224e+01 - val_my_iou_metric: 0.0000e+00\n",
            "\n",
            "Epoch 00005: my_iou_metric did not improve from 0.00000\n",
            "Epoch 6/30\n",
            " - 5s - loss: -1.6525e+01 - my_iou_metric: 0.0000e+00 - val_loss: -8.2086e+00 - val_my_iou_metric: 0.0000e+00\n",
            "\n",
            "Epoch 00006: my_iou_metric did not improve from 0.00000\n",
            "Epoch 7/30\n",
            " - 5s - loss: -1.6786e+01 - my_iou_metric: 0.0000e+00 - val_loss: -1.2960e+01 - val_my_iou_metric: 0.0000e+00\n",
            "\n",
            "Epoch 00007: ReduceLROnPlateau reducing learning rate to 0.0038483126554638147.\n",
            "\n",
            "Epoch 00007: my_iou_metric did not improve from 0.00000\n",
            "Epoch 8/30\n",
            " - 5s - loss: -1.6841e+01 - my_iou_metric: 0.0000e+00 - val_loss: -1.5683e+01 - val_my_iou_metric: 0.0000e+00\n",
            "\n",
            "Epoch 00008: my_iou_metric did not improve from 0.00000\n",
            "Epoch 9/30\n",
            " - 5s - loss: -1.6881e+01 - my_iou_metric: 0.0000e+00 - val_loss: -1.5789e+01 - val_my_iou_metric: 0.0079\n",
            "\n",
            "Epoch 00009: my_iou_metric did not improve from 0.00000\n",
            "Epoch 10/30\n",
            " - 5s - loss: -1.6871e+01 - my_iou_metric: 0.0000e+00 - val_loss: -1.6174e+01 - val_my_iou_metric: 0.0000e+00\n",
            "\n",
            "Epoch 00010: ReduceLROnPlateau reducing learning rate to 0.0014235293492674828.\n",
            "\n",
            "Epoch 00010: my_iou_metric did not improve from 0.00000\n",
            "Epoch 11/30\n",
            " - 5s - loss: -1.6915e+01 - my_iou_metric: 0.0000e+00 - val_loss: -1.5701e+01 - val_my_iou_metric: 0.1421\n",
            "\n",
            "Epoch 00011: my_iou_metric did not improve from 0.00000\n",
            "Epoch 12/30\n",
            " - 5s - loss: -1.6942e+01 - my_iou_metric: 0.0054 - val_loss: -1.6257e+01 - val_my_iou_metric: 0.1786\n",
            "\n",
            "Epoch 00012: my_iou_metric improved from 0.00000 to 0.00539, saving model to LR_midsurface_v1.1.model1\n",
            "Epoch 13/30\n",
            " - 5s - loss: -1.6954e+01 - my_iou_metric: 0.0046 - val_loss: -1.6422e+01 - val_my_iou_metric: 0.1548\n",
            "\n",
            "Epoch 00013: my_iou_metric did not improve from 0.00539\n",
            "Epoch 14/30\n",
            " - 5s - loss: -1.6879e+01 - my_iou_metric: 5.9880e-04 - val_loss: -1.5501e+01 - val_my_iou_metric: 0.0087\n",
            "\n",
            "Epoch 00014: my_iou_metric did not improve from 0.00539\n",
            "Epoch 15/30\n",
            " - 5s - loss: -1.6877e+01 - my_iou_metric: 0.0168 - val_loss: -1.4565e+01 - val_my_iou_metric: 0.0000e+00\n",
            "\n",
            "Epoch 00015: my_iou_metric improved from 0.00539 to 0.01677, saving model to LR_midsurface_v1.1.model1\n",
            "Epoch 16/30\n",
            " - 5s - loss: -1.6897e+01 - my_iou_metric: 0.0379 - val_loss: -1.4082e+01 - val_my_iou_metric: 0.0000e+00\n",
            "\n",
            "Epoch 00016: my_iou_metric improved from 0.01677 to 0.03792, saving model to LR_midsurface_v1.1.model1\n",
            "Epoch 17/30\n",
            " - 5s - loss: -1.6936e+01 - my_iou_metric: 0.0770 - val_loss: -1.4472e+01 - val_my_iou_metric: 0.0000e+00\n",
            "\n",
            "Epoch 00017: my_iou_metric improved from 0.03792 to 0.07705, saving model to LR_midsurface_v1.1.model1\n",
            "Epoch 18/30\n",
            " - 5s - loss: -1.6959e+01 - my_iou_metric: 0.1212 - val_loss: -1.5246e+01 - val_my_iou_metric: 0.0000e+00\n",
            "\n",
            "Epoch 00018: my_iou_metric improved from 0.07705 to 0.12116, saving model to LR_midsurface_v1.1.model1\n",
            "Epoch 19/30\n",
            " - 5s - loss: -1.6988e+01 - my_iou_metric: 0.0513 - val_loss: -1.5748e+01 - val_my_iou_metric: 0.0000e+00\n",
            "\n",
            "Epoch 00019: my_iou_metric did not improve from 0.12116\n",
            "Epoch 20/30\n",
            " - 5s - loss: -1.6935e+01 - my_iou_metric: 0.0804 - val_loss: -1.6543e+01 - val_my_iou_metric: 0.0000e+00\n",
            "\n",
            "Epoch 00020: my_iou_metric did not improve from 0.12116\n",
            "Epoch 21/30\n",
            " - 5s - loss: -1.6963e+01 - my_iou_metric: 0.1242 - val_loss: -1.6594e+01 - val_my_iou_metric: 0.0278\n",
            "\n",
            "Epoch 00021: my_iou_metric improved from 0.12116 to 0.12415, saving model to LR_midsurface_v1.1.model1\n",
            "Epoch 22/30\n",
            " - 4s - loss: -1.7005e+01 - my_iou_metric: 0.0477 - val_loss: -1.6338e+01 - val_my_iou_metric: 0.1881\n",
            "\n",
            "Epoch 00022: my_iou_metric did not improve from 0.12415\n",
            "Epoch 23/30\n",
            " - 3s - loss: -1.7024e+01 - my_iou_metric: 0.0864 - val_loss: -1.6667e+01 - val_my_iou_metric: 0.2468\n",
            "\n",
            "Epoch 00023: my_iou_metric did not improve from 0.12415\n",
            "Epoch 24/30\n",
            " - 3s - loss: -1.7027e+01 - my_iou_metric: 0.1032 - val_loss: -1.6733e+01 - val_my_iou_metric: 0.2603\n",
            "\n",
            "Epoch 00024: ReduceLROnPlateau reducing learning rate to 0.0001181483457912691.\n",
            "\n",
            "Epoch 00024: my_iou_metric did not improve from 0.12415\n",
            "Epoch 25/30\n",
            " - 3s - loss: -1.7031e+01 - my_iou_metric: 0.0836 - val_loss: -1.6776e+01 - val_my_iou_metric: 0.2889\n",
            "\n",
            "Epoch 00025: my_iou_metric did not improve from 0.12415\n",
            "Epoch 26/30\n",
            " - 3s - loss: -1.6866e+01 - my_iou_metric: 0.0317 - val_loss: -1.5132e+01 - val_my_iou_metric: 0.0000e+00\n",
            "\n",
            "Epoch 00026: my_iou_metric did not improve from 0.12415\n",
            "Epoch 27/30\n",
            " - 3s - loss: -1.6932e+01 - my_iou_metric: 0.0531 - val_loss: -1.6578e+01 - val_my_iou_metric: 0.0230\n",
            "\n",
            "Epoch 00027: ReduceLROnPlateau reducing learning rate to 0.003536597592756152.\n",
            "\n",
            "Epoch 00027: my_iou_metric did not improve from 0.12415\n",
            "Epoch 28/30\n",
            " - 3s - loss: -1.6963e+01 - my_iou_metric: 0.1573 - val_loss: -1.6599e+01 - val_my_iou_metric: 0.0000e+00\n",
            "\n",
            "Epoch 00028: my_iou_metric improved from 0.12415 to 0.15729, saving model to LR_midsurface_v1.1.model1\n",
            "Epoch 29/30\n",
            " - 3s - loss: -1.6951e+01 - my_iou_metric: 0.0786 - val_loss: -1.6269e+01 - val_my_iou_metric: 0.0000e+00\n",
            "\n",
            "Epoch 00029: my_iou_metric did not improve from 0.15729\n",
            "Epoch 30/30\n",
            " - 3s - loss: -1.7007e+01 - my_iou_metric: 0.2273 - val_loss: -1.6402e+01 - val_my_iou_metric: 0.0770\n",
            "\n",
            "Epoch 00030: my_iou_metric improved from 0.15729 to 0.22735, saving model to LR_midsurface_v1.1.model1\n",
            "Test1-1 (30, 32) runtime = 8.2863804936409 mins\n",
            "157/157 [==============================] - 0s 3ms/step\n",
            "Evaluation on X_valid: [-17.249499740114636, 0.28853503184713375]\n"
          ],
          "name": "stdout"
        }
      ]
    },
    {
      "cell_type": "code",
      "metadata": {
        "id": "jcJg2Gxu7Y0B",
        "colab_type": "code",
        "colab": {
          "base_uri": "https://localhost:8080/",
          "height": 244
        },
        "outputId": "10700fc4-5902-4101-b3af-798bf2579e6e"
      },
      "source": [
        "encoded_imgs = model.predict(x_val)\n",
        "decoded_imgs = model.predict(encoded_imgs)\n",
        "\n",
        "plot_results(x_test, decoded_imgs)"
      ],
      "execution_count": 91,
      "outputs": [
        {
          "output_type": "display_data",
          "data": {
            "image/png": "[encoded data removed]",
            "text/plain": [
              "<Figure size 1440x288 with 20 Axes>"
            ]
          },
          "metadata": {
            "tags": []
          }
        }
      ]
    },
    {
      "cell_type": "code",
      "metadata": {
        "id": "0JIK0E-k4Xj4",
        "colab_type": "code",
        "colab": {
          "base_uri": "https://localhost:8080/",
          "height": 349
        },
        "outputId": "47f88bf9-c777-4515-edb9-cda172b84218"
      },
      "source": [
        "#Test1-1 Performance\n",
        "fig, (ax_loss, ax_score) = plt.subplots(1, 2, figsize=(15,5))\n",
        "ax_loss.plot(history.epoch, history.history[\"loss\"], label=\"Train loss\")\n",
        "ax_loss.plot(history.epoch, history.history[\"val_loss\"], label=\"Validation loss\")\n",
        "ax_loss.legend()\n",
        "plt.title('ResUNet: Binary Crossentropy Loss')\n",
        "ax_score.plot(history.epoch, history.history[\"my_iou_metric\"], label=\"Train score\")\n",
        "ax_score.plot(history.epoch, history.history[\"val_my_iou_metric\"], label=\"Validation score\")\n",
        "ax_score.legend()\n",
        "plt.title('Cosine annealing learning rate scheduler with periodic restarts')"
      ],
      "execution_count": 92,
      "outputs": [
        {
          "output_type": "execute_result",
          "data": {
            "text/plain": [
              "Text(0.5, 1.0, 'Cosine annealing learning rate scheduler with periodic restarts')"
            ]
          },
          "metadata": {
            "tags": []
          },
          "execution_count": 92
        },
        {
          "output_type": "display_data",
          "data": {
            "image/png": "[encoded data removed]",
            "text/plain": [
              "<Figure size 1080x360 with 2 Axes>"
            ]
          },
          "metadata": {
            "tags": []
          }
        }
      ]
    },
    {
      "cell_type": "code",
      "metadata": {
        "id": "u9GqIMDT4Xu4",
        "colab_type": "code",
        "colab": {}
      },
      "source": [
        "save_model_name = basic_name + '.model1'\n"
      ],
      "execution_count": 0,
      "outputs": []
    },
    {
      "cell_type": "code",
      "metadata": {
        "id": "dTphgyfV4Xzq",
        "colab_type": "code",
        "colab": {
          "base_uri": "https://localhost:8080/",
          "height": 1000
        },
        "outputId": "6993fef5-a7eb-42e0-b756-f84531879289"
      },
      "source": [
        "# Test1-2: continue with Lovasz Loss, LR Search\n",
        "mt1 = time.time()\n",
        "model = load_model(save_model_name,custom_objects={'my_iou_metric': my_iou_metric})\n",
        "input_x = model.layers[0].input\n",
        "output_layer = model.layers[-1].input\n",
        "model = Model(input_x, output_layer)\n",
        "\n",
        "reduce_lr = ReduceLROnPlateau(monitor='val_my_iou_metric_2', mode = 'max',factor=0.5, patience=2, min_lr=0.00001, verbose=1)\n",
        "epochs = 30\n",
        "batch_size = 32\n",
        "epoch_size = len(x_trn)\n",
        "lr=0.001\n",
        "lr_finder = LRFinder(min_lr=1e-5, \n",
        "                    max_lr=1e-2, \n",
        "                    steps_per_epoch=np.ceil(epoch_size/batch_size), \n",
        "                    epochs=epochs)\n",
        "\n",
        "c = optimizers.adam(lr = lr)\n",
        "model.compile(loss=lovasz_loss, optimizer=c, metrics=[my_iou_metric_2])\n",
        "history = model.fit(x_trn, y_trn,\n",
        "                    validation_data=[x_val, y_val], \n",
        "                    epochs=epochs,\n",
        "                    batch_size=batch_size,\n",
        "                    callbacks=[lr_finder,reduce_lr], \n",
        "                    verbose=2)\n",
        "lr_finder.plot_loss()\n",
        "mt2 = time.time()"
      ],
      "execution_count": 94,
      "outputs": [
        {
          "output_type": "stream",
          "text": [
            "Train on 501 samples, validate on 126 samples\n",
            "Epoch 1/30\n"
          ],
          "name": "stdout"
        },
        {
          "output_type": "stream",
          "text": [
            "/usr/local/lib/python3.6/dist-packages/keras/callbacks.py:122: UserWarning: Method on_batch_end() is slow compared to the batch update (1.916127). Check your callbacks.\n",
            "  % delta_t_median)\n"
          ],
          "name": "stderr"
        },
        {
          "output_type": "stream",
          "text": [
            " - 20s - loss: 0.7736 - my_iou_metric_2: 0.2511 - val_loss: 0.6840 - val_my_iou_metric_2: 0.4111\n",
            "Epoch 2/30\n",
            " - 4s - loss: 0.6377 - my_iou_metric_2: 0.0329 - val_loss: 0.6127 - val_my_iou_metric_2: 0.4056\n",
            "Epoch 3/30\n",
            " - 4s - loss: 0.6206 - my_iou_metric_2: 0.0295 - val_loss: 0.6542 - val_my_iou_metric_2: 0.4579\n",
            "Epoch 4/30\n",
            " - 4s - loss: 0.6121 - my_iou_metric_2: 0.0000e+00 - val_loss: 0.7174 - val_my_iou_metric_2: 0.4349\n",
            "Epoch 5/30\n",
            " - 4s - loss: 0.6351 - my_iou_metric_2: 0.0174 - val_loss: 0.7467 - val_my_iou_metric_2: 0.3714\n",
            "\n",
            "Epoch 00005: ReduceLROnPlateau reducing learning rate to 0.0008374999742954969.\n",
            "Epoch 6/30\n",
            " - 4s - loss: 0.6561 - my_iou_metric_2: 0.0000e+00 - val_loss: 0.7569 - val_my_iou_metric_2: 0.2468\n",
            "Epoch 7/30\n",
            " - 4s - loss: 0.7080 - my_iou_metric_2: 0.0000e+00 - val_loss: 0.8276 - val_my_iou_metric_2: 0.0000e+00\n",
            "\n",
            "Epoch 00007: ReduceLROnPlateau reducing learning rate to 0.001170499948784709.\n",
            "Epoch 8/30\n",
            " - 4s - loss: 0.7755 - my_iou_metric_2: 0.0000e+00 - val_loss: 0.7999 - val_my_iou_metric_2: 0.1849\n",
            "Epoch 9/30\n",
            " - 4s - loss: 0.6405 - my_iou_metric_2: 0.0000e+00 - val_loss: 0.6803 - val_my_iou_metric_2: 0.0825\n",
            "\n",
            "Epoch 00009: ReduceLROnPlateau reducing learning rate to 0.0015035000396892428.\n",
            "Epoch 10/30\n",
            " - 4s - loss: 0.5873 - my_iou_metric_2: 0.0000e+00 - val_loss: 0.6197 - val_my_iou_metric_2: 0.0302\n",
            "Epoch 11/30\n",
            " - 4s - loss: 0.5746 - my_iou_metric_2: 0.0000e+00 - val_loss: 0.6060 - val_my_iou_metric_2: 0.0000e+00\n",
            "\n",
            "Epoch 00011: ReduceLROnPlateau reducing learning rate to 0.0018365000141784549.\n",
            "Epoch 12/30\n",
            " - 4s - loss: 0.5838 - my_iou_metric_2: 0.0000e+00 - val_loss: 0.8316 - val_my_iou_metric_2: 0.0000e+00\n",
            "Epoch 13/30\n",
            " - 4s - loss: 0.5629 - my_iou_metric_2: 0.0000e+00 - val_loss: 0.7986 - val_my_iou_metric_2: 0.0000e+00\n",
            "\n",
            "Epoch 00013: ReduceLROnPlateau reducing learning rate to 0.0021695001050829887.\n",
            "Epoch 14/30\n",
            " - 4s - loss: 0.5611 - my_iou_metric_2: 0.0000e+00 - val_loss: 1.1308 - val_my_iou_metric_2: 0.0000e+00\n",
            "Epoch 15/30\n",
            " - 4s - loss: 0.5651 - my_iou_metric_2: 0.0000e+00 - val_loss: 0.9382 - val_my_iou_metric_2: 0.0000e+00\n",
            "\n",
            "Epoch 00015: ReduceLROnPlateau reducing learning rate to 0.0025025000795722008.\n",
            "Epoch 16/30\n",
            " - 4s - loss: 0.5523 - my_iou_metric_2: 1.9960e-04 - val_loss: 0.7169 - val_my_iou_metric_2: 0.0000e+00\n",
            "Epoch 17/30\n",
            " - 6s - loss: 0.5388 - my_iou_metric_2: 0.0000e+00 - val_loss: 0.6480 - val_my_iou_metric_2: 0.0000e+00\n",
            "\n",
            "Epoch 00017: ReduceLROnPlateau reducing learning rate to 0.002835500054061413.\n",
            "Epoch 18/30\n",
            " - 7s - loss: 0.5422 - my_iou_metric_2: 0.0000e+00 - val_loss: 0.6302 - val_my_iou_metric_2: 0.0000e+00\n",
            "Epoch 19/30\n",
            " - 7s - loss: 0.5315 - my_iou_metric_2: 0.0052 - val_loss: 0.6191 - val_my_iou_metric_2: 0.0000e+00\n",
            "\n",
            "Epoch 00019: ReduceLROnPlateau reducing learning rate to 0.003168500028550625.\n",
            "Epoch 20/30\n",
            " - 7s - loss: 0.5335 - my_iou_metric_2: 0.0048 - val_loss: 0.6100 - val_my_iou_metric_2: 0.0000e+00\n",
            "Epoch 21/30\n",
            " - 7s - loss: 0.5337 - my_iou_metric_2: 0.0000e+00 - val_loss: 0.6379 - val_my_iou_metric_2: 0.0000e+00\n",
            "\n",
            "Epoch 00021: ReduceLROnPlateau reducing learning rate to 0.003501500003039837.\n",
            "Epoch 22/30\n",
            " - 7s - loss: 0.5418 - my_iou_metric_2: 0.0000e+00 - val_loss: 0.6227 - val_my_iou_metric_2: 0.0000e+00\n",
            "Epoch 23/30\n",
            " - 7s - loss: 0.5441 - my_iou_metric_2: 0.0000e+00 - val_loss: 0.6595 - val_my_iou_metric_2: 0.0000e+00\n",
            "\n",
            "Epoch 00023: ReduceLROnPlateau reducing learning rate to 0.003834499977529049.\n",
            "Epoch 24/30\n",
            " - 7s - loss: 0.5511 - my_iou_metric_2: 0.0000e+00 - val_loss: 0.6009 - val_my_iou_metric_2: 0.0000e+00\n",
            "Epoch 25/30\n",
            " - 7s - loss: 0.5237 - my_iou_metric_2: 0.0000e+00 - val_loss: 0.5966 - val_my_iou_metric_2: 0.0000e+00\n",
            "\n",
            "Epoch 00025: ReduceLROnPlateau reducing learning rate to 0.004167499952018261.\n",
            "Epoch 26/30\n",
            " - 7s - loss: 0.5246 - my_iou_metric_2: 1.9960e-04 - val_loss: 0.6252 - val_my_iou_metric_2: 0.0000e+00\n",
            "Epoch 27/30\n",
            " - 7s - loss: 0.5269 - my_iou_metric_2: 0.0000e+00 - val_loss: 0.6211 - val_my_iou_metric_2: 0.0000e+00\n",
            "\n",
            "Epoch 00027: ReduceLROnPlateau reducing learning rate to 0.004500499926507473.\n",
            "Epoch 28/30\n",
            " - 6s - loss: 0.5378 - my_iou_metric_2: 0.0000e+00 - val_loss: 0.8945 - val_my_iou_metric_2: 0.0000e+00\n",
            "Epoch 29/30\n",
            " - 4s - loss: 0.5383 - my_iou_metric_2: 0.0000e+00 - val_loss: 0.9380 - val_my_iou_metric_2: 7.9365e-04\n",
            "\n",
            "Epoch 00029: ReduceLROnPlateau reducing learning rate to 0.004833499900996685.\n",
            "Epoch 30/30\n",
            " - 4s - loss: 0.5395 - my_iou_metric_2: 0.0000e+00 - val_loss: 0.6935 - val_my_iou_metric_2: 0.0000e+00\n"
          ],
          "name": "stdout"
        },
        {
          "output_type": "display_data",
          "data": {
            "image/png": "[encoded data removed]",
            "text/plain": [
              "<Figure size 432x288 with 1 Axes>"
            ]
          },
          "metadata": {
            "tags": []
          }
        }
      ]
    },
    {
      "cell_type": "code",
      "metadata": {
        "id": "qX5l05W18aTn",
        "colab_type": "code",
        "colab": {
          "base_uri": "https://localhost:8080/",
          "height": 244
        },
        "outputId": "d389f0e5-ba64-47f4-c962-7837e2abd511"
      },
      "source": [
        "encoded_imgs = model.predict(x_val)\n",
        "decoded_imgs = model.predict(encoded_imgs)\n",
        "\n",
        "plot_results(x_test, decoded_imgs)"
      ],
      "execution_count": 95,
      "outputs": [
        {
          "output_type": "display_data",
          "data": {
            "image/png": "[encoded data removed]",
            "text/plain": [
              "<Figure size 1440x288 with 20 Axes>"
            ]
          },
          "metadata": {
            "tags": []
          }
        }
      ]
    },
    {
      "cell_type": "code",
      "metadata": {
        "id": "nZA-Fb194X3B",
        "colab_type": "code",
        "colab": {
          "base_uri": "https://localhost:8080/",
          "height": 1000
        },
        "outputId": "758f494a-b569-476c-9d70-916aef09291c"
      },
      "source": [
        "# Test1-2: continue with Lovasz Loss\n",
        "mt1 = time.time()\n",
        "model = load_model(save_model_name,custom_objects={'my_iou_metric': my_iou_metric})\n",
        "input_x = model.layers[0].input\n",
        "output_layer = model.layers[-1].input\n",
        "model = Model(input_x, output_layer)\n",
        "\n",
        "save_model_name = basic_name + '.model2'\n",
        "early_stopping = EarlyStopping(monitor='val_my_iou_metric_2', mode = 'max',patience=20, verbose=1)\n",
        "model_checkpoint = ModelCheckpoint(save_model_name,monitor='val_my_iou_metric_2', \n",
        "                                   mode = 'max', save_best_only=True, verbose=1)\n",
        "reduce_lr = ReduceLROnPlateau(monitor='val_my_iou_metric_2', mode = 'max',factor=0.5, patience=2, min_lr=0.00001, verbose=1)\n",
        "epochs = 30\n",
        "batch_size = 32\n",
        "epoch_size = len(x_trn)\n",
        "lr=0.001\n",
        "schedule = SGDRScheduler(min_lr=1e-5,\n",
        "                        max_lr=1e-3,\n",
        "                        steps_per_epoch=np.ceil(epoch_size/batch_size),\n",
        "                        lr_decay=0.9,\n",
        "                        cycle_length=5,\n",
        "                        mult_factor=1.5)\n",
        "c = optimizers.adam(lr = lr)\n",
        "model.compile(loss=lovasz_loss, optimizer=c, metrics=[my_iou_metric_2])\n",
        "history = model.fit(x_trn, y_trn,\n",
        "                    validation_data=[x_val, y_val], \n",
        "                    epochs=epochs,\n",
        "                    batch_size=batch_size,\n",
        "                    callbacks=[schedule,reduce_lr,model_checkpoint], \n",
        "                    verbose=2)\n",
        "mt2 = time.time()\n",
        "print(f\"Test1-2 {epochs,batch_size} runtime = {(mt2-mt1)/60} mins\")\n",
        "print(\"Evaluation on X_valid:\", model.evaluate(x_valid, y_valid))"
      ],
      "execution_count": 96,
      "outputs": [
        {
          "output_type": "stream",
          "text": [
            "Train on 501 samples, validate on 126 samples\n",
            "Epoch 1/30\n"
          ],
          "name": "stdout"
        },
        {
          "output_type": "stream",
          "text": [
            "/usr/local/lib/python3.6/dist-packages/keras/callbacks.py:122: UserWarning: Method on_batch_end() is slow compared to the batch update (3.664490). Check your callbacks.\n",
            "  % delta_t_median)\n"
          ],
          "name": "stderr"
        },
        {
          "output_type": "stream",
          "text": [
            " - 35s - loss: 0.6591 - my_iou_metric_2: 0.0942 - val_loss: 0.6237 - val_my_iou_metric_2: 0.3556\n",
            "\n",
            "Epoch 00001: val_my_iou_metric_2 improved from -inf to 0.35556, saving model to LR_midsurface_v1.1.model2\n",
            "Epoch 2/30\n",
            " - 4s - loss: 0.6155 - my_iou_metric_2: 0.0132 - val_loss: 0.6794 - val_my_iou_metric_2: 0.0381\n",
            "\n",
            "Epoch 00002: val_my_iou_metric_2 did not improve from 0.35556\n",
            "Epoch 3/30\n",
            " - 4s - loss: 0.5939 - my_iou_metric_2: 0.0000e+00 - val_loss: 0.6527 - val_my_iou_metric_2: 0.1111\n",
            "\n",
            "Epoch 00003: ReduceLROnPlateau reducing learning rate to 0.00017601829313207418.\n",
            "\n",
            "Epoch 00003: val_my_iou_metric_2 did not improve from 0.35556\n",
            "Epoch 4/30\n",
            " - 4s - loss: 0.5863 - my_iou_metric_2: 0.0000e+00 - val_loss: 0.6369 - val_my_iou_metric_2: 0.0087\n",
            "\n",
            "Epoch 00004: val_my_iou_metric_2 did not improve from 0.35556\n",
            "Epoch 5/30\n",
            " - 4s - loss: 0.5846 - my_iou_metric_2: 0.0000e+00 - val_loss: 0.6280 - val_my_iou_metric_2: 0.0000e+00\n",
            "\n",
            "Epoch 00005: val_my_iou_metric_2 did not improve from 0.35556\n",
            "Epoch 6/30\n",
            " - 4s - loss: 0.5806 - my_iou_metric_2: 0.0000e+00 - val_loss: 0.6182 - val_my_iou_metric_2: 0.0000e+00\n",
            "\n",
            "Epoch 00006: ReduceLROnPlateau reducing learning rate to 0.0004330631927587092.\n",
            "\n",
            "Epoch 00006: val_my_iou_metric_2 did not improve from 0.35556\n",
            "Epoch 7/30\n",
            " - 4s - loss: 0.5732 - my_iou_metric_2: 0.0000e+00 - val_loss: 0.6197 - val_my_iou_metric_2: 0.0024\n",
            "\n",
            "Epoch 00007: val_my_iou_metric_2 did not improve from 0.35556\n",
            "Epoch 8/30\n",
            " - 4s - loss: 0.5693 - my_iou_metric_2: 0.0000e+00 - val_loss: 0.6225 - val_my_iou_metric_2: 0.0159\n",
            "\n",
            "Epoch 00008: ReduceLROnPlateau reducing learning rate to 0.00031264705467037857.\n",
            "\n",
            "Epoch 00008: val_my_iou_metric_2 did not improve from 0.35556\n",
            "Epoch 9/30\n",
            " - 4s - loss: 0.5687 - my_iou_metric_2: 0.0000e+00 - val_loss: 0.6213 - val_my_iou_metric_2: 0.0040\n",
            "\n",
            "Epoch 00009: val_my_iou_metric_2 did not improve from 0.35556\n",
            "Epoch 10/30\n",
            " - 4s - loss: 0.5685 - my_iou_metric_2: 0.0000e+00 - val_loss: 0.6240 - val_my_iou_metric_2: 0.0262\n",
            "\n",
            "Epoch 00010: ReduceLROnPlateau reducing learning rate to 0.00014235293201636523.\n",
            "\n",
            "Epoch 00010: val_my_iou_metric_2 did not improve from 0.35556\n",
            "Epoch 11/30\n",
            " - 4s - loss: 0.5687 - my_iou_metric_2: 0.0000e+00 - val_loss: 0.6235 - val_my_iou_metric_2: 0.0278\n",
            "\n",
            "Epoch 00011: val_my_iou_metric_2 did not improve from 0.35556\n",
            "Epoch 12/30\n",
            " - 4s - loss: 0.5687 - my_iou_metric_2: 0.0000e+00 - val_loss: 0.6174 - val_my_iou_metric_2: 0.0016\n",
            "\n",
            "Epoch 00012: ReduceLROnPlateau reducing learning rate to 2.1936804841971025e-05.\n",
            "\n",
            "Epoch 00012: val_my_iou_metric_2 did not improve from 0.35556\n",
            "Epoch 13/30\n",
            " - 4s - loss: 0.5696 - my_iou_metric_2: 0.0000e+00 - val_loss: 0.6138 - val_my_iou_metric_2: 0.0000e+00\n",
            "\n",
            "Epoch 00013: val_my_iou_metric_2 did not improve from 0.35556\n",
            "Epoch 14/30\n",
            " - 4s - loss: 0.5804 - my_iou_metric_2: 0.0000e+00 - val_loss: 0.5800 - val_my_iou_metric_2: 0.0000e+00\n",
            "\n",
            "Epoch 00014: ReduceLROnPlateau reducing learning rate to 0.0003981851623393595.\n",
            "\n",
            "Epoch 00014: val_my_iou_metric_2 did not improve from 0.35556\n",
            "Epoch 15/30\n",
            " - 4s - loss: 0.5793 - my_iou_metric_2: 0.0000e+00 - val_loss: 0.6248 - val_my_iou_metric_2: 0.1865\n",
            "\n",
            "Epoch 00015: val_my_iou_metric_2 did not improve from 0.35556\n",
            "Epoch 16/30\n",
            " - 4s - loss: 0.5707 - my_iou_metric_2: 0.0000e+00 - val_loss: 0.6325 - val_my_iou_metric_2: 0.4032\n",
            "\n",
            "Epoch 00016: val_my_iou_metric_2 improved from 0.35556 to 0.40317, saving model to LR_midsurface_v1.1.model2\n",
            "Epoch 17/30\n",
            " - 4s - loss: 0.5780 - my_iou_metric_2: 0.1036 - val_loss: 0.6225 - val_my_iou_metric_2: 0.4270\n",
            "\n",
            "Epoch 00017: val_my_iou_metric_2 improved from 0.40317 to 0.42698, saving model to LR_midsurface_v1.1.model2\n",
            "Epoch 18/30\n",
            " - 4s - loss: 0.6163 - my_iou_metric_2: 0.2148 - val_loss: 0.6168 - val_my_iou_metric_2: 0.3349\n",
            "\n",
            "Epoch 00018: val_my_iou_metric_2 did not improve from 0.42698\n",
            "Epoch 19/30\n",
            " - 4s - loss: 0.6193 - my_iou_metric_2: 0.1727 - val_loss: 0.6295 - val_my_iou_metric_2: 0.1262\n",
            "\n",
            "Epoch 00019: ReduceLROnPlateau reducing learning rate to 0.00020500000391621143.\n",
            "\n",
            "Epoch 00019: val_my_iou_metric_2 did not improve from 0.42698\n",
            "Epoch 20/30\n",
            " - 4s - loss: 0.6237 - my_iou_metric_2: 0.1311 - val_loss: 0.6261 - val_my_iou_metric_2: 0.1333\n",
            "\n",
            "Epoch 00020: val_my_iou_metric_2 did not improve from 0.42698\n",
            "Epoch 21/30\n",
            " - 4s - loss: 0.6201 - my_iou_metric_2: 0.1451 - val_loss: 0.6208 - val_my_iou_metric_2: 0.1627\n",
            "\n",
            "Epoch 00021: ReduceLROnPlateau reducing learning rate to 0.0001049999991664663.\n",
            "\n",
            "Epoch 00021: val_my_iou_metric_2 did not improve from 0.42698\n",
            "Epoch 22/30\n",
            " - 4s - loss: 0.6169 - my_iou_metric_2: 0.1645 - val_loss: 0.6187 - val_my_iou_metric_2: 0.1746\n",
            "\n",
            "Epoch 00022: val_my_iou_metric_2 did not improve from 0.42698\n",
            "Epoch 23/30\n",
            " - 4s - loss: 0.6154 - my_iou_metric_2: 0.1838 - val_loss: 0.6172 - val_my_iou_metric_2: 0.1897\n",
            "\n",
            "Epoch 00023: ReduceLROnPlateau reducing learning rate to 3.179491977789439e-05.\n",
            "\n",
            "Epoch 00023: val_my_iou_metric_2 did not improve from 0.42698\n",
            "Epoch 24/30\n",
            " - 4s - loss: 0.6145 - my_iou_metric_2: 0.1888 - val_loss: 0.6166 - val_my_iou_metric_2: 0.1937\n",
            "\n",
            "Epoch 00024: val_my_iou_metric_2 did not improve from 0.42698\n",
            "Epoch 25/30\n",
            " - 4s - loss: 0.6145 - my_iou_metric_2: 0.1890 - val_loss: 0.6165 - val_my_iou_metric_2: 0.1960\n",
            "\n",
            "Epoch 00025: val_my_iou_metric_2 did not improve from 0.42698\n",
            "Epoch 26/30\n",
            " - 4s - loss: 0.6124 - my_iou_metric_2: 0.2473 - val_loss: 0.6124 - val_my_iou_metric_2: 0.3587\n",
            "\n",
            "Epoch 00026: ReduceLROnPlateau reducing learning rate to 0.00036176919820718467.\n",
            "\n",
            "Epoch 00026: val_my_iou_metric_2 did not improve from 0.42698\n",
            "Epoch 27/30\n",
            " - 4s - loss: 0.6091 - my_iou_metric_2: 0.3429 - val_loss: 0.6135 - val_my_iou_metric_2: 0.4135\n",
            "\n",
            "Epoch 00027: val_my_iou_metric_2 did not improve from 0.42698\n",
            "Epoch 28/30\n",
            " - 4s - loss: 0.6083 - my_iou_metric_2: 0.3926 - val_loss: 0.6130 - val_my_iou_metric_2: 0.4341\n",
            "\n",
            "Epoch 00028: val_my_iou_metric_2 improved from 0.42698 to 0.43413, saving model to LR_midsurface_v1.1.model2\n",
            "Epoch 29/30\n",
            " - 4s - loss: 0.6083 - my_iou_metric_2: 0.4206 - val_loss: 0.6129 - val_my_iou_metric_2: 0.4460\n",
            "\n",
            "Epoch 00029: val_my_iou_metric_2 improved from 0.43413 to 0.44603, saving model to LR_midsurface_v1.1.model2\n",
            "Epoch 30/30\n",
            " - 4s - loss: 0.6086 - my_iou_metric_2: 0.4405 - val_loss: 0.6142 - val_my_iou_metric_2: 0.4548\n",
            "\n",
            "Epoch 00030: val_my_iou_metric_2 improved from 0.44603 to 0.45476, saving model to LR_midsurface_v1.1.model2\n",
            "Test1-2 (30, 32) runtime = 10.213014344374338 mins\n",
            "157/157 [==============================] - 0s 3ms/step\n",
            "Evaluation on X_valid: [0.6041488207069932, 0.20063694267515925]\n"
          ],
          "name": "stdout"
        }
      ]
    },
    {
      "cell_type": "code",
      "metadata": {
        "id": "N3_-86T88gEu",
        "colab_type": "code",
        "colab": {
          "base_uri": "https://localhost:8080/",
          "height": 244
        },
        "outputId": "362da5a0-0951-4909-eda4-3bc8e58760bc"
      },
      "source": [
        "encoded_imgs = model.predict(x_val)\n",
        "decoded_imgs = model.predict(encoded_imgs)\n",
        "\n",
        "plot_results(x_test, decoded_imgs)"
      ],
      "execution_count": 97,
      "outputs": [
        {
          "output_type": "display_data",
          "data": {
            "image/png": "[encoded data removed]",
            "text/plain": [
              "<Figure size 1440x288 with 20 Axes>"
            ]
          },
          "metadata": {
            "tags": []
          }
        }
      ]
    },
    {
      "cell_type": "code",
      "metadata": {
        "id": "OSUtN2bg4imy",
        "colab_type": "code",
        "colab": {
          "base_uri": "https://localhost:8080/",
          "height": 349
        },
        "outputId": "c82c7e49-c302-4822-ddb5-a31eae694935"
      },
      "source": [
        "#Test1-2 Performance\n",
        "fig, (ax_loss, ax_score) = plt.subplots(1, 2, figsize=(15,5))\n",
        "ax_loss.plot(history.epoch, history.history[\"loss\"], label=\"Train loss\")\n",
        "ax_loss.plot(history.epoch, history.history[\"val_loss\"], label=\"Validation loss\")\n",
        "ax_loss.legend()\n",
        "plt.title('ResUNet: Continue on Lovasz Loss')\n",
        "ax_score.plot(history.epoch, history.history[\"my_iou_metric_2\"], label=\"Train score\")\n",
        "ax_score.plot(history.epoch, history.history[\"val_my_iou_metric_2\"], label=\"Validation score\")\n",
        "ax_score.legend()\n",
        "plt.title('Cosine annealing learning rate scheduler with periodic restarts')"
      ],
      "execution_count": 98,
      "outputs": [
        {
          "output_type": "execute_result",
          "data": {
            "text/plain": [
              "Text(0.5, 1.0, 'Cosine annealing learning rate scheduler with periodic restarts')"
            ]
          },
          "metadata": {
            "tags": []
          },
          "execution_count": 98
        },
        {
          "output_type": "display_data",
          "data": {
            "image/png": "[encoded data removed]",
            "text/plain": [
              "<Figure size 1080x360 with 2 Axes>"
            ]
          },
          "metadata": {
            "tags": []
          }
        }
      ]
    },
    {
      "cell_type": "code",
      "metadata": {
        "id": "lTlFXnN34ir3",
        "colab_type": "code",
        "colab": {
          "base_uri": "https://localhost:8080/",
          "height": 1000
        },
        "outputId": "20409084-a84d-4d9f-e125-a1c813228240"
      },
      "source": [
        "# Test2-1 -- ResUnet with binary_crossentropy loss\n",
        "# Without cosine annealing learning rate scheduler with periodic restarts\n",
        "\n",
        "mt1 = time.time()\n",
        "save_model_name = basic_name + '.model3'\n",
        "input_layer = Input((img_size_target, img_size_target, 1))\n",
        "output_layer = build_model(input_layer, 16,0.25)\n",
        "model = Model(input_layer, output_layer)\n",
        "\n",
        "model_checkpoint = ModelCheckpoint(save_model_name,monitor='my_iou_metric', \n",
        "                                   mode = 'max', save_best_only=True, verbose=1)\n",
        "reduce_lr = ReduceLROnPlateau(monitor='my_iou_metric', mode = 'max',factor=0.5, patience=3, min_lr=0.0001, verbose=1)\n",
        "\n",
        "epochs = 30\n",
        "batch_size = 32\n",
        "epoch_size = len(x_trn)\n",
        "lr=0.01\n",
        "\n",
        "optimizer = optimizers.adam(lr = lr)\n",
        "model.compile(loss=\"binary_crossentropy\", optimizer=optimizer, metrics=[my_iou_metric])\n",
        "\n",
        "history = model.fit(x_trn, y_trn,\n",
        "                    validation_data=[x_val, y_val], \n",
        "                    epochs=epochs,\n",
        "                    batch_size=batch_size,\n",
        "                    callbacks=[reduce_lr, model_checkpoint], \n",
        "                    verbose=2)\n",
        "mt2 = time.time()\n",
        "print(f\"Test2-1 {epochs,batch_size} runtime = {(mt2-mt1)/60} mins\")\n",
        "print(\"Evaluation on X_valid:\", model.evaluate(x_valid, y_valid))"
      ],
      "execution_count": 99,
      "outputs": [
        {
          "output_type": "stream",
          "text": [
            "Train on 501 samples, validate on 126 samples\n",
            "Epoch 1/30\n",
            " - 46s - loss: -1.1867e+01 - my_iou_metric: 0.0000e+00 - val_loss: -1.2434e+01 - val_my_iou_metric: 0.0000e+00\n",
            "\n",
            "Epoch 00001: my_iou_metric improved from -inf to 0.00000, saving model to LR_midsurface_v1.1.model3\n",
            "Epoch 2/30\n",
            " - 3s - loss: -1.4457e+01 - my_iou_metric: 0.0000e+00 - val_loss: -1.3977e+01 - val_my_iou_metric: 0.0000e+00\n",
            "\n",
            "Epoch 00002: my_iou_metric did not improve from 0.00000\n",
            "Epoch 3/30\n",
            " - 3s - loss: -1.4589e+01 - my_iou_metric: 0.0000e+00 - val_loss: -1.4278e+01 - val_my_iou_metric: 0.0000e+00\n",
            "\n",
            "Epoch 00003: my_iou_metric did not improve from 0.00000\n",
            "Epoch 4/30\n",
            " - 3s - loss: -1.5258e+01 - my_iou_metric: 0.0000e+00 - val_loss: -1.4812e+01 - val_my_iou_metric: 0.0000e+00\n",
            "\n",
            "Epoch 00004: ReduceLROnPlateau reducing learning rate to 0.004999999888241291.\n",
            "\n",
            "Epoch 00004: my_iou_metric did not improve from 0.00000\n",
            "Epoch 5/30\n",
            " - 3s - loss: -1.6415e+01 - my_iou_metric: 0.0000e+00 - val_loss: -1.4067e+01 - val_my_iou_metric: 0.0000e+00\n",
            "\n",
            "Epoch 00005: my_iou_metric did not improve from 0.00000\n",
            "Epoch 6/30\n",
            " - 3s - loss: -1.6711e+01 - my_iou_metric: 0.0000e+00 - val_loss: -1.4184e+01 - val_my_iou_metric: 0.0000e+00\n",
            "\n",
            "Epoch 00006: my_iou_metric did not improve from 0.00000\n",
            "Epoch 7/30\n",
            " - 3s - loss: -1.6818e+01 - my_iou_metric: 0.0000e+00 - val_loss: -1.4206e+01 - val_my_iou_metric: 0.2913\n",
            "\n",
            "Epoch 00007: ReduceLROnPlateau reducing learning rate to 0.0024999999441206455.\n",
            "\n",
            "Epoch 00007: my_iou_metric did not improve from 0.00000\n",
            "Epoch 8/30\n",
            " - 3s - loss: -1.6872e+01 - my_iou_metric: 0.0000e+00 - val_loss: -1.5141e+01 - val_my_iou_metric: 0.3159\n",
            "\n",
            "Epoch 00008: my_iou_metric did not improve from 0.00000\n",
            "Epoch 9/30\n",
            " - 3s - loss: -1.6900e+01 - my_iou_metric: 1.9960e-04 - val_loss: -1.6170e+01 - val_my_iou_metric: 0.2190\n",
            "\n",
            "Epoch 00009: my_iou_metric improved from 0.00000 to 0.00020, saving model to LR_midsurface_v1.1.model3\n",
            "Epoch 10/30\n",
            " - 3s - loss: -1.6903e+01 - my_iou_metric: 0.0012 - val_loss: -1.3991e+01 - val_my_iou_metric: 0.4476\n",
            "\n",
            "Epoch 00010: my_iou_metric improved from 0.00020 to 0.00120, saving model to LR_midsurface_v1.1.model3\n",
            "Epoch 11/30\n",
            " - 3s - loss: -1.6929e+01 - my_iou_metric: 0.0030 - val_loss: -1.5269e+01 - val_my_iou_metric: 0.2857\n",
            "\n",
            "Epoch 00011: my_iou_metric improved from 0.00120 to 0.00299, saving model to LR_midsurface_v1.1.model3\n",
            "Epoch 12/30\n",
            " - 3s - loss: -1.6927e+01 - my_iou_metric: 0.0032 - val_loss: -1.6478e+01 - val_my_iou_metric: 0.1762\n",
            "\n",
            "Epoch 00012: my_iou_metric improved from 0.00299 to 0.00319, saving model to LR_midsurface_v1.1.model3\n",
            "Epoch 13/30\n",
            " - 3s - loss: -1.6944e+01 - my_iou_metric: 0.0122 - val_loss: -1.5926e+01 - val_my_iou_metric: 0.3571\n",
            "\n",
            "Epoch 00013: my_iou_metric improved from 0.00319 to 0.01218, saving model to LR_midsurface_v1.1.model3\n",
            "Epoch 14/30\n",
            " - 3s - loss: -1.6955e+01 - my_iou_metric: 0.0501 - val_loss: -1.6429e+01 - val_my_iou_metric: 0.1881\n",
            "\n",
            "Epoch 00014: my_iou_metric improved from 0.01218 to 0.05010, saving model to LR_midsurface_v1.1.model3\n",
            "Epoch 15/30\n",
            " - 3s - loss: -1.6985e+01 - my_iou_metric: 0.0250 - val_loss: -1.6372e+01 - val_my_iou_metric: 0.0357\n",
            "\n",
            "Epoch 00015: my_iou_metric did not improve from 0.05010\n",
            "Epoch 16/30\n",
            " - 3s - loss: -1.6928e+01 - my_iou_metric: 0.0379 - val_loss: -1.6656e+01 - val_my_iou_metric: 0.0563\n",
            "\n",
            "Epoch 00016: my_iou_metric did not improve from 0.05010\n",
            "Epoch 17/30\n",
            " - 3s - loss: -1.6897e+01 - my_iou_metric: 5.9880e-04 - val_loss: -1.5840e+01 - val_my_iou_metric: 0.0643\n",
            "\n",
            "Epoch 00017: ReduceLROnPlateau reducing learning rate to 0.0012499999720603228.\n",
            "\n",
            "Epoch 00017: my_iou_metric did not improve from 0.05010\n",
            "Epoch 18/30\n",
            " - 3s - loss: -1.6956e+01 - my_iou_metric: 0.0617 - val_loss: -1.6595e+01 - val_my_iou_metric: 0.2825\n",
            "\n",
            "Epoch 00018: my_iou_metric improved from 0.05010 to 0.06168, saving model to LR_midsurface_v1.1.model3\n",
            "Epoch 19/30\n",
            " - 3s - loss: -1.6978e+01 - my_iou_metric: 0.0613 - val_loss: -1.6494e+01 - val_my_iou_metric: 0.1603\n",
            "\n",
            "Epoch 00019: my_iou_metric did not improve from 0.06168\n",
            "Epoch 20/30\n",
            " - 3s - loss: -1.6991e+01 - my_iou_metric: 0.1379 - val_loss: -1.6757e+01 - val_my_iou_metric: 0.0000e+00\n",
            "\n",
            "Epoch 00020: my_iou_metric improved from 0.06168 to 0.13792, saving model to LR_midsurface_v1.1.model3\n",
            "Epoch 21/30\n",
            " - 3s - loss: -1.7004e+01 - my_iou_metric: 0.1251 - val_loss: -1.6637e+01 - val_my_iou_metric: 0.0000e+00\n",
            "\n",
            "Epoch 00021: my_iou_metric did not improve from 0.13792\n",
            "Epoch 22/30\n",
            " - 3s - loss: -1.7012e+01 - my_iou_metric: 0.1287 - val_loss: -1.6792e+01 - val_my_iou_metric: 0.0000e+00\n",
            "\n",
            "Epoch 00022: my_iou_metric did not improve from 0.13792\n",
            "Epoch 23/30\n",
            " - 3s - loss: -1.7023e+01 - my_iou_metric: 0.1513 - val_loss: -1.6566e+01 - val_my_iou_metric: 0.0000e+00\n",
            "\n",
            "Epoch 00023: my_iou_metric improved from 0.13792 to 0.15130, saving model to LR_midsurface_v1.1.model3\n",
            "Epoch 24/30\n",
            " - 3s - loss: -1.7024e+01 - my_iou_metric: 0.0988 - val_loss: -1.6761e+01 - val_my_iou_metric: 0.0000e+00\n",
            "\n",
            "Epoch 00024: my_iou_metric did not improve from 0.15130\n",
            "Epoch 25/30\n",
            " - 3s - loss: -1.7031e+01 - my_iou_metric: 0.1026 - val_loss: -1.6812e+01 - val_my_iou_metric: 0.0000e+00\n",
            "\n",
            "Epoch 00025: my_iou_metric did not improve from 0.15130\n",
            "Epoch 26/30\n",
            " - 3s - loss: -1.7043e+01 - my_iou_metric: 0.1433 - val_loss: -1.6780e+01 - val_my_iou_metric: 0.0000e+00\n",
            "\n",
            "Epoch 00026: ReduceLROnPlateau reducing learning rate to 0.0006249999860301614.\n",
            "\n",
            "Epoch 00026: my_iou_metric did not improve from 0.15130\n",
            "Epoch 27/30\n",
            " - 3s - loss: -1.7042e+01 - my_iou_metric: 0.2156 - val_loss: -1.6793e+01 - val_my_iou_metric: 0.0000e+00\n",
            "\n",
            "Epoch 00027: my_iou_metric improved from 0.15130 to 0.21557, saving model to LR_midsurface_v1.1.model3\n",
            "Epoch 28/30\n",
            " - 3s - loss: -1.7043e+01 - my_iou_metric: 0.2569 - val_loss: -1.6833e+01 - val_my_iou_metric: 0.0000e+00\n",
            "\n",
            "Epoch 00028: my_iou_metric improved from 0.21557 to 0.25689, saving model to LR_midsurface_v1.1.model3\n",
            "Epoch 29/30\n",
            " - 3s - loss: -1.7051e+01 - my_iou_metric: 0.1818 - val_loss: -1.6837e+01 - val_my_iou_metric: 0.0183\n",
            "\n",
            "Epoch 00029: my_iou_metric did not improve from 0.25689\n",
            "Epoch 30/30\n",
            " - 3s - loss: -1.7049e+01 - my_iou_metric: 0.1914 - val_loss: -1.6841e+01 - val_my_iou_metric: 0.1571\n",
            "\n",
            "Epoch 00030: my_iou_metric did not improve from 0.25689\n",
            "Test2-1 (30, 32) runtime = 6.822763395309448 mins\n",
            "157/157 [==============================] - 0s 2ms/step\n",
            "Evaluation on X_valid: [-17.305405549942307, 0.16050955414012735]\n"
          ],
          "name": "stdout"
        }
      ]
    },
    {
      "cell_type": "code",
      "metadata": {
        "id": "mJSfYyns_LPo",
        "colab_type": "code",
        "colab": {
          "base_uri": "https://localhost:8080/",
          "height": 244
        },
        "outputId": "180d4eb0-949a-429e-9112-e216041f45ec"
      },
      "source": [
        "encoded_imgs = model.predict(x_val)\n",
        "decoded_imgs = model.predict(encoded_imgs)\n",
        "\n",
        "plot_results(x_test, decoded_imgs)"
      ],
      "execution_count": 100,
      "outputs": [
        {
          "output_type": "display_data",
          "data": {
            "image/png": "[encoded data removed]",
            "text/plain": [
              "<Figure size 1440x288 with 20 Axes>"
            ]
          },
          "metadata": {
            "tags": []
          }
        }
      ]
    },
    {
      "cell_type": "code",
      "metadata": {
        "id": "66VSgabz4tAk",
        "colab_type": "code",
        "colab": {
          "base_uri": "https://localhost:8080/",
          "height": 349
        },
        "outputId": "3802a365-40b5-4fde-f29c-84b73a4a6e23"
      },
      "source": [
        "#Test2-1 Performance\n",
        "fig, (ax_loss, ax_score) = plt.subplots(1, 2, figsize=(15,5))\n",
        "ax_loss.plot(history.epoch, history.history[\"loss\"], label=\"Train loss\")\n",
        "ax_loss.plot(history.epoch, history.history[\"val_loss\"], label=\"Validation loss\")\n",
        "ax_loss.legend()\n",
        "plt.title('ResUNet: Binary Crossentropy Loss')\n",
        "ax_score.plot(history.epoch, history.history[\"my_iou_metric\"], label=\"Train score\")\n",
        "ax_score.plot(history.epoch, history.history[\"val_my_iou_metric\"], label=\"Validation score\")\n",
        "ax_score.legend()\n",
        "plt.title('Without cosine annealing learning rate scheduler with periodic restarts')"
      ],
      "execution_count": 101,
      "outputs": [
        {
          "output_type": "execute_result",
          "data": {
            "text/plain": [
              "Text(0.5, 1.0, 'Without cosine annealing learning rate scheduler with periodic restarts')"
            ]
          },
          "metadata": {
            "tags": []
          },
          "execution_count": 101
        },
        {
          "output_type": "display_data",
          "data": {
            "image/png": "[encoded data removed]",
            "text/plain": [
              "<Figure size 1080x360 with 2 Axes>"
            ]
          },
          "metadata": {
            "tags": []
          }
        }
      ]
    },
    {
      "cell_type": "code",
      "metadata": {
        "id": "Rld9NPQI4tHr",
        "colab_type": "code",
        "colab": {
          "base_uri": "https://localhost:8080/",
          "height": 1000
        },
        "outputId": "5d15d1c8-7087-4970-a210-d0723e8bcf8c"
      },
      "source": [
        "# Test2-2: continue with Lovasz Loss\n",
        "mt1 = time.time()\n",
        "model = load_model(save_model_name,custom_objects={'my_iou_metric': my_iou_metric})\n",
        "input_x = model.layers[0].input\n",
        "output_layer = model.layers[-1].input\n",
        "model = Model(input_x, output_layer)\n",
        "\n",
        "save_model_name = basic_name + '.model2'\n",
        "early_stopping = EarlyStopping(monitor='val_my_iou_metric_2', mode = 'max',patience=20, verbose=1)\n",
        "model_checkpoint = ModelCheckpoint(save_model_name,monitor='val_my_iou_metric_2', \n",
        "                                   mode = 'max', save_best_only=True, verbose=1)\n",
        "reduce_lr = ReduceLROnPlateau(monitor='val_my_iou_metric_2', mode = 'max',factor=0.5, patience=2, min_lr=0.00001, verbose=1)\n",
        "epochs = 30\n",
        "batch_size = 32\n",
        "epoch_size = len(x_trn)\n",
        "lr=0.001\n",
        "c = optimizers.adam(lr = lr)\n",
        "model.compile(loss=lovasz_loss, optimizer=c, metrics=[my_iou_metric_2])\n",
        "history = model.fit(x_trn, y_trn,\n",
        "                    validation_data=[x_val, y_val], \n",
        "                    epochs=epochs,\n",
        "                    batch_size=batch_size,\n",
        "                    callbacks=[reduce_lr,model_checkpoint], \n",
        "                    verbose=2)\n",
        "mt2 = time.time()\n",
        "print(f\"Test2-2 {epochs,batch_size} runtime = {(mt2-mt1)/60} mins\")\n",
        "print(\"Evaluation on X_valid:\", model.evaluate(x_valid, y_valid))"
      ],
      "execution_count": 102,
      "outputs": [
        {
          "output_type": "stream",
          "text": [
            "Train on 501 samples, validate on 126 samples\n",
            "Epoch 1/30\n",
            " - 50s - loss: 0.6047 - my_iou_metric_2: 0.1365 - val_loss: 0.6915 - val_my_iou_metric_2: 0.3706\n",
            "\n",
            "Epoch 00001: val_my_iou_metric_2 improved from -inf to 0.37063, saving model to LR_midsurface_v1.1.model2\n",
            "Epoch 2/30\n",
            " - 4s - loss: 0.6091 - my_iou_metric_2: 0.2359 - val_loss: 0.6218 - val_my_iou_metric_2: 0.4516\n",
            "\n",
            "Epoch 00002: val_my_iou_metric_2 improved from 0.37063 to 0.45159, saving model to LR_midsurface_v1.1.model2\n",
            "Epoch 3/30\n",
            " - 4s - loss: 0.5758 - my_iou_metric_2: 0.1060 - val_loss: 0.5846 - val_my_iou_metric_2: 0.0778\n",
            "\n",
            "Epoch 00003: val_my_iou_metric_2 did not improve from 0.45159\n",
            "Epoch 4/30\n",
            " - 4s - loss: 0.5677 - my_iou_metric_2: 0.0014 - val_loss: 0.5887 - val_my_iou_metric_2: 0.0222\n",
            "\n",
            "Epoch 00004: ReduceLROnPlateau reducing learning rate to 0.0005000000237487257.\n",
            "\n",
            "Epoch 00004: val_my_iou_metric_2 did not improve from 0.45159\n",
            "Epoch 5/30\n",
            " - 4s - loss: 0.5631 - my_iou_metric_2: 0.0134 - val_loss: 0.5733 - val_my_iou_metric_2: 0.1992\n",
            "\n",
            "Epoch 00005: val_my_iou_metric_2 did not improve from 0.45159\n",
            "Epoch 6/30\n",
            " - 4s - loss: 0.5602 - my_iou_metric_2: 0.0277 - val_loss: 0.5661 - val_my_iou_metric_2: 0.3190\n",
            "\n",
            "Epoch 00006: ReduceLROnPlateau reducing learning rate to 0.0002500000118743628.\n",
            "\n",
            "Epoch 00006: val_my_iou_metric_2 did not improve from 0.45159\n",
            "Epoch 7/30\n",
            " - 4s - loss: 0.5581 - my_iou_metric_2: 0.0513 - val_loss: 0.5633 - val_my_iou_metric_2: 0.3302\n",
            "\n",
            "Epoch 00007: val_my_iou_metric_2 did not improve from 0.45159\n",
            "Epoch 8/30\n",
            " - 4s - loss: 0.5576 - my_iou_metric_2: 0.0585 - val_loss: 0.5616 - val_my_iou_metric_2: 0.3317\n",
            "\n",
            "Epoch 00008: ReduceLROnPlateau reducing learning rate to 0.0001250000059371814.\n",
            "\n",
            "Epoch 00008: val_my_iou_metric_2 did not improve from 0.45159\n",
            "Epoch 9/30\n",
            " - 4s - loss: 0.5574 - my_iou_metric_2: 0.0721 - val_loss: 0.5605 - val_my_iou_metric_2: 0.3302\n",
            "\n",
            "Epoch 00009: val_my_iou_metric_2 did not improve from 0.45159\n",
            "Epoch 10/30\n",
            " - 4s - loss: 0.5567 - my_iou_metric_2: 0.0898 - val_loss: 0.5585 - val_my_iou_metric_2: 0.3270\n",
            "\n",
            "Epoch 00010: ReduceLROnPlateau reducing learning rate to 6.25000029685907e-05.\n",
            "\n",
            "Epoch 00010: val_my_iou_metric_2 did not improve from 0.45159\n",
            "Epoch 11/30\n",
            " - 4s - loss: 0.5555 - my_iou_metric_2: 0.1064 - val_loss: 0.5580 - val_my_iou_metric_2: 0.3230\n",
            "\n",
            "Epoch 00011: val_my_iou_metric_2 did not improve from 0.45159\n",
            "Epoch 12/30\n",
            " - 4s - loss: 0.5549 - my_iou_metric_2: 0.1112 - val_loss: 0.5575 - val_my_iou_metric_2: 0.3206\n",
            "\n",
            "Epoch 00012: ReduceLROnPlateau reducing learning rate to 3.125000148429535e-05.\n",
            "\n",
            "Epoch 00012: val_my_iou_metric_2 did not improve from 0.45159\n",
            "Epoch 13/30\n",
            " - 4s - loss: 0.5544 - my_iou_metric_2: 0.1293 - val_loss: 0.5574 - val_my_iou_metric_2: 0.3214\n",
            "\n",
            "Epoch 00013: val_my_iou_metric_2 did not improve from 0.45159\n",
            "Epoch 14/30\n",
            " - 4s - loss: 0.5549 - my_iou_metric_2: 0.1327 - val_loss: 0.5573 - val_my_iou_metric_2: 0.3206\n",
            "\n",
            "Epoch 00014: ReduceLROnPlateau reducing learning rate to 1.5625000742147677e-05.\n",
            "\n",
            "Epoch 00014: val_my_iou_metric_2 did not improve from 0.45159\n",
            "Epoch 15/30\n",
            " - 4s - loss: 0.5551 - my_iou_metric_2: 0.1210 - val_loss: 0.5571 - val_my_iou_metric_2: 0.3206\n",
            "\n",
            "Epoch 00015: val_my_iou_metric_2 did not improve from 0.45159\n",
            "Epoch 16/30\n",
            " - 4s - loss: 0.5555 - my_iou_metric_2: 0.1365 - val_loss: 0.5571 - val_my_iou_metric_2: 0.3206\n",
            "\n",
            "Epoch 00016: ReduceLROnPlateau reducing learning rate to 1e-05.\n",
            "\n",
            "Epoch 00016: val_my_iou_metric_2 did not improve from 0.45159\n",
            "Epoch 17/30\n",
            " - 4s - loss: 0.5536 - my_iou_metric_2: 0.1236 - val_loss: 0.5570 - val_my_iou_metric_2: 0.3190\n",
            "\n",
            "Epoch 00017: val_my_iou_metric_2 did not improve from 0.45159\n",
            "Epoch 18/30\n",
            " - 4s - loss: 0.5545 - my_iou_metric_2: 0.1263 - val_loss: 0.5569 - val_my_iou_metric_2: 0.3190\n",
            "\n",
            "Epoch 00018: val_my_iou_metric_2 did not improve from 0.45159\n",
            "Epoch 19/30\n",
            " - 4s - loss: 0.5544 - my_iou_metric_2: 0.1313 - val_loss: 0.5568 - val_my_iou_metric_2: 0.3206\n",
            "\n",
            "Epoch 00019: val_my_iou_metric_2 did not improve from 0.45159\n",
            "Epoch 20/30\n",
            " - 4s - loss: 0.5542 - my_iou_metric_2: 0.1287 - val_loss: 0.5567 - val_my_iou_metric_2: 0.3183\n",
            "\n",
            "Epoch 00020: val_my_iou_metric_2 did not improve from 0.45159\n",
            "Epoch 21/30\n",
            " - 4s - loss: 0.5546 - my_iou_metric_2: 0.1317 - val_loss: 0.5568 - val_my_iou_metric_2: 0.3183\n",
            "\n",
            "Epoch 00021: val_my_iou_metric_2 did not improve from 0.45159\n",
            "Epoch 22/30\n",
            " - 4s - loss: 0.5540 - my_iou_metric_2: 0.1321 - val_loss: 0.5568 - val_my_iou_metric_2: 0.3190\n",
            "\n",
            "Epoch 00022: val_my_iou_metric_2 did not improve from 0.45159\n",
            "Epoch 23/30\n",
            " - 4s - loss: 0.5543 - my_iou_metric_2: 0.1369 - val_loss: 0.5565 - val_my_iou_metric_2: 0.3190\n",
            "\n",
            "Epoch 00023: val_my_iou_metric_2 did not improve from 0.45159\n",
            "Epoch 24/30\n",
            " - 4s - loss: 0.5547 - my_iou_metric_2: 0.1319 - val_loss: 0.5564 - val_my_iou_metric_2: 0.3183\n",
            "\n",
            "Epoch 00024: val_my_iou_metric_2 did not improve from 0.45159\n",
            "Epoch 25/30\n",
            " - 4s - loss: 0.5540 - my_iou_metric_2: 0.1365 - val_loss: 0.5563 - val_my_iou_metric_2: 0.3175\n",
            "\n",
            "Epoch 00025: val_my_iou_metric_2 did not improve from 0.45159\n",
            "Epoch 26/30\n",
            " - 4s - loss: 0.5540 - my_iou_metric_2: 0.1385 - val_loss: 0.5564 - val_my_iou_metric_2: 0.3183\n",
            "\n",
            "Epoch 00026: val_my_iou_metric_2 did not improve from 0.45159\n",
            "Epoch 27/30\n",
            " - 4s - loss: 0.5544 - my_iou_metric_2: 0.1399 - val_loss: 0.5563 - val_my_iou_metric_2: 0.3190\n",
            "\n",
            "Epoch 00027: val_my_iou_metric_2 did not improve from 0.45159\n",
            "Epoch 28/30\n",
            " - 4s - loss: 0.5538 - my_iou_metric_2: 0.1357 - val_loss: 0.5563 - val_my_iou_metric_2: 0.3198\n",
            "\n",
            "Epoch 00028: val_my_iou_metric_2 did not improve from 0.45159\n",
            "Epoch 29/30\n",
            " - 4s - loss: 0.5543 - my_iou_metric_2: 0.1381 - val_loss: 0.5563 - val_my_iou_metric_2: 0.3222\n",
            "\n",
            "Epoch 00029: val_my_iou_metric_2 did not improve from 0.45159\n",
            "Epoch 30/30\n",
            " - 4s - loss: 0.5543 - my_iou_metric_2: 0.1369 - val_loss: 0.5563 - val_my_iou_metric_2: 0.3222\n",
            "\n",
            "Epoch 00030: val_my_iou_metric_2 did not improve from 0.45159\n",
            "Test2-2 (30, 32) runtime = 11.141960954666137 mins\n",
            "157/157 [==============================] - 0s 3ms/step\n",
            "Evaluation on X_valid: [0.5482334593299089, 0.3509554140127389]\n"
          ],
          "name": "stdout"
        }
      ]
    },
    {
      "cell_type": "code",
      "metadata": {
        "id": "BrQpC7w1_SgF",
        "colab_type": "code",
        "colab": {
          "base_uri": "https://localhost:8080/",
          "height": 244
        },
        "outputId": "90b2330d-dd62-45a0-e1af-50c8689c7192"
      },
      "source": [
        "encoded_imgs = model.predict(x_val)\n",
        "decoded_imgs = model.predict(encoded_imgs)\n",
        "\n",
        "plot_results(x_test, decoded_imgs)"
      ],
      "execution_count": 103,
      "outputs": [
        {
          "output_type": "display_data",
          "data": {
            "image/png": "[encoded data removed]",
            "text/plain": [
              "<Figure size 1440x288 with 20 Axes>"
            ]
          },
          "metadata": {
            "tags": []
          }
        }
      ]
    },
    {
      "cell_type": "code",
      "metadata": {
        "id": "87_va6xk4tKb",
        "colab_type": "code",
        "colab": {
          "base_uri": "https://localhost:8080/",
          "height": 349
        },
        "outputId": "8e017d07-3374-41eb-aaf1-e6969f5b9a9d"
      },
      "source": [
        "#Test2-2 Performance\n",
        "fig, (ax_loss, ax_score) = plt.subplots(1, 2, figsize=(15,5))\n",
        "ax_loss.plot(history.epoch, history.history[\"loss\"], label=\"Train loss\")\n",
        "ax_loss.plot(history.epoch, history.history[\"val_loss\"], label=\"Validation loss\")\n",
        "ax_loss.legend()\n",
        "plt.title('ResUNet: Lavasz Loss')\n",
        "ax_score.plot(history.epoch, history.history[\"my_iou_metric_2\"], label=\"Train score\")\n",
        "ax_score.plot(history.epoch, history.history[\"val_my_iou_metric_2\"], label=\"Validation score\")\n",
        "ax_score.legend()\n",
        "plt.title('Without cosine annealing learning rate scheduler with periodic restarts')"
      ],
      "execution_count": 104,
      "outputs": [
        {
          "output_type": "execute_result",
          "data": {
            "text/plain": [
              "Text(0.5, 1.0, 'Without cosine annealing learning rate scheduler with periodic restarts')"
            ]
          },
          "metadata": {
            "tags": []
          },
          "execution_count": 104
        },
        {
          "output_type": "display_data",
          "data": {
            "image/png": "[encoded data removed]",
            "text/plain": [
              "<Figure size 1080x360 with 2 Axes>"
            ]
          },
          "metadata": {
            "tags": []
          }
        }
      ]
    },
    {
      "cell_type": "code",
      "metadata": {
        "id": "QrEviXge_Ug6",
        "colab_type": "code",
        "colab": {}
      },
      "source": [
        ""
      ],
      "execution_count": 0,
      "outputs": []
    }
  ]
}