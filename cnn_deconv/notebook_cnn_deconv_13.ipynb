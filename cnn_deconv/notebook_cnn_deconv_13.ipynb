{
  "nbformat": 4,
  "nbformat_minor": 0,
  "metadata": {
    "kernelspec": {
      "name": "python3",
      "display_name": "Python 3"
    },
    "language_info": {
      "codemirror_mode": {
        "name": "ipython",
        "version": 3
      },
      "file_extension": ".py",
      "mimetype": "text/x-python",
      "name": "python",
      "nbconvert_exporter": "python",
      "pygments_lexer": "ipython3",
      "version": "3.7.4"
    },
    "colab": {
      "name": "notebook_cnn_deconv_13.ipynb",
      "version": "0.3.2",
      "provenance": [],
      "collapsed_sections": [],
      "include_colab_link": true
    },
    "accelerator": "GPU"
  },
  "cells": [
    {
      "cell_type": "markdown",
      "metadata": {
        "id": "view-in-github",
        "colab_type": "text"
      },
      "source": [
        "<a href=\"https://colab.research.google.com/github/praveentn/MidcurveNN/blob/master/cnn_deconv/notebook_cnn_deconv_13.ipynb\" target=\"_parent\"><img src=\"https://colab.research.google.com/assets/colab-badge.svg\" alt=\"Open In Colab\"/></a>"
      ]
    },
    {
      "cell_type": "markdown",
      "metadata": {
        "id": "IQVJL5mHwPrl",
        "colab_type": "text"
      },
      "source": [
        "# CNN ENC-DEC"
      ]
    },
    {
      "cell_type": "code",
      "metadata": {
        "id": "AxYRQhxBxAbv",
        "colab_type": "code",
        "outputId": "1cf74d97-7e43-4ffa-bb5c-864c663a6eba",
        "colab": {
          "base_uri": "https://localhost:8080/",
          "height": 72
        }
      },
      "source": [
        "# mount google drive & set working directory\n",
        "# requires auth (click on url & copy token into text box when prompted)\n",
        "from google.colab import drive\n",
        "drive.mount(\"/content/gdrive\")\n",
        "\n",
        "import os\n",
        "print(os.getcwd())\n",
        "\n",
        "os.chdir('/content/gdrive/My Drive/Colab Notebooks/MidcurveNN')\n",
        "!pwd"
      ],
      "execution_count": 1,
      "outputs": [
        {
          "output_type": "stream",
          "text": [
            "Drive already mounted at /content/gdrive; to attempt to forcibly remount, call drive.mount(\"/content/gdrive\", force_remount=True).\n",
            "/content\n",
            "/content/gdrive/My Drive/Colab Notebooks/MidcurveNN\n"
          ],
          "name": "stdout"
        }
      ]
    },
    {
      "cell_type": "code",
      "metadata": {
        "id": "rDHgEuJBwPrm",
        "colab_type": "code",
        "outputId": "20ca5671-7462-4b95-8c7b-814818d2c538",
        "colab": {
          "base_uri": "https://localhost:8080/",
          "height": 35
        }
      },
      "source": [
        "from __future__ import absolute_import, division, print_function, unicode_literals\n",
        "\n",
        "# !pip install tensorflow-gpu==2.0.0-alpha0\n",
        "import tensorflow as tf\n",
        "\n",
        "import os\n",
        "import sys\n",
        "import PIL\n",
        "import json\n",
        "import time\n",
        "\n",
        "from keras.layers import Input, Dense, Dropout\n",
        "from keras import regularizers, optimizers\n",
        "from keras.optimizers import Adam, SGD, RMSprop\n",
        "from keras.callbacks import EarlyStopping\n",
        "from keras.models import Model, Sequential\n",
        "from keras.layers import Input, Dense, Conv2D, UpSampling2D, Reshape, Flatten\n",
        "from keras.layers import GlobalMaxPooling2D, AveragePooling2D, MaxPooling2D\n",
        "from keras.layers.normalization import BatchNormalization\n",
        "from keras.preprocessing.image import img_to_array, load_img\n",
        "from sklearn.model_selection import train_test_split\n",
        "from random import shuffle\n",
        "\n",
        "import numpy as np\n",
        "np.set_printoptions(threshold=sys.maxsize)\n",
        "\n",
        "import matplotlib.pyplot as plt\n",
        "from IPython.display import clear_output\n",
        "\n",
        "import matplotlib\n",
        "# matplotlib.use('TKAgg')\n",
        "%matplotlib inline"
      ],
      "execution_count": 2,
      "outputs": [
        {
          "output_type": "stream",
          "text": [
            "Using TensorFlow backend.\n"
          ],
          "name": "stderr"
        }
      ]
    },
    {
      "cell_type": "code",
      "metadata": {
        "id": "evVd6EPUwPrs",
        "colab_type": "code",
        "outputId": "2b3d79e4-619e-42c7-dd0e-0f49914f74fc",
        "colab": {
          "base_uri": "https://localhost:8080/",
          "height": 35
        }
      },
      "source": [
        "# working directory\n",
        "wdir = os.getcwd()\n",
        "wdir"
      ],
      "execution_count": 3,
      "outputs": [
        {
          "output_type": "execute_result",
          "data": {
            "text/plain": [
              "'/content/gdrive/My Drive/Colab Notebooks/MidcurveNN'"
            ]
          },
          "metadata": {
            "tags": []
          },
          "execution_count": 3
        }
      ]
    },
    {
      "cell_type": "code",
      "metadata": {
        "id": "UxFdYYywwPrx",
        "colab_type": "code",
        "outputId": "00076c71-41be-4986-ce4b-fd85a3548526",
        "colab": {
          "base_uri": "https://localhost:8080/",
          "height": 35
        }
      },
      "source": [
        "# _URL = 'https://drive.google.com/uc?export=download&id=16rqDFLO__WySSQGlAht0FEj2uJZg4M9M'\n",
        "\n",
        "# path_to_zip = tf.keras.utils.get_file('input.zip',\n",
        "#                                       origin=_URL,\n",
        "#                                       extract=True)\n",
        "\n",
        "# input_data_folder = os.path.join(os.path.dirname(path_to_zip), 'input')\n",
        "input_data_folder = wdir + \"/data/input\"\n",
        "input_data_folder = wdir + \"/data/images\"\n",
        "print(\"input data dir: \", input_data_folder)"
      ],
      "execution_count": 4,
      "outputs": [
        {
          "output_type": "stream",
          "text": [
            "input data dir:  /content/gdrive/My Drive/Colab Notebooks/MidcurveNN/data/images\n"
          ],
          "name": "stdout"
        }
      ]
    },
    {
      "cell_type": "code",
      "metadata": {
        "id": "geTVDZfzPY-u",
        "colab_type": "code",
        "outputId": "1bcef786-508e-4fe6-c099-0fba785a5542",
        "colab": {
          "base_uri": "https://localhost:8080/",
          "height": 54
        }
      },
      "source": [
        "import glob\n",
        "\n",
        "image_paths = glob.glob(input_data_folder + '/**/*.png', recursive=True)\n",
        "images = [os.path.basename(img_path) for img_path in image_paths]\n",
        "\n",
        "print(len(images))\n",
        "\n",
        "#images = os.listdir(input_data_folder)\n",
        "images[99]"
      ],
      "execution_count": 5,
      "outputs": [
        {
          "output_type": "stream",
          "text": [
            "6944\n"
          ],
          "name": "stdout"
        },
        {
          "output_type": "execute_result",
          "data": {
            "text/plain": [
              "'CapI_Midcurve_mirrored_0_translated_10_-20.png'"
            ]
          },
          "metadata": {
            "tags": []
          },
          "execution_count": 5
        }
      ]
    },
    {
      "cell_type": "code",
      "metadata": {
        "id": "oNZW79Q1URmJ",
        "colab_type": "code",
        "colab": {}
      },
      "source": [
        "# image dimension\n",
        "imdim = 100"
      ],
      "execution_count": 0,
      "outputs": []
    },
    {
      "cell_type": "code",
      "metadata": {
        "id": "RjdmJfpRwPr0",
        "colab_type": "code",
        "colab": {}
      },
      "source": [
        "def read_input_image_pairs(datafolder=input_data_folder):\n",
        "    profile_pngs = []\n",
        "    midcurve_pngs = []\n",
        "    for file in os.listdir(datafolder):\n",
        "        fullpath = os.path.join(datafolder, file)\n",
        "        if os.path.isdir(fullpath):\n",
        "            continue\n",
        "        if file.endswith(\".png\"):\n",
        "            if file.find(\"Profile\") != -1:\n",
        "                profile_pngs.append(fullpath)\n",
        "            if file.find(\"Midcurve\") != -1:\n",
        "                midcurve_pngs.append(fullpath)\n",
        "    profile_pngs = sorted(profile_pngs)\n",
        "    midcurve_pngs = sorted(midcurve_pngs)\n",
        "    return profile_pngs,midcurve_pngs"
      ],
      "execution_count": 0,
      "outputs": []
    },
    {
      "cell_type": "code",
      "metadata": {
        "id": "Rim24hWkwPr3",
        "colab_type": "code",
        "colab": {}
      },
      "source": [
        "def get_training_data(datafolder=input_data_folder):\n",
        "    profile_pngs,midcurve_pngs = read_input_image_pairs(datafolder)\n",
        "    \n",
        "    profile_pngs_objs = [img_to_array(load_img(f, color_mode='rgba', target_size=(imdim, imdim))) for f in profile_pngs ]\n",
        "    midcurve_pngs_objs = [img_to_array(load_img(f, color_mode='rgba', target_size=(imdim, imdim))) for f in midcurve_pngs]\n",
        "\n",
        "#     profile_pngs_objs = np.array([x.reshape((1,) + x.shape) for x in profile_pngs_objs])\n",
        "#     midcurve_pngs_objs = np.array([x.reshape((1,) + x.shape) for x in midcurve_pngs_objs])\n",
        "\n",
        "    profile_pngs_gray_objs = [x[:,:,3] for x in profile_pngs_objs]\n",
        "    midcurve_pngs_gray_objs =[x[:,:,3] for x in midcurve_pngs_objs]\n",
        "    \n",
        "#     profile_pngs_gray_objs = [np.where(x>128, 0, 1) for x in profile_pngs_gray_objs]\n",
        "#     midcurve_pngs_gray_objs =[np.where(x>128, 0, 1) for x in midcurve_pngs_gray_objs]\n",
        "        \n",
        "    # shufle them\n",
        "    zipped_profiles_midcurves = [(p,m) for p,m in zip(profile_pngs_gray_objs,midcurve_pngs_gray_objs)]\n",
        "    shuffle(zipped_profiles_midcurves)\n",
        "    profile_pngs_gray_objs, midcurve_pngs_gray_objs = zip(*zipped_profiles_midcurves)\n",
        "    \n",
        "    return profile_pngs_gray_objs, midcurve_pngs_gray_objs"
      ],
      "execution_count": 0,
      "outputs": []
    },
    {
      "cell_type": "code",
      "metadata": {
        "id": "EEfyWOYCiYxD",
        "colab_type": "code",
        "outputId": "3dbf8697-b5f3-4b9e-81de-9689f575811d",
        "colab": {
          "base_uri": "https://localhost:8080/",
          "height": 581
        }
      },
      "source": [
        "shapes = os.listdir('/content/gdrive/My Drive/Colab Notebooks/MidcurveNN/data/images')\n",
        "shapes"
      ],
      "execution_count": 9,
      "outputs": [
        {
          "output_type": "execute_result",
          "data": {
            "text/plain": [
              "['CapI',\n",
              " 'Iuvw',\n",
              " 'Tuvw',\n",
              " 'Vuvw',\n",
              " 'Sm_n',\n",
              " 'InvV',\n",
              " 'Parl',\n",
              " 'Trap',\n",
              " 'Stik',\n",
              " 'Usla',\n",
              " 'LapT',\n",
              " 'RelY',\n",
              " 'T002',\n",
              " 'T003',\n",
              " 'T004',\n",
              " 'T005',\n",
              " 'Plus',\n",
              " 'SqLu',\n",
              " 'Luvw',\n",
              " 'L001',\n",
              " 'L002',\n",
              " 'L003',\n",
              " 'T006',\n",
              " 'X001',\n",
              " 'L004',\n",
              " 'Y001',\n",
              " 'L100',\n",
              " 'Stp1',\n",
              " 'I100',\n",
              " 'I101',\n",
              " 'L005']"
            ]
          },
          "metadata": {
            "tags": []
          },
          "execution_count": 9
        }
      ]
    },
    {
      "cell_type": "code",
      "metadata": {
        "id": "GP3POQEVtlck",
        "colab_type": "code",
        "outputId": "ed2718a5-17d0-4a98-8b98-427d9467f9cc",
        "colab": {
          "base_uri": "https://localhost:8080/",
          "height": 1000
        }
      },
      "source": [
        "profile_pngs_objs = ()\n",
        "midcurve_pngs_objs = ()\n",
        "\n",
        "for shape in shapes:\n",
        "    print(shape)\n",
        "    tp, tm = get_training_data(os.path.join(input_data_folder, shape))\n",
        "    profile_pngs_objs += tp\n",
        "    midcurve_pngs_objs += tm\n",
        "    print(len(profile_pngs_objs), len(midcurve_pngs_objs))"
      ],
      "execution_count": 10,
      "outputs": [
        {
          "output_type": "stream",
          "text": [
            "CapI\n",
            "112 112\n",
            "Iuvw\n",
            "224 224\n",
            "Tuvw\n",
            "336 336\n",
            "Vuvw\n",
            "448 448\n",
            "Sm_n\n",
            "560 560\n",
            "InvV\n",
            "672 672\n",
            "Parl\n",
            "784 784\n",
            "Trap\n",
            "896 896\n",
            "Stik\n",
            "1008 1008\n",
            "Usla\n",
            "1120 1120\n",
            "LapT\n",
            "1232 1232\n",
            "RelY\n",
            "1344 1344\n",
            "T002\n",
            "1456 1456\n",
            "T003\n",
            "1568 1568\n",
            "T004\n",
            "1680 1680\n",
            "T005\n",
            "1792 1792\n",
            "Plus\n",
            "1904 1904\n",
            "SqLu\n",
            "2016 2016\n",
            "Luvw\n",
            "2128 2128\n",
            "L001\n",
            "2240 2240\n",
            "L002\n",
            "2352 2352\n",
            "L003\n",
            "2464 2464\n",
            "T006\n",
            "2576 2576\n",
            "X001\n",
            "2688 2688\n",
            "L004\n",
            "2800 2800\n",
            "Y001\n",
            "2912 2912\n",
            "L100\n",
            "3024 3024\n",
            "Stp1\n",
            "3136 3136\n",
            "I100\n",
            "3248 3248\n",
            "I101\n",
            "3360 3360\n",
            "L005\n",
            "3472 3472\n"
          ],
          "name": "stdout"
        }
      ]
    },
    {
      "cell_type": "code",
      "metadata": {
        "id": "lea0l6OoSS9X",
        "colab_type": "code",
        "colab": {
          "base_uri": "https://localhost:8080/",
          "height": 35
        },
        "outputId": "f04d96af-ca53-4c43-c4fc-fc1cb76dc5d9"
      },
      "source": [
        "len(profile_pngs_objs)"
      ],
      "execution_count": 11,
      "outputs": [
        {
          "output_type": "execute_result",
          "data": {
            "text/plain": [
              "3472"
            ]
          },
          "metadata": {
            "tags": []
          },
          "execution_count": 11
        }
      ]
    },
    {
      "cell_type": "code",
      "metadata": {
        "id": "9f9N734PSXGH",
        "colab_type": "code",
        "colab": {
          "base_uri": "https://localhost:8080/",
          "height": 35
        },
        "outputId": "25e27abb-c38f-4695-d703-0bb38d8c1bac"
      },
      "source": [
        "profile_pngs_objs[0].shape"
      ],
      "execution_count": 12,
      "outputs": [
        {
          "output_type": "execute_result",
          "data": {
            "text/plain": [
              "(100, 100)"
            ]
          },
          "metadata": {
            "tags": []
          },
          "execution_count": 12
        }
      ]
    },
    {
      "cell_type": "code",
      "metadata": {
        "id": "3CON1HkAtWxn",
        "colab_type": "code",
        "colab": {
          "base_uri": "https://localhost:8080/",
          "height": 35
        },
        "outputId": "56aab4b4-9b74-48d7-ae05-0acce840bd18"
      },
      "source": [
        "type(midcurve_pngs_objs)"
      ],
      "execution_count": 13,
      "outputs": [
        {
          "output_type": "execute_result",
          "data": {
            "text/plain": [
              "tuple"
            ]
          },
          "metadata": {
            "tags": []
          },
          "execution_count": 13
        }
      ]
    },
    {
      "cell_type": "code",
      "metadata": {
        "id": "IGcijScSwPr8",
        "colab_type": "code",
        "colab": {}
      },
      "source": [
        "def plot_results(original_imgs,computed_imgs,n=10):\n",
        "    # n = 10  # how many digits we will display\n",
        "    plt.figure(figsize=(25, 5))\n",
        "    for i in range(n):\n",
        "        # display original\n",
        "        ax = plt.subplot(2, n, i + 1)\n",
        "        plt.imshow(original_imgs[i].reshape(imdim, imdim),cmap='gray_r')\n",
        "#         plt.gray()\n",
        "        ax.get_xaxis().set_visible(False)\n",
        "        ax.get_yaxis().set_visible(False)\n",
        "    \n",
        "        # display reconstruction\n",
        "        ax = plt.subplot(2, n, i + 1 + n)\n",
        "        plt.imshow(computed_imgs[i].reshape(imdim, imdim),cmap='gray_r')\n",
        "#         plt.gray()\n",
        "        ax.get_xaxis().set_visible(False)\n",
        "        ax.get_yaxis().set_visible(False)\n",
        "    plt.show()"
      ],
      "execution_count": 0,
      "outputs": []
    },
    {
      "cell_type": "code",
      "metadata": {
        "id": "YkMvqA_swPr_",
        "colab_type": "code",
        "colab": {
          "base_uri": "https://localhost:8080/",
          "height": 297
        },
        "outputId": "4b72304f-3d88-4df2-ef6c-2215761ed314"
      },
      "source": [
        "plot_results(profile_pngs_objs[2030:2050],midcurve_pngs_objs[2030:2050])"
      ],
      "execution_count": 15,
      "outputs": [
        {
          "output_type": "display_data",
          "data": {
            "image/png": "[encoded data removed]",
            "text/plain": [
              "<Figure size 1800x360 with 20 Axes>"
            ]
          },
          "metadata": {
            "tags": []
          }
        }
      ]
    },
    {
      "cell_type": "code",
      "metadata": {
        "id": "KeLJMAIbwPsD",
        "colab_type": "code",
        "colab": {}
      },
      "source": [
        "def get_train_test_split(profile_pngs_gray_objs, midcurve_pngs_gray_objs, encoding_dim=imdim, input_dim=imdim):\n",
        "\n",
        "    # Training\n",
        "    profile_pngs_flat_objs = [x.reshape(input_dim,input_dim,1) for x in profile_pngs_gray_objs]\n",
        "    midcurve_pngs_flat_objs = [x.reshape(input_dim,input_dim,1) for x in midcurve_pngs_gray_objs]\n",
        "    \n",
        "    profile_pngs_objs = np.array(profile_pngs_flat_objs)\n",
        "    midcurve_pngs_objs= np.array(midcurve_pngs_flat_objs)\n",
        "    \n",
        "    '''\n",
        "    train_size = int(len(profile_pngs_objs)*0.7)\n",
        "    x_train = profile_pngs_objs[:train_size]\n",
        "    y_train = midcurve_pngs_objs[:train_size]\n",
        "    x_test = profile_pngs_objs[train_size:]\n",
        "    y_test = midcurve_pngs_objs[train_size:]\n",
        "    '''\n",
        "    x_train, x_test, y_train, y_test = train_test_split(profile_pngs_objs, midcurve_pngs_objs, \n",
        "                                                        test_size=0.2, random_state=23)\n",
        "    return x_train, x_test, y_train, y_test"
      ],
      "execution_count": 0,
      "outputs": []
    },
    {
      "cell_type": "code",
      "metadata": {
        "id": "CsHrNT43wPsG",
        "colab_type": "code",
        "colab": {
          "base_uri": "https://localhost:8080/",
          "height": 35
        },
        "outputId": "35e4c84c-ca2e-4e15-e51f-4542425ba6ab"
      },
      "source": [
        "x_train, x_test, y_train, y_test = get_train_test_split(profile_pngs_objs, midcurve_pngs_objs)\n",
        "\n",
        "print((len(x_train), len(y_train)), (len(x_test), len(y_test)))"
      ],
      "execution_count": 17,
      "outputs": [
        {
          "output_type": "stream",
          "text": [
            "(2777, 2777) (695, 695)\n"
          ],
          "name": "stdout"
        }
      ]
    },
    {
      "cell_type": "markdown",
      "metadata": {
        "id": "cMg0OhMXwPsJ",
        "colab_type": "text"
      },
      "source": [
        "### Auto-encoder"
      ]
    },
    {
      "cell_type": "code",
      "metadata": {
        "id": "T5GSTXZikY9R",
        "colab_type": "code",
        "colab": {}
      },
      "source": [
        "from keras.layers import Conv2DTranspose\n",
        "\n",
        "class Autoencoder():\n",
        "    def __init__(self):\n",
        "        self.img_rows = imdim\n",
        "        self.img_cols = imdim\n",
        "        self.channels = 1\n",
        "        self.img_shape = (self.img_rows, self.img_cols, self.channels)\n",
        "        \n",
        "        adam_optimizer = Adam(lr=0.0005)\n",
        "        optimizer = SGD(lr=0.0001, nesterov=False)\n",
        "        \n",
        "        self.autoencoder_model = self.build_model()\n",
        "        #self.autoencoder_model.compile(loss='mean_squared_error', optimizer=RMSprop())\n",
        "        #self.autoencoder_model.compile(loss='binary_crossentropy', optimizer=optimizer)\n",
        "        self.autoencoder_model.compile(loss='mse', metrics=['accuracy'], optimizer=adam_optimizer)\n",
        "        self.autoencoder_model.summary()\n",
        "    \n",
        "    def build_model(self):\n",
        "        input_layer = Input(shape=self.img_shape)\n",
        "                \n",
        "        # Encoder\n",
        "        h = Conv2D(32, (2, 2), activation='relu', padding='same')(input_layer)\n",
        "        #h = MaxPooling2D((2, 2), padding='same')(h)\n",
        "        #h = Conv2D(16, (2, 2), activation='relu', padding='same')(h)\n",
        "        #h = MaxPooling2D((2, 2), padding='same')(h)\n",
        "        \n",
        "        # Decoder\n",
        "        #h = Conv2DTranspose(8, (2, 2), activation='relu', padding='same')(h)\n",
        "        #h = UpSampling2D((2, 2))(h)\n",
        "        h = Conv2DTranspose(32, (2, 2), activation='relu', padding='same')(h)\n",
        "        #h = UpSampling2D((2, 2))(h)\n",
        "        output_layer = Conv2DTranspose(1, (2, 2), activation='relu', padding='same')(h)\n",
        "        \n",
        "        return Model(input_layer, output_layer)\n",
        "    \n",
        "    def train_model(self, x_train, y_train, x_val, y_val, epochs, batch_size=100):\n",
        "        early_stopping = EarlyStopping(monitor='val_loss',\n",
        "                                       min_delta=0,\n",
        "                                       patience=5,\n",
        "                                       verbose=1, \n",
        "                                       mode='auto')\n",
        "        history = self.autoencoder_model.fit(x_train, y_train,\n",
        "                                             batch_size=batch_size,\n",
        "                                             epochs=epochs,\n",
        "                                             validation_data=(x_val, y_val),\n",
        "                                             callbacks=[early_stopping])\n",
        "        plt.plot(history.history['loss'])\n",
        "        plt.plot(history.history['val_loss'])\n",
        "        plt.title('Model loss')\n",
        "        plt.ylabel('Loss')\n",
        "        plt.xlabel('Epoch')\n",
        "        plt.legend(['Train', 'Test'], loc='upper left')\n",
        "        plt.show()\n",
        "    \n",
        "    def eval_model(self, x_test):\n",
        "        preds = self.autoencoder_model.predict(x_test)\n",
        "        return preds"
      ],
      "execution_count": 0,
      "outputs": []
    },
    {
      "cell_type": "code",
      "metadata": {
        "id": "kSsrtRXcKV42",
        "colab_type": "code",
        "colab": {
          "base_uri": "https://localhost:8080/",
          "height": 1000
        },
        "outputId": "aacd0552-f1c9-48c6-81d6-b9f602e94e4b"
      },
      "source": [
        "ae = Autoencoder()\n",
        "ae.train_model(x_train, y_train, x_test, y_test, epochs=200, batch_size=300)\n"
      ],
      "execution_count": 32,
      "outputs": [
        {
          "output_type": "stream",
          "text": [
            "_________________________________________________________________\n",
            "Layer (type)                 Output Shape              Param #   \n",
            "=================================================================\n",
            "input_7 (InputLayer)         (None, 100, 100, 1)       0         \n",
            "_________________________________________________________________\n",
            "conv2d_11 (Conv2D)           (None, 100, 100, 32)      160       \n",
            "_________________________________________________________________\n",
            "conv2d_transpose_17 (Conv2DT (None, 100, 100, 32)      4128      \n",
            "_________________________________________________________________\n",
            "conv2d_transpose_18 (Conv2DT (None, 100, 100, 1)       129       \n",
            "=================================================================\n",
            "Total params: 4,417\n",
            "Trainable params: 4,417\n",
            "Non-trainable params: 0\n",
            "_________________________________________________________________\n",
            "Train on 2777 samples, validate on 695 samples\n",
            "Epoch 1/200\n",
            "2777/2777 [==============================] - 4s 1ms/step - loss: 104.2306 - acc: 0.9722 - val_loss: 94.3575 - val_acc: 0.9734\n",
            "Epoch 2/200\n",
            "2777/2777 [==============================] - 2s 859us/step - loss: 99.7834 - acc: 0.9730 - val_loss: 91.4802 - val_acc: 0.9732\n",
            "Epoch 3/200\n",
            "2777/2777 [==============================] - 2s 864us/step - loss: 96.6060 - acc: 0.9720 - val_loss: 89.1772 - val_acc: 0.9725\n",
            "Epoch 4/200\n",
            "2777/2777 [==============================] - 2s 864us/step - loss: 94.1369 - acc: 0.9716 - val_loss: 87.1696 - val_acc: 0.9727\n",
            "Epoch 5/200\n",
            "2777/2777 [==============================] - 2s 860us/step - loss: 92.0100 - acc: 0.9730 - val_loss: 85.5523 - val_acc: 0.9740\n",
            "Epoch 6/200\n",
            "2777/2777 [==============================] - 2s 865us/step - loss: 90.2245 - acc: 0.9731 - val_loss: 84.2145 - val_acc: 0.9737\n",
            "Epoch 7/200\n",
            "2777/2777 [==============================] - 2s 862us/step - loss: 88.7195 - acc: 0.9731 - val_loss: 83.0620 - val_acc: 0.9737\n",
            "Epoch 8/200\n",
            "2777/2777 [==============================] - 2s 868us/step - loss: 87.5048 - acc: 0.9722 - val_loss: 82.1419 - val_acc: 0.9727\n",
            "Epoch 9/200\n",
            "2777/2777 [==============================] - 2s 869us/step - loss: 86.5275 - acc: 0.9720 - val_loss: 81.3979 - val_acc: 0.9733\n",
            "Epoch 10/200\n",
            "2777/2777 [==============================] - 2s 866us/step - loss: 85.7538 - acc: 0.9727 - val_loss: 80.7877 - val_acc: 0.9730\n",
            "Epoch 11/200\n",
            "2777/2777 [==============================] - 2s 868us/step - loss: 85.1017 - acc: 0.9727 - val_loss: 80.2294 - val_acc: 0.9743\n",
            "Epoch 12/200\n",
            "2777/2777 [==============================] - 2s 863us/step - loss: 84.5147 - acc: 0.9733 - val_loss: 79.7180 - val_acc: 0.9740\n",
            "Epoch 13/200\n",
            "2777/2777 [==============================] - 2s 870us/step - loss: 84.0031 - acc: 0.9738 - val_loss: 79.2673 - val_acc: 0.9742\n",
            "Epoch 14/200\n",
            "2777/2777 [==============================] - 2s 875us/step - loss: 83.5556 - acc: 0.9741 - val_loss: 78.8674 - val_acc: 0.9763\n",
            "Epoch 15/200\n",
            "2777/2777 [==============================] - 2s 867us/step - loss: 83.1730 - acc: 0.9750 - val_loss: 78.5074 - val_acc: 0.9757\n",
            "Epoch 16/200\n",
            "2777/2777 [==============================] - 2s 870us/step - loss: 82.7868 - acc: 0.9757 - val_loss: 78.1815 - val_acc: 0.9772\n",
            "Epoch 17/200\n",
            "2777/2777 [==============================] - 2s 868us/step - loss: 82.4483 - acc: 0.9762 - val_loss: 77.8680 - val_acc: 0.9768\n",
            "Epoch 18/200\n",
            "2777/2777 [==============================] - 2s 865us/step - loss: 82.1347 - acc: 0.9763 - val_loss: 77.5469 - val_acc: 0.9775\n",
            "Epoch 19/200\n",
            "2777/2777 [==============================] - 2s 866us/step - loss: 81.8334 - acc: 0.9770 - val_loss: 77.3030 - val_acc: 0.9778\n",
            "Epoch 20/200\n",
            "2777/2777 [==============================] - 2s 867us/step - loss: 81.5706 - acc: 0.9772 - val_loss: 77.0528 - val_acc: 0.9775\n",
            "Epoch 21/200\n",
            "2777/2777 [==============================] - 2s 864us/step - loss: 81.3276 - acc: 0.9771 - val_loss: 76.8560 - val_acc: 0.9780\n",
            "Epoch 22/200\n",
            "2777/2777 [==============================] - 2s 865us/step - loss: 81.1072 - acc: 0.9776 - val_loss: 76.6230 - val_acc: 0.9782\n",
            "Epoch 23/200\n",
            "2777/2777 [==============================] - 2s 869us/step - loss: 80.8896 - acc: 0.9776 - val_loss: 76.4331 - val_acc: 0.9782\n",
            "Epoch 24/200\n",
            "2777/2777 [==============================] - 2s 865us/step - loss: 80.7005 - acc: 0.9778 - val_loss: 76.2576 - val_acc: 0.9785\n",
            "Epoch 25/200\n",
            "2777/2777 [==============================] - 2s 874us/step - loss: 80.5410 - acc: 0.9780 - val_loss: 76.1001 - val_acc: 0.9787\n",
            "Epoch 26/200\n",
            "2777/2777 [==============================] - 2s 869us/step - loss: 80.3683 - acc: 0.9784 - val_loss: 75.9573 - val_acc: 0.9787\n",
            "Epoch 27/200\n",
            "2777/2777 [==============================] - 2s 867us/step - loss: 80.2285 - acc: 0.9783 - val_loss: 75.7939 - val_acc: 0.9789\n",
            "Epoch 28/200\n",
            "2777/2777 [==============================] - 2s 868us/step - loss: 80.0876 - acc: 0.9784 - val_loss: 75.6931 - val_acc: 0.9796\n",
            "Epoch 29/200\n",
            "2777/2777 [==============================] - 2s 867us/step - loss: 79.9649 - acc: 0.9785 - val_loss: 75.5451 - val_acc: 0.9797\n",
            "Epoch 30/200\n",
            "2777/2777 [==============================] - 2s 868us/step - loss: 79.8144 - acc: 0.9786 - val_loss: 75.4374 - val_acc: 0.9791\n",
            "Epoch 31/200\n",
            "2777/2777 [==============================] - 2s 863us/step - loss: 79.6774 - acc: 0.9787 - val_loss: 75.2946 - val_acc: 0.9793\n",
            "Epoch 32/200\n",
            "2777/2777 [==============================] - 2s 865us/step - loss: 79.5578 - acc: 0.9787 - val_loss: 75.1928 - val_acc: 0.9794\n",
            "Epoch 33/200\n",
            "2777/2777 [==============================] - 2s 866us/step - loss: 79.4455 - acc: 0.9788 - val_loss: 75.0912 - val_acc: 0.9792\n",
            "Epoch 34/200\n",
            "2777/2777 [==============================] - 2s 866us/step - loss: 79.3430 - acc: 0.9788 - val_loss: 75.0406 - val_acc: 0.9791\n",
            "Epoch 35/200\n",
            "2777/2777 [==============================] - 2s 867us/step - loss: 79.2464 - acc: 0.9790 - val_loss: 74.8983 - val_acc: 0.9792\n",
            "Epoch 36/200\n",
            "2777/2777 [==============================] - 2s 866us/step - loss: 79.1207 - acc: 0.9790 - val_loss: 74.7726 - val_acc: 0.9796\n",
            "Epoch 37/200\n",
            "2777/2777 [==============================] - 2s 867us/step - loss: 79.0105 - acc: 0.9791 - val_loss: 74.7031 - val_acc: 0.9795\n",
            "Epoch 38/200\n",
            "2777/2777 [==============================] - 2s 863us/step - loss: 78.9240 - acc: 0.9792 - val_loss: 74.5620 - val_acc: 0.9797\n",
            "Epoch 39/200\n",
            "2777/2777 [==============================] - 2s 869us/step - loss: 78.8143 - acc: 0.9791 - val_loss: 74.4595 - val_acc: 0.9802\n",
            "Epoch 40/200\n",
            "2777/2777 [==============================] - 2s 869us/step - loss: 78.7156 - acc: 0.9792 - val_loss: 74.4172 - val_acc: 0.9797\n",
            "Epoch 41/200\n",
            "2777/2777 [==============================] - 2s 868us/step - loss: 78.6176 - acc: 0.9793 - val_loss: 74.2859 - val_acc: 0.9799\n",
            "Epoch 42/200\n",
            "2777/2777 [==============================] - 2s 868us/step - loss: 78.5241 - acc: 0.9793 - val_loss: 74.2256 - val_acc: 0.9803\n",
            "Epoch 43/200\n",
            "2777/2777 [==============================] - 2s 862us/step - loss: 78.4343 - acc: 0.9795 - val_loss: 74.1090 - val_acc: 0.9799\n",
            "Epoch 44/200\n",
            "2777/2777 [==============================] - 2s 868us/step - loss: 78.3429 - acc: 0.9795 - val_loss: 74.0466 - val_acc: 0.9801\n",
            "Epoch 45/200\n",
            "2777/2777 [==============================] - 2s 866us/step - loss: 78.2718 - acc: 0.9795 - val_loss: 74.0303 - val_acc: 0.9798\n",
            "Epoch 46/200\n",
            "2777/2777 [==============================] - 2s 865us/step - loss: 78.2057 - acc: 0.9797 - val_loss: 73.9657 - val_acc: 0.9797\n",
            "Epoch 47/200\n",
            "2777/2777 [==============================] - 2s 869us/step - loss: 78.1488 - acc: 0.9796 - val_loss: 73.9462 - val_acc: 0.9798\n",
            "Epoch 48/200\n",
            "2777/2777 [==============================] - 2s 865us/step - loss: 78.0489 - acc: 0.9798 - val_loss: 73.8435 - val_acc: 0.9798\n",
            "Epoch 49/200\n",
            "2777/2777 [==============================] - 2s 867us/step - loss: 77.9712 - acc: 0.9797 - val_loss: 73.7427 - val_acc: 0.9801\n",
            "Epoch 50/200\n",
            "2777/2777 [==============================] - 2s 869us/step - loss: 77.9029 - acc: 0.9797 - val_loss: 73.6675 - val_acc: 0.9802\n",
            "Epoch 51/200\n",
            "2777/2777 [==============================] - 2s 865us/step - loss: 77.8317 - acc: 0.9797 - val_loss: 73.5486 - val_acc: 0.9805\n",
            "Epoch 52/200\n",
            "2777/2777 [==============================] - 2s 867us/step - loss: 77.8042 - acc: 0.9798 - val_loss: 73.5230 - val_acc: 0.9806\n",
            "Epoch 53/200\n",
            "2777/2777 [==============================] - 2s 864us/step - loss: 77.7395 - acc: 0.9798 - val_loss: 73.4668 - val_acc: 0.9806\n",
            "Epoch 54/200\n",
            "2777/2777 [==============================] - 2s 868us/step - loss: 77.7130 - acc: 0.9799 - val_loss: 73.4517 - val_acc: 0.9805\n",
            "Epoch 55/200\n",
            "2777/2777 [==============================] - 2s 871us/step - loss: 77.6795 - acc: 0.9799 - val_loss: 73.4937 - val_acc: 0.9797\n",
            "Epoch 56/200\n",
            "2777/2777 [==============================] - 2s 863us/step - loss: 77.5916 - acc: 0.9798 - val_loss: 73.4402 - val_acc: 0.9799\n",
            "Epoch 57/200\n",
            "2777/2777 [==============================] - 2s 866us/step - loss: 77.5216 - acc: 0.9799 - val_loss: 73.3748 - val_acc: 0.9800\n",
            "Epoch 58/200\n",
            "2777/2777 [==============================] - 2s 867us/step - loss: 77.4677 - acc: 0.9800 - val_loss: 73.2404 - val_acc: 0.9805\n",
            "Epoch 59/200\n",
            "2777/2777 [==============================] - 2s 863us/step - loss: 77.3997 - acc: 0.9800 - val_loss: 73.2402 - val_acc: 0.9808\n",
            "Epoch 60/200\n",
            "2777/2777 [==============================] - 2s 870us/step - loss: 77.3753 - acc: 0.9801 - val_loss: 73.1536 - val_acc: 0.9807\n",
            "Epoch 61/200\n",
            "2777/2777 [==============================] - 2s 864us/step - loss: 77.3140 - acc: 0.9801 - val_loss: 73.1131 - val_acc: 0.9805\n",
            "Epoch 62/200\n",
            "2777/2777 [==============================] - 2s 867us/step - loss: 77.2637 - acc: 0.9800 - val_loss: 73.0797 - val_acc: 0.9805\n",
            "Epoch 63/200\n",
            "2777/2777 [==============================] - 2s 871us/step - loss: 77.2495 - acc: 0.9801 - val_loss: 73.0254 - val_acc: 0.9809\n",
            "Epoch 64/200\n",
            "2777/2777 [==============================] - 2s 861us/step - loss: 77.1955 - acc: 0.9801 - val_loss: 73.0162 - val_acc: 0.9808\n",
            "Epoch 65/200\n",
            "2777/2777 [==============================] - 2s 865us/step - loss: 77.1525 - acc: 0.9803 - val_loss: 73.0012 - val_acc: 0.9802\n",
            "Epoch 66/200\n",
            "2777/2777 [==============================] - 2s 867us/step - loss: 77.1504 - acc: 0.9801 - val_loss: 72.9373 - val_acc: 0.9809\n",
            "Epoch 67/200\n",
            "2777/2777 [==============================] - 2s 852us/step - loss: 77.0950 - acc: 0.9801 - val_loss: 72.9092 - val_acc: 0.9810\n",
            "Epoch 68/200\n",
            "2777/2777 [==============================] - 2s 846us/step - loss: 77.0790 - acc: 0.9802 - val_loss: 72.8760 - val_acc: 0.9813\n",
            "Epoch 69/200\n",
            "2777/2777 [==============================] - 2s 846us/step - loss: 77.0204 - acc: 0.9804 - val_loss: 72.8215 - val_acc: 0.9808\n",
            "Epoch 70/200\n",
            "2777/2777 [==============================] - 2s 844us/step - loss: 76.9514 - acc: 0.9803 - val_loss: 72.8238 - val_acc: 0.9807\n",
            "Epoch 71/200\n",
            "2777/2777 [==============================] - 2s 843us/step - loss: 76.8958 - acc: 0.9803 - val_loss: 72.7725 - val_acc: 0.9808\n",
            "Epoch 72/200\n",
            "2777/2777 [==============================] - 2s 846us/step - loss: 76.8467 - acc: 0.9804 - val_loss: 72.6966 - val_acc: 0.9808\n",
            "Epoch 73/200\n",
            "2777/2777 [==============================] - 2s 843us/step - loss: 76.8049 - acc: 0.9805 - val_loss: 72.6725 - val_acc: 0.9809\n",
            "Epoch 74/200\n",
            "2777/2777 [==============================] - 2s 845us/step - loss: 76.7663 - acc: 0.9805 - val_loss: 72.6917 - val_acc: 0.9808\n",
            "Epoch 75/200\n",
            "2777/2777 [==============================] - 2s 842us/step - loss: 76.7427 - acc: 0.9805 - val_loss: 72.5903 - val_acc: 0.9810\n",
            "Epoch 76/200\n",
            "2777/2777 [==============================] - 2s 840us/step - loss: 76.6890 - acc: 0.9805 - val_loss: 72.5253 - val_acc: 0.9815\n",
            "Epoch 77/200\n",
            "2777/2777 [==============================] - 2s 844us/step - loss: 76.6827 - acc: 0.9806 - val_loss: 72.5364 - val_acc: 0.9818\n",
            "Epoch 78/200\n",
            "2777/2777 [==============================] - 2s 839us/step - loss: 76.6789 - acc: 0.9806 - val_loss: 72.5168 - val_acc: 0.9816\n",
            "Epoch 79/200\n",
            "2777/2777 [==============================] - 2s 846us/step - loss: 76.6133 - acc: 0.9808 - val_loss: 72.4981 - val_acc: 0.9807\n",
            "Epoch 80/200\n",
            "2777/2777 [==============================] - 2s 841us/step - loss: 76.5744 - acc: 0.9806 - val_loss: 72.4556 - val_acc: 0.9809\n",
            "Epoch 81/200\n",
            "2777/2777 [==============================] - 2s 841us/step - loss: 76.4995 - acc: 0.9808 - val_loss: 72.3773 - val_acc: 0.9817\n",
            "Epoch 82/200\n",
            "2777/2777 [==============================] - 2s 837us/step - loss: 76.4628 - acc: 0.9808 - val_loss: 72.3635 - val_acc: 0.9815\n",
            "Epoch 83/200\n",
            "2777/2777 [==============================] - 2s 841us/step - loss: 76.4256 - acc: 0.9809 - val_loss: 72.3694 - val_acc: 0.9811\n",
            "Epoch 84/200\n",
            "2777/2777 [==============================] - 2s 838us/step - loss: 76.3852 - acc: 0.9809 - val_loss: 72.2576 - val_acc: 0.9812\n",
            "Epoch 85/200\n",
            "2777/2777 [==============================] - 2s 842us/step - loss: 76.3541 - acc: 0.9810 - val_loss: 72.2815 - val_acc: 0.9810\n",
            "Epoch 86/200\n",
            "2777/2777 [==============================] - 2s 840us/step - loss: 76.3190 - acc: 0.9809 - val_loss: 72.1842 - val_acc: 0.9816\n",
            "Epoch 87/200\n",
            "2777/2777 [==============================] - 2s 842us/step - loss: 76.2750 - acc: 0.9811 - val_loss: 72.1324 - val_acc: 0.9818\n",
            "Epoch 88/200\n",
            "2777/2777 [==============================] - 2s 844us/step - loss: 76.2489 - acc: 0.9810 - val_loss: 72.0825 - val_acc: 0.9817\n",
            "Epoch 89/200\n",
            "2777/2777 [==============================] - 2s 838us/step - loss: 76.2159 - acc: 0.9811 - val_loss: 72.2158 - val_acc: 0.9811\n",
            "Epoch 90/200\n",
            "2777/2777 [==============================] - 2s 842us/step - loss: 76.1910 - acc: 0.9811 - val_loss: 72.1014 - val_acc: 0.9814\n",
            "Epoch 91/200\n",
            "2777/2777 [==============================] - 2s 842us/step - loss: 76.1591 - acc: 0.9811 - val_loss: 72.0317 - val_acc: 0.9819\n",
            "Epoch 92/200\n",
            "2777/2777 [==============================] - 2s 840us/step - loss: 76.0861 - acc: 0.9812 - val_loss: 71.9721 - val_acc: 0.9818\n",
            "Epoch 93/200\n",
            "2777/2777 [==============================] - 2s 841us/step - loss: 76.0327 - acc: 0.9813 - val_loss: 71.9558 - val_acc: 0.9813\n",
            "Epoch 94/200\n",
            "2777/2777 [==============================] - 2s 842us/step - loss: 75.9979 - acc: 0.9811 - val_loss: 71.9080 - val_acc: 0.9817\n",
            "Epoch 95/200\n",
            "2777/2777 [==============================] - 2s 841us/step - loss: 75.9568 - acc: 0.9811 - val_loss: 71.9660 - val_acc: 0.9814\n",
            "Epoch 96/200\n",
            "2777/2777 [==============================] - 2s 843us/step - loss: 75.9254 - acc: 0.9812 - val_loss: 71.8481 - val_acc: 0.9815\n",
            "Epoch 97/200\n",
            "2777/2777 [==============================] - 2s 843us/step - loss: 75.8604 - acc: 0.9813 - val_loss: 71.8112 - val_acc: 0.9818\n",
            "Epoch 98/200\n",
            "2777/2777 [==============================] - 2s 840us/step - loss: 75.8182 - acc: 0.9813 - val_loss: 71.7734 - val_acc: 0.9815\n",
            "Epoch 99/200\n",
            "2777/2777 [==============================] - 2s 842us/step - loss: 75.7972 - acc: 0.9812 - val_loss: 71.7061 - val_acc: 0.9818\n",
            "Epoch 100/200\n",
            "2777/2777 [==============================] - 2s 837us/step - loss: 75.7472 - acc: 0.9813 - val_loss: 71.7066 - val_acc: 0.9824\n",
            "Epoch 101/200\n",
            "2777/2777 [==============================] - 2s 844us/step - loss: 75.7424 - acc: 0.9814 - val_loss: 71.6497 - val_acc: 0.9820\n",
            "Epoch 102/200\n",
            "2777/2777 [==============================] - 2s 843us/step - loss: 75.6693 - acc: 0.9814 - val_loss: 71.7299 - val_acc: 0.9814\n",
            "Epoch 103/200\n",
            "2777/2777 [==============================] - 2s 838us/step - loss: 75.6490 - acc: 0.9814 - val_loss: 71.6440 - val_acc: 0.9814\n",
            "Epoch 104/200\n",
            "2777/2777 [==============================] - 2s 837us/step - loss: 75.5766 - acc: 0.9814 - val_loss: 71.5303 - val_acc: 0.9819\n",
            "Epoch 105/200\n",
            "2777/2777 [==============================] - 2s 840us/step - loss: 75.5303 - acc: 0.9814 - val_loss: 71.5324 - val_acc: 0.9817\n",
            "Epoch 106/200\n",
            "2777/2777 [==============================] - 2s 840us/step - loss: 75.5034 - acc: 0.9814 - val_loss: 71.4493 - val_acc: 0.9819\n",
            "Epoch 107/200\n",
            "2777/2777 [==============================] - 2s 841us/step - loss: 75.4374 - acc: 0.9815 - val_loss: 71.4208 - val_acc: 0.9818\n",
            "Epoch 108/200\n",
            "2777/2777 [==============================] - 2s 842us/step - loss: 75.3966 - acc: 0.9815 - val_loss: 71.3868 - val_acc: 0.9818\n",
            "Epoch 109/200\n",
            "2777/2777 [==============================] - 2s 841us/step - loss: 75.3714 - acc: 0.9814 - val_loss: 71.3073 - val_acc: 0.9820\n",
            "Epoch 110/200\n",
            "2777/2777 [==============================] - 2s 837us/step - loss: 75.3010 - acc: 0.9815 - val_loss: 71.2933 - val_acc: 0.9820\n",
            "Epoch 111/200\n",
            "2777/2777 [==============================] - 2s 837us/step - loss: 75.2567 - acc: 0.9816 - val_loss: 71.2620 - val_acc: 0.9819\n",
            "Epoch 112/200\n",
            "2777/2777 [==============================] - 2s 840us/step - loss: 75.2614 - acc: 0.9815 - val_loss: 71.1970 - val_acc: 0.9820\n",
            "Epoch 113/200\n",
            "2777/2777 [==============================] - 2s 840us/step - loss: 75.2004 - acc: 0.9816 - val_loss: 71.1321 - val_acc: 0.9823\n",
            "Epoch 114/200\n",
            "2777/2777 [==============================] - 2s 839us/step - loss: 75.1709 - acc: 0.9817 - val_loss: 71.1366 - val_acc: 0.9820\n",
            "Epoch 115/200\n",
            "2777/2777 [==============================] - 2s 845us/step - loss: 75.1345 - acc: 0.9817 - val_loss: 71.2459 - val_acc: 0.9817\n",
            "Epoch 116/200\n",
            "2777/2777 [==============================] - 2s 840us/step - loss: 75.1418 - acc: 0.9816 - val_loss: 71.0957 - val_acc: 0.9822\n",
            "Epoch 117/200\n",
            "2777/2777 [==============================] - 2s 842us/step - loss: 75.0692 - acc: 0.9818 - val_loss: 71.0347 - val_acc: 0.9824\n",
            "Epoch 118/200\n",
            "2777/2777 [==============================] - 2s 837us/step - loss: 74.9957 - acc: 0.9817 - val_loss: 70.9666 - val_acc: 0.9822\n",
            "Epoch 119/200\n",
            "2777/2777 [==============================] - 2s 848us/step - loss: 74.9762 - acc: 0.9818 - val_loss: 71.0232 - val_acc: 0.9820\n",
            "Epoch 120/200\n",
            "2777/2777 [==============================] - 2s 842us/step - loss: 74.9016 - acc: 0.9817 - val_loss: 70.9336 - val_acc: 0.9821\n",
            "Epoch 121/200\n",
            "2777/2777 [==============================] - 2s 846us/step - loss: 74.8533 - acc: 0.9818 - val_loss: 70.8450 - val_acc: 0.9824\n",
            "Epoch 122/200\n",
            "2777/2777 [==============================] - 2s 844us/step - loss: 74.8075 - acc: 0.9819 - val_loss: 70.8499 - val_acc: 0.9822\n",
            "Epoch 123/200\n",
            "2777/2777 [==============================] - 2s 840us/step - loss: 74.7890 - acc: 0.9818 - val_loss: 70.8065 - val_acc: 0.9828\n",
            "Epoch 124/200\n",
            "2777/2777 [==============================] - 2s 840us/step - loss: 74.7691 - acc: 0.9819 - val_loss: 70.8481 - val_acc: 0.9823\n",
            "Epoch 125/200\n",
            "2777/2777 [==============================] - 2s 843us/step - loss: 74.7309 - acc: 0.9819 - val_loss: 71.1456 - val_acc: 0.9817\n",
            "Epoch 126/200\n",
            "2777/2777 [==============================] - 2s 842us/step - loss: 74.7595 - acc: 0.9819 - val_loss: 70.7160 - val_acc: 0.9824\n",
            "Epoch 127/200\n",
            "2777/2777 [==============================] - 2s 842us/step - loss: 74.6254 - acc: 0.9819 - val_loss: 70.6564 - val_acc: 0.9825\n",
            "Epoch 128/200\n",
            "2777/2777 [==============================] - 2s 844us/step - loss: 74.5789 - acc: 0.9820 - val_loss: 70.6157 - val_acc: 0.9826\n",
            "Epoch 129/200\n",
            "2777/2777 [==============================] - 2s 843us/step - loss: 74.5358 - acc: 0.9820 - val_loss: 70.5859 - val_acc: 0.9828\n",
            "Epoch 130/200\n",
            "2777/2777 [==============================] - 2s 845us/step - loss: 74.5157 - acc: 0.9820 - val_loss: 70.5841 - val_acc: 0.9832\n",
            "Epoch 131/200\n",
            "2777/2777 [==============================] - 2s 845us/step - loss: 74.5098 - acc: 0.9822 - val_loss: 70.5265 - val_acc: 0.9830\n",
            "Epoch 132/200\n",
            "2777/2777 [==============================] - 2s 839us/step - loss: 74.5276 - acc: 0.9824 - val_loss: 70.7528 - val_acc: 0.9820\n",
            "Epoch 133/200\n",
            "2777/2777 [==============================] - 2s 841us/step - loss: 74.5559 - acc: 0.9823 - val_loss: 70.8039 - val_acc: 0.9822\n",
            "Epoch 134/200\n",
            "2777/2777 [==============================] - 2s 840us/step - loss: 74.4496 - acc: 0.9824 - val_loss: 70.4645 - val_acc: 0.9829\n",
            "Epoch 135/200\n",
            "2777/2777 [==============================] - 2s 842us/step - loss: 74.3863 - acc: 0.9825 - val_loss: 70.4108 - val_acc: 0.9831\n",
            "Epoch 136/200\n",
            "2777/2777 [==============================] - 2s 854us/step - loss: 74.2940 - acc: 0.9827 - val_loss: 70.4480 - val_acc: 0.9829\n",
            "Epoch 137/200\n",
            "2777/2777 [==============================] - 2s 840us/step - loss: 74.2569 - acc: 0.9826 - val_loss: 70.3271 - val_acc: 0.9832\n",
            "Epoch 138/200\n",
            "2777/2777 [==============================] - 2s 841us/step - loss: 74.2140 - acc: 0.9827 - val_loss: 70.3395 - val_acc: 0.9830\n",
            "Epoch 139/200\n",
            "2777/2777 [==============================] - 2s 843us/step - loss: 74.1751 - acc: 0.9826 - val_loss: 70.2658 - val_acc: 0.9830\n",
            "Epoch 140/200\n",
            "2777/2777 [==============================] - 2s 842us/step - loss: 74.1593 - acc: 0.9829 - val_loss: 70.3170 - val_acc: 0.9833\n",
            "Epoch 141/200\n",
            "2777/2777 [==============================] - 2s 844us/step - loss: 74.1199 - acc: 0.9828 - val_loss: 70.2118 - val_acc: 0.9834\n",
            "Epoch 142/200\n",
            "2777/2777 [==============================] - 2s 844us/step - loss: 74.1088 - acc: 0.9829 - val_loss: 70.2167 - val_acc: 0.9838\n",
            "Epoch 143/200\n",
            "2777/2777 [==============================] - 2s 840us/step - loss: 74.0764 - acc: 0.9830 - val_loss: 70.1166 - val_acc: 0.9834\n",
            "Epoch 144/200\n",
            "2777/2777 [==============================] - 2s 840us/step - loss: 74.0536 - acc: 0.9830 - val_loss: 70.1818 - val_acc: 0.9838\n",
            "Epoch 145/200\n",
            "2777/2777 [==============================] - 2s 837us/step - loss: 73.9993 - acc: 0.9830 - val_loss: 70.1564 - val_acc: 0.9833\n",
            "Epoch 146/200\n",
            "2777/2777 [==============================] - 2s 838us/step - loss: 73.9678 - acc: 0.9830 - val_loss: 70.1204 - val_acc: 0.9834\n",
            "Epoch 147/200\n",
            "2777/2777 [==============================] - 2s 843us/step - loss: 73.9474 - acc: 0.9830 - val_loss: 70.0559 - val_acc: 0.9839\n",
            "Epoch 148/200\n",
            "2777/2777 [==============================] - 2s 843us/step - loss: 73.9792 - acc: 0.9832 - val_loss: 70.0827 - val_acc: 0.9835\n",
            "Epoch 149/200\n",
            "2777/2777 [==============================] - 2s 844us/step - loss: 73.9286 - acc: 0.9830 - val_loss: 70.1318 - val_acc: 0.9835\n",
            "Epoch 150/200\n",
            "2777/2777 [==============================] - 2s 844us/step - loss: 73.8593 - acc: 0.9832 - val_loss: 69.9590 - val_acc: 0.9836\n",
            "Epoch 151/200\n",
            "2777/2777 [==============================] - 2s 843us/step - loss: 73.8265 - acc: 0.9831 - val_loss: 69.9411 - val_acc: 0.9837\n",
            "Epoch 152/200\n",
            "2777/2777 [==============================] - 2s 838us/step - loss: 73.7782 - acc: 0.9830 - val_loss: 69.9358 - val_acc: 0.9835\n",
            "Epoch 153/200\n",
            "2777/2777 [==============================] - 2s 841us/step - loss: 73.7470 - acc: 0.9831 - val_loss: 69.8967 - val_acc: 0.9836\n",
            "Epoch 154/200\n",
            "2777/2777 [==============================] - 2s 847us/step - loss: 73.7557 - acc: 0.9833 - val_loss: 69.8702 - val_acc: 0.9835\n",
            "Epoch 155/200\n",
            "2777/2777 [==============================] - 2s 844us/step - loss: 73.7032 - acc: 0.9832 - val_loss: 69.9072 - val_acc: 0.9835\n",
            "Epoch 156/200\n",
            "2777/2777 [==============================] - 2s 841us/step - loss: 73.6871 - acc: 0.9831 - val_loss: 69.8853 - val_acc: 0.9836\n",
            "Epoch 157/200\n",
            "2777/2777 [==============================] - 2s 840us/step - loss: 73.6695 - acc: 0.9832 - val_loss: 69.7902 - val_acc: 0.9837\n",
            "Epoch 158/200\n",
            "2777/2777 [==============================] - 2s 844us/step - loss: 73.6689 - acc: 0.9834 - val_loss: 69.7559 - val_acc: 0.9840\n",
            "Epoch 159/200\n",
            "2777/2777 [==============================] - 2s 845us/step - loss: 73.6014 - acc: 0.9832 - val_loss: 69.7882 - val_acc: 0.9841\n",
            "Epoch 160/200\n",
            "2777/2777 [==============================] - 2s 842us/step - loss: 73.5507 - acc: 0.9833 - val_loss: 69.6940 - val_acc: 0.9838\n",
            "Epoch 161/200\n",
            "2777/2777 [==============================] - 2s 842us/step - loss: 73.5237 - acc: 0.9833 - val_loss: 69.7218 - val_acc: 0.9842\n",
            "Epoch 162/200\n",
            "2777/2777 [==============================] - 2s 847us/step - loss: 73.5054 - acc: 0.9833 - val_loss: 69.7224 - val_acc: 0.9838\n",
            "Epoch 163/200\n",
            "2777/2777 [==============================] - 2s 846us/step - loss: 73.4906 - acc: 0.9834 - val_loss: 69.7069 - val_acc: 0.9838\n",
            "Epoch 164/200\n",
            "2777/2777 [==============================] - 2s 842us/step - loss: 73.4708 - acc: 0.9834 - val_loss: 69.7328 - val_acc: 0.9847\n",
            "Epoch 165/200\n",
            "2777/2777 [==============================] - 2s 836us/step - loss: 73.5387 - acc: 0.9837 - val_loss: 69.6055 - val_acc: 0.9839\n",
            "Epoch 166/200\n",
            "2777/2777 [==============================] - 2s 847us/step - loss: 73.4526 - acc: 0.9834 - val_loss: 69.7111 - val_acc: 0.9836\n",
            "Epoch 167/200\n",
            "2777/2777 [==============================] - 2s 842us/step - loss: 73.4089 - acc: 0.9835 - val_loss: 69.6042 - val_acc: 0.9849\n",
            "Epoch 168/200\n",
            "2777/2777 [==============================] - 2s 840us/step - loss: 73.4607 - acc: 0.9838 - val_loss: 69.6945 - val_acc: 0.9855\n",
            "Epoch 169/200\n",
            "2777/2777 [==============================] - 2s 839us/step - loss: 73.5001 - acc: 0.9839 - val_loss: 69.6704 - val_acc: 0.9856\n",
            "Epoch 170/200\n",
            "2777/2777 [==============================] - 2s 842us/step - loss: 73.4132 - acc: 0.9839 - val_loss: 69.5604 - val_acc: 0.9839\n",
            "Epoch 171/200\n",
            "2777/2777 [==============================] - 2s 840us/step - loss: 73.3687 - acc: 0.9838 - val_loss: 69.5958 - val_acc: 0.9839\n",
            "Epoch 172/200\n",
            "2777/2777 [==============================] - 2s 845us/step - loss: 73.3279 - acc: 0.9837 - val_loss: 69.4475 - val_acc: 0.9844\n",
            "Epoch 173/200\n",
            "2777/2777 [==============================] - 2s 843us/step - loss: 73.2568 - acc: 0.9838 - val_loss: 69.4119 - val_acc: 0.9845\n",
            "Epoch 174/200\n",
            "2777/2777 [==============================] - 2s 841us/step - loss: 73.2116 - acc: 0.9838 - val_loss: 69.4191 - val_acc: 0.9841\n",
            "Epoch 175/200\n",
            "2777/2777 [==============================] - 2s 843us/step - loss: 73.1907 - acc: 0.9837 - val_loss: 69.5021 - val_acc: 0.9840\n",
            "Epoch 176/200\n",
            "2777/2777 [==============================] - 2s 844us/step - loss: 73.1463 - acc: 0.9838 - val_loss: 69.4122 - val_acc: 0.9841\n",
            "Epoch 177/200\n",
            "2777/2777 [==============================] - 2s 840us/step - loss: 73.1254 - acc: 0.9838 - val_loss: 69.3176 - val_acc: 0.9843\n",
            "Epoch 178/200\n",
            "2777/2777 [==============================] - 2s 839us/step - loss: 73.1504 - acc: 0.9840 - val_loss: 69.3397 - val_acc: 0.9847\n",
            "Epoch 179/200\n",
            "2777/2777 [==============================] - 2s 841us/step - loss: 73.0922 - acc: 0.9839 - val_loss: 69.3182 - val_acc: 0.9843\n",
            "Epoch 180/200\n",
            "2777/2777 [==============================] - 2s 842us/step - loss: 73.0381 - acc: 0.9840 - val_loss: 69.3392 - val_acc: 0.9844\n",
            "Epoch 181/200\n",
            "2777/2777 [==============================] - 2s 840us/step - loss: 73.0320 - acc: 0.9841 - val_loss: 69.3045 - val_acc: 0.9845\n",
            "Epoch 182/200\n",
            "2777/2777 [==============================] - 2s 840us/step - loss: 73.0063 - acc: 0.9841 - val_loss: 69.3036 - val_acc: 0.9844\n",
            "Epoch 183/200\n",
            "2777/2777 [==============================] - 2s 841us/step - loss: 72.9956 - acc: 0.9841 - val_loss: 69.2586 - val_acc: 0.9846\n",
            "Epoch 184/200\n",
            "2777/2777 [==============================] - 2s 843us/step - loss: 72.9587 - acc: 0.9843 - val_loss: 69.1986 - val_acc: 0.9852\n",
            "Epoch 185/200\n",
            "2777/2777 [==============================] - 2s 842us/step - loss: 72.9238 - acc: 0.9847 - val_loss: 69.2420 - val_acc: 0.9850\n",
            "Epoch 186/200\n",
            "2777/2777 [==============================] - 2s 843us/step - loss: 72.9133 - acc: 0.9847 - val_loss: 69.1499 - val_acc: 0.9854\n",
            "Epoch 187/200\n",
            "2777/2777 [==============================] - 2s 841us/step - loss: 72.9273 - acc: 0.9848 - val_loss: 69.1889 - val_acc: 0.9854\n",
            "Epoch 188/200\n",
            "2777/2777 [==============================] - 2s 845us/step - loss: 72.8560 - acc: 0.9847 - val_loss: 69.0858 - val_acc: 0.9853\n",
            "Epoch 189/200\n",
            "2777/2777 [==============================] - 2s 842us/step - loss: 72.8423 - acc: 0.9848 - val_loss: 69.0842 - val_acc: 0.9851\n",
            "Epoch 190/200\n",
            "2777/2777 [==============================] - 2s 837us/step - loss: 72.8284 - acc: 0.9848 - val_loss: 69.1040 - val_acc: 0.9851\n",
            "Epoch 191/200\n",
            "2777/2777 [==============================] - 2s 846us/step - loss: 72.7922 - acc: 0.9848 - val_loss: 69.0732 - val_acc: 0.9851\n",
            "Epoch 192/200\n",
            "2777/2777 [==============================] - 2s 843us/step - loss: 72.7979 - acc: 0.9848 - val_loss: 69.1161 - val_acc: 0.9860\n",
            "Epoch 193/200\n",
            "2777/2777 [==============================] - 2s 839us/step - loss: 72.7930 - acc: 0.9849 - val_loss: 69.0161 - val_acc: 0.9854\n",
            "Epoch 194/200\n",
            "2777/2777 [==============================] - 2s 842us/step - loss: 72.7433 - acc: 0.9849 - val_loss: 69.1713 - val_acc: 0.9849\n",
            "Epoch 195/200\n",
            "2777/2777 [==============================] - 2s 848us/step - loss: 72.7320 - acc: 0.9849 - val_loss: 68.9868 - val_acc: 0.9852\n",
            "Epoch 196/200\n",
            "2777/2777 [==============================] - 2s 840us/step - loss: 72.7051 - acc: 0.9849 - val_loss: 68.9871 - val_acc: 0.9856\n",
            "Epoch 197/200\n",
            "2777/2777 [==============================] - 2s 844us/step - loss: 72.6561 - acc: 0.9850 - val_loss: 68.9145 - val_acc: 0.9858\n",
            "Epoch 198/200\n",
            "2777/2777 [==============================] - 2s 846us/step - loss: 72.6338 - acc: 0.9851 - val_loss: 68.9006 - val_acc: 0.9852\n",
            "Epoch 199/200\n",
            "2777/2777 [==============================] - 2s 837us/step - loss: 72.5971 - acc: 0.9851 - val_loss: 68.9194 - val_acc: 0.9854\n",
            "Epoch 200/200\n",
            "2777/2777 [==============================] - 2s 837us/step - loss: 72.5714 - acc: 0.9850 - val_loss: 68.9131 - val_acc: 0.9858\n"
          ],
          "name": "stdout"
        },
        {
          "output_type": "display_data",
          "data": {
            "image/png": "[encoded data removed]",
            "text/plain": [
              "<Figure size 432x288 with 1 Axes>"
            ]
          },
          "metadata": {
            "tags": []
          }
        }
      ]
    },
    {
      "cell_type": "code",
      "metadata": {
        "id": "3B9wjkHmKdrs",
        "colab_type": "code",
        "colab": {
          "base_uri": "https://localhost:8080/",
          "height": 334
        },
        "outputId": "7e501432-a890-4de7-c1f8-765444e623a1"
      },
      "source": [
        "# evaluation\n",
        "\n",
        "n = 10  # for 10 random indices\n",
        "index = np.random.choice(x_test.shape[0], n, replace=False)\n",
        "\n",
        "x_eval = x_test[index]\n",
        "print(\"Number of samples to evaluate: \", len(x_eval))\n",
        "print(\"Samples to evaluate: \", index)\n",
        "\n",
        "#encoded_imgs = ae.eval_model(x_test)\n",
        "encoded_imgs = ae.eval_model(x_eval)\n",
        "decoded_imgs = ae.eval_model(encoded_imgs)\n",
        "\n",
        "plot_results(x_eval, decoded_imgs)"
      ],
      "execution_count": 33,
      "outputs": [
        {
          "output_type": "stream",
          "text": [
            "Number of samples to evaluate:  10\n",
            "Samples to evaluate:  [ 69  18 248 448 112 599 403 100 282 553]\n"
          ],
          "name": "stdout"
        },
        {
          "output_type": "display_data",
          "data": {
            "image/png": "[encoded data removed]",
            "text/plain": [
              "<Figure size 1800x360 with 20 Axes>"
            ]
          },
          "metadata": {
            "tags": []
          }
        }
      ]
    },
    {
      "cell_type": "code",
      "metadata": {
        "id": "yMR2KgXaKZqp",
        "colab_type": "code",
        "colab": {}
      },
      "source": [
        ""
      ],
      "execution_count": 0,
      "outputs": []
    }
  ]
}