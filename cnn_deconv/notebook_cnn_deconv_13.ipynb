{
  "nbformat": 4,
  "nbformat_minor": 0,
  "metadata": {
    "kernelspec": {
      "name": "python3",
      "display_name": "Python 3"
    },
    "language_info": {
      "codemirror_mode": {
        "name": "ipython",
        "version": 3
      },
      "file_extension": ".py",
      "mimetype": "text/x-python",
      "name": "python",
      "nbconvert_exporter": "python",
      "pygments_lexer": "ipython3",
      "version": "3.7.4"
    },
    "colab": {
      "name": "notebook_cnn_deconv_13.ipynb",
      "version": "0.3.2",
      "provenance": [],
      "collapsed_sections": [],
      "include_colab_link": true
    },
    "accelerator": "GPU"
  },
  "cells": [
    {
      "cell_type": "markdown",
      "metadata": {
        "id": "view-in-github",
        "colab_type": "text"
      },
      "source": [
        "<a href=\"https://colab.research.google.com/github/praveentn/MidcurveNN/blob/master/cnn_deconv/notebook_cnn_deconv_13.ipynb\" target=\"_parent\"><img src=\"https://colab.research.google.com/assets/colab-badge.svg\" alt=\"Open In Colab\"/></a>"
      ]
    },
    {
      "cell_type": "markdown",
      "metadata": {
        "id": "IQVJL5mHwPrl",
        "colab_type": "text"
      },
      "source": [
        "# CNN ENC-DEC"
      ]
    },
    {
      "cell_type": "code",
      "metadata": {
        "id": "AxYRQhxBxAbv",
        "colab_type": "code",
        "outputId": "1cf74d97-7e43-4ffa-bb5c-864c663a6eba",
        "colab": {
          "base_uri": "https://localhost:8080/",
          "height": 72
        }
      },
      "source": [
        "# mount google drive & set working directory\n",
        "# requires auth (click on url & copy token into text box when prompted)\n",
        "from google.colab import drive\n",
        "drive.mount(\"/content/gdrive\")\n",
        "\n",
        "import os\n",
        "print(os.getcwd())\n",
        "\n",
        "os.chdir('/content/gdrive/My Drive/Colab Notebooks/MidcurveNN')\n",
        "!pwd"
      ],
      "execution_count": 1,
      "outputs": [
        {
          "output_type": "stream",
          "text": [
            "Drive already mounted at /content/gdrive; to attempt to forcibly remount, call drive.mount(\"/content/gdrive\", force_remount=True).\n",
            "/content\n",
            "/content/gdrive/My Drive/Colab Notebooks/MidcurveNN\n"
          ],
          "name": "stdout"
        }
      ]
    },
    {
      "cell_type": "code",
      "metadata": {
        "id": "rDHgEuJBwPrm",
        "colab_type": "code",
        "outputId": "20ca5671-7462-4b95-8c7b-814818d2c538",
        "colab": {
          "base_uri": "https://localhost:8080/",
          "height": 35
        }
      },
      "source": [
        "from __future__ import absolute_import, division, print_function, unicode_literals\n",
        "\n",
        "# !pip install tensorflow-gpu==2.0.0-alpha0\n",
        "import tensorflow as tf\n",
        "\n",
        "import os\n",
        "import sys\n",
        "import PIL\n",
        "import json\n",
        "import time\n",
        "\n",
        "from keras.layers import Input, Dense, Dropout\n",
        "from keras import regularizers, optimizers\n",
        "from keras.optimizers import Adam, SGD, RMSprop\n",
        "from keras.callbacks import EarlyStopping\n",
        "from keras.models import Model, Sequential\n",
        "from keras.layers import Input, Dense, Conv2D, UpSampling2D, Reshape, Flatten\n",
        "from keras.layers import GlobalMaxPooling2D, AveragePooling2D, MaxPooling2D\n",
        "from keras.layers.normalization import BatchNormalization\n",
        "from keras.preprocessing.image import img_to_array, load_img\n",
        "from sklearn.model_selection import train_test_split\n",
        "from random import shuffle\n",
        "\n",
        "import numpy as np\n",
        "np.set_printoptions(threshold=sys.maxsize)\n",
        "\n",
        "import matplotlib.pyplot as plt\n",
        "from IPython.display import clear_output\n",
        "\n",
        "import matplotlib\n",
        "# matplotlib.use('TKAgg')\n",
        "%matplotlib inline"
      ],
      "execution_count": 2,
      "outputs": [
        {
          "output_type": "stream",
          "text": [
            "Using TensorFlow backend.\n"
          ],
          "name": "stderr"
        }
      ]
    },
    {
      "cell_type": "code",
      "metadata": {
        "id": "evVd6EPUwPrs",
        "colab_type": "code",
        "outputId": "2b3d79e4-619e-42c7-dd0e-0f49914f74fc",
        "colab": {
          "base_uri": "https://localhost:8080/",
          "height": 35
        }
      },
      "source": [
        "# working directory\n",
        "wdir = os.getcwd()\n",
        "wdir"
      ],
      "execution_count": 3,
      "outputs": [
        {
          "output_type": "execute_result",
          "data": {
            "text/plain": [
              "'/content/gdrive/My Drive/Colab Notebooks/MidcurveNN'"
            ]
          },
          "metadata": {
            "tags": []
          },
          "execution_count": 3
        }
      ]
    },
    {
      "cell_type": "code",
      "metadata": {
        "id": "UxFdYYywwPrx",
        "colab_type": "code",
        "outputId": "00076c71-41be-4986-ce4b-fd85a3548526",
        "colab": {
          "base_uri": "https://localhost:8080/",
          "height": 35
        }
      },
      "source": [
        "# _URL = 'https://drive.google.com/uc?export=download&id=16rqDFLO__WySSQGlAht0FEj2uJZg4M9M'\n",
        "\n",
        "# path_to_zip = tf.keras.utils.get_file('input.zip',\n",
        "#                                       origin=_URL,\n",
        "#                                       extract=True)\n",
        "\n",
        "# input_data_folder = os.path.join(os.path.dirname(path_to_zip), 'input')\n",
        "input_data_folder = wdir + \"/data/input\"\n",
        "input_data_folder = wdir + \"/data/images\"\n",
        "print(\"input data dir: \", input_data_folder)"
      ],
      "execution_count": 4,
      "outputs": [
        {
          "output_type": "stream",
          "text": [
            "input data dir:  /content/gdrive/My Drive/Colab Notebooks/MidcurveNN/data/images\n"
          ],
          "name": "stdout"
        }
      ]
    },
    {
      "cell_type": "code",
      "metadata": {
        "id": "geTVDZfzPY-u",
        "colab_type": "code",
        "outputId": "1bcef786-508e-4fe6-c099-0fba785a5542",
        "colab": {
          "base_uri": "https://localhost:8080/",
          "height": 54
        }
      },
      "source": [
        "import glob\n",
        "\n",
        "image_paths = glob.glob(input_data_folder + '/**/*.png', recursive=True)\n",
        "images = [os.path.basename(img_path) for img_path in image_paths]\n",
        "\n",
        "print(len(images))\n",
        "\n",
        "#images = os.listdir(input_data_folder)\n",
        "images[99]"
      ],
      "execution_count": 5,
      "outputs": [
        {
          "output_type": "stream",
          "text": [
            "6944\n"
          ],
          "name": "stdout"
        },
        {
          "output_type": "execute_result",
          "data": {
            "text/plain": [
              "'CapI_Midcurve_mirrored_0_translated_10_-20.png'"
            ]
          },
          "metadata": {
            "tags": []
          },
          "execution_count": 5
        }
      ]
    },
    {
      "cell_type": "code",
      "metadata": {
        "id": "oNZW79Q1URmJ",
        "colab_type": "code",
        "colab": {}
      },
      "source": [
        "# image dimension\n",
        "imdim = 100"
      ],
      "execution_count": 0,
      "outputs": []
    },
    {
      "cell_type": "code",
      "metadata": {
        "id": "RjdmJfpRwPr0",
        "colab_type": "code",
        "colab": {}
      },
      "source": [
        "def read_input_image_pairs(datafolder=input_data_folder):\n",
        "    profile_pngs = []\n",
        "    midcurve_pngs = []\n",
        "    for file in os.listdir(datafolder):\n",
        "        fullpath = os.path.join(datafolder, file)\n",
        "        if os.path.isdir(fullpath):\n",
        "            continue\n",
        "        if file.endswith(\".png\"):\n",
        "            if file.find(\"Profile\") != -1:\n",
        "                profile_pngs.append(fullpath)\n",
        "            if file.find(\"Midcurve\") != -1:\n",
        "                midcurve_pngs.append(fullpath)\n",
        "    profile_pngs = sorted(profile_pngs)\n",
        "    midcurve_pngs = sorted(midcurve_pngs)\n",
        "    return profile_pngs,midcurve_pngs"
      ],
      "execution_count": 0,
      "outputs": []
    },
    {
      "cell_type": "code",
      "metadata": {
        "id": "Rim24hWkwPr3",
        "colab_type": "code",
        "colab": {}
      },
      "source": [
        "def get_training_data(datafolder=input_data_folder):\n",
        "    profile_pngs,midcurve_pngs = read_input_image_pairs(datafolder)\n",
        "    \n",
        "    profile_pngs_objs = [img_to_array(load_img(f, color_mode='rgba', target_size=(imdim, imdim))) for f in profile_pngs ]\n",
        "    midcurve_pngs_objs = [img_to_array(load_img(f, color_mode='rgba', target_size=(imdim, imdim))) for f in midcurve_pngs]\n",
        "\n",
        "#     profile_pngs_objs = np.array([x.reshape((1,) + x.shape) for x in profile_pngs_objs])\n",
        "#     midcurve_pngs_objs = np.array([x.reshape((1,) + x.shape) for x in midcurve_pngs_objs])\n",
        "\n",
        "    profile_pngs_gray_objs = [x[:,:,3] for x in profile_pngs_objs]\n",
        "    midcurve_pngs_gray_objs =[x[:,:,3] for x in midcurve_pngs_objs]\n",
        "    \n",
        "#     profile_pngs_gray_objs = [np.where(x>128, 0, 1) for x in profile_pngs_gray_objs]\n",
        "#     midcurve_pngs_gray_objs =[np.where(x>128, 0, 1) for x in midcurve_pngs_gray_objs]\n",
        "        \n",
        "    # shufle them\n",
        "    zipped_profiles_midcurves = [(p,m) for p,m in zip(profile_pngs_gray_objs,midcurve_pngs_gray_objs)]\n",
        "    shuffle(zipped_profiles_midcurves)\n",
        "    profile_pngs_gray_objs, midcurve_pngs_gray_objs = zip(*zipped_profiles_midcurves)\n",
        "    \n",
        "    return profile_pngs_gray_objs, midcurve_pngs_gray_objs"
      ],
      "execution_count": 0,
      "outputs": []
    },
    {
      "cell_type": "code",
      "metadata": {
        "id": "EEfyWOYCiYxD",
        "colab_type": "code",
        "outputId": "3dbf8697-b5f3-4b9e-81de-9689f575811d",
        "colab": {
          "base_uri": "https://localhost:8080/",
          "height": 581
        }
      },
      "source": [
        "shapes = os.listdir('/content/gdrive/My Drive/Colab Notebooks/MidcurveNN/data/images')\n",
        "shapes"
      ],
      "execution_count": 9,
      "outputs": [
        {
          "output_type": "execute_result",
          "data": {
            "text/plain": [
              "['CapI',\n",
              " 'Iuvw',\n",
              " 'Tuvw',\n",
              " 'Vuvw',\n",
              " 'Sm_n',\n",
              " 'InvV',\n",
              " 'Parl',\n",
              " 'Trap',\n",
              " 'Stik',\n",
              " 'Usla',\n",
              " 'LapT',\n",
              " 'RelY',\n",
              " 'T002',\n",
              " 'T003',\n",
              " 'T004',\n",
              " 'T005',\n",
              " 'Plus',\n",
              " 'SqLu',\n",
              " 'Luvw',\n",
              " 'L001',\n",
              " 'L002',\n",
              " 'L003',\n",
              " 'T006',\n",
              " 'X001',\n",
              " 'L004',\n",
              " 'Y001',\n",
              " 'L100',\n",
              " 'Stp1',\n",
              " 'I100',\n",
              " 'I101',\n",
              " 'L005']"
            ]
          },
          "metadata": {
            "tags": []
          },
          "execution_count": 9
        }
      ]
    },
    {
      "cell_type": "code",
      "metadata": {
        "id": "GP3POQEVtlck",
        "colab_type": "code",
        "outputId": "ed2718a5-17d0-4a98-8b98-427d9467f9cc",
        "colab": {
          "base_uri": "https://localhost:8080/",
          "height": 1000
        }
      },
      "source": [
        "profile_pngs_objs = ()\n",
        "midcurve_pngs_objs = ()\n",
        "\n",
        "for shape in shapes:\n",
        "    print(shape)\n",
        "    tp, tm = get_training_data(os.path.join(input_data_folder, shape))\n",
        "    profile_pngs_objs += tp\n",
        "    midcurve_pngs_objs += tm\n",
        "    print(len(profile_pngs_objs), len(midcurve_pngs_objs))"
      ],
      "execution_count": 10,
      "outputs": [
        {
          "output_type": "stream",
          "text": [
            "CapI\n",
            "112 112\n",
            "Iuvw\n",
            "224 224\n",
            "Tuvw\n",
            "336 336\n",
            "Vuvw\n",
            "448 448\n",
            "Sm_n\n",
            "560 560\n",
            "InvV\n",
            "672 672\n",
            "Parl\n",
            "784 784\n",
            "Trap\n",
            "896 896\n",
            "Stik\n",
            "1008 1008\n",
            "Usla\n",
            "1120 1120\n",
            "LapT\n",
            "1232 1232\n",
            "RelY\n",
            "1344 1344\n",
            "T002\n",
            "1456 1456\n",
            "T003\n",
            "1568 1568\n",
            "T004\n",
            "1680 1680\n",
            "T005\n",
            "1792 1792\n",
            "Plus\n",
            "1904 1904\n",
            "SqLu\n",
            "2016 2016\n",
            "Luvw\n",
            "2128 2128\n",
            "L001\n",
            "2240 2240\n",
            "L002\n",
            "2352 2352\n",
            "L003\n",
            "2464 2464\n",
            "T006\n",
            "2576 2576\n",
            "X001\n",
            "2688 2688\n",
            "L004\n",
            "2800 2800\n",
            "Y001\n",
            "2912 2912\n",
            "L100\n",
            "3024 3024\n",
            "Stp1\n",
            "3136 3136\n",
            "I100\n",
            "3248 3248\n",
            "I101\n",
            "3360 3360\n",
            "L005\n",
            "3472 3472\n"
          ],
          "name": "stdout"
        }
      ]
    },
    {
      "cell_type": "code",
      "metadata": {
        "id": "lea0l6OoSS9X",
        "colab_type": "code",
        "colab": {
          "base_uri": "https://localhost:8080/",
          "height": 35
        },
        "outputId": "f04d96af-ca53-4c43-c4fc-fc1cb76dc5d9"
      },
      "source": [
        "len(profile_pngs_objs)"
      ],
      "execution_count": 11,
      "outputs": [
        {
          "output_type": "execute_result",
          "data": {
            "text/plain": [
              "3472"
            ]
          },
          "metadata": {
            "tags": []
          },
          "execution_count": 11
        }
      ]
    },
    {
      "cell_type": "code",
      "metadata": {
        "id": "9f9N734PSXGH",
        "colab_type": "code",
        "colab": {
          "base_uri": "https://localhost:8080/",
          "height": 35
        },
        "outputId": "25e27abb-c38f-4695-d703-0bb38d8c1bac"
      },
      "source": [
        "profile_pngs_objs[0].shape"
      ],
      "execution_count": 12,
      "outputs": [
        {
          "output_type": "execute_result",
          "data": {
            "text/plain": [
              "(100, 100)"
            ]
          },
          "metadata": {
            "tags": []
          },
          "execution_count": 12
        }
      ]
    },
    {
      "cell_type": "code",
      "metadata": {
        "id": "3CON1HkAtWxn",
        "colab_type": "code",
        "colab": {
          "base_uri": "https://localhost:8080/",
          "height": 35
        },
        "outputId": "56aab4b4-9b74-48d7-ae05-0acce840bd18"
      },
      "source": [
        "type(midcurve_pngs_objs)"
      ],
      "execution_count": 13,
      "outputs": [
        {
          "output_type": "execute_result",
          "data": {
            "text/plain": [
              "tuple"
            ]
          },
          "metadata": {
            "tags": []
          },
          "execution_count": 13
        }
      ]
    },
    {
      "cell_type": "code",
      "metadata": {
        "id": "IGcijScSwPr8",
        "colab_type": "code",
        "colab": {}
      },
      "source": [
        "def plot_results(original_imgs,computed_imgs,n=10):\n",
        "    # n = 10  # how many digits we will display\n",
        "    plt.figure(figsize=(25, 5))\n",
        "    for i in range(n):\n",
        "        # display original\n",
        "        ax = plt.subplot(2, n, i + 1)\n",
        "        plt.imshow(original_imgs[i].reshape(imdim, imdim),cmap='gray_r')\n",
        "#         plt.gray()\n",
        "        ax.get_xaxis().set_visible(False)\n",
        "        ax.get_yaxis().set_visible(False)\n",
        "    \n",
        "        # display reconstruction\n",
        "        ax = plt.subplot(2, n, i + 1 + n)\n",
        "        plt.imshow(computed_imgs[i].reshape(imdim, imdim),cmap='gray_r')\n",
        "#         plt.gray()\n",
        "        ax.get_xaxis().set_visible(False)\n",
        "        ax.get_yaxis().set_visible(False)\n",
        "    plt.show()"
      ],
      "execution_count": 0,
      "outputs": []
    },
    {
      "cell_type": "code",
      "metadata": {
        "id": "YkMvqA_swPr_",
        "colab_type": "code",
        "colab": {
          "base_uri": "https://localhost:8080/",
          "height": 297
        },
        "outputId": "4b72304f-3d88-4df2-ef6c-2215761ed314"
      },
      "source": [
        "plot_results(profile_pngs_objs[2030:2050],midcurve_pngs_objs[2030:2050])"
      ],
      "execution_count": 15,
      "outputs": [
        {
          "output_type": "display_data",
          "data": {
            "image/png": "[encoded data removed]",
            "text/plain": [
              "<Figure size 1800x360 with 20 Axes>"
            ]
          },
          "metadata": {
            "tags": []
          }
        }
      ]
    },
    {
      "cell_type": "code",
      "metadata": {
        "id": "KeLJMAIbwPsD",
        "colab_type": "code",
        "colab": {}
      },
      "source": [
        "def get_train_test_split(profile_pngs_gray_objs, midcurve_pngs_gray_objs, encoding_dim=imdim, input_dim=imdim):\n",
        "\n",
        "    # Training\n",
        "    profile_pngs_flat_objs = [x.reshape(input_dim,input_dim,1) for x in profile_pngs_gray_objs]\n",
        "    midcurve_pngs_flat_objs = [x.reshape(input_dim,input_dim,1) for x in midcurve_pngs_gray_objs]\n",
        "    \n",
        "    profile_pngs_objs = np.array(profile_pngs_flat_objs)\n",
        "    midcurve_pngs_objs= np.array(midcurve_pngs_flat_objs)\n",
        "    \n",
        "    '''\n",
        "    train_size = int(len(profile_pngs_objs)*0.7)\n",
        "    x_train = profile_pngs_objs[:train_size]\n",
        "    y_train = midcurve_pngs_objs[:train_size]\n",
        "    x_test = profile_pngs_objs[train_size:]\n",
        "    y_test = midcurve_pngs_objs[train_size:]\n",
        "    '''\n",
        "    x_train, x_test, y_train, y_test = train_test_split(profile_pngs_objs, midcurve_pngs_objs, \n",
        "                                                        test_size=0.2, random_state=23)\n",
        "    return x_train, x_test, y_train, y_test"
      ],
      "execution_count": 0,
      "outputs": []
    },
    {
      "cell_type": "code",
      "metadata": {
        "id": "CsHrNT43wPsG",
        "colab_type": "code",
        "colab": {
          "base_uri": "https://localhost:8080/",
          "height": 35
        },
        "outputId": "35e4c84c-ca2e-4e15-e51f-4542425ba6ab"
      },
      "source": [
        "x_train, x_test, y_train, y_test = get_train_test_split(profile_pngs_objs, midcurve_pngs_objs)\n",
        "\n",
        "print((len(x_train), len(y_train)), (len(x_test), len(y_test)))"
      ],
      "execution_count": 17,
      "outputs": [
        {
          "output_type": "stream",
          "text": [
            "(2777, 2777) (695, 695)\n"
          ],
          "name": "stdout"
        }
      ]
    },
    {
      "cell_type": "markdown",
      "metadata": {
        "id": "cMg0OhMXwPsJ",
        "colab_type": "text"
      },
      "source": [
        "### Auto-encoder"
      ]
    },
    {
      "cell_type": "code",
      "metadata": {
        "id": "T5GSTXZikY9R",
        "colab_type": "code",
        "colab": {}
      },
      "source": [
        "from keras.layers import Conv2DTranspose\n",
        "\n",
        "class Autoencoder():\n",
        "    def __init__(self):\n",
        "        self.img_rows = imdim\n",
        "        self.img_cols = imdim\n",
        "        self.channels = 1\n",
        "        self.img_shape = (self.img_rows, self.img_cols, self.channels)\n",
        "        \n",
        "        adam_optimizer = Adam(lr=0.0005)\n",
        "        optimizer = SGD(lr=0.0001, nesterov=False)\n",
        "        \n",
        "        self.autoencoder_model = self.build_model()\n",
        "        #self.autoencoder_model.compile(loss='mean_squared_error', optimizer=RMSprop())\n",
        "        #self.autoencoder_model.compile(loss='binary_crossentropy', optimizer=optimizer)\n",
        "        self.autoencoder_model.compile(loss='mse', metrics=['accuracy'], optimizer=adam_optimizer)\n",
        "        self.autoencoder_model.summary()\n",
        "    \n",
        "    def build_model(self):\n",
        "        input_layer = Input(shape=self.img_shape)\n",
        "                \n",
        "        # Encoder\n",
        "        h = Conv2DTranspose(32, (2, 2), activation='relu', padding='same')(input_layer)\n",
        "        #h = MaxPooling2D((2, 2), padding='same')(h)\n",
        "        #h = Conv2D(16, (2, 2), activation='relu', padding='same')(h)\n",
        "        #h = MaxPooling2D((2, 2), padding='same')(h)\n",
        "        \n",
        "        # Decoder\n",
        "        #h = Conv2DTranspose(8, (2, 2), activation='relu', padding='same')(h)\n",
        "        #h = UpSampling2D((2, 2))(h)\n",
        "        h = Conv2D(32, (2, 2), activation='relu', padding='same')(h)\n",
        "        #h = UpSampling2D((2, 2))(h)\n",
        "        output_layer = Conv2D(1, (2, 2), activation='relu', padding='same')(h)\n",
        "        \n",
        "        return Model(input_layer, output_layer)\n",
        "    \n",
        "    def train_model(self, x_train, y_train, x_val, y_val, epochs, batch_size=100):\n",
        "        early_stopping = EarlyStopping(monitor='val_loss',\n",
        "                                       min_delta=0,\n",
        "                                       patience=5,\n",
        "                                       verbose=1, \n",
        "                                       mode='auto')\n",
        "        history = self.autoencoder_model.fit(x_train, y_train,\n",
        "                                             batch_size=batch_size,\n",
        "                                             epochs=epochs,\n",
        "                                             validation_data=(x_val, y_val),\n",
        "                                             callbacks=[early_stopping])\n",
        "        plt.plot(history.history['loss'])\n",
        "        plt.plot(history.history['val_loss'])\n",
        "        plt.title('Model loss')\n",
        "        plt.ylabel('Loss')\n",
        "        plt.xlabel('Epoch')\n",
        "        plt.legend(['Train', 'Test'], loc='upper left')\n",
        "        plt.show()\n",
        "    \n",
        "    def eval_model(self, x_test):\n",
        "        preds = self.autoencoder_model.predict(x_test)\n",
        "        return preds"
      ],
      "execution_count": 0,
      "outputs": []
    },
    {
      "cell_type": "code",
      "metadata": {
        "id": "kSsrtRXcKV42",
        "colab_type": "code",
        "colab": {
          "base_uri": "https://localhost:8080/",
          "height": 1000
        },
        "outputId": "065a6a53-1470-415f-c994-1e790d0ad59f"
      },
      "source": [
        "ae = Autoencoder()\n",
        "ae.train_model(x_train, y_train, x_test, y_test, epochs=50, batch_size=300)\n"
      ],
      "execution_count": 35,
      "outputs": [
        {
          "output_type": "stream",
          "text": [
            "_________________________________________________________________\n",
            "Layer (type)                 Output Shape              Param #   \n",
            "=================================================================\n",
            "input_8 (InputLayer)         (None, 100, 100, 1)       0         \n",
            "_________________________________________________________________\n",
            "conv2d_transpose_19 (Conv2DT (None, 100, 100, 32)      160       \n",
            "_________________________________________________________________\n",
            "conv2d_12 (Conv2D)           (None, 100, 100, 32)      4128      \n",
            "_________________________________________________________________\n",
            "conv2d_13 (Conv2D)           (None, 100, 100, 1)       129       \n",
            "=================================================================\n",
            "Total params: 4,417\n",
            "Trainable params: 4,417\n",
            "Non-trainable params: 0\n",
            "_________________________________________________________________\n",
            "Train on 2777 samples, validate on 695 samples\n",
            "Epoch 1/50\n",
            "2777/2777 [==============================] - 5s 2ms/step - loss: 104.1813 - acc: 0.9811 - val_loss: 92.7656 - val_acc: 0.9737\n",
            "Epoch 2/50\n",
            "2777/2777 [==============================] - 4s 1ms/step - loss: 97.5797 - acc: 0.9720 - val_loss: 89.5918 - val_acc: 0.9727\n",
            "Epoch 3/50\n",
            "2777/2777 [==============================] - 4s 1ms/step - loss: 94.5441 - acc: 0.9724 - val_loss: 87.5740 - val_acc: 0.9737\n",
            "Epoch 4/50\n",
            "2777/2777 [==============================] - 4s 1ms/step - loss: 92.5726 - acc: 0.9733 - val_loss: 86.1946 - val_acc: 0.9738\n",
            "Epoch 5/50\n",
            "2777/2777 [==============================] - 4s 1ms/step - loss: 90.9906 - acc: 0.9727 - val_loss: 84.9724 - val_acc: 0.9732\n",
            "Epoch 6/50\n",
            "2777/2777 [==============================] - 4s 1ms/step - loss: 89.6278 - acc: 0.9725 - val_loss: 83.9630 - val_acc: 0.9736\n",
            "Epoch 7/50\n",
            "2777/2777 [==============================] - 4s 1ms/step - loss: 88.5048 - acc: 0.9728 - val_loss: 83.0679 - val_acc: 0.9735\n",
            "Epoch 8/50\n",
            "2777/2777 [==============================] - 4s 1ms/step - loss: 87.5537 - acc: 0.9728 - val_loss: 82.3427 - val_acc: 0.9741\n",
            "Epoch 9/50\n",
            "2777/2777 [==============================] - 4s 1ms/step - loss: 86.7677 - acc: 0.9733 - val_loss: 81.7227 - val_acc: 0.9740\n",
            "Epoch 10/50\n",
            "2777/2777 [==============================] - 4s 1ms/step - loss: 86.1095 - acc: 0.9735 - val_loss: 81.2020 - val_acc: 0.9746\n",
            "Epoch 11/50\n",
            "2777/2777 [==============================] - 4s 1ms/step - loss: 85.5413 - acc: 0.9737 - val_loss: 80.6990 - val_acc: 0.9752\n",
            "Epoch 12/50\n",
            "2777/2777 [==============================] - 4s 1ms/step - loss: 85.0021 - acc: 0.9744 - val_loss: 80.2365 - val_acc: 0.9749\n",
            "Epoch 13/50\n",
            "2777/2777 [==============================] - 4s 1ms/step - loss: 84.5213 - acc: 0.9745 - val_loss: 79.8203 - val_acc: 0.9755\n",
            "Epoch 14/50\n",
            "2777/2777 [==============================] - 4s 1ms/step - loss: 84.1047 - acc: 0.9749 - val_loss: 79.4769 - val_acc: 0.9755\n",
            "Epoch 15/50\n",
            "2777/2777 [==============================] - 4s 1ms/step - loss: 83.7510 - acc: 0.9751 - val_loss: 79.1577 - val_acc: 0.9759\n",
            "Epoch 16/50\n",
            "2777/2777 [==============================] - 4s 1ms/step - loss: 83.4106 - acc: 0.9754 - val_loss: 78.8748 - val_acc: 0.9775\n",
            "Epoch 17/50\n",
            "2777/2777 [==============================] - 4s 1ms/step - loss: 83.1146 - acc: 0.9758 - val_loss: 78.6170 - val_acc: 0.9770\n",
            "Epoch 18/50\n",
            "2777/2777 [==============================] - 4s 1ms/step - loss: 82.8593 - acc: 0.9769 - val_loss: 78.3783 - val_acc: 0.9779\n",
            "Epoch 19/50\n",
            "2777/2777 [==============================] - 4s 1ms/step - loss: 82.6140 - acc: 0.9770 - val_loss: 78.2055 - val_acc: 0.9776\n",
            "Epoch 20/50\n",
            "2777/2777 [==============================] - 4s 1ms/step - loss: 82.3742 - acc: 0.9775 - val_loss: 77.9793 - val_acc: 0.9779\n",
            "Epoch 21/50\n",
            "2777/2777 [==============================] - 4s 1ms/step - loss: 82.1459 - acc: 0.9778 - val_loss: 77.7714 - val_acc: 0.9786\n",
            "Epoch 22/50\n",
            "2777/2777 [==============================] - 4s 1ms/step - loss: 81.9275 - acc: 0.9778 - val_loss: 77.5643 - val_acc: 0.9786\n",
            "Epoch 23/50\n",
            "2777/2777 [==============================] - 4s 1ms/step - loss: 81.7250 - acc: 0.9780 - val_loss: 77.3665 - val_acc: 0.9786\n",
            "Epoch 24/50\n",
            "2777/2777 [==============================] - 4s 1ms/step - loss: 81.5184 - acc: 0.9781 - val_loss: 77.1531 - val_acc: 0.9787\n",
            "Epoch 25/50\n",
            "2777/2777 [==============================] - 4s 1ms/step - loss: 81.3723 - acc: 0.9781 - val_loss: 76.9813 - val_acc: 0.9788\n",
            "Epoch 26/50\n",
            "2777/2777 [==============================] - 4s 1ms/step - loss: 81.1795 - acc: 0.9784 - val_loss: 76.8445 - val_acc: 0.9788\n",
            "Epoch 27/50\n",
            "2777/2777 [==============================] - 4s 1ms/step - loss: 80.9985 - acc: 0.9783 - val_loss: 76.6627 - val_acc: 0.9790\n",
            "Epoch 28/50\n",
            "2777/2777 [==============================] - 4s 1ms/step - loss: 80.8365 - acc: 0.9784 - val_loss: 76.5197 - val_acc: 0.9791\n",
            "Epoch 29/50\n",
            "2777/2777 [==============================] - 4s 1ms/step - loss: 80.6974 - acc: 0.9785 - val_loss: 76.4117 - val_acc: 0.9793\n",
            "Epoch 30/50\n",
            "2777/2777 [==============================] - 4s 1ms/step - loss: 80.5552 - acc: 0.9787 - val_loss: 76.2329 - val_acc: 0.9794\n",
            "Epoch 31/50\n",
            "2777/2777 [==============================] - 4s 1ms/step - loss: 80.4055 - acc: 0.9786 - val_loss: 76.1115 - val_acc: 0.9794\n",
            "Epoch 32/50\n",
            "2777/2777 [==============================] - 4s 1ms/step - loss: 80.2868 - acc: 0.9787 - val_loss: 75.9787 - val_acc: 0.9792\n",
            "Epoch 33/50\n",
            "2777/2777 [==============================] - 4s 1ms/step - loss: 80.1423 - acc: 0.9788 - val_loss: 75.9668 - val_acc: 0.9789\n",
            "Epoch 34/50\n",
            "2777/2777 [==============================] - 4s 1ms/step - loss: 80.0648 - acc: 0.9790 - val_loss: 75.9427 - val_acc: 0.9787\n",
            "Epoch 35/50\n",
            "2777/2777 [==============================] - 4s 1ms/step - loss: 80.0261 - acc: 0.9790 - val_loss: 75.6794 - val_acc: 0.9791\n",
            "Epoch 36/50\n",
            "2777/2777 [==============================] - 4s 1ms/step - loss: 79.8281 - acc: 0.9790 - val_loss: 75.5646 - val_acc: 0.9793\n",
            "Epoch 37/50\n",
            "2777/2777 [==============================] - 4s 1ms/step - loss: 79.7251 - acc: 0.9790 - val_loss: 75.4615 - val_acc: 0.9801\n",
            "Epoch 38/50\n",
            "2777/2777 [==============================] - 4s 1ms/step - loss: 79.6061 - acc: 0.9791 - val_loss: 75.3739 - val_acc: 0.9792\n",
            "Epoch 39/50\n",
            "2777/2777 [==============================] - 4s 1ms/step - loss: 79.5109 - acc: 0.9790 - val_loss: 75.2179 - val_acc: 0.9795\n",
            "Epoch 40/50\n",
            "2777/2777 [==============================] - 4s 1ms/step - loss: 79.4245 - acc: 0.9792 - val_loss: 75.1595 - val_acc: 0.9793\n",
            "Epoch 41/50\n",
            "2777/2777 [==============================] - 4s 1ms/step - loss: 79.3275 - acc: 0.9789 - val_loss: 75.1152 - val_acc: 0.9804\n",
            "Epoch 42/50\n",
            "2777/2777 [==============================] - 4s 1ms/step - loss: 79.2654 - acc: 0.9792 - val_loss: 74.9605 - val_acc: 0.9799\n",
            "Epoch 43/50\n",
            "2777/2777 [==============================] - 4s 1ms/step - loss: 79.1587 - acc: 0.9791 - val_loss: 74.9028 - val_acc: 0.9797\n",
            "Epoch 44/50\n",
            "2777/2777 [==============================] - 4s 1ms/step - loss: 79.0759 - acc: 0.9791 - val_loss: 74.8378 - val_acc: 0.9801\n",
            "Epoch 45/50\n",
            "2777/2777 [==============================] - 4s 1ms/step - loss: 79.0050 - acc: 0.9793 - val_loss: 74.7991 - val_acc: 0.9794\n",
            "Epoch 46/50\n",
            "2777/2777 [==============================] - 4s 1ms/step - loss: 78.9681 - acc: 0.9792 - val_loss: 74.7219 - val_acc: 0.9794\n",
            "Epoch 47/50\n",
            "2777/2777 [==============================] - 4s 1ms/step - loss: 78.8576 - acc: 0.9794 - val_loss: 74.6150 - val_acc: 0.9796\n",
            "Epoch 48/50\n",
            "2777/2777 [==============================] - 4s 1ms/step - loss: 78.7791 - acc: 0.9794 - val_loss: 74.5782 - val_acc: 0.9796\n",
            "Epoch 49/50\n",
            "2777/2777 [==============================] - 4s 1ms/step - loss: 78.7177 - acc: 0.9794 - val_loss: 74.4587 - val_acc: 0.9803\n",
            "Epoch 50/50\n",
            "2777/2777 [==============================] - 4s 1ms/step - loss: 78.6364 - acc: 0.9796 - val_loss: 74.3579 - val_acc: 0.9804\n"
          ],
          "name": "stdout"
        },
        {
          "output_type": "display_data",
          "data": {
            "image/png": "[encoded data removed]",
            "text/plain": [
              "<Figure size 432x288 with 1 Axes>"
            ]
          },
          "metadata": {
            "tags": []
          }
        }
      ]
    },
    {
      "cell_type": "code",
      "metadata": {
        "id": "3B9wjkHmKdrs",
        "colab_type": "code",
        "colab": {
          "base_uri": "https://localhost:8080/",
          "height": 334
        },
        "outputId": "46fbfe55-dd8e-4a9d-ab6a-9473e97ce021"
      },
      "source": [
        "# evaluation\n",
        "\n",
        "n = 10  # for 10 random indices\n",
        "index = np.random.choice(x_test.shape[0], n, replace=False)\n",
        "\n",
        "x_eval = x_test[index]\n",
        "print(\"Number of samples to evaluate: \", len(x_eval))\n",
        "print(\"Samples to evaluate: \", index)\n",
        "\n",
        "#encoded_imgs = ae.eval_model(x_test)\n",
        "encoded_imgs = ae.eval_model(x_eval)\n",
        "decoded_imgs = ae.eval_model(encoded_imgs)\n",
        "\n",
        "plot_results(x_eval, decoded_imgs)"
      ],
      "execution_count": 36,
      "outputs": [
        {
          "output_type": "stream",
          "text": [
            "Number of samples to evaluate:  10\n",
            "Samples to evaluate:  [480 107 519 328 624 694 142 420 303 102]\n"
          ],
          "name": "stdout"
        },
        {
          "output_type": "display_data",
          "data": {
            "image/png": "[encoded data removed]",
            "text/plain": [
              "<Figure size 1800x360 with 20 Axes>"
            ]
          },
          "metadata": {
            "tags": []
          }
        }
      ]
    },
    {
      "cell_type": "code",
      "metadata": {
        "id": "yMR2KgXaKZqp",
        "colab_type": "code",
        "colab": {}
      },
      "source": [
        ""
      ],
      "execution_count": 0,
      "outputs": []
    }
  ]
}