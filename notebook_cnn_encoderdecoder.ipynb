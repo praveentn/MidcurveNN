{
 "cells": [
  {
   "cell_type": "code",
   "execution_count": 1,
   "metadata": {
    "cellView": "form",
    "colab": {},
    "colab_type": "code",
    "id": "qmkj-80IHxnd"
   },
   "outputs": [],
   "source": [
    "#@title Licensed under the Apache License, Version 2.0 (the \"License\");\n",
    "# you may not use this file except in compliance with the License.\n",
    "# You may obtain a copy of the License at\n",
    "#\n",
    "# https://www.apache.org/licenses/LICENSE-2.0\n",
    "#\n",
    "# Unless required by applicable law or agreed to in writing, software\n",
    "# distributed under the License is distributed on an \"AS IS\" BASIS,\n",
    "# WITHOUT WARRANTIES OR CONDITIONS OF ANY KIND, either express or implied.\n",
    "# See the License for the specific language governing permissions and\n",
    "# limitations under the License."
   ]
  },
  {
   "cell_type": "markdown",
   "metadata": {
    "colab_type": "text",
    "id": "_xnMOsbqHz61"
   },
   "source": [
    "# CNN (Convolutional) EncoderDecoder"
   ]
  },
  {
   "cell_type": "markdown",
   "metadata": {},
   "source": [
    "## Installations"
   ]
  },
  {
   "cell_type": "code",
   "execution_count": 2,
   "metadata": {},
   "outputs": [],
   "source": [
    "# requirements = \"\"\"\n",
    "# keras\n",
    "# git+https://www.github.com/keras-team/keras-contrib.git\n",
    "# matplotlib\n",
    "# numpy\n",
    "# scipy\n",
    "# pillow\n",
    "# #urllib\n",
    "# #skimage\n",
    "# scikit-image\n",
    "# #gzip\n",
    "# #pickle\n",
    "# \"\"\"\n",
    "# %store requirements > requirements.txt"
   ]
  },
  {
   "cell_type": "code",
   "execution_count": 3,
   "metadata": {},
   "outputs": [],
   "source": [
    "# !pip install -r requirements.txt"
   ]
  },
  {
   "cell_type": "markdown",
   "metadata": {
    "colab_type": "text",
    "id": "e1_Y75QXJS6h"
   },
   "source": [
    "## Import TensorFlow and other libraries"
   ]
  },
  {
   "cell_type": "code",
   "execution_count": 4,
   "metadata": {
    "colab": {},
    "colab_type": "code",
    "id": "YfIk2es3hJEd"
   },
   "outputs": [
    {
     "name": "stderr",
     "output_type": "stream",
     "text": [
      "Using TensorFlow backend.\n"
     ]
    }
   ],
   "source": [
    "from __future__ import absolute_import, division, print_function, unicode_literals\n",
    "\n",
    "# !pip install tensorflow-gpu==2.0.0-alpha0\n",
    "import tensorflow as tf\n",
    "\n",
    "import os\n",
    "import time\n",
    "import matplotlib.pyplot as plt\n",
    "from IPython.display import clear_output\n",
    "import os\n",
    "from keras.preprocessing.image import img_to_array, load_img\n",
    "from random import shuffle\n",
    "import PIL\n",
    "import json\n",
    "import numpy as np\n",
    "import sys\n",
    "np.set_printoptions(threshold=sys.maxsize)\n",
    "import matplotlib.pyplot as plt\n",
    "import matplotlib\n",
    "# matplotlib.use('TKAgg')\n",
    "%matplotlib inline"
   ]
  },
  {
   "cell_type": "markdown",
   "metadata": {
    "colab_type": "text",
    "id": "iYn4MdZnKCey"
   },
   "source": [
    "## Load the dataset\n",
    "\n",
    "Steps to generate URL used below:\n",
    "- Say, your data files are in the directory called 'input'\n",
    "- Manually create a zip file, 'input.zip'\n",
    "- Sync it to gDrive\n",
    "- In gDrive, Share it with Public model, copy its share-able link\n",
    "- Use https://sites.google.com/site/gdocs2direct/ to generate corresponding Direct link\n",
    "- Paste it below"
   ]
  },
  {
   "cell_type": "code",
   "execution_count": 5,
   "metadata": {},
   "outputs": [
    {
     "data": {
      "text/plain": [
       "'C:\\\\Continuum\\\\anaconda3\\\\envs\\\\odsc_ws\\\\notebooks\\\\MidcurveNN'"
      ]
     },
     "execution_count": 5,
     "metadata": {},
     "output_type": "execute_result"
    }
   ],
   "source": [
    "# working directory\n",
    "wdir = os.getcwd()\n",
    "wdir"
   ]
  },
  {
   "cell_type": "code",
   "execution_count": 6,
   "metadata": {
    "colab": {
     "height": 68
    },
    "colab_type": "code",
    "id": "Kn-k8kTXuAlv",
    "outputId": "cd1649cb-4f17-4857-a137-e7b1a5e1d002"
   },
   "outputs": [],
   "source": [
    "# _URL = 'https://drive.google.com/uc?export=download&id=16rqDFLO__WySSQGlAht0FEj2uJZg4M9M'\n",
    "\n",
    "# path_to_zip = tf.keras.utils.get_file('input.zip',\n",
    "#                                       origin=_URL,\n",
    "#                                       extract=True)\n",
    "\n",
    "# input_data_folder = os.path.join(os.path.dirname(path_to_zip), 'input')\n",
    "input_data_folder = wdir + \"\\data\\input\""
   ]
  },
  {
   "cell_type": "code",
   "execution_count": 7,
   "metadata": {},
   "outputs": [],
   "source": [
    "def read_input_image_pairs(datafolder=input_data_folder):\n",
    "    profile_pngs = []\n",
    "    midcurve_pngs = []\n",
    "    for file in os.listdir(datafolder):\n",
    "        fullpath = os.path.join(datafolder, file)\n",
    "        if os.path.isdir(fullpath):\n",
    "            continue\n",
    "        if file.endswith(\".png\"):\n",
    "            if file.find(\"Profile\") != -1:\n",
    "                profile_pngs.append(fullpath)\n",
    "            if file.find(\"Midcurve\") != -1:\n",
    "                midcurve_pngs.append(fullpath)\n",
    "    profile_pngs = sorted(profile_pngs)\n",
    "    midcurve_pngs = sorted(midcurve_pngs)\n",
    "    return profile_pngs,midcurve_pngs"
   ]
  },
  {
   "cell_type": "code",
   "execution_count": 8,
   "metadata": {
    "colab": {},
    "colab_type": "code",
    "id": "2CbTEt448b4R"
   },
   "outputs": [],
   "source": [
    "def get_training_data(datafolder = input_data_folder):\n",
    "    profile_pngs,midcurve_pngs = read_input_image_pairs(datafolder)\n",
    "    \n",
    "    profile_pngs_objs = [img_to_array(load_img(f, color_mode='rgba', target_size=(100, 100))) for f in profile_pngs ]\n",
    "    midcurve_pngs_objs = [img_to_array(load_img(f, color_mode='rgba', target_size=(100, 100))) for f in midcurve_pngs]\n",
    "\n",
    "#     profile_pngs_objs = np.array([x.reshape((1,) + x.shape) for x in profile_pngs_objs])\n",
    "#     midcurve_pngs_objs = np.array([x.reshape((1,) + x.shape) for x in midcurve_pngs_objs])\n",
    "\n",
    "    profile_pngs_gray_objs = [x[:,:,3] for x in profile_pngs_objs]\n",
    "    midcurve_pngs_gray_objs =[x[:,:,3] for x in midcurve_pngs_objs]\n",
    "    \n",
    "#     profile_pngs_gray_objs = [np.where(x>128, 0, 1) for x in profile_pngs_gray_objs]\n",
    "#     midcurve_pngs_gray_objs =[np.where(x>128, 0, 1) for x in midcurve_pngs_gray_objs]\n",
    "        \n",
    "    # shufle them\n",
    "    zipped_profiles_midcurves = [(p,m) for p,m in zip(profile_pngs_gray_objs,midcurve_pngs_gray_objs)]\n",
    "    shuffle(zipped_profiles_midcurves)\n",
    "    profile_pngs_gray_objs, midcurve_pngs_gray_objs = zip(*zipped_profiles_midcurves)\n",
    "    \n",
    "    return profile_pngs_gray_objs, midcurve_pngs_gray_objs"
   ]
  },
  {
   "cell_type": "code",
   "execution_count": 9,
   "metadata": {
    "colab": {
     "height": 558
    },
    "colab_type": "code",
    "id": "4OLHMpsQ5aOv",
    "outputId": "5bfde74b-a0dd-42fa-8e9c-4f6eb42215ed"
   },
   "outputs": [],
   "source": [
    "profile_pngs_objs, midcurve_pngs_objs = get_training_data()"
   ]
  },
  {
   "cell_type": "code",
   "execution_count": 10,
   "metadata": {},
   "outputs": [],
   "source": [
    "def plot_results(original_imgs,computed_imgs,n=10):\n",
    "    # n = 10  # how many digits we will display\n",
    "    plt.figure(figsize=(20, 4))\n",
    "    for i in range(n):\n",
    "        # display original\n",
    "        ax = plt.subplot(2, n, i + 1)\n",
    "        plt.imshow(original_imgs[i].reshape(100, 100),cmap='gray_r')\n",
    "#         plt.gray()\n",
    "        ax.get_xaxis().set_visible(False)\n",
    "        ax.get_yaxis().set_visible(False)\n",
    "    \n",
    "        # display reconstruction\n",
    "        ax = plt.subplot(2, n, i + 1 + n)\n",
    "        plt.imshow(computed_imgs[i].reshape(100, 100),cmap='gray_r')\n",
    "#         plt.gray()\n",
    "        ax.get_xaxis().set_visible(False)\n",
    "        ax.get_yaxis().set_visible(False)\n",
    "    plt.show()"
   ]
  },
  {
   "cell_type": "code",
   "execution_count": 11,
   "metadata": {},
   "outputs": [
    {
     "data": {
      "image/png": "[encoded data removed]",
      "text/plain": [
       "<Figure size 1440x288 with 20 Axes>"
      ]
     },
     "metadata": {
      "needs_background": "light"
     },
     "output_type": "display_data"
    }
   ],
   "source": [
    "plot_results(profile_pngs_objs,midcurve_pngs_objs)"
   ]
  },
  {
   "cell_type": "code",
   "execution_count": 44,
   "metadata": {},
   "outputs": [],
   "source": [
    "from keras.layers import Input, Dense\n",
    "from keras.models import Model\n",
    "from keras import regularizers\n",
    "from keras.layers import Conv2D, MaxPooling2D, UpSampling2D\n",
    "from sklearn.model_selection import train_test_split\n",
    "from keras.optimizers import Adam\n",
    "from keras import optimizers\n",
    "\n",
    "import numpy as np\n",
    "import sys\n",
    "np.set_printoptions(threshold=sys.maxsize)\n",
    "\n",
    "def build_cnn_autoencoder_model(profile_pngs_gray_objs, midcurve_pngs_gray_objs,encoding_dim = 100, input_dim = 100):\n",
    "    input_img = Input(shape=(input_dim, input_dim, 1))  # adapt this if using `channels_first` image data format\n",
    "    \n",
    "    x = Conv2D(16, (3, 3), activation='relu', padding='same')(input_img)\n",
    "    x = MaxPooling2D((2, 2), padding='same')(x)\n",
    "    x = Conv2D(8, (3, 3), activation='relu', padding='same')(x)\n",
    "    x = MaxPooling2D((2, 2), padding='same')(x)\n",
    "    x = Conv2D(8, (3, 3), activation='relu', padding='same')(x)\n",
    "    encoded = MaxPooling2D((2, 2), padding='same')(x)\n",
    "\n",
    "    # at this point the representation is (4, 4, 8) i.e. 128-dimensional\n",
    "    \n",
    "    x = Conv2D(8, (3, 3), activation='relu', padding='same')(encoded)\n",
    "    x = UpSampling2D((2, 2))(x)\n",
    "    x = Conv2D(8, (3, 3), activation='relu', padding='same')(x)\n",
    "    x = UpSampling2D((2, 2))(x)\n",
    "    x = Conv2D(16, (3, 3), activation='relu')(x)\n",
    "    x = UpSampling2D((2, 2))(x)\n",
    "    decoded = Conv2D(1, (3, 3), activation='sigmoid', padding='same')(x)\n",
    "    \n",
    "    \n",
    "    # Model 1: Full AutoEncoder, includes both encoder single dense layer and decoder single dense layer. \n",
    "    # This model maps an input to its reconstruction\n",
    "    autoencoder = Model(input_img, decoded)\n",
    "    \n",
    "    # Compilation of Autoencoder (only)\n",
    "    autoencoder.compile(optimizer='adadelta', loss='binary_crossentropy')\n",
    "    # autoencoder.compile(optimizer=Adam(lr=0.01), loss='mse')\n",
    "    #sgd = optimizers.SGD(lr=0.01, decay=1e-6, momentum=0.9, nesterov=True)\n",
    "    #autoencoder.compile(loss='binary_crossentropy', optimizer=sgd)\n",
    "    \n",
    "    # Training\n",
    "    profile_pngs_flat_objs = [x.reshape(input_dim,input_dim,1) for x in profile_pngs_gray_objs]\n",
    "    midcurve_pngs_flat_objs = [x.reshape(input_dim,input_dim,1) for x in midcurve_pngs_gray_objs]\n",
    "    \n",
    "    profile_pngs_objs = np.array(profile_pngs_flat_objs)\n",
    "    midcurve_pngs_objs= np.array(midcurve_pngs_flat_objs)\n",
    "    \n",
    "    '''\n",
    "    train_size = int(len(profile_pngs_objs)*0.7)\n",
    "    x_train = profile_pngs_objs[:train_size]\n",
    "    y_train = midcurve_pngs_objs[:train_size]\n",
    "    x_test = profile_pngs_objs[train_size:]\n",
    "    y_test = midcurve_pngs_objs[train_size:]\n",
    "    '''\n",
    "    x_train, x_test, y_train, y_test = train_test_split(profile_pngs_objs, midcurve_pngs_objs, \n",
    "                                                        test_size=0.3, random_state=42)\n",
    "    \n",
    "    autoencoder.fit(x_train, y_train,\n",
    "                epochs=20,\n",
    "                batch_size=10,\n",
    "                shuffle=True,\n",
    "                validation_data=(x_test, y_test))\n",
    "        \n",
    "    encoded_imgs = autoencoder.predict(x_test)\n",
    "    decoded_imgs = autoencoder.predict(encoded_imgs)    \n",
    "        \n",
    "    return x_test,decoded_imgs"
   ]
  },
  {
   "cell_type": "code",
   "execution_count": 45,
   "metadata": {
    "scrolled": true
   },
   "outputs": [
    {
     "name": "stdout",
     "output_type": "stream",
     "text": [
      "Train on 313 samples, validate on 135 samples\n",
      "Epoch 1/20\n",
      "313/313 [==============================] - 5s 15ms/step - loss: -14.6254 - val_loss: -17.5612\n",
      "Epoch 2/20\n",
      "313/313 [==============================] - 3s 10ms/step - loss: -17.2214 - val_loss: -17.7731\n",
      "Epoch 3/20\n",
      "313/313 [==============================] - 3s 10ms/step - loss: -17.3783 - val_loss: -17.9527\n",
      "Epoch 4/20\n",
      "313/313 [==============================] - 3s 10ms/step - loss: -17.4557 - val_loss: -18.0299\n",
      "Epoch 5/20\n",
      "313/313 [==============================] - 3s 10ms/step - loss: -17.5325 - val_loss: -17.9317\n",
      "Epoch 6/20\n",
      "313/313 [==============================] - 3s 10ms/step - loss: -17.5906 - val_loss: -18.1021\n",
      "Epoch 7/20\n",
      "313/313 [==============================] - 3s 10ms/step - loss: -17.6147 - val_loss: -17.7643\n",
      "Epoch 8/20\n",
      "313/313 [==============================] - 3s 10ms/step - loss: -17.6040 - val_loss: -18.1663\n",
      "Epoch 9/20\n",
      "313/313 [==============================] - 3s 10ms/step - loss: -17.6724 - val_loss: -18.2065\n",
      "Epoch 10/20\n",
      "313/313 [==============================] - 3s 10ms/step - loss: -17.6885 - val_loss: -18.1757\n",
      "Epoch 11/20\n",
      "313/313 [==============================] - 3s 10ms/step - loss: -17.7017 - val_loss: -18.1832\n",
      "Epoch 12/20\n",
      "313/313 [==============================] - 3s 10ms/step - loss: -17.7214 - val_loss: -18.2059\n",
      "Epoch 13/20\n",
      "313/313 [==============================] - 3s 10ms/step - loss: -17.7469 - val_loss: -18.0401\n",
      "Epoch 14/20\n",
      "313/313 [==============================] - 3s 10ms/step - loss: -17.7455 - val_loss: -18.2643\n",
      "Epoch 15/20\n",
      "313/313 [==============================] - 3s 10ms/step - loss: -17.7384 - val_loss: -18.1452\n",
      "Epoch 16/20\n",
      "313/313 [==============================] - 3s 10ms/step - loss: -17.7601 - val_loss: -18.2572\n",
      "Epoch 17/20\n",
      "313/313 [==============================] - 3s 10ms/step - loss: -17.7769 - val_loss: -18.2625\n",
      "Epoch 18/20\n",
      "313/313 [==============================] - 3s 10ms/step - loss: -17.7904 - val_loss: -18.2952\n",
      "Epoch 19/20\n",
      "313/313 [==============================] - 3s 10ms/step - loss: -17.8016 - val_loss: -18.3256\n",
      "Epoch 20/20\n",
      "313/313 [==============================] - 3s 10ms/step - loss: -17.7416 - val_loss: -18.3078\n"
     ]
    },
    {
     "data": {
      "image/png": "[encoded data removed]",
      "text/plain": [
       "<Figure size 1440x288 with 20 Axes>"
      ]
     },
     "metadata": {
      "needs_background": "light"
     },
     "output_type": "display_data"
    }
   ],
   "source": [
    "original_imgs,decoded_imgs = build_cnn_autoencoder_model(profile_pngs_objs, midcurve_pngs_objs)\n",
    "plot_results(original_imgs,decoded_imgs)"
   ]
  },
  {
   "cell_type": "code",
   "execution_count": 14,
   "metadata": {},
   "outputs": [
    {
     "data": {
      "image/png": "[encoded data removed]",
      "text/plain": [
       "<Figure size 1440x288 with 10 Axes>"
      ]
     },
     "metadata": {
      "needs_background": "light"
     },
     "output_type": "display_data"
    }
   ],
   "source": [
    "profile_pngs_objs, midcurve_pngs_objs = get_training_data()\n",
    "plot_results(profile_pngs_objs, midcurve_pngs_objs,5)"
   ]
  },
  {
   "cell_type": "code",
   "execution_count": null,
   "metadata": {},
   "outputs": [],
   "source": []
  }
 ],
 "metadata": {
  "accelerator": "GPU",
  "colab": {
   "collapsed_sections": [],
   "name": "pix2pix.ipynb",
   "provenance": [],
   "toc_visible": true,
   "version": "0.3.2"
  },
  "kernelspec": {
   "display_name": "Python 3",
   "language": "python",
   "name": "python3"
  },
  "language_info": {
   "codemirror_mode": {
    "name": "ipython",
    "version": 3
   },
   "file_extension": ".py",
   "mimetype": "text/x-python",
   "name": "python",
   "nbconvert_exporter": "python",
   "pygments_lexer": "ipython3",
   "version": "3.7.4"
  }
 },
 "nbformat": 4,
 "nbformat_minor": 1
}
