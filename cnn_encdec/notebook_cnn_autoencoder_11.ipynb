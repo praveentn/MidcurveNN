{
  "nbformat": 4,
  "nbformat_minor": 0,
  "metadata": {
    "kernelspec": {
      "name": "python3",
      "display_name": "Python 3"
    },
    "language_info": {
      "codemirror_mode": {
        "name": "ipython",
        "version": 3
      },
      "file_extension": ".py",
      "mimetype": "text/x-python",
      "name": "python",
      "nbconvert_exporter": "python",
      "pygments_lexer": "ipython3",
      "version": "3.7.4"
    },
    "colab": {
      "name": "notebook_cnn_autoencoder_11.ipynb",
      "version": "0.3.2",
      "provenance": [],
      "collapsed_sections": [],
      "toc_visible": true,
      "include_colab_link": true
    },
    "accelerator": "GPU"
  },
  "cells": [
    {
      "cell_type": "markdown",
      "metadata": {
        "id": "view-in-github",
        "colab_type": "text"
      },
      "source": [
        "<a href=\"https://colab.research.google.com/github/praveentn/MidcurveNN/blob/master/cnn_encdec/notebook_cnn_autoencoder_11.ipynb\" target=\"_parent\"><img src=\"https://colab.research.google.com/assets/colab-badge.svg\" alt=\"Open In Colab\"/></a>"
      ]
    },
    {
      "cell_type": "markdown",
      "metadata": {
        "id": "IQVJL5mHwPrl",
        "colab_type": "text"
      },
      "source": [
        "# CNN ENC-DEC"
      ]
    },
    {
      "cell_type": "code",
      "metadata": {
        "id": "AxYRQhxBxAbv",
        "colab_type": "code",
        "outputId": "94334a41-cd5a-4269-90c4-42dde150183c",
        "colab": {
          "base_uri": "https://localhost:8080/",
          "height": 72
        }
      },
      "source": [
        "# mount google drive & set working directory\n",
        "# requires auth (click on url & copy token into text box when prompted)\n",
        "from google.colab import drive\n",
        "drive.mount(\"/content/gdrive\")\n",
        "\n",
        "import os\n",
        "print(os.getcwd())\n",
        "\n",
        "os.chdir('/content/gdrive/My Drive/Colab Notebooks/MidcurveNN')\n",
        "!pwd"
      ],
      "execution_count": 5,
      "outputs": [
        {
          "output_type": "stream",
          "text": [
            "Drive already mounted at /content/gdrive; to attempt to forcibly remount, call drive.mount(\"/content/gdrive\", force_remount=True).\n",
            "/content/gdrive/My Drive/Colab Notebooks/MidcurveNN\n",
            "/content/gdrive/My Drive/Colab Notebooks/MidcurveNN\n"
          ],
          "name": "stdout"
        }
      ]
    },
    {
      "cell_type": "code",
      "metadata": {
        "id": "rDHgEuJBwPrm",
        "colab_type": "code",
        "colab": {}
      },
      "source": [
        "from __future__ import absolute_import, division, print_function, unicode_literals\n",
        "\n",
        "# !pip install tensorflow-gpu==2.0.0-alpha0\n",
        "import tensorflow as tf\n",
        "\n",
        "import os\n",
        "import sys\n",
        "import PIL\n",
        "import json\n",
        "import time\n",
        "\n",
        "from keras.layers import Input, Dense, Dropout\n",
        "from keras import regularizers, optimizers\n",
        "from keras.optimizers import Adam, SGD, RMSprop\n",
        "from keras.callbacks import EarlyStopping\n",
        "from keras.models import Model, Sequential\n",
        "from keras.layers import Input, Dense, Conv2D, UpSampling2D, Reshape, Flatten\n",
        "from keras.layers import GlobalMaxPooling2D, AveragePooling2D, MaxPooling2D\n",
        "from keras.layers.normalization import BatchNormalization\n",
        "from keras.preprocessing.image import img_to_array, load_img\n",
        "from sklearn.model_selection import train_test_split\n",
        "from random import shuffle\n",
        "\n",
        "import numpy as np\n",
        "np.set_printoptions(threshold=sys.maxsize)\n",
        "\n",
        "import matplotlib.pyplot as plt\n",
        "from IPython.display import clear_output\n",
        "\n",
        "import matplotlib\n",
        "# matplotlib.use('TKAgg')\n",
        "%matplotlib inline"
      ],
      "execution_count": 0,
      "outputs": []
    },
    {
      "cell_type": "code",
      "metadata": {
        "id": "evVd6EPUwPrs",
        "colab_type": "code",
        "outputId": "1b3319f6-7f2b-4539-c749-02e66e93811c",
        "colab": {
          "base_uri": "https://localhost:8080/",
          "height": 35
        }
      },
      "source": [
        "# working directory\n",
        "wdir = os.getcwd()\n",
        "wdir"
      ],
      "execution_count": 7,
      "outputs": [
        {
          "output_type": "execute_result",
          "data": {
            "text/plain": [
              "'/content/gdrive/My Drive/Colab Notebooks/MidcurveNN'"
            ]
          },
          "metadata": {
            "tags": []
          },
          "execution_count": 7
        }
      ]
    },
    {
      "cell_type": "code",
      "metadata": {
        "id": "UxFdYYywwPrx",
        "colab_type": "code",
        "outputId": "41cad983-682a-4f5a-b66c-7b9ee6ab09c4",
        "colab": {
          "base_uri": "https://localhost:8080/",
          "height": 35
        }
      },
      "source": [
        "# _URL = 'https://drive.google.com/uc?export=download&id=16rqDFLO__WySSQGlAht0FEj2uJZg4M9M'\n",
        "\n",
        "# path_to_zip = tf.keras.utils.get_file('input.zip',\n",
        "#                                       origin=_URL,\n",
        "#                                       extract=True)\n",
        "\n",
        "# input_data_folder = os.path.join(os.path.dirname(path_to_zip), 'input')\n",
        "input_data_folder = wdir + \"/data/input\"\n",
        "input_data_folder = wdir + \"/data/images\"\n",
        "print(\"input data dir: \", input_data_folder)"
      ],
      "execution_count": 8,
      "outputs": [
        {
          "output_type": "stream",
          "text": [
            "input data dir:  /content/gdrive/My Drive/Colab Notebooks/MidcurveNN/data/images\n"
          ],
          "name": "stdout"
        }
      ]
    },
    {
      "cell_type": "code",
      "metadata": {
        "id": "geTVDZfzPY-u",
        "colab_type": "code",
        "outputId": "7c7349f4-a426-4506-a7dd-c3df81451017",
        "colab": {
          "base_uri": "https://localhost:8080/",
          "height": 54
        }
      },
      "source": [
        "import glob\n",
        "\n",
        "image_paths = glob.glob(input_data_folder + '/**/*.png', recursive=True)\n",
        "images = [os.path.basename(img_path) for img_path in image_paths]\n",
        "\n",
        "print(len(images))\n",
        "\n",
        "#images = os.listdir(input_data_folder)\n",
        "images[99]"
      ],
      "execution_count": 9,
      "outputs": [
        {
          "output_type": "stream",
          "text": [
            "5376\n"
          ],
          "name": "stdout"
        },
        {
          "output_type": "execute_result",
          "data": {
            "text/plain": [
              "'CapI_Midcurve_mirrored_0_translated_10_-20.png'"
            ]
          },
          "metadata": {
            "tags": []
          },
          "execution_count": 9
        }
      ]
    },
    {
      "cell_type": "code",
      "metadata": {
        "id": "oNZW79Q1URmJ",
        "colab_type": "code",
        "colab": {}
      },
      "source": [
        "# image dimension\n",
        "imdim = 100"
      ],
      "execution_count": 0,
      "outputs": []
    },
    {
      "cell_type": "code",
      "metadata": {
        "id": "RjdmJfpRwPr0",
        "colab_type": "code",
        "colab": {}
      },
      "source": [
        "def read_input_image_pairs(datafolder=input_data_folder):\n",
        "    profile_pngs = []\n",
        "    midcurve_pngs = []\n",
        "    for file in os.listdir(datafolder):\n",
        "        fullpath = os.path.join(datafolder, file)\n",
        "        if os.path.isdir(fullpath):\n",
        "            continue\n",
        "        if file.endswith(\".png\"):\n",
        "            if file.find(\"Profile\") != -1:\n",
        "                profile_pngs.append(fullpath)\n",
        "            if file.find(\"Midcurve\") != -1:\n",
        "                midcurve_pngs.append(fullpath)\n",
        "    profile_pngs = sorted(profile_pngs)\n",
        "    midcurve_pngs = sorted(midcurve_pngs)\n",
        "    return profile_pngs,midcurve_pngs"
      ],
      "execution_count": 0,
      "outputs": []
    },
    {
      "cell_type": "code",
      "metadata": {
        "id": "Rim24hWkwPr3",
        "colab_type": "code",
        "colab": {}
      },
      "source": [
        "def get_training_data(datafolder=input_data_folder):\n",
        "    profile_pngs,midcurve_pngs = read_input_image_pairs(datafolder)\n",
        "    \n",
        "    profile_pngs_objs = [img_to_array(load_img(f, color_mode='rgba', target_size=(imdim, imdim))) for f in profile_pngs ]\n",
        "    midcurve_pngs_objs = [img_to_array(load_img(f, color_mode='rgba', target_size=(imdim, imdim))) for f in midcurve_pngs]\n",
        "\n",
        "#     profile_pngs_objs = np.array([x.reshape((1,) + x.shape) for x in profile_pngs_objs])\n",
        "#     midcurve_pngs_objs = np.array([x.reshape((1,) + x.shape) for x in midcurve_pngs_objs])\n",
        "\n",
        "    profile_pngs_gray_objs = [x[:,:,3] for x in profile_pngs_objs]\n",
        "    midcurve_pngs_gray_objs =[x[:,:,3] for x in midcurve_pngs_objs]\n",
        "    \n",
        "#     profile_pngs_gray_objs = [np.where(x>128, 0, 1) for x in profile_pngs_gray_objs]\n",
        "#     midcurve_pngs_gray_objs =[np.where(x>128, 0, 1) for x in midcurve_pngs_gray_objs]\n",
        "        \n",
        "    # shufle them\n",
        "    zipped_profiles_midcurves = [(p,m) for p,m in zip(profile_pngs_gray_objs,midcurve_pngs_gray_objs)]\n",
        "    shuffle(zipped_profiles_midcurves)\n",
        "    profile_pngs_gray_objs, midcurve_pngs_gray_objs = zip(*zipped_profiles_midcurves)\n",
        "    \n",
        "    return profile_pngs_gray_objs, midcurve_pngs_gray_objs"
      ],
      "execution_count": 0,
      "outputs": []
    },
    {
      "cell_type": "code",
      "metadata": {
        "id": "EEfyWOYCiYxD",
        "colab_type": "code",
        "outputId": "ed2f67af-a907-413c-a4a6-024bdeb4c4ca",
        "colab": {
          "base_uri": "https://localhost:8080/",
          "height": 454
        }
      },
      "source": [
        "shapes = os.listdir('/content/gdrive/My Drive/Colab Notebooks/MidcurveNN/data/images')\n",
        "shapes"
      ],
      "execution_count": 13,
      "outputs": [
        {
          "output_type": "execute_result",
          "data": {
            "text/plain": [
              "['CapI',\n",
              " 'Iuvw',\n",
              " 'Tuvw',\n",
              " 'Vuvw',\n",
              " 'Sm_n',\n",
              " 'InvV',\n",
              " 'Parl',\n",
              " 'Trap',\n",
              " 'Stik',\n",
              " 'Usla',\n",
              " 'LapT',\n",
              " 'RelY',\n",
              " 'T002',\n",
              " 'T003',\n",
              " 'T004',\n",
              " 'T005',\n",
              " 'Plus',\n",
              " 'SqLu',\n",
              " 'Luvw',\n",
              " 'L001',\n",
              " 'L002',\n",
              " 'L003',\n",
              " 'T006',\n",
              " 'X001']"
            ]
          },
          "metadata": {
            "tags": []
          },
          "execution_count": 13
        }
      ]
    },
    {
      "cell_type": "code",
      "metadata": {
        "id": "GP3POQEVtlck",
        "colab_type": "code",
        "outputId": "1a24e7a7-d39e-46d3-9bdb-343515e0ab87",
        "colab": {
          "base_uri": "https://localhost:8080/",
          "height": 890
        }
      },
      "source": [
        "profile_pngs_objs = ()\n",
        "midcurve_pngs_objs = ()\n",
        "\n",
        "for shape in shapes:\n",
        "    print(shape)\n",
        "    tp, tm = get_training_data(os.path.join(input_data_folder, shape))\n",
        "    profile_pngs_objs += tp\n",
        "    midcurve_pngs_objs += tm\n",
        "    print(len(profile_pngs_objs), len(midcurve_pngs_objs))"
      ],
      "execution_count": 14,
      "outputs": [
        {
          "output_type": "stream",
          "text": [
            "CapI\n",
            "112 112\n",
            "Iuvw\n",
            "224 224\n",
            "Tuvw\n",
            "336 336\n",
            "Vuvw\n",
            "448 448\n",
            "Sm_n\n",
            "560 560\n",
            "InvV\n",
            "672 672\n",
            "Parl\n",
            "784 784\n",
            "Trap\n",
            "896 896\n",
            "Stik\n",
            "1008 1008\n",
            "Usla\n",
            "1120 1120\n",
            "LapT\n",
            "1232 1232\n",
            "RelY\n",
            "1344 1344\n",
            "T002\n",
            "1456 1456\n",
            "T003\n",
            "1568 1568\n",
            "T004\n",
            "1680 1680\n",
            "T005\n",
            "1792 1792\n",
            "Plus\n",
            "1904 1904\n",
            "SqLu\n",
            "2016 2016\n",
            "Luvw\n",
            "2128 2128\n",
            "L001\n",
            "2240 2240\n",
            "L002\n",
            "2352 2352\n",
            "L003\n",
            "2464 2464\n",
            "T006\n",
            "2576 2576\n",
            "X001\n",
            "2688 2688\n"
          ],
          "name": "stdout"
        }
      ]
    },
    {
      "cell_type": "code",
      "metadata": {
        "id": "lea0l6OoSS9X",
        "colab_type": "code",
        "outputId": "ef73e584-6539-4f9c-82bd-d2020a464a59",
        "colab": {
          "base_uri": "https://localhost:8080/",
          "height": 35
        }
      },
      "source": [
        "len(profile_pngs_objs)"
      ],
      "execution_count": 15,
      "outputs": [
        {
          "output_type": "execute_result",
          "data": {
            "text/plain": [
              "2688"
            ]
          },
          "metadata": {
            "tags": []
          },
          "execution_count": 15
        }
      ]
    },
    {
      "cell_type": "code",
      "metadata": {
        "id": "9f9N734PSXGH",
        "colab_type": "code",
        "outputId": "cba80024-e90a-4c7a-c015-2a724f8b3d8a",
        "colab": {
          "base_uri": "https://localhost:8080/",
          "height": 35
        }
      },
      "source": [
        "profile_pngs_objs[0].shape"
      ],
      "execution_count": 16,
      "outputs": [
        {
          "output_type": "execute_result",
          "data": {
            "text/plain": [
              "(100, 100)"
            ]
          },
          "metadata": {
            "tags": []
          },
          "execution_count": 16
        }
      ]
    },
    {
      "cell_type": "code",
      "metadata": {
        "id": "3CON1HkAtWxn",
        "colab_type": "code",
        "outputId": "5626b288-d45d-48a3-af3f-4d6b750832f5",
        "colab": {
          "base_uri": "https://localhost:8080/",
          "height": 35
        }
      },
      "source": [
        "type(midcurve_pngs_objs)"
      ],
      "execution_count": 17,
      "outputs": [
        {
          "output_type": "execute_result",
          "data": {
            "text/plain": [
              "tuple"
            ]
          },
          "metadata": {
            "tags": []
          },
          "execution_count": 17
        }
      ]
    },
    {
      "cell_type": "code",
      "metadata": {
        "id": "IGcijScSwPr8",
        "colab_type": "code",
        "colab": {}
      },
      "source": [
        "def plot_results(original_imgs,computed_imgs,n=10):\n",
        "    # n = 10  # how many digits we will display\n",
        "    plt.figure(figsize=(20, 4))\n",
        "    for i in range(n):\n",
        "        # display original\n",
        "        ax = plt.subplot(2, n, i + 1)\n",
        "        plt.imshow(original_imgs[i].reshape(imdim, imdim),cmap='gray_r')\n",
        "#         plt.gray()\n",
        "        ax.get_xaxis().set_visible(False)\n",
        "        ax.get_yaxis().set_visible(False)\n",
        "    \n",
        "        # display reconstruction\n",
        "        ax = plt.subplot(2, n, i + 1 + n)\n",
        "        plt.imshow(computed_imgs[i].reshape(imdim, imdim),cmap='gray_r')\n",
        "#         plt.gray()\n",
        "        ax.get_xaxis().set_visible(False)\n",
        "        ax.get_yaxis().set_visible(False)\n",
        "    plt.show()"
      ],
      "execution_count": 0,
      "outputs": []
    },
    {
      "cell_type": "code",
      "metadata": {
        "id": "YkMvqA_swPr_",
        "colab_type": "code",
        "outputId": "2527ca6c-bc4d-4460-d8ac-3135b7c0aa41",
        "colab": {
          "base_uri": "https://localhost:8080/",
          "height": 245
        }
      },
      "source": [
        "plot_results(profile_pngs_objs[2030:2050],midcurve_pngs_objs[2030:2050])"
      ],
      "execution_count": 20,
      "outputs": [
        {
          "output_type": "display_data",
          "data": {
            "image/png": "[encoded data removed]",
            "text/plain": [
              "<Figure size 1440x288 with 20 Axes>"
            ]
          },
          "metadata": {
            "tags": []
          }
        }
      ]
    },
    {
      "cell_type": "code",
      "metadata": {
        "id": "KeLJMAIbwPsD",
        "colab_type": "code",
        "colab": {}
      },
      "source": [
        "def get_train_test_split(profile_pngs_gray_objs, midcurve_pngs_gray_objs, encoding_dim=imdim, input_dim=imdim):\n",
        "\n",
        "    # Training\n",
        "    profile_pngs_flat_objs = [x.reshape(input_dim,input_dim,1) for x in profile_pngs_gray_objs]\n",
        "    midcurve_pngs_flat_objs = [x.reshape(input_dim,input_dim,1) for x in midcurve_pngs_gray_objs]\n",
        "    \n",
        "    profile_pngs_objs = np.array(profile_pngs_flat_objs)\n",
        "    midcurve_pngs_objs= np.array(midcurve_pngs_flat_objs)\n",
        "    \n",
        "    '''\n",
        "    train_size = int(len(profile_pngs_objs)*0.7)\n",
        "    x_train = profile_pngs_objs[:train_size]\n",
        "    y_train = midcurve_pngs_objs[:train_size]\n",
        "    x_test = profile_pngs_objs[train_size:]\n",
        "    y_test = midcurve_pngs_objs[train_size:]\n",
        "    '''\n",
        "    x_train, x_test, y_train, y_test = train_test_split(profile_pngs_objs, midcurve_pngs_objs, \n",
        "                                                        test_size=0.2, random_state=23)\n",
        "    return x_train, x_test, y_train, y_test"
      ],
      "execution_count": 0,
      "outputs": []
    },
    {
      "cell_type": "code",
      "metadata": {
        "id": "CsHrNT43wPsG",
        "colab_type": "code",
        "outputId": "35c6c7b9-aacc-4e60-ffae-cd4c2f8c1494",
        "colab": {
          "base_uri": "https://localhost:8080/",
          "height": 35
        }
      },
      "source": [
        "x_train, x_test, y_train, y_test = get_train_test_split(profile_pngs_objs, midcurve_pngs_objs)\n",
        "\n",
        "print((len(x_train), len(y_train)), (len(x_test), len(y_test)))"
      ],
      "execution_count": 22,
      "outputs": [
        {
          "output_type": "stream",
          "text": [
            "(2150, 2150) (538, 538)\n"
          ],
          "name": "stdout"
        }
      ]
    },
    {
      "cell_type": "markdown",
      "metadata": {
        "id": "cMg0OhMXwPsJ",
        "colab_type": "text"
      },
      "source": [
        "### Auto-encoder"
      ]
    },
    {
      "cell_type": "code",
      "metadata": {
        "id": "FnGlEsrp5G9_",
        "colab_type": "code",
        "colab": {}
      },
      "source": [
        "class Autoencoder():\n",
        "    def __init__(self):\n",
        "        self.img_rows = imdim\n",
        "        self.img_cols = imdim\n",
        "        self.channels = 1\n",
        "        self.img_shape = (self.img_rows, self.img_cols, self.channels)\n",
        "        \n",
        "        adam_optimizer = Adam(lr=0.0005)\n",
        "        optimizer = SGD(lr=0.0001, nesterov=False)\n",
        "        \n",
        "        self.autoencoder_model = self.build_model()\n",
        "        #self.autoencoder_model.compile(loss='mean_squared_error', optimizer=RMSprop())\n",
        "        #self.autoencoder_model.compile(loss='binary_crossentropy', optimizer=optimizer)\n",
        "        self.autoencoder_model.compile(loss='mse', metrics=['accuracy'], optimizer=adam_optimizer)\n",
        "        self.autoencoder_model.summary()\n",
        "    \n",
        "    def build_model(self):\n",
        "        input_layer = Input(shape=self.img_shape)\n",
        "        \n",
        "        '''\n",
        "        # encoder\n",
        "        x = Conv2D(32, (3,3), activation='relu', padding='same')(input_layer) # 28 x 28 x 32\n",
        "        x = MaxPooling2D(pool_size=(2,2))(x) # 14 x 14 x 32\n",
        "        x = Conv2D(64, (3,3), activation='relu', padding='same')(x)# 14 x 14 x 64\n",
        "        x = MaxPooling2D(pool_size=(2,2))(x) # 7 x 7 x 64\n",
        "        x = Conv2D(128, (3,3), activation='relu', padding='same')(x) # 7 x 7 x 128\n",
        "\n",
        "        # decoder\n",
        "        x = Conv2D(128, (3,3), activation='relu', padding='same')(x) # 7 x 7 x 128\n",
        "        x = UpSampling2D((2,2))(x) # 14 x 14 x 128\n",
        "        x = Conv2D(64, (3,3), activation='relu', padding='same')(x)# 14 x 14 x 64\n",
        "        x = UpSampling2D((2,2))(x) # 28 x 28 x 64\n",
        "        output_layer = Conv2D(1, (3,3), activation='sigmoid', padding='same')(x) # 28 x 28 x 1\n",
        "        '''\n",
        "        \n",
        "        # encoder\n",
        "        x = Conv2D(8, (3,3), activation='relu', padding='same')(input_layer)\n",
        "        x = MaxPooling2D(pool_size=(2,2))(x) # 14 x 14 x 32\n",
        "        #x = GlobalMaxPooling2D()(x) # 14 x 14 x 32\n",
        "        x = Conv2D(16, (3,3), activation='relu', padding='same')(x)\n",
        "        x = MaxPooling2D(pool_size=(2,2))(x) # 7 x 7 x 64\n",
        "        #x = GlobalMaxPooling2D()(x) # 7 x 7 x 64\n",
        "        x = Conv2D(32, (3,3), activation='relu', padding='same')(x)\n",
        "\n",
        "        # decoder\n",
        "        x = Conv2D(32, (3,3), activation='relu', padding='same')(x)\n",
        "        x = UpSampling2D((2,2))(x) # 14 x 14 x 128\n",
        "        x = Conv2D(64, (3,3), activation='relu', padding='same')(x)\n",
        "        x = UpSampling2D((2,2))(x) # 28 x 28 x 64\n",
        "        #output_layer = Conv2D(1, (3,3), activation='sigmoid', padding='same')(x)\n",
        "        output_layer = Conv2D(1, (3,3), activation='relu', padding='same')(x)\n",
        "        \n",
        "        \n",
        "        return Model(input_layer, output_layer)\n",
        "    \n",
        "    def train_model(self, x_train, y_train, x_val, y_val, epochs, batch_size=100):\n",
        "        early_stopping = EarlyStopping(monitor='val_loss',\n",
        "                                       min_delta=0,\n",
        "                                       patience=5,\n",
        "                                       verbose=1, \n",
        "                                       mode='auto')\n",
        "        history = self.autoencoder_model.fit(x_train, y_train,\n",
        "                                             batch_size=batch_size,\n",
        "                                             epochs=epochs,\n",
        "                                             validation_data=(x_val, y_val),\n",
        "                                             callbacks=[early_stopping])\n",
        "        plt.plot(history.history['loss'])\n",
        "        plt.plot(history.history['val_loss'])\n",
        "        plt.title('Model loss')\n",
        "        plt.ylabel('Loss')\n",
        "        plt.xlabel('Epoch')\n",
        "        plt.legend(['Train', 'Test'], loc='upper left')\n",
        "        plt.show()\n",
        "    \n",
        "    def eval_model(self, x_test):\n",
        "        preds = self.autoencoder_model.predict(x_test)\n",
        "        return preds"
      ],
      "execution_count": 0,
      "outputs": []
    },
    {
      "cell_type": "code",
      "metadata": {
        "id": "AS9oXJ9e5KrT",
        "colab_type": "code",
        "outputId": "f9153f9b-650c-4b6f-f851-11765f37c3ee",
        "colab": {
          "base_uri": "https://localhost:8080/",
          "height": 1000
        }
      },
      "source": [
        "'''\n",
        "x_train_reshaped = x_train\n",
        "x_test_reshaped = x_test\n",
        "\n",
        "\n",
        "noise_factor = 0.01 \n",
        "x_train_noisy = x_train_reshaped + noise_factor * np.random.normal(loc=0.0, scale=1.0, size=x_train_reshaped.shape) \n",
        "x_test_noisy = x_test_reshaped + noise_factor * np.random.normal(loc=0.0, scale=1.0, size=x_test_reshaped.shape) \n",
        "x_train_noisy = np.clip(x_train_noisy, 0., 1.) \n",
        "x_test_noisy = np.clip(x_test_noisy, 0., 1.)\n",
        "'''\n",
        "\n",
        "ae = Autoencoder()\n",
        "#ae.train_model(x_train_noisy, y_train, x_test_noisy, y_test, epochs=50, batch_size=32)\n",
        "ae.train_model(x_train, y_train, x_test, y_test, epochs=200, batch_size=100)\n",
        "\n",
        "#encoded_imgs = ae.eval_model(x_test)\n",
        "#decoded_imgs = ae.eval_model(encoded_imgs)\n",
        "\n",
        "#plot_results(x_test, decoded_imgs)"
      ],
      "execution_count": 43,
      "outputs": [
        {
          "output_type": "stream",
          "text": [
            "_________________________________________________________________\n",
            "Layer (type)                 Output Shape              Param #   \n",
            "=================================================================\n",
            "input_8 (InputLayer)         (None, 100, 100, 1)       0         \n",
            "_________________________________________________________________\n",
            "conv2d_28 (Conv2D)           (None, 100, 100, 8)       80        \n",
            "_________________________________________________________________\n",
            "max_pooling2d_7 (MaxPooling2 (None, 50, 50, 8)         0         \n",
            "_________________________________________________________________\n",
            "conv2d_29 (Conv2D)           (None, 50, 50, 16)        1168      \n",
            "_________________________________________________________________\n",
            "max_pooling2d_8 (MaxPooling2 (None, 25, 25, 16)        0         \n",
            "_________________________________________________________________\n",
            "conv2d_30 (Conv2D)           (None, 25, 25, 32)        4640      \n",
            "_________________________________________________________________\n",
            "conv2d_31 (Conv2D)           (None, 25, 25, 32)        9248      \n",
            "_________________________________________________________________\n",
            "up_sampling2d_9 (UpSampling2 (None, 50, 50, 32)        0         \n",
            "_________________________________________________________________\n",
            "conv2d_32 (Conv2D)           (None, 50, 50, 64)        18496     \n",
            "_________________________________________________________________\n",
            "up_sampling2d_10 (UpSampling (None, 100, 100, 64)      0         \n",
            "_________________________________________________________________\n",
            "conv2d_33 (Conv2D)           (None, 100, 100, 1)       577       \n",
            "=================================================================\n",
            "Total params: 34,209\n",
            "Trainable params: 34,209\n",
            "Non-trainable params: 0\n",
            "_________________________________________________________________\n",
            "Train on 2150 samples, validate on 538 samples\n",
            "Epoch 1/200\n",
            "2150/2150 [==============================] - 4s 2ms/step - loss: 88.8663 - acc: 0.9504 - val_loss: 75.6758 - val_acc: 0.9837\n",
            "Epoch 2/200\n",
            "2150/2150 [==============================] - 3s 1ms/step - loss: 77.5236 - acc: 0.9850 - val_loss: 70.6188 - val_acc: 0.9877\n",
            "Epoch 3/200\n",
            "2150/2150 [==============================] - 3s 1ms/step - loss: 72.0536 - acc: 0.9868 - val_loss: 65.4399 - val_acc: 0.9879\n",
            "Epoch 4/200\n",
            "2150/2150 [==============================] - 3s 1ms/step - loss: 66.6040 - acc: 0.9873 - val_loss: 60.6351 - val_acc: 0.9880\n",
            "Epoch 5/200\n",
            "2150/2150 [==============================] - 3s 1ms/step - loss: 61.8425 - acc: 0.9877 - val_loss: 56.6272 - val_acc: 0.9881\n",
            "Epoch 6/200\n",
            "2150/2150 [==============================] - 3s 1ms/step - loss: 57.8552 - acc: 0.9880 - val_loss: 54.6237 - val_acc: 0.9897\n",
            "Epoch 7/200\n",
            "2150/2150 [==============================] - 3s 1ms/step - loss: 54.8172 - acc: 0.9886 - val_loss: 50.8467 - val_acc: 0.9887\n",
            "Epoch 8/200\n",
            "2150/2150 [==============================] - 3s 1ms/step - loss: 51.5648 - acc: 0.9887 - val_loss: 48.7521 - val_acc: 0.9890\n",
            "Epoch 9/200\n",
            "2150/2150 [==============================] - 3s 1ms/step - loss: 49.3222 - acc: 0.9894 - val_loss: 46.8686 - val_acc: 0.9901\n",
            "Epoch 10/200\n",
            "2150/2150 [==============================] - 3s 1ms/step - loss: 47.5469 - acc: 0.9896 - val_loss: 45.3944 - val_acc: 0.9908\n",
            "Epoch 11/200\n",
            "2150/2150 [==============================] - 3s 1ms/step - loss: 44.9375 - acc: 0.9902 - val_loss: 43.9148 - val_acc: 0.9902\n",
            "Epoch 12/200\n",
            "2150/2150 [==============================] - 3s 1ms/step - loss: 43.2534 - acc: 0.9906 - val_loss: 42.9054 - val_acc: 0.9905\n",
            "Epoch 13/200\n",
            "2150/2150 [==============================] - 3s 1ms/step - loss: 41.9309 - acc: 0.9909 - val_loss: 41.4783 - val_acc: 0.9909\n",
            "Epoch 14/200\n",
            "2150/2150 [==============================] - 3s 1ms/step - loss: 40.2070 - acc: 0.9913 - val_loss: 39.8509 - val_acc: 0.9919\n",
            "Epoch 15/200\n",
            "2150/2150 [==============================] - 3s 1ms/step - loss: 38.9773 - acc: 0.9916 - val_loss: 39.0007 - val_acc: 0.9917\n",
            "Epoch 16/200\n",
            "2150/2150 [==============================] - 3s 1ms/step - loss: 38.1242 - acc: 0.9919 - val_loss: 38.0561 - val_acc: 0.9920\n",
            "Epoch 17/200\n",
            "2150/2150 [==============================] - 3s 1ms/step - loss: 37.1802 - acc: 0.9920 - val_loss: 37.4968 - val_acc: 0.9924\n",
            "Epoch 18/200\n",
            "2150/2150 [==============================] - 3s 1ms/step - loss: 36.3965 - acc: 0.9920 - val_loss: 36.6076 - val_acc: 0.9923\n",
            "Epoch 19/200\n",
            "2150/2150 [==============================] - 3s 1ms/step - loss: 35.9015 - acc: 0.9921 - val_loss: 36.4191 - val_acc: 0.9928\n",
            "Epoch 20/200\n",
            "2150/2150 [==============================] - 3s 1ms/step - loss: 35.3711 - acc: 0.9922 - val_loss: 36.1090 - val_acc: 0.9930\n",
            "Epoch 21/200\n",
            "2150/2150 [==============================] - 3s 1ms/step - loss: 34.4904 - acc: 0.9923 - val_loss: 35.2019 - val_acc: 0.9922\n",
            "Epoch 22/200\n",
            "2150/2150 [==============================] - 3s 1ms/step - loss: 33.8062 - acc: 0.9924 - val_loss: 34.6206 - val_acc: 0.9928\n",
            "Epoch 23/200\n",
            "2150/2150 [==============================] - 3s 1ms/step - loss: 33.2955 - acc: 0.9925 - val_loss: 34.0443 - val_acc: 0.9927\n",
            "Epoch 24/200\n",
            "2150/2150 [==============================] - 3s 1ms/step - loss: 32.7879 - acc: 0.9925 - val_loss: 33.6250 - val_acc: 0.9927\n",
            "Epoch 25/200\n",
            "2150/2150 [==============================] - 3s 1ms/step - loss: 32.4247 - acc: 0.9926 - val_loss: 33.2892 - val_acc: 0.9926\n",
            "Epoch 26/200\n",
            "2150/2150 [==============================] - 3s 1ms/step - loss: 31.9528 - acc: 0.9926 - val_loss: 32.9960 - val_acc: 0.9932\n",
            "Epoch 27/200\n",
            "2150/2150 [==============================] - 3s 1ms/step - loss: 31.3841 - acc: 0.9928 - val_loss: 32.6637 - val_acc: 0.9927\n",
            "Epoch 28/200\n",
            "2150/2150 [==============================] - 3s 1ms/step - loss: 31.0435 - acc: 0.9928 - val_loss: 32.2346 - val_acc: 0.9929\n",
            "Epoch 29/200\n",
            "2150/2150 [==============================] - 3s 1ms/step - loss: 30.6128 - acc: 0.9928 - val_loss: 31.9153 - val_acc: 0.9930\n",
            "Epoch 30/200\n",
            "2150/2150 [==============================] - 3s 1ms/step - loss: 30.2806 - acc: 0.9929 - val_loss: 31.8245 - val_acc: 0.9929\n",
            "Epoch 31/200\n",
            "2150/2150 [==============================] - 3s 1ms/step - loss: 30.0377 - acc: 0.9929 - val_loss: 31.2981 - val_acc: 0.9931\n",
            "Epoch 32/200\n",
            "2150/2150 [==============================] - 3s 1ms/step - loss: 29.6785 - acc: 0.9930 - val_loss: 32.0661 - val_acc: 0.9926\n",
            "Epoch 33/200\n",
            "2150/2150 [==============================] - 3s 1ms/step - loss: 29.5354 - acc: 0.9930 - val_loss: 30.7559 - val_acc: 0.9933\n",
            "Epoch 34/200\n",
            "2150/2150 [==============================] - 3s 1ms/step - loss: 28.9769 - acc: 0.9931 - val_loss: 30.4536 - val_acc: 0.9932\n",
            "Epoch 35/200\n",
            "2150/2150 [==============================] - 3s 1ms/step - loss: 28.6213 - acc: 0.9931 - val_loss: 30.3914 - val_acc: 0.9930\n",
            "Epoch 36/200\n",
            "2150/2150 [==============================] - 3s 1ms/step - loss: 28.5352 - acc: 0.9931 - val_loss: 30.2679 - val_acc: 0.9930\n",
            "Epoch 37/200\n",
            "2150/2150 [==============================] - 3s 1ms/step - loss: 28.1845 - acc: 0.9932 - val_loss: 29.7947 - val_acc: 0.9934\n",
            "Epoch 38/200\n",
            "2150/2150 [==============================] - 3s 1ms/step - loss: 27.9917 - acc: 0.9932 - val_loss: 29.5263 - val_acc: 0.9933\n",
            "Epoch 39/200\n",
            "2150/2150 [==============================] - 3s 1ms/step - loss: 27.6120 - acc: 0.9932 - val_loss: 29.4392 - val_acc: 0.9935\n",
            "Epoch 40/200\n",
            "2150/2150 [==============================] - 3s 1ms/step - loss: 27.2825 - acc: 0.9932 - val_loss: 29.4647 - val_acc: 0.9931\n",
            "Epoch 41/200\n",
            "2150/2150 [==============================] - 3s 1ms/step - loss: 27.0582 - acc: 0.9933 - val_loss: 29.3174 - val_acc: 0.9937\n",
            "Epoch 42/200\n",
            "2150/2150 [==============================] - 3s 1ms/step - loss: 27.0209 - acc: 0.9933 - val_loss: 29.1949 - val_acc: 0.9930\n",
            "Epoch 43/200\n",
            "2150/2150 [==============================] - 3s 1ms/step - loss: 26.7893 - acc: 0.9933 - val_loss: 28.6045 - val_acc: 0.9937\n",
            "Epoch 44/200\n",
            "2150/2150 [==============================] - 3s 1ms/step - loss: 26.3264 - acc: 0.9934 - val_loss: 28.3084 - val_acc: 0.9934\n",
            "Epoch 45/200\n",
            "2150/2150 [==============================] - 3s 1ms/step - loss: 26.0605 - acc: 0.9934 - val_loss: 28.4445 - val_acc: 0.9933\n",
            "Epoch 46/200\n",
            "2150/2150 [==============================] - 3s 1ms/step - loss: 25.9060 - acc: 0.9934 - val_loss: 28.1987 - val_acc: 0.9938\n",
            "Epoch 47/200\n",
            "2150/2150 [==============================] - 3s 1ms/step - loss: 25.7544 - acc: 0.9934 - val_loss: 28.0899 - val_acc: 0.9937\n",
            "Epoch 48/200\n",
            "2150/2150 [==============================] - 3s 1ms/step - loss: 25.4525 - acc: 0.9935 - val_loss: 27.6265 - val_acc: 0.9937\n",
            "Epoch 49/200\n",
            "2150/2150 [==============================] - 3s 1ms/step - loss: 25.1880 - acc: 0.9935 - val_loss: 27.3889 - val_acc: 0.9937\n",
            "Epoch 50/200\n",
            "2150/2150 [==============================] - 3s 1ms/step - loss: 24.9825 - acc: 0.9935 - val_loss: 27.4937 - val_acc: 0.9937\n",
            "Epoch 51/200\n",
            "2150/2150 [==============================] - 3s 1ms/step - loss: 24.9422 - acc: 0.9936 - val_loss: 27.0240 - val_acc: 0.9935\n",
            "Epoch 52/200\n",
            "2150/2150 [==============================] - 3s 1ms/step - loss: 24.8900 - acc: 0.9935 - val_loss: 27.1478 - val_acc: 0.9939\n",
            "Epoch 53/200\n",
            "2150/2150 [==============================] - 3s 1ms/step - loss: 24.7276 - acc: 0.9935 - val_loss: 26.7498 - val_acc: 0.9939\n",
            "Epoch 54/200\n",
            "2150/2150 [==============================] - 3s 1ms/step - loss: 24.2991 - acc: 0.9936 - val_loss: 27.0649 - val_acc: 0.9935\n",
            "Epoch 55/200\n",
            "2150/2150 [==============================] - 3s 1ms/step - loss: 24.2412 - acc: 0.9936 - val_loss: 26.6931 - val_acc: 0.9936\n",
            "Epoch 56/200\n",
            "2150/2150 [==============================] - 3s 1ms/step - loss: 24.0307 - acc: 0.9936 - val_loss: 26.4246 - val_acc: 0.9936\n",
            "Epoch 57/200\n",
            "2150/2150 [==============================] - 3s 1ms/step - loss: 23.7659 - acc: 0.9937 - val_loss: 26.2983 - val_acc: 0.9940\n",
            "Epoch 58/200\n",
            "2150/2150 [==============================] - 3s 1ms/step - loss: 23.6799 - acc: 0.9937 - val_loss: 26.2046 - val_acc: 0.9938\n",
            "Epoch 59/200\n",
            "2150/2150 [==============================] - 3s 1ms/step - loss: 23.4869 - acc: 0.9937 - val_loss: 25.9791 - val_acc: 0.9939\n",
            "Epoch 60/200\n",
            "2150/2150 [==============================] - 3s 1ms/step - loss: 23.2088 - acc: 0.9937 - val_loss: 25.8634 - val_acc: 0.9939\n",
            "Epoch 61/200\n",
            "2150/2150 [==============================] - 3s 1ms/step - loss: 23.0892 - acc: 0.9937 - val_loss: 25.7574 - val_acc: 0.9941\n",
            "Epoch 62/200\n",
            "2150/2150 [==============================] - 3s 1ms/step - loss: 23.0653 - acc: 0.9938 - val_loss: 25.5590 - val_acc: 0.9940\n",
            "Epoch 63/200\n",
            "2150/2150 [==============================] - 3s 1ms/step - loss: 22.7544 - acc: 0.9938 - val_loss: 25.5239 - val_acc: 0.9940\n",
            "Epoch 64/200\n",
            "2150/2150 [==============================] - 3s 1ms/step - loss: 22.6098 - acc: 0.9938 - val_loss: 25.2103 - val_acc: 0.9940\n",
            "Epoch 65/200\n",
            "2150/2150 [==============================] - 3s 1ms/step - loss: 22.4554 - acc: 0.9938 - val_loss: 25.3795 - val_acc: 0.9937\n",
            "Epoch 66/200\n",
            "2150/2150 [==============================] - 3s 1ms/step - loss: 22.6171 - acc: 0.9938 - val_loss: 25.3754 - val_acc: 0.9939\n",
            "Epoch 67/200\n",
            "2150/2150 [==============================] - 3s 1ms/step - loss: 22.2283 - acc: 0.9938 - val_loss: 24.9015 - val_acc: 0.9941\n",
            "Epoch 68/200\n",
            "2150/2150 [==============================] - 3s 1ms/step - loss: 22.0447 - acc: 0.9939 - val_loss: 24.8145 - val_acc: 0.9939\n",
            "Epoch 69/200\n",
            "2150/2150 [==============================] - 3s 1ms/step - loss: 21.9901 - acc: 0.9939 - val_loss: 24.8063 - val_acc: 0.9939\n",
            "Epoch 70/200\n",
            "2150/2150 [==============================] - 3s 1ms/step - loss: 21.7768 - acc: 0.9939 - val_loss: 24.5901 - val_acc: 0.9941\n",
            "Epoch 71/200\n",
            "2150/2150 [==============================] - 3s 1ms/step - loss: 21.7965 - acc: 0.9939 - val_loss: 24.5910 - val_acc: 0.9939\n",
            "Epoch 72/200\n",
            "2150/2150 [==============================] - 3s 1ms/step - loss: 21.5417 - acc: 0.9939 - val_loss: 24.8543 - val_acc: 0.9938\n",
            "Epoch 73/200\n",
            "2150/2150 [==============================] - 3s 1ms/step - loss: 21.6178 - acc: 0.9940 - val_loss: 24.6110 - val_acc: 0.9941\n",
            "Epoch 74/200\n",
            "2150/2150 [==============================] - 3s 1ms/step - loss: 21.2505 - acc: 0.9940 - val_loss: 24.3395 - val_acc: 0.9940\n",
            "Epoch 75/200\n",
            "2150/2150 [==============================] - 3s 1ms/step - loss: 21.1883 - acc: 0.9940 - val_loss: 24.3404 - val_acc: 0.9944\n",
            "Epoch 76/200\n",
            "2150/2150 [==============================] - 3s 1ms/step - loss: 21.0911 - acc: 0.9940 - val_loss: 24.2530 - val_acc: 0.9939\n",
            "Epoch 77/200\n",
            "2150/2150 [==============================] - 3s 1ms/step - loss: 20.9890 - acc: 0.9940 - val_loss: 23.9558 - val_acc: 0.9942\n",
            "Epoch 78/200\n",
            "2150/2150 [==============================] - 3s 1ms/step - loss: 20.7443 - acc: 0.9941 - val_loss: 23.8485 - val_acc: 0.9942\n",
            "Epoch 79/200\n",
            "2150/2150 [==============================] - 3s 1ms/step - loss: 20.8449 - acc: 0.9941 - val_loss: 24.0246 - val_acc: 0.9939\n",
            "Epoch 80/200\n",
            "2150/2150 [==============================] - 3s 1ms/step - loss: 20.5428 - acc: 0.9941 - val_loss: 23.6861 - val_acc: 0.9941\n",
            "Epoch 81/200\n",
            "2150/2150 [==============================] - 3s 1ms/step - loss: 20.5396 - acc: 0.9941 - val_loss: 23.6041 - val_acc: 0.9942\n",
            "Epoch 82/200\n",
            "2150/2150 [==============================] - 3s 1ms/step - loss: 20.3287 - acc: 0.9941 - val_loss: 23.7095 - val_acc: 0.9942\n",
            "Epoch 83/200\n",
            "2150/2150 [==============================] - 3s 1ms/step - loss: 20.2618 - acc: 0.9941 - val_loss: 23.4327 - val_acc: 0.9942\n",
            "Epoch 84/200\n",
            "2150/2150 [==============================] - 3s 1ms/step - loss: 20.1572 - acc: 0.9941 - val_loss: 23.3767 - val_acc: 0.9943\n",
            "Epoch 85/200\n",
            "2150/2150 [==============================] - 3s 1ms/step - loss: 20.2112 - acc: 0.9941 - val_loss: 23.5097 - val_acc: 0.9941\n",
            "Epoch 86/200\n",
            "2150/2150 [==============================] - 3s 1ms/step - loss: 19.9537 - acc: 0.9942 - val_loss: 23.3395 - val_acc: 0.9941\n",
            "Epoch 87/200\n",
            "2150/2150 [==============================] - 3s 1ms/step - loss: 20.1967 - acc: 0.9941 - val_loss: 23.3314 - val_acc: 0.9942\n",
            "Epoch 88/200\n",
            "2150/2150 [==============================] - 3s 1ms/step - loss: 19.9466 - acc: 0.9942 - val_loss: 23.1039 - val_acc: 0.9943\n",
            "Epoch 89/200\n",
            "2150/2150 [==============================] - 3s 1ms/step - loss: 19.7110 - acc: 0.9942 - val_loss: 23.1655 - val_acc: 0.9942\n",
            "Epoch 90/200\n",
            "2150/2150 [==============================] - 3s 1ms/step - loss: 19.5706 - acc: 0.9942 - val_loss: 23.2187 - val_acc: 0.9945\n",
            "Epoch 91/200\n",
            "2150/2150 [==============================] - 3s 1ms/step - loss: 19.4660 - acc: 0.9942 - val_loss: 22.9021 - val_acc: 0.9944\n",
            "Epoch 92/200\n",
            "2150/2150 [==============================] - 3s 1ms/step - loss: 19.4502 - acc: 0.9942 - val_loss: 23.1971 - val_acc: 0.9941\n",
            "Epoch 93/200\n",
            "2150/2150 [==============================] - 3s 1ms/step - loss: 19.4291 - acc: 0.9942 - val_loss: 23.1929 - val_acc: 0.9946\n",
            "Epoch 94/200\n",
            "2150/2150 [==============================] - 3s 1ms/step - loss: 19.1609 - acc: 0.9942 - val_loss: 22.8759 - val_acc: 0.9942\n",
            "Epoch 95/200\n",
            "2150/2150 [==============================] - 3s 1ms/step - loss: 19.1600 - acc: 0.9942 - val_loss: 22.6926 - val_acc: 0.9944\n",
            "Epoch 96/200\n",
            "2150/2150 [==============================] - 3s 1ms/step - loss: 19.0520 - acc: 0.9942 - val_loss: 22.6008 - val_acc: 0.9944\n",
            "Epoch 97/200\n",
            "2150/2150 [==============================] - 3s 1ms/step - loss: 18.8824 - acc: 0.9943 - val_loss: 22.5301 - val_acc: 0.9944\n",
            "Epoch 98/200\n",
            "2150/2150 [==============================] - 3s 1ms/step - loss: 18.8990 - acc: 0.9943 - val_loss: 22.6573 - val_acc: 0.9945\n",
            "Epoch 99/200\n",
            "2150/2150 [==============================] - 3s 1ms/step - loss: 18.8683 - acc: 0.9943 - val_loss: 22.9596 - val_acc: 0.9941\n",
            "Epoch 100/200\n",
            "2150/2150 [==============================] - 3s 1ms/step - loss: 18.8599 - acc: 0.9943 - val_loss: 22.7734 - val_acc: 0.9946\n",
            "Epoch 101/200\n",
            "2150/2150 [==============================] - 3s 1ms/step - loss: 18.6742 - acc: 0.9943 - val_loss: 22.3910 - val_acc: 0.9943\n",
            "Epoch 102/200\n",
            "2150/2150 [==============================] - 3s 1ms/step - loss: 18.4839 - acc: 0.9943 - val_loss: 22.3136 - val_acc: 0.9943\n",
            "Epoch 103/200\n",
            "2150/2150 [==============================] - 3s 1ms/step - loss: 18.4876 - acc: 0.9943 - val_loss: 22.4149 - val_acc: 0.9945\n",
            "Epoch 104/200\n",
            "2150/2150 [==============================] - 3s 1ms/step - loss: 18.4296 - acc: 0.9943 - val_loss: 22.1460 - val_acc: 0.9943\n",
            "Epoch 105/200\n",
            "2150/2150 [==============================] - 3s 1ms/step - loss: 18.3934 - acc: 0.9943 - val_loss: 22.6922 - val_acc: 0.9946\n",
            "Epoch 106/200\n",
            "2150/2150 [==============================] - 3s 1ms/step - loss: 18.5414 - acc: 0.9943 - val_loss: 22.2005 - val_acc: 0.9944\n",
            "Epoch 107/200\n",
            "2150/2150 [==============================] - 3s 1ms/step - loss: 18.1745 - acc: 0.9943 - val_loss: 21.9251 - val_acc: 0.9944\n",
            "Epoch 108/200\n",
            "2150/2150 [==============================] - 3s 1ms/step - loss: 18.0871 - acc: 0.9943 - val_loss: 22.1703 - val_acc: 0.9943\n",
            "Epoch 109/200\n",
            "2150/2150 [==============================] - 3s 1ms/step - loss: 17.9979 - acc: 0.9944 - val_loss: 21.9605 - val_acc: 0.9944\n",
            "Epoch 110/200\n",
            "2150/2150 [==============================] - 3s 1ms/step - loss: 18.0023 - acc: 0.9944 - val_loss: 21.9104 - val_acc: 0.9946\n",
            "Epoch 111/200\n",
            "2150/2150 [==============================] - 3s 1ms/step - loss: 17.8525 - acc: 0.9944 - val_loss: 21.7194 - val_acc: 0.9944\n",
            "Epoch 112/200\n",
            "2150/2150 [==============================] - 3s 1ms/step - loss: 17.8246 - acc: 0.9944 - val_loss: 21.7878 - val_acc: 0.9944\n",
            "Epoch 113/200\n",
            "2150/2150 [==============================] - 3s 1ms/step - loss: 17.6750 - acc: 0.9944 - val_loss: 21.7258 - val_acc: 0.9944\n",
            "Epoch 114/200\n",
            "2150/2150 [==============================] - 3s 1ms/step - loss: 17.7046 - acc: 0.9944 - val_loss: 21.7211 - val_acc: 0.9944\n",
            "Epoch 115/200\n",
            "2150/2150 [==============================] - 3s 1ms/step - loss: 17.9212 - acc: 0.9944 - val_loss: 21.4904 - val_acc: 0.9945\n",
            "Epoch 116/200\n",
            "2150/2150 [==============================] - 3s 1ms/step - loss: 17.5327 - acc: 0.9944 - val_loss: 22.1135 - val_acc: 0.9947\n",
            "Epoch 117/200\n",
            "2150/2150 [==============================] - 3s 1ms/step - loss: 17.7594 - acc: 0.9944 - val_loss: 21.5375 - val_acc: 0.9944\n",
            "Epoch 118/200\n",
            "2150/2150 [==============================] - 3s 1ms/step - loss: 17.5131 - acc: 0.9944 - val_loss: 21.7100 - val_acc: 0.9945\n",
            "Epoch 119/200\n",
            "2150/2150 [==============================] - 3s 1ms/step - loss: 17.4277 - acc: 0.9944 - val_loss: 22.2676 - val_acc: 0.9943\n",
            "Epoch 120/200\n",
            "2150/2150 [==============================] - 3s 1ms/step - loss: 17.4212 - acc: 0.9944 - val_loss: 21.3731 - val_acc: 0.9945\n",
            "Epoch 121/200\n",
            "2150/2150 [==============================] - 3s 1ms/step - loss: 17.2761 - acc: 0.9944 - val_loss: 21.4455 - val_acc: 0.9946\n",
            "Epoch 122/200\n",
            "2150/2150 [==============================] - 3s 1ms/step - loss: 17.1945 - acc: 0.9944 - val_loss: 22.1277 - val_acc: 0.9942\n",
            "Epoch 123/200\n",
            "2150/2150 [==============================] - 3s 1ms/step - loss: 17.3317 - acc: 0.9944 - val_loss: 21.5634 - val_acc: 0.9943\n",
            "Epoch 124/200\n",
            "2150/2150 [==============================] - 3s 1ms/step - loss: 17.1529 - acc: 0.9944 - val_loss: 21.4909 - val_acc: 0.9947\n",
            "Epoch 125/200\n",
            "2150/2150 [==============================] - 3s 1ms/step - loss: 17.0385 - acc: 0.9945 - val_loss: 21.5237 - val_acc: 0.9945\n",
            "Epoch 00125: early stopping\n"
          ],
          "name": "stdout"
        },
        {
          "output_type": "display_data",
          "data": {
            "image/png": "[encoded data removed]",
            "text/plain": [
              "<Figure size 432x288 with 1 Axes>"
            ]
          },
          "metadata": {
            "tags": []
          }
        }
      ]
    },
    {
      "cell_type": "code",
      "metadata": {
        "id": "NUObrj1shO8J",
        "colab_type": "code",
        "colab": {
          "base_uri": "https://localhost:8080/",
          "height": 278
        },
        "outputId": "192d2e68-3621-4445-ff2a-221294203614"
      },
      "source": [
        "# evaluation\n",
        "\n",
        "n = 10  # for 10 random indices\n",
        "index = np.random.choice(x_test.shape[0], n, replace=False)\n",
        "\n",
        "x_eval = x_test[index]\n",
        "print(\"Number of samples to evaluate: \", len(x_eval))\n",
        "print(\"Samples to evaluate: \", index)\n",
        "\n",
        "#encoded_imgs = ae.eval_model(x_test)\n",
        "encoded_imgs = ae.eval_model(x_eval)\n",
        "decoded_imgs = ae.eval_model(encoded_imgs)\n",
        "\n",
        "plot_results(x_eval, decoded_imgs)"
      ],
      "execution_count": 45,
      "outputs": [
        {
          "output_type": "stream",
          "text": [
            "Number of samples to evaluate:  10\n",
            "Samples to evaluate:  [ 33 263 322 292 285 123 373 395 488 158]\n"
          ],
          "name": "stdout"
        },
        {
          "output_type": "display_data",
          "data": {
            "image/png": "[encoded data removed]",
            "text/plain": [
              "<Figure size 1440x288 with 20 Axes>"
            ]
          },
          "metadata": {
            "tags": []
          }
        }
      ]
    },
    {
      "cell_type": "code",
      "metadata": {
        "id": "T5GSTXZikY9R",
        "colab_type": "code",
        "colab": {}
      },
      "source": [
        ""
      ],
      "execution_count": 0,
      "outputs": []
    }
  ]
}