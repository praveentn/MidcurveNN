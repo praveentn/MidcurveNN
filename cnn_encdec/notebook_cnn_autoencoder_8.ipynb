{
  "nbformat": 4,
  "nbformat_minor": 0,
  "metadata": {
    "kernelspec": {
      "name": "python3",
      "display_name": "Python 3"
    },
    "language_info": {
      "codemirror_mode": {
        "name": "ipython",
        "version": 3
      },
      "file_extension": ".py",
      "mimetype": "text/x-python",
      "name": "python",
      "nbconvert_exporter": "python",
      "pygments_lexer": "ipython3",
      "version": "3.7.4"
    },
    "colab": {
      "name": "notebook_cnn_autoencoder_8.ipynb",
      "version": "0.3.2",
      "provenance": [],
      "collapsed_sections": [],
      "toc_visible": true,
      "include_colab_link": true
    },
    "accelerator": "GPU"
  },
  "cells": [
    {
      "cell_type": "markdown",
      "metadata": {
        "id": "view-in-github",
        "colab_type": "text"
      },
      "source": [
        "<a href=\"https://colab.research.google.com/github/praveentn/MidcurveNN/blob/master/cnn_encdec/notebook_cnn_autoencoder_8.ipynb\" target=\"_parent\"><img src=\"https://colab.research.google.com/assets/colab-badge.svg\" alt=\"Open In Colab\"/></a>"
      ]
    },
    {
      "cell_type": "markdown",
      "metadata": {
        "id": "IQVJL5mHwPrl",
        "colab_type": "text"
      },
      "source": [
        "# CNN ENC-DEC"
      ]
    },
    {
      "cell_type": "code",
      "metadata": {
        "id": "Ob9aBehW-wcd",
        "colab_type": "code",
        "colab": {}
      },
      "source": [
        ""
      ],
      "execution_count": 0,
      "outputs": []
    },
    {
      "cell_type": "code",
      "metadata": {
        "id": "AxYRQhxBxAbv",
        "colab_type": "code",
        "outputId": "bba41ace-f880-4cfd-8574-6302266e73a5",
        "colab": {
          "base_uri": "https://localhost:8080/",
          "height": 68
        }
      },
      "source": [
        "# mount google drive & set working directory\n",
        "# requires auth (click on url & copy token into text box when prompted)\n",
        "from google.colab import drive\n",
        "drive.mount(\"/content/gdrive\")\n",
        "\n",
        "import os\n",
        "print(os.getcwd())\n",
        "\n",
        "os.chdir('/content/gdrive/My Drive/Colab Notebooks/MidcurveNN')\n",
        "!pwd"
      ],
      "execution_count": 1,
      "outputs": [
        {
          "output_type": "stream",
          "text": [
            "Drive already mounted at /content/gdrive; to attempt to forcibly remount, call drive.mount(\"/content/gdrive\", force_remount=True).\n",
            "/content\n",
            "/content/gdrive/My Drive/Colab Notebooks/MidcurveNN\n"
          ],
          "name": "stdout"
        }
      ]
    },
    {
      "cell_type": "code",
      "metadata": {
        "id": "rDHgEuJBwPrm",
        "colab_type": "code",
        "outputId": "9a8c3e88-bc57-418c-e02e-7fb660c8761b",
        "colab": {
          "base_uri": "https://localhost:8080/",
          "height": 34
        }
      },
      "source": [
        "from __future__ import absolute_import, division, print_function, unicode_literals\n",
        "\n",
        "# !pip install tensorflow-gpu==2.0.0-alpha0\n",
        "import tensorflow as tf\n",
        "\n",
        "import os\n",
        "import time\n",
        "import matplotlib.pyplot as plt\n",
        "from IPython.display import clear_output\n",
        "import os\n",
        "\n",
        "from keras.layers import Input, Dense\n",
        "from keras.models import Model\n",
        "from keras import regularizers, optimizers\n",
        "from keras.optimizers import Adam, SGD, RMSprop\n",
        "from keras.callbacks import EarlyStopping\n",
        "from keras.optimizers import Adam,RMSprop,SGD\n",
        "from keras.models import Model, Sequential\n",
        "from keras.layers import Input, Dense, Conv2D, MaxPooling2D, UpSampling2D, Flatten, Reshape\n",
        "from keras import regularizers\n",
        "from keras.layers.normalization import BatchNormalization\n",
        "from keras.layers import Conv2D, MaxPooling2D, Dense, Dropout, Input, Flatten,AveragePooling2D,UpSampling2D\n",
        "from keras.preprocessing.image import img_to_array, load_img\n",
        "from sklearn.model_selection import train_test_split\n",
        "from random import shuffle\n",
        "import PIL\n",
        "import json\n",
        "import numpy as np\n",
        "import sys\n",
        "np.set_printoptions(threshold=sys.maxsize)\n",
        "import matplotlib.pyplot as plt\n",
        "import matplotlib\n",
        "# matplotlib.use('TKAgg')\n",
        "%matplotlib inline"
      ],
      "execution_count": 2,
      "outputs": [
        {
          "output_type": "stream",
          "text": [
            "Using TensorFlow backend.\n"
          ],
          "name": "stderr"
        }
      ]
    },
    {
      "cell_type": "code",
      "metadata": {
        "id": "evVd6EPUwPrs",
        "colab_type": "code",
        "outputId": "8fbf5dfe-d58c-411a-d425-600e2e72bb48",
        "colab": {
          "base_uri": "https://localhost:8080/",
          "height": 34
        }
      },
      "source": [
        "# working directory\n",
        "wdir = os.getcwd()\n",
        "wdir"
      ],
      "execution_count": 3,
      "outputs": [
        {
          "output_type": "execute_result",
          "data": {
            "text/plain": [
              "'/content/gdrive/My Drive/Colab Notebooks/MidcurveNN'"
            ]
          },
          "metadata": {
            "tags": []
          },
          "execution_count": 3
        }
      ]
    },
    {
      "cell_type": "code",
      "metadata": {
        "id": "UxFdYYywwPrx",
        "colab_type": "code",
        "outputId": "cec6d715-204f-4426-b733-11d1eda48fe3",
        "colab": {
          "base_uri": "https://localhost:8080/",
          "height": 34
        }
      },
      "source": [
        "# _URL = 'https://drive.google.com/uc?export=download&id=16rqDFLO__WySSQGlAht0FEj2uJZg4M9M'\n",
        "\n",
        "# path_to_zip = tf.keras.utils.get_file('input.zip',\n",
        "#                                       origin=_URL,\n",
        "#                                       extract=True)\n",
        "\n",
        "# input_data_folder = os.path.join(os.path.dirname(path_to_zip), 'input')\n",
        "input_data_folder = wdir + \"/data/input\"\n",
        "input_data_folder = wdir + \"/data/images\"\n",
        "print(\"input data dir: \", input_data_folder)"
      ],
      "execution_count": 4,
      "outputs": [
        {
          "output_type": "stream",
          "text": [
            "input data dir:  /content/gdrive/My Drive/Colab Notebooks/MidcurveNN/data/images\n"
          ],
          "name": "stdout"
        }
      ]
    },
    {
      "cell_type": "code",
      "metadata": {
        "id": "geTVDZfzPY-u",
        "colab_type": "code",
        "outputId": "e1ce7ab2-b673-40cc-dd76-4dab9fb29fa3",
        "colab": {
          "base_uri": "https://localhost:8080/",
          "height": 51
        }
      },
      "source": [
        "import glob\n",
        "\n",
        "image_paths = glob.glob(input_data_folder + '/**/*.png', recursive=True)\n",
        "images = [os.path.basename(img_path) for img_path in image_paths]\n",
        "\n",
        "print(len(images))\n",
        "\n",
        "#images = os.listdir(input_data_folder)\n",
        "images[99]"
      ],
      "execution_count": 5,
      "outputs": [
        {
          "output_type": "stream",
          "text": [
            "4032\n"
          ],
          "name": "stdout"
        },
        {
          "output_type": "execute_result",
          "data": {
            "text/plain": [
              "'CapI_Midcurve_mirrored_0_translated_10_-20.png'"
            ]
          },
          "metadata": {
            "tags": []
          },
          "execution_count": 5
        }
      ]
    },
    {
      "cell_type": "code",
      "metadata": {
        "id": "oNZW79Q1URmJ",
        "colab_type": "code",
        "colab": {}
      },
      "source": [
        "# image dimension\n",
        "imdim = 100"
      ],
      "execution_count": 0,
      "outputs": []
    },
    {
      "cell_type": "code",
      "metadata": {
        "id": "RjdmJfpRwPr0",
        "colab_type": "code",
        "colab": {}
      },
      "source": [
        "def read_input_image_pairs(datafolder=input_data_folder):\n",
        "    profile_pngs = []\n",
        "    midcurve_pngs = []\n",
        "    for file in os.listdir(datafolder):\n",
        "        fullpath = os.path.join(datafolder, file)\n",
        "        if os.path.isdir(fullpath):\n",
        "            continue\n",
        "        if file.endswith(\".png\"):\n",
        "            if file.find(\"Profile\") != -1:\n",
        "                profile_pngs.append(fullpath)\n",
        "            if file.find(\"Midcurve\") != -1:\n",
        "                midcurve_pngs.append(fullpath)\n",
        "    profile_pngs = sorted(profile_pngs)\n",
        "    midcurve_pngs = sorted(midcurve_pngs)\n",
        "    return profile_pngs,midcurve_pngs"
      ],
      "execution_count": 0,
      "outputs": []
    },
    {
      "cell_type": "code",
      "metadata": {
        "id": "Rim24hWkwPr3",
        "colab_type": "code",
        "colab": {}
      },
      "source": [
        "def get_training_data(datafolder=input_data_folder):\n",
        "    profile_pngs,midcurve_pngs = read_input_image_pairs(datafolder)\n",
        "    \n",
        "    profile_pngs_objs = [img_to_array(load_img(f, color_mode='rgba', target_size=(imdim, imdim))) for f in profile_pngs ]\n",
        "    midcurve_pngs_objs = [img_to_array(load_img(f, color_mode='rgba', target_size=(imdim, imdim))) for f in midcurve_pngs]\n",
        "\n",
        "#     profile_pngs_objs = np.array([x.reshape((1,) + x.shape) for x in profile_pngs_objs])\n",
        "#     midcurve_pngs_objs = np.array([x.reshape((1,) + x.shape) for x in midcurve_pngs_objs])\n",
        "\n",
        "    profile_pngs_gray_objs = [x[:,:,3] for x in profile_pngs_objs]\n",
        "    midcurve_pngs_gray_objs =[x[:,:,3] for x in midcurve_pngs_objs]\n",
        "    \n",
        "#     profile_pngs_gray_objs = [np.where(x>128, 0, 1) for x in profile_pngs_gray_objs]\n",
        "#     midcurve_pngs_gray_objs =[np.where(x>128, 0, 1) for x in midcurve_pngs_gray_objs]\n",
        "        \n",
        "    # shufle them\n",
        "    zipped_profiles_midcurves = [(p,m) for p,m in zip(profile_pngs_gray_objs,midcurve_pngs_gray_objs)]\n",
        "    shuffle(zipped_profiles_midcurves)\n",
        "    profile_pngs_gray_objs, midcurve_pngs_gray_objs = zip(*zipped_profiles_midcurves)\n",
        "    \n",
        "    return profile_pngs_gray_objs, midcurve_pngs_gray_objs"
      ],
      "execution_count": 0,
      "outputs": []
    },
    {
      "cell_type": "code",
      "metadata": {
        "id": "EEfyWOYCiYxD",
        "colab_type": "code",
        "outputId": "872befb5-5e61-41fb-a57b-16bb23afa90e",
        "colab": {
          "base_uri": "https://localhost:8080/",
          "height": 323
        }
      },
      "source": [
        "shapes = os.listdir('/content/gdrive/My Drive/Colab Notebooks/MidcurveNN/data/images')\n",
        "shapes"
      ],
      "execution_count": 9,
      "outputs": [
        {
          "output_type": "execute_result",
          "data": {
            "text/plain": [
              "['CapI',\n",
              " 'Plus',\n",
              " 'Iuvw',\n",
              " 'Luvw',\n",
              " 'SqLu',\n",
              " 'Tuvw',\n",
              " 'Vuvw',\n",
              " 'Sm_n',\n",
              " 'InvV',\n",
              " 'Parl',\n",
              " 'Trap',\n",
              " 'Stik',\n",
              " 'Usla',\n",
              " 'LapT',\n",
              " 'RelY',\n",
              " 'T002',\n",
              " 'T003',\n",
              " 'T004']"
            ]
          },
          "metadata": {
            "tags": []
          },
          "execution_count": 9
        }
      ]
    },
    {
      "cell_type": "code",
      "metadata": {
        "id": "GP3POQEVtlck",
        "colab_type": "code",
        "outputId": "abdf6fb1-4050-45fd-df2a-842ed3ad7faf",
        "colab": {
          "base_uri": "https://localhost:8080/",
          "height": 629
        }
      },
      "source": [
        "profile_pngs_objs = ()\n",
        "midcurve_pngs_objs = ()\n",
        "\n",
        "for shape in shapes:\n",
        "    print(shape)\n",
        "    tp, tm = get_training_data(os.path.join(input_data_folder, shape))\n",
        "    profile_pngs_objs += tp\n",
        "    midcurve_pngs_objs += tm\n",
        "    print(len(profile_pngs_objs), len(midcurve_pngs_objs))"
      ],
      "execution_count": 10,
      "outputs": [
        {
          "output_type": "stream",
          "text": [
            "CapI\n",
            "112 112\n",
            "Plus\n",
            "224 224\n",
            "Iuvw\n",
            "336 336\n",
            "Luvw\n",
            "448 448\n",
            "SqLu\n",
            "560 560\n",
            "Tuvw\n",
            "672 672\n",
            "Vuvw\n",
            "784 784\n",
            "Sm_n\n",
            "896 896\n",
            "InvV\n",
            "1008 1008\n",
            "Parl\n",
            "1120 1120\n",
            "Trap\n",
            "1232 1232\n",
            "Stik\n",
            "1344 1344\n",
            "Usla\n",
            "1456 1456\n",
            "LapT\n",
            "1568 1568\n",
            "RelY\n",
            "1680 1680\n",
            "T002\n",
            "1792 1792\n",
            "T003\n",
            "1904 1904\n",
            "T004\n",
            "2016 2016\n"
          ],
          "name": "stdout"
        }
      ]
    },
    {
      "cell_type": "code",
      "metadata": {
        "id": "lea0l6OoSS9X",
        "colab_type": "code",
        "outputId": "d355f542-ccaf-4be3-b521-252b9f7aea28",
        "colab": {
          "base_uri": "https://localhost:8080/",
          "height": 34
        }
      },
      "source": [
        "len(profile_pngs_objs)"
      ],
      "execution_count": 11,
      "outputs": [
        {
          "output_type": "execute_result",
          "data": {
            "text/plain": [
              "2016"
            ]
          },
          "metadata": {
            "tags": []
          },
          "execution_count": 11
        }
      ]
    },
    {
      "cell_type": "code",
      "metadata": {
        "id": "9f9N734PSXGH",
        "colab_type": "code",
        "outputId": "ff9d8043-7152-4e66-a80d-a218a3b3379d",
        "colab": {
          "base_uri": "https://localhost:8080/",
          "height": 34
        }
      },
      "source": [
        "profile_pngs_objs[0].shape"
      ],
      "execution_count": 12,
      "outputs": [
        {
          "output_type": "execute_result",
          "data": {
            "text/plain": [
              "(100, 100)"
            ]
          },
          "metadata": {
            "tags": []
          },
          "execution_count": 12
        }
      ]
    },
    {
      "cell_type": "code",
      "metadata": {
        "id": "3CON1HkAtWxn",
        "colab_type": "code",
        "outputId": "bc620513-3385-4852-97f2-e972e836e5da",
        "colab": {
          "base_uri": "https://localhost:8080/",
          "height": 34
        }
      },
      "source": [
        "type(midcurve_pngs_objs)"
      ],
      "execution_count": 13,
      "outputs": [
        {
          "output_type": "execute_result",
          "data": {
            "text/plain": [
              "tuple"
            ]
          },
          "metadata": {
            "tags": []
          },
          "execution_count": 13
        }
      ]
    },
    {
      "cell_type": "code",
      "metadata": {
        "id": "IGcijScSwPr8",
        "colab_type": "code",
        "colab": {}
      },
      "source": [
        "def plot_results(original_imgs,computed_imgs,n=10):\n",
        "    # n = 10  # how many digits we will display\n",
        "    plt.figure(figsize=(20, 4))\n",
        "    for i in range(n):\n",
        "        # display original\n",
        "        ax = plt.subplot(2, n, i + 1)\n",
        "        plt.imshow(original_imgs[i].reshape(imdim, imdim),cmap='gray_r')\n",
        "#         plt.gray()\n",
        "        ax.get_xaxis().set_visible(False)\n",
        "        ax.get_yaxis().set_visible(False)\n",
        "    \n",
        "        # display reconstruction\n",
        "        ax = plt.subplot(2, n, i + 1 + n)\n",
        "        plt.imshow(computed_imgs[i].reshape(imdim, imdim),cmap='gray_r')\n",
        "#         plt.gray()\n",
        "        ax.get_xaxis().set_visible(False)\n",
        "        ax.get_yaxis().set_visible(False)\n",
        "    plt.show()"
      ],
      "execution_count": 0,
      "outputs": []
    },
    {
      "cell_type": "code",
      "metadata": {
        "id": "YkMvqA_swPr_",
        "colab_type": "code",
        "outputId": "0c2b101f-4df2-4a8d-edb3-8efb6424c190",
        "colab": {
          "base_uri": "https://localhost:8080/",
          "height": 244
        }
      },
      "source": [
        "plot_results(profile_pngs_objs[830:850],midcurve_pngs_objs[830:850])"
      ],
      "execution_count": 15,
      "outputs": [
        {
          "output_type": "display_data",
          "data": {
            "image/png": "[encoded data removed]",
            "text/plain": [
              "<Figure size 1440x288 with 20 Axes>"
            ]
          },
          "metadata": {
            "tags": []
          }
        }
      ]
    },
    {
      "cell_type": "code",
      "metadata": {
        "id": "KeLJMAIbwPsD",
        "colab_type": "code",
        "colab": {}
      },
      "source": [
        "def get_train_test_split(profile_pngs_gray_objs, midcurve_pngs_gray_objs, encoding_dim=imdim, input_dim=imdim):\n",
        "\n",
        "    # Training\n",
        "    profile_pngs_flat_objs = [x.reshape(input_dim,input_dim,1) for x in profile_pngs_gray_objs]\n",
        "    midcurve_pngs_flat_objs = [x.reshape(input_dim,input_dim,1) for x in midcurve_pngs_gray_objs]\n",
        "    \n",
        "    profile_pngs_objs = np.array(profile_pngs_flat_objs)\n",
        "    midcurve_pngs_objs= np.array(midcurve_pngs_flat_objs)\n",
        "    \n",
        "    '''\n",
        "    train_size = int(len(profile_pngs_objs)*0.7)\n",
        "    x_train = profile_pngs_objs[:train_size]\n",
        "    y_train = midcurve_pngs_objs[:train_size]\n",
        "    x_test = profile_pngs_objs[train_size:]\n",
        "    y_test = midcurve_pngs_objs[train_size:]\n",
        "    '''\n",
        "    x_train, x_test, y_train, y_test = train_test_split(profile_pngs_objs, midcurve_pngs_objs, \n",
        "                                                        test_size=0.2, random_state=42)\n",
        "    return x_train, x_test, y_train, y_test"
      ],
      "execution_count": 0,
      "outputs": []
    },
    {
      "cell_type": "code",
      "metadata": {
        "id": "CsHrNT43wPsG",
        "colab_type": "code",
        "outputId": "d49daee8-d593-4761-8b02-d331a3f24faa",
        "colab": {
          "base_uri": "https://localhost:8080/",
          "height": 34
        }
      },
      "source": [
        "x_train, x_test, y_train, y_test = get_train_test_split(profile_pngs_objs, midcurve_pngs_objs)\n",
        "\n",
        "print((len(x_train), len(y_train)), (len(x_test), len(y_test)))"
      ],
      "execution_count": 18,
      "outputs": [
        {
          "output_type": "stream",
          "text": [
            "(1612, 1612) (404, 404)\n"
          ],
          "name": "stdout"
        }
      ]
    },
    {
      "cell_type": "markdown",
      "metadata": {
        "id": "cMg0OhMXwPsJ",
        "colab_type": "text"
      },
      "source": [
        "### Auto-encoder"
      ]
    },
    {
      "cell_type": "code",
      "metadata": {
        "id": "ivMYJu7jdhdG",
        "colab_type": "code",
        "colab": {}
      },
      "source": [
        "class Autoencoder():\n",
        "    def __init__(self):\n",
        "        self.img_rows = imdim\n",
        "        self.img_cols = imdim\n",
        "        self.channels = 1\n",
        "        self.img_shape = (self.img_rows, self.img_cols, self.channels)\n",
        "        \n",
        "        #optimizer = Adam(lr=0.0005)\n",
        "        optimizer = SGD(lr=0.0002, decay=0.0001, nesterov=True)\n",
        "        \n",
        "        self.autoencoder_model = self.build_model()\n",
        "        self.autoencoder_model.compile(loss='binary_crossentropy', optimizer=optimizer)\n",
        "        self.autoencoder_model.summary()\n",
        "    \n",
        "    def build_model(self):\n",
        "        input_layer = Input(shape=self.img_shape)\n",
        "        \n",
        "        # encoder\n",
        "        h = Conv2D(64, (3, 3), activation='relu', padding='same')(input_layer)\n",
        "        h = MaxPooling2D((2, 2), padding='same')(h)\n",
        "        h = Conv2D(32, (3, 3), activation='relu', padding='same')(h)\n",
        "        h = MaxPooling2D((2, 2), padding='same')(h)\n",
        "        \n",
        "        # decoder\n",
        "        h = Conv2D(32, (3, 3), activation='relu', padding='same')(h)\n",
        "        h = UpSampling2D((2, 2))(h)\n",
        "        h = Conv2D(64, (3, 3), activation='relu', padding='same')(h)\n",
        "        h = UpSampling2D((2, 2))(h)\n",
        "        output_layer = Conv2D(1, (3, 3), activation='sigmoid', padding='same')(h)\n",
        "        \n",
        "        return Model(input_layer, output_layer)\n",
        "    \n",
        "    def train_model(self, x_train, y_train, x_val, y_val, epochs, batch_size=20):\n",
        "        early_stopping = EarlyStopping(monitor='val_loss',\n",
        "                                       min_delta=0,\n",
        "                                       patience=5,\n",
        "                                       verbose=1, \n",
        "                                       mode='auto')\n",
        "        history = self.autoencoder_model.fit(x_train, y_train,\n",
        "                                             batch_size=batch_size,\n",
        "                                             epochs=epochs,\n",
        "                                             validation_data=(x_val, y_val),\n",
        "                                             callbacks=[early_stopping])\n",
        "        plt.plot(history.history['loss'])\n",
        "        plt.plot(history.history['val_loss'])\n",
        "        plt.title('Model loss')\n",
        "        plt.ylabel('Loss')\n",
        "        plt.xlabel('Epoch')\n",
        "        plt.legend(['Train', 'Test'], loc='upper left')\n",
        "        plt.show()\n",
        "    \n",
        "    def eval_model(self, x_test):\n",
        "        preds = self.autoencoder_model.predict(x_test)\n",
        "        return preds"
      ],
      "execution_count": 0,
      "outputs": []
    },
    {
      "cell_type": "code",
      "metadata": {
        "id": "Bnh4YqW9izZi",
        "colab_type": "code",
        "outputId": "589c615e-fe73-45bb-a1ec-352b515ab9e0",
        "colab": {
          "base_uri": "https://localhost:8080/",
          "height": 1000
        }
      },
      "source": [
        "ae = Autoencoder()\n",
        "ae.train_model(x_train, y_train, x_test, y_test, epochs=50, batch_size=50)\n",
        "\n",
        "encoded_imgs = ae.eval_model(x_test)\n",
        "decoded_imgs = ae.eval_model(encoded_imgs)\n",
        "\n",
        "plot_results(x_test, decoded_imgs)"
      ],
      "execution_count": 20,
      "outputs": [
        {
          "output_type": "stream",
          "text": [
            "WARNING: Logging before flag parsing goes to stderr.\n",
            "W0819 14:46:52.305503 140134280529792 deprecation_wrapper.py:119] From /usr/local/lib/python3.6/dist-packages/keras/backend/tensorflow_backend.py:74: The name tf.get_default_graph is deprecated. Please use tf.compat.v1.get_default_graph instead.\n",
            "\n",
            "W0819 14:46:52.306696 140134280529792 deprecation_wrapper.py:119] From /usr/local/lib/python3.6/dist-packages/keras/backend/tensorflow_backend.py:517: The name tf.placeholder is deprecated. Please use tf.compat.v1.placeholder instead.\n",
            "\n",
            "W0819 14:46:52.316228 140134280529792 deprecation_wrapper.py:119] From /usr/local/lib/python3.6/dist-packages/keras/backend/tensorflow_backend.py:4138: The name tf.random_uniform is deprecated. Please use tf.random.uniform instead.\n",
            "\n",
            "W0819 14:46:52.350270 140134280529792 deprecation_wrapper.py:119] From /usr/local/lib/python3.6/dist-packages/keras/backend/tensorflow_backend.py:3976: The name tf.nn.max_pool is deprecated. Please use tf.nn.max_pool2d instead.\n",
            "\n",
            "W0819 14:46:52.403425 140134280529792 deprecation_wrapper.py:119] From /usr/local/lib/python3.6/dist-packages/keras/backend/tensorflow_backend.py:2018: The name tf.image.resize_nearest_neighbor is deprecated. Please use tf.compat.v1.image.resize_nearest_neighbor instead.\n",
            "\n",
            "W0819 14:46:52.444198 140134280529792 deprecation_wrapper.py:119] From /usr/local/lib/python3.6/dist-packages/keras/optimizers.py:790: The name tf.train.Optimizer is deprecated. Please use tf.compat.v1.train.Optimizer instead.\n",
            "\n",
            "W0819 14:46:52.453799 140134280529792 deprecation_wrapper.py:119] From /usr/local/lib/python3.6/dist-packages/keras/backend/tensorflow_backend.py:3376: The name tf.log is deprecated. Please use tf.math.log instead.\n",
            "\n",
            "W0819 14:46:52.461773 140134280529792 deprecation.py:323] From /usr/local/lib/python3.6/dist-packages/tensorflow/python/ops/nn_impl.py:180: add_dispatch_support.<locals>.wrapper (from tensorflow.python.ops.array_ops) is deprecated and will be removed in a future version.\n",
            "Instructions for updating:\n",
            "Use tf.where in 2.0, which has the same broadcast rule as np.where\n"
          ],
          "name": "stderr"
        },
        {
          "output_type": "stream",
          "text": [
            "_________________________________________________________________\n",
            "Layer (type)                 Output Shape              Param #   \n",
            "=================================================================\n",
            "input_1 (InputLayer)         (None, 100, 100, 1)       0         \n",
            "_________________________________________________________________\n",
            "conv2d_1 (Conv2D)            (None, 100, 100, 64)      640       \n",
            "_________________________________________________________________\n",
            "max_pooling2d_1 (MaxPooling2 (None, 50, 50, 64)        0         \n",
            "_________________________________________________________________\n",
            "conv2d_2 (Conv2D)            (None, 50, 50, 32)        18464     \n",
            "_________________________________________________________________\n",
            "max_pooling2d_2 (MaxPooling2 (None, 25, 25, 32)        0         \n",
            "_________________________________________________________________\n",
            "conv2d_3 (Conv2D)            (None, 25, 25, 32)        9248      \n",
            "_________________________________________________________________\n",
            "up_sampling2d_1 (UpSampling2 (None, 50, 50, 32)        0         \n",
            "_________________________________________________________________\n",
            "conv2d_4 (Conv2D)            (None, 50, 50, 64)        18496     \n",
            "_________________________________________________________________\n",
            "up_sampling2d_2 (UpSampling2 (None, 100, 100, 64)      0         \n",
            "_________________________________________________________________\n",
            "conv2d_5 (Conv2D)            (None, 100, 100, 1)       577       \n",
            "=================================================================\n",
            "Total params: 47,425\n",
            "Trainable params: 47,425\n",
            "Non-trainable params: 0\n",
            "_________________________________________________________________\n"
          ],
          "name": "stdout"
        },
        {
          "output_type": "stream",
          "text": [
            "W0819 14:46:52.698703 140134280529792 deprecation_wrapper.py:119] From /usr/local/lib/python3.6/dist-packages/keras/backend/tensorflow_backend.py:986: The name tf.assign_add is deprecated. Please use tf.compat.v1.assign_add instead.\n",
            "\n"
          ],
          "name": "stderr"
        },
        {
          "output_type": "stream",
          "text": [
            "Train on 1612 samples, validate on 404 samples\n",
            "Epoch 1/50\n",
            "1612/1612 [==============================] - 7s 4ms/step - loss: -8.9238 - val_loss: -9.1666\n",
            "Epoch 2/50\n",
            "1612/1612 [==============================] - 3s 2ms/step - loss: -9.6551 - val_loss: -9.1801\n",
            "Epoch 3/50\n",
            "1612/1612 [==============================] - 3s 2ms/step - loss: -9.6710 - val_loss: -9.1933\n",
            "Epoch 4/50\n",
            "1612/1612 [==============================] - 3s 2ms/step - loss: -9.6852 - val_loss: -9.2060\n",
            "Epoch 5/50\n",
            "1612/1612 [==============================] - 3s 2ms/step - loss: -9.6988 - val_loss: -9.2182\n",
            "Epoch 6/50\n",
            "1612/1612 [==============================] - 3s 2ms/step - loss: -9.7121 - val_loss: -9.2300\n",
            "Epoch 7/50\n",
            "1612/1612 [==============================] - 3s 2ms/step - loss: -9.7249 - val_loss: -9.2422\n",
            "Epoch 8/50\n",
            "1612/1612 [==============================] - 3s 2ms/step - loss: -9.7376 - val_loss: -9.2537\n",
            "Epoch 9/50\n",
            "1612/1612 [==============================] - 3s 2ms/step - loss: -9.7491 - val_loss: -9.2655\n",
            "Epoch 10/50\n",
            "1612/1612 [==============================] - 3s 2ms/step - loss: -9.7610 - val_loss: -9.2770\n",
            "Epoch 11/50\n",
            "1612/1612 [==============================] - 3s 2ms/step - loss: -9.7732 - val_loss: -9.2887\n",
            "Epoch 12/50\n",
            "1612/1612 [==============================] - 3s 2ms/step - loss: -9.7843 - val_loss: -9.2996\n",
            "Epoch 13/50\n",
            "1612/1612 [==============================] - 3s 2ms/step - loss: -9.7965 - val_loss: -9.3111\n",
            "Epoch 14/50\n",
            "1612/1612 [==============================] - 3s 2ms/step - loss: -9.8077 - val_loss: -9.3212\n",
            "Epoch 15/50\n",
            "1612/1612 [==============================] - 3s 2ms/step - loss: -9.8193 - val_loss: -9.3328\n",
            "Epoch 16/50\n",
            "1612/1612 [==============================] - 3s 2ms/step - loss: -9.8305 - val_loss: -9.3432\n",
            "Epoch 17/50\n",
            "1612/1612 [==============================] - 3s 2ms/step - loss: -9.8419 - val_loss: -9.3538\n",
            "Epoch 18/50\n",
            "1612/1612 [==============================] - 3s 2ms/step - loss: -9.8528 - val_loss: -9.3641\n",
            "Epoch 19/50\n",
            "1612/1612 [==============================] - 3s 2ms/step - loss: -9.8635 - val_loss: -9.3748\n",
            "Epoch 20/50\n",
            "1612/1612 [==============================] - 3s 2ms/step - loss: -9.8752 - val_loss: -9.3863\n",
            "Epoch 21/50\n",
            "1612/1612 [==============================] - 3s 2ms/step - loss: -9.8838 - val_loss: -9.3975\n",
            "Epoch 22/50\n",
            "1612/1612 [==============================] - 3s 2ms/step - loss: -9.8962 - val_loss: -9.4084\n",
            "Epoch 23/50\n",
            "1612/1612 [==============================] - 3s 2ms/step - loss: -9.9056 - val_loss: -9.4192\n",
            "Epoch 24/50\n",
            "1612/1612 [==============================] - 3s 2ms/step - loss: -9.9174 - val_loss: -9.4311\n",
            "Epoch 25/50\n",
            "1612/1612 [==============================] - 3s 2ms/step - loss: -9.9271 - val_loss: -9.4404\n",
            "Epoch 26/50\n",
            "1612/1612 [==============================] - 3s 2ms/step - loss: -9.9392 - val_loss: -9.4541\n",
            "Epoch 27/50\n",
            "1612/1612 [==============================] - 3s 2ms/step - loss: -9.9499 - val_loss: -9.4640\n",
            "Epoch 28/50\n",
            "1612/1612 [==============================] - 3s 2ms/step - loss: -9.9617 - val_loss: -9.4780\n",
            "Epoch 29/50\n",
            "1612/1612 [==============================] - 3s 2ms/step - loss: -9.9729 - val_loss: -9.4907\n",
            "Epoch 30/50\n",
            "1612/1612 [==============================] - 3s 2ms/step - loss: -9.9844 - val_loss: -9.5036\n",
            "Epoch 31/50\n",
            "1612/1612 [==============================] - 3s 2ms/step - loss: -9.9953 - val_loss: -9.5152\n",
            "Epoch 32/50\n",
            "1612/1612 [==============================] - 3s 2ms/step - loss: -10.0075 - val_loss: -9.5288\n",
            "Epoch 33/50\n",
            "1612/1612 [==============================] - 3s 2ms/step - loss: -10.0187 - val_loss: -9.5410\n",
            "Epoch 34/50\n",
            "1612/1612 [==============================] - 3s 2ms/step - loss: -10.0312 - val_loss: -9.5544\n",
            "Epoch 35/50\n",
            "1612/1612 [==============================] - 3s 2ms/step - loss: -10.0432 - val_loss: -9.5693\n",
            "Epoch 36/50\n",
            "1612/1612 [==============================] - 3s 2ms/step - loss: -10.0551 - val_loss: -9.5826\n",
            "Epoch 37/50\n",
            "1612/1612 [==============================] - 3s 2ms/step - loss: -10.0683 - val_loss: -9.5973\n",
            "Epoch 38/50\n",
            "1612/1612 [==============================] - 3s 2ms/step - loss: -10.0797 - val_loss: -9.6095\n",
            "Epoch 39/50\n",
            "1612/1612 [==============================] - 3s 2ms/step - loss: -10.0927 - val_loss: -9.6253\n",
            "Epoch 40/50\n",
            "1612/1612 [==============================] - 3s 2ms/step - loss: -10.1051 - val_loss: -9.6412\n",
            "Epoch 41/50\n",
            "1612/1612 [==============================] - 3s 2ms/step - loss: -10.1183 - val_loss: -9.6612\n",
            "Epoch 42/50\n",
            "1612/1612 [==============================] - 3s 2ms/step - loss: -10.1311 - val_loss: -9.6734\n",
            "Epoch 43/50\n",
            "1612/1612 [==============================] - 3s 2ms/step - loss: -10.1456 - val_loss: -9.6941\n",
            "Epoch 44/50\n",
            "1612/1612 [==============================] - 3s 2ms/step - loss: -10.1595 - val_loss: -9.7086\n",
            "Epoch 45/50\n",
            "1612/1612 [==============================] - 3s 2ms/step - loss: -10.1747 - val_loss: -9.7221\n",
            "Epoch 46/50\n",
            "1612/1612 [==============================] - 3s 2ms/step - loss: -10.1895 - val_loss: -9.7475\n",
            "Epoch 47/50\n",
            "1612/1612 [==============================] - 3s 2ms/step - loss: -10.2048 - val_loss: -9.7649\n",
            "Epoch 48/50\n",
            "1612/1612 [==============================] - 3s 2ms/step - loss: -10.2202 - val_loss: -9.7851\n",
            "Epoch 49/50\n",
            "1612/1612 [==============================] - 3s 2ms/step - loss: -10.2364 - val_loss: -9.8097\n",
            "Epoch 50/50\n",
            "1612/1612 [==============================] - 3s 2ms/step - loss: -10.2518 - val_loss: -9.8277\n"
          ],
          "name": "stdout"
        },
        {
          "output_type": "display_data",
          "data": {
            "image/png": "[encoded data removed]",
            "text/plain": [
              "<Figure size 432x288 with 1 Axes>"
            ]
          },
          "metadata": {
            "tags": []
          }
        },
        {
          "output_type": "display_data",
          "data": {
            "image/png": "[encoded data removed]",
            "text/plain": [
              "<Figure size 1440x288 with 20 Axes>"
            ]
          },
          "metadata": {
            "tags": []
          }
        }
      ]
    },
    {
      "cell_type": "code",
      "metadata": {
        "id": "Nwfr5Y9Yizi5",
        "colab_type": "code",
        "colab": {}
      },
      "source": [
        ""
      ],
      "execution_count": 0,
      "outputs": []
    },
    {
      "cell_type": "code",
      "metadata": {
        "id": "FnGlEsrp5G9_",
        "colab_type": "code",
        "colab": {}
      },
      "source": [
        "class Autoencoder():\n",
        "    def __init__(self):\n",
        "        self.img_rows = imdim\n",
        "        self.img_cols = imdim\n",
        "        self.channels = 1\n",
        "        self.img_shape = (self.img_rows, self.img_cols, self.channels)\n",
        "        \n",
        "        optimizer = Adam(lr=0.0005)\n",
        "        optimizer = SGD(lr=0.0001, nesterov=False)\n",
        "        \n",
        "        self.autoencoder_model = self.build_model()\n",
        "        #self.autoencoder_model.compile(loss='mean_squared_error', optimizer=RMSprop())\n",
        "        self.autoencoder_model.compile(loss='binary_crossentropy', optimizer=optimizer)\n",
        "        self.autoencoder_model.summary()\n",
        "    \n",
        "    def build_model(self):\n",
        "        input_layer = Input(shape=self.img_shape)\n",
        "        \n",
        "        x = Conv2D(64, (3, 3), activation='relu', padding='same')(input_layer)\n",
        "        #x = MaxPooling2D((2, 2), padding='same')(x)\n",
        "        x = Conv2D(32, (3, 3), activation='relu', padding='same')(x)\n",
        "        #x = MaxPooling2D((2, 2), padding='same')(x)\n",
        "        x = Conv2D(16, (3, 3), activation='relu', padding='same')(x)\n",
        "        #x = MaxPooling2D((2, 2), padding='same')(x)\n",
        "        #encoded = MaxPooling2D((2, 2), padding='same')(x)\n",
        "\n",
        "        # at this point the representation is compressed\n",
        "\n",
        "        #x = Conv2D(8, (3, 3), activation='relu', padding='same')(encoded)\n",
        "        x = Conv2D(16, (3, 3), activation='relu', padding='same')(x)\n",
        "        #x = UpSampling2D((2, 2))(x)\n",
        "        x = Conv2D(32, (3, 3), activation='relu', padding='same')(x)\n",
        "        #x = UpSampling2D((2, 2))(x)\n",
        "        x = Conv2D(64, (3, 3), activation='relu', padding='same')(x)\n",
        "        #x = UpSampling2D((2, 2))(x)\n",
        "        output_layer = Conv2D(1, (3, 3), activation='sigmoid', padding='same')(x)\n",
        "        \n",
        "        '''\n",
        "        # encoder\n",
        "        h = Conv2D(64, (3, 3), activation='relu', padding='same')(input_layer) #28 x 28 x 32\n",
        "        h = MaxPooling2D(pool_size=(2, 2))(h) #14 x 14 x 32\n",
        "        #h = Conv2D(64, (3, 3), activation='relu', padding='same')(h) #14 x 14 x 64\n",
        "        #h = MaxPooling2D(pool_size=(2, 2))(h) #7 x 7 x 64\n",
        "        #h = Conv2D(128, (3, 3), activation='relu', padding='same')(h) #7 x 7 x 128 (small and thick)\n",
        "\n",
        "        #decoder\n",
        "        #h = Conv2D(128, (3, 3), activation='relu', padding='same')(h) #7 x 7 x 128\n",
        "        #h = UpSampling2D((2,2))(h) # 14 x 14 x 128\n",
        "        #h = Conv2D(64, (3, 3), activation='relu', padding='same')(h) # 14 x 14 x 64\n",
        "        #h = UpSampling2D((2,2))(h) # 28 x 28 x 64\n",
        "        h = Conv2D(32, (3, 3), activation='relu', padding='same')(h) # 14 x 14 x 64\n",
        "        h = UpSampling2D((2,2))(h) # 28 x 28 x 64\n",
        "        output_layer = Conv2D(1, (3, 3), activation='sigmoid', padding='same')(h) # 28 x 28 x 1\n",
        "        '''\n",
        "        \n",
        "        return Model(input_layer, output_layer)\n",
        "    \n",
        "    def train_model(self, x_train, y_train, x_val, y_val, epochs, batch_size=20):\n",
        "        early_stopping = EarlyStopping(monitor='val_loss',\n",
        "                                       min_delta=0,\n",
        "                                       patience=5,\n",
        "                                       verbose=1, \n",
        "                                       mode='auto')\n",
        "        history = self.autoencoder_model.fit(x_train, y_train,\n",
        "                                             batch_size=batch_size,\n",
        "                                             epochs=epochs,\n",
        "                                             validation_data=(x_val, y_val),\n",
        "                                             callbacks=[early_stopping])\n",
        "        plt.plot(history.history['loss'])\n",
        "        plt.plot(history.history['val_loss'])\n",
        "        plt.title('Model loss')\n",
        "        plt.ylabel('Loss')\n",
        "        plt.xlabel('Epoch')\n",
        "        plt.legend(['Train', 'Test'], loc='upper left')\n",
        "        plt.show()\n",
        "    \n",
        "    def eval_model(self, x_test):\n",
        "        preds = self.autoencoder_model.predict(x_test)\n",
        "        return preds"
      ],
      "execution_count": 0,
      "outputs": []
    },
    {
      "cell_type": "code",
      "metadata": {
        "id": "AS9oXJ9e5KrT",
        "colab_type": "code",
        "outputId": "9d428961-5aaa-4989-9b29-5812858b83ca",
        "colab": {
          "base_uri": "https://localhost:8080/",
          "height": 1000
        }
      },
      "source": [
        "'''\n",
        "x_train_reshaped = x_train\n",
        "x_test_reshaped = x_test\n",
        "\n",
        "\n",
        "noise_factor = 0.01 \n",
        "x_train_noisy = x_train_reshaped + noise_factor * np.random.normal(loc=0.0, scale=1.0, size=x_train_reshaped.shape) \n",
        "x_test_noisy = x_test_reshaped + noise_factor * np.random.normal(loc=0.0, scale=1.0, size=x_test_reshaped.shape) \n",
        "x_train_noisy = np.clip(x_train_noisy, 0., 1.) \n",
        "x_test_noisy = np.clip(x_test_noisy, 0., 1.)\n",
        "'''\n",
        "\n",
        "ae = Autoencoder()\n",
        "#ae.train_model(x_train_noisy, y_train, x_test_noisy, y_test, epochs=50, batch_size=32)\n",
        "ae.train_model(x_train, y_train, x_test, y_test, epochs=50, batch_size=64)\n",
        "\n",
        "encoded_imgs = ae.eval_model(x_test)\n",
        "decoded_imgs = ae.eval_model(encoded_imgs)\n",
        "\n",
        "plot_results(x_test, decoded_imgs)"
      ],
      "execution_count": 22,
      "outputs": [
        {
          "output_type": "stream",
          "text": [
            "_________________________________________________________________\n",
            "Layer (type)                 Output Shape              Param #   \n",
            "=================================================================\n",
            "input_2 (InputLayer)         (None, 100, 100, 1)       0         \n",
            "_________________________________________________________________\n",
            "conv2d_6 (Conv2D)            (None, 100, 100, 64)      640       \n",
            "_________________________________________________________________\n",
            "conv2d_7 (Conv2D)            (None, 100, 100, 32)      18464     \n",
            "_________________________________________________________________\n",
            "conv2d_8 (Conv2D)            (None, 100, 100, 16)      4624      \n",
            "_________________________________________________________________\n",
            "conv2d_9 (Conv2D)            (None, 100, 100, 16)      2320      \n",
            "_________________________________________________________________\n",
            "conv2d_10 (Conv2D)           (None, 100, 100, 32)      4640      \n",
            "_________________________________________________________________\n",
            "conv2d_11 (Conv2D)           (None, 100, 100, 64)      18496     \n",
            "_________________________________________________________________\n",
            "conv2d_12 (Conv2D)           (None, 100, 100, 1)       577       \n",
            "=================================================================\n",
            "Total params: 49,761\n",
            "Trainable params: 49,761\n",
            "Non-trainable params: 0\n",
            "_________________________________________________________________\n",
            "Train on 1612 samples, validate on 404 samples\n",
            "Epoch 1/50\n",
            "1612/1612 [==============================] - 9s 5ms/step - loss: -7.5943 - val_loss: -9.2091\n",
            "Epoch 2/50\n",
            "1612/1612 [==============================] - 6s 4ms/step - loss: -9.6570 - val_loss: -9.2238\n",
            "Epoch 3/50\n",
            "1612/1612 [==============================] - 6s 4ms/step - loss: -9.6889 - val_loss: -9.2305\n",
            "Epoch 4/50\n",
            "1612/1612 [==============================] - 6s 4ms/step - loss: -9.7085 - val_loss: -9.2340\n",
            "Epoch 5/50\n",
            "1612/1612 [==============================] - 6s 4ms/step - loss: -9.7184 - val_loss: -9.2354\n",
            "Epoch 6/50\n",
            "1612/1612 [==============================] - 6s 4ms/step - loss: -9.7237 - val_loss: -9.2361\n",
            "Epoch 7/50\n",
            "1612/1612 [==============================] - 9s 5ms/step - loss: -9.7263 - val_loss: -9.2363\n",
            "Epoch 8/50\n",
            "1612/1612 [==============================] - 9s 6ms/step - loss: -9.7284 - val_loss: -9.2366\n",
            "Epoch 9/50\n",
            "1612/1612 [==============================] - 9s 5ms/step - loss: -9.7299 - val_loss: -9.2372\n",
            "Epoch 10/50\n",
            "1612/1612 [==============================] - 9s 5ms/step - loss: -9.7312 - val_loss: -9.2376\n",
            "Epoch 11/50\n",
            "1612/1612 [==============================] - 9s 5ms/step - loss: -9.7323 - val_loss: -9.2379\n",
            "Epoch 12/50\n",
            "1612/1612 [==============================] - 9s 5ms/step - loss: -9.7331 - val_loss: -9.2386\n",
            "Epoch 13/50\n",
            "1612/1612 [==============================] - 9s 5ms/step - loss: -9.7341 - val_loss: -9.2392\n",
            "Epoch 14/50\n",
            "1612/1612 [==============================] - 9s 5ms/step - loss: -9.7350 - val_loss: -9.2398\n",
            "Epoch 15/50\n",
            "1612/1612 [==============================] - 9s 6ms/step - loss: -9.7360 - val_loss: -9.2404\n",
            "Epoch 16/50\n",
            "1612/1612 [==============================] - 9s 6ms/step - loss: -9.7370 - val_loss: -9.2411\n",
            "Epoch 17/50\n",
            "1612/1612 [==============================] - 9s 6ms/step - loss: -9.7378 - val_loss: -9.2420\n",
            "Epoch 18/50\n",
            "1612/1612 [==============================] - 9s 6ms/step - loss: -9.7388 - val_loss: -9.2428\n",
            "Epoch 19/50\n",
            "1612/1612 [==============================] - 9s 6ms/step - loss: -9.7397 - val_loss: -9.2437\n",
            "Epoch 20/50\n",
            "1612/1612 [==============================] - 9s 5ms/step - loss: -9.7407 - val_loss: -9.2446\n",
            "Epoch 21/50\n",
            "1612/1612 [==============================] - 9s 6ms/step - loss: -9.7416 - val_loss: -9.2453\n",
            "Epoch 22/50\n",
            "1612/1612 [==============================] - 9s 6ms/step - loss: -9.7426 - val_loss: -9.2463\n",
            "Epoch 23/50\n",
            "1612/1612 [==============================] - 9s 6ms/step - loss: -9.7434 - val_loss: -9.2471\n",
            "Epoch 24/50\n",
            "1612/1612 [==============================] - 8s 5ms/step - loss: -9.7444 - val_loss: -9.2479\n",
            "Epoch 25/50\n",
            "1612/1612 [==============================] - 8s 5ms/step - loss: -9.7454 - val_loss: -9.2489\n",
            "Epoch 26/50\n",
            "1612/1612 [==============================] - 9s 6ms/step - loss: -9.7464 - val_loss: -9.2499\n",
            "Epoch 27/50\n",
            "1612/1612 [==============================] - 9s 6ms/step - loss: -9.7474 - val_loss: -9.2510\n",
            "Epoch 28/50\n",
            "1612/1612 [==============================] - 9s 6ms/step - loss: -9.7484 - val_loss: -9.2518\n",
            "Epoch 29/50\n",
            "1612/1612 [==============================] - 9s 6ms/step - loss: -9.7493 - val_loss: -9.2528\n",
            "Epoch 30/50\n",
            "1612/1612 [==============================] - 9s 6ms/step - loss: -9.7504 - val_loss: -9.2536\n",
            "Epoch 31/50\n",
            "1612/1612 [==============================] - 9s 6ms/step - loss: -9.7514 - val_loss: -9.2547\n",
            "Epoch 32/50\n",
            "1612/1612 [==============================] - 9s 6ms/step - loss: -9.7524 - val_loss: -9.2556\n",
            "Epoch 33/50\n",
            "1612/1612 [==============================] - 9s 6ms/step - loss: -9.7534 - val_loss: -9.2565\n",
            "Epoch 34/50\n",
            "1612/1612 [==============================] - 9s 6ms/step - loss: -9.7545 - val_loss: -9.2576\n",
            "Epoch 35/50\n",
            "1612/1612 [==============================] - 9s 6ms/step - loss: -9.7556 - val_loss: -9.2585\n",
            "Epoch 36/50\n",
            "1612/1612 [==============================] - 9s 6ms/step - loss: -9.7567 - val_loss: -9.2596\n",
            "Epoch 37/50\n",
            "1612/1612 [==============================] - 9s 6ms/step - loss: -9.7577 - val_loss: -9.2607\n",
            "Epoch 38/50\n",
            "1612/1612 [==============================] - 9s 6ms/step - loss: -9.7587 - val_loss: -9.2612\n",
            "Epoch 39/50\n",
            "1612/1612 [==============================] - 9s 6ms/step - loss: -9.7596 - val_loss: -9.2624\n",
            "Epoch 40/50\n",
            "1612/1612 [==============================] - 9s 6ms/step - loss: -9.7608 - val_loss: -9.2632\n",
            "Epoch 41/50\n",
            "1612/1612 [==============================] - 9s 6ms/step - loss: -9.7617 - val_loss: -9.2642\n",
            "Epoch 42/50\n",
            "1612/1612 [==============================] - 9s 6ms/step - loss: -9.7628 - val_loss: -9.2651\n",
            "Epoch 43/50\n",
            "1612/1612 [==============================] - 7s 5ms/step - loss: -9.7640 - val_loss: -9.2662\n",
            "Epoch 44/50\n",
            "1612/1612 [==============================] - 9s 5ms/step - loss: -9.7651 - val_loss: -9.2671\n",
            "Epoch 45/50\n",
            "1612/1612 [==============================] - 9s 6ms/step - loss: -9.7663 - val_loss: -9.2679\n",
            "Epoch 46/50\n",
            "1612/1612 [==============================] - 9s 6ms/step - loss: -9.7674 - val_loss: -9.2693\n",
            "Epoch 47/50\n",
            "1612/1612 [==============================] - 9s 6ms/step - loss: -9.7686 - val_loss: -9.2705\n",
            "Epoch 48/50\n",
            "1612/1612 [==============================] - 9s 6ms/step - loss: -9.7700 - val_loss: -9.2717\n",
            "Epoch 49/50\n",
            "1612/1612 [==============================] - 9s 6ms/step - loss: -9.7713 - val_loss: -9.2729\n",
            "Epoch 50/50\n",
            "1612/1612 [==============================] - 9s 6ms/step - loss: -9.7725 - val_loss: -9.2742\n"
          ],
          "name": "stdout"
        },
        {
          "output_type": "display_data",
          "data": {
            "image/png": "[encoded data removed]",
            "text/plain": [
              "<Figure size 432x288 with 1 Axes>"
            ]
          },
          "metadata": {
            "tags": []
          }
        },
        {
          "output_type": "display_data",
          "data": {
            "image/png": "[encoded data removed]",
            "text/plain": [
              "<Figure size 1440x288 with 20 Axes>"
            ]
          },
          "metadata": {
            "tags": []
          }
        }
      ]
    },
    {
      "cell_type": "code",
      "metadata": {
        "id": "qX_NauPVYMaD",
        "colab_type": "code",
        "colab": {}
      },
      "source": [
        ""
      ],
      "execution_count": 0,
      "outputs": []
    }
  ]
}