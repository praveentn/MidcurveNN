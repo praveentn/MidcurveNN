{
  "nbformat": 4,
  "nbformat_minor": 0,
  "metadata": {
    "kernelspec": {
      "name": "python3",
      "display_name": "Python 3"
    },
    "language_info": {
      "codemirror_mode": {
        "name": "ipython",
        "version": 3
      },
      "file_extension": ".py",
      "mimetype": "text/x-python",
      "name": "python",
      "nbconvert_exporter": "python",
      "pygments_lexer": "ipython3",
      "version": "3.7.4"
    },
    "colab": {
      "name": "notebook_cnn_autoencoder_7.ipynb",
      "version": "0.3.2",
      "provenance": [],
      "collapsed_sections": [],
      "toc_visible": true,
      "include_colab_link": true
    },
    "accelerator": "GPU"
  },
  "cells": [
    {
      "cell_type": "markdown",
      "metadata": {
        "id": "view-in-github",
        "colab_type": "text"
      },
      "source": [
        "<a href=\"https://colab.research.google.com/github/praveentn/MidcurveNN/blob/master/notebook_cnn_autoencoder_7.ipynb\" target=\"_parent\"><img src=\"https://colab.research.google.com/assets/colab-badge.svg\" alt=\"Open In Colab\"/></a>"
      ]
    },
    {
      "cell_type": "markdown",
      "metadata": {
        "id": "IQVJL5mHwPrl",
        "colab_type": "text"
      },
      "source": [
        "# CNN ENC-DEC"
      ]
    },
    {
      "cell_type": "code",
      "metadata": {
        "id": "Ob9aBehW-wcd",
        "colab_type": "code",
        "colab": {}
      },
      "source": [
        ""
      ],
      "execution_count": 0,
      "outputs": []
    },
    {
      "cell_type": "code",
      "metadata": {
        "id": "AxYRQhxBxAbv",
        "colab_type": "code",
        "outputId": "5512c6b1-d972-4f76-a54d-e2090721b5be",
        "colab": {
          "base_uri": "https://localhost:8080/",
          "height": 68
        }
      },
      "source": [
        "# mount google drive & set working directory\n",
        "# requires auth (click on url & copy token into text box when prompted)\n",
        "from google.colab import drive\n",
        "drive.mount(\"/content/gdrive\")\n",
        "\n",
        "import os\n",
        "print(os.getcwd())\n",
        "\n",
        "os.chdir('/content/gdrive/My Drive/Colab Notebooks/MidcurveNN')\n",
        "!pwd"
      ],
      "execution_count": 1,
      "outputs": [
        {
          "output_type": "stream",
          "text": [
            "Drive already mounted at /content/gdrive; to attempt to forcibly remount, call drive.mount(\"/content/gdrive\", force_remount=True).\n",
            "/content\n",
            "/content/gdrive/My Drive/Colab Notebooks/MidcurveNN\n"
          ],
          "name": "stdout"
        }
      ]
    },
    {
      "cell_type": "code",
      "metadata": {
        "id": "rDHgEuJBwPrm",
        "colab_type": "code",
        "colab": {
          "base_uri": "https://localhost:8080/",
          "height": 34
        },
        "outputId": "8b61f287-e08d-4cd7-9488-310e845fb3a2"
      },
      "source": [
        "from __future__ import absolute_import, division, print_function, unicode_literals\n",
        "\n",
        "# !pip install tensorflow-gpu==2.0.0-alpha0\n",
        "import tensorflow as tf\n",
        "\n",
        "import os\n",
        "import time\n",
        "import matplotlib.pyplot as plt\n",
        "from IPython.display import clear_output\n",
        "import os\n",
        "\n",
        "from keras.layers import Input, Dense\n",
        "from keras.models import Model\n",
        "from keras import regularizers, optimizers\n",
        "from keras.optimizers import Adam, SGD, RMSprop\n",
        "from keras.callbacks import EarlyStopping\n",
        "from keras.optimizers import Adam,RMSprop,SGD\n",
        "from keras.models import Model, Sequential\n",
        "from keras.layers import Input, Dense, Conv2D, MaxPooling2D, UpSampling2D, Flatten, Reshape\n",
        "from keras import regularizers\n",
        "from keras.layers.normalization import BatchNormalization\n",
        "from keras.layers import Conv2D, MaxPooling2D, Dense, Dropout, Input, Flatten,AveragePooling2D,UpSampling2D\n",
        "from keras.preprocessing.image import img_to_array, load_img\n",
        "from sklearn.model_selection import train_test_split\n",
        "from random import shuffle\n",
        "import PIL\n",
        "import json\n",
        "import numpy as np\n",
        "import sys\n",
        "np.set_printoptions(threshold=sys.maxsize)\n",
        "import matplotlib.pyplot as plt\n",
        "import matplotlib\n",
        "# matplotlib.use('TKAgg')\n",
        "%matplotlib inline"
      ],
      "execution_count": 2,
      "outputs": [
        {
          "output_type": "stream",
          "text": [
            "Using TensorFlow backend.\n"
          ],
          "name": "stderr"
        }
      ]
    },
    {
      "cell_type": "code",
      "metadata": {
        "id": "evVd6EPUwPrs",
        "colab_type": "code",
        "outputId": "130e9852-a50a-41b8-be9a-8671acd3a634",
        "colab": {
          "base_uri": "https://localhost:8080/",
          "height": 34
        }
      },
      "source": [
        "# working directory\n",
        "wdir = os.getcwd()\n",
        "wdir"
      ],
      "execution_count": 3,
      "outputs": [
        {
          "output_type": "execute_result",
          "data": {
            "text/plain": [
              "'/content/gdrive/My Drive/Colab Notebooks/MidcurveNN'"
            ]
          },
          "metadata": {
            "tags": []
          },
          "execution_count": 3
        }
      ]
    },
    {
      "cell_type": "code",
      "metadata": {
        "id": "UxFdYYywwPrx",
        "colab_type": "code",
        "outputId": "f0454dfd-ae5c-4137-9f65-20e5e2a9467d",
        "colab": {
          "base_uri": "https://localhost:8080/",
          "height": 34
        }
      },
      "source": [
        "# _URL = 'https://drive.google.com/uc?export=download&id=16rqDFLO__WySSQGlAht0FEj2uJZg4M9M'\n",
        "\n",
        "# path_to_zip = tf.keras.utils.get_file('input.zip',\n",
        "#                                       origin=_URL,\n",
        "#                                       extract=True)\n",
        "\n",
        "# input_data_folder = os.path.join(os.path.dirname(path_to_zip), 'input')\n",
        "input_data_folder = wdir + \"/data/input\"\n",
        "input_data_folder = wdir + \"/data/images\"\n",
        "print(\"input data dir: \", input_data_folder)"
      ],
      "execution_count": 5,
      "outputs": [
        {
          "output_type": "stream",
          "text": [
            "input data dir:  /content/gdrive/My Drive/Colab Notebooks/MidcurveNN/data/images\n"
          ],
          "name": "stdout"
        }
      ]
    },
    {
      "cell_type": "code",
      "metadata": {
        "id": "geTVDZfzPY-u",
        "colab_type": "code",
        "outputId": "c48cd276-b326-4992-9b0b-ec66d6c62fdc",
        "colab": {
          "base_uri": "https://localhost:8080/",
          "height": 51
        }
      },
      "source": [
        "import glob\n",
        "\n",
        "image_paths = glob.glob(input_data_folder + '/**/*.png', recursive=True)\n",
        "images = [os.path.basename(img_path) for img_path in image_paths]\n",
        "\n",
        "print(len(images))\n",
        "\n",
        "#images = os.listdir(input_data_folder)\n",
        "images[99]"
      ],
      "execution_count": 6,
      "outputs": [
        {
          "output_type": "stream",
          "text": [
            "2912\n"
          ],
          "name": "stdout"
        },
        {
          "output_type": "execute_result",
          "data": {
            "text/plain": [
              "'CapI_Midcurve_mirrored_0_translated_10_-20.png'"
            ]
          },
          "metadata": {
            "tags": []
          },
          "execution_count": 6
        }
      ]
    },
    {
      "cell_type": "code",
      "metadata": {
        "id": "oNZW79Q1URmJ",
        "colab_type": "code",
        "colab": {}
      },
      "source": [
        "# image dimension\n",
        "imdim = 100"
      ],
      "execution_count": 0,
      "outputs": []
    },
    {
      "cell_type": "code",
      "metadata": {
        "id": "RjdmJfpRwPr0",
        "colab_type": "code",
        "colab": {}
      },
      "source": [
        "def read_input_image_pairs(datafolder=input_data_folder):\n",
        "    profile_pngs = []\n",
        "    midcurve_pngs = []\n",
        "    for file in os.listdir(datafolder):\n",
        "        fullpath = os.path.join(datafolder, file)\n",
        "        if os.path.isdir(fullpath):\n",
        "            continue\n",
        "        if file.endswith(\".png\"):\n",
        "            if file.find(\"Profile\") != -1:\n",
        "                profile_pngs.append(fullpath)\n",
        "            if file.find(\"Midcurve\") != -1:\n",
        "                midcurve_pngs.append(fullpath)\n",
        "    profile_pngs = sorted(profile_pngs)\n",
        "    midcurve_pngs = sorted(midcurve_pngs)\n",
        "    return profile_pngs,midcurve_pngs"
      ],
      "execution_count": 0,
      "outputs": []
    },
    {
      "cell_type": "code",
      "metadata": {
        "id": "Rim24hWkwPr3",
        "colab_type": "code",
        "colab": {}
      },
      "source": [
        "def get_training_data(datafolder=input_data_folder):\n",
        "    profile_pngs,midcurve_pngs = read_input_image_pairs(datafolder)\n",
        "    \n",
        "    profile_pngs_objs = [img_to_array(load_img(f, color_mode='rgba', target_size=(imdim, imdim))) for f in profile_pngs ]\n",
        "    midcurve_pngs_objs = [img_to_array(load_img(f, color_mode='rgba', target_size=(imdim, imdim))) for f in midcurve_pngs]\n",
        "\n",
        "#     profile_pngs_objs = np.array([x.reshape((1,) + x.shape) for x in profile_pngs_objs])\n",
        "#     midcurve_pngs_objs = np.array([x.reshape((1,) + x.shape) for x in midcurve_pngs_objs])\n",
        "\n",
        "    profile_pngs_gray_objs = [x[:,:,3] for x in profile_pngs_objs]\n",
        "    midcurve_pngs_gray_objs =[x[:,:,3] for x in midcurve_pngs_objs]\n",
        "    \n",
        "#     profile_pngs_gray_objs = [np.where(x>128, 0, 1) for x in profile_pngs_gray_objs]\n",
        "#     midcurve_pngs_gray_objs =[np.where(x>128, 0, 1) for x in midcurve_pngs_gray_objs]\n",
        "        \n",
        "    # shufle them\n",
        "    zipped_profiles_midcurves = [(p,m) for p,m in zip(profile_pngs_gray_objs,midcurve_pngs_gray_objs)]\n",
        "    shuffle(zipped_profiles_midcurves)\n",
        "    profile_pngs_gray_objs, midcurve_pngs_gray_objs = zip(*zipped_profiles_midcurves)\n",
        "    \n",
        "    return profile_pngs_gray_objs, midcurve_pngs_gray_objs"
      ],
      "execution_count": 0,
      "outputs": []
    },
    {
      "cell_type": "code",
      "metadata": {
        "id": "EEfyWOYCiYxD",
        "colab_type": "code",
        "colab": {
          "base_uri": "https://localhost:8080/",
          "height": 238
        },
        "outputId": "2ea9306c-0cfe-42b3-ab80-0493e51356a1"
      },
      "source": [
        "shapes = os.listdir('/content/gdrive/My Drive/Colab Notebooks/MidcurveNN/data/images')\n",
        "shapes"
      ],
      "execution_count": 10,
      "outputs": [
        {
          "output_type": "execute_result",
          "data": {
            "text/plain": [
              "['CapI',\n",
              " 'Plus',\n",
              " 'Iuvw',\n",
              " 'Luvw',\n",
              " 'SqLu',\n",
              " 'Tuvw',\n",
              " 'Vuvw',\n",
              " 'Sm_n',\n",
              " 'InvV',\n",
              " 'Parl',\n",
              " 'Trap',\n",
              " 'Stik',\n",
              " 'Usla']"
            ]
          },
          "metadata": {
            "tags": []
          },
          "execution_count": 10
        }
      ]
    },
    {
      "cell_type": "code",
      "metadata": {
        "id": "GP3POQEVtlck",
        "colab_type": "code",
        "outputId": "43f034d9-b853-4d17-f3e8-b9778bb30d11",
        "colab": {
          "base_uri": "https://localhost:8080/",
          "height": 459
        }
      },
      "source": [
        "profile_pngs_objs = ()\n",
        "midcurve_pngs_objs = ()\n",
        "\n",
        "for shape in shapes:\n",
        "    print(shape)\n",
        "    tp, tm = get_training_data(os.path.join(input_data_folder, shape))\n",
        "    profile_pngs_objs += tp\n",
        "    midcurve_pngs_objs += tm\n",
        "    print(len(profile_pngs_objs), len(midcurve_pngs_objs))"
      ],
      "execution_count": 11,
      "outputs": [
        {
          "output_type": "stream",
          "text": [
            "CapI\n",
            "112 112\n",
            "Plus\n",
            "224 224\n",
            "Iuvw\n",
            "336 336\n",
            "Luvw\n",
            "448 448\n",
            "SqLu\n",
            "560 560\n",
            "Tuvw\n",
            "672 672\n",
            "Vuvw\n",
            "784 784\n",
            "Sm_n\n",
            "896 896\n",
            "InvV\n",
            "1008 1008\n",
            "Parl\n",
            "1120 1120\n",
            "Trap\n",
            "1232 1232\n",
            "Stik\n",
            "1344 1344\n",
            "Usla\n",
            "1456 1456\n"
          ],
          "name": "stdout"
        }
      ]
    },
    {
      "cell_type": "code",
      "metadata": {
        "id": "lea0l6OoSS9X",
        "colab_type": "code",
        "outputId": "ad16bd7a-affe-427a-82f4-e01f7dd704b3",
        "colab": {
          "base_uri": "https://localhost:8080/",
          "height": 34
        }
      },
      "source": [
        "len(profile_pngs_objs)"
      ],
      "execution_count": 12,
      "outputs": [
        {
          "output_type": "execute_result",
          "data": {
            "text/plain": [
              "1456"
            ]
          },
          "metadata": {
            "tags": []
          },
          "execution_count": 12
        }
      ]
    },
    {
      "cell_type": "code",
      "metadata": {
        "id": "9f9N734PSXGH",
        "colab_type": "code",
        "outputId": "cc54f930-2f8a-4668-843a-be23a0eae6d7",
        "colab": {
          "base_uri": "https://localhost:8080/",
          "height": 34
        }
      },
      "source": [
        "profile_pngs_objs[0].shape"
      ],
      "execution_count": 13,
      "outputs": [
        {
          "output_type": "execute_result",
          "data": {
            "text/plain": [
              "(100, 100)"
            ]
          },
          "metadata": {
            "tags": []
          },
          "execution_count": 13
        }
      ]
    },
    {
      "cell_type": "code",
      "metadata": {
        "id": "3CON1HkAtWxn",
        "colab_type": "code",
        "outputId": "56d0bc66-3aa9-491b-9966-39825d8b1701",
        "colab": {
          "base_uri": "https://localhost:8080/",
          "height": 34
        }
      },
      "source": [
        "type(midcurve_pngs_objs)"
      ],
      "execution_count": 14,
      "outputs": [
        {
          "output_type": "execute_result",
          "data": {
            "text/plain": [
              "tuple"
            ]
          },
          "metadata": {
            "tags": []
          },
          "execution_count": 14
        }
      ]
    },
    {
      "cell_type": "code",
      "metadata": {
        "id": "IGcijScSwPr8",
        "colab_type": "code",
        "colab": {}
      },
      "source": [
        "def plot_results(original_imgs,computed_imgs,n=10):\n",
        "    # n = 10  # how many digits we will display\n",
        "    plt.figure(figsize=(20, 4))\n",
        "    for i in range(n):\n",
        "        # display original\n",
        "        ax = plt.subplot(2, n, i + 1)\n",
        "        plt.imshow(original_imgs[i].reshape(imdim, imdim),cmap='gray_r')\n",
        "#         plt.gray()\n",
        "        ax.get_xaxis().set_visible(False)\n",
        "        ax.get_yaxis().set_visible(False)\n",
        "    \n",
        "        # display reconstruction\n",
        "        ax = plt.subplot(2, n, i + 1 + n)\n",
        "        plt.imshow(computed_imgs[i].reshape(imdim, imdim),cmap='gray_r')\n",
        "#         plt.gray()\n",
        "        ax.get_xaxis().set_visible(False)\n",
        "        ax.get_yaxis().set_visible(False)\n",
        "    plt.show()"
      ],
      "execution_count": 0,
      "outputs": []
    },
    {
      "cell_type": "code",
      "metadata": {
        "id": "YkMvqA_swPr_",
        "colab_type": "code",
        "outputId": "3058d063-2ff1-4934-a45f-2d026010d226",
        "colab": {
          "base_uri": "https://localhost:8080/",
          "height": 244
        }
      },
      "source": [
        "plot_results(profile_pngs_objs[830:850],midcurve_pngs_objs[830:850])"
      ],
      "execution_count": 16,
      "outputs": [
        {
          "output_type": "display_data",
          "data": {
            "image/png": "[encoded data removed]",
            "text/plain": [
              "<Figure size 1440x288 with 20 Axes>"
            ]
          },
          "metadata": {
            "tags": []
          }
        }
      ]
    },
    {
      "cell_type": "code",
      "metadata": {
        "id": "KeLJMAIbwPsD",
        "colab_type": "code",
        "colab": {}
      },
      "source": [
        "def get_train_test_split(profile_pngs_gray_objs, midcurve_pngs_gray_objs, encoding_dim=imdim, input_dim=imdim):\n",
        "\n",
        "    # Training\n",
        "    profile_pngs_flat_objs = [x.reshape(input_dim,input_dim,1) for x in profile_pngs_gray_objs]\n",
        "    midcurve_pngs_flat_objs = [x.reshape(input_dim,input_dim,1) for x in midcurve_pngs_gray_objs]\n",
        "    \n",
        "    profile_pngs_objs = np.array(profile_pngs_flat_objs)\n",
        "    midcurve_pngs_objs= np.array(midcurve_pngs_flat_objs)\n",
        "    \n",
        "    '''\n",
        "    train_size = int(len(profile_pngs_objs)*0.7)\n",
        "    x_train = profile_pngs_objs[:train_size]\n",
        "    y_train = midcurve_pngs_objs[:train_size]\n",
        "    x_test = profile_pngs_objs[train_size:]\n",
        "    y_test = midcurve_pngs_objs[train_size:]\n",
        "    '''\n",
        "    x_train, x_test, y_train, y_test = train_test_split(profile_pngs_objs, midcurve_pngs_objs, \n",
        "                                                        test_size=0.2, random_state=37)\n",
        "    return x_train, x_test, y_train, y_test"
      ],
      "execution_count": 0,
      "outputs": []
    },
    {
      "cell_type": "code",
      "metadata": {
        "id": "CsHrNT43wPsG",
        "colab_type": "code",
        "outputId": "c06f7e64-78a3-49ee-d778-a5b770e1a60b",
        "colab": {
          "base_uri": "https://localhost:8080/",
          "height": 34
        }
      },
      "source": [
        "x_train, x_test, y_train, y_test = get_train_test_split(profile_pngs_objs, midcurve_pngs_objs)\n",
        "\n",
        "print((len(x_train), len(y_train)), (len(x_test), len(y_test)))"
      ],
      "execution_count": 18,
      "outputs": [
        {
          "output_type": "stream",
          "text": [
            "(1164, 1164) (292, 292)\n"
          ],
          "name": "stdout"
        }
      ]
    },
    {
      "cell_type": "markdown",
      "metadata": {
        "id": "cMg0OhMXwPsJ",
        "colab_type": "text"
      },
      "source": [
        "### Auto-encoder"
      ]
    },
    {
      "cell_type": "code",
      "metadata": {
        "id": "ivMYJu7jdhdG",
        "colab_type": "code",
        "colab": {}
      },
      "source": [
        "class Autoencoder():\n",
        "    def __init__(self):\n",
        "        self.img_rows = imdim\n",
        "        self.img_cols = imdim\n",
        "        self.channels = 1\n",
        "        self.img_shape = (self.img_rows, self.img_cols, self.channels)\n",
        "        \n",
        "        #optimizer = Adam(lr=0.0005)\n",
        "        optimizer = SGD(lr=0.0002, decay=0.0001, nesterov=True)\n",
        "        \n",
        "        self.autoencoder_model = self.build_model()\n",
        "        self.autoencoder_model.compile(loss='binary_crossentropy', optimizer=optimizer)\n",
        "        self.autoencoder_model.summary()\n",
        "    \n",
        "    def build_model(self):\n",
        "        input_layer = Input(shape=self.img_shape)\n",
        "        \n",
        "        # encoder\n",
        "        h = Conv2D(64, (3, 3), activation='relu', padding='same')(input_layer)\n",
        "        h = MaxPooling2D((2, 2), padding='same')(h)\n",
        "        h = Conv2D(32, (3, 3), activation='relu', padding='same')(h)\n",
        "        h = MaxPooling2D((2, 2), padding='same')(h)\n",
        "        \n",
        "        # decoder\n",
        "        h = Conv2D(32, (3, 3), activation='relu', padding='same')(h)\n",
        "        h = UpSampling2D((2, 2))(h)\n",
        "        h = Conv2D(64, (3, 3), activation='relu', padding='same')(h)\n",
        "        h = UpSampling2D((2, 2))(h)\n",
        "        output_layer = Conv2D(1, (3, 3), activation='sigmoid', padding='same')(h)\n",
        "        \n",
        "        return Model(input_layer, output_layer)\n",
        "    \n",
        "    def train_model(self, x_train, y_train, x_val, y_val, epochs, batch_size=20):\n",
        "        early_stopping = EarlyStopping(monitor='val_loss',\n",
        "                                       min_delta=0,\n",
        "                                       patience=5,\n",
        "                                       verbose=1, \n",
        "                                       mode='auto')\n",
        "        history = self.autoencoder_model.fit(x_train, y_train,\n",
        "                                             batch_size=batch_size,\n",
        "                                             epochs=epochs,\n",
        "                                             validation_data=(x_val, y_val),\n",
        "                                             callbacks=[early_stopping])\n",
        "        plt.plot(history.history['loss'])\n",
        "        plt.plot(history.history['val_loss'])\n",
        "        plt.title('Model loss')\n",
        "        plt.ylabel('Loss')\n",
        "        plt.xlabel('Epoch')\n",
        "        plt.legend(['Train', 'Test'], loc='upper left')\n",
        "        plt.show()\n",
        "    \n",
        "    def eval_model(self, x_test):\n",
        "        preds = self.autoencoder_model.predict(x_test)\n",
        "        return preds"
      ],
      "execution_count": 0,
      "outputs": []
    },
    {
      "cell_type": "code",
      "metadata": {
        "id": "Bnh4YqW9izZi",
        "colab_type": "code",
        "colab": {
          "base_uri": "https://localhost:8080/",
          "height": 1000
        },
        "outputId": "cd6caf4b-a61b-461f-a1e2-2eaafe34d2a6"
      },
      "source": [
        "ae = Autoencoder()\n",
        "ae.train_model(x_train, y_train, x_test, y_test, epochs=50, batch_size=50)\n",
        "\n",
        "encoded_imgs = ae.eval_model(x_test)\n",
        "decoded_imgs = ae.eval_model(encoded_imgs)\n",
        "\n",
        "plot_results(x_test, decoded_imgs)"
      ],
      "execution_count": 27,
      "outputs": [
        {
          "output_type": "stream",
          "text": [
            "_________________________________________________________________\n",
            "Layer (type)                 Output Shape              Param #   \n",
            "=================================================================\n",
            "input_3 (InputLayer)         (None, 100, 100, 1)       0         \n",
            "_________________________________________________________________\n",
            "conv2d_12 (Conv2D)           (None, 100, 100, 64)      640       \n",
            "_________________________________________________________________\n",
            "max_pooling2d_5 (MaxPooling2 (None, 50, 50, 64)        0         \n",
            "_________________________________________________________________\n",
            "conv2d_13 (Conv2D)           (None, 50, 50, 32)        18464     \n",
            "_________________________________________________________________\n",
            "max_pooling2d_6 (MaxPooling2 (None, 25, 25, 32)        0         \n",
            "_________________________________________________________________\n",
            "conv2d_14 (Conv2D)           (None, 25, 25, 32)        9248      \n",
            "_________________________________________________________________\n",
            "up_sampling2d_5 (UpSampling2 (None, 50, 50, 32)        0         \n",
            "_________________________________________________________________\n",
            "conv2d_15 (Conv2D)           (None, 50, 50, 64)        18496     \n",
            "_________________________________________________________________\n",
            "up_sampling2d_6 (UpSampling2 (None, 100, 100, 64)      0         \n",
            "_________________________________________________________________\n",
            "conv2d_16 (Conv2D)           (None, 100, 100, 1)       577       \n",
            "=================================================================\n",
            "Total params: 47,425\n",
            "Trainable params: 47,425\n",
            "Non-trainable params: 0\n",
            "_________________________________________________________________\n",
            "Train on 1164 samples, validate on 292 samples\n",
            "Epoch 1/50\n",
            "1164/1164 [==============================] - 2s 2ms/step - loss: -8.9646 - val_loss: -10.1043\n",
            "Epoch 2/50\n",
            "1164/1164 [==============================] - 2s 1ms/step - loss: -11.1160 - val_loss: -10.1281\n",
            "Epoch 3/50\n",
            "1164/1164 [==============================] - 2s 1ms/step - loss: -11.1337 - val_loss: -10.1431\n",
            "Epoch 4/50\n",
            "1164/1164 [==============================] - 2s 2ms/step - loss: -11.1523 - val_loss: -10.1581\n",
            "Epoch 5/50\n",
            "1164/1164 [==============================] - 2s 1ms/step - loss: -11.1690 - val_loss: -10.1723\n",
            "Epoch 6/50\n",
            "1164/1164 [==============================] - 2s 2ms/step - loss: -11.1869 - val_loss: -10.1862\n",
            "Epoch 7/50\n",
            "1164/1164 [==============================] - 2s 1ms/step - loss: -11.2022 - val_loss: -10.1979\n",
            "Epoch 8/50\n",
            "1164/1164 [==============================] - 2s 2ms/step - loss: -11.2188 - val_loss: -10.2137\n",
            "Epoch 9/50\n",
            "1164/1164 [==============================] - 2s 1ms/step - loss: -11.2327 - val_loss: -10.2282\n",
            "Epoch 10/50\n",
            "1164/1164 [==============================] - 1s 905us/step - loss: -11.2452 - val_loss: -10.2374\n",
            "Epoch 11/50\n",
            "1164/1164 [==============================] - 1s 1ms/step - loss: -11.2613 - val_loss: -10.2510\n",
            "Epoch 12/50\n",
            "1164/1164 [==============================] - 2s 2ms/step - loss: -11.2728 - val_loss: -10.2640\n",
            "Epoch 13/50\n",
            "1164/1164 [==============================] - 2s 1ms/step - loss: -11.2851 - val_loss: -10.2760\n",
            "Epoch 14/50\n",
            "1164/1164 [==============================] - 2s 2ms/step - loss: -11.2970 - val_loss: -10.2890\n",
            "Epoch 15/50\n",
            "1164/1164 [==============================] - 2s 1ms/step - loss: -11.3083 - val_loss: -10.2993\n",
            "Epoch 16/50\n",
            "1164/1164 [==============================] - 2s 1ms/step - loss: -11.3205 - val_loss: -10.3124\n",
            "Epoch 17/50\n",
            "1164/1164 [==============================] - 2s 1ms/step - loss: -11.3318 - val_loss: -10.3253\n",
            "Epoch 18/50\n",
            "1164/1164 [==============================] - 2s 2ms/step - loss: -11.3430 - val_loss: -10.3393\n",
            "Epoch 19/50\n",
            "1164/1164 [==============================] - 2s 2ms/step - loss: -11.3539 - val_loss: -10.3519\n",
            "Epoch 20/50\n",
            "1164/1164 [==============================] - 2s 2ms/step - loss: -11.3654 - val_loss: -10.3657\n",
            "Epoch 21/50\n",
            "1164/1164 [==============================] - 2s 2ms/step - loss: -11.3769 - val_loss: -10.3771\n",
            "Epoch 22/50\n",
            "1164/1164 [==============================] - 2s 1ms/step - loss: -11.3880 - val_loss: -10.3882\n",
            "Epoch 23/50\n",
            "1164/1164 [==============================] - 2s 2ms/step - loss: -11.3991 - val_loss: -10.4035\n",
            "Epoch 24/50\n",
            "1164/1164 [==============================] - 2s 1ms/step - loss: -11.4104 - val_loss: -10.4160\n",
            "Epoch 25/50\n",
            "1164/1164 [==============================] - 2s 1ms/step - loss: -11.4219 - val_loss: -10.4329\n",
            "Epoch 26/50\n",
            "1164/1164 [==============================] - 2s 1ms/step - loss: -11.4331 - val_loss: -10.4469\n",
            "Epoch 27/50\n",
            "1164/1164 [==============================] - 2s 2ms/step - loss: -11.4449 - val_loss: -10.4614\n",
            "Epoch 28/50\n",
            "1164/1164 [==============================] - 2s 2ms/step - loss: -11.4557 - val_loss: -10.4741\n",
            "Epoch 29/50\n",
            "1164/1164 [==============================] - 2s 2ms/step - loss: -11.4679 - val_loss: -10.4885\n",
            "Epoch 30/50\n",
            "1164/1164 [==============================] - 2s 2ms/step - loss: -11.4796 - val_loss: -10.5052\n",
            "Epoch 31/50\n",
            "1164/1164 [==============================] - 2s 2ms/step - loss: -11.4907 - val_loss: -10.5186\n",
            "Epoch 32/50\n",
            "1164/1164 [==============================] - 2s 1ms/step - loss: -11.5031 - val_loss: -10.5360\n",
            "Epoch 33/50\n",
            "1164/1164 [==============================] - 2s 1ms/step - loss: -11.5143 - val_loss: -10.5531\n",
            "Epoch 34/50\n",
            "1164/1164 [==============================] - 2s 2ms/step - loss: -11.5259 - val_loss: -10.5680\n",
            "Epoch 35/50\n",
            "1164/1164 [==============================] - 2s 2ms/step - loss: -11.5391 - val_loss: -10.5810\n",
            "Epoch 36/50\n",
            "1164/1164 [==============================] - 2s 2ms/step - loss: -11.5522 - val_loss: -10.5999\n",
            "Epoch 37/50\n",
            "1164/1164 [==============================] - 2s 1ms/step - loss: -11.5641 - val_loss: -10.6198\n",
            "Epoch 38/50\n",
            "1164/1164 [==============================] - 2s 2ms/step - loss: -11.5765 - val_loss: -10.6352\n",
            "Epoch 39/50\n",
            "1164/1164 [==============================] - 2s 1ms/step - loss: -11.5904 - val_loss: -10.6539\n",
            "Epoch 40/50\n",
            "1164/1164 [==============================] - 1s 1ms/step - loss: -11.6029 - val_loss: -10.6756\n",
            "Epoch 41/50\n",
            "1164/1164 [==============================] - 1s 918us/step - loss: -11.6179 - val_loss: -10.6997\n",
            "Epoch 42/50\n",
            "1164/1164 [==============================] - 2s 1ms/step - loss: -11.6317 - val_loss: -10.7166\n",
            "Epoch 43/50\n",
            "1164/1164 [==============================] - 2s 2ms/step - loss: -11.6471 - val_loss: -10.7368\n",
            "Epoch 44/50\n",
            "1164/1164 [==============================] - 2s 2ms/step - loss: -11.6617 - val_loss: -10.7563\n",
            "Epoch 45/50\n",
            "1164/1164 [==============================] - 2s 2ms/step - loss: -11.6768 - val_loss: -10.7807\n",
            "Epoch 46/50\n",
            "1164/1164 [==============================] - 2s 2ms/step - loss: -11.6934 - val_loss: -10.8154\n",
            "Epoch 47/50\n",
            "1164/1164 [==============================] - 2s 1ms/step - loss: -11.7082 - val_loss: -10.8380\n",
            "Epoch 48/50\n",
            "1164/1164 [==============================] - 2s 2ms/step - loss: -11.7260 - val_loss: -10.8573\n",
            "Epoch 49/50\n",
            "1164/1164 [==============================] - 2s 2ms/step - loss: -11.7434 - val_loss: -10.8898\n",
            "Epoch 50/50\n",
            "1164/1164 [==============================] - 2s 2ms/step - loss: -11.7599 - val_loss: -10.9115\n"
          ],
          "name": "stdout"
        },
        {
          "output_type": "display_data",
          "data": {
            "image/png": "[encoded data removed]",
            "text/plain": [
              "<Figure size 432x288 with 1 Axes>"
            ]
          },
          "metadata": {
            "tags": []
          }
        },
        {
          "output_type": "display_data",
          "data": {
            "image/png": "[encoded data removed]",
            "text/plain": [
              "<Figure size 1440x288 with 20 Axes>"
            ]
          },
          "metadata": {
            "tags": []
          }
        }
      ]
    },
    {
      "cell_type": "code",
      "metadata": {
        "id": "Nwfr5Y9Yizi5",
        "colab_type": "code",
        "colab": {}
      },
      "source": [
        ""
      ],
      "execution_count": 0,
      "outputs": []
    },
    {
      "cell_type": "code",
      "metadata": {
        "id": "FnGlEsrp5G9_",
        "colab_type": "code",
        "colab": {}
      },
      "source": [
        "class Autoencoder():\n",
        "    def __init__(self):\n",
        "        self.img_rows = imdim\n",
        "        self.img_cols = imdim\n",
        "        self.channels = 1\n",
        "        self.img_shape = (self.img_rows, self.img_cols, self.channels)\n",
        "        \n",
        "        optimizer = Adam(lr=0.0005)\n",
        "        optimizer = SGD(lr=0.0001, nesterov=False)\n",
        "        \n",
        "        self.autoencoder_model = self.build_model()\n",
        "        #self.autoencoder_model.compile(loss='mean_squared_error', optimizer=RMSprop())\n",
        "        self.autoencoder_model.compile(loss='binary_crossentropy', optimizer=optimizer)\n",
        "        self.autoencoder_model.summary()\n",
        "    \n",
        "    def build_model(self):\n",
        "        input_layer = Input(shape=self.img_shape)\n",
        "        \n",
        "        x = Conv2D(64, (3, 3), activation='relu', padding='same')(input_layer)\n",
        "        #x = MaxPooling2D((2, 2), padding='same')(x)\n",
        "        x = Conv2D(32, (3, 3), activation='relu', padding='same')(x)\n",
        "        #x = MaxPooling2D((2, 2), padding='same')(x)\n",
        "        x = Conv2D(16, (3, 3), activation='relu', padding='same')(x)\n",
        "        #x = MaxPooling2D((2, 2), padding='same')(x)\n",
        "        #encoded = MaxPooling2D((2, 2), padding='same')(x)\n",
        "\n",
        "        # at this point the representation is compressed\n",
        "\n",
        "        #x = Conv2D(8, (3, 3), activation='relu', padding='same')(encoded)\n",
        "        x = Conv2D(16, (3, 3), activation='relu', padding='same')(x)\n",
        "        #x = UpSampling2D((2, 2))(x)\n",
        "        x = Conv2D(32, (3, 3), activation='relu', padding='same')(x)\n",
        "        #x = UpSampling2D((2, 2))(x)\n",
        "        x = Conv2D(64, (3, 3), activation='relu', padding='same')(x)\n",
        "        #x = UpSampling2D((2, 2))(x)\n",
        "        output_layer = Conv2D(1, (3, 3), activation='sigmoid', padding='same')(x)\n",
        "        \n",
        "        '''\n",
        "        # encoder\n",
        "        h = Conv2D(64, (3, 3), activation='relu', padding='same')(input_layer) #28 x 28 x 32\n",
        "        h = MaxPooling2D(pool_size=(2, 2))(h) #14 x 14 x 32\n",
        "        #h = Conv2D(64, (3, 3), activation='relu', padding='same')(h) #14 x 14 x 64\n",
        "        #h = MaxPooling2D(pool_size=(2, 2))(h) #7 x 7 x 64\n",
        "        #h = Conv2D(128, (3, 3), activation='relu', padding='same')(h) #7 x 7 x 128 (small and thick)\n",
        "\n",
        "        #decoder\n",
        "        #h = Conv2D(128, (3, 3), activation='relu', padding='same')(h) #7 x 7 x 128\n",
        "        #h = UpSampling2D((2,2))(h) # 14 x 14 x 128\n",
        "        #h = Conv2D(64, (3, 3), activation='relu', padding='same')(h) # 14 x 14 x 64\n",
        "        #h = UpSampling2D((2,2))(h) # 28 x 28 x 64\n",
        "        h = Conv2D(32, (3, 3), activation='relu', padding='same')(h) # 14 x 14 x 64\n",
        "        h = UpSampling2D((2,2))(h) # 28 x 28 x 64\n",
        "        output_layer = Conv2D(1, (3, 3), activation='sigmoid', padding='same')(h) # 28 x 28 x 1\n",
        "        '''\n",
        "        \n",
        "        return Model(input_layer, output_layer)\n",
        "    \n",
        "    def train_model(self, x_train, y_train, x_val, y_val, epochs, batch_size=20):\n",
        "        early_stopping = EarlyStopping(monitor='val_loss',\n",
        "                                       min_delta=0,\n",
        "                                       patience=5,\n",
        "                                       verbose=1, \n",
        "                                       mode='auto')\n",
        "        history = self.autoencoder_model.fit(x_train, y_train,\n",
        "                                             batch_size=batch_size,\n",
        "                                             epochs=epochs,\n",
        "                                             validation_data=(x_val, y_val),\n",
        "                                             callbacks=[early_stopping])\n",
        "        plt.plot(history.history['loss'])\n",
        "        plt.plot(history.history['val_loss'])\n",
        "        plt.title('Model loss')\n",
        "        plt.ylabel('Loss')\n",
        "        plt.xlabel('Epoch')\n",
        "        plt.legend(['Train', 'Test'], loc='upper left')\n",
        "        plt.show()\n",
        "    \n",
        "    def eval_model(self, x_test):\n",
        "        preds = self.autoencoder_model.predict(x_test)\n",
        "        return preds"
      ],
      "execution_count": 0,
      "outputs": []
    },
    {
      "cell_type": "code",
      "metadata": {
        "id": "AS9oXJ9e5KrT",
        "colab_type": "code",
        "outputId": "c8eaef29-be8d-4438-d6d1-113e9e92c5df",
        "colab": {
          "base_uri": "https://localhost:8080/",
          "height": 1000
        }
      },
      "source": [
        "'''\n",
        "x_train_reshaped = x_train\n",
        "x_test_reshaped = x_test\n",
        "\n",
        "\n",
        "noise_factor = 0.01 \n",
        "x_train_noisy = x_train_reshaped + noise_factor * np.random.normal(loc=0.0, scale=1.0, size=x_train_reshaped.shape) \n",
        "x_test_noisy = x_test_reshaped + noise_factor * np.random.normal(loc=0.0, scale=1.0, size=x_test_reshaped.shape) \n",
        "x_train_noisy = np.clip(x_train_noisy, 0., 1.) \n",
        "x_test_noisy = np.clip(x_test_noisy, 0., 1.)\n",
        "'''\n",
        "\n",
        "ae = Autoencoder()\n",
        "#ae.train_model(x_train_noisy, y_train, x_test_noisy, y_test, epochs=50, batch_size=32)\n",
        "ae.train_model(x_train, y_train, x_test, y_test, epochs=50, batch_size=64)\n",
        "\n",
        "encoded_imgs = ae.eval_model(x_test)\n",
        "decoded_imgs = ae.eval_model(encoded_imgs)\n",
        "\n",
        "plot_results(x_test, decoded_imgs)"
      ],
      "execution_count": 91,
      "outputs": [
        {
          "output_type": "stream",
          "text": [
            "_________________________________________________________________\n",
            "Layer (type)                 Output Shape              Param #   \n",
            "=================================================================\n",
            "input_40 (InputLayer)        (None, 100, 100, 1)       0         \n",
            "_________________________________________________________________\n",
            "conv2d_212 (Conv2D)          (None, 100, 100, 64)      640       \n",
            "_________________________________________________________________\n",
            "conv2d_213 (Conv2D)          (None, 100, 100, 32)      18464     \n",
            "_________________________________________________________________\n",
            "conv2d_214 (Conv2D)          (None, 100, 100, 16)      4624      \n",
            "_________________________________________________________________\n",
            "conv2d_215 (Conv2D)          (None, 100, 100, 16)      2320      \n",
            "_________________________________________________________________\n",
            "conv2d_216 (Conv2D)          (None, 100, 100, 32)      4640      \n",
            "_________________________________________________________________\n",
            "conv2d_217 (Conv2D)          (None, 100, 100, 64)      18496     \n",
            "_________________________________________________________________\n",
            "conv2d_218 (Conv2D)          (None, 100, 100, 1)       577       \n",
            "=================================================================\n",
            "Total params: 49,761\n",
            "Trainable params: 49,761\n",
            "Non-trainable params: 0\n",
            "_________________________________________________________________\n",
            "Train on 1164 samples, validate on 292 samples\n",
            "Epoch 1/50\n",
            "1164/1164 [==============================] - 6s 6ms/step - loss: -5.4507 - val_loss: -9.4948\n",
            "Epoch 2/50\n",
            "1164/1164 [==============================] - 2s 2ms/step - loss: -10.8628 - val_loss: -9.6643\n",
            "Epoch 3/50\n",
            "1164/1164 [==============================] - 2s 2ms/step - loss: -10.9479 - val_loss: -9.7516\n",
            "Epoch 4/50\n",
            "1164/1164 [==============================] - 2s 2ms/step - loss: -11.0026 - val_loss: -9.8277\n",
            "Epoch 5/50\n",
            "1164/1164 [==============================] - 2s 2ms/step - loss: -11.0490 - val_loss: -9.8921\n",
            "Epoch 6/50\n",
            "1164/1164 [==============================] - 2s 2ms/step - loss: -11.0916 - val_loss: -9.9538\n",
            "Epoch 7/50\n",
            "1164/1164 [==============================] - 2s 2ms/step - loss: -11.1297 - val_loss: -9.9994\n",
            "Epoch 8/50\n",
            "1164/1164 [==============================] - 2s 2ms/step - loss: -11.1541 - val_loss: -10.0289\n",
            "Epoch 9/50\n",
            "1164/1164 [==============================] - 2s 2ms/step - loss: -11.1687 - val_loss: -10.0455\n",
            "Epoch 10/50\n",
            "1164/1164 [==============================] - 2s 2ms/step - loss: -11.1772 - val_loss: -10.0566\n",
            "Epoch 11/50\n",
            "1164/1164 [==============================] - 2s 2ms/step - loss: -11.1833 - val_loss: -10.0647\n",
            "Epoch 12/50\n",
            "1164/1164 [==============================] - 2s 2ms/step - loss: -11.1873 - val_loss: -10.0703\n",
            "Epoch 13/50\n",
            "1164/1164 [==============================] - 2s 2ms/step - loss: -11.1906 - val_loss: -10.0746\n",
            "Epoch 14/50\n",
            "1164/1164 [==============================] - 2s 2ms/step - loss: -11.1931 - val_loss: -10.0788\n",
            "Epoch 15/50\n",
            "1164/1164 [==============================] - 2s 2ms/step - loss: -11.1950 - val_loss: -10.0819\n",
            "Epoch 16/50\n",
            "1164/1164 [==============================] - 2s 2ms/step - loss: -11.1964 - val_loss: -10.0838\n",
            "Epoch 17/50\n",
            "1164/1164 [==============================] - 2s 2ms/step - loss: -11.1975 - val_loss: -10.0859\n",
            "Epoch 18/50\n",
            "1164/1164 [==============================] - 2s 2ms/step - loss: -11.1986 - val_loss: -10.0875\n",
            "Epoch 19/50\n",
            "1164/1164 [==============================] - 2s 2ms/step - loss: -11.1993 - val_loss: -10.0887\n",
            "Epoch 20/50\n",
            "1164/1164 [==============================] - 2s 2ms/step - loss: -11.2002 - val_loss: -10.0901\n",
            "Epoch 21/50\n",
            "1164/1164 [==============================] - 2s 2ms/step - loss: -11.2007 - val_loss: -10.0909\n",
            "Epoch 22/50\n",
            "1164/1164 [==============================] - 2s 2ms/step - loss: -11.2014 - val_loss: -10.0918\n",
            "Epoch 23/50\n",
            "1164/1164 [==============================] - 2s 2ms/step - loss: -11.2019 - val_loss: -10.0927\n",
            "Epoch 24/50\n",
            "1164/1164 [==============================] - 2s 2ms/step - loss: -11.2023 - val_loss: -10.0931\n",
            "Epoch 25/50\n",
            "1164/1164 [==============================] - 2s 2ms/step - loss: -11.2029 - val_loss: -10.0940\n",
            "Epoch 26/50\n",
            "1164/1164 [==============================] - 2s 2ms/step - loss: -11.2034 - val_loss: -10.0945\n",
            "Epoch 27/50\n",
            "1164/1164 [==============================] - 2s 2ms/step - loss: -11.2040 - val_loss: -10.0954\n",
            "Epoch 28/50\n",
            "1164/1164 [==============================] - 2s 2ms/step - loss: -11.2045 - val_loss: -10.0960\n",
            "Epoch 29/50\n",
            "1164/1164 [==============================] - 2s 2ms/step - loss: -11.2050 - val_loss: -10.0964\n",
            "Epoch 30/50\n",
            "1164/1164 [==============================] - 2s 2ms/step - loss: -11.2054 - val_loss: -10.0978\n",
            "Epoch 31/50\n",
            "1164/1164 [==============================] - 2s 2ms/step - loss: -11.2060 - val_loss: -10.0984\n",
            "Epoch 32/50\n",
            "1164/1164 [==============================] - 2s 2ms/step - loss: -11.2065 - val_loss: -10.0992\n",
            "Epoch 33/50\n",
            "1164/1164 [==============================] - 2s 2ms/step - loss: -11.2069 - val_loss: -10.0988\n",
            "Epoch 34/50\n",
            "1164/1164 [==============================] - 2s 2ms/step - loss: -11.2074 - val_loss: -10.0991\n",
            "Epoch 35/50\n",
            "1164/1164 [==============================] - 2s 2ms/step - loss: -11.2080 - val_loss: -10.0999\n",
            "Epoch 36/50\n",
            "1164/1164 [==============================] - 2s 2ms/step - loss: -11.2086 - val_loss: -10.1001\n",
            "Epoch 37/50\n",
            "1164/1164 [==============================] - 2s 2ms/step - loss: -11.2091 - val_loss: -10.1005\n",
            "Epoch 38/50\n",
            "1164/1164 [==============================] - 2s 2ms/step - loss: -11.2096 - val_loss: -10.1012\n",
            "Epoch 39/50\n",
            "1164/1164 [==============================] - 2s 2ms/step - loss: -11.2103 - val_loss: -10.1023\n",
            "Epoch 40/50\n",
            "1164/1164 [==============================] - 2s 2ms/step - loss: -11.2106 - val_loss: -10.1025\n",
            "Epoch 41/50\n",
            "1164/1164 [==============================] - 2s 2ms/step - loss: -11.2111 - val_loss: -10.1029\n",
            "Epoch 42/50\n",
            "1164/1164 [==============================] - 2s 2ms/step - loss: -11.2116 - val_loss: -10.1033\n",
            "Epoch 43/50\n",
            "1164/1164 [==============================] - 2s 2ms/step - loss: -11.2122 - val_loss: -10.1039\n",
            "Epoch 44/50\n",
            "1164/1164 [==============================] - 2s 2ms/step - loss: -11.2128 - val_loss: -10.1042\n",
            "Epoch 45/50\n",
            "1164/1164 [==============================] - 2s 2ms/step - loss: -11.2133 - val_loss: -10.1051\n",
            "Epoch 46/50\n",
            "1164/1164 [==============================] - 2s 2ms/step - loss: -11.2136 - val_loss: -10.1051\n",
            "Epoch 47/50\n",
            "1164/1164 [==============================] - 2s 2ms/step - loss: -11.2142 - val_loss: -10.1061\n",
            "Epoch 48/50\n",
            "1164/1164 [==============================] - 2s 2ms/step - loss: -11.2149 - val_loss: -10.1063\n",
            "Epoch 49/50\n",
            "1164/1164 [==============================] - 2s 2ms/step - loss: -11.2154 - val_loss: -10.1065\n",
            "Epoch 50/50\n",
            "1164/1164 [==============================] - 2s 2ms/step - loss: -11.2159 - val_loss: -10.1073\n"
          ],
          "name": "stdout"
        },
        {
          "output_type": "display_data",
          "data": {
            "image/png": "[encoded data removed]",
            "text/plain": [
              "<Figure size 432x288 with 1 Axes>"
            ]
          },
          "metadata": {
            "tags": []
          }
        },
        {
          "output_type": "display_data",
          "data": {
            "image/png": "[encoded data removed]",
            "text/plain": [
              "<Figure size 1440x288 with 20 Axes>"
            ]
          },
          "metadata": {
            "tags": []
          }
        }
      ]
    },
    {
      "cell_type": "code",
      "metadata": {
        "id": "qX_NauPVYMaD",
        "colab_type": "code",
        "colab": {}
      },
      "source": [
        ""
      ],
      "execution_count": 0,
      "outputs": []
    }
  ]
}