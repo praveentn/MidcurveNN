{
  "nbformat": 4,
  "nbformat_minor": 0,
  "metadata": {
    "accelerator": "GPU",
    "colab": {
      "name": "notebook_simple_encoderdecoder_2.ipynb",
      "version": "0.3.2",
      "provenance": [],
      "collapsed_sections": [],
      "toc_visible": true,
      "include_colab_link": true
    },
    "kernelspec": {
      "display_name": "Python 3",
      "language": "python",
      "name": "python3"
    }
  },
  "cells": [
    {
      "cell_type": "markdown",
      "metadata": {
        "id": "view-in-github",
        "colab_type": "text"
      },
      "source": [
        "<a href=\"https://colab.research.google.com/github/praveentn/MidcurveNN/blob/master/notebook_simple_encoderdecoder_2.ipynb\" target=\"_parent\"><img src=\"https://colab.research.google.com/assets/colab-badge.svg\" alt=\"Open In Colab\"/></a>"
      ]
    },
    {
      "cell_type": "code",
      "metadata": {
        "cellView": "form",
        "colab_type": "code",
        "id": "qmkj-80IHxnd",
        "colab": {}
      },
      "source": [
        "#@title Licensed under the Apache License, Version 2.0 (the \"License\");\n",
        "# you may not use this file except in compliance with the License.\n",
        "# You may obtain a copy of the License at\n",
        "#\n",
        "# https://www.apache.org/licenses/LICENSE-2.0\n",
        "#\n",
        "# Unless required by applicable law or agreed to in writing, software\n",
        "# distributed under the License is distributed on an \"AS IS\" BASIS,\n",
        "# WITHOUT WARRANTIES OR CONDITIONS OF ANY KIND, either express or implied.\n",
        "# See the License for the specific language governing permissions and\n",
        "# limitations under the License."
      ],
      "execution_count": 0,
      "outputs": []
    },
    {
      "cell_type": "markdown",
      "metadata": {
        "colab_type": "text",
        "id": "_xnMOsbqHz61"
      },
      "source": [
        "# Simple EncoderDecoder"
      ]
    },
    {
      "cell_type": "code",
      "metadata": {
        "id": "nwHkho30-ytC",
        "colab_type": "code",
        "outputId": "a32a80c0-52a1-4f33-81f7-e3cc6b86228a",
        "colab": {
          "base_uri": "https://localhost:8080/",
          "height": 68
        }
      },
      "source": [
        "# mount google drive & set working directory\n",
        "# requires auth (click on url & copy token into text box when prompted)\n",
        "from google.colab import drive\n",
        "drive.mount(\"/content/gdrive\")\n",
        "\n",
        "import os\n",
        "print(os.getcwd())\n",
        "\n",
        "os.chdir('/content/gdrive/My Drive/Colab Notebooks/MidcurveNN')\n",
        "!pwd"
      ],
      "execution_count": 1,
      "outputs": [
        {
          "output_type": "stream",
          "text": [
            "Drive already mounted at /content/gdrive; to attempt to forcibly remount, call drive.mount(\"/content/gdrive\", force_remount=True).\n",
            "/content\n",
            "/content/gdrive/My Drive/Colab Notebooks/MidcurveNN\n"
          ],
          "name": "stdout"
        }
      ]
    },
    {
      "cell_type": "markdown",
      "metadata": {
        "id": "Uz7Wpotd-oFf",
        "colab_type": "text"
      },
      "source": [
        "## Installations"
      ]
    },
    {
      "cell_type": "code",
      "metadata": {
        "id": "YeapgX0p-oFg",
        "colab_type": "code",
        "colab": {}
      },
      "source": [
        "# requirements = \"\"\"\n",
        "# keras\n",
        "# git+https://www.github.com/keras-team/keras-contrib.git\n",
        "# matplotlib\n",
        "# numpy\n",
        "# scipy\n",
        "# pillow\n",
        "# #urllib\n",
        "# #skimage\n",
        "# scikit-image\n",
        "# #gzip\n",
        "# #pickle\n",
        "# \"\"\"\n",
        "# %store requirements > requirements.txt"
      ],
      "execution_count": 0,
      "outputs": []
    },
    {
      "cell_type": "code",
      "metadata": {
        "id": "IoRU4Ake-oFj",
        "colab_type": "code",
        "colab": {
          "base_uri": "https://localhost:8080/",
          "height": 255
        },
        "outputId": "43cd52ba-f876-43b5-a442-38725881eb96"
      },
      "source": [
        "# !pip install -r requirements.txt\n",
        "!pip install drawSvg"
      ],
      "execution_count": 2,
      "outputs": [
        {
          "output_type": "stream",
          "text": [
            "Requirement already satisfied: drawSvg in /usr/local/lib/python3.6/dist-packages (1.2.2)\n",
            "Requirement already satisfied: imageio in /usr/local/lib/python3.6/dist-packages (from drawSvg) (2.4.1)\n",
            "Requirement already satisfied: numpy in /usr/local/lib/python3.6/dist-packages (from drawSvg) (1.16.4)\n",
            "Requirement already satisfied: cairoSVG in /usr/local/lib/python3.6/dist-packages (from drawSvg) (2.4.0)\n",
            "Requirement already satisfied: pillow in /usr/local/lib/python3.6/dist-packages (from imageio->drawSvg) (4.3.0)\n",
            "Requirement already satisfied: cssselect2 in /usr/local/lib/python3.6/dist-packages (from cairoSVG->drawSvg) (0.2.1)\n",
            "Requirement already satisfied: defusedxml in /usr/local/lib/python3.6/dist-packages (from cairoSVG->drawSvg) (0.6.0)\n",
            "Requirement already satisfied: tinycss2 in /usr/local/lib/python3.6/dist-packages (from cairoSVG->drawSvg) (1.0.2)\n",
            "Requirement already satisfied: cairocffi in /usr/local/lib/python3.6/dist-packages (from cairoSVG->drawSvg) (1.0.2)\n",
            "Requirement already satisfied: olefile in /usr/local/lib/python3.6/dist-packages (from pillow->imageio->drawSvg) (0.46)\n",
            "Requirement already satisfied: webencodings>=0.4 in /usr/local/lib/python3.6/dist-packages (from tinycss2->cairoSVG->drawSvg) (0.5.1)\n",
            "Requirement already satisfied: setuptools>=39.2.0 in /usr/local/lib/python3.6/dist-packages (from tinycss2->cairoSVG->drawSvg) (41.0.1)\n",
            "Requirement already satisfied: cffi>=1.1.0 in /usr/local/lib/python3.6/dist-packages (from cairocffi->cairoSVG->drawSvg) (1.12.3)\n",
            "Requirement already satisfied: pycparser in /usr/local/lib/python3.6/dist-packages (from cffi>=1.1.0->cairocffi->cairoSVG->drawSvg) (2.19)\n"
          ],
          "name": "stdout"
        }
      ]
    },
    {
      "cell_type": "markdown",
      "metadata": {
        "colab_type": "text",
        "id": "e1_Y75QXJS6h"
      },
      "source": [
        "## Import TensorFlow and other libraries"
      ]
    },
    {
      "cell_type": "code",
      "metadata": {
        "colab_type": "code",
        "id": "YfIk2es3hJEd",
        "colab": {
          "base_uri": "https://localhost:8080/",
          "height": 34
        },
        "outputId": "6c1fef5e-efb9-4bf8-ff10-156cfe6297c5"
      },
      "source": [
        "from __future__ import absolute_import, division, print_function, unicode_literals\n",
        "\n",
        "# !pip install tensorflow-gpu==2.0.0-alpha0\n",
        "import tensorflow as tf\n",
        "\n",
        "import os\n",
        "import time\n",
        "import matplotlib.pyplot as plt\n",
        "from IPython.display import clear_output\n",
        "from keras.preprocessing.image import img_to_array, load_img\n",
        "from random import shuffle\n",
        "\n",
        "from keras.layers import Input, Dense\n",
        "from keras.models import Model\n",
        "from keras import regularizers, optimizers\n",
        "from keras.optimizers import Adam\n",
        "from keras.callbacks import EarlyStopping\n",
        "from keras.optimizers import Adam,RMSprop,SGD\n",
        "from keras.models import Model, Sequential\n",
        "from keras.layers import Input, Dense, Conv2D, MaxPooling2D, UpSampling2D, Flatten, Reshape\n",
        "from keras import regularizers\n",
        "from keras.layers.normalization import BatchNormalization\n",
        "from keras.layers import Conv2D, MaxPooling2D, Dense, Dropout, Input, Flatten,AveragePooling2D,UpSampling2D\n",
        "from keras.preprocessing.image import img_to_array, load_img\n",
        "from sklearn.model_selection import train_test_split\n",
        "from random import shuffle\n",
        "\n",
        "from keras.models import Model, load_model\n",
        "from prepare_data import get_training_data\n",
        "#from prepare_plots import plot_results\n",
        "import random\n",
        "\n",
        "import PIL\n",
        "import json\n",
        "import numpy as np\n",
        "import sys\n",
        "np.set_printoptions(threshold=sys.maxsize)\n",
        "import matplotlib.pyplot as plt\n",
        "import matplotlib\n",
        "# matplotlib.use('TKAgg')\n",
        "%matplotlib inline"
      ],
      "execution_count": 3,
      "outputs": [
        {
          "output_type": "stream",
          "text": [
            "Using TensorFlow backend.\n"
          ],
          "name": "stderr"
        }
      ]
    },
    {
      "cell_type": "markdown",
      "metadata": {
        "colab_type": "text",
        "id": "iYn4MdZnKCey"
      },
      "source": [
        "## Load the dataset\n",
        "\n",
        "Steps to generate URL used below:\n",
        "- Say, your data files are in the directory called 'input'\n",
        "- Manually create a zip file, 'input.zip'\n",
        "- Sync it to gDrive\n",
        "- In gDrive, Share it with Public model, copy its share-able link\n",
        "- Use https://sites.google.com/site/gdocs2direct/ to generate corresponding Direct link\n",
        "- Paste it below"
      ]
    },
    {
      "cell_type": "code",
      "metadata": {
        "id": "_GMP7R7V-oFq",
        "colab_type": "code",
        "colab": {
          "base_uri": "https://localhost:8080/",
          "height": 51
        },
        "outputId": "d4f9910e-3fe8-49c5-aa73-dc17abac08c3"
      },
      "source": [
        "# test PIL installation\n",
        "import sys\n",
        "from PIL import Image\n",
        "sys.modules['Image'] = Image\n",
        "\n",
        "# both should point to same dir\n",
        "from PIL import Image\n",
        "print(Image.__file__)\n",
        "\n",
        "import Image\n",
        "print(Image.__file__)"
      ],
      "execution_count": 4,
      "outputs": [
        {
          "output_type": "stream",
          "text": [
            "/usr/local/lib/python3.6/dist-packages/PIL/Image.py\n",
            "/usr/local/lib/python3.6/dist-packages/PIL/Image.py\n"
          ],
          "name": "stdout"
        }
      ]
    },
    {
      "cell_type": "code",
      "metadata": {
        "id": "bcMdAhHH3TcT",
        "colab_type": "code",
        "colab": {
          "base_uri": "https://localhost:8080/",
          "height": 51
        },
        "outputId": "c9a97de4-7616-499c-9899-b236819b6fec"
      },
      "source": [
        "# _URL = 'https://drive.google.com/uc?export=download&id=16rqDFLO__WySSQGlAht0FEj2uJZg4M9M'\n",
        "\n",
        "# path_to_zip = tf.keras.utils.get_file('input.zip',\n",
        "#                                       origin=_URL,\n",
        "#                                       extract=True)\n",
        "\n",
        "# working directory\n",
        "wdir = os.getcwd()\n",
        "print(\"Working directory: \", wdir)\n",
        "\n",
        "# input_data_folder = os.path.join(os.path.dirname(path_to_zip), 'input')\n",
        "input_data_folder = wdir + \"/data/input\"\n",
        "input_data_folder = wdir + \"/data/images\"\n",
        "print(\"input data dir: \", input_data_folder)"
      ],
      "execution_count": 6,
      "outputs": [
        {
          "output_type": "stream",
          "text": [
            "Working directory:  /content/gdrive/My Drive/Colab Notebooks/MidcurveNN\n",
            "input data dir:  /content/gdrive/My Drive/Colab Notebooks/MidcurveNN/data/images\n"
          ],
          "name": "stdout"
        }
      ]
    },
    {
      "cell_type": "code",
      "metadata": {
        "id": "k1iMlSMN3UeK",
        "colab_type": "code",
        "colab": {
          "base_uri": "https://localhost:8080/",
          "height": 51
        },
        "outputId": "994f9e71-0bac-4643-83f8-68b651170490"
      },
      "source": [
        "import glob\n",
        "\n",
        "image_paths = glob.glob(input_data_folder + '/**/*.png', recursive=True)\n",
        "images = [os.path.basename(img_path) for img_path in image_paths]\n",
        "\n",
        "print(len(images))\n",
        "\n",
        "#images = os.listdir(input_data_folder)\n",
        "images[99]"
      ],
      "execution_count": 7,
      "outputs": [
        {
          "output_type": "stream",
          "text": [
            "3360\n"
          ],
          "name": "stdout"
        },
        {
          "output_type": "execute_result",
          "data": {
            "text/plain": [
              "'CapI_Midcurve_mirrored_0_translated_10_-20.png'"
            ]
          },
          "metadata": {
            "tags": []
          },
          "execution_count": 7
        }
      ]
    },
    {
      "cell_type": "code",
      "metadata": {
        "id": "MGmCaN2vFWyx",
        "colab_type": "code",
        "colab": {}
      },
      "source": [
        "imdim = 100"
      ],
      "execution_count": 0,
      "outputs": []
    },
    {
      "cell_type": "code",
      "metadata": {
        "id": "CO04QsT-3faS",
        "colab_type": "code",
        "colab": {
          "base_uri": "https://localhost:8080/",
          "height": 272
        },
        "outputId": "e374656b-4701-4b73-8848-07a40267fbb7"
      },
      "source": [
        "shapes = os.listdir('/content/gdrive/My Drive/Colab Notebooks/MidcurveNN/data/images')\n",
        "shapes"
      ],
      "execution_count": 9,
      "outputs": [
        {
          "output_type": "execute_result",
          "data": {
            "text/plain": [
              "['CapI',\n",
              " 'Plus',\n",
              " 'Iuvw',\n",
              " 'Luvw',\n",
              " 'SqLu',\n",
              " 'Tuvw',\n",
              " 'Vuvw',\n",
              " 'Sm_n',\n",
              " 'InvV',\n",
              " 'Parl',\n",
              " 'Trap',\n",
              " 'Stik',\n",
              " 'Usla',\n",
              " 'LapT',\n",
              " 'RelY']"
            ]
          },
          "metadata": {
            "tags": []
          },
          "execution_count": 9
        }
      ]
    },
    {
      "cell_type": "code",
      "metadata": {
        "id": "MrYBelpQ-oFy",
        "colab_type": "code",
        "colab": {}
      },
      "source": [
        "def read_input_image_pairs(datafolder=input_data_folder):\n",
        "    profile_pngs = []\n",
        "    midcurve_pngs = []\n",
        "    for file in os.listdir(datafolder):\n",
        "        fullpath = os.path.join(datafolder, file)\n",
        "        if os.path.isdir(fullpath):\n",
        "            continue\n",
        "        if file.endswith(\".png\"):\n",
        "            if file.find(\"Profile\") != -1:\n",
        "                profile_pngs.append(fullpath)\n",
        "            if file.find(\"Midcurve\") != -1:\n",
        "                midcurve_pngs.append(fullpath)\n",
        "    profile_pngs = sorted(profile_pngs)\n",
        "    midcurve_pngs = sorted(midcurve_pngs)\n",
        "    return profile_pngs,midcurve_pngs"
      ],
      "execution_count": 0,
      "outputs": []
    },
    {
      "cell_type": "code",
      "metadata": {
        "colab_type": "code",
        "id": "2CbTEt448b4R",
        "colab": {}
      },
      "source": [
        "def get_training_data(datafolder=input_data_folder):\n",
        "    profile_pngs,midcurve_pngs = read_input_image_pairs(datafolder)\n",
        "    \n",
        "    profile_pngs_objs = [img_to_array(load_img(f, color_mode='rgba', target_size=(imdim, imdim))) for f in profile_pngs ]\n",
        "    midcurve_pngs_objs = [img_to_array(load_img(f, color_mode='rgba', target_size=(imdim, imdim))) for f in midcurve_pngs]\n",
        "\n",
        "#     profile_pngs_objs = np.array([x.reshape((1,) + x.shape) for x in profile_pngs_objs])\n",
        "#     midcurve_pngs_objs = np.array([x.reshape((1,) + x.shape) for x in midcurve_pngs_objs])\n",
        "\n",
        "    profile_pngs_gray_objs = [x[:,:,3] for x in profile_pngs_objs]\n",
        "    midcurve_pngs_gray_objs =[x[:,:,3] for x in midcurve_pngs_objs]\n",
        "    \n",
        "#     profile_pngs_gray_objs = [np.where(x>128, 0, 1) for x in profile_pngs_gray_objs]\n",
        "#     midcurve_pngs_gray_objs =[np.where(x>128, 0, 1) for x in midcurve_pngs_gray_objs]\n",
        "        \n",
        "    # shufle them\n",
        "    zipped_profiles_midcurves = [(p,m) for p,m in zip(profile_pngs_gray_objs,midcurve_pngs_gray_objs)]\n",
        "    shuffle(zipped_profiles_midcurves)\n",
        "    profile_pngs_gray_objs, midcurve_pngs_gray_objs = zip(*zipped_profiles_midcurves)\n",
        "    \n",
        "    return profile_pngs_gray_objs, midcurve_pngs_gray_objs"
      ],
      "execution_count": 0,
      "outputs": []
    },
    {
      "cell_type": "code",
      "metadata": {
        "id": "UgR0H_-d4Mvq",
        "colab_type": "code",
        "colab": {
          "base_uri": "https://localhost:8080/",
          "height": 527
        },
        "outputId": "3689afa1-3301-43b5-bbd3-3657a81c5ba0"
      },
      "source": [
        "profile_pngs_objs = ()\n",
        "midcurve_pngs_objs = ()\n",
        "\n",
        "for shape in shapes:\n",
        "    print(shape)\n",
        "    tp, tm = get_training_data(os.path.join(input_data_folder, shape))\n",
        "    profile_pngs_objs += tp\n",
        "    midcurve_pngs_objs += tm\n",
        "    print(len(profile_pngs_objs), len(midcurve_pngs_objs))"
      ],
      "execution_count": 12,
      "outputs": [
        {
          "output_type": "stream",
          "text": [
            "CapI\n",
            "112 112\n",
            "Plus\n",
            "224 224\n",
            "Iuvw\n",
            "336 336\n",
            "Luvw\n",
            "448 448\n",
            "SqLu\n",
            "560 560\n",
            "Tuvw\n",
            "672 672\n",
            "Vuvw\n",
            "784 784\n",
            "Sm_n\n",
            "896 896\n",
            "InvV\n",
            "1008 1008\n",
            "Parl\n",
            "1120 1120\n",
            "Trap\n",
            "1232 1232\n",
            "Stik\n",
            "1344 1344\n",
            "Usla\n",
            "1456 1456\n",
            "LapT\n",
            "1568 1568\n",
            "RelY\n",
            "1680 1680\n"
          ],
          "name": "stdout"
        }
      ]
    },
    {
      "cell_type": "code",
      "metadata": {
        "colab_type": "code",
        "id": "4OLHMpsQ5aOv",
        "colab": {}
      },
      "source": [
        "#profile_pngs_objs, midcurve_pngs_objs = get_training_data()"
      ],
      "execution_count": 0,
      "outputs": []
    },
    {
      "cell_type": "code",
      "metadata": {
        "id": "gogvpFi9-oF5",
        "colab_type": "code",
        "colab": {}
      },
      "source": [
        "def plot_results(original_imgs,computed_imgs):\n",
        "    n = 10  # how many digits we will display\n",
        "    plt.figure(figsize=(20, 4))\n",
        "    for i in range(n):\n",
        "        # display original\n",
        "        ax = plt.subplot(2, n, i + 1)\n",
        "        plt.imshow(original_imgs[i].reshape(100, 100),cmap='gray_r')\n",
        "#         plt.gray()\n",
        "        ax.get_xaxis().set_visible(False)\n",
        "        ax.get_yaxis().set_visible(False)\n",
        "    \n",
        "        # display reconstruction\n",
        "        ax = plt.subplot(2, n, i + 1 + n)\n",
        "        plt.imshow(computed_imgs[i].reshape(100, 100),cmap='gray_r')\n",
        "#         plt.gray()\n",
        "        ax.get_xaxis().set_visible(False)\n",
        "        ax.get_yaxis().set_visible(False)\n",
        "    plt.show()"
      ],
      "execution_count": 0,
      "outputs": []
    },
    {
      "cell_type": "code",
      "metadata": {
        "id": "YT489k6k-oF8",
        "colab_type": "code",
        "colab": {
          "base_uri": "https://localhost:8080/",
          "height": 244
        },
        "outputId": "e1629ec5-f03c-4b21-f26d-f10655b622f6"
      },
      "source": [
        "plot_results(profile_pngs_objs, midcurve_pngs_objs)"
      ],
      "execution_count": 15,
      "outputs": [
        {
          "output_type": "display_data",
          "data": {
            "image/png": "[encoded data removed]",
            "text/plain": [
              "<Figure size 1440x288 with 20 Axes>"
            ]
          },
          "metadata": {
            "tags": []
          }
        }
      ]
    },
    {
      "cell_type": "code",
      "metadata": {
        "id": "EEgxZ1WD-oGD",
        "colab_type": "code",
        "colab": {}
      },
      "source": [
        "class simple_encoderdecoder:\n",
        "    def __init__(self):\n",
        "        self.encoding_dim = 100\n",
        "        self.input_dim = 10000\n",
        "        self.epochs = 50\n",
        "        self.autoencoder_model_pkl = \"models/autoencoder_model.pkl\"\n",
        "        self.encoder_model_pkl = \"models/encoder_model.pkl\"\n",
        "        self.decoder_model_pkl = \"models/decoder_model.pkl\"\n",
        "                \n",
        "    def process_images(self,grayobjs):\n",
        "        flat_objs = [x.reshape(self.input_dim) for x in grayobjs]\n",
        "        pngs_objs = np.array(flat_objs)\n",
        "        return pngs_objs\n",
        "\n",
        "    def train(self,\n",
        "            profile_pngs_gray_objs, \n",
        "            midcurve_pngs_gray_objs):\n",
        "        \n",
        "        if not os.path.exists(self.autoencoder_model_pkl):\n",
        "            # this is our input placeholder\n",
        "            input_img = Input(shape=(self.input_dim,))\n",
        "            \n",
        "            # \"encoded\" is the encoded representation of the input\n",
        "            encoded = Dense(self.encoding_dim, activation='relu',activity_regularizer=regularizers.l1(10e-5))(input_img)\n",
        "            # \"decoded\" is the lossy reconstruction of the input\n",
        "            decoded = Dense(self.input_dim, activation='sigmoid')(encoded) \n",
        "            \n",
        "            # Model 1: Full AutoEncoder, includes both encoder single dense layer and decoder single dense layer. \n",
        "            # This model maps an input to its reconstruction\n",
        "            self.autoencoder = Model(input_img, decoded)\n",
        "                    \n",
        "            # Model 2: a separate encoder model: -------------------\n",
        "            # this model maps an input to its encoded representation\n",
        "            self.encoder = Model(input_img, encoded)\n",
        "            \n",
        "            # Model 3: a separate encoder model: -------------------\n",
        "            # create a placeholder for an encoded (32-dimensional) input\n",
        "            encoded_input = Input(shape=(self.encoding_dim,))\n",
        "            # retrieve the last layer of the autoencoder model\n",
        "            decoder_layer = self.autoencoder.layers[-1]\n",
        "            # create the decoder model\n",
        "            self.decoder = Model(encoded_input, decoder_layer(encoded_input))\n",
        "            \n",
        "            # Compilation of Autoencoder (only)\n",
        "            self.autoencoder.compile(optimizer='adadelta', loss='binary_crossentropy')\n",
        "            \n",
        "            profile_pngs_objs = self.process_images(profile_pngs_gray_objs)\n",
        "            midcurve_pngs_objs = self.process_images(midcurve_pngs_gray_objs)\n",
        "                \n",
        "            self.x = profile_pngs_objs\n",
        "            self.y = midcurve_pngs_objs\n",
        "            self.autoencoder.fit(self.x, self.y,\n",
        "                        epochs=self.epochs,\n",
        "                        batch_size=5,\n",
        "                        shuffle=True)                \n",
        "            # Save models\n",
        "            #self.autoencoder.save(self.autoencoder_model_pkl)\n",
        "            #self.encoder.save(self.encoder_model_pkl)\n",
        "            #self.decoder.save(self.decoder_model_pkl)  \n",
        "        else:\n",
        "            # Save models\n",
        "            #self.autoencoder = load_model(self.autoencoder_model_pkl)\n",
        "            #self.encoder= load_model(self.encoder_model_pkl)\n",
        "            #self.decoder = load_model(self.decoder_model_pkl)\n",
        "            print(\"pass...\")\n",
        "    \n",
        "    def predict(self, test_profile_images):\n",
        "        png_profile_images = self.process_images(test_profile_images)\n",
        "        encoded_imgs = self.encoder.predict(png_profile_images)\n",
        "        decoded_imgs = self.decoder.predict(encoded_imgs)    \n",
        "        return test_profile_images,decoded_imgs"
      ],
      "execution_count": 0,
      "outputs": []
    },
    {
      "cell_type": "code",
      "metadata": {
        "id": "Rp_A3YTfCWAJ",
        "colab_type": "code",
        "colab": {
          "base_uri": "https://localhost:8080/",
          "height": 1000
        },
        "outputId": "964c4a90-5326-493a-e5e5-e1fec55f9690"
      },
      "source": [
        "endec = simple_encoderdecoder()\n",
        "endec.train(profile_pngs_objs, midcurve_pngs_objs)"
      ],
      "execution_count": 17,
      "outputs": [
        {
          "output_type": "stream",
          "text": [
            "WARNING: Logging before flag parsing goes to stderr.\n",
            "W0819 10:40:50.716941 140510486640512 deprecation_wrapper.py:119] From /usr/local/lib/python3.6/dist-packages/keras/backend/tensorflow_backend.py:74: The name tf.get_default_graph is deprecated. Please use tf.compat.v1.get_default_graph instead.\n",
            "\n",
            "W0819 10:40:50.768358 140510486640512 deprecation_wrapper.py:119] From /usr/local/lib/python3.6/dist-packages/keras/backend/tensorflow_backend.py:517: The name tf.placeholder is deprecated. Please use tf.compat.v1.placeholder instead.\n",
            "\n",
            "W0819 10:40:50.778651 140510486640512 deprecation_wrapper.py:119] From /usr/local/lib/python3.6/dist-packages/keras/backend/tensorflow_backend.py:4138: The name tf.random_uniform is deprecated. Please use tf.random.uniform instead.\n",
            "\n",
            "W0819 10:40:50.824717 140510486640512 deprecation_wrapper.py:119] From /usr/local/lib/python3.6/dist-packages/keras/optimizers.py:790: The name tf.train.Optimizer is deprecated. Please use tf.compat.v1.train.Optimizer instead.\n",
            "\n",
            "W0819 10:40:50.844194 140510486640512 deprecation_wrapper.py:119] From /usr/local/lib/python3.6/dist-packages/keras/backend/tensorflow_backend.py:3376: The name tf.log is deprecated. Please use tf.math.log instead.\n",
            "\n",
            "W0819 10:40:50.852116 140510486640512 deprecation.py:323] From /usr/local/lib/python3.6/dist-packages/tensorflow/python/ops/nn_impl.py:180: add_dispatch_support.<locals>.wrapper (from tensorflow.python.ops.array_ops) is deprecated and will be removed in a future version.\n",
            "Instructions for updating:\n",
            "Use tf.where in 2.0, which has the same broadcast rule as np.where\n",
            "W0819 10:40:51.269687 140510486640512 deprecation_wrapper.py:119] From /usr/local/lib/python3.6/dist-packages/keras/backend/tensorflow_backend.py:986: The name tf.assign_add is deprecated. Please use tf.compat.v1.assign_add instead.\n",
            "\n"
          ],
          "name": "stderr"
        },
        {
          "output_type": "stream",
          "text": [
            "Epoch 1/50\n",
            "1680/1680 [==============================] - 6s 4ms/step - loss: -1.2725\n",
            "Epoch 2/50\n",
            "1680/1680 [==============================] - 2s 1ms/step - loss: -6.8555\n",
            "Epoch 3/50\n",
            "1680/1680 [==============================] - 2s 1ms/step - loss: -8.3972\n",
            "Epoch 4/50\n",
            "1680/1680 [==============================] - 2s 1ms/step - loss: -8.9005\n",
            "Epoch 5/50\n",
            "1680/1680 [==============================] - 2s 1ms/step - loss: -9.0552\n",
            "Epoch 6/50\n",
            "1680/1680 [==============================] - 2s 1ms/step - loss: -9.1085\n",
            "Epoch 7/50\n",
            "1680/1680 [==============================] - 2s 1ms/step - loss: -9.1343\n",
            "Epoch 8/50\n",
            "1680/1680 [==============================] - 2s 1ms/step - loss: -9.1621\n",
            "Epoch 9/50\n",
            "1680/1680 [==============================] - 2s 1ms/step - loss: -9.1338\n",
            "Epoch 10/50\n",
            "1680/1680 [==============================] - 2s 1ms/step - loss: -9.1495\n",
            "Epoch 11/50\n",
            "1680/1680 [==============================] - 2s 1ms/step - loss: -9.1551\n",
            "Epoch 12/50\n",
            "1680/1680 [==============================] - 2s 1ms/step - loss: -9.1642\n",
            "Epoch 13/50\n",
            "1680/1680 [==============================] - 2s 1ms/step - loss: -9.1637\n",
            "Epoch 14/50\n",
            "1680/1680 [==============================] - 2s 1ms/step - loss: -9.1671\n",
            "Epoch 15/50\n",
            "1680/1680 [==============================] - 2s 1ms/step - loss: -9.1212\n",
            "Epoch 16/50\n",
            "1680/1680 [==============================] - 2s 1ms/step - loss: -9.2013\n",
            "Epoch 17/50\n",
            "1680/1680 [==============================] - 2s 1ms/step - loss: -9.1596\n",
            "Epoch 18/50\n",
            "1680/1680 [==============================] - 2s 1ms/step - loss: -9.1569\n",
            "Epoch 19/50\n",
            "1680/1680 [==============================] - 2s 1ms/step - loss: -9.2094\n",
            "Epoch 20/50\n",
            "1680/1680 [==============================] - 2s 1ms/step - loss: -9.1918\n",
            "Epoch 21/50\n",
            "1680/1680 [==============================] - 2s 1ms/step - loss: -9.2042\n",
            "Epoch 22/50\n",
            "1680/1680 [==============================] - 2s 1ms/step - loss: -9.2085\n",
            "Epoch 23/50\n",
            "1680/1680 [==============================] - 2s 1ms/step - loss: -9.1626\n",
            "Epoch 24/50\n",
            "1680/1680 [==============================] - 2s 1ms/step - loss: -9.2131\n",
            "Epoch 25/50\n",
            "1680/1680 [==============================] - 2s 1ms/step - loss: -9.2039\n",
            "Epoch 26/50\n",
            "1680/1680 [==============================] - 2s 1ms/step - loss: -9.2296\n",
            "Epoch 27/50\n",
            "1680/1680 [==============================] - 2s 1ms/step - loss: -9.2092\n",
            "Epoch 28/50\n",
            "1680/1680 [==============================] - 2s 1ms/step - loss: -9.2475\n",
            "Epoch 29/50\n",
            "1680/1680 [==============================] - 2s 1ms/step - loss: -9.2185\n",
            "Epoch 30/50\n",
            "1680/1680 [==============================] - 2s 1ms/step - loss: -9.2487\n",
            "Epoch 31/50\n",
            "1680/1680 [==============================] - 2s 1ms/step - loss: -9.2128\n",
            "Epoch 32/50\n",
            "1680/1680 [==============================] - 2s 1ms/step - loss: -9.2327\n",
            "Epoch 33/50\n",
            "1680/1680 [==============================] - 2s 1ms/step - loss: -9.2148\n",
            "Epoch 34/50\n",
            "1680/1680 [==============================] - 2s 1ms/step - loss: -9.2805\n",
            "Epoch 35/50\n",
            "1680/1680 [==============================] - 2s 1ms/step - loss: -9.2100\n",
            "Epoch 36/50\n",
            "1680/1680 [==============================] - 2s 1ms/step - loss: -9.2599\n",
            "Epoch 37/50\n",
            "1680/1680 [==============================] - 2s 1ms/step - loss: -9.2484\n",
            "Epoch 38/50\n",
            "1680/1680 [==============================] - 2s 1ms/step - loss: -9.2499\n",
            "Epoch 39/50\n",
            "1680/1680 [==============================] - 2s 1ms/step - loss: -9.2301\n",
            "Epoch 40/50\n",
            "1680/1680 [==============================] - 2s 1ms/step - loss: -9.2743\n",
            "Epoch 41/50\n",
            "1680/1680 [==============================] - 2s 1ms/step - loss: -9.2502\n",
            "Epoch 42/50\n",
            "1680/1680 [==============================] - 2s 1ms/step - loss: -9.2706\n",
            "Epoch 43/50\n",
            "1680/1680 [==============================] - 2s 1ms/step - loss: -9.2498\n",
            "Epoch 44/50\n",
            "1680/1680 [==============================] - 2s 1ms/step - loss: -9.2919\n",
            "Epoch 45/50\n",
            "1680/1680 [==============================] - 2s 1ms/step - loss: -9.2482\n",
            "Epoch 46/50\n",
            "1680/1680 [==============================] - 2s 1ms/step - loss: -9.2671\n",
            "Epoch 47/50\n",
            "1680/1680 [==============================] - 2s 1ms/step - loss: -9.2907\n",
            "Epoch 48/50\n",
            "1680/1680 [==============================] - 2s 1ms/step - loss: -9.2639\n",
            "Epoch 49/50\n",
            "1680/1680 [==============================] - 2s 1ms/step - loss: -9.2550\n",
            "Epoch 50/50\n",
            "1680/1680 [==============================] - 2s 1ms/step - loss: -9.2861\n"
          ],
          "name": "stdout"
        }
      ]
    },
    {
      "cell_type": "code",
      "metadata": {
        "id": "6RxkuCP_EXkE",
        "colab_type": "code",
        "colab": {
          "base_uri": "https://localhost:8080/",
          "height": 244
        },
        "outputId": "5b04b699-1f44-4334-92f4-2a8ebeeff120"
      },
      "source": [
        "test_gray_images = random.sample(profile_pngs_objs, 10)\n",
        "original_profile_imgs, predicted_midcurve_imgs = endec.predict(test_gray_images)\n",
        "\n",
        "plot_results(original_profile_imgs, predicted_midcurve_imgs)"
      ],
      "execution_count": 18,
      "outputs": [
        {
          "output_type": "display_data",
          "data": {
            "image/png": "[encoded data removed]",
            "text/plain": [
              "<Figure size 1440x288 with 20 Axes>"
            ]
          },
          "metadata": {
            "tags": []
          }
        }
      ]
    },
    {
      "cell_type": "code",
      "metadata": {
        "id": "JMjHxZiKCyu5",
        "colab_type": "code",
        "colab": {
          "base_uri": "https://localhost:8080/",
          "height": 244
        },
        "outputId": "84c91899-7751-4bab-8991-e4dcc958741d"
      },
      "source": [
        "test_gray_images = random.sample(profile_pngs_objs, 10)\n",
        "original_profile_imgs, predicted_midcurve_imgs = endec.predict(test_gray_images)\n",
        "\n",
        "plot_results(original_profile_imgs, predicted_midcurve_imgs)"
      ],
      "execution_count": 19,
      "outputs": [
        {
          "output_type": "display_data",
          "data": {
            "image/png": "[encoded data removed]",
            "text/plain": [
              "<Figure size 1440x288 with 20 Axes>"
            ]
          },
          "metadata": {
            "tags": []
          }
        }
      ]
    },
    {
      "cell_type": "code",
      "metadata": {
        "id": "gt7ygs5deVBx",
        "colab_type": "code",
        "colab": {}
      },
      "source": [
        ""
      ],
      "execution_count": 0,
      "outputs": []
    }
  ]
}